{
 "cells": [
  {
   "cell_type": "code",
   "execution_count": 1,
   "metadata": {},
   "outputs": [
    {
     "data": {
      "application/vnd.jupyter.widget-view+json": {
       "model_id": "9b844779b74a46a9ae7af7e49b8f2ac4",
       "version_major": 2,
       "version_minor": 0
      },
      "text/plain": [
       "Fetching 11 files:   0%|          | 0/11 [00:00<?, ?it/s]"
      ]
     },
     "metadata": {},
     "output_type": "display_data"
    },
    {
     "name": "stderr",
     "output_type": "stream",
     "text": [
      "Replacing layers...: 100%|██████████| 32/32 [00:03<00:00, 10.59it/s]\n",
      "Fusing layers...: 100%|██████████| 32/32 [00:02<00:00, 11.18it/s]\n",
      "Special tokens have been added in the vocabulary, make sure the associated word embeddings are fine-tuned or trained.\n"
     ]
    }
   ],
   "source": [
    "\n",
    "from awq import AutoAWQForCausalLM\n",
    "from transformers import AutoTokenizer, TextStreamer\n",
    "\n",
    "quant_path = \"TheBloke/CapybaraHermes-2.5-Mistral-7B-AWQ\"\n",
    "\n",
    "# Load model\n",
    "model = AutoAWQForCausalLM.from_quantized(quant_path, fuse_layers=True)\n",
    "tokenizer = AutoTokenizer.from_pretrained(quant_path, trust_remote_code=True)"
   ]
  },
  {
   "cell_type": "code",
   "execution_count": 2,
   "metadata": {},
   "outputs": [],
   "source": [
    "\n",
    "\n",
    "# Convert prompt to tokens\n",
    "prompt_template = \"\"\"\\\n",
    "<|system|>\n",
    "</s>\n",
    "<|user|>\n",
    "{prompt}</s>\n",
    "<|assistant|>\"\"\"\n",
    "\n",
    "prompt = \"You're standing on the surface of the Earth. \"\\\n",
    "        \"You walk one mile south, one mile west and one mile north. \"\\\n",
    "        \"You end up exactly where you started. Where are you?\"\n",
    "\n",
    "tokens = tokenizer(\n",
    "    prompt_template.format(prompt=prompt),\n",
    "    return_tensors='pt'\n",
    ").input_ids.cuda()"
   ]
  },
  {
   "cell_type": "code",
   "execution_count": 3,
   "metadata": {},
   "outputs": [
    {
     "name": "stdout",
     "output_type": "stream",
     "text": [
      "tensor([[    1,   523, 28766,  6574, 28766, 28767,    13,     2, 28705,    13,\n",
      "         28789, 28766,  1838, 28766, 28767,    13,  1976, 28742,   267,  6328,\n",
      "           356,   272,  5439,   302,   272,  8599, 28723,   995,  2338,   624,\n",
      "         13677,  6287, 28725,   624, 13677,  7635,   304,   624, 13677,  6120,\n",
      "         28723,   995,   948,   582,  4668,   970,   368,  2774, 28723,  6926,\n",
      "           460,   368, 28804,     2, 28705,    13, 28789, 28766,   489, 11143,\n",
      "         28766, 28767,    13,  1976,   460,   438,   272,  4982,   302,   264,\n",
      "          9661,   395,   264,   624, 28733, 23881, 13630, 28723,   851,   349,\n",
      "          1096,   739]], device='cuda:0')\n",
      "CPU times: user 722 ms, sys: 82.4 ms, total: 804 ms\n",
      "Wall time: 800 ms\n"
     ]
    }
   ],
   "source": [
    "%%time\n",
    "\n",
    "# Generate output\n",
    "generation_output = model.generate(\n",
    "    tokens,\n",
    "    max_new_tokens = 20,\n",
    ")\n",
    "\n",
    "print(generation_output)"
   ]
  },
  {
   "cell_type": "code",
   "execution_count": 4,
   "metadata": {},
   "outputs": [
    {
     "name": "stdout",
     "output_type": "stream",
     "text": [
      "tensor([[    1,   523, 28766,  6574, 28766, 28767,    13,     2, 28705,    13,\n",
      "         28789, 28766,  1838, 28766, 28767,    13,  1976, 28742,   267,  6328,\n",
      "           356,   272,  5439,   302,   272,  8599, 28723,   995,  2338,   624,\n",
      "         13677,  6287, 28725,   624, 13677,  7635,   304,   624, 13677,  6120,\n",
      "         28723,   995,   948,   582,  4668,   970,   368,  2774, 28723,  6926,\n",
      "           460,   368, 28804,     2, 28705,    13, 28789, 28766,   489, 11143,\n",
      "         28766, 28767,    13,  1976,   460,   438,   272,  4982,   302,   264,\n",
      "          9661,   395,   264,   624, 28733, 23881, 13630, 28723,   851,   349,\n",
      "          1096,   739]], device='cuda:0')\n",
      "CPU times: user 459 ms, sys: 27 ms, total: 486 ms\n",
      "Wall time: 485 ms\n"
     ]
    }
   ],
   "source": [
    "%%time\n",
    "\n",
    "# Generate output\n",
    "generation_output = model.generate(\n",
    "    tokens,\n",
    "    max_new_tokens = 20,\n",
    "    num_beams = 2,\n",
    ")\n",
    "\n",
    "print(generation_output)"
   ]
  },
  {
   "cell_type": "code",
   "execution_count": null,
   "metadata": {},
   "outputs": [],
   "source": []
  }
 ],
 "metadata": {
  "kernelspec": {
   "display_name": "Python 3",
   "language": "python",
   "name": "python3"
  },
  "language_info": {
   "codemirror_mode": {
    "name": "ipython",
    "version": 3
   },
   "file_extension": ".py",
   "mimetype": "text/x-python",
   "name": "python",
   "nbconvert_exporter": "python",
   "pygments_lexer": "ipython3",
   "version": "3.10.12"
  }
 },
 "nbformat": 4,
 "nbformat_minor": 2
}
