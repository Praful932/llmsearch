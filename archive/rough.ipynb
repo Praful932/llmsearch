{
 "cells": [
  {
   "cell_type": "code",
   "execution_count": 1,
   "metadata": {},
   "outputs": [
    {
     "name": "stderr",
     "output_type": "stream",
     "text": [
      "/root/miniconda3/envs/llmsearch-env/lib/python3.10/site-packages/tqdm/auto.py:21: TqdmWarning: IProgress not found. Please update jupyter and ipywidgets. See https://ipywidgets.readthedocs.io/en/stable/user_install.html\n",
      "  from .autonotebook import tqdm as notebook_tqdm\n"
     ]
    },
    {
     "name": "stdout",
     "output_type": "stream",
     "text": [
      "Monkey Patching .generate function of `transformers` library\n"
     ]
    }
   ],
   "source": [
    "import sys\n",
    "\n",
    "sys.path.append('/workspace/llmsearch/')\n",
    "\n",
    "from llmsearch.utils.common_utils import json_load\n",
    "\n",
    "gsm8k_res = json_load('/workspace/llmsearch/examples/gsm-8k-best-params-150s-capybara-7b.json')"
   ]
  },
  {
   "cell_type": "code",
   "execution_count": 2,
   "metadata": {},
   "outputs": [],
   "source": [
    "import re\n",
    "\n",
    "from transformers import AutoTokenizer"
   ]
  },
  {
   "cell_type": "code",
   "execution_count": 4,
   "metadata": {},
   "outputs": [
    {
     "name": "stderr",
     "output_type": "stream",
     "text": [
      "/usr/local/lib/python3.10/dist-packages/huggingface_hub/file_download.py:1132: FutureWarning: `resume_download` is deprecated and will be removed in version 1.0.0. Downloads always resume when possible. If you want to force a new download, use `force_download=True`.\n",
      "  warnings.warn(\n",
      "Special tokens have been added in the vocabulary, make sure the associated word embeddings are fine-tuned or trained.\n"
     ]
    }
   ],
   "source": [
    "seed = 42\n",
    "batch_size = 1\n",
    "num_tune_samples = 150\n",
    "num_test_samples = 500\n",
    "model_id = \"TheBloke/CapybaraHermes-2.5-Mistral-7B-AWQ\"\n",
    "\n",
    "tokenizer = AutoTokenizer.from_pretrained(\n",
    "        model_id, local_files_only=False, legacy=False, use_fast=False\n",
    "    )\n",
    "tokenizer.pad_token = tokenizer.unk_token\n",
    "tokenizer.padding_side = \"left\"\n",
    "\n",
    "def standardize(s):\n",
    "    if s is None:\n",
    "        return s\n",
    "    s = s.replace(\",\", \"\")\n",
    "    s = s.replace(\"$\", \"\")\n",
    "    s = s.replace(\".00\", \"\")\n",
    "    if s.endswith(\".\"):\n",
    "        s = s[:-1]\n",
    "    return s.strip()\n",
    "\n",
    "def extract_answer_from_out(s):\n",
    "    pattern = re.compile(r\"The answer is ((\\d|\\-)((\\d|\\,|\\.)+)?\\d?)\")\n",
    "    pattern = re.compile(r\"The answer is ((\\d|\\-|\\$)((\\d|\\,|\\.)+)?\\d?)\")\n",
    "    match = pattern.search(s)\n",
    "    if match:\n",
    "        ret = match.group(1).strip()\n",
    "        return standardize(ret)\n",
    "    else:\n",
    "        return None\n",
    "\n",
    "import textwrap\n",
    "import datasets\n",
    "\n",
    "\n",
    "def load_dataset():\n",
    "\n",
    "    def preprocess_dataset(\n",
    "        dataset, tokenizer, pt, pt_cols, system_prompt, add_generation_prompt=True\n",
    "    ):\n",
    "\n",
    "        def wrapper(sample):\n",
    "            \"\"\"Takes in a sample, formats it using prompt template, applies chat template and returns the formatted string\"\"\"\n",
    "            messages = (\n",
    "                []\n",
    "                if system_prompt is None\n",
    "                else [{\"role\": \"system\", \"content\": system_prompt}]\n",
    "            )\n",
    "            formatted_pt = pt.format(**{pt_col: sample[pt_col] for pt_col in pt_cols})\n",
    "            messages.append(\n",
    "                {\n",
    "                    \"role\": \"user\",\n",
    "                    \"content\": formatted_pt,\n",
    "                }\n",
    "            )\n",
    "            formatted_pt_with_ct = tokenizer.apply_chat_template(\n",
    "                messages, tokenize=False, add_generation_prompt=add_generation_prompt\n",
    "            )\n",
    "            return formatted_pt_with_ct\n",
    "\n",
    "        def actual_input(sample):\n",
    "            \"\"\"Takes in a sample, formats it using prompt template, applies chat template and returns the formatted string\"\"\"\n",
    "            return sample[pt_cols[0]]\n",
    "\n",
    "        pt_dataset = dataset.map(\n",
    "            lambda sample: {\n",
    "                \"X\": wrapper(sample),\n",
    "                \"actual input\": actual_input(sample),\n",
    "            }\n",
    "        )\n",
    "\n",
    "        return pt_dataset\n",
    "\n",
    "\n",
    "    # 2-shot prompt template - https://github.com/EleutherAI/lm-evaluation-harness/blob/main/lm_eval/tasks/gsm8k/gsm8k-cot.yaml\n",
    "    pt = textwrap.dedent(\n",
    "    \"\"\"\\\n",
    "    Q: There are 15 trees in the grove. Grove workers will plant trees in the grove today. After they are done, there will be 21 trees. How many trees did the grove workers plant today?\n",
    "    A: There are 15 trees originally. Then there were 21 trees after some more were planted. So there must have been 21 - 15 = 6. The answer is 6.\n",
    "\n",
    "    Q: If there are 3 cars in the parking lot and 2 more cars arrive, how many cars are in the parking lot?\n",
    "    A: There are originally 3 cars. 2 more cars arrive. 3 + 2 = 5. The answer is 5.\n",
    "\n",
    "    Q: {question}\"\"\"\n",
    "    )\n",
    "    pt_cols = [\"question\"]\n",
    "    system_prompt = \"Solve the following math problems, end with The answer is\"\n",
    "    gsm8k_dataset = datasets.load_dataset(\"gsm8k\", \"main\")\n",
    "\n",
    "\n",
    "    processed_dataset = preprocess_dataset(\n",
    "        gsm8k_dataset[\"train\"],\n",
    "        tokenizer,\n",
    "        pt=pt,\n",
    "        pt_cols=pt_cols,\n",
    "        system_prompt=system_prompt,\n",
    "        add_generation_prompt=True,\n",
    "    )\n",
    "\n",
    "    shuffled_dataset = processed_dataset.shuffle(seed=seed)\n",
    "\n",
    "    samples_to_tune_on = shuffled_dataset.select(range(num_tune_samples))\n",
    "    remaining_indices = range(num_tune_samples, num_tune_samples + num_test_samples)\n",
    "    test_dataset = shuffled_dataset.select(remaining_indices)\n",
    "    return samples_to_tune_on, test_dataset\n",
    "\n"
   ]
  },
  {
   "cell_type": "code",
   "execution_count": 5,
   "metadata": {},
   "outputs": [
    {
     "ename": "NameError",
     "evalue": "name 'samples_to_tune_on' is not defined",
     "output_type": "error",
     "traceback": [
      "\u001b[0;31m---------------------------------------------------------------------------\u001b[0m",
      "\u001b[0;31mNameError\u001b[0m                                 Traceback (most recent call last)",
      "Cell \u001b[0;32mIn[5], line 1\u001b[0m\n\u001b[0;32m----> 1\u001b[0m \u001b[43msamples_to_tune_on\u001b[49m\n",
      "\u001b[0;31mNameError\u001b[0m: name 'samples_to_tune_on' is not defined"
     ]
    }
   ],
   "source": [
    "samples_to_tune_on"
   ]
  },
  {
   "cell_type": "code",
   "execution_count": null,
   "metadata": {},
   "outputs": [
    {
     "data": {
      "text/plain": [
       "dict_keys(['scores_before', 'scores_after', 'outputs_before', 'outputs_after', 'oos_scores_before', 'oos_scores_after', 'oos_outputs_before', 'oos_outputs_after', 'best_params'])"
      ]
     },
     "execution_count": 8,
     "metadata": {},
     "output_type": "execute_result"
    }
   ],
   "source": [
    "gsm8k_res.keys()"
   ]
  },
  {
   "cell_type": "code",
   "execution_count": null,
   "metadata": {},
   "outputs": [],
   "source": [
    "samples_to_tune_on,test_dataset = load_dataset()"
   ]
  },
  {
   "cell_type": "code",
   "execution_count": 12,
   "metadata": {},
   "outputs": [
    {
     "name": "stdout",
     "output_type": "stream",
     "text": [
      "4 40 4\n",
      "160 None 160\n",
      "1440 1360 1440\n",
      "1500 None 1500\n",
      "50 600 50\n",
      "40 28 40\n",
      "22 None 22\n",
      "21 12 21\n",
      "4000 1000 4000\n",
      "9800 None 9800\n",
      "10 2 10\n",
      "1 0 1\n",
      "3 8 3\n",
      "442 - 442\n",
      "14\n"
     ]
    }
   ],
   "source": [
    "examples = []\n",
    "\n",
    "# oos b4 44, after - 51\n",
    "# s b4 14, after - 10\n",
    "\n",
    "\n",
    "\n",
    "\n",
    "for oos_out_before, oos_out_after, y_true in zip(gsm8k_res['outputs_before'], gsm8k_res['outputs_after'], samples_to_tune_on['answer']):\n",
    "\n",
    "    y_t = standardize(y_true.split(\"####\")[-1].strip())\n",
    "    before = extract_answer_from_out(oos_out_before)\n",
    "    after = extract_answer_from_out(oos_out_after)\n",
    "\n",
    "    if y_t == before and y_t != after:\n",
    "        print(before, after, y_t)\n",
    "        examples.append({\n",
    "            'out_before' : oos_out_before,\n",
    "            'out_after' : oos_out_after,\n",
    "            'y_true' : y_t,\n",
    "\n",
    "            'extracted_before' : before,\n",
    "            'extracted_after' : after\n",
    "\n",
    "        })\n",
    "\n",
    "print(len(examples))\n"
   ]
  },
  {
   "cell_type": "code",
   "execution_count": 15,
   "metadata": {},
   "outputs": [
    {
     "name": "stdout",
     "output_type": "stream",
     "text": [
      "A: Emma starts with $100 in her account. She spends $8 each day for a week, which is 7 days. So she spends 8 * 7 = $56 during the week. She has $100 - $56 = $44 left in her account. She asks for as many $5 bills as her account can give her, which is $44 / $5 = 8 $5 bills. So she takes out 8 * $5 = $40 from her account. She leaves the remaining $44 - $40 = $4 in her account. The answer is $4.\n",
      "------------------------------\n",
      "A: Emma starts with $100 in her account. She spends $8 each day for a week, which is 8 * 7 = $56. After spending, she has $100 - 56 = $44 left in her account. She receives $5 bills, and each $5 bill is 5 dollars. To find out how many $5 bills she can get, divide the remaining amount by 5: 44 / 5 = 8.8. Since she can only receive whole $5 bills, she gets 8 of them. 8 * 5 = $40. The answer is $40 remains in her account.\n",
      "4 40\n",
      "\n",
      "\n",
      "\n",
      "******************************\n",
      "\n",
      "\n",
      "\n",
      "A: Let's denote the total number of books as x. We know that 35% of the books are for children, so 65% of the books are for adults (since 100% - 35% = 65%). We are also given that 104 books are for adults. So, we can set up the equation: 0.65x = 104. To find x, we can divide both sides by 0.65: x = 104 / 0.65 = 160. The answer is 160.\n",
      "------------------------------\n",
      "A: Let x be the total number of books in the library. If 35% of the books are for children, then 65% are for adults. We know that 104 books are for adults, which is 65% of the total number of books. So, we can set up the equation: 0.65x = 104. To find x, we divide both sides of the equation by 0.65: x = 104 / 0.65 ≈ 160. The answer is approximately 160.\n",
      "160 None\n",
      "\n",
      "\n",
      "\n",
      "******************************\n",
      "\n",
      "\n",
      "\n",
      "A: First, we need to determine how many floors have gates. Since there are 12 floors and every 3rd floor has a gate, there are 12 / 3 = 4 floors with gates.\n",
      "\n",
      "Next, we calculate the time it takes to go through each gate. Since it takes 2 minutes per gate and there are 4 gates, it takes 2 * 4 = 8 minutes to go through all the gates.\n",
      "\n",
      "Now, we need to convert the time spent at the gates to seconds. Since there are 60 seconds in a minute, it takes 8 * 60 = 480 seconds at the gates.\n",
      "\n",
      "Now, we need to calculate the time it takes to drive between floors. Since there are 12 floors and each floor is 800 feet away, the total distance to drive is 12 * 800 = 9600 feet. Since drivers drive at 10 feet per second, it takes 9600 / 10 = 960 seconds to drive between all floors.\n",
      "\n",
      "Finally, we add the time spent at the gates and the time spent driving between floors: 480 seconds (gates) + 960 seconds (driving) = 1440 seconds. The answer is 1440 seconds.\n",
      "------------------------------\n",
      "A: First, we need to determine how many floors have gates. There are 12 floors, and every 3rd floor has a gate, so there are 12 / 3 = 4 floors with gates.\n",
      "\n",
      "Next, we calculate the time it takes to go through each gate. Since it takes 2 minutes per gate, and there are 4 gates, it takes 2 * 4 = 8 minutes to go through all the gates. Convert 8 minutes to seconds: 8 * 60 = 480 seconds.\n",
      "\n",
      "Now, we calculate the total distance to drive from the top floor to the bottom floor. There are 11 floors (from the top floor to the bottom floor), and each floor is 800 feet, so the total distance is 11 * 800 = 8,800 feet. Since the drivers drive at 10 feet per second, it takes 8,800 / 10 = 880 seconds to drive from the top floor to the bottom floor.\n",
      "\n",
      "Finally, add the time spent going through the gates and the time spent driving to the bottom: 480 seconds (gates) + 880 seconds (driving) = 1360 seconds. The answer is 1360 seconds.\n",
      "1440 1360\n",
      "\n",
      "\n",
      "\n",
      "******************************\n",
      "\n",
      "\n",
      "\n",
      "A: First, we need to find the monthly payments for both the house and the trailer.\n",
      "\n",
      "For the house, the total cost is $480,000 and the loan term is 20 years (240 months). So, the monthly payment for the house is $480,000 / 240 = $2,000.\n",
      "\n",
      "For the trailer, the total cost is $120,000 and the loan term is also 20 years (240 months). So, the monthly payment for the trailer is $120,000 / 240 = $500.\n",
      "\n",
      "Now, we can find the difference in monthly payments: $2,000 (house) - $500 (trailer) = $1,500.\n",
      "\n",
      "The answer is $1,500 more in monthly payments for the house compared to the trailer.\n",
      "------------------------------\n",
      "A: First, we need to determine the monthly payments for both the house and the trailer. \n",
      "\n",
      "For the house: The total cost is $480,000 and the loan period is 20 years (240 months). So, the monthly payment would be $480,000 / 240 = $2,000.\n",
      "\n",
      "For the trailer: The total cost is $120,000 and the loan period is also 20 years (240 months). So, the monthly payment would be $120,000 / 240 = $500.\n",
      "\n",
      "Now, we can find the difference between the two monthly payments: $2,000 (house) - $500 (trailer) = $1,500.\n",
      "\n",
      "The answer is the monthly payment on the house is $1,500 more than the trailer.\n",
      "1500 None\n",
      "\n",
      "\n",
      "\n",
      "******************************\n",
      "\n",
      "\n",
      "\n",
      "A: First, we need to find out how many half-gallons of milk are needed for one dozen cookies. To do this, we divide the total half-gallons needed for 40 cookies (10 half-gallons) by 40: 10 / 40 = 0.25 half-gallons per dozen cookies.\n",
      "\n",
      "Now, we need to find out how many half-gallons of milk are needed for 200 dozen cookies. To do this, we multiply the half-gallons per dozen cookies (0.25) by 200: 0.25 * 200 = 50 half-gallons.\n",
      "\n",
      "The answer is 50.\n",
      "------------------------------\n",
      "A: First, we need to find out how many half-gallons of milk are needed for one dozen cookies. Juan needs 10 half-gallons for 40 cookies, so for 1 cookie, he needs 10/40 = 0.25 half-gallons.\n",
      "\n",
      "Now, we need to find out how many half-gallons of milk are needed for 200 dozen cookies. Since there are 200 dozen cookies, there are 200 * 12 = 2400 cookies. For 2400 cookies, Juan needs 2400 * 0.25 = 600 half-gallons of milk. The answer is 600.\n",
      "50 600\n",
      "\n",
      "\n",
      "\n",
      "******************************\n",
      "\n",
      "\n",
      "\n",
      "A: The tree grows twice as fast as the boy, so the tree grows 2 * 1 inch = 2 inches per year. The boy grows 36 - 24 = 12 inches in the years between the planting and his current height. So, the tree will grow 12 * 2 = 24 inches in that time. The tree was originally 16 inches tall. So, by the time the boy is 36 inches tall, the tree will be 16 + 24 = 40 inches tall. The answer is 40.\n",
      "------------------------------\n",
      "A: The tree grows twice as fast as the boy, so the tree grows 24 inches each year (twice the boy's growth of 12 inches). By the time the boy is 36 inches tall, he has grown 36 - 24 = 12 inches. Since the tree grew at the same rate, it will also have grown 12 inches. The original tree height was 16 inches, so the final tree height will be 16 + 12 = 28 inches. The answer is 28.\n",
      "40 28\n",
      "\n",
      "\n",
      "\n",
      "******************************\n",
      "\n",
      "\n",
      "\n",
      "A: Let's denote the first number as x. Since the second number is twice the first number, the second number is 2x. The sum of the two numbers is 33, so we can write the equation x + 2x = 33. Combining the terms, we get 3x = 33. To find the value of x, we divide both sides by 3: x = 33/3 = 11. The second number is 2x, which is 2 * 11 = 22. The answer is 22.\n",
      "------------------------------\n",
      "Let's denote the first number as x. The second number is twice the first number, so it is 2x. The sum of these two numbers is 33. Therefore, we can write the equation x + 2x = 33. Adding the two x terms, we get 3x = 33. To find the value of x, we can divide both sides of the equation by 3: x = 33/3. The answer is x = 11 and the second number is 2x = 22.\n",
      "22 None\n",
      "\n",
      "\n",
      "\n",
      "******************************\n",
      "\n",
      "\n",
      "\n",
      "A: Julia bakes one less than 5 cakes per day, so she bakes 5 - 1 = 4 cakes per day. Over 6 days, she bakes 4 cakes/day * 6 days = 24 cakes.\n",
      "\n",
      "However, her brother Clifford eats one cake every other day, so he eats 6 days / 2 = 3 cakes.\n",
      "\n",
      "Therefore, Julia has 24 cakes - 3 cakes = 21 cakes remaining. The answer is 21.\n",
      "------------------------------\n",
      "A: Julia bakes one less than 5 cakes per day, so she bakes 5 - 1 = 4 cakes per day. Over 6 days, she bakes 4 cakes/day * 6 days = 24 cakes in total.\n",
      "\n",
      "Every other day, Clifford eats one cake, so he eats 24 cakes / 2 = 12 cakes.\n",
      "\n",
      "To find out how many cakes Julia has remaining, subtract the number of cakes Clifford ate from the total number of cakes she baked: 24 cakes - 12 cakes = 12 cakes. The answer is 12.\n",
      "21 12\n",
      "\n",
      "\n",
      "\n",
      "******************************\n",
      "\n",
      "\n",
      "\n",
      "A: First, we find out how much money Brooke has: Kent has $1,000, and Brooke has twice as much, so Brooke has 1,000 * 2 = $2,000. Next, we find out how much money Brittany has: Brooke has $2,000, and Brittany has 4 times as much, so Brittany has 2,000 * 4 = $8,000. Finally, we find out how much money Alison has: Brittany has $8,000, and Alison has half as much, so Alison has 8,000 / 2 = $4,000. The answer is $4,000.\n",
      "------------------------------\n",
      "A: First, we find out how much money Brooke has: Kent has $1,000, and Brooke has twice as much money, so Brooke has 1,000 * 2 = $2,000. Next, we find out how much money Brittany has: Brooke has 4 times as much money as Brittany, so Brittany has 2,000 / 4 = $500. Finally, we find out how much money Alison has: Brittany has half as much money as Alison, so Alison has 500 * 2 = $1,000. The answer is $1,000.\n",
      "4000 1000\n",
      "\n",
      "\n",
      "\n",
      "******************************\n",
      "\n",
      "\n",
      "\n",
      "A: Let's denote the amount Diego got as D. Since the mayor paid a total of $50,000 and Celina was paid $1,000 more than 4 times the amount Diego got, Celina was paid 4D + 1,000.\n",
      "\n",
      "The mayor commissioned two artists to paint 50 murals, so the total amount paid to both artists is the sum of what Diego and Celina got: D + (4D + 1,000) = 50,000.\n",
      "\n",
      "Combining the terms, we get 5D + 1,000 = 50,000. Subtracting 1,000 from both sides, we have 5D = 49,000. Dividing both sides by 5, we find that Diego got D = 49,000 / 5 = 9,800. The answer is 9,800.\n",
      "------------------------------\n",
      "A: The total payment was $50,000, and Celina was paid $1,000 more than 4 times the amount Diego got. Let's represent Diego's payment as D.\n",
      "\n",
      "Celina's payment = 4 * D + $1,000\n",
      "\n",
      "Since the total payment was for both of them, we have the equation:\n",
      "\n",
      "Diego's payment + Celina's payment = $50,000\n",
      "D + (4 * D + $1,000) = $50,000\n",
      "\n",
      "Combine like terms:\n",
      "D + 4D + $1,000 = $50,000\n",
      "\n",
      "Combine the D terms:\n",
      "5D + $1,000 = $50,000\n",
      "\n",
      "Subtract $1,000 from both sides to isolate the term with D:\n",
      "5D = $49,000\n",
      "\n",
      "Divide both sides by 5 to find Diego's payment:\n",
      "D = $9,800\n",
      "\n",
      "The answer is Diego got $9,800.\n",
      "9800 None\n",
      "\n",
      "\n",
      "\n",
      "******************************\n",
      "\n",
      "\n",
      "\n",
      "A: First, we need to find out how much Nancy earns per hour. She earns $28 for 4 hours, so her hourly wage is $28 / 4 = $7 per hour. Now, we need to find out how many hours she needs to work to earn $70. To do this, we divide the target amount ($70) by her hourly wage ($7 per hour). So, 70 / 7 = 10. The answer is 10 hours.\n",
      "------------------------------\n",
      "To find out how many hours Nancy needs to work to earn $70, we can set up a proportion:\n",
      "\n",
      "$28 (earned in 4 hours) / 70 (to be earned) = x (hours to be worked) / 4 (original hours)\n",
      "\n",
      "Now, we can solve for x:\n",
      "\n",
      "28/70 = x/4\n",
      "\n",
      "To solve for x, we can cross-multiply:\n",
      "\n",
      "28 * 4 = 70 * x\n",
      "\n",
      "112 = 70x\n",
      "\n",
      "Now, divide both sides by 70:\n",
      "\n",
      "x = 112 / 70\n",
      "\n",
      "x ≈ 1.6\n",
      "\n",
      "Since Nancy cannot work a fraction of an hour, she needs to work at least 2 hours to earn $70. The answer is 2 hours.\n",
      "10 2\n",
      "\n",
      "\n",
      "\n",
      "******************************\n",
      "\n",
      "\n",
      "\n",
      "A: For the first trail, James can hike 20 miles at 5 miles per hour, so it will take him 20 / 5 = 4 hours.\n",
      "\n",
      "For the second trail, James can hike 12 miles at 3 miles per hour, so it will take him 12 / 3 = 4 hours. However, he also has to take a 1-hour break, so the total time for the second trail is 4 + 1 = 5 hours.\n",
      "\n",
      "The fastest hike is the first trail, which takes 4 hours. The second trail takes 5 hours. So, the fastest hike is 5 - 4 = 1 hour faster. The answer is 1.\n",
      "------------------------------\n",
      "A: For the first trail, since it's mostly downhill and James can cover it at 5 miles per hour, it would take him 20 miles / 5 miles per hour = 4 hours.\n",
      "\n",
      "For the second trail, it's 12 miles long and mostly uphill, so James can cover it at 3 miles per hour. Since he takes an hour break halfway through, the total time for this trail would be (12 miles / 3 miles per hour) + 1 hour = 4 hours.\n",
      "\n",
      "Comparing the two, the fastest hike is the first one, which takes 4 hours. The second trail takes 4 hours as well, so the difference is 0 hours. However, the question asks how many hours faster, so since the first trail is faster, the answer is 4 - 4 = 0. The answer is 0 hours faster.\n",
      "1 0\n",
      "\n",
      "\n",
      "\n",
      "******************************\n",
      "\n",
      "\n",
      "\n",
      "A: Jerry currently drinks 48 sodas per week. He wants to cut the number in half each week until he reaches 6 sodas per week.\n",
      "\n",
      "In the first week, he drinks 48 / 2 = 24 sodas.\n",
      "In the second week, he drinks 24 / 2 = 12 sodas.\n",
      "In the third week, he drinks 12 / 2 = 6 sodas.\n",
      "\n",
      "So, it will take him 3 weeks to only drink 6 sodas per week. The answer is 3.\n",
      "------------------------------\n",
      "A: Jerry currently drinks 48 sodas per week. To drink 6 sodas per week, he needs to cut the number of sodas by half 48/6 = 8 times. Since he cuts the number of sodas in half each week, it will take him 8 weeks to only drink 6 sodas per week. The answer is 8.\n",
      "3 8\n",
      "\n",
      "\n",
      "\n",
      "******************************\n",
      "\n",
      "\n",
      "\n",
      "First, let's find out how many backpacks were left after selling 17 and 10: 48 - 17 - 10 = 21 backpacks.\n",
      "\n",
      "Now, let's calculate the revenue from selling backpacks:\n",
      "17 backpacks at $18 each: 17 * $18 = $306\n",
      "10 backpacks at $25 each: 10 * $25 = $250\n",
      "21 backpacks at $22 each: 21 * $22 = $462\n",
      "\n",
      "Total revenue: $306 + $250 + $462 = $1018\n",
      "\n",
      "The salesman bought the backpacks for $576. So, his profit is: $1018 - $576 = $442. The answer is $442.\n",
      "------------------------------\n",
      "A: First, we need to find out how many backpacks were left after the sales. The salesman started with 48 and sold 17 and 10, so there were 48 - 17 - 10 = 21 backpacks left.\n",
      "\n",
      "Then, we need to find out the total earnings from selling the remaining backpacks: 21 backpacks * $22 each = $462.\n",
      "\n",
      "Now, we can find out the salesman's initial investment: $576 for the case of backpacks.\n",
      "\n",
      "Finally, we can calculate the salesman's profit: earnings ($462) - initial investment ($576) = -$114. However, this is a negative number, which means the salesman had a loss of $114. The answer is -$114 (loss).\n",
      "442 -\n",
      "\n",
      "\n",
      "\n",
      "******************************\n",
      "\n",
      "\n",
      "\n"
     ]
    }
   ],
   "source": [
    "for item in examples:\n",
    "    print(item['out_before'])\n",
    "\n",
    "    print('---' * 10)\n",
    "    print(item['out_after'])\n",
    "\n",
    "    print(item['extracted_before'], item['extracted_after'])\n",
    "\n",
    "    print('\\n\\n')\n",
    "\n",
    "    print('***' * 10)\n",
    "    print('\\n\\n')"
   ]
  },
  {
   "cell_type": "code",
   "execution_count": 2,
   "metadata": {},
   "outputs": [
    {
     "data": {
      "application/vnd.plotly.v1+json": {
       "config": {
        "plotlyServerURL": "https://plot.ly"
       },
       "data": [
        {
         "hoverinfo": "y+text",
         "marker": {
          "color": [
           "#1f77b4",
           "#ff7f0e"
          ]
         },
         "name": "TheBloke/CapybaraHermes-2.5-Mistral-7B-AWQ (dataset - gsm8k, metric - accuracy)",
         "text": [
          "54.50%",
          "55.25%"
         ],
         "textposition": "auto",
         "type": "bar",
         "x": [
          "Before",
          "After"
         ],
         "y": [
          54.50000000000001,
          55.25
         ]
        },
        {
         "hoverinfo": "none",
         "line": {
          "color": "#2ca02c",
          "width": 2
         },
         "marker": {
          "color": "#d62728",
          "size": 12
         },
         "mode": "lines+markers",
         "type": "scatter",
         "x": [
          "Before",
          "After"
         ],
         "y": [
          54.50000000000001,
          55.25
         ]
        }
       ],
       "layout": {
        "annotations": [
         {
          "arrowhead": 2,
          "ax": 0,
          "ay": -40,
          "bgcolor": "rgba(255, 255, 255, 0.9)",
          "bordercolor": "black",
          "borderwidth": 1,
          "font": {
           "color": "black",
           "size": 14
          },
          "showarrow": true,
          "text": "Δ = 0.75%",
          "x": 1,
          "y": 55.25
         }
        ],
        "font": {
         "size": 14
        },
        "margin": {
         "b": 40,
         "l": 40,
         "r": 40,
         "t": 40
        },
        "showlegend": false,
        "template": {
         "data": {
          "bar": [
           {
            "error_x": {
             "color": "#2a3f5f"
            },
            "error_y": {
             "color": "#2a3f5f"
            },
            "marker": {
             "line": {
              "color": "white",
              "width": 0.5
             },
             "pattern": {
              "fillmode": "overlay",
              "size": 10,
              "solidity": 0.2
             }
            },
            "type": "bar"
           }
          ],
          "barpolar": [
           {
            "marker": {
             "line": {
              "color": "white",
              "width": 0.5
             },
             "pattern": {
              "fillmode": "overlay",
              "size": 10,
              "solidity": 0.2
             }
            },
            "type": "barpolar"
           }
          ],
          "carpet": [
           {
            "aaxis": {
             "endlinecolor": "#2a3f5f",
             "gridcolor": "#C8D4E3",
             "linecolor": "#C8D4E3",
             "minorgridcolor": "#C8D4E3",
             "startlinecolor": "#2a3f5f"
            },
            "baxis": {
             "endlinecolor": "#2a3f5f",
             "gridcolor": "#C8D4E3",
             "linecolor": "#C8D4E3",
             "minorgridcolor": "#C8D4E3",
             "startlinecolor": "#2a3f5f"
            },
            "type": "carpet"
           }
          ],
          "choropleth": [
           {
            "colorbar": {
             "outlinewidth": 0,
             "ticks": ""
            },
            "type": "choropleth"
           }
          ],
          "contour": [
           {
            "colorbar": {
             "outlinewidth": 0,
             "ticks": ""
            },
            "colorscale": [
             [
              0,
              "#0d0887"
             ],
             [
              0.1111111111111111,
              "#46039f"
             ],
             [
              0.2222222222222222,
              "#7201a8"
             ],
             [
              0.3333333333333333,
              "#9c179e"
             ],
             [
              0.4444444444444444,
              "#bd3786"
             ],
             [
              0.5555555555555556,
              "#d8576b"
             ],
             [
              0.6666666666666666,
              "#ed7953"
             ],
             [
              0.7777777777777778,
              "#fb9f3a"
             ],
             [
              0.8888888888888888,
              "#fdca26"
             ],
             [
              1,
              "#f0f921"
             ]
            ],
            "type": "contour"
           }
          ],
          "contourcarpet": [
           {
            "colorbar": {
             "outlinewidth": 0,
             "ticks": ""
            },
            "type": "contourcarpet"
           }
          ],
          "heatmap": [
           {
            "colorbar": {
             "outlinewidth": 0,
             "ticks": ""
            },
            "colorscale": [
             [
              0,
              "#0d0887"
             ],
             [
              0.1111111111111111,
              "#46039f"
             ],
             [
              0.2222222222222222,
              "#7201a8"
             ],
             [
              0.3333333333333333,
              "#9c179e"
             ],
             [
              0.4444444444444444,
              "#bd3786"
             ],
             [
              0.5555555555555556,
              "#d8576b"
             ],
             [
              0.6666666666666666,
              "#ed7953"
             ],
             [
              0.7777777777777778,
              "#fb9f3a"
             ],
             [
              0.8888888888888888,
              "#fdca26"
             ],
             [
              1,
              "#f0f921"
             ]
            ],
            "type": "heatmap"
           }
          ],
          "heatmapgl": [
           {
            "colorbar": {
             "outlinewidth": 0,
             "ticks": ""
            },
            "colorscale": [
             [
              0,
              "#0d0887"
             ],
             [
              0.1111111111111111,
              "#46039f"
             ],
             [
              0.2222222222222222,
              "#7201a8"
             ],
             [
              0.3333333333333333,
              "#9c179e"
             ],
             [
              0.4444444444444444,
              "#bd3786"
             ],
             [
              0.5555555555555556,
              "#d8576b"
             ],
             [
              0.6666666666666666,
              "#ed7953"
             ],
             [
              0.7777777777777778,
              "#fb9f3a"
             ],
             [
              0.8888888888888888,
              "#fdca26"
             ],
             [
              1,
              "#f0f921"
             ]
            ],
            "type": "heatmapgl"
           }
          ],
          "histogram": [
           {
            "marker": {
             "pattern": {
              "fillmode": "overlay",
              "size": 10,
              "solidity": 0.2
             }
            },
            "type": "histogram"
           }
          ],
          "histogram2d": [
           {
            "colorbar": {
             "outlinewidth": 0,
             "ticks": ""
            },
            "colorscale": [
             [
              0,
              "#0d0887"
             ],
             [
              0.1111111111111111,
              "#46039f"
             ],
             [
              0.2222222222222222,
              "#7201a8"
             ],
             [
              0.3333333333333333,
              "#9c179e"
             ],
             [
              0.4444444444444444,
              "#bd3786"
             ],
             [
              0.5555555555555556,
              "#d8576b"
             ],
             [
              0.6666666666666666,
              "#ed7953"
             ],
             [
              0.7777777777777778,
              "#fb9f3a"
             ],
             [
              0.8888888888888888,
              "#fdca26"
             ],
             [
              1,
              "#f0f921"
             ]
            ],
            "type": "histogram2d"
           }
          ],
          "histogram2dcontour": [
           {
            "colorbar": {
             "outlinewidth": 0,
             "ticks": ""
            },
            "colorscale": [
             [
              0,
              "#0d0887"
             ],
             [
              0.1111111111111111,
              "#46039f"
             ],
             [
              0.2222222222222222,
              "#7201a8"
             ],
             [
              0.3333333333333333,
              "#9c179e"
             ],
             [
              0.4444444444444444,
              "#bd3786"
             ],
             [
              0.5555555555555556,
              "#d8576b"
             ],
             [
              0.6666666666666666,
              "#ed7953"
             ],
             [
              0.7777777777777778,
              "#fb9f3a"
             ],
             [
              0.8888888888888888,
              "#fdca26"
             ],
             [
              1,
              "#f0f921"
             ]
            ],
            "type": "histogram2dcontour"
           }
          ],
          "mesh3d": [
           {
            "colorbar": {
             "outlinewidth": 0,
             "ticks": ""
            },
            "type": "mesh3d"
           }
          ],
          "parcoords": [
           {
            "line": {
             "colorbar": {
              "outlinewidth": 0,
              "ticks": ""
             }
            },
            "type": "parcoords"
           }
          ],
          "pie": [
           {
            "automargin": true,
            "type": "pie"
           }
          ],
          "scatter": [
           {
            "fillpattern": {
             "fillmode": "overlay",
             "size": 10,
             "solidity": 0.2
            },
            "type": "scatter"
           }
          ],
          "scatter3d": [
           {
            "line": {
             "colorbar": {
              "outlinewidth": 0,
              "ticks": ""
             }
            },
            "marker": {
             "colorbar": {
              "outlinewidth": 0,
              "ticks": ""
             }
            },
            "type": "scatter3d"
           }
          ],
          "scattercarpet": [
           {
            "marker": {
             "colorbar": {
              "outlinewidth": 0,
              "ticks": ""
             }
            },
            "type": "scattercarpet"
           }
          ],
          "scattergeo": [
           {
            "marker": {
             "colorbar": {
              "outlinewidth": 0,
              "ticks": ""
             }
            },
            "type": "scattergeo"
           }
          ],
          "scattergl": [
           {
            "marker": {
             "colorbar": {
              "outlinewidth": 0,
              "ticks": ""
             }
            },
            "type": "scattergl"
           }
          ],
          "scattermapbox": [
           {
            "marker": {
             "colorbar": {
              "outlinewidth": 0,
              "ticks": ""
             }
            },
            "type": "scattermapbox"
           }
          ],
          "scatterpolar": [
           {
            "marker": {
             "colorbar": {
              "outlinewidth": 0,
              "ticks": ""
             }
            },
            "type": "scatterpolar"
           }
          ],
          "scatterpolargl": [
           {
            "marker": {
             "colorbar": {
              "outlinewidth": 0,
              "ticks": ""
             }
            },
            "type": "scatterpolargl"
           }
          ],
          "scatterternary": [
           {
            "marker": {
             "colorbar": {
              "outlinewidth": 0,
              "ticks": ""
             }
            },
            "type": "scatterternary"
           }
          ],
          "surface": [
           {
            "colorbar": {
             "outlinewidth": 0,
             "ticks": ""
            },
            "colorscale": [
             [
              0,
              "#0d0887"
             ],
             [
              0.1111111111111111,
              "#46039f"
             ],
             [
              0.2222222222222222,
              "#7201a8"
             ],
             [
              0.3333333333333333,
              "#9c179e"
             ],
             [
              0.4444444444444444,
              "#bd3786"
             ],
             [
              0.5555555555555556,
              "#d8576b"
             ],
             [
              0.6666666666666666,
              "#ed7953"
             ],
             [
              0.7777777777777778,
              "#fb9f3a"
             ],
             [
              0.8888888888888888,
              "#fdca26"
             ],
             [
              1,
              "#f0f921"
             ]
            ],
            "type": "surface"
           }
          ],
          "table": [
           {
            "cells": {
             "fill": {
              "color": "#EBF0F8"
             },
             "line": {
              "color": "white"
             }
            },
            "header": {
             "fill": {
              "color": "#C8D4E3"
             },
             "line": {
              "color": "white"
             }
            },
            "type": "table"
           }
          ]
         },
         "layout": {
          "annotationdefaults": {
           "arrowcolor": "#2a3f5f",
           "arrowhead": 0,
           "arrowwidth": 1
          },
          "autotypenumbers": "strict",
          "coloraxis": {
           "colorbar": {
            "outlinewidth": 0,
            "ticks": ""
           }
          },
          "colorscale": {
           "diverging": [
            [
             0,
             "#8e0152"
            ],
            [
             0.1,
             "#c51b7d"
            ],
            [
             0.2,
             "#de77ae"
            ],
            [
             0.3,
             "#f1b6da"
            ],
            [
             0.4,
             "#fde0ef"
            ],
            [
             0.5,
             "#f7f7f7"
            ],
            [
             0.6,
             "#e6f5d0"
            ],
            [
             0.7,
             "#b8e186"
            ],
            [
             0.8,
             "#7fbc41"
            ],
            [
             0.9,
             "#4d9221"
            ],
            [
             1,
             "#276419"
            ]
           ],
           "sequential": [
            [
             0,
             "#0d0887"
            ],
            [
             0.1111111111111111,
             "#46039f"
            ],
            [
             0.2222222222222222,
             "#7201a8"
            ],
            [
             0.3333333333333333,
             "#9c179e"
            ],
            [
             0.4444444444444444,
             "#bd3786"
            ],
            [
             0.5555555555555556,
             "#d8576b"
            ],
            [
             0.6666666666666666,
             "#ed7953"
            ],
            [
             0.7777777777777778,
             "#fb9f3a"
            ],
            [
             0.8888888888888888,
             "#fdca26"
            ],
            [
             1,
             "#f0f921"
            ]
           ],
           "sequentialminus": [
            [
             0,
             "#0d0887"
            ],
            [
             0.1111111111111111,
             "#46039f"
            ],
            [
             0.2222222222222222,
             "#7201a8"
            ],
            [
             0.3333333333333333,
             "#9c179e"
            ],
            [
             0.4444444444444444,
             "#bd3786"
            ],
            [
             0.5555555555555556,
             "#d8576b"
            ],
            [
             0.6666666666666666,
             "#ed7953"
            ],
            [
             0.7777777777777778,
             "#fb9f3a"
            ],
            [
             0.8888888888888888,
             "#fdca26"
            ],
            [
             1,
             "#f0f921"
            ]
           ]
          },
          "colorway": [
           "#636efa",
           "#EF553B",
           "#00cc96",
           "#ab63fa",
           "#FFA15A",
           "#19d3f3",
           "#FF6692",
           "#B6E880",
           "#FF97FF",
           "#FECB52"
          ],
          "font": {
           "color": "#2a3f5f"
          },
          "geo": {
           "bgcolor": "white",
           "lakecolor": "white",
           "landcolor": "white",
           "showlakes": true,
           "showland": true,
           "subunitcolor": "#C8D4E3"
          },
          "hoverlabel": {
           "align": "left"
          },
          "hovermode": "closest",
          "mapbox": {
           "style": "light"
          },
          "paper_bgcolor": "white",
          "plot_bgcolor": "white",
          "polar": {
           "angularaxis": {
            "gridcolor": "#EBF0F8",
            "linecolor": "#EBF0F8",
            "ticks": ""
           },
           "bgcolor": "white",
           "radialaxis": {
            "gridcolor": "#EBF0F8",
            "linecolor": "#EBF0F8",
            "ticks": ""
           }
          },
          "scene": {
           "xaxis": {
            "backgroundcolor": "white",
            "gridcolor": "#DFE8F3",
            "gridwidth": 2,
            "linecolor": "#EBF0F8",
            "showbackground": true,
            "ticks": "",
            "zerolinecolor": "#EBF0F8"
           },
           "yaxis": {
            "backgroundcolor": "white",
            "gridcolor": "#DFE8F3",
            "gridwidth": 2,
            "linecolor": "#EBF0F8",
            "showbackground": true,
            "ticks": "",
            "zerolinecolor": "#EBF0F8"
           },
           "zaxis": {
            "backgroundcolor": "white",
            "gridcolor": "#DFE8F3",
            "gridwidth": 2,
            "linecolor": "#EBF0F8",
            "showbackground": true,
            "ticks": "",
            "zerolinecolor": "#EBF0F8"
           }
          },
          "shapedefaults": {
           "line": {
            "color": "#2a3f5f"
           }
          },
          "ternary": {
           "aaxis": {
            "gridcolor": "#DFE8F3",
            "linecolor": "#A2B1C6",
            "ticks": ""
           },
           "baxis": {
            "gridcolor": "#DFE8F3",
            "linecolor": "#A2B1C6",
            "ticks": ""
           },
           "bgcolor": "white",
           "caxis": {
            "gridcolor": "#DFE8F3",
            "linecolor": "#A2B1C6",
            "ticks": ""
           }
          },
          "title": {
           "x": 0.05
          },
          "xaxis": {
           "automargin": true,
           "gridcolor": "#EBF0F8",
           "linecolor": "#EBF0F8",
           "ticks": "",
           "title": {
            "standoff": 15
           },
           "zerolinecolor": "#EBF0F8",
           "zerolinewidth": 2
          },
          "yaxis": {
           "automargin": true,
           "gridcolor": "#EBF0F8",
           "linecolor": "#EBF0F8",
           "ticks": "",
           "title": {
            "standoff": 15
           },
           "zerolinecolor": "#EBF0F8",
           "zerolinewidth": 2
          }
         }
        },
        "title": {
         "font": {
          "size": 16
         },
         "text": "TheBloke/CapybaraHermes-2.5-Mistral-7B-AWQ (dataset - gsm8k, metric - accuracy)",
         "x": 0.5,
         "xanchor": "center"
        },
        "xaxis": {
         "title": {
          "text": "Metric"
         }
        },
        "yaxis": {
         "range": [
          53.375000000000014,
          56.374999999999986
         ],
         "tickformat": ".2f",
         "title": {
          "text": "Value"
         }
        }
       }
      },
      "text/html": [
       "<div>                            <div id=\"d4dd1c11-e332-4171-9cda-4d03148089c6\" class=\"plotly-graph-div\" style=\"height:525px; width:100%;\"></div>            <script type=\"text/javascript\">                require([\"plotly\"], function(Plotly) {                    window.PLOTLYENV=window.PLOTLYENV || {};                                    if (document.getElementById(\"d4dd1c11-e332-4171-9cda-4d03148089c6\")) {                    Plotly.newPlot(                        \"d4dd1c11-e332-4171-9cda-4d03148089c6\",                        [{\"hoverinfo\":\"y+text\",\"marker\":{\"color\":[\"#1f77b4\",\"#ff7f0e\"]},\"name\":\"TheBloke\\u002fCapybaraHermes-2.5-Mistral-7B-AWQ (dataset - gsm8k, metric - accuracy)\",\"text\":[\"54.50%\",\"55.25%\"],\"textposition\":\"auto\",\"x\":[\"Before\",\"After\"],\"y\":[54.50000000000001,55.25],\"type\":\"bar\"},{\"hoverinfo\":\"none\",\"line\":{\"color\":\"#2ca02c\",\"width\":2},\"marker\":{\"color\":\"#d62728\",\"size\":12},\"mode\":\"lines+markers\",\"x\":[\"Before\",\"After\"],\"y\":[54.50000000000001,55.25],\"type\":\"scatter\"}],                        {\"template\":{\"data\":{\"barpolar\":[{\"marker\":{\"line\":{\"color\":\"white\",\"width\":0.5},\"pattern\":{\"fillmode\":\"overlay\",\"size\":10,\"solidity\":0.2}},\"type\":\"barpolar\"}],\"bar\":[{\"error_x\":{\"color\":\"#2a3f5f\"},\"error_y\":{\"color\":\"#2a3f5f\"},\"marker\":{\"line\":{\"color\":\"white\",\"width\":0.5},\"pattern\":{\"fillmode\":\"overlay\",\"size\":10,\"solidity\":0.2}},\"type\":\"bar\"}],\"carpet\":[{\"aaxis\":{\"endlinecolor\":\"#2a3f5f\",\"gridcolor\":\"#C8D4E3\",\"linecolor\":\"#C8D4E3\",\"minorgridcolor\":\"#C8D4E3\",\"startlinecolor\":\"#2a3f5f\"},\"baxis\":{\"endlinecolor\":\"#2a3f5f\",\"gridcolor\":\"#C8D4E3\",\"linecolor\":\"#C8D4E3\",\"minorgridcolor\":\"#C8D4E3\",\"startlinecolor\":\"#2a3f5f\"},\"type\":\"carpet\"}],\"choropleth\":[{\"colorbar\":{\"outlinewidth\":0,\"ticks\":\"\"},\"type\":\"choropleth\"}],\"contourcarpet\":[{\"colorbar\":{\"outlinewidth\":0,\"ticks\":\"\"},\"type\":\"contourcarpet\"}],\"contour\":[{\"colorbar\":{\"outlinewidth\":0,\"ticks\":\"\"},\"colorscale\":[[0.0,\"#0d0887\"],[0.1111111111111111,\"#46039f\"],[0.2222222222222222,\"#7201a8\"],[0.3333333333333333,\"#9c179e\"],[0.4444444444444444,\"#bd3786\"],[0.5555555555555556,\"#d8576b\"],[0.6666666666666666,\"#ed7953\"],[0.7777777777777778,\"#fb9f3a\"],[0.8888888888888888,\"#fdca26\"],[1.0,\"#f0f921\"]],\"type\":\"contour\"}],\"heatmapgl\":[{\"colorbar\":{\"outlinewidth\":0,\"ticks\":\"\"},\"colorscale\":[[0.0,\"#0d0887\"],[0.1111111111111111,\"#46039f\"],[0.2222222222222222,\"#7201a8\"],[0.3333333333333333,\"#9c179e\"],[0.4444444444444444,\"#bd3786\"],[0.5555555555555556,\"#d8576b\"],[0.6666666666666666,\"#ed7953\"],[0.7777777777777778,\"#fb9f3a\"],[0.8888888888888888,\"#fdca26\"],[1.0,\"#f0f921\"]],\"type\":\"heatmapgl\"}],\"heatmap\":[{\"colorbar\":{\"outlinewidth\":0,\"ticks\":\"\"},\"colorscale\":[[0.0,\"#0d0887\"],[0.1111111111111111,\"#46039f\"],[0.2222222222222222,\"#7201a8\"],[0.3333333333333333,\"#9c179e\"],[0.4444444444444444,\"#bd3786\"],[0.5555555555555556,\"#d8576b\"],[0.6666666666666666,\"#ed7953\"],[0.7777777777777778,\"#fb9f3a\"],[0.8888888888888888,\"#fdca26\"],[1.0,\"#f0f921\"]],\"type\":\"heatmap\"}],\"histogram2dcontour\":[{\"colorbar\":{\"outlinewidth\":0,\"ticks\":\"\"},\"colorscale\":[[0.0,\"#0d0887\"],[0.1111111111111111,\"#46039f\"],[0.2222222222222222,\"#7201a8\"],[0.3333333333333333,\"#9c179e\"],[0.4444444444444444,\"#bd3786\"],[0.5555555555555556,\"#d8576b\"],[0.6666666666666666,\"#ed7953\"],[0.7777777777777778,\"#fb9f3a\"],[0.8888888888888888,\"#fdca26\"],[1.0,\"#f0f921\"]],\"type\":\"histogram2dcontour\"}],\"histogram2d\":[{\"colorbar\":{\"outlinewidth\":0,\"ticks\":\"\"},\"colorscale\":[[0.0,\"#0d0887\"],[0.1111111111111111,\"#46039f\"],[0.2222222222222222,\"#7201a8\"],[0.3333333333333333,\"#9c179e\"],[0.4444444444444444,\"#bd3786\"],[0.5555555555555556,\"#d8576b\"],[0.6666666666666666,\"#ed7953\"],[0.7777777777777778,\"#fb9f3a\"],[0.8888888888888888,\"#fdca26\"],[1.0,\"#f0f921\"]],\"type\":\"histogram2d\"}],\"histogram\":[{\"marker\":{\"pattern\":{\"fillmode\":\"overlay\",\"size\":10,\"solidity\":0.2}},\"type\":\"histogram\"}],\"mesh3d\":[{\"colorbar\":{\"outlinewidth\":0,\"ticks\":\"\"},\"type\":\"mesh3d\"}],\"parcoords\":[{\"line\":{\"colorbar\":{\"outlinewidth\":0,\"ticks\":\"\"}},\"type\":\"parcoords\"}],\"pie\":[{\"automargin\":true,\"type\":\"pie\"}],\"scatter3d\":[{\"line\":{\"colorbar\":{\"outlinewidth\":0,\"ticks\":\"\"}},\"marker\":{\"colorbar\":{\"outlinewidth\":0,\"ticks\":\"\"}},\"type\":\"scatter3d\"}],\"scattercarpet\":[{\"marker\":{\"colorbar\":{\"outlinewidth\":0,\"ticks\":\"\"}},\"type\":\"scattercarpet\"}],\"scattergeo\":[{\"marker\":{\"colorbar\":{\"outlinewidth\":0,\"ticks\":\"\"}},\"type\":\"scattergeo\"}],\"scattergl\":[{\"marker\":{\"colorbar\":{\"outlinewidth\":0,\"ticks\":\"\"}},\"type\":\"scattergl\"}],\"scattermapbox\":[{\"marker\":{\"colorbar\":{\"outlinewidth\":0,\"ticks\":\"\"}},\"type\":\"scattermapbox\"}],\"scatterpolargl\":[{\"marker\":{\"colorbar\":{\"outlinewidth\":0,\"ticks\":\"\"}},\"type\":\"scatterpolargl\"}],\"scatterpolar\":[{\"marker\":{\"colorbar\":{\"outlinewidth\":0,\"ticks\":\"\"}},\"type\":\"scatterpolar\"}],\"scatter\":[{\"fillpattern\":{\"fillmode\":\"overlay\",\"size\":10,\"solidity\":0.2},\"type\":\"scatter\"}],\"scatterternary\":[{\"marker\":{\"colorbar\":{\"outlinewidth\":0,\"ticks\":\"\"}},\"type\":\"scatterternary\"}],\"surface\":[{\"colorbar\":{\"outlinewidth\":0,\"ticks\":\"\"},\"colorscale\":[[0.0,\"#0d0887\"],[0.1111111111111111,\"#46039f\"],[0.2222222222222222,\"#7201a8\"],[0.3333333333333333,\"#9c179e\"],[0.4444444444444444,\"#bd3786\"],[0.5555555555555556,\"#d8576b\"],[0.6666666666666666,\"#ed7953\"],[0.7777777777777778,\"#fb9f3a\"],[0.8888888888888888,\"#fdca26\"],[1.0,\"#f0f921\"]],\"type\":\"surface\"}],\"table\":[{\"cells\":{\"fill\":{\"color\":\"#EBF0F8\"},\"line\":{\"color\":\"white\"}},\"header\":{\"fill\":{\"color\":\"#C8D4E3\"},\"line\":{\"color\":\"white\"}},\"type\":\"table\"}]},\"layout\":{\"annotationdefaults\":{\"arrowcolor\":\"#2a3f5f\",\"arrowhead\":0,\"arrowwidth\":1},\"autotypenumbers\":\"strict\",\"coloraxis\":{\"colorbar\":{\"outlinewidth\":0,\"ticks\":\"\"}},\"colorscale\":{\"diverging\":[[0,\"#8e0152\"],[0.1,\"#c51b7d\"],[0.2,\"#de77ae\"],[0.3,\"#f1b6da\"],[0.4,\"#fde0ef\"],[0.5,\"#f7f7f7\"],[0.6,\"#e6f5d0\"],[0.7,\"#b8e186\"],[0.8,\"#7fbc41\"],[0.9,\"#4d9221\"],[1,\"#276419\"]],\"sequential\":[[0.0,\"#0d0887\"],[0.1111111111111111,\"#46039f\"],[0.2222222222222222,\"#7201a8\"],[0.3333333333333333,\"#9c179e\"],[0.4444444444444444,\"#bd3786\"],[0.5555555555555556,\"#d8576b\"],[0.6666666666666666,\"#ed7953\"],[0.7777777777777778,\"#fb9f3a\"],[0.8888888888888888,\"#fdca26\"],[1.0,\"#f0f921\"]],\"sequentialminus\":[[0.0,\"#0d0887\"],[0.1111111111111111,\"#46039f\"],[0.2222222222222222,\"#7201a8\"],[0.3333333333333333,\"#9c179e\"],[0.4444444444444444,\"#bd3786\"],[0.5555555555555556,\"#d8576b\"],[0.6666666666666666,\"#ed7953\"],[0.7777777777777778,\"#fb9f3a\"],[0.8888888888888888,\"#fdca26\"],[1.0,\"#f0f921\"]]},\"colorway\":[\"#636efa\",\"#EF553B\",\"#00cc96\",\"#ab63fa\",\"#FFA15A\",\"#19d3f3\",\"#FF6692\",\"#B6E880\",\"#FF97FF\",\"#FECB52\"],\"font\":{\"color\":\"#2a3f5f\"},\"geo\":{\"bgcolor\":\"white\",\"lakecolor\":\"white\",\"landcolor\":\"white\",\"showlakes\":true,\"showland\":true,\"subunitcolor\":\"#C8D4E3\"},\"hoverlabel\":{\"align\":\"left\"},\"hovermode\":\"closest\",\"mapbox\":{\"style\":\"light\"},\"paper_bgcolor\":\"white\",\"plot_bgcolor\":\"white\",\"polar\":{\"angularaxis\":{\"gridcolor\":\"#EBF0F8\",\"linecolor\":\"#EBF0F8\",\"ticks\":\"\"},\"bgcolor\":\"white\",\"radialaxis\":{\"gridcolor\":\"#EBF0F8\",\"linecolor\":\"#EBF0F8\",\"ticks\":\"\"}},\"scene\":{\"xaxis\":{\"backgroundcolor\":\"white\",\"gridcolor\":\"#DFE8F3\",\"gridwidth\":2,\"linecolor\":\"#EBF0F8\",\"showbackground\":true,\"ticks\":\"\",\"zerolinecolor\":\"#EBF0F8\"},\"yaxis\":{\"backgroundcolor\":\"white\",\"gridcolor\":\"#DFE8F3\",\"gridwidth\":2,\"linecolor\":\"#EBF0F8\",\"showbackground\":true,\"ticks\":\"\",\"zerolinecolor\":\"#EBF0F8\"},\"zaxis\":{\"backgroundcolor\":\"white\",\"gridcolor\":\"#DFE8F3\",\"gridwidth\":2,\"linecolor\":\"#EBF0F8\",\"showbackground\":true,\"ticks\":\"\",\"zerolinecolor\":\"#EBF0F8\"}},\"shapedefaults\":{\"line\":{\"color\":\"#2a3f5f\"}},\"ternary\":{\"aaxis\":{\"gridcolor\":\"#DFE8F3\",\"linecolor\":\"#A2B1C6\",\"ticks\":\"\"},\"baxis\":{\"gridcolor\":\"#DFE8F3\",\"linecolor\":\"#A2B1C6\",\"ticks\":\"\"},\"bgcolor\":\"white\",\"caxis\":{\"gridcolor\":\"#DFE8F3\",\"linecolor\":\"#A2B1C6\",\"ticks\":\"\"}},\"title\":{\"x\":0.05},\"xaxis\":{\"automargin\":true,\"gridcolor\":\"#EBF0F8\",\"linecolor\":\"#EBF0F8\",\"ticks\":\"\",\"title\":{\"standoff\":15},\"zerolinecolor\":\"#EBF0F8\",\"zerolinewidth\":2},\"yaxis\":{\"automargin\":true,\"gridcolor\":\"#EBF0F8\",\"linecolor\":\"#EBF0F8\",\"ticks\":\"\",\"title\":{\"standoff\":15},\"zerolinecolor\":\"#EBF0F8\",\"zerolinewidth\":2}}},\"annotations\":[{\"arrowhead\":2,\"ax\":0,\"ay\":-40,\"bgcolor\":\"rgba(255, 255, 255, 0.9)\",\"bordercolor\":\"black\",\"borderwidth\":1,\"font\":{\"color\":\"black\",\"size\":14},\"showarrow\":true,\"text\":\"\\u0394 = 0.75%\",\"x\":1,\"y\":55.25}],\"title\":{\"font\":{\"size\":16},\"text\":\"TheBloke\\u002fCapybaraHermes-2.5-Mistral-7B-AWQ (dataset - gsm8k, metric - accuracy)\",\"x\":0.5,\"xanchor\":\"center\"},\"yaxis\":{\"title\":{\"text\":\"Value\"},\"range\":[53.375000000000014,56.374999999999986],\"tickformat\":\".2f\"},\"margin\":{\"l\":40,\"r\":40,\"t\":40,\"b\":40},\"font\":{\"size\":14},\"xaxis\":{\"title\":{\"text\":\"Metric\"}},\"showlegend\":false},                        {\"responsive\": true}                    ).then(function(){\n",
       "                            \n",
       "var gd = document.getElementById('d4dd1c11-e332-4171-9cda-4d03148089c6');\n",
       "var x = new MutationObserver(function (mutations, observer) {{\n",
       "        var display = window.getComputedStyle(gd).display;\n",
       "        if (!display || display === 'none') {{\n",
       "            console.log([gd, 'removed!']);\n",
       "            Plotly.purge(gd);\n",
       "            observer.disconnect();\n",
       "        }}\n",
       "}});\n",
       "\n",
       "// Listen for the removal of the full notebook cells\n",
       "var notebookContainer = gd.closest('#notebook-container');\n",
       "if (notebookContainer) {{\n",
       "    x.observe(notebookContainer, {childList: true});\n",
       "}}\n",
       "\n",
       "// Listen for the clearing of the current output cell\n",
       "var outputEl = gd.closest('.output');\n",
       "if (outputEl) {{\n",
       "    x.observe(outputEl, {childList: true});\n",
       "}}\n",
       "\n",
       "                        })                };                });            </script>        </div>"
      ]
     },
     "metadata": {},
     "output_type": "display_data"
    },
    {
     "data": {
      "application/vnd.plotly.v1+json": {
       "config": {
        "plotlyServerURL": "https://plot.ly"
       },
       "data": [
        {
         "hoverinfo": "y+text",
         "marker": {
          "color": [
           "#1f77b4",
           "#ff7f0e"
          ]
         },
         "name": "Praful932/dolphin-2.2.1-mistral-7b-samsum-ft-v1-awq (dataset - samsum, metric - rouge2)",
         "text": [
          "0.25430",
          "0.25640"
         ],
         "textposition": "auto",
         "type": "bar",
         "x": [
          "Before",
          "After"
         ],
         "y": [
          0.2543,
          0.2564
         ]
        },
        {
         "hoverinfo": "none",
         "line": {
          "color": "#2ca02c",
          "width": 2
         },
         "marker": {
          "color": "#d62728",
          "size": 12
         },
         "mode": "lines+markers",
         "type": "scatter",
         "x": [
          "Before",
          "After"
         ],
         "y": [
          0.2543,
          0.2564
         ]
        }
       ],
       "layout": {
        "annotations": [
         {
          "arrowhead": 2,
          "ax": 0,
          "ay": -40,
          "bgcolor": "rgba(255, 255, 255, 0.9)",
          "bordercolor": "black",
          "borderwidth": 1,
          "font": {
           "color": "black",
           "size": 14
          },
          "showarrow": true,
          "text": "Δ = 0.00210",
          "x": 1,
          "y": 0.2564
         }
        ],
        "font": {
         "size": 14
        },
        "margin": {
         "b": 40,
         "l": 40,
         "r": 40,
         "t": 40
        },
        "showlegend": false,
        "template": {
         "data": {
          "bar": [
           {
            "error_x": {
             "color": "#2a3f5f"
            },
            "error_y": {
             "color": "#2a3f5f"
            },
            "marker": {
             "line": {
              "color": "white",
              "width": 0.5
             },
             "pattern": {
              "fillmode": "overlay",
              "size": 10,
              "solidity": 0.2
             }
            },
            "type": "bar"
           }
          ],
          "barpolar": [
           {
            "marker": {
             "line": {
              "color": "white",
              "width": 0.5
             },
             "pattern": {
              "fillmode": "overlay",
              "size": 10,
              "solidity": 0.2
             }
            },
            "type": "barpolar"
           }
          ],
          "carpet": [
           {
            "aaxis": {
             "endlinecolor": "#2a3f5f",
             "gridcolor": "#C8D4E3",
             "linecolor": "#C8D4E3",
             "minorgridcolor": "#C8D4E3",
             "startlinecolor": "#2a3f5f"
            },
            "baxis": {
             "endlinecolor": "#2a3f5f",
             "gridcolor": "#C8D4E3",
             "linecolor": "#C8D4E3",
             "minorgridcolor": "#C8D4E3",
             "startlinecolor": "#2a3f5f"
            },
            "type": "carpet"
           }
          ],
          "choropleth": [
           {
            "colorbar": {
             "outlinewidth": 0,
             "ticks": ""
            },
            "type": "choropleth"
           }
          ],
          "contour": [
           {
            "colorbar": {
             "outlinewidth": 0,
             "ticks": ""
            },
            "colorscale": [
             [
              0,
              "#0d0887"
             ],
             [
              0.1111111111111111,
              "#46039f"
             ],
             [
              0.2222222222222222,
              "#7201a8"
             ],
             [
              0.3333333333333333,
              "#9c179e"
             ],
             [
              0.4444444444444444,
              "#bd3786"
             ],
             [
              0.5555555555555556,
              "#d8576b"
             ],
             [
              0.6666666666666666,
              "#ed7953"
             ],
             [
              0.7777777777777778,
              "#fb9f3a"
             ],
             [
              0.8888888888888888,
              "#fdca26"
             ],
             [
              1,
              "#f0f921"
             ]
            ],
            "type": "contour"
           }
          ],
          "contourcarpet": [
           {
            "colorbar": {
             "outlinewidth": 0,
             "ticks": ""
            },
            "type": "contourcarpet"
           }
          ],
          "heatmap": [
           {
            "colorbar": {
             "outlinewidth": 0,
             "ticks": ""
            },
            "colorscale": [
             [
              0,
              "#0d0887"
             ],
             [
              0.1111111111111111,
              "#46039f"
             ],
             [
              0.2222222222222222,
              "#7201a8"
             ],
             [
              0.3333333333333333,
              "#9c179e"
             ],
             [
              0.4444444444444444,
              "#bd3786"
             ],
             [
              0.5555555555555556,
              "#d8576b"
             ],
             [
              0.6666666666666666,
              "#ed7953"
             ],
             [
              0.7777777777777778,
              "#fb9f3a"
             ],
             [
              0.8888888888888888,
              "#fdca26"
             ],
             [
              1,
              "#f0f921"
             ]
            ],
            "type": "heatmap"
           }
          ],
          "heatmapgl": [
           {
            "colorbar": {
             "outlinewidth": 0,
             "ticks": ""
            },
            "colorscale": [
             [
              0,
              "#0d0887"
             ],
             [
              0.1111111111111111,
              "#46039f"
             ],
             [
              0.2222222222222222,
              "#7201a8"
             ],
             [
              0.3333333333333333,
              "#9c179e"
             ],
             [
              0.4444444444444444,
              "#bd3786"
             ],
             [
              0.5555555555555556,
              "#d8576b"
             ],
             [
              0.6666666666666666,
              "#ed7953"
             ],
             [
              0.7777777777777778,
              "#fb9f3a"
             ],
             [
              0.8888888888888888,
              "#fdca26"
             ],
             [
              1,
              "#f0f921"
             ]
            ],
            "type": "heatmapgl"
           }
          ],
          "histogram": [
           {
            "marker": {
             "pattern": {
              "fillmode": "overlay",
              "size": 10,
              "solidity": 0.2
             }
            },
            "type": "histogram"
           }
          ],
          "histogram2d": [
           {
            "colorbar": {
             "outlinewidth": 0,
             "ticks": ""
            },
            "colorscale": [
             [
              0,
              "#0d0887"
             ],
             [
              0.1111111111111111,
              "#46039f"
             ],
             [
              0.2222222222222222,
              "#7201a8"
             ],
             [
              0.3333333333333333,
              "#9c179e"
             ],
             [
              0.4444444444444444,
              "#bd3786"
             ],
             [
              0.5555555555555556,
              "#d8576b"
             ],
             [
              0.6666666666666666,
              "#ed7953"
             ],
             [
              0.7777777777777778,
              "#fb9f3a"
             ],
             [
              0.8888888888888888,
              "#fdca26"
             ],
             [
              1,
              "#f0f921"
             ]
            ],
            "type": "histogram2d"
           }
          ],
          "histogram2dcontour": [
           {
            "colorbar": {
             "outlinewidth": 0,
             "ticks": ""
            },
            "colorscale": [
             [
              0,
              "#0d0887"
             ],
             [
              0.1111111111111111,
              "#46039f"
             ],
             [
              0.2222222222222222,
              "#7201a8"
             ],
             [
              0.3333333333333333,
              "#9c179e"
             ],
             [
              0.4444444444444444,
              "#bd3786"
             ],
             [
              0.5555555555555556,
              "#d8576b"
             ],
             [
              0.6666666666666666,
              "#ed7953"
             ],
             [
              0.7777777777777778,
              "#fb9f3a"
             ],
             [
              0.8888888888888888,
              "#fdca26"
             ],
             [
              1,
              "#f0f921"
             ]
            ],
            "type": "histogram2dcontour"
           }
          ],
          "mesh3d": [
           {
            "colorbar": {
             "outlinewidth": 0,
             "ticks": ""
            },
            "type": "mesh3d"
           }
          ],
          "parcoords": [
           {
            "line": {
             "colorbar": {
              "outlinewidth": 0,
              "ticks": ""
             }
            },
            "type": "parcoords"
           }
          ],
          "pie": [
           {
            "automargin": true,
            "type": "pie"
           }
          ],
          "scatter": [
           {
            "fillpattern": {
             "fillmode": "overlay",
             "size": 10,
             "solidity": 0.2
            },
            "type": "scatter"
           }
          ],
          "scatter3d": [
           {
            "line": {
             "colorbar": {
              "outlinewidth": 0,
              "ticks": ""
             }
            },
            "marker": {
             "colorbar": {
              "outlinewidth": 0,
              "ticks": ""
             }
            },
            "type": "scatter3d"
           }
          ],
          "scattercarpet": [
           {
            "marker": {
             "colorbar": {
              "outlinewidth": 0,
              "ticks": ""
             }
            },
            "type": "scattercarpet"
           }
          ],
          "scattergeo": [
           {
            "marker": {
             "colorbar": {
              "outlinewidth": 0,
              "ticks": ""
             }
            },
            "type": "scattergeo"
           }
          ],
          "scattergl": [
           {
            "marker": {
             "colorbar": {
              "outlinewidth": 0,
              "ticks": ""
             }
            },
            "type": "scattergl"
           }
          ],
          "scattermapbox": [
           {
            "marker": {
             "colorbar": {
              "outlinewidth": 0,
              "ticks": ""
             }
            },
            "type": "scattermapbox"
           }
          ],
          "scatterpolar": [
           {
            "marker": {
             "colorbar": {
              "outlinewidth": 0,
              "ticks": ""
             }
            },
            "type": "scatterpolar"
           }
          ],
          "scatterpolargl": [
           {
            "marker": {
             "colorbar": {
              "outlinewidth": 0,
              "ticks": ""
             }
            },
            "type": "scatterpolargl"
           }
          ],
          "scatterternary": [
           {
            "marker": {
             "colorbar": {
              "outlinewidth": 0,
              "ticks": ""
             }
            },
            "type": "scatterternary"
           }
          ],
          "surface": [
           {
            "colorbar": {
             "outlinewidth": 0,
             "ticks": ""
            },
            "colorscale": [
             [
              0,
              "#0d0887"
             ],
             [
              0.1111111111111111,
              "#46039f"
             ],
             [
              0.2222222222222222,
              "#7201a8"
             ],
             [
              0.3333333333333333,
              "#9c179e"
             ],
             [
              0.4444444444444444,
              "#bd3786"
             ],
             [
              0.5555555555555556,
              "#d8576b"
             ],
             [
              0.6666666666666666,
              "#ed7953"
             ],
             [
              0.7777777777777778,
              "#fb9f3a"
             ],
             [
              0.8888888888888888,
              "#fdca26"
             ],
             [
              1,
              "#f0f921"
             ]
            ],
            "type": "surface"
           }
          ],
          "table": [
           {
            "cells": {
             "fill": {
              "color": "#EBF0F8"
             },
             "line": {
              "color": "white"
             }
            },
            "header": {
             "fill": {
              "color": "#C8D4E3"
             },
             "line": {
              "color": "white"
             }
            },
            "type": "table"
           }
          ]
         },
         "layout": {
          "annotationdefaults": {
           "arrowcolor": "#2a3f5f",
           "arrowhead": 0,
           "arrowwidth": 1
          },
          "autotypenumbers": "strict",
          "coloraxis": {
           "colorbar": {
            "outlinewidth": 0,
            "ticks": ""
           }
          },
          "colorscale": {
           "diverging": [
            [
             0,
             "#8e0152"
            ],
            [
             0.1,
             "#c51b7d"
            ],
            [
             0.2,
             "#de77ae"
            ],
            [
             0.3,
             "#f1b6da"
            ],
            [
             0.4,
             "#fde0ef"
            ],
            [
             0.5,
             "#f7f7f7"
            ],
            [
             0.6,
             "#e6f5d0"
            ],
            [
             0.7,
             "#b8e186"
            ],
            [
             0.8,
             "#7fbc41"
            ],
            [
             0.9,
             "#4d9221"
            ],
            [
             1,
             "#276419"
            ]
           ],
           "sequential": [
            [
             0,
             "#0d0887"
            ],
            [
             0.1111111111111111,
             "#46039f"
            ],
            [
             0.2222222222222222,
             "#7201a8"
            ],
            [
             0.3333333333333333,
             "#9c179e"
            ],
            [
             0.4444444444444444,
             "#bd3786"
            ],
            [
             0.5555555555555556,
             "#d8576b"
            ],
            [
             0.6666666666666666,
             "#ed7953"
            ],
            [
             0.7777777777777778,
             "#fb9f3a"
            ],
            [
             0.8888888888888888,
             "#fdca26"
            ],
            [
             1,
             "#f0f921"
            ]
           ],
           "sequentialminus": [
            [
             0,
             "#0d0887"
            ],
            [
             0.1111111111111111,
             "#46039f"
            ],
            [
             0.2222222222222222,
             "#7201a8"
            ],
            [
             0.3333333333333333,
             "#9c179e"
            ],
            [
             0.4444444444444444,
             "#bd3786"
            ],
            [
             0.5555555555555556,
             "#d8576b"
            ],
            [
             0.6666666666666666,
             "#ed7953"
            ],
            [
             0.7777777777777778,
             "#fb9f3a"
            ],
            [
             0.8888888888888888,
             "#fdca26"
            ],
            [
             1,
             "#f0f921"
            ]
           ]
          },
          "colorway": [
           "#636efa",
           "#EF553B",
           "#00cc96",
           "#ab63fa",
           "#FFA15A",
           "#19d3f3",
           "#FF6692",
           "#B6E880",
           "#FF97FF",
           "#FECB52"
          ],
          "font": {
           "color": "#2a3f5f"
          },
          "geo": {
           "bgcolor": "white",
           "lakecolor": "white",
           "landcolor": "white",
           "showlakes": true,
           "showland": true,
           "subunitcolor": "#C8D4E3"
          },
          "hoverlabel": {
           "align": "left"
          },
          "hovermode": "closest",
          "mapbox": {
           "style": "light"
          },
          "paper_bgcolor": "white",
          "plot_bgcolor": "white",
          "polar": {
           "angularaxis": {
            "gridcolor": "#EBF0F8",
            "linecolor": "#EBF0F8",
            "ticks": ""
           },
           "bgcolor": "white",
           "radialaxis": {
            "gridcolor": "#EBF0F8",
            "linecolor": "#EBF0F8",
            "ticks": ""
           }
          },
          "scene": {
           "xaxis": {
            "backgroundcolor": "white",
            "gridcolor": "#DFE8F3",
            "gridwidth": 2,
            "linecolor": "#EBF0F8",
            "showbackground": true,
            "ticks": "",
            "zerolinecolor": "#EBF0F8"
           },
           "yaxis": {
            "backgroundcolor": "white",
            "gridcolor": "#DFE8F3",
            "gridwidth": 2,
            "linecolor": "#EBF0F8",
            "showbackground": true,
            "ticks": "",
            "zerolinecolor": "#EBF0F8"
           },
           "zaxis": {
            "backgroundcolor": "white",
            "gridcolor": "#DFE8F3",
            "gridwidth": 2,
            "linecolor": "#EBF0F8",
            "showbackground": true,
            "ticks": "",
            "zerolinecolor": "#EBF0F8"
           }
          },
          "shapedefaults": {
           "line": {
            "color": "#2a3f5f"
           }
          },
          "ternary": {
           "aaxis": {
            "gridcolor": "#DFE8F3",
            "linecolor": "#A2B1C6",
            "ticks": ""
           },
           "baxis": {
            "gridcolor": "#DFE8F3",
            "linecolor": "#A2B1C6",
            "ticks": ""
           },
           "bgcolor": "white",
           "caxis": {
            "gridcolor": "#DFE8F3",
            "linecolor": "#A2B1C6",
            "ticks": ""
           }
          },
          "title": {
           "x": 0.05
          },
          "xaxis": {
           "automargin": true,
           "gridcolor": "#EBF0F8",
           "linecolor": "#EBF0F8",
           "ticks": "",
           "title": {
            "standoff": 15
           },
           "zerolinecolor": "#EBF0F8",
           "zerolinewidth": 2
          },
          "yaxis": {
           "automargin": true,
           "gridcolor": "#EBF0F8",
           "linecolor": "#EBF0F8",
           "ticks": "",
           "title": {
            "standoff": 15
           },
           "zerolinecolor": "#EBF0F8",
           "zerolinewidth": 2
          }
         }
        },
        "title": {
         "font": {
          "size": 16
         },
         "text": "Praful932/dolphin-2.2.1-mistral-7b-samsum-ft-v1-awq (dataset - samsum, metric - rouge2)",
         "x": 0.5,
         "xanchor": "center"
        },
        "xaxis": {
         "title": {
          "text": "Metric"
         }
        },
        "yaxis": {
         "range": [
          0.25115000000000004,
          0.25955
         ],
         "tickformat": ".5f",
         "title": {
          "text": "Value"
         }
        }
       }
      },
      "text/html": [
       "<div>                            <div id=\"9507a165-41c0-4b58-9e76-4ec61f93743f\" class=\"plotly-graph-div\" style=\"height:525px; width:100%;\"></div>            <script type=\"text/javascript\">                require([\"plotly\"], function(Plotly) {                    window.PLOTLYENV=window.PLOTLYENV || {};                                    if (document.getElementById(\"9507a165-41c0-4b58-9e76-4ec61f93743f\")) {                    Plotly.newPlot(                        \"9507a165-41c0-4b58-9e76-4ec61f93743f\",                        [{\"hoverinfo\":\"y+text\",\"marker\":{\"color\":[\"#1f77b4\",\"#ff7f0e\"]},\"name\":\"Praful932\\u002fdolphin-2.2.1-mistral-7b-samsum-ft-v1-awq (dataset - samsum, metric - rouge2)\",\"text\":[\"0.25430\",\"0.25640\"],\"textposition\":\"auto\",\"x\":[\"Before\",\"After\"],\"y\":[0.2543,0.2564],\"type\":\"bar\"},{\"hoverinfo\":\"none\",\"line\":{\"color\":\"#2ca02c\",\"width\":2},\"marker\":{\"color\":\"#d62728\",\"size\":12},\"mode\":\"lines+markers\",\"x\":[\"Before\",\"After\"],\"y\":[0.2543,0.2564],\"type\":\"scatter\"}],                        {\"template\":{\"data\":{\"barpolar\":[{\"marker\":{\"line\":{\"color\":\"white\",\"width\":0.5},\"pattern\":{\"fillmode\":\"overlay\",\"size\":10,\"solidity\":0.2}},\"type\":\"barpolar\"}],\"bar\":[{\"error_x\":{\"color\":\"#2a3f5f\"},\"error_y\":{\"color\":\"#2a3f5f\"},\"marker\":{\"line\":{\"color\":\"white\",\"width\":0.5},\"pattern\":{\"fillmode\":\"overlay\",\"size\":10,\"solidity\":0.2}},\"type\":\"bar\"}],\"carpet\":[{\"aaxis\":{\"endlinecolor\":\"#2a3f5f\",\"gridcolor\":\"#C8D4E3\",\"linecolor\":\"#C8D4E3\",\"minorgridcolor\":\"#C8D4E3\",\"startlinecolor\":\"#2a3f5f\"},\"baxis\":{\"endlinecolor\":\"#2a3f5f\",\"gridcolor\":\"#C8D4E3\",\"linecolor\":\"#C8D4E3\",\"minorgridcolor\":\"#C8D4E3\",\"startlinecolor\":\"#2a3f5f\"},\"type\":\"carpet\"}],\"choropleth\":[{\"colorbar\":{\"outlinewidth\":0,\"ticks\":\"\"},\"type\":\"choropleth\"}],\"contourcarpet\":[{\"colorbar\":{\"outlinewidth\":0,\"ticks\":\"\"},\"type\":\"contourcarpet\"}],\"contour\":[{\"colorbar\":{\"outlinewidth\":0,\"ticks\":\"\"},\"colorscale\":[[0.0,\"#0d0887\"],[0.1111111111111111,\"#46039f\"],[0.2222222222222222,\"#7201a8\"],[0.3333333333333333,\"#9c179e\"],[0.4444444444444444,\"#bd3786\"],[0.5555555555555556,\"#d8576b\"],[0.6666666666666666,\"#ed7953\"],[0.7777777777777778,\"#fb9f3a\"],[0.8888888888888888,\"#fdca26\"],[1.0,\"#f0f921\"]],\"type\":\"contour\"}],\"heatmapgl\":[{\"colorbar\":{\"outlinewidth\":0,\"ticks\":\"\"},\"colorscale\":[[0.0,\"#0d0887\"],[0.1111111111111111,\"#46039f\"],[0.2222222222222222,\"#7201a8\"],[0.3333333333333333,\"#9c179e\"],[0.4444444444444444,\"#bd3786\"],[0.5555555555555556,\"#d8576b\"],[0.6666666666666666,\"#ed7953\"],[0.7777777777777778,\"#fb9f3a\"],[0.8888888888888888,\"#fdca26\"],[1.0,\"#f0f921\"]],\"type\":\"heatmapgl\"}],\"heatmap\":[{\"colorbar\":{\"outlinewidth\":0,\"ticks\":\"\"},\"colorscale\":[[0.0,\"#0d0887\"],[0.1111111111111111,\"#46039f\"],[0.2222222222222222,\"#7201a8\"],[0.3333333333333333,\"#9c179e\"],[0.4444444444444444,\"#bd3786\"],[0.5555555555555556,\"#d8576b\"],[0.6666666666666666,\"#ed7953\"],[0.7777777777777778,\"#fb9f3a\"],[0.8888888888888888,\"#fdca26\"],[1.0,\"#f0f921\"]],\"type\":\"heatmap\"}],\"histogram2dcontour\":[{\"colorbar\":{\"outlinewidth\":0,\"ticks\":\"\"},\"colorscale\":[[0.0,\"#0d0887\"],[0.1111111111111111,\"#46039f\"],[0.2222222222222222,\"#7201a8\"],[0.3333333333333333,\"#9c179e\"],[0.4444444444444444,\"#bd3786\"],[0.5555555555555556,\"#d8576b\"],[0.6666666666666666,\"#ed7953\"],[0.7777777777777778,\"#fb9f3a\"],[0.8888888888888888,\"#fdca26\"],[1.0,\"#f0f921\"]],\"type\":\"histogram2dcontour\"}],\"histogram2d\":[{\"colorbar\":{\"outlinewidth\":0,\"ticks\":\"\"},\"colorscale\":[[0.0,\"#0d0887\"],[0.1111111111111111,\"#46039f\"],[0.2222222222222222,\"#7201a8\"],[0.3333333333333333,\"#9c179e\"],[0.4444444444444444,\"#bd3786\"],[0.5555555555555556,\"#d8576b\"],[0.6666666666666666,\"#ed7953\"],[0.7777777777777778,\"#fb9f3a\"],[0.8888888888888888,\"#fdca26\"],[1.0,\"#f0f921\"]],\"type\":\"histogram2d\"}],\"histogram\":[{\"marker\":{\"pattern\":{\"fillmode\":\"overlay\",\"size\":10,\"solidity\":0.2}},\"type\":\"histogram\"}],\"mesh3d\":[{\"colorbar\":{\"outlinewidth\":0,\"ticks\":\"\"},\"type\":\"mesh3d\"}],\"parcoords\":[{\"line\":{\"colorbar\":{\"outlinewidth\":0,\"ticks\":\"\"}},\"type\":\"parcoords\"}],\"pie\":[{\"automargin\":true,\"type\":\"pie\"}],\"scatter3d\":[{\"line\":{\"colorbar\":{\"outlinewidth\":0,\"ticks\":\"\"}},\"marker\":{\"colorbar\":{\"outlinewidth\":0,\"ticks\":\"\"}},\"type\":\"scatter3d\"}],\"scattercarpet\":[{\"marker\":{\"colorbar\":{\"outlinewidth\":0,\"ticks\":\"\"}},\"type\":\"scattercarpet\"}],\"scattergeo\":[{\"marker\":{\"colorbar\":{\"outlinewidth\":0,\"ticks\":\"\"}},\"type\":\"scattergeo\"}],\"scattergl\":[{\"marker\":{\"colorbar\":{\"outlinewidth\":0,\"ticks\":\"\"}},\"type\":\"scattergl\"}],\"scattermapbox\":[{\"marker\":{\"colorbar\":{\"outlinewidth\":0,\"ticks\":\"\"}},\"type\":\"scattermapbox\"}],\"scatterpolargl\":[{\"marker\":{\"colorbar\":{\"outlinewidth\":0,\"ticks\":\"\"}},\"type\":\"scatterpolargl\"}],\"scatterpolar\":[{\"marker\":{\"colorbar\":{\"outlinewidth\":0,\"ticks\":\"\"}},\"type\":\"scatterpolar\"}],\"scatter\":[{\"fillpattern\":{\"fillmode\":\"overlay\",\"size\":10,\"solidity\":0.2},\"type\":\"scatter\"}],\"scatterternary\":[{\"marker\":{\"colorbar\":{\"outlinewidth\":0,\"ticks\":\"\"}},\"type\":\"scatterternary\"}],\"surface\":[{\"colorbar\":{\"outlinewidth\":0,\"ticks\":\"\"},\"colorscale\":[[0.0,\"#0d0887\"],[0.1111111111111111,\"#46039f\"],[0.2222222222222222,\"#7201a8\"],[0.3333333333333333,\"#9c179e\"],[0.4444444444444444,\"#bd3786\"],[0.5555555555555556,\"#d8576b\"],[0.6666666666666666,\"#ed7953\"],[0.7777777777777778,\"#fb9f3a\"],[0.8888888888888888,\"#fdca26\"],[1.0,\"#f0f921\"]],\"type\":\"surface\"}],\"table\":[{\"cells\":{\"fill\":{\"color\":\"#EBF0F8\"},\"line\":{\"color\":\"white\"}},\"header\":{\"fill\":{\"color\":\"#C8D4E3\"},\"line\":{\"color\":\"white\"}},\"type\":\"table\"}]},\"layout\":{\"annotationdefaults\":{\"arrowcolor\":\"#2a3f5f\",\"arrowhead\":0,\"arrowwidth\":1},\"autotypenumbers\":\"strict\",\"coloraxis\":{\"colorbar\":{\"outlinewidth\":0,\"ticks\":\"\"}},\"colorscale\":{\"diverging\":[[0,\"#8e0152\"],[0.1,\"#c51b7d\"],[0.2,\"#de77ae\"],[0.3,\"#f1b6da\"],[0.4,\"#fde0ef\"],[0.5,\"#f7f7f7\"],[0.6,\"#e6f5d0\"],[0.7,\"#b8e186\"],[0.8,\"#7fbc41\"],[0.9,\"#4d9221\"],[1,\"#276419\"]],\"sequential\":[[0.0,\"#0d0887\"],[0.1111111111111111,\"#46039f\"],[0.2222222222222222,\"#7201a8\"],[0.3333333333333333,\"#9c179e\"],[0.4444444444444444,\"#bd3786\"],[0.5555555555555556,\"#d8576b\"],[0.6666666666666666,\"#ed7953\"],[0.7777777777777778,\"#fb9f3a\"],[0.8888888888888888,\"#fdca26\"],[1.0,\"#f0f921\"]],\"sequentialminus\":[[0.0,\"#0d0887\"],[0.1111111111111111,\"#46039f\"],[0.2222222222222222,\"#7201a8\"],[0.3333333333333333,\"#9c179e\"],[0.4444444444444444,\"#bd3786\"],[0.5555555555555556,\"#d8576b\"],[0.6666666666666666,\"#ed7953\"],[0.7777777777777778,\"#fb9f3a\"],[0.8888888888888888,\"#fdca26\"],[1.0,\"#f0f921\"]]},\"colorway\":[\"#636efa\",\"#EF553B\",\"#00cc96\",\"#ab63fa\",\"#FFA15A\",\"#19d3f3\",\"#FF6692\",\"#B6E880\",\"#FF97FF\",\"#FECB52\"],\"font\":{\"color\":\"#2a3f5f\"},\"geo\":{\"bgcolor\":\"white\",\"lakecolor\":\"white\",\"landcolor\":\"white\",\"showlakes\":true,\"showland\":true,\"subunitcolor\":\"#C8D4E3\"},\"hoverlabel\":{\"align\":\"left\"},\"hovermode\":\"closest\",\"mapbox\":{\"style\":\"light\"},\"paper_bgcolor\":\"white\",\"plot_bgcolor\":\"white\",\"polar\":{\"angularaxis\":{\"gridcolor\":\"#EBF0F8\",\"linecolor\":\"#EBF0F8\",\"ticks\":\"\"},\"bgcolor\":\"white\",\"radialaxis\":{\"gridcolor\":\"#EBF0F8\",\"linecolor\":\"#EBF0F8\",\"ticks\":\"\"}},\"scene\":{\"xaxis\":{\"backgroundcolor\":\"white\",\"gridcolor\":\"#DFE8F3\",\"gridwidth\":2,\"linecolor\":\"#EBF0F8\",\"showbackground\":true,\"ticks\":\"\",\"zerolinecolor\":\"#EBF0F8\"},\"yaxis\":{\"backgroundcolor\":\"white\",\"gridcolor\":\"#DFE8F3\",\"gridwidth\":2,\"linecolor\":\"#EBF0F8\",\"showbackground\":true,\"ticks\":\"\",\"zerolinecolor\":\"#EBF0F8\"},\"zaxis\":{\"backgroundcolor\":\"white\",\"gridcolor\":\"#DFE8F3\",\"gridwidth\":2,\"linecolor\":\"#EBF0F8\",\"showbackground\":true,\"ticks\":\"\",\"zerolinecolor\":\"#EBF0F8\"}},\"shapedefaults\":{\"line\":{\"color\":\"#2a3f5f\"}},\"ternary\":{\"aaxis\":{\"gridcolor\":\"#DFE8F3\",\"linecolor\":\"#A2B1C6\",\"ticks\":\"\"},\"baxis\":{\"gridcolor\":\"#DFE8F3\",\"linecolor\":\"#A2B1C6\",\"ticks\":\"\"},\"bgcolor\":\"white\",\"caxis\":{\"gridcolor\":\"#DFE8F3\",\"linecolor\":\"#A2B1C6\",\"ticks\":\"\"}},\"title\":{\"x\":0.05},\"xaxis\":{\"automargin\":true,\"gridcolor\":\"#EBF0F8\",\"linecolor\":\"#EBF0F8\",\"ticks\":\"\",\"title\":{\"standoff\":15},\"zerolinecolor\":\"#EBF0F8\",\"zerolinewidth\":2},\"yaxis\":{\"automargin\":true,\"gridcolor\":\"#EBF0F8\",\"linecolor\":\"#EBF0F8\",\"ticks\":\"\",\"title\":{\"standoff\":15},\"zerolinecolor\":\"#EBF0F8\",\"zerolinewidth\":2}}},\"annotations\":[{\"arrowhead\":2,\"ax\":0,\"ay\":-40,\"bgcolor\":\"rgba(255, 255, 255, 0.9)\",\"bordercolor\":\"black\",\"borderwidth\":1,\"font\":{\"color\":\"black\",\"size\":14},\"showarrow\":true,\"text\":\"\\u0394 = 0.00210\",\"x\":1,\"y\":0.2564}],\"title\":{\"font\":{\"size\":16},\"text\":\"Praful932\\u002fdolphin-2.2.1-mistral-7b-samsum-ft-v1-awq (dataset - samsum, metric - rouge2)\",\"x\":0.5,\"xanchor\":\"center\"},\"yaxis\":{\"title\":{\"text\":\"Value\"},\"range\":[0.25115000000000004,0.25955],\"tickformat\":\".5f\"},\"margin\":{\"l\":40,\"r\":40,\"t\":40,\"b\":40},\"font\":{\"size\":14},\"xaxis\":{\"title\":{\"text\":\"Metric\"}},\"showlegend\":false},                        {\"responsive\": true}                    ).then(function(){\n",
       "                            \n",
       "var gd = document.getElementById('9507a165-41c0-4b58-9e76-4ec61f93743f');\n",
       "var x = new MutationObserver(function (mutations, observer) {{\n",
       "        var display = window.getComputedStyle(gd).display;\n",
       "        if (!display || display === 'none') {{\n",
       "            console.log([gd, 'removed!']);\n",
       "            Plotly.purge(gd);\n",
       "            observer.disconnect();\n",
       "        }}\n",
       "}});\n",
       "\n",
       "// Listen for the removal of the full notebook cells\n",
       "var notebookContainer = gd.closest('#notebook-container');\n",
       "if (notebookContainer) {{\n",
       "    x.observe(notebookContainer, {childList: true});\n",
       "}}\n",
       "\n",
       "// Listen for the clearing of the current output cell\n",
       "var outputEl = gd.closest('.output');\n",
       "if (outputEl) {{\n",
       "    x.observe(outputEl, {childList: true});\n",
       "}}\n",
       "\n",
       "                        })                };                });            </script>        </div>"
      ]
     },
     "metadata": {},
     "output_type": "display_data"
    }
   ],
   "source": [
    "import plotly.graph_objects as go\n",
    "import pandas as pd\n",
    "\n",
    "def plot_model_performance(data):\n",
    "    # Convert the data dictionary to a DataFrame for easier handling\n",
    "    df = pd.DataFrame(data)\n",
    "\n",
    "    for index, row in df.iterrows():\n",
    "        # Convert 'before' and 'after' scores to percentages if the metric is accuracy\n",
    "        if row['metric'] == 'accuracy':\n",
    "            before_value = row['before'] * 100\n",
    "            after_value = row['after'] * 100\n",
    "            value_format = \"{:.2f}%\"\n",
    "            delta_format = \"Δ = {:.2f}%\"\n",
    "        else:\n",
    "            before_value = row['before']\n",
    "            after_value = row['after']\n",
    "            value_format = \"{:.5f}\"\n",
    "            delta_format = \"Δ = {:.5f}\"\n",
    "\n",
    "        # Calculate the delta (difference between after and before)\n",
    "        delta = after_value - before_value\n",
    "\n",
    "        # Determine the y-axis range for better visibility of the delta\n",
    "        y_min = min(before_value, after_value) - abs(delta) * 1.5  # Adjust the range to make delta visible\n",
    "        y_max = max(before_value, after_value) + abs(delta) * 1.5  # Adjust the range to make delta visible\n",
    "\n",
    "        # Create a plot for each model\n",
    "        fig = go.Figure()\n",
    "\n",
    "        # Add 'before' and 'after' bars\n",
    "        fig.add_trace(go.Bar(\n",
    "            x=['Before', 'After'],\n",
    "            y=[before_value, after_value],\n",
    "            text=[value_format.format(before_value), value_format.format(after_value)],\n",
    "            textposition='auto',\n",
    "            name=row['model'],\n",
    "            marker_color=['#1f77b4', '#ff7f0e'],  # Blue and orange for better contrast\n",
    "            hoverinfo='y+text'\n",
    "        ))\n",
    "\n",
    "        # Add a line indicating the delta without text\n",
    "        fig.add_trace(go.Scatter(\n",
    "            x=['Before', 'After'],\n",
    "            y=[before_value, after_value],\n",
    "            mode='lines+markers',\n",
    "            line=dict(color='#2ca02c', width=2),  # Green line\n",
    "            marker=dict(size=12, color='#d62728'),  # Red markers\n",
    "            hoverinfo='none'\n",
    "        ))\n",
    "\n",
    "        # Add annotations for delta\n",
    "        fig.add_annotation(\n",
    "            x=1,\n",
    "            y=after_value,\n",
    "            text=delta_format.format(delta),\n",
    "            showarrow=True,\n",
    "            arrowhead=2,\n",
    "            ax=0,\n",
    "            ay=-40,\n",
    "            font=dict(size=14, color=\"black\"),\n",
    "            bgcolor=\"rgba(255, 255, 255, 0.9)\",\n",
    "            bordercolor=\"black\",\n",
    "            borderwidth=1\n",
    "        )\n",
    "\n",
    "        # Update layout for better readability and appearance\n",
    "        fig.update_layout(\n",
    "            title=dict(\n",
    "                text=f\"{row['model']}\",\n",
    "                x=0.5,\n",
    "                xanchor='center',\n",
    "                font=dict(size=16)  # Smaller font size for the title\n",
    "            ),\n",
    "            xaxis_title='Metric',\n",
    "            yaxis_title='Value',\n",
    "            yaxis=dict(range=[y_min, y_max], tickformat=\".2f\" if row['metric'] == 'accuracy' else \".5f\"),\n",
    "            margin=dict(l=40, r=40, t=40, b=40),\n",
    "            template='plotly_white',\n",
    "            showlegend=False,\n",
    "            font=dict(size=14)\n",
    "        )\n",
    "\n",
    "        fig.show()\n",
    "\n",
    "# Example usage with your data\n",
    "data = {\n",
    "    'model': ['TheBloke/CapybaraHermes-2.5-Mistral-7B-AWQ (dataset - gsm8k, metric - accuracy)', 'Praful932/dolphin-2.2.1-mistral-7b-samsum-ft-v1-awq (dataset - samsum, metric - rouge2)'],\n",
    "    'dataset': ['gsm8k', 'samsum'],\n",
    "    'before': [0.545, 0.2543],\n",
    "    'after': [0.5525, 0.2564],\n",
    "    'samples': [500, 500],\n",
    "    'metric': ['accuracy', 'rouge_2'],\n",
    "    'best_params': [\n",
    "        {'do_sample': True, 'generation_seed': 42, 'max_new_tokens': 500, 'no_repeat_ngram_size': 0, 'stopping_criteria': ['MultiTokenStoppingCriteria'], 'top_k': 10, 'top_p': 0.7},\n",
    "        {'do_sample': True, 'generation_seed': 42, 'max_new_tokens': 70, 'no_repeat_ngram_size': 0, 'stopping_criteria': ['MultiTokenStoppingCriteria'], 'temperature': 0.1, 'top_k': 50}\n",
    "    ]\n",
    "}\n",
    "\n",
    "plot_model_performance(data)\n"
   ]
  },
  {
   "cell_type": "code",
   "execution_count": 5,
   "metadata": {},
   "outputs": [
    {
     "name": "stderr",
     "output_type": "stream",
     "text": [
      "/Users/praful932/miniconda3/envs/llmsearch-env/lib/python3.8/site-packages/transformers/utils/generic.py:485: UserWarning: torch.utils._pytree._register_pytree_node is deprecated. Please use torch.utils._pytree.register_pytree_node instead.\n",
      "  _torch_pytree._register_pytree_node(\n"
     ]
    },
    {
     "name": "stdout",
     "output_type": "stream",
     "text": [
      "Monkey Patching .generate function of `transformers` library\n"
     ]
    },
    {
     "name": "stderr",
     "output_type": "stream",
     "text": [
      "/Users/praful932/miniconda3/envs/llmsearch-env/lib/python3.8/site-packages/transformers/utils/generic.py:342: UserWarning: torch.utils._pytree._register_pytree_node is deprecated. Please use torch.utils._pytree.register_pytree_node instead.\n",
      "  _torch_pytree._register_pytree_node(\n",
      "/Users/praful932/miniconda3/envs/llmsearch-env/lib/python3.8/site-packages/transformers/utils/generic.py:342: UserWarning: torch.utils._pytree._register_pytree_node is deprecated. Please use torch.utils._pytree.register_pytree_node instead.\n",
      "  _torch_pytree._register_pytree_node(\n",
      "/Users/praful932/miniconda3/envs/llmsearch-env/lib/python3.8/site-packages/huggingface_hub/file_download.py:1132: FutureWarning: `resume_download` is deprecated and will be removed in version 1.0.0. Downloads always resume when possible. If you want to force a new download, use `force_download=True`.\n",
      "  Additional headers to be sent with the request.\n",
      "Special tokens have been added in the vocabulary, make sure the associated word embeddings are fine-tuned or trained.\n",
      "/Users/praful932/miniconda3/envs/llmsearch-env/lib/python3.8/site-packages/transformers/utils/generic.py:342: UserWarning: torch.utils._pytree._register_pytree_node is deprecated. Please use torch.utils._pytree.register_pytree_node instead.\n",
      "  _torch_pytree._register_pytree_node(\n",
      "Downloading shards:  25%|██▌       | 1/4 [14:52<44:38, 892.68s/it]"
     ]
    }
   ],
   "source": [
    "# Requires j\n",
    "\n",
    "import sys\n",
    "sys.path.append('/Users/praful932/myfiles/code/llmsearch')\n",
    "\n",
    "import torch\n",
    "import evaluate\n",
    "import datasets\n",
    "import numpy as np\n",
    "\n",
    "from llmsearch.tuner import Tuner\n",
    "from sklearn.model_selection import GridSearchCV\n",
    "from llmsearch.scripts.stopping_criteria import MultiTokenStoppingCriteria\n",
    "from transformers import AutoTokenizer, AutoModelForCausalLM, StoppingCriteriaList\n",
    "\n",
    "seed = 42\n",
    "batch_size = 2\n",
    "num_samples = 10\n",
    "\n",
    "# Load model & tokenizer\n",
    "model_id = \"cognitivecomputations/dolphin-2.9-llama3-8b\"\n",
    "tokenizer = AutoTokenizer.from_pretrained(model_id, padding_side = \"left\")\n",
    "model = AutoModelForCausalLM.from_pretrained(model_id, torch_dtype = torch.float16, device_map = \"auto\")\n",
    "\n",
    "# Load dataset & metric used to evaluate the model during the search\n",
    "dataset = datasets.load_dataset(\"samsum\")['train']\n",
    "sample_dataset = dataset.shuffle(seed = seed).select(range(num_samples))\n",
    "rouge = evaluate.load('rouge')\n",
    "\n",
    "# Optional : Define stopping criteria for the generation, here we stop a generation of a sequence when `<|im_end|>` is reached\n",
    "multi_token_stop_criteria_ob = MultiTokenStoppingCriteria(sequence_ids=[128256])\n",
    "stopping_criteria = StoppingCriteriaList([multi_token_stop_criteria_ob])\n",
    "# useful when batching\n",
    "callbacks_after_inference = [multi_token_stop_criteria_ob.reset]\n",
    "\n",
    "# Scorer\n",
    "def get_rouge_score(y_true, y_pred):\n",
    "    return np.mean(rouge.compute(predictions=y_pred, references=[item['summary'] for item in y_true], use_stemmer=True, use_aggregator=False)['rouge2'])\n",
    "\n",
    "# Process dataset to chat format\n",
    "def sample_to_chat_format(tokenizer, **kwargs):\n",
    "    messages = [\n",
    "        {\n",
    "            'role' : \"system\",\n",
    "            'content' : \"You are Dolphin, a helpful AI assistant.\"\n",
    "        },\n",
    "        {\n",
    "            'role' : \"user\",\n",
    "            'content' : f\"Summarize the following text: {kwargs['dialogue']}\"\n",
    "        }\n",
    "    ]\n",
    "    return tokenizer.apply_chat_template(messages, tokenize = False, add_generation_prompt = True)\n",
    "\n",
    "# Define tuner object and pass in model, metric & dataset\n",
    "tuner_ob = Tuner(\n",
    "    model=model,\n",
    "    tokenizer=tokenizer,\n",
    "    dataset=sample_dataset,\n",
    "    device=\"cuda:0\",\n",
    "    batch_size=batch_size,\n",
    "    tokenizer_encode_args={\"padding\": \"longest\",'truncation' : True, \"add_special_tokens\": False, 'max_length' : 1024},\n",
    "    tokenizer_decode_args={\"spaces_between_special_tokens\": False, 'skip_special_tokens' : True},\n",
    "    scorer=get_rouge_score,\n",
    "    sample_preprocessor=sample_to_chat_format,\n",
    "    seed=seed,\n",
    "    column_mapping={\"input_cols\": [\"dialogue\"], \"eval_cols\": [\"summary\"]},\n",
    "    callbacks_after_inference=callbacks_after_inference,\n",
    ")"
   ]
  },
  {
   "cell_type": "code",
   "execution_count": 19,
   "metadata": {},
   "outputs": [
    {
     "data": {
      "text/html": [
       "\n",
       "                <audio  controls=\"controls\" autoplay=\"autoplay\">\n",
       "                    <source src=\"data:audio/wav;base64,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\" type=\"audio/wav\" />\n",
       "                    Your browser does not support the audio element.\n",
       "                </audio>\n",
       "              "
      ],
      "text/plain": [
       "<IPython.lib.display.Audio object>"
      ]
     },
     "execution_count": 19,
     "metadata": {},
     "output_type": "execute_result"
    }
   ],
   "source": [
    "from IPython.lib.display import Audio\n",
    "import numpy as np\n",
    "\n",
    "framerate = 4410\n",
    "play_time_seconds = 2\n",
    "\n",
    "t = np.linspace(0, play_time_seconds, framerate*play_time_seconds)\n",
    "audio_data = np.sin(2*np.pi*300*t) + np.sin(2*np.pi*240*t)\n",
    "Audio(audio_data, rate=framerate, autoplay=True)"
   ]
  },
  {
   "cell_type": "code",
   "execution_count": 20,
   "metadata": {},
   "outputs": [
    {
     "data": {
      "text/html": [
       "\n",
       "                <audio  controls=\"controls\" autoplay=\"autoplay\">\n",
       "                    <source src=\"data:audio/wav;base64,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\" type=\"audio/wav\" />\n",
       "                    Your browser does not support the audio element.\n",
       "                </audio>\n",
       "              "
      ],
      "text/plain": [
       "<IPython.lib.display.Audio object>"
      ]
     },
     "execution_count": 20,
     "metadata": {},
     "output_type": "execute_result"
    }
   ],
   "source": [
    "audio_data = np.sin(4*np.pi*100*t) + np.sin(2*np.pi*240*t)\n",
    "Audio(audio_data, rate=framerate, autoplay=True)"
   ]
  },
  {
   "cell_type": "code",
   "execution_count": 22,
   "metadata": {},
   "outputs": [
    {
     "data": {
      "text/html": [
       "\n",
       "                <audio  controls=\"controls\" autoplay=\"autoplay\">\n",
       "                    <source src=\"data:audio/wav;base64,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\" type=\"audio/wav\" />\n",
       "                    Your browser does not support the audio element.\n",
       "                </audio>\n",
       "              "
      ],
      "text/plain": [
       "<IPython.lib.display.Audio object>"
      ]
     },
     "execution_count": 22,
     "metadata": {},
     "output_type": "execute_result"
    }
   ],
   "source": [
    "audio_data = np.sin(5*np.pi*100*t) + np.sin(2*np.pi*240*t)\n",
    "Audio(audio_data, rate=framerate, autoplay=True)"
   ]
  },
  {
   "cell_type": "code",
   "execution_count": 1,
   "metadata": {},
   "outputs": [
    {
     "data": {
      "application/vnd.jupyter.widget-view+json": {
       "model_id": "d76dbb303ad0403da6546b1f17cf5b3d",
       "version_major": 2,
       "version_minor": 0
      },
      "text/plain": [
       "config.json:   0%|          | 0.00/911 [00:00<?, ?B/s]"
      ]
     },
     "metadata": {},
     "output_type": "display_data"
    },
    {
     "data": {
      "application/vnd.jupyter.widget-view+json": {
       "model_id": "afe85e9d861347ffb980428b1a319682",
       "version_major": 2,
       "version_minor": 0
      },
      "text/plain": [
       "Fetching 11 files:   0%|          | 0/11 [00:00<?, ?it/s]"
      ]
     },
     "metadata": {},
     "output_type": "display_data"
    },
    {
     "data": {
      "application/vnd.jupyter.widget-view+json": {
       "model_id": "ba63d0591d08428ea088333ef0df074a",
       "version_major": 2,
       "version_minor": 0
      },
      "text/plain": [
       ".gitattributes:   0%|          | 0.00/1.52k [00:00<?, ?B/s]"
      ]
     },
     "metadata": {},
     "output_type": "display_data"
    },
    {
     "data": {
      "application/vnd.jupyter.widget-view+json": {
       "model_id": "1449c11c2e6a4c6d8f96de4f45090095",
       "version_major": 2,
       "version_minor": 0
      },
      "text/plain": [
       "README.md:   0%|          | 0.00/17.9k [00:00<?, ?B/s]"
      ]
     },
     "metadata": {},
     "output_type": "display_data"
    },
    {
     "data": {
      "application/vnd.jupyter.widget-view+json": {
       "model_id": "0eda5d09914a4c2797bb0e863a7df5ab",
       "version_major": 2,
       "version_minor": 0
      },
      "text/plain": [
       "added_tokens.json:   0%|          | 0.00/51.0 [00:00<?, ?B/s]"
      ]
     },
     "metadata": {},
     "output_type": "display_data"
    },
    {
     "data": {
      "application/vnd.jupyter.widget-view+json": {
       "model_id": "94a6a6412f914af0b5045e341030b1ed",
       "version_major": 2,
       "version_minor": 0
      },
      "text/plain": [
       "generation_config.json:   0%|          | 0.00/115 [00:00<?, ?B/s]"
      ]
     },
     "metadata": {},
     "output_type": "display_data"
    },
    {
     "data": {
      "application/vnd.jupyter.widget-view+json": {
       "model_id": "2627a07d55d74581874be4a52d3284d5",
       "version_major": 2,
       "version_minor": 0
      },
      "text/plain": [
       "special_tokens_map.json:   0%|          | 0.00/420 [00:00<?, ?B/s]"
      ]
     },
     "metadata": {},
     "output_type": "display_data"
    },
    {
     "data": {
      "application/vnd.jupyter.widget-view+json": {
       "model_id": "604ccdf353b7468886cf91802dc9075d",
       "version_major": 2,
       "version_minor": 0
      },
      "text/plain": [
       "tokenizer.json:   0%|          | 0.00/1.80M [00:00<?, ?B/s]"
      ]
     },
     "metadata": {},
     "output_type": "display_data"
    },
    {
     "data": {
      "application/vnd.jupyter.widget-view+json": {
       "model_id": "0fd16b9fee6b44be9d6707cb896eaef6",
       "version_major": 2,
       "version_minor": 0
      },
      "text/plain": [
       "quant_config.json:   0%|          | 0.00/126 [00:00<?, ?B/s]"
      ]
     },
     "metadata": {},
     "output_type": "display_data"
    },
    {
     "data": {
      "application/vnd.jupyter.widget-view+json": {
       "model_id": "77e74e14d1f14f72a29bcac683692d12",
       "version_major": 2,
       "version_minor": 0
      },
      "text/plain": [
       "model.safetensors:   0%|          | 0.00/4.15G [00:00<?, ?B/s]"
      ]
     },
     "metadata": {},
     "output_type": "display_data"
    },
    {
     "data": {
      "application/vnd.jupyter.widget-view+json": {
       "model_id": "cc59c89ec43347449b34344a742707c0",
       "version_major": 2,
       "version_minor": 0
      },
      "text/plain": [
       "tokenizer.model:   0%|          | 0.00/493k [00:00<?, ?B/s]"
      ]
     },
     "metadata": {},
     "output_type": "display_data"
    },
    {
     "data": {
      "application/vnd.jupyter.widget-view+json": {
       "model_id": "7cf5bac42b2f4d4d9620e955ad2a5ceb",
       "version_major": 2,
       "version_minor": 0
      },
      "text/plain": [
       "tokenizer_config.json:   0%|          | 0.00/1.60k [00:00<?, ?B/s]"
      ]
     },
     "metadata": {},
     "output_type": "display_data"
    },
    {
     "ename": "KeyboardInterrupt",
     "evalue": "",
     "output_type": "error",
     "traceback": [
      "\u001b[0;31m---------------------------------------------------------------------------\u001b[0m",
      "\u001b[0;31mKeyboardInterrupt\u001b[0m                         Traceback (most recent call last)",
      "Cell \u001b[0;32mIn[1], line 10\u001b[0m\n\u001b[1;32m      7\u001b[0m quant_path \u001b[38;5;241m=\u001b[39m \u001b[38;5;124m\"\u001b[39m\u001b[38;5;124mTheBloke/CapybaraHermes-2.5-Mistral-7B-AWQ\u001b[39m\u001b[38;5;124m\"\u001b[39m\n\u001b[1;32m      9\u001b[0m \u001b[38;5;66;03m# Load model\u001b[39;00m\n\u001b[0;32m---> 10\u001b[0m model \u001b[38;5;241m=\u001b[39m \u001b[43mAutoAWQForCausalLM\u001b[49m\u001b[38;5;241;43m.\u001b[39;49m\u001b[43mfrom_quantized\u001b[49m\u001b[43m(\u001b[49m\u001b[43mquant_path\u001b[49m\u001b[43m,\u001b[49m\u001b[43m \u001b[49m\u001b[43mfuse_layers\u001b[49m\u001b[38;5;241;43m=\u001b[39;49m\u001b[38;5;28;43;01mTrue\u001b[39;49;00m\u001b[43m)\u001b[49m\n\u001b[1;32m     11\u001b[0m tokenizer \u001b[38;5;241m=\u001b[39m AutoTokenizer\u001b[38;5;241m.\u001b[39mfrom_pretrained(quant_path, trust_remote_code\u001b[38;5;241m=\u001b[39m\u001b[38;5;28;01mTrue\u001b[39;00m)\n",
      "File \u001b[0;32m/usr/local/lib/python3.10/dist-packages/awq/models/auto.py:95\u001b[0m, in \u001b[0;36mAutoAWQForCausalLM.from_quantized\u001b[0;34m(self, quant_path, quant_filename, max_seq_len, trust_remote_code, fuse_layers, use_exllama, use_exllama_v2, batch_size, safetensors, device_map, offload_folder, **config_kwargs)\u001b[0m\n\u001b[1;32m     89\u001b[0m     max_seq_len \u001b[38;5;241m=\u001b[39m config_kwargs[\u001b[38;5;124m\"\u001b[39m\u001b[38;5;124mmax_new_tokens\u001b[39m\u001b[38;5;124m\"\u001b[39m]\n\u001b[1;32m     90\u001b[0m     logging\u001b[38;5;241m.\u001b[39mwarning(\n\u001b[1;32m     91\u001b[0m         \u001b[38;5;124m\"\u001b[39m\u001b[38;5;124mmax_new_tokens argument is deprecated... gracefully \u001b[39m\u001b[38;5;124m\"\u001b[39m\n\u001b[1;32m     92\u001b[0m         \u001b[38;5;124m\"\u001b[39m\u001b[38;5;124msetting max_seq_len=max_new_tokens.\u001b[39m\u001b[38;5;124m\"\u001b[39m\n\u001b[1;32m     93\u001b[0m     )\n\u001b[0;32m---> 95\u001b[0m \u001b[38;5;28;01mreturn\u001b[39;00m \u001b[43mAWQ_CAUSAL_LM_MODEL_MAP\u001b[49m\u001b[43m[\u001b[49m\u001b[43mmodel_type\u001b[49m\u001b[43m]\u001b[49m\u001b[38;5;241;43m.\u001b[39;49m\u001b[43mfrom_quantized\u001b[49m\u001b[43m(\u001b[49m\n\u001b[1;32m     96\u001b[0m \u001b[43m    \u001b[49m\u001b[43mquant_path\u001b[49m\u001b[43m,\u001b[49m\n\u001b[1;32m     97\u001b[0m \u001b[43m    \u001b[49m\u001b[43mmodel_type\u001b[49m\u001b[43m,\u001b[49m\n\u001b[1;32m     98\u001b[0m \u001b[43m    \u001b[49m\u001b[43mquant_filename\u001b[49m\u001b[43m,\u001b[49m\n\u001b[1;32m     99\u001b[0m \u001b[43m    \u001b[49m\u001b[43mmax_seq_len\u001b[49m\u001b[43m,\u001b[49m\n\u001b[1;32m    100\u001b[0m \u001b[43m    \u001b[49m\u001b[43mtrust_remote_code\u001b[49m\u001b[38;5;241;43m=\u001b[39;49m\u001b[43mtrust_remote_code\u001b[49m\u001b[43m,\u001b[49m\n\u001b[1;32m    101\u001b[0m \u001b[43m    \u001b[49m\u001b[43mfuse_layers\u001b[49m\u001b[38;5;241;43m=\u001b[39;49m\u001b[43mfuse_layers\u001b[49m\u001b[43m,\u001b[49m\n\u001b[1;32m    102\u001b[0m \u001b[43m    \u001b[49m\u001b[43muse_exllama\u001b[49m\u001b[38;5;241;43m=\u001b[39;49m\u001b[43muse_exllama\u001b[49m\u001b[43m,\u001b[49m\n\u001b[1;32m    103\u001b[0m \u001b[43m    \u001b[49m\u001b[43muse_exllama_v2\u001b[49m\u001b[38;5;241;43m=\u001b[39;49m\u001b[43muse_exllama_v2\u001b[49m\u001b[43m,\u001b[49m\n\u001b[1;32m    104\u001b[0m \u001b[43m    \u001b[49m\u001b[43msafetensors\u001b[49m\u001b[38;5;241;43m=\u001b[39;49m\u001b[43msafetensors\u001b[49m\u001b[43m,\u001b[49m\n\u001b[1;32m    105\u001b[0m \u001b[43m    \u001b[49m\u001b[43mdevice_map\u001b[49m\u001b[38;5;241;43m=\u001b[39;49m\u001b[43mdevice_map\u001b[49m\u001b[43m,\u001b[49m\n\u001b[1;32m    106\u001b[0m \u001b[43m    \u001b[49m\u001b[43moffload_folder\u001b[49m\u001b[38;5;241;43m=\u001b[39;49m\u001b[43moffload_folder\u001b[49m\u001b[43m,\u001b[49m\n\u001b[1;32m    107\u001b[0m \u001b[43m    \u001b[49m\u001b[38;5;241;43m*\u001b[39;49m\u001b[38;5;241;43m*\u001b[39;49m\u001b[43mconfig_kwargs\u001b[49m\u001b[43m,\u001b[49m\n\u001b[1;32m    108\u001b[0m \u001b[43m\u001b[49m\u001b[43m)\u001b[49m\n",
      "File \u001b[0;32m/usr/local/lib/python3.10/dist-packages/awq/models/base.py:395\u001b[0m, in \u001b[0;36mBaseAWQForCausalLM.from_quantized\u001b[0;34m(self, model_path, model_type, model_filename, max_seq_len, torch_dtype, trust_remote_code, safetensors, fuse_layers, use_exllama, use_exllama_v2, device_map, offload_folder, **config_kwargs)\u001b[0m\n\u001b[1;32m    393\u001b[0m \u001b[38;5;250m\u001b[39m\u001b[38;5;124;03m\"\"\"A method for initialization of a quantized model, usually in INT4.\"\"\"\u001b[39;00m\n\u001b[1;32m    394\u001b[0m \u001b[38;5;66;03m# [STEP 1-2] Load weights path and configs\u001b[39;00m\n\u001b[0;32m--> 395\u001b[0m model_weights_path, config, quant_config \u001b[38;5;241m=\u001b[39m \u001b[38;5;28;43mself\u001b[39;49m\u001b[38;5;241;43m.\u001b[39;49m\u001b[43m_load_config\u001b[49m\u001b[43m(\u001b[49m\n\u001b[1;32m    396\u001b[0m \u001b[43m    \u001b[49m\u001b[38;5;28;43mself\u001b[39;49m\u001b[43m,\u001b[49m\n\u001b[1;32m    397\u001b[0m \u001b[43m    \u001b[49m\u001b[43mmodel_path\u001b[49m\u001b[43m,\u001b[49m\n\u001b[1;32m    398\u001b[0m \u001b[43m    \u001b[49m\u001b[43mmodel_filename\u001b[49m\u001b[43m,\u001b[49m\n\u001b[1;32m    399\u001b[0m \u001b[43m    \u001b[49m\u001b[43msafetensors\u001b[49m\u001b[43m,\u001b[49m\n\u001b[1;32m    400\u001b[0m \u001b[43m    \u001b[49m\u001b[43mtrust_remote_code\u001b[49m\u001b[43m,\u001b[49m\n\u001b[1;32m    401\u001b[0m \u001b[43m    \u001b[49m\u001b[43mmax_seq_len\u001b[49m\u001b[38;5;241;43m=\u001b[39;49m\u001b[43mmax_seq_len\u001b[49m\u001b[43m,\u001b[49m\n\u001b[1;32m    402\u001b[0m \u001b[43m    \u001b[49m\u001b[38;5;241;43m*\u001b[39;49m\u001b[38;5;241;43m*\u001b[39;49m\u001b[43mconfig_kwargs\u001b[49m\u001b[43m,\u001b[49m\n\u001b[1;32m    403\u001b[0m \u001b[43m\u001b[49m\u001b[43m)\u001b[49m\n\u001b[1;32m    405\u001b[0m target_cls_name \u001b[38;5;241m=\u001b[39m TRANSFORMERS_AUTO_MAPPING_DICT[config\u001b[38;5;241m.\u001b[39mmodel_type]\n\u001b[1;32m    406\u001b[0m target_cls \u001b[38;5;241m=\u001b[39m \u001b[38;5;28mgetattr\u001b[39m(transformers, target_cls_name)\n",
      "File \u001b[0;32m/usr/local/lib/python3.10/dist-packages/awq/models/base.py:483\u001b[0m, in \u001b[0;36mBaseAWQForCausalLM._load_config\u001b[0;34m(self, model_path, model_filename, safetensors, trust_remote_code, max_seq_len, **config_kwargs)\u001b[0m\n\u001b[1;32m    480\u001b[0m     \u001b[38;5;28;01melse\u001b[39;00m:\n\u001b[1;32m    481\u001b[0m         ignore_patterns\u001b[38;5;241m.\u001b[39mappend(\u001b[38;5;124m\"\u001b[39m\u001b[38;5;124m*.safetensors*\u001b[39m\u001b[38;5;124m\"\u001b[39m)\n\u001b[0;32m--> 483\u001b[0m     model_path \u001b[38;5;241m=\u001b[39m \u001b[43msnapshot_download\u001b[49m\u001b[43m(\u001b[49m\u001b[43mmodel_path\u001b[49m\u001b[43m,\u001b[49m\u001b[43m \u001b[49m\u001b[43mignore_patterns\u001b[49m\u001b[38;5;241;43m=\u001b[39;49m\u001b[43mignore_patterns\u001b[49m\u001b[43m)\u001b[49m\n\u001b[1;32m    485\u001b[0m \u001b[38;5;28;01mif\u001b[39;00m model_filename \u001b[38;5;241m!=\u001b[39m \u001b[38;5;124m\"\u001b[39m\u001b[38;5;124m\"\u001b[39m:\n\u001b[1;32m    486\u001b[0m     model_weights_path \u001b[38;5;241m=\u001b[39m model_path \u001b[38;5;241m+\u001b[39m \u001b[38;5;124mf\u001b[39m\u001b[38;5;124m\"\u001b[39m\u001b[38;5;124m/\u001b[39m\u001b[38;5;132;01m{\u001b[39;00mmodel_filename\u001b[38;5;132;01m}\u001b[39;00m\u001b[38;5;124m\"\u001b[39m\n",
      "File \u001b[0;32m/usr/local/lib/python3.10/dist-packages/huggingface_hub/utils/_validators.py:119\u001b[0m, in \u001b[0;36mvalidate_hf_hub_args.<locals>._inner_fn\u001b[0;34m(*args, **kwargs)\u001b[0m\n\u001b[1;32m    116\u001b[0m \u001b[38;5;28;01mif\u001b[39;00m check_use_auth_token:\n\u001b[1;32m    117\u001b[0m     kwargs \u001b[38;5;241m=\u001b[39m smoothly_deprecate_use_auth_token(fn_name\u001b[38;5;241m=\u001b[39mfn\u001b[38;5;241m.\u001b[39m\u001b[38;5;18m__name__\u001b[39m, has_token\u001b[38;5;241m=\u001b[39mhas_token, kwargs\u001b[38;5;241m=\u001b[39mkwargs)\n\u001b[0;32m--> 119\u001b[0m \u001b[38;5;28;01mreturn\u001b[39;00m \u001b[43mfn\u001b[49m\u001b[43m(\u001b[49m\u001b[38;5;241;43m*\u001b[39;49m\u001b[43margs\u001b[49m\u001b[43m,\u001b[49m\u001b[43m \u001b[49m\u001b[38;5;241;43m*\u001b[39;49m\u001b[38;5;241;43m*\u001b[39;49m\u001b[43mkwargs\u001b[49m\u001b[43m)\u001b[49m\n",
      "File \u001b[0;32m/usr/local/lib/python3.10/dist-packages/huggingface_hub/_snapshot_download.py:316\u001b[0m, in \u001b[0;36msnapshot_download\u001b[0;34m(repo_id, repo_type, revision, cache_dir, local_dir, local_dir_use_symlinks, library_name, library_version, user_agent, proxies, etag_timeout, resume_download, force_download, token, local_files_only, allow_patterns, ignore_patterns, max_workers, tqdm_class, headers, endpoint)\u001b[0m\n\u001b[1;32m    314\u001b[0m         _inner_hf_hub_download(file)\n\u001b[1;32m    315\u001b[0m \u001b[38;5;28;01melse\u001b[39;00m:\n\u001b[0;32m--> 316\u001b[0m     \u001b[43mthread_map\u001b[49m\u001b[43m(\u001b[49m\n\u001b[1;32m    317\u001b[0m \u001b[43m        \u001b[49m\u001b[43m_inner_hf_hub_download\u001b[49m\u001b[43m,\u001b[49m\n\u001b[1;32m    318\u001b[0m \u001b[43m        \u001b[49m\u001b[43mfiltered_repo_files\u001b[49m\u001b[43m,\u001b[49m\n\u001b[1;32m    319\u001b[0m \u001b[43m        \u001b[49m\u001b[43mdesc\u001b[49m\u001b[38;5;241;43m=\u001b[39;49m\u001b[38;5;124;43mf\u001b[39;49m\u001b[38;5;124;43m\"\u001b[39;49m\u001b[38;5;124;43mFetching \u001b[39;49m\u001b[38;5;132;43;01m{\u001b[39;49;00m\u001b[38;5;28;43mlen\u001b[39;49m\u001b[43m(\u001b[49m\u001b[43mfiltered_repo_files\u001b[49m\u001b[43m)\u001b[49m\u001b[38;5;132;43;01m}\u001b[39;49;00m\u001b[38;5;124;43m files\u001b[39;49m\u001b[38;5;124;43m\"\u001b[39;49m\u001b[43m,\u001b[49m\n\u001b[1;32m    320\u001b[0m \u001b[43m        \u001b[49m\u001b[43mmax_workers\u001b[49m\u001b[38;5;241;43m=\u001b[39;49m\u001b[43mmax_workers\u001b[49m\u001b[43m,\u001b[49m\n\u001b[1;32m    321\u001b[0m \u001b[43m        \u001b[49m\u001b[38;5;66;43;03m# User can use its own tqdm class or the default one from `huggingface_hub.utils`\u001b[39;49;00m\n\u001b[1;32m    322\u001b[0m \u001b[43m        \u001b[49m\u001b[43mtqdm_class\u001b[49m\u001b[38;5;241;43m=\u001b[39;49m\u001b[43mtqdm_class\u001b[49m\u001b[43m \u001b[49m\u001b[38;5;129;43;01mor\u001b[39;49;00m\u001b[43m \u001b[49m\u001b[43mhf_tqdm\u001b[49m\u001b[43m,\u001b[49m\n\u001b[1;32m    323\u001b[0m \u001b[43m    \u001b[49m\u001b[43m)\u001b[49m\n\u001b[1;32m    325\u001b[0m \u001b[38;5;28;01mif\u001b[39;00m local_dir \u001b[38;5;129;01mis\u001b[39;00m \u001b[38;5;129;01mnot\u001b[39;00m \u001b[38;5;28;01mNone\u001b[39;00m:\n\u001b[1;32m    326\u001b[0m     \u001b[38;5;28;01mreturn\u001b[39;00m \u001b[38;5;28mstr\u001b[39m(os\u001b[38;5;241m.\u001b[39mpath\u001b[38;5;241m.\u001b[39mrealpath(local_dir))\n",
      "File \u001b[0;32m/usr/local/lib/python3.10/dist-packages/tqdm/contrib/concurrent.py:69\u001b[0m, in \u001b[0;36mthread_map\u001b[0;34m(fn, *iterables, **tqdm_kwargs)\u001b[0m\n\u001b[1;32m     55\u001b[0m \u001b[38;5;250m\u001b[39m\u001b[38;5;124;03m\"\"\"\u001b[39;00m\n\u001b[1;32m     56\u001b[0m \u001b[38;5;124;03mEquivalent of `list(map(fn, *iterables))`\u001b[39;00m\n\u001b[1;32m     57\u001b[0m \u001b[38;5;124;03mdriven by `concurrent.futures.ThreadPoolExecutor`.\u001b[39;00m\n\u001b[0;32m   (...)\u001b[0m\n\u001b[1;32m     66\u001b[0m \u001b[38;5;124;03m    [default: max(32, cpu_count() + 4)].\u001b[39;00m\n\u001b[1;32m     67\u001b[0m \u001b[38;5;124;03m\"\"\"\u001b[39;00m\n\u001b[1;32m     68\u001b[0m \u001b[38;5;28;01mfrom\u001b[39;00m \u001b[38;5;21;01mconcurrent\u001b[39;00m\u001b[38;5;21;01m.\u001b[39;00m\u001b[38;5;21;01mfutures\u001b[39;00m \u001b[38;5;28;01mimport\u001b[39;00m ThreadPoolExecutor\n\u001b[0;32m---> 69\u001b[0m \u001b[38;5;28;01mreturn\u001b[39;00m \u001b[43m_executor_map\u001b[49m\u001b[43m(\u001b[49m\u001b[43mThreadPoolExecutor\u001b[49m\u001b[43m,\u001b[49m\u001b[43m \u001b[49m\u001b[43mfn\u001b[49m\u001b[43m,\u001b[49m\u001b[43m \u001b[49m\u001b[38;5;241;43m*\u001b[39;49m\u001b[43miterables\u001b[49m\u001b[43m,\u001b[49m\u001b[43m \u001b[49m\u001b[38;5;241;43m*\u001b[39;49m\u001b[38;5;241;43m*\u001b[39;49m\u001b[43mtqdm_kwargs\u001b[49m\u001b[43m)\u001b[49m\n",
      "File \u001b[0;32m/usr/local/lib/python3.10/dist-packages/tqdm/contrib/concurrent.py:51\u001b[0m, in \u001b[0;36m_executor_map\u001b[0;34m(PoolExecutor, fn, *iterables, **tqdm_kwargs)\u001b[0m\n\u001b[1;32m     47\u001b[0m \u001b[38;5;28;01mwith\u001b[39;00m ensure_lock(tqdm_class, lock_name\u001b[38;5;241m=\u001b[39mlock_name) \u001b[38;5;28;01mas\u001b[39;00m lk:\n\u001b[1;32m     48\u001b[0m     \u001b[38;5;66;03m# share lock in case workers are already using `tqdm`\u001b[39;00m\n\u001b[1;32m     49\u001b[0m     \u001b[38;5;28;01mwith\u001b[39;00m PoolExecutor(max_workers\u001b[38;5;241m=\u001b[39mmax_workers, initializer\u001b[38;5;241m=\u001b[39mtqdm_class\u001b[38;5;241m.\u001b[39mset_lock,\n\u001b[1;32m     50\u001b[0m                       initargs\u001b[38;5;241m=\u001b[39m(lk,)) \u001b[38;5;28;01mas\u001b[39;00m ex:\n\u001b[0;32m---> 51\u001b[0m         \u001b[38;5;28;01mreturn\u001b[39;00m \u001b[38;5;28;43mlist\u001b[39;49m\u001b[43m(\u001b[49m\u001b[43mtqdm_class\u001b[49m\u001b[43m(\u001b[49m\u001b[43mex\u001b[49m\u001b[38;5;241;43m.\u001b[39;49m\u001b[43mmap\u001b[49m\u001b[43m(\u001b[49m\u001b[43mfn\u001b[49m\u001b[43m,\u001b[49m\u001b[43m \u001b[49m\u001b[38;5;241;43m*\u001b[39;49m\u001b[43miterables\u001b[49m\u001b[43m,\u001b[49m\u001b[43m \u001b[49m\u001b[43mchunksize\u001b[49m\u001b[38;5;241;43m=\u001b[39;49m\u001b[43mchunksize\u001b[49m\u001b[43m)\u001b[49m\u001b[43m,\u001b[49m\u001b[43m \u001b[49m\u001b[38;5;241;43m*\u001b[39;49m\u001b[38;5;241;43m*\u001b[39;49m\u001b[43mkwargs\u001b[49m\u001b[43m)\u001b[49m\u001b[43m)\u001b[49m\n",
      "File \u001b[0;32m/usr/local/lib/python3.10/dist-packages/tqdm/notebook.py:250\u001b[0m, in \u001b[0;36mtqdm_notebook.__iter__\u001b[0;34m(self)\u001b[0m\n\u001b[1;32m    248\u001b[0m \u001b[38;5;28;01mtry\u001b[39;00m:\n\u001b[1;32m    249\u001b[0m     it \u001b[38;5;241m=\u001b[39m \u001b[38;5;28msuper\u001b[39m(tqdm_notebook, \u001b[38;5;28mself\u001b[39m)\u001b[38;5;241m.\u001b[39m\u001b[38;5;21m__iter__\u001b[39m()\n\u001b[0;32m--> 250\u001b[0m     \u001b[38;5;28;01mfor\u001b[39;00m obj \u001b[38;5;129;01min\u001b[39;00m it:\n\u001b[1;32m    251\u001b[0m         \u001b[38;5;66;03m# return super(tqdm...) will not catch exception\u001b[39;00m\n\u001b[1;32m    252\u001b[0m         \u001b[38;5;28;01myield\u001b[39;00m obj\n\u001b[1;32m    253\u001b[0m \u001b[38;5;66;03m# NB: except ... [ as ...] breaks IPython async KeyboardInterrupt\u001b[39;00m\n",
      "File \u001b[0;32m/usr/local/lib/python3.10/dist-packages/tqdm/std.py:1181\u001b[0m, in \u001b[0;36mtqdm.__iter__\u001b[0;34m(self)\u001b[0m\n\u001b[1;32m   1178\u001b[0m time \u001b[38;5;241m=\u001b[39m \u001b[38;5;28mself\u001b[39m\u001b[38;5;241m.\u001b[39m_time\n\u001b[1;32m   1180\u001b[0m \u001b[38;5;28;01mtry\u001b[39;00m:\n\u001b[0;32m-> 1181\u001b[0m     \u001b[38;5;28;01mfor\u001b[39;00m obj \u001b[38;5;129;01min\u001b[39;00m iterable:\n\u001b[1;32m   1182\u001b[0m         \u001b[38;5;28;01myield\u001b[39;00m obj\n\u001b[1;32m   1183\u001b[0m         \u001b[38;5;66;03m# Update and possibly print the progressbar.\u001b[39;00m\n\u001b[1;32m   1184\u001b[0m         \u001b[38;5;66;03m# Note: does not call self.update(1) for speed optimisation.\u001b[39;00m\n",
      "File \u001b[0;32m/usr/lib/python3.10/concurrent/futures/_base.py:621\u001b[0m, in \u001b[0;36mExecutor.map.<locals>.result_iterator\u001b[0;34m()\u001b[0m\n\u001b[1;32m    618\u001b[0m \u001b[38;5;28;01mwhile\u001b[39;00m fs:\n\u001b[1;32m    619\u001b[0m     \u001b[38;5;66;03m# Careful not to keep a reference to the popped future\u001b[39;00m\n\u001b[1;32m    620\u001b[0m     \u001b[38;5;28;01mif\u001b[39;00m timeout \u001b[38;5;129;01mis\u001b[39;00m \u001b[38;5;28;01mNone\u001b[39;00m:\n\u001b[0;32m--> 621\u001b[0m         \u001b[38;5;28;01myield\u001b[39;00m \u001b[43m_result_or_cancel\u001b[49m\u001b[43m(\u001b[49m\u001b[43mfs\u001b[49m\u001b[38;5;241;43m.\u001b[39;49m\u001b[43mpop\u001b[49m\u001b[43m(\u001b[49m\u001b[43m)\u001b[49m\u001b[43m)\u001b[49m\n\u001b[1;32m    622\u001b[0m     \u001b[38;5;28;01melse\u001b[39;00m:\n\u001b[1;32m    623\u001b[0m         \u001b[38;5;28;01myield\u001b[39;00m _result_or_cancel(fs\u001b[38;5;241m.\u001b[39mpop(), end_time \u001b[38;5;241m-\u001b[39m time\u001b[38;5;241m.\u001b[39mmonotonic())\n",
      "File \u001b[0;32m/usr/lib/python3.10/concurrent/futures/_base.py:319\u001b[0m, in \u001b[0;36m_result_or_cancel\u001b[0;34m(***failed resolving arguments***)\u001b[0m\n\u001b[1;32m    317\u001b[0m \u001b[38;5;28;01mtry\u001b[39;00m:\n\u001b[1;32m    318\u001b[0m     \u001b[38;5;28;01mtry\u001b[39;00m:\n\u001b[0;32m--> 319\u001b[0m         \u001b[38;5;28;01mreturn\u001b[39;00m \u001b[43mfut\u001b[49m\u001b[38;5;241;43m.\u001b[39;49m\u001b[43mresult\u001b[49m\u001b[43m(\u001b[49m\u001b[43mtimeout\u001b[49m\u001b[43m)\u001b[49m\n\u001b[1;32m    320\u001b[0m     \u001b[38;5;28;01mfinally\u001b[39;00m:\n\u001b[1;32m    321\u001b[0m         fut\u001b[38;5;241m.\u001b[39mcancel()\n",
      "File \u001b[0;32m/usr/lib/python3.10/concurrent/futures/_base.py:453\u001b[0m, in \u001b[0;36mFuture.result\u001b[0;34m(self, timeout)\u001b[0m\n\u001b[1;32m    450\u001b[0m \u001b[38;5;28;01melif\u001b[39;00m \u001b[38;5;28mself\u001b[39m\u001b[38;5;241m.\u001b[39m_state \u001b[38;5;241m==\u001b[39m FINISHED:\n\u001b[1;32m    451\u001b[0m     \u001b[38;5;28;01mreturn\u001b[39;00m \u001b[38;5;28mself\u001b[39m\u001b[38;5;241m.\u001b[39m__get_result()\n\u001b[0;32m--> 453\u001b[0m \u001b[38;5;28;43mself\u001b[39;49m\u001b[38;5;241;43m.\u001b[39;49m\u001b[43m_condition\u001b[49m\u001b[38;5;241;43m.\u001b[39;49m\u001b[43mwait\u001b[49m\u001b[43m(\u001b[49m\u001b[43mtimeout\u001b[49m\u001b[43m)\u001b[49m\n\u001b[1;32m    455\u001b[0m \u001b[38;5;28;01mif\u001b[39;00m \u001b[38;5;28mself\u001b[39m\u001b[38;5;241m.\u001b[39m_state \u001b[38;5;129;01min\u001b[39;00m [CANCELLED, CANCELLED_AND_NOTIFIED]:\n\u001b[1;32m    456\u001b[0m     \u001b[38;5;28;01mraise\u001b[39;00m CancelledError()\n",
      "File \u001b[0;32m/usr/lib/python3.10/threading.py:320\u001b[0m, in \u001b[0;36mCondition.wait\u001b[0;34m(self, timeout)\u001b[0m\n\u001b[1;32m    318\u001b[0m \u001b[38;5;28;01mtry\u001b[39;00m:    \u001b[38;5;66;03m# restore state no matter what (e.g., KeyboardInterrupt)\u001b[39;00m\n\u001b[1;32m    319\u001b[0m     \u001b[38;5;28;01mif\u001b[39;00m timeout \u001b[38;5;129;01mis\u001b[39;00m \u001b[38;5;28;01mNone\u001b[39;00m:\n\u001b[0;32m--> 320\u001b[0m         \u001b[43mwaiter\u001b[49m\u001b[38;5;241;43m.\u001b[39;49m\u001b[43macquire\u001b[49m\u001b[43m(\u001b[49m\u001b[43m)\u001b[49m\n\u001b[1;32m    321\u001b[0m         gotit \u001b[38;5;241m=\u001b[39m \u001b[38;5;28;01mTrue\u001b[39;00m\n\u001b[1;32m    322\u001b[0m     \u001b[38;5;28;01melse\u001b[39;00m:\n",
      "\u001b[0;31mKeyboardInterrupt\u001b[0m: "
     ]
    }
   ],
   "source": [
    "# check if beam search works\n",
    "# has issues with recent transformers version\n",
    "\n",
    "from awq import AutoAWQForCausalLM\n",
    "from transformers import AutoTokenizer, TextStreamer\n",
    "\n",
    "quant_path = \"TheBloke/CapybaraHermes-2.5-Mistral-7B-AWQ\"\n",
    "\n",
    "# Load model\n",
    "model = AutoAWQForCausalLM.from_quantized(quant_path, fuse_layers=True)\n",
    "tokenizer = AutoTokenizer.from_pretrained(quant_path, trust_remote_code=True)"
   ]
  },
  {
   "cell_type": "code",
   "execution_count": null,
   "metadata": {},
   "outputs": [],
   "source": [
    "# play sound"
   ]
  },
  {
   "cell_type": "code",
   "execution_count": 2,
   "metadata": {},
   "outputs": [],
   "source": [
    "\n",
    "\n",
    "# Convert prompt to tokens\n",
    "prompt_template = \"\"\"\\\n",
    "<|system|>\n",
    "</s>\n",
    "<|user|>\n",
    "{prompt}</s>\n",
    "<|assistant|>\"\"\"\n",
    "\n",
    "prompt = \"You're standing on the surface of the Earth. \"\\\n",
    "        \"You walk one mile south, one mile west and one mile north. \"\\\n",
    "        \"You end up exactly where you started. Where are you?\"\n",
    "\n",
    "tokens = tokenizer(\n",
    "    prompt_template.format(prompt=prompt),\n",
    "    return_tensors='pt'\n",
    ").input_ids.cuda()"
   ]
  },
  {
   "cell_type": "code",
   "execution_count": 3,
   "metadata": {},
   "outputs": [
    {
     "name": "stdout",
     "output_type": "stream",
     "text": [
      "tensor([[    1,   523, 28766,  6574, 28766, 28767,    13,     2, 28705,    13,\n",
      "         28789, 28766,  1838, 28766, 28767,    13,  1976, 28742,   267,  6328,\n",
      "           356,   272,  5439,   302,   272,  8599, 28723,   995,  2338,   624,\n",
      "         13677,  6287, 28725,   624, 13677,  7635,   304,   624, 13677,  6120,\n",
      "         28723,   995,   948,   582,  4668,   970,   368,  2774, 28723,  6926,\n",
      "           460,   368, 28804,     2, 28705,    13, 28789, 28766,   489, 11143,\n",
      "         28766, 28767,    13,  1976,   460,   438,   272,  4982,   302,   264,\n",
      "          9661,   395,   264,   624, 28733, 23881, 13630, 28723,   851,   349,\n",
      "          1096,   739]], device='cuda:0')\n",
      "CPU times: user 722 ms, sys: 82.4 ms, total: 804 ms\n",
      "Wall time: 800 ms\n"
     ]
    }
   ],
   "source": [
    "%%time\n",
    "\n",
    "# Generate output\n",
    "generation_output = model.generate(\n",
    "    tokens,\n",
    "    max_new_tokens = 20,\n",
    ")\n",
    "\n",
    "print(generation_output)"
   ]
  },
  {
   "cell_type": "code",
   "execution_count": 4,
   "metadata": {},
   "outputs": [
    {
     "name": "stdout",
     "output_type": "stream",
     "text": [
      "tensor([[    1,   523, 28766,  6574, 28766, 28767,    13,     2, 28705,    13,\n",
      "         28789, 28766,  1838, 28766, 28767,    13,  1976, 28742,   267,  6328,\n",
      "           356,   272,  5439,   302,   272,  8599, 28723,   995,  2338,   624,\n",
      "         13677,  6287, 28725,   624, 13677,  7635,   304,   624, 13677,  6120,\n",
      "         28723,   995,   948,   582,  4668,   970,   368,  2774, 28723,  6926,\n",
      "           460,   368, 28804,     2, 28705,    13, 28789, 28766,   489, 11143,\n",
      "         28766, 28767,    13,  1976,   460,   438,   272,  4982,   302,   264,\n",
      "          9661,   395,   264,   624, 28733, 23881, 13630, 28723,   851,   349,\n",
      "          1096,   739]], device='cuda:0')\n",
      "CPU times: user 459 ms, sys: 27 ms, total: 486 ms\n",
      "Wall time: 485 ms\n"
     ]
    }
   ],
   "source": [
    "%%time\n",
    "\n",
    "# Generate output\n",
    "generation_output = model.generate(\n",
    "    tokens,\n",
    "    max_new_tokens = 20,\n",
    "    num_beams = 2,\n",
    ")\n",
    "\n",
    "print(generation_output)"
   ]
  },
  {
   "cell_type": "code",
   "execution_count": null,
   "metadata": {},
   "outputs": [],
   "source": []
  }
 ],
 "metadata": {
  "kernelspec": {
   "display_name": "Python 3",
   "language": "python",
   "name": "python3"
  },
  "language_info": {
   "codemirror_mode": {
    "name": "ipython",
    "version": 3
   },
   "file_extension": ".py",
   "mimetype": "text/x-python",
   "name": "python",
   "nbconvert_exporter": "python",
   "pygments_lexer": "ipython3",
   "version": "3.8.19"
  }
 },
 "nbformat": 4,
 "nbformat_minor": 2
}
