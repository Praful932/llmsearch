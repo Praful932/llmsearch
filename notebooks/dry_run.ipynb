{
 "cells": [
  {
   "cell_type": "code",
   "execution_count": 1,
   "id": "74c568c3",
   "metadata": {},
   "outputs": [],
   "source": [
    "# Autocompletion\n",
    "%config Completer.use_jedi = False\n",
    "\n",
    "# Autoreload\n",
    "%load_ext autoreload\n",
    "%autoreload 2\n",
    "\n",
    "import sys\n",
    "from typing import List\n",
    "\n",
    "\n",
    "import nltk\n",
    "import torch\n",
    "import datasets\n",
    "import evaluate\n",
    "import pandas as pd\n",
    "from transformers import AutoTokenizer, AutoModelForSeq2SeqLM\n",
    "\n",
    "\n",
    "sys.path.append(\"../\")"
   ]
  },
  {
   "cell_type": "code",
   "execution_count": 2,
   "id": "bce5646f",
   "metadata": {},
   "outputs": [
    {
     "name": "stderr",
     "output_type": "stream",
     "text": [
      "Found cached dataset samsum (/Users/praful932/.cache/huggingface/datasets/samsum/samsum/0.0.0/f1d7c6b7353e6de335d444e424dc002ef70d1277109031327bc9cc6af5d3d46e)\n"
     ]
    },
    {
     "data": {
      "application/vnd.jupyter.widget-view+json": {
       "model_id": "fb1c6aaa004b4501ab20bf9920a83f31",
       "version_major": 2,
       "version_minor": 0
      },
      "text/plain": [
       "  0%|          | 0/3 [00:00<?, ?it/s]"
      ]
     },
     "metadata": {},
     "output_type": "display_data"
    }
   ],
   "source": [
    "dataset = datasets.load_dataset(\"samsum\")\n",
    "\n",
    "sample_size = 100\n",
    "samples_to_tune_on = datasets.Dataset.from_dict(dataset[\"train\"][:sample_size])\n",
    "samples_to_tune_on = samples_to_tune_on.rename_columns(column_mapping = {'dialogue' : 'X', 'summary' : \"y\"})"
   ]
  },
  {
   "cell_type": "code",
   "execution_count": 3,
   "id": "a2192cc7",
   "metadata": {
    "scrolled": true
   },
   "outputs": [
    {
     "data": {
      "application/vnd.jupyter.widget-view+json": {
       "model_id": "5b5d41c7b5834542a9da581a40ae801b",
       "version_major": 2,
       "version_minor": 0
      },
      "text/plain": [
       "Map:   0%|          | 0/100 [00:00<?, ? examples/s]"
      ]
     },
     "metadata": {},
     "output_type": "display_data"
    },
    {
     "ename": "NameError",
     "evalue": "name 'pt' is not defined",
     "output_type": "error",
     "traceback": [
      "\u001b[0;31m---------------------------------------------------------------------------\u001b[0m",
      "\u001b[0;31mNameError\u001b[0m                                 Traceback (most recent call last)",
      "Cell \u001b[0;32mIn[3], line 1\u001b[0m\n\u001b[0;32m----> 1\u001b[0m samples_to_tune_on \u001b[38;5;241m=\u001b[39m \u001b[43msamples_to_tune_on\u001b[49m\u001b[38;5;241;43m.\u001b[39;49m\u001b[43mmap\u001b[49m\u001b[43m(\u001b[49m\u001b[38;5;28;43;01mlambda\u001b[39;49;00m\u001b[43m \u001b[49m\u001b[43ms\u001b[49m\u001b[43m \u001b[49m\u001b[43m:\u001b[49m\u001b[43m \u001b[49m\u001b[43m{\u001b[49m\u001b[38;5;124;43m'\u001b[39;49m\u001b[38;5;124;43mX\u001b[39;49m\u001b[38;5;124;43m'\u001b[39;49m\u001b[43m \u001b[49m\u001b[43m:\u001b[49m\u001b[43m \u001b[49m\u001b[43mpt\u001b[49m\u001b[38;5;241;43m.\u001b[39;49m\u001b[43mformat\u001b[49m\u001b[43m(\u001b[49m\u001b[43mX\u001b[49m\u001b[38;5;241;43m=\u001b[39;49m\u001b[43ms\u001b[49m\u001b[43m[\u001b[49m\u001b[38;5;124;43m'\u001b[39;49m\u001b[38;5;124;43mX\u001b[39;49m\u001b[38;5;124;43m'\u001b[39;49m\u001b[43m]\u001b[49m\u001b[43m)\u001b[49m\u001b[43m,\u001b[49m\u001b[43m \u001b[49m\u001b[38;5;124;43m'\u001b[39;49m\u001b[38;5;124;43my\u001b[39;49m\u001b[38;5;124;43m'\u001b[39;49m\u001b[43m \u001b[49m\u001b[43m:\u001b[49m\u001b[43m \u001b[49m\u001b[43m[\u001b[49m\u001b[38;5;124;43m'\u001b[39;49m\u001b[38;5;124;43mX\u001b[39;49m\u001b[38;5;124;43m'\u001b[39;49m\u001b[43m]\u001b[49m\u001b[43m}\u001b[49m\u001b[43m,\u001b[49m\u001b[43m \u001b[49m\u001b[43mbatched\u001b[49m\u001b[38;5;241;43m=\u001b[39;49m\u001b[38;5;28;43;01mTrue\u001b[39;49;00m\u001b[43m)\u001b[49m\n",
      "File \u001b[0;32m~/Library/Caches/pypoetry/virtualenvs/bhaasha-VBcDHvMD-py3.8/lib/python3.8/site-packages/datasets/arrow_dataset.py:578\u001b[0m, in \u001b[0;36mtransmit_tasks.<locals>.wrapper\u001b[0;34m(*args, **kwargs)\u001b[0m\n\u001b[1;32m    576\u001b[0m     \u001b[38;5;28mself\u001b[39m: \u001b[38;5;124m\"\u001b[39m\u001b[38;5;124mDataset\u001b[39m\u001b[38;5;124m\"\u001b[39m \u001b[38;5;241m=\u001b[39m kwargs\u001b[38;5;241m.\u001b[39mpop(\u001b[38;5;124m\"\u001b[39m\u001b[38;5;124mself\u001b[39m\u001b[38;5;124m\"\u001b[39m)\n\u001b[1;32m    577\u001b[0m \u001b[38;5;66;03m# apply actual function\u001b[39;00m\n\u001b[0;32m--> 578\u001b[0m out: Union[\u001b[38;5;124m\"\u001b[39m\u001b[38;5;124mDataset\u001b[39m\u001b[38;5;124m\"\u001b[39m, \u001b[38;5;124m\"\u001b[39m\u001b[38;5;124mDatasetDict\u001b[39m\u001b[38;5;124m\"\u001b[39m] \u001b[38;5;241m=\u001b[39m \u001b[43mfunc\u001b[49m\u001b[43m(\u001b[49m\u001b[38;5;28;43mself\u001b[39;49m\u001b[43m,\u001b[49m\u001b[43m \u001b[49m\u001b[38;5;241;43m*\u001b[39;49m\u001b[43margs\u001b[49m\u001b[43m,\u001b[49m\u001b[43m \u001b[49m\u001b[38;5;241;43m*\u001b[39;49m\u001b[38;5;241;43m*\u001b[39;49m\u001b[43mkwargs\u001b[49m\u001b[43m)\u001b[49m\n\u001b[1;32m    579\u001b[0m datasets: List[\u001b[38;5;124m\"\u001b[39m\u001b[38;5;124mDataset\u001b[39m\u001b[38;5;124m\"\u001b[39m] \u001b[38;5;241m=\u001b[39m \u001b[38;5;28mlist\u001b[39m(out\u001b[38;5;241m.\u001b[39mvalues()) \u001b[38;5;28;01mif\u001b[39;00m \u001b[38;5;28misinstance\u001b[39m(out, \u001b[38;5;28mdict\u001b[39m) \u001b[38;5;28;01melse\u001b[39;00m [out]\n\u001b[1;32m    580\u001b[0m \u001b[38;5;28;01mfor\u001b[39;00m dataset \u001b[38;5;129;01min\u001b[39;00m datasets:\n\u001b[1;32m    581\u001b[0m     \u001b[38;5;66;03m# Remove task templates if a column mapping of the template is no longer valid\u001b[39;00m\n",
      "File \u001b[0;32m~/Library/Caches/pypoetry/virtualenvs/bhaasha-VBcDHvMD-py3.8/lib/python3.8/site-packages/datasets/arrow_dataset.py:543\u001b[0m, in \u001b[0;36mtransmit_format.<locals>.wrapper\u001b[0;34m(*args, **kwargs)\u001b[0m\n\u001b[1;32m    536\u001b[0m self_format \u001b[38;5;241m=\u001b[39m {\n\u001b[1;32m    537\u001b[0m     \u001b[38;5;124m\"\u001b[39m\u001b[38;5;124mtype\u001b[39m\u001b[38;5;124m\"\u001b[39m: \u001b[38;5;28mself\u001b[39m\u001b[38;5;241m.\u001b[39m_format_type,\n\u001b[1;32m    538\u001b[0m     \u001b[38;5;124m\"\u001b[39m\u001b[38;5;124mformat_kwargs\u001b[39m\u001b[38;5;124m\"\u001b[39m: \u001b[38;5;28mself\u001b[39m\u001b[38;5;241m.\u001b[39m_format_kwargs,\n\u001b[1;32m    539\u001b[0m     \u001b[38;5;124m\"\u001b[39m\u001b[38;5;124mcolumns\u001b[39m\u001b[38;5;124m\"\u001b[39m: \u001b[38;5;28mself\u001b[39m\u001b[38;5;241m.\u001b[39m_format_columns,\n\u001b[1;32m    540\u001b[0m     \u001b[38;5;124m\"\u001b[39m\u001b[38;5;124moutput_all_columns\u001b[39m\u001b[38;5;124m\"\u001b[39m: \u001b[38;5;28mself\u001b[39m\u001b[38;5;241m.\u001b[39m_output_all_columns,\n\u001b[1;32m    541\u001b[0m }\n\u001b[1;32m    542\u001b[0m \u001b[38;5;66;03m# apply actual function\u001b[39;00m\n\u001b[0;32m--> 543\u001b[0m out: Union[\u001b[38;5;124m\"\u001b[39m\u001b[38;5;124mDataset\u001b[39m\u001b[38;5;124m\"\u001b[39m, \u001b[38;5;124m\"\u001b[39m\u001b[38;5;124mDatasetDict\u001b[39m\u001b[38;5;124m\"\u001b[39m] \u001b[38;5;241m=\u001b[39m \u001b[43mfunc\u001b[49m\u001b[43m(\u001b[49m\u001b[38;5;28;43mself\u001b[39;49m\u001b[43m,\u001b[49m\u001b[43m \u001b[49m\u001b[38;5;241;43m*\u001b[39;49m\u001b[43margs\u001b[49m\u001b[43m,\u001b[49m\u001b[43m \u001b[49m\u001b[38;5;241;43m*\u001b[39;49m\u001b[38;5;241;43m*\u001b[39;49m\u001b[43mkwargs\u001b[49m\u001b[43m)\u001b[49m\n\u001b[1;32m    544\u001b[0m datasets: List[\u001b[38;5;124m\"\u001b[39m\u001b[38;5;124mDataset\u001b[39m\u001b[38;5;124m\"\u001b[39m] \u001b[38;5;241m=\u001b[39m \u001b[38;5;28mlist\u001b[39m(out\u001b[38;5;241m.\u001b[39mvalues()) \u001b[38;5;28;01mif\u001b[39;00m \u001b[38;5;28misinstance\u001b[39m(out, \u001b[38;5;28mdict\u001b[39m) \u001b[38;5;28;01melse\u001b[39;00m [out]\n\u001b[1;32m    545\u001b[0m \u001b[38;5;66;03m# re-apply format to the output\u001b[39;00m\n",
      "File \u001b[0;32m~/Library/Caches/pypoetry/virtualenvs/bhaasha-VBcDHvMD-py3.8/lib/python3.8/site-packages/datasets/arrow_dataset.py:3073\u001b[0m, in \u001b[0;36mDataset.map\u001b[0;34m(self, function, with_indices, with_rank, input_columns, batched, batch_size, drop_last_batch, remove_columns, keep_in_memory, load_from_cache_file, cache_file_name, writer_batch_size, features, disable_nullable, fn_kwargs, num_proc, suffix_template, new_fingerprint, desc)\u001b[0m\n\u001b[1;32m   3065\u001b[0m \u001b[38;5;28;01mif\u001b[39;00m transformed_dataset \u001b[38;5;129;01mis\u001b[39;00m \u001b[38;5;28;01mNone\u001b[39;00m:\n\u001b[1;32m   3066\u001b[0m     \u001b[38;5;28;01mwith\u001b[39;00m logging\u001b[38;5;241m.\u001b[39mtqdm(\n\u001b[1;32m   3067\u001b[0m         disable\u001b[38;5;241m=\u001b[39m\u001b[38;5;129;01mnot\u001b[39;00m logging\u001b[38;5;241m.\u001b[39mis_progress_bar_enabled(),\n\u001b[1;32m   3068\u001b[0m         unit\u001b[38;5;241m=\u001b[39m\u001b[38;5;124m\"\u001b[39m\u001b[38;5;124m examples\u001b[39m\u001b[38;5;124m\"\u001b[39m,\n\u001b[0;32m   (...)\u001b[0m\n\u001b[1;32m   3071\u001b[0m         desc\u001b[38;5;241m=\u001b[39mdesc \u001b[38;5;129;01mor\u001b[39;00m \u001b[38;5;124m\"\u001b[39m\u001b[38;5;124mMap\u001b[39m\u001b[38;5;124m\"\u001b[39m,\n\u001b[1;32m   3072\u001b[0m     ) \u001b[38;5;28;01mas\u001b[39;00m pbar:\n\u001b[0;32m-> 3073\u001b[0m         \u001b[38;5;28;01mfor\u001b[39;00m rank, done, content \u001b[38;5;129;01min\u001b[39;00m Dataset\u001b[38;5;241m.\u001b[39m_map_single(\u001b[38;5;241m*\u001b[39m\u001b[38;5;241m*\u001b[39mdataset_kwargs):\n\u001b[1;32m   3074\u001b[0m             \u001b[38;5;28;01mif\u001b[39;00m done:\n\u001b[1;32m   3075\u001b[0m                 shards_done \u001b[38;5;241m+\u001b[39m\u001b[38;5;241m=\u001b[39m \u001b[38;5;241m1\u001b[39m\n",
      "File \u001b[0;32m~/Library/Caches/pypoetry/virtualenvs/bhaasha-VBcDHvMD-py3.8/lib/python3.8/site-packages/datasets/arrow_dataset.py:3449\u001b[0m, in \u001b[0;36mDataset._map_single\u001b[0;34m(shard, function, with_indices, with_rank, input_columns, batched, batch_size, drop_last_batch, remove_columns, keep_in_memory, cache_file_name, writer_batch_size, features, disable_nullable, fn_kwargs, new_fingerprint, rank, offset)\u001b[0m\n\u001b[1;32m   3445\u001b[0m indices \u001b[38;5;241m=\u001b[39m \u001b[38;5;28mlist\u001b[39m(\n\u001b[1;32m   3446\u001b[0m     \u001b[38;5;28mrange\u001b[39m(\u001b[38;5;241m*\u001b[39m(\u001b[38;5;28mslice\u001b[39m(i, i \u001b[38;5;241m+\u001b[39m batch_size)\u001b[38;5;241m.\u001b[39mindices(shard\u001b[38;5;241m.\u001b[39mnum_rows)))\n\u001b[1;32m   3447\u001b[0m )  \u001b[38;5;66;03m# Something simpler?\u001b[39;00m\n\u001b[1;32m   3448\u001b[0m \u001b[38;5;28;01mtry\u001b[39;00m:\n\u001b[0;32m-> 3449\u001b[0m     batch \u001b[38;5;241m=\u001b[39m \u001b[43mapply_function_on_filtered_inputs\u001b[49m\u001b[43m(\u001b[49m\n\u001b[1;32m   3450\u001b[0m \u001b[43m        \u001b[49m\u001b[43mbatch\u001b[49m\u001b[43m,\u001b[49m\n\u001b[1;32m   3451\u001b[0m \u001b[43m        \u001b[49m\u001b[43mindices\u001b[49m\u001b[43m,\u001b[49m\n\u001b[1;32m   3452\u001b[0m \u001b[43m        \u001b[49m\u001b[43mcheck_same_num_examples\u001b[49m\u001b[38;5;241;43m=\u001b[39;49m\u001b[38;5;28;43mlen\u001b[39;49m\u001b[43m(\u001b[49m\u001b[43mshard\u001b[49m\u001b[38;5;241;43m.\u001b[39;49m\u001b[43mlist_indexes\u001b[49m\u001b[43m(\u001b[49m\u001b[43m)\u001b[49m\u001b[43m)\u001b[49m\u001b[43m \u001b[49m\u001b[38;5;241;43m>\u001b[39;49m\u001b[43m \u001b[49m\u001b[38;5;241;43m0\u001b[39;49m\u001b[43m,\u001b[49m\n\u001b[1;32m   3453\u001b[0m \u001b[43m        \u001b[49m\u001b[43moffset\u001b[49m\u001b[38;5;241;43m=\u001b[39;49m\u001b[43moffset\u001b[49m\u001b[43m,\u001b[49m\n\u001b[1;32m   3454\u001b[0m \u001b[43m    \u001b[49m\u001b[43m)\u001b[49m\n\u001b[1;32m   3455\u001b[0m \u001b[38;5;28;01mexcept\u001b[39;00m NumExamplesMismatchError:\n\u001b[1;32m   3456\u001b[0m     \u001b[38;5;28;01mraise\u001b[39;00m DatasetTransformationNotAllowedError(\n\u001b[1;32m   3457\u001b[0m         \u001b[38;5;124m\"\u001b[39m\u001b[38;5;124mUsing `.map` in batched mode on a dataset with attached indexes is allowed only if it doesn\u001b[39m\u001b[38;5;124m'\u001b[39m\u001b[38;5;124mt create or remove existing examples. You can first run `.drop_index() to remove your index and then re-add it.\u001b[39m\u001b[38;5;124m\"\u001b[39m\n\u001b[1;32m   3458\u001b[0m     ) \u001b[38;5;28;01mfrom\u001b[39;00m \u001b[38;5;28;01mNone\u001b[39;00m\n",
      "File \u001b[0;32m~/Library/Caches/pypoetry/virtualenvs/bhaasha-VBcDHvMD-py3.8/lib/python3.8/site-packages/datasets/arrow_dataset.py:3330\u001b[0m, in \u001b[0;36mDataset._map_single.<locals>.apply_function_on_filtered_inputs\u001b[0;34m(pa_inputs, indices, check_same_num_examples, offset)\u001b[0m\n\u001b[1;32m   3328\u001b[0m \u001b[38;5;28;01mif\u001b[39;00m with_rank:\n\u001b[1;32m   3329\u001b[0m     additional_args \u001b[38;5;241m+\u001b[39m\u001b[38;5;241m=\u001b[39m (rank,)\n\u001b[0;32m-> 3330\u001b[0m processed_inputs \u001b[38;5;241m=\u001b[39m \u001b[43mfunction\u001b[49m\u001b[43m(\u001b[49m\u001b[38;5;241;43m*\u001b[39;49m\u001b[43mfn_args\u001b[49m\u001b[43m,\u001b[49m\u001b[43m \u001b[49m\u001b[38;5;241;43m*\u001b[39;49m\u001b[43madditional_args\u001b[49m\u001b[43m,\u001b[49m\u001b[43m \u001b[49m\u001b[38;5;241;43m*\u001b[39;49m\u001b[38;5;241;43m*\u001b[39;49m\u001b[43mfn_kwargs\u001b[49m\u001b[43m)\u001b[49m\n\u001b[1;32m   3331\u001b[0m \u001b[38;5;28;01mif\u001b[39;00m \u001b[38;5;28misinstance\u001b[39m(processed_inputs, LazyDict):\n\u001b[1;32m   3332\u001b[0m     processed_inputs \u001b[38;5;241m=\u001b[39m {\n\u001b[1;32m   3333\u001b[0m         k: v \u001b[38;5;28;01mfor\u001b[39;00m k, v \u001b[38;5;129;01min\u001b[39;00m processed_inputs\u001b[38;5;241m.\u001b[39mdata\u001b[38;5;241m.\u001b[39mitems() \u001b[38;5;28;01mif\u001b[39;00m k \u001b[38;5;129;01mnot\u001b[39;00m \u001b[38;5;129;01min\u001b[39;00m processed_inputs\u001b[38;5;241m.\u001b[39mkeys_to_format\n\u001b[1;32m   3334\u001b[0m     }\n",
      "Cell \u001b[0;32mIn[3], line 1\u001b[0m, in \u001b[0;36m<lambda>\u001b[0;34m(s)\u001b[0m\n\u001b[0;32m----> 1\u001b[0m samples_to_tune_on \u001b[38;5;241m=\u001b[39m samples_to_tune_on\u001b[38;5;241m.\u001b[39mmap(\u001b[38;5;28;01mlambda\u001b[39;00m s : {\u001b[38;5;124m'\u001b[39m\u001b[38;5;124mX\u001b[39m\u001b[38;5;124m'\u001b[39m : \u001b[43mpt\u001b[49m\u001b[38;5;241m.\u001b[39mformat(X\u001b[38;5;241m=\u001b[39ms[\u001b[38;5;124m'\u001b[39m\u001b[38;5;124mX\u001b[39m\u001b[38;5;124m'\u001b[39m]), \u001b[38;5;124m'\u001b[39m\u001b[38;5;124my\u001b[39m\u001b[38;5;124m'\u001b[39m : [\u001b[38;5;124m'\u001b[39m\u001b[38;5;124mX\u001b[39m\u001b[38;5;124m'\u001b[39m]}, batched\u001b[38;5;241m=\u001b[39m\u001b[38;5;28;01mTrue\u001b[39;00m)\n",
      "\u001b[0;31mNameError\u001b[0m: name 'pt' is not defined"
     ]
    }
   ],
   "source": [
    "samples_to_tune_on = samples_to_tune_on.map(lambda s : {'X' : pt.format(X=s['X']), 'y' : ['X']}, batched=True)"
   ]
  },
  {
   "cell_type": "code",
   "execution_count": 28,
   "id": "cce69220",
   "metadata": {},
   "outputs": [
    {
     "data": {
      "text/plain": [
       "[\"Summarize : Amanda: I baked  cookies. Do you want some?\\r\\nJerry: Sure!\\r\\nAmanda: I'll bring you tomorrow :-) summary:\",\n",
       " 'Summarize : Olivia: Who are you voting for in this election? \\r\\nOliver: Liberals as always.\\r\\nOlivia: Me too!!\\r\\nOliver: Great summary:',\n",
       " \"Summarize : Tim: Hi, what's up?\\r\\nKim: Bad mood tbh, I was going to do lots of stuff but ended up procrastinating\\r\\nTim: What did you plan on doing?\\r\\nKim: Oh you know, uni stuff and unfucking my room\\r\\nKim: Maybe tomorrow I'll move my ass and do everything\\r\\nKim: We were going to defrost a fridge so instead of shopping I'll eat some defrosted veggies\\r\\nTim: For doing stuff I recommend Pomodoro technique where u use breaks for doing chores\\r\\nTim: It really helps\\r\\nKim: thanks, maybe I'll do that\\r\\nTim: I also like using post-its in kaban style summary:\",\n",
       " \"Summarize : Edward: Rachel, I think I'm in ove with Bella..\\r\\nrachel: Dont say anything else..\\r\\nEdward: What do you mean??\\r\\nrachel: Open your fu**ing door.. I'm outside summary:\",\n",
       " \"Summarize : Sam: hey  overheard rick say something\\r\\nSam: i don't know what to do :-/\\r\\nNaomi: what did he say??\\r\\nSam: he was talking on the phone with someone\\r\\nSam: i don't know who\\r\\nSam: and he was telling them that he wasn't very happy here\\r\\nNaomi: damn!!!\\r\\nSam: he was saying he doesn't like being my roommate\\r\\nNaomi: wow, how do you feel about it?\\r\\nSam: i thought i was a good rommate\\r\\nSam: and that we have a nice place\\r\\nNaomi: that's true man!!!\\r\\nNaomi: i used to love living with you before i moved in with me boyfriend\\r\\nNaomi: i don't know why he's saying that\\r\\nSam: what should i do???\\r\\nNaomi: honestly if it's bothering you that much you should talk to him\\r\\nNaomi: see what's going on\\r\\nSam: i don't want to get in any kind of confrontation though\\r\\nSam: maybe i'll just let it go\\r\\nSam: and see how it goes in the future\\r\\nNaomi: it's your choice sam\\r\\nNaomi: if i were you i would just talk to him and clear the air summary:\",\n",
       " \"Summarize : Neville: Hi there, does anyone remember what date I got married on?\\r\\nDon: Are you serious?\\r\\nNeville: Dead serious. We're on vacation, and Tina's mad at me about something. I have a strange suspicion that this might have something to do with our wedding anniversary, but I have nowhere to check.\\r\\nWyatt: Hang on, I'll ask my wife.\\r\\nDon: Haha, someone's in a lot of trouble :D\\r\\nWyatt: September 17. I hope you remember the year ;) summary:\",\n",
       " \"Summarize : John: Ave. Was there any homework for tomorrow?\\r\\nCassandra: hello :D Of course, as always :D\\r\\nJohn: What exactly?\\r\\nCassandra: I'm not sure so I'll check it for you in 20minutes. \\r\\nJohn: Cool, thanks. Sorry I couldn't be there, but I was busy as fuck...my stupid boss as always was trying to piss me off\\r\\nCassandra: No problem, what did he do this time?\\r\\nJohn: Nothing special, just the same as always, treating us like children, commanding to do this and that...\\r\\nCassandra: sorry to hear that. but why don't you just go to your chief and tell him everything?\\r\\nJohn: I would, but I don't have any support from others, they are like goddamn pupets and pretend that everything's fine...I'm not gonna fix everything for everyone\\r\\nCassandra: I understand...Nevertheless, just try to ignore him. I know it might sound ridiculous as fuck, but sometimes there's nothing more you can do.\\r\\nJohn: yeah I know...maybe some beer this week?\\r\\nCassandra: Sure, but I got some time after classes only...this week is gonna be busy\\r\\nJohn: no problem, I can drive you home and we can go to some bar or whatever.\\r\\nCassandra: cool. ok, I got this homework. it's page 15 ex. 2 and 3, I also asked the others to study another chapter, especially the vocabulary from the very first pages. Just read it.\\r\\nJohn: gosh...I don't know if I'm smart enough to do it :'D\\r\\nCassandra: you are, don't worry :P Just circle all the words you don't know and we'll continue on Monday.\\r\\nJohn: ok...then I'll try my best :D\\r\\nCassandra: sure, if you will have any questions just either text or call me and I'll help you.\\r\\nJohn: I hope I won't have to waste your time xD\\r\\nCassandra: you're not wasting my time, I'm your teacher, I'm here to help. This is what I get money for, also :P\\r\\nJohn: just kidding :D ok, so i guess we'll stay in touch then\\r\\nCassandra: sure, have a nice evening :D\\r\\nJohn: you too, se ya\\r\\nCassandra: Byeeeee summary:\",\n",
       " \"Summarize : Sarah: I found a song on youtube and I think you'll like it\\r\\nJames: What song?\\r\\nSarah: <file_other>\\r\\nJames: Oh. I know it! \\r\\nJames: I heard it before in some compilation\\r\\nSarah: I can't stop playing it over and over\\r\\nJames: That's exactly how I know lyrics to all of the songs on my playlist :D\\r\\nSarah: Haha. No lyrics here though. Instrumental ;D\\r\\nJames: Instrumental songs are different kind of music. \\r\\nJames: But you have to remember that the activity you do when you listen to this song\\r\\nJames: Is the actvity your brain will connect to the song\\r\\nJames: And everytime you play this song at home\\r\\nJames: You'll be thinking of your work\\r\\nSarah: Yeah, I know that. That's why we sometimes say - I used to like that song, but now it just reminds me of bad memories\\r\\nJames: Yup. Everytime you change your partner, you have to get rid of your favorite music :D\\r\\nSarah: Hahaha. True, true. summary:\",\n",
       " 'Summarize : Noah: When and where are we meeting? :)\\r\\nMadison: I thought you were busy...?\\r\\nNoah: Yeah, I WAS. I quit my job. \\r\\nMadison: No way! :o :o :o Why? I thought you liked it...?\\r\\nNoah: Well, I used to, until my boss turned into a complete cock... Long story. summary:',\n",
       " \"Summarize : Matt: Do you want to go for date?\\r\\nAgnes: Wow! You caught me out with this question Matt.\\r\\nMatt: Why?\\r\\nAgnes: I simply didn't expect this from you.\\r\\nMatt: Well, expect the unexpected.\\r\\nAgnes: Can I think about it?\\r\\nMatt: What is there to think about?\\r\\nAgnes: Well, I don't really know you.\\r\\nMatt: This is the perfect time to get to know eachother\\r\\nAgnes: Well that's true.\\r\\nMatt: So let's go to the Georgian restaurant in Kazimierz.\\r\\nAgnes: Now your convincing me.\\r\\nMatt: Cool, saturday at 6pm?\\r\\nAgnes: That's fine.\\r\\nMatt: I can pick you up on the way to the restaurant.\\r\\nAgnes: That's really kind of you.\\r\\nMatt: No problem.\\r\\nAgnes: See you on saturday.\\r\\nMatt: Yes, looking forward to it.\\r\\nAgnes: Me too. summary:\",\n",
       " 'Summarize : Lucas: Hey! How was your day?\\r\\nDemi: Hey there! \\r\\nDemi: It was pretty fine, actually, thank you!\\r\\nDemi: I just got promoted! :D\\r\\nLucas: Whoa! Great news!\\r\\nLucas: Congratulations!\\r\\nLucas: Such a success has to be celebrated.\\r\\nDemi: I agree! :D\\r\\nDemi: Tonight at Death & Co.?\\r\\nLucas: Sure!\\r\\nLucas: See you there at 10pm?\\r\\nDemi: Yeah! See you there! :D summary:',\n",
       " 'Summarize : Mark: I just shipped the goods\\r\\nMark: Tomorrow I’ll send you the tracking number\\r\\nGeorge: Thanks! summary:',\n",
       " \"Summarize : Anita: I'm at the station in Bologna\\nJenny: No problems so far?\\nAnita: no, everything's going smoothly\\nTomy: good! summary:\",\n",
       " \"Summarize : Leon: did you find the job yet?\\r\\nArthur: no bro, still unemployed :D\\r\\nLeon: hahaha, LIVING LIFE\\r\\nArthur: i love it, waking up at noon, watching sports - what else could a man want?\\r\\nLeon: a paycheck? ;)\\r\\nArthur: don't be mean... \\r\\nLeon: but seriously, my mate has an offer as a junior project manager at his company, are you interested?\\r\\nArthur: sure thing, do you have any details?\\r\\nLeon: <file_photo>\\r\\nArthur: that actually looks nice, should I reach out directly to your friend or just apply to this email address from the screenshot?\\r\\nLeon: it's his email, you can send your resume directly and I will mention to him who you are :) summary:\",\n",
       " \"Summarize : Macca: i'm so exited today\\nAdrien: why?\\nMacca: I've never done ice climbing before\\nMark: Are you ready?\\nMacca: think so\\nTobias: where are you doing this?\\nMacca: not far from Reykjavik\\nMacca: Has anybody seriously injured themselves doing this?\\nMark: not seriously\\nAdrien: I didn't know you're in Iceland!\\nMacca: hahaha, doesn't sound so good\\nMark: no need to be afraid\\nMacca: gosh, it was such a rush\\nMark: did you enjoy it?\\nMacca: every second\\nMacca: it was not very cold\\nMacca: the landscapes were magnificent\\nMark: I'm glad to read that\\nMacca: Challenge of the day done! summary:\",\n",
       " \"Summarize : Isabella: fuck my life, I'm so not able to get up to work today\\r\\nIsabella: I need to call in sick :(\\r\\nOscar: haha, well you certainly had a good time at the Christmas party yesterday XD\\r\\nIsabella: shut up, you're a traitor\\r\\nIsabella: I told you to guard my glass\\r\\nIsabella: and my sobriety. You clearly failed!\\r\\nOscar: but you were having such fun, I didn't have a heart to stop it\\r\\nOscar: <file_photo>\\r\\nOscar: <file_photo>\\r\\nIsabella: you're so dead! Is that Jimmy from marketing department?\\r\\nOscar: yes indeed, it's him :D\\r\\nIsabella: I am a fallen woman, I cannot get back to the office now\\r\\nIsabella: <file_gif>\\r\\nOscar: oh come on, almost everybody was drunk\\r\\nOscar: so they won't remember a thing :D\\r\\nIsabella: I assure you, they tend to remember such things…\\r\\nOscar: <file_gif> summary:\",\n",
       " \"Summarize : Tina: I'd only like to remind you that you owe me 50 bucks\\r\\nLucy: Of course, I know.\\r\\nLucy: I've already transferred the money but it's Sunday today so you'll have it in your bank account tomorrow\\r\\nTina: That's good news cuz I've been having a lot of expenses lately summary:\",\n",
       " 'Summarize : Betty: Please remind me next time that too much wine isn\\'t good for me and me surrounding\\r\\nBetty: Hangover is one thing\\r\\nBetty: But I feel like never touching wine again\\r\\nAmber: Hahaha. You were so drunk with wine last night, you couldn\\'t walk straight even 5 steps\\r\\nAmber: You took off your weeding ring and shouted \"My precious\"\\r\\nBetty: Uhh. I have no blackouts so I know exactly what to feel embarassed about.... summary:',\n",
       " \"Summarize : Mary: Hi Mike!\\r\\nMike: Hello :)\\r\\nMary: do u have any plans for tonight?\\r\\nMike: I'm going to visit my grandma.\\r\\nMike: You can go with me.\\r\\nMike: She likes u very much.\\r\\nMary: Good idea, i'll buy some chocolate for her. summary:\",\n",
       " \"Summarize : Laura: ok , I'm done for today-)\\r\\nLaura: let me know once u're free and we come back home together\\r\\nKim: hmm.. 7?\\r\\nLaura: ok\\r\\nKim: cool, wait for me at work, I'll call once I get here summary:\",\n",
       " \"Summarize : Ashley: Guys, you have to read this book!  <file_photo>\\r\\nMarcus: Why, what's so special about it?\\r\\nErin: I think I've already heard about it from someone. Is it really that good?\\r\\nAshley: It's the best thing I've ever read! Completely life-changing! It's opened my eyes to a lot of things.\\r\\nSeamus: Sorry, but I don't like books that are written to change my life. I prefer books that are simply fun to read :P\\r\\nMarcus: I get what you mean. I feel like some authors are so concentrated on making their books full of wisdom that they completely forget that they should also be readable.\\r\\nErin: Do you mean Coelho? XD\\r\\nMarcus: No, while I'm not a fan of his, at least I've never fallen asleep while reading his books. I meant this one for example: <file_other>\\r\\nAshley: Erm, I quite like his books.\\r\\nSeamus: Did they change your life too? :D\\r\\nAshley: Wait, I meant Coelho. I've never read the other guy.\\r\\nMarcus: Trust me, don't. There are lots of better ways of wasting your time.\\r\\nAshley: LOL, okay, I trust you. But the one I posted at the beginning is really good. It's not just some philosophical gibberish, it's actually a crime novel, so there's a lot of action too.\\r\\nErin: Does it have a cute detective? ;)\\r\\nAshley: Even two of them, actually. Believe me, you won't be able to decide which one to love more!\\r\\nErin: Okay, I'm already sold :D summary:\",\n",
       " \"Summarize : Aria: You won't believe who I've just met!\\r\\nAria: Charlie Evans!\\r\\nMaverick: Oh God, I haven't seen him from ages!\\r\\nMaverick: How is he doing?\\r\\nAria: He's doing great. :)\\r\\nAria: He got married, he runs a small family business, which he is very passionate about and generally he seems to be a happy and fulfilled man. :)\\r\\nAria: Oh, and he has two absolutely adorable daughters. :)\\r\\nAria: It was so nice to meet him, he's such a sweet soul.\\r\\nMaverick: I’m glad to hear that. :)\\r\\nMaverick: Time flies so fast, doesn't it?\\r\\nAria: It does. :) Recently I’ve met Cooper Roy, I'm sure you remember him, I constantly talked about him back then in high school, because I had a huge crush on him. He’s changed a lot!\\r\\nAria: I barely recognized him!\\r\\nMaverick: I remember, how you and Kylie used to gossip about him all the time. :)\\r\\nAria: Well, we were madly in love with him.\\r\\nAria: Or at least we thought so. ;)\\r\\nMaverick: I sometimes miss those times.\\r\\nMaverick: Everything seemed to be easier, better and calmer back then.\\r\\nAria: The world wasn’t as crazy as it is now.\\r\\nAria: I feel like politics got crazier, people - more radical and hostile and economics - less predictable...\\r\\nMaverick: Me too...:( summary:\",\n",
       " 'Summarize : Anna: where are you\\r\\nOmenah: at home \\r\\nAnna: I will be there in a minute  summary:',\n",
       " \"Summarize : Renee: Just saying Hi. Thought of you this morning.Layla misses you. She is having knee surgery. Hope you are doing well.\\r\\nRachel: Renee! Hey! Whoa! So crazy that you wrote. I was literally thinking of you the other day as well. \\r\\nRachel: I am doing really well, getting settled here and everything. Looking for a new job. \\r\\nRachel: Layla is getting knew surgery?! What happened?\\r\\nRenee: Her arthritis got really bad. I saw her limping every time we went out for a walk, and so I took her to the vet and they decided she needs surgery. \\r\\nRachel: Oh wow. That is really intense. I am sending her lots of love.\\r\\nRenee: Thanks Rachel. \\r\\nRenee: Here is a pic of Layla from this morning.\\r\\nRenee: <file_picture>\\r\\nRenee: She is all cute in her usual spot. \\r\\nRachel: Ha! Yeah, I remember, she would always try to fit in there even though she's obviously too big\\r\\nRachel: 😂\\r\\nRenee: Yeah, she's always getting into some sort of silly situations.\\r\\nRenee: What kind of work are you looking for?\\r\\nRachel: Just the usual, something with teaching. I am not too stressed yet, I have some savings.\\r\\nRenee: That's good, yeah, you don't want to have to feel pressured into taking a certain job. \\r\\nRenee: Just so you know, if you are ever back, you are more than welcome to come back and work for me. \\r\\nRenee: Layla is definitely missing you taking her on walks everyday. \\r\\nRachel: Aw, yeah, I miss you guys too. Of course :) If I am ever back I will let you know!  summary:\",\n",
       " 'Summarize : Jonas: I’m running 10 minutes late. Could you guys just let Mary know that I’m coming and will present today before she starts?\\r\\nNatalie: Sure no problem\\r\\nOlivia: I’ll save a seat for you 😍\\r\\nJonas: Thanks so much. See you in a bit xx summary:',\n",
       " 'Summarize : Julius: dude, your assessment of manutd\\r\\nLawrence: i have nothing to say, im so offended and hopeless of them this season\\r\\nJulius: me too\\r\\nLawrence: i dont even know whats wrong with the team\\r\\nJulius: the quality is there but nothing is happening\\r\\nLawrence: the players look tired of something\\r\\nJulius:  with mourinhos conservative football!!\\r\\nLawrence: its so boring\\r\\nJulius: so lifeless\\r\\nLawrence: man!!\\r\\nJulius: it needs to change, hope the board sees it\\r\\nLawrence: sooner than later\\r\\nJulius: yeah\\r\\nLawrence: yeah summary:',\n",
       " 'Summarize : Jade: are you going to that trip\\r\\nWayne: was\\r\\nJade: what do you mean\\r\\nWayne: its portponed\\r\\nJade: are you kidding me XD\\r\\nWayne: im serious, why surprised\\r\\nJade: i had to go home and miss it xD\\r\\nWayne: oh, cool you can make it when we go\\r\\nJade: yea, yesss\\r\\nWayne: :D summary:',\n",
       " \"Summarize : Natalie: are you still going to Thailand?\\r\\nJason: yeah, next week as planned\\r\\nJason: why?\\r\\nNatalie: could you buy me some spices?\\r\\nNatalie: I can't find anything similar here\\r\\nNatalie: and I really like those\\r\\nJason: sure, if you'll send me all the names\\r\\nJason: you know, I'm not very good when it comes to remembering those\\r\\nNatalie: of course, I will take pictures of the ones I have to make it easier\\r\\nJason: great and just to be sure remind me about that in two weeks or so\\r\\nJason: I might have other things on my mind and I tend to forget things easily :)\\r\\nNatalie: that shouldn't be a problem :) summary:\",\n",
       " \"Summarize : Elisa: Who wants to come for drinks tonight at Mombasa?\\r\\nAlice: me!\\r\\nSadie: I'm in as well\\r\\nCarol: may I bring some people?\\r\\nElisa: sure, the more the better!\\r\\nCarol: amazing\\r\\nArthur: count me in! I'll come with Alice of course\\r\\nLiam: me too!\\r\\nKai: I will join you but after my courses, around 8\\r\\nElisa: No problem, we'll be there till midnight at least\\r\\nTom: i may come over :)\\r\\nElisa: Anybody else? I'd like to book the corner table\\r\\nTom: the big one?\\r\\nElisa: exactly\\r\\nJohn: So count me in as well\\r\\nElisa: Perfect, the table is for 15 people so we should manage! See you there summary:\",\n",
       " \"Summarize : Hal: Have you got any homework for tomorrow?\\r\\nAmy: no dad\\r\\nHal: ru sure?\\r\\nAmy: told ya\\r\\nHal: You know mum's not home today.\\r\\nAmy: I know, I can use the microwave\\r\\nHal: good girl. I'll be home around 6\\r\\nAmy: yeah right\\r\\nHal: what do you mean\\r\\nAmy: sry dad but you're never ever home at 6\\r\\nHal: i suppose you;re right. but I'll try today\\r\\nAmy: ok. can I go to Alex?\\r\\nHal: ok, but be back home before 7. we'll have dinner together\\r\\nAmy: ok dad\\r\\nHal: and if you really have no homework to do\\r\\nAmy: sure thing dad summary:\",\n",
       " \"Summarize : Ray: Hey guys, I don't know if you heard but someone stole my bike yesterday so I'm going to post it on fb and would appreciate if you share! THX\\r\\nSam: shit, man, sorry to hear, I will share for sure\\r\\nLuke: when was it, Ray? I had mine stolen last month around when I parked around on the 9th street\\r\\nRay: Mine was there too :( cops said it's a common area for it to happen but I still havent lost hope :(\\r\\nScott: Did they check the security cameras around the place? Maybe Mariott people saw someone?\\r\\nRay: Apparently they don't overlook that area... \\r\\nLuke: Yeah, cops were completely useless too, I ended up going to Mariott on my own and asking people but they didn't see anything. I emailed their manager if they could look at the tapes but because of privacy issues blah blah blah it was a no go... Good luck man!\\r\\nRay: I mean those guys are pros... I had high grade lock on mine and an app alert and it didn't do shit. Now I'm out few grand and pissed off\\r\\nScott: I would be too. Did you post posters in the area? it's a busy street so maybe someone saw something\\r\\nRay: Yeah, I'm getting around to it now and I really hope that smeone was sober enough to notice anything. I mean it's a custom bike so I hope if they try to get rid of it it will rise suspicion\\r\\nLuke: I think it might ve already been turned into parts and shipped off. Even if you wanted to keep it and painted it, you could still recognize it\\r\\nRay: I know, that's why I wanna reach as many people as posible,maybe they ll get spooked and leave it somewhere\\r\\nSam: Let us know if you need someone to go dumpster diving with \\r\\nRay: Heh, thx Sam! I appreciate all help summary:\",\n",
       " \"Summarize : Eric: Champions League is coming soon :D\\r\\nCurtis: Oh, yea I forgot about that.\\r\\nCurtis: when exactly?\\r\\nEric: 26th of June\\r\\nEric: but there is still a very long way.\\r\\nCurtis: any predictions?\\r\\nEric: It's too early for that.\\r\\nCurtis: True, last year you were betting a lot\\r\\nEric: I lost a lot :P \\r\\nEric: I'm gonna roar back this year :)\\r\\nCurtis: good luck, I'm not into risking money\\r\\nEric: You have 50% chance to win.\\r\\nCurtis: I'll pass anyway.\\r\\nEric: okay summary:\",\n",
       " \"Summarize : Gunther: did you pay for coffee?\\r\\nChandler: uhh.. i guess not xDbut it's okay i'll pay him tomorrow\\r\\nGunther: -_- summary:\",\n",
       " \"Summarize : Karen: <file_photo>\\r\\nJennifer: OH. MY. GOD. is that you?? I would not recognize you haha\\r\\nKaren: of course it's me, i always look like that hahaha\\r\\nJennifer: oh god Karen you look so hot in this picture\\r\\nAbigail: i would not recognize you either :D why where you so dressed up?\\r\\nKaren: it was our 5th anniversary dinner\\r\\nAbigail: Mark is such a lucky guy\\r\\nMeggy: i agree with the girls, you look OUTSTANDING\\r\\nKaren: thank you sisters!!! :*** that's so sweet of you\\r\\nJennifer: where did you buy this dress? i need one like it too\\r\\nAbigail: i was gonna ask the same thing!\\r\\nMeggy: chill out girls, we can't all buy the same clothes, i need it more hahaha\\r\\nKaren: <file_other>\\r\\nMeggy: first come, first serve!! I am ordering it\\r\\nKaren: give the rest a chance too haha\\r\\nJennifer: let her have it :P summary:\",\n",
       " \"Summarize : Ted: Any news about weekend?\\r\\nJake: About the reunion?\\r\\nPia: I am available! Did we talk where?\\r\\nJessica: If I move some things around, I can too!\\r\\nTed: Great! we should set the place then\\r\\nJake: Whoa! I didn't say I could\\r\\nTed: Can you?\\r\\nJake: Hell yeah man! You know I freelance, worst case scenario I'll work from wherever we are\\r\\nTed: Lucky bastard\\r\\nJessica: We should meet up where we did last time, it's perfect middle for everyone\\r\\nTed: I agree\\r\\nPia: Friday night then?\\r\\nJess: Sure\\r\\nTed: It's a date, I'll book rooms\\r\\nJake: See you soon my peeps! summary:\",\n",
       " \"Summarize : Bradley: It's very safe. Not like they make it look on TV\\r\\nJulianna: Hehe I told them that also that tv will never show anything nice\\r\\nBradley: True...\\r\\nJulianna: But in general I think Europe is safer because here we have different law. I mean we have too much law\\r\\nBradley: Haha\\r\\nJulianna: E.g here if a teacher even touches a children's arm, he or she can have problems with police and law. Because it might be a sign of pedophilia or children sexual harassment\\r\\nBradley: Ok\\r\\nJulianna: That's sick a bit hehe but on the other hand sometimes it's ok\\r\\nBradley: Haha ok how ?\\r\\nJulianna: Because there are pedophiles in that world\\r\\nBradley: They are everywhere\\r\\nJulianna: And when someone hits a child that person should be punished summary:\",\n",
       " \"Summarize : Lucia: I need my hair cut.\\r\\nLucia: When can I come? I've got some time on Thursday and Friday.\\r\\nEric: Lucia! My dear!\\r\\nEric: Are you sure? After all, you had your hairstyle done a week ago.\\r\\nEric: What's the matter? Don't you like it?\\r\\nLucia: I like it very much and I regret to lose it.\\r\\nLucia: But I'm changing the job and my hair must be shorter...\\r\\nEric: I see. You'll tell me everything in detail once you're here, in my beauty salon.\\r\\nEric: I suggest Friday at 3 p.m. Is it fine for you?\\r\\nLucia: Sure, perfect.\\r\\nEric: Fantastic, have a nice day then.\\r\\nLucia: Thanks, bye. summary:\",\n",
       " 'Summarize : Gabriella: Hey Jasmine, how are you doing?\\r\\nJasmine: I’m fine, thanks 😊\\r\\nGabriella: Would you do me a favor?\\r\\nJasmine: No problem. How can I help?\\r\\nGabriella: I need to send my CV in English to a truly perfect job for me and I’m wondering if you could take a look at it?\\r\\nJasmine: Sure! Send it to me 😊\\r\\nGabriella: Done 😊\\r\\nJasmine: Got it. Give me an hour and I’ll check it \\r\\nGabriella: Perfect! Thank you soooo much!\\r\\nJasmine: I’ve checked it. I must say that there wasn’t much to correct. It was practically perfect. I just fixed a little bit grammar and a few spelling mistakes. \\r\\nGabriella: I know how great you are at spelling!\\r\\nJasmine: Thanks Gabriella. I hope that you will get that job!\\r\\nGabriella: I hope so, too.\\r\\nJasmine: I’ll keep my fingers crossed 😊 summary:',\n",
       " \"Summarize : Grace: Hey lady\\r\\nGrace: Today I saw you in town.\\r\\nRuth: Really?\\r\\nRuth: Why didn't you stop me?\\r\\nGrace: You were in Galitos and I could not have stormed in just to greet you.\\r\\nRuth: Of course you would have.\\r\\nRuth: There is no harm in doing that.\\r\\nGrace: 😂😂The embarrassment though.\\r\\nRuth: Furthermore I would have given you a piece of my pizza.😂\\r\\nGrace: Pizza is bomb🤤\\r\\nGrace: Be sure next time i will not need any invitation😂\\r\\nRuth: You are still welcome🤣\\r\\nGrace: Okay. BTW, do you think we can catch up some time?\\r\\nRuth: Yeah sure. Just say the day.\\r\\nGrace: Tomorrow?\\r\\nRuth: I'm in.\\r\\nGrace: Okay see you then\\r\\nRuth: Bye summary:\",\n",
       " \"Summarize : Kerri: Did you see the apartment?\\nStella: yes brb\\nKerri: ok\\nStella: Sorry I was driving\\nStella: I saw it yesterday but it was already dark so I want to go again to see it in the morning\\nStella: First of all, its really big, 130 sqm\\nKerri: WOW\\nStella: I could split it into 2 apartments\\nStella: 90 and 40 sqm more or less\\nKerri: Or 80 and 50?\\nStella: Not really, there's only one way to split it\\nStella: So I could stay in the big one with 3 bedrooms and 2 bathrooms\\nKerri: Sounds good\\nStella: I want to see it in the morning\\nStella: The agent said the bedrooms are very sunny in the morning\\nStella: Maybe I'll go tomorrow\\nKerri: Took some photos?\\nStella: <file_photo>\\nStella: <file_photo>\\nStella: <file_photo>\\nKerri: Nice!!!\\nKerri: The kitchen looks fantastic\\nKerri: Its huge\\nStella: It's the size of my living room!\\nStella: We obviously don't need 3 bedrooms\\nStella: But I could have a decent home office at last\\nKerri: Has Greg seen it?\\nStella: No, he's away this week summary:\",\n",
       " \"Summarize : Andrea: hey Babes, how's it going? I've got some job to do. 20 short texts for an online shop. 50% for correction. Deadline in two weeks. Will you help me?\\nSondra: Hi, sorry I don't think Im gonna make it. It is hard these days.\\nAndrea: ?\\nSondra: My cat is dying and nanny's leaving... :/\\nAndrea: damn.. sorry to hear that. I f you could give me someone, maybe you know somebody suitable? I know aleady Jill can't do it :/\\nSondra: Jill is the best. Other people need assitance. Do you want these contacts?\\nAndrea: not really...\\nSondra: :)\\nAndrea: If you found a window in a spacetime, please let me know. Ill get the texts on Friday.\\nSondra: OK, but I dont think it will happen. The first window I see is probably in June.\\nAndrea: I understand. I hope the kitty is going to make it, I keep my fingers crossed for him..\\nSondra: In march Im gonna have as many as ONE free evening if everything goes well. Thanks he is still alive, maybe he is stronger than it looks now.\\nAndrea: <file_gif> summary:\",\n",
       " \"Summarize : Victor: do you want to go to the museum tonight?\\r\\nVictor: there's a great exhibition about cubism going on\\r\\nCharles: you know i hate museums! lol\\r\\nCharles: i'd rather watch paint dry hahaha\\r\\nVictor: i know you hate museums...\\r\\nVictor: BUT tonight special\\r\\nCharles: why?\\r\\nVictor: because tonight is opening night!!! :-D\\r\\nCharles: what makes it different?\\r\\nVictor: there's food, music, VIPs, everyone dresses up, it's just fun\\r\\nVictor: it's upscale fun :-D\\r\\nVictor: come on! be my plus 1!!!\\r\\nCharles: i guess if you're asking me that means tons of people have said no\\r\\nCharles: i'm sure i'm not at the top of your list lol\\r\\nCharles: am i right? lol\\r\\nVictor: hahaha you're right... \\r\\nVictor: but the only reason you were not at the top of my list is becase i know it's not your thing\\r\\nVictor: i promise you it'll be fun\\r\\nVictor: and if you don't like it we'll go to a sports bar afterwards and i'll treat you to all the beer you want\\r\\nCharles: hahaha, ok, that sweetens the pot\\r\\nCharles: i'll go with you summary:\",\n",
       " \"Summarize : William: Hey. Today i saw you were arguing with Blackett.\\r\\nWilliam: Are you guys fine?\\r\\nElizabeth: Hi. Sorry you had to see us argue.\\r\\nElizabeth: It was just a small misunderstanding but we will solve it.\\r\\nWilliam: Hope so\\r\\nWilliam: You think I should to talk to him about it?\\r\\nElizabeth: No don't\\r\\nElizabeth: He won't like it that we talked after the argument.\\r\\nWilliam: Ok. But if you need any help, don't hesitate to call me\\r\\nElizabeth: Definitely summary:\",\n",
       " \"Summarize : Henry: Hey Lily, tried to catch you on landline but no answer. Gone already? Let me know when we can talk.\\r\\nLily: Am driving to town.\\r\\nHenry: OK\\r\\nHenry: Before we talk: I bumped into William in the street yesterday and we ended up in a pub. Poor chappy! Really. He'll never recover from his loss. En passant I mentioned our trip to Riehen next week and had an impression he'd be happy to be taken along. What d'you think?\\r\\nHenry: I thought it doesn't matter that much to us and he's a nice chap, interesting to talk to, good company. And he seems sort of famished for company, old friends around him. You know what I mean.\\r\\nHenry: And that could be our good deed before Xmas! ;)\\r\\nLily: Traffic was soooooo slow but I couldn't really reply. In the lecture now.\\r\\nLily: I always liked William, have no problem with him joining us to Riehen. How do you imagine that?\\r\\nHenry: He'll come to FR, leave his car in my drive and in mine we'll pick you up.\\r\\nLily: Very good. A coffee at mine before we start?\\r\\nHenry: I thought maybe a meal together afterwards?\\r\\nLily: Even better. I like that! Haven't seen him for ages, so glad to meet him again.\\r\\nLily: Will you arrange it all?\\r\\nHenry: Sure. But get prepared: he has aged. Quite visible now.\\r\\nLily: But not mentally I hope?\\r\\nHenry: No, intellectually not at all. But there's this sadness around him. An air of depression.\\r\\nLily: We'll cheer him up. If only for a day. Have to finish now.  Cheers! summary:\",\n",
       " \"Summarize : Linda: I'm going to have my room painted\\r\\nLinda: Can't decide what colors would best express my personality\\r\\nLinda: I'm considering advices, do you have one for me maybe? :)\\r\\nBrian: Fitting your personality... hmm\\r\\nBrian: I consider you an enthusiastic and lively person and the color for it is yellow\\r\\nBrian: On the other hand you can be calm and steady and they say those qualities are expressed in greyness\\r\\nBrian: So yellow & grey, how do you like the idea? :D\\r\\nLinda: Wow, I'm impressed!\\r\\nLinda: You've just paid me a compliment and come up with interesting colors!\\r\\nBrian: Well, those are actually facts :)\\r\\nBrian: Are you going to make use of the colors?\\r\\nLinda: Actually, I was planning to ask a few friends and then sum all the ideas up\\r\\nLinda: But now I think I don't need to do any further research\\r\\nLinda: Asking you for help was a bull's-eye! :D\\r\\nBrian: Perfection! :D\\r\\nBrian: I'll come and check the results of your work soon, it'll be a nice chance for us to talk :)\\r\\nLinda: Sure, feel invited! summary:\",\n",
       " \"Summarize : Juliette: So what? Tell me\\r\\nJimmy: One minute\\r\\nJuliette: What did the doctor say? \\r\\nJimmy: It's almost finished, wait a second\\r\\nJuliette: Is it so serious? Should I be afraid?\\r\\nJimmy: OK, just finished\\r\\nJuliette: So, tell me, I can't wait longer\\r\\nJimmy: Acute gastritis\\r\\nJuliette: What's that?\\r\\nJimmy: Acid attacks in the stomach\\r\\nJuliette: It's not a cancer?\\r\\nJimmy: No, it's not\\r\\nJuliette: Is this sure?\\r\\nJimmy: Yes, darling\\r\\nJuliette: You're not lying to me ?\\r\\nJimmy: No, darling, please believe me\\r\\nJuliette: And how can we cure this?\\r\\nJimmy: Just a few tablets for a month and that should be enough\\r\\nJuliette: I'm so glad it's not a cancer\\r\\nJimmy: :000\\r\\nJuliette: I love you\\r\\nJimmy: Me too summary:\",\n",
       " \"Summarize : Mary: Hi <3\\r\\nPeter: Hey gorgeous ;)\\r\\nMary: What's up\\r\\nPeter: Not much, jsut thinking about you \\r\\nMary: Aww I miss you so much :(\\r\\nPeter: I know baby but ill be back home in 2 days. The we can do whatever you want :*\\r\\nMary: Whatever I want, huh? 3:)\\r\\nPeter: ;)\\r\\nMary: I was actually hoping to cash in on that raincheck :) We haven't been on a date for quite a while... :/\\r\\nPeter: I'ld like that :)\\r\\nMary: :) summary:\",\n",
       " \"Summarize : Francesca: It's 3 a.m. You're not asleep yet\\r\\nJacob: What a stalker ;-)\\r\\nFrancesca: :D \\r\\nFrancesca: I cannot sleep\\r\\nJacob: Me neither\\r\\nFrancesca: Why?\\r\\nJacob: I just can't. Thinking about stuff\\r\\nFrancesca: Me too\\r\\nFrancesca: Sometimes I wish I didn't think that much\\r\\nJacob: What were you thinking about?\\r\\nFrancesca: My mum, school, you...\\r\\nJacob: Me?\\r\\nFrancesca: I seen you've been sad recently \\r\\nJacob: Maybe you're right\\r\\nJacob: What about your mum?\\r\\nFrancesca: I cannot understand\\r\\nFrancesca: Why did she do it??\\r\\nFrancesca: Why would anyone want to kill themselves?\\r\\nJacob: I could understand...\\r\\nFrancesca: Are you serious? Do you have these thoughts?\\r\\nJacob: Sometimes\\r\\nFrancesca: Please don't... I beg you, don't do it... summary:\",\n",
       " 'Summarize : Ted: Feeling sorry for.. myself! \\r\\nKelly: What’s happened? Are you ok?\\r\\nTed: I’ve twisted my ankle \\r\\nMike: what have you done?\\r\\nVictoria: bless you! x\\r\\nOliver: too much to drink?\\r\\nRob: all the best!\\r\\nKelly: get well soon!\\r\\nMary: oh dear! xxx\\r\\nTed: cheers guys!  summary:',\n",
       " 'Summarize : Chloe: Hey, you told me about this cream that you find really good\\r\\nJulie: Ehhm yea, GlamRock\\r\\nChloe: Where did you buy it?\\r\\nJulie: Online, there’s a shop called a GlamShop\\r\\nChloe: Cool, thanks\\r\\nJulie: You said you’re broke now and not going to buy anything\\r\\nChloe: I got money earlier than expected ^^\\r\\nJulie: Oh I get it. So will you give me back the money I borrowed you?\\r\\nChloe: Ah ofc, sending it right away\\r\\nJulie: Thanks, will help me a lot :)\\r\\nChloe: Sth wrong? O.o\\r\\nJulie: Noo haha but me and Jake, we want to get a dog and there’s going to be a lot of costs, vet, vaccination, trying different types of food etc\\r\\nChloe: A dog, cool, which breed?\\r\\nJulie: We just want to take some poor animal from the shelter, so it’s whatever. We want it to be big ;p\\r\\nChloe: That’s so sweet of you! Yea you have a big house, you can have a big dog ^^\\r\\nJulie: Many kids would fit in as well, but my husband’s not interested -_-\\r\\nChloe: Seriously O>O\\r\\nJulie: He keeps saying that we need to wait until we pay more of our debts and that sort og stuff\\r\\nChloe: Well, you never complain about money, youhave a big house, looks like you can afford kids!\\r\\nJulie: I thinks so too, but he doesn’t agree ;/\\r\\nChloe: Just stop taking pills, he’ll have no choice ;)\\r\\nJulie: That would be cruel xD summary:',\n",
       " 'Summarize : Pitt: Hey Teddy! Have you received my message?\\r\\nTeddy: No. An email?\\r\\nPitt: No. On the FB messenger.\\r\\nTeddy: Let me check.\\r\\nTeddy: Yeah. Ta! summary:',\n",
       " \"Summarize : Mary: Sorry, I didn't make it to your bday party :(\\r\\nNick: It's OK...\\r\\nMary: But I just got SOOO distracted! I forgot it was yesterday!\\r\\nNick: do tell!\\r\\nMary: I met this guy...\\r\\nNick: REALLY? I want details :D\\r\\nMary: Yeah, his name is Kirk and he's an architect...\\r\\nNick: OK, just your type then <file_gif>\\r\\nMary: And we ended up spending the whole week together. xD\\r\\nNick: A WEEK?\\r\\nMary: Yeah... It's madness, I'll tell you more this evening. Are we still on?\\r\\nNick: You bet we are! summary:\",\n",
       " \"Summarize : Connor: I'm too tired to come to the meeting I think\\r\\nJade: decided?\\r\\nIsaiah: I didn't even have intention to go there really\\r\\nConnor: Yes, I'm going to bed summary:\",\n",
       " \"Summarize : Karen: Where'd you buy this dress you had at the wedding?\\r\\nSamara: Oh, from an online shop\\r\\nSamara: Hold on\\r\\nSamara: <file_other>\\r\\nSamara: That's the one\\r\\nKaren: Wow thanks\\r\\nSamara: Youre welcome!\\r\\nKaren: Oooh, they have some neat stuff there\\r\\nSamara: Yeah, I was so happy when i disovered it\\r\\nSamara: There's few places where I shop regularly, most of the time I'm kind of all over the place\\r\\nKaren: Same here\\r\\nSamara: But I've already bought several skirts and blouses from this shop too, so I'll probably become a more frequent customer ;) summary:\",\n",
       " \"Summarize : Gabi: What do you guys want for Christmas? Let's say up to $100.\\r\\nJack: I need to think about it...\\r\\nMary: I want cosmetics. I wouldn't say no to some good skin care.\\r\\nKate: I dream about a Kindle!!\\r\\nGabi: How about the rest?\\r\\nJack: How about yourself?\\r\\nGabi: I want a surprise gift. I think you all know me quite well. \\r\\nPeter: I need a set of drills. Later I'll pass you the Amazon link.\\r\\nJohn: I want new sneakers. Size 10.\\r\\nJack: It seems you all thought it through.\\r\\nJohn: We do it every year. I was thinking about my gift already in September :D\\r\\nJack: That's early! LOL\\r\\nJack: Until when should I let you know?\\r\\nGabi: In about a week we should all know so we have enough time for online orders etc. summary:\",\n",
       " \"Summarize : Daniel: Hi Jeff, I was just browsing thought your notes from yesterday and I have a couple of questions.\\r\\nJeff: Shoot :)\\r\\nDaniel: Was Mindy there?\\r\\nJeff: Yes, she was.\\r\\nDaniel: Could you please add her input on the first presentation? She must have said something since she's involved in phase one of the project\\r\\nJeff: Actually, she didn't react that much\\r\\nDaniel: like not at all?\\r\\nJeff: Wait a sec, let me double check summary:\",\n",
       " \"Summarize : Client: Good afternoon. I suggest you adjust the timetable to the reality on the Polish roads. P6 bus Radom - Warsaw, arriving from Cracow, 40 minutes delay.\\r\\nClient: And it was not the first time, there was one hour delay not so long ago...\\r\\nFlix: Hi Marta. We are very sorry that the bus arrived late, but they are operational delays which we have no control over. Apologies.\\r\\nClient: But this happens too often. Why don't you consider rearranging the timetable??\\r\\nClient: I was waiting at the station from 17.10, hoping to get the bus at 17.25. It arrived at 18.10. One hour waiting.\\r\\nClient: It hardly ever happens that the bus arrives on time. The timetable is too optimistic. I understand there are traffic jams but...\\r\\nFlix: Thank you for the information, we will inform our managers about it.\\r\\nClient: Can I make a formal complaint? I had a similar situation last year.\\r\\nFlix: Sure, you can send a complaint by email to info@flix.com. \\r\\nClient: thanks, I will definitely. But I really hope you do something about it this time...\\r\\nFlix: yes, all complaints are addressed by our managers.\\r\\nClient: great. They should not just read them, but do something about it. Will you inform me about the status?\\r\\nFlix: We don't do that automatically, but you can call us and find out. You can find all the necessary info on our website. \\r\\nClient: Ok, I see.\\r\\nFlix: Once again apologies. summary:\",\n",
       " \"Summarize : Jeff: Are you ready for the hiking tomorrow?\\nAnn: I've just packed\\nCorina: is it going to be very difficult\\nJeff: this track is quite heavy\\nJeff: so please, take good shoes\\nMaria: sure, how long is the track?\\nJeff: about 20km\\nJeff: let me check it\\nMaria: thanks\\nJeff: 21,3 km\\nMaria: but it's only to the lighthouse?\\nJeff: yes\\nMaria: so we have to take a bus back\\nJeff: I think so, to walk back would be too tiring\\nCorina: and too boring\\nCorina: doing the same way again\\nJeff: true\\nJeff: so I'll check the busses\\nAnn: great\\nJeff: yes, there is one at 5PM\\nMaria: just perfect!\\nJeff: :) summary:\",\n",
       " \"Summarize : Joyce: Guys, sorry I'm running late today! Will be there soon\\nAndrew: I’m a wee bit late too but will be there before 8! Leaving soon\\nCarla: On my way, with sipke😀\\nAnette: On the way kids\\nAnette: In the first here wtf\\nHelen: Where are yall\\nHelen: Annette are you here?\\nHelen: I'm at a table by one of the windows at the front! summary:\",\n",
       " 'Summarize : Aiden: Have you subscribed my channel?\\r\\nMia: Nop I havent \\r\\nAiden: :/\\r\\nMia: Whats the name?\\r\\nAiden: Tuberflicks\\r\\nMia: Send me the link\\r\\nAiden: wait\\r\\nMia: k\\r\\nAiden: <file_link> Here you go\\r\\nMia: It has pretty much grown now\\r\\nAiden: Yeah it is\\r\\nMia: Since when have you been working on it?\\r\\nAiden: Its been 6 month now\\r\\nMia: wow summary:',\n",
       " \"Summarize : Oli: I've talked to some people from the third year\\nJacob: About the statistics exam?\\nMarcia: What did they say?\\nOli: Yeah, about the exam\\nOli: We need to prepare for a battle\\nJacob: So it will be difficult\\nOli: They said it was the hardest exam ever\\nMarcia: 😱\\nOli: The questions were displayed on the screen \\nOli: One minute per question and it disappears\\nOli: They won't come back so if you didn't get your answer you're fucked\\nMarcia: So we need to make the calculations really fast\\nJacob: That's insane\\nOli: I know\\nOli: Very stressful\\nMarcia: How are we even supposed to study for it?\\nMarcia: With a timer?\\nOli: I guess\\nMarcia: Did anybody pass it last year\\nOli: Some people did, but the majority had to take the second or even the third chance summary:\",\n",
       " \"Summarize : Blake: Why did you tell Steven all those stupid things?\\r\\nAlexis: What things?\\r\\nBlake: That I did not want him. It's just not true and you know it.\\r\\nAlexis: I remember things differently, sorry.\\r\\nBlake: You're his mother, I cannot cut you from him, but I really believe you have a terrible influence on him.\\r\\nAlexis: I would rather say it about you.\\r\\nBlake: Please, stop. I've taken so much care of him in the last years and I always avoid talking with him about you.\\r\\nAlexis: Why should you avoid the topic? Is it better to pretend I do not exist?\\r\\nBlake: Nobody pretends that, but I don't want to drag him into our games. Your games, actually.\\r\\nAlexis: I don't know why I am still talking to you. You keep insulting and accusing me.\\r\\nBlake: I'm just trying to stop you from destroying our son's life.\\r\\nAlexis: I am his mother, I know what's good for him.\\r\\nBlake: No, you're using him for your stupid games against me.\\r\\nAlexis: You're really unbelievably self-centred.\\r\\nBlake: Alexis, it's not possible to talk to you any more. You're either aggressive or defensive. There is no discussion.\\r\\nAlexis: Try not to attack me first. This is a natural reaction to an attack of every human being, of every living creature actually. \\r\\nBlake: I tried to discuss how we are managing our relations with our son. Was it an attack?\\r\\nAlexis: No, you attacked me saying I told something to Steven that you apparently didn't like. But you will nor censor me. This time is over.\\r\\nBlake: For God's sake! \\r\\nAlexis: I've had enough. I am coming back to my work now. There is more in this world than your huge ego. Bye! summary:\",\n",
       " \"Summarize : Roberta: <file_photo>\\r\\nRoberta: look what I found!\\r\\nMakoto: my dress!\\r\\nRoberta: you must have left it when you were visiting this summer\\r\\nMakoto: could you send it to me?\\r\\nRoberta: sure, I'll do so on Friday :) summary:\",\n",
       " \"Summarize : Sawyer: I hope I found you wrapped in a towel when you open the door\\r\\nEleanor: No... I will be wearing sexy short black robe instead which is a little bit transparent\\r\\nSawyer: It must be fully transparent then\\r\\nEleanor: I'm general it is but it's black\\r\\nSawyer: Hmmm Would you ever send me a photo of you wearing it ?\\r\\nEleanor: When I take a shower and then I put it i always have to have underwear also. If not my flatmates would see what I have under the robe xd\\r\\nEleanor: In the photo u can't see anything. Since last time I sent u a photo in it xd hahaha\\r\\nSawyer: Hahaha and what if you take the photo when you're alone. So that only you and me can see\\r\\nEleanor: But in the picture u can't see that it's transparent. U need to come here :)\\r\\nSawyer: Maybe take a better one ?\\r\\nEleanor: I can't\\r\\nSawyer: Haha and your new phone will take better pictures\\r\\nEleanor: The robe is a little bit transparent, :) so it's not possible that in the pic it will be visible\\r\\nSawyer: Ok no worries summary:\",\n",
       " \"Summarize : Sam: I'm so sorry. I can't make it on time.\\nSandra: Should we start without you?\\nSam: Please do. I'll be 30 min late.\\nStaś: Ok summary:\",\n",
       " \"Summarize : Sam: I just got my 1st credit card!\\r\\nTom: Well, congrats and sorry!\\r\\nSam: Y sry?\\r\\nTom: Aren't u afraid of getting into debts?\\r\\nSam: No, not really. Should I be?\\r\\nTom: I think u should. summary:\",\n",
       " \"Summarize : James: <file_video>\\r\\nJames: My girlfriend is so creative :D\\r\\nFred: Hahha. LOL\\r\\nJames: She  made me put the trash bin near the window outside\\r\\nJames: So that she doesn't have to go outside and walk around the house to take out garbage\\r\\nJames: She just opens the kitchen window and done\\r\\nFred: If it's stupid but it works...\\r\\nJames: It ain't stupid haha I know :D\\r\\nFred: Congratulate her from me :D\\r\\nJames: I will xD summary:\",\n",
       " 'Summarize : Christopher: ok, people, I’ve got an idea\\r\\nMatthew: hmm?\\r\\nChristopher: let’s go abroad for the weekend 😀 tickets are cheap enough and I don’t know about you, but I’m bored. massively bored.  \\r\\nAndrew: I’m out, guys… I just can’t leave Ann alone with the baby, sorry \\r\\nChristopher: Matthew, David? what about you?\\r\\nMatthew: I’m working this weekend 😕 \\r\\nDavid: well, if they can’t then I’m out as well \\r\\nChristopher: i hate you guys summary:',\n",
       " \"Summarize : Francine: hey hon\\r\\nFrancine: how are you today?\\r\\nFrancine: I hope our talk yesterday helped a bit\\r\\nJessie: hiya \\r\\nJessie: i'm still pretty overwhelmed \\r\\nJessie: but I was able to calm down a little after we spoke\\r\\nJessie: thank you for checking up on me <3\\r\\nJessie: a lot of people just don't know what to say, so they don't call...\\r\\nFrancine: I'm always here if you need me\\r\\nFrancine: that's what friends are for <3\\r\\nFrancine: seriously, whenever you need, just call me\\r\\nJessie: 😭😭😭\\r\\nJessie: thank you <3\\r\\nFrancine: anytime <3 summary:\",\n",
       " \"Summarize : Maria: Guys, don't bring anything, I've cooked so much\\r\\nAndrew: We will bring some wine we bought in Italy last year\\r\\nMartha: Especially for a night like this\\r\\nMaria: How nice of you!! thanks summary:\",\n",
       " 'Summarize : Hannah: The motherfucker took my spot again\\nPamela: Richard?\\nAnne: I saw him parking...  summary:',\n",
       " 'Summarize : Sophia: What should I get them?\\r\\nMonica: How should I know?\\r\\nSophia: come on help me out\\r\\nMonica: I dont know really Im bad at buying gifts\\r\\nSophia: maybe some day spa gift card\\r\\nMonica: maybe\\r\\nSophia: youre not really helpful :P\\r\\nMonica: Told ya... bad at gifts summary:',\n",
       " \"Summarize : Yannick: I heard you are going to sing the anthem\\r\\nYannick: At the game\\r\\nNicki: Yes I am \\r\\nNicki: I am nervous! \\r\\nYannick: Dont be\\r\\nYannick: It's a huge privilege to sing the anthem in front of thousands of people!\\r\\nNicki: I hoep I won't forget the lyrics\\r\\nNicki: hope* \\r\\nYannick: Youre a great singer\\r\\nYannick: You will be fine \\r\\nNicki: I have to rehearse \\r\\nYannick: Your parents coming with you?\\r\\nNicki: Yes\\r\\nYannick: They're probably proud of you good luck! \\r\\nNicki: Thank you Yannick summary:\",\n",
       " \"Summarize : Carter: <file_photo> Sure it's nearly Christmas, right Chloe!?!\\r\\nChloe: Yes so it's time I bought you new socks ha\\r\\nCarter: Socks serve the purpose of keeping your feet warm, why do they have to be the same 😉\\r\\nVictoria: I gave up for the second dive today. Felt like Christmas under there... and to cheer me up I bought myself a new shiny piece of gold equipment....so.....definitely Christmas! Love the unmatched socks 😍🤙🏼🤙🏼 summary:\",\n",
       " 'Summarize : Ammalee: <file_photo>\\nAmmalee: This lasted over a month.♪┏(・o･)┛♪┗ ( ･o･) ┓\\nAmmalee: Could you recommend other styles? (?_?)\\nMaryann: Ah! Hello Ma’am! Thank you for the good review! (＾▽＾)\\nMaryann: Is there any style you want to do next time?\\nAmmalee: Yes, I heard about Acrylic nails and Linen. Which one would be better? (´∀`)\\nMaryann: If you want the nails to last longer I recommend you Acrylic rather than Linen. ✌️\\nMaryann: If you have any design in your mind, send me pictures. ☺️☺️☺️\\nMaryann: Then I could try them on your nails next time!!(^^)!!(^^)!!(^^)!\\nAmmalee: Thanks, I will send you some pictures soon! summary:',\n",
       " \"Summarize : Alan: sweetie when wil you be home?\\r\\nJoan: I'm studying with Laura after classes Dad\\r\\nAlan: will you be home by 7?\\r\\nAlan:  I'm making my famous chicken wings :)\\r\\nJoan: dad my grades are important aren't they?\\r\\nAlan: more important than my wings?\\r\\nAlan: I'm hurt :D joking. study away! summary:\",\n",
       " \"Summarize : Johny: That girl on Tuesday music video is sexy as fuck\\r\\nLuke: <file_video>\\r\\nLuke: This Tuesday?\\r\\nJohny: The main chick is worth breaking the rule of no-nut november\\r\\nLuke: Johny please find yourself a chick.\\r\\nLuke: fall for her\\r\\nLuke: Love her with all your heart\\r\\nLuke: And stop talking like an asshole\\r\\nJohny: Man, it's just a joke\\r\\nJohny: I have respect towards women\\r\\nJohny: At least when they deserve it :D\\r\\nLuke: Everyone deserces some respect bruh\\r\\nJohny: I know man, I'm just kidding LOL\\r\\nLuke: I know man, I'm just messing\\r\\nJohny: You feel like clubbing tonight?\\r\\nJohny: You could be my wingman xD\\r\\nLuke: <file_gif>\\r\\nJohny: What's with this facepalm?\\r\\nLuke: Get yourself Tinder and start hunting\\r\\nJohny: Hahaha. xD\\r\\nJohny: I undestand you don't wanna go? \\r\\nLuke:  I've got plans for tonight\\r\\nLuke: So another time mate\\r\\nJohny: Chill. Another time summary:\",\n",
       " 'Summarize : Frank: Hi Peter has brought me to Sports Direct store at the top of \\r\\nRosie: Ok thanks will look out for you there\\r\\nFrank: We are on the ground floor\\r\\nRosie: ok\\r\\nFrank: Outside Morrisons\\r\\nRosie: On my way\\r\\nFrank: We might be upstairs later so look there too\\r\\nRosie: ok I will - see you soon xxx summary:',\n",
       " \"Summarize : Kyle: hey u got maths homework?\\r\\nPatrick: um.. not yet :D\\r\\nKyle: hahaha what do you mean not yet\\r\\nKyle: it's for tomorrow\\r\\nKyle: i just reminded you didn't i hahahah\\r\\nPatrick: XD\\r\\nKyle: well good luck then\\r\\nPatrick: tx xD guess i'm gonna need it XD summary:\",\n",
       " \"Summarize : Ellen: Hi, honey, sorry I've been so unreachable lately, the redecoration is a nightmare.\\r\\nKate: Don't worry, sweetie, what's wring with the redecoration?\\r\\nEllen: Well, nothing's wrong per se, it's just it's taking so much time, I barely sleep nowadays...\\r\\nKate: Isn't Paul helping you?\\r\\nEllen: He's trying the best he can, but you know how men can be, he doesn't know what goes with what and I wouldn't trust him with our kitchen floor tiles...\\r\\nKate: Oh, you're right. It's always women who take care of the aesthetics of it all... And they say we're only good in the kitchen. :D \\r\\nEllen: Well, the kitchen is going to be spectacular so that part is true enough, LOL xD\\r\\nKate: Can't wait to see it. When are you finishing?\\r\\nEllen: I hope it will be ready by Christmas, but the workers are permanently late.\\r\\nKate: Oh yes, one of their many 'qualities'... :D\\r\\nEllen: Not that I don't like a beer now and then, but for Christs sake, they leave beer cans EVERYWHERE. How are they working if they're always tipsy?!\\r\\nKate: Steady hand, they say, hahaha\\r\\nEllen: Steady hand my ass, if they damage anything, I'm gonna kill them.\\r\\nKate: LOL\\r\\nEllen: Yeah, so to answer your question, the redecoration could go better but I'm counting on it to finish as quickly as possible.\\r\\nKate: Keeping my fingers crossed, hun and I can't wait for the housewarming party.\\r\\nEllen: You'll be the first to know!  summary:\",\n",
       " 'Summarize : Paola: Guys, as I was saying I’d like to take you to the theatre. There’s a very good play this Friday and I can totally get you free tickets if you’re interested\\r\\nPaola: It’s about this Serbian family just after the war in Yugoslavia. It’s been a hist for a few years now and I’m happy to see they’re back on stage this season as well\\r\\nPaola: I’ve seen the play a few years ago and actually wrote a review of it, but would be happy to go with you and know what you think of it\\r\\nAustin: Oh wow that sounds great! Ofc I wanna go\\r\\nNicola: Me too! Hope it’s after 6 pm?\\r\\nPaola: @Nicola, yes, it’s at 8.15\\r\\nPaola: The theatre is called El Rincón de Sánchez <othre_file>\\r\\nPaola: We can meet there\\r\\nAustin: Sounds good. Nicola, would you like to go together? These long, lonely journeys on the bus are soooo boring\\r\\nNicola: Ha ha, sure, I bet we can have a nice chat, especially if we actually walk a little bit. I’d suggest meeting at the entrance to the Alto Palermo shopping mall and walking from there\\r\\nAustin: Can I ask if it’s safe? 🙊\\r\\nNicola: Yeah, I do think so\\r\\nAustin: Splendid, let’s meet at the entrance to the Alto Palermo at 7.30 then\\r\\nNicola: Cool, just to make sure, I mean this entrance: <file_other>\\r\\nAustin: 👍\\r\\nAustin: Oh wait, will you have eaten? Perhaps we can grab a pizza or something\\r\\nNicola: I’ll be coming straight from work so it sounds like the perfect plan\\r\\nNicola: What do we have nearby\\r\\nAustin: There’s actually this place which sells empanadas which are not that bad just where we’re meeting. Not a grand dinner but enough for me\\r\\nNicola: Yer, that would do. Let’s just meet at 7:15 in case there are many people in the line or you happen to prefer to eat the empanadas while standing rather than walking 😹\\r\\nAustin: Lol sounds perfect\\r\\nPaola: I’ll see you at the theatre then. There’s nowhere to wait outside, so I’ll be waiting for you in the hall if that’s ok\\r\\nAustin: Totally\\r\\nPaola: See you soon then\\r\\nNicola: Yep. Byeeee! summary:',\n",
       " \"Summarize : Harriet: Where are you?\\nVincent: In the cloister\\nCharlotte: we're studying here today\\nCharlotte: join us, we're waiting for Ben as well\\nHarriet: It's too cold for me there\\nBen: I agree\\nHarriet: I'll go to the library\\nBen: I'll join Harriet summary:\",\n",
       " 'Summarize : Hyatt: watch channel 6 now\\r\\nNickleby: whats on?\\r\\nHyatt: ah i see is that Stu?\\r\\nPalin: himself!\\r\\nNickleby: couldnt miss it :) summary:',\n",
       " \"Summarize : Leo: hey jess\\r\\nJessie: hey\\r\\nLeo: so what're u doing this weekend\\r\\nJessie: yea let me have a look at my tight schedule -_-\\r\\nLeo: yea who am i kidding. you're always free\\r\\nJessie: so what up\\r\\nLeo: we could maybe go out\\r\\nJessie: is it YOU who's asking\\r\\nLeo: what does that mean\\r\\nJessie: its always me coming up with the ideas\\r\\nLeo: yea right\\r\\nJessie: it is right\\r\\nLeo: so?\\r\\nJessie: so i am right\\r\\nLeo: i mean what do you think\\r\\nJessie: oh you mean for the weekend\\r\\nLeo: yea\\r\\nJessie: yea okay, cool\\r\\nLeo: btw.. you still have to come up with a place to hangout xD\\r\\nJessie: see.. ._. always\\r\\nLeo: it was my idea tho XD\\r\\nJessie: WOW -_- summary:\",\n",
       " \"Summarize : John: do you play tennis? :-)\\r\\nIrma: i don't, why do you ask?\\r\\nJohn: you look like someone who plays tennis\\r\\nIrma: HAHAHAHA i'm literally loling\\r\\nIrma: i don't know what someone who plays tennis looks like\\r\\nJohn: hahah sorry that was a dumb comment\\r\\nJohn: anyway, would to enroll in a class with me?\\r\\nJohn: they're dirt cheap at the community center\\r\\nIrma: sounds good, i can wear one of my tennis outfits!!\\r\\nIrma: HAHAHA, i'm still laughing at your comment  lol summary:\",\n",
       " \"Summarize : Jack: Where are you? I can't find you.\\r\\nOlivia: carriage 3!\\r\\nJack: I'm in 15 I believe :/ it's so crowded\\r\\nOlivia: But slowly you can get through.\\r\\nJack: I am not sure, there are people sitting, staying, puking everywhere. It's a mess\\r\\nOlivia: C'mon, it's a busy weekend\\r\\nJack: I already hate this trip.\\r\\nOlivia: Just don't make a drama, come here.\\r\\nJack: Do you have the tickets? I can't find mine.\\r\\nOlivia: I have both of them, so you have no choice anyway. You should come here asap :P summary:\",\n",
       " \"Summarize : Pete: Sup?\\r\\nLionel: I'm at a meeting, can't talk.\\r\\nPete: OK, sorry. summary:\",\n",
       " \"Summarize : Rob: need a car check, u know a good mechanic?\\r\\nWill: yeah, I have someone who fixed my fathers car\\r\\nRob: you mean that shit on wheels?\\r\\nWill: now it's like an arrow\\r\\nRob: than it's not a mechanic but a magician\\r\\nWill: well, kind of :D I'll give u a number\\r\\nRob: great\\r\\nWill: u can say that I send u\\r\\nRob: thanks buddy summary:\",\n",
       " \"Summarize : Andrew: wow, weekend! finally!\\r\\nAndrew: this week's been pretty hard\\r\\nNicky: yep, it was\\r\\nNicky: work work work\\r\\nAndrew: we're starting a new project next month\\r\\nAndrew: and we do everything at a last moment, as usual ;)\\r\\nRick: yeah, its always like that\\r\\nRick: they dont usually plan in advance\\r\\nNicky: they dont seem to learn their lessons;)\\r\\nAndrew: thats the point\\r\\nAndrew: anyways, I hope to have a good rest\\r\\nRick: yeah, me too!\\r\\nNicky: Im just gonna do nothing!\\r\\nNicky: :D\\r\\nRick: good idea!\\r\\nAndrew: Me too, I really need a break\\r\\nAndrew: sleep, in the first place\\r\\nAndrew: see kids\\r\\nRick: ok take care guys!\\r\\nNicky: talk to U later! summary:\",\n",
       " 'Summarize : Olivia: hey\\r\\nTaylor: whats up?\\r\\nOlivia: I need your help with something haha \\r\\nTaylor: yeah?\\r\\nOlivia: I wanna post a pic on instagram and I have the pic but idk what to caption it lol\\r\\nTaylor: yeah! what picture ?\\r\\nOlivia: the one I sent yesterday by the lake? \\r\\nTaylor: ahhhh yes I love that one its amazing \\r\\nOlivia: yeah I really like it but Idk what to say haah\\r\\nTaylor: maybe something like \" Summer Days\" with the sun emoji \\r\\nOlivia: but is that cheesy? or to basic ahaha\\r\\nTaylor: nahh I think its ok, or maybe just the emoji and say nothing haha\\r\\nOlivia: yeah I could do that hahah \\r\\nTaylor: either way its a nice picture so whatever you say it will be fine\\r\\nOlivia: trueeee thanks for the help :)))\\r\\nTaylor: anytime gurlll :DD  summary:',\n",
       " 'Summarize : John: Maybe some ride?\\r\\nIan: Always!!!\\r\\nIan: When and where?\\r\\nJohn: St.Monica, at 8.00, ok?\\r\\nIan: ok! summary:',\n",
       " 'Summarize : Ali: dude i need that hard drive\\r\\nKane: come take it\\r\\nAli: alright be there in a sec\\r\\nKane: sure.. summary:',\n",
       " \"Summarize : Joshua: look out the window\\r\\nNoah: what's there? XD\\r\\nJoshua: do it :P\\r\\nNoah: oh wow\\r\\nNoah: so much snow :D when did this happen lol\\r\\nJoshua: :D\\r\\nNoah: it's definitely time to build a snowman!\\r\\nJoshua: build an Olaf :d\\r\\nNoah: ofc i will, he's my idol!\\r\\nJoshua: XD summary:\",\n",
       " 'Summarize : Greg: why don’t you answer my calls?\\r\\nAva: cause I don’t want to talk to you anymore, so leave me the fuck alone\\r\\nGreg: but we haven’t talked things over yet\\r\\nAva: and we won’t, because there’s not a fucking thing to talk about\\r\\nGreg: Ava, please\\r\\nAva: I’m blocking you on fb. Goodbye Greg ❤ summary:',\n",
       " \"Summarize : Shelly: I'm looking for a fall coat, are there any good ones in today?\\r\\nPorter: We got some really nice wool ones in today. Come take a look!\\r\\nShelly: I will! Be there on my lunch!\\r\\nPorter: You better take an early lunch, they will go fast!\\r\\nShelly: Ooh! Okay! summary:\",\n",
       " 'Summarize : Connor: hello can you tell me what songs did they play at the gig in Berlin?\\nKyle: their official profile tweeted the set list a couple hours ago\\nConnor: ok cool thanks\\nKyle: cheers summary:',\n",
       " \"Summarize : Caleb: How are you guys?\\r\\nJeniffer: very good, thanks\\r\\nBrooke: yes, it's very exciting here\\r\\nCaleb: where are you exactly?\\r\\nJeniffer: Now in New York!\\r\\nCaleb: how cool!\\r\\nCaleb: what have you seen so far?\\r\\nJeniffer: We've been to Connecticut and Massachusetts \\r\\nJeniffer: But NYC is the best\\r\\nBrooke: you forgot about Rhode Island\\r\\nJeniffer: right, such an important state! :P\\r\\nBrooke: ;)\\r\\nCaleb: you see, I knew you would like it\\r\\nCaleb: what do you like the most?\\r\\nJeniffer: diversity!\\r\\nJeniffer: something we don't have in Europe to that extend\\r\\nJeniffer: you're walking down a street and you hear 15 different languages \\r\\nBrooke: and everything is exaggerated \\r\\nBrooke: too big, greater than needed, it's quite fascinating \\r\\nBrooke: food, buildings, cars, everything\\r\\nCaleb: I'm glad you enjoy it girls!\\r\\nBrooke: :* summary:\",\n",
       " \"Summarize : Max: I'm so sorry Lucas. I don't know what got into me.\\r\\nLucas: .......\\r\\nLucas: I don't know either.\\r\\nMason: that was really fucked up Max\\r\\nMax: I know. I'm so sorry :(.\\r\\nLucas: I don't know, man.\\r\\nMason: what were you thinking??\\r\\nMax: I wasn't.\\r\\nMason: yea\\r\\nMax: Can we please meet and talk this through? Please.\\r\\nLucas: Ok. I'll think about it and let you know.\\r\\nMax: Thanks... summary:\",\n",
       " \"Summarize : O'Neill: Is everything ok?\\nO'Neill: I didn't hear back from you\\nO'Neill: <file_gif>\\nTed: Hey\\nTed: I have been really busy today\\nTed: Sorry..\\nTed: Yes everything is fine ;)\\nTed: I'll send you a photo later on :)\\nO'Neill: Great!! 👏 summary:\",\n",
       " \"Summarize : Tom: How’s the weather in Poland now?\\r\\nJustin: It’s getting cooler. Ain't no sunshine and winter’s coming 😊\\r\\nTom: Have you seen the last episode of Game of Thrones?\\r\\nJustin: Not yet. Can’t wait to see it 😊 summary:\"]"
      ]
     },
     "execution_count": 28,
     "metadata": {},
     "output_type": "execute_result"
    }
   ],
   "source": [
    "samples_to_tune_on['X']"
   ]
  },
  {
   "cell_type": "code",
   "execution_count": 13,
   "id": "5119b002",
   "metadata": {},
   "outputs": [
    {
     "data": {
      "text/plain": [
       "'    I want you to act as a naming consultant for new companies.\\n     What is a good name for a company that makes {product}?\\n    '"
      ]
     },
     "execution_count": 13,
     "metadata": {},
     "output_type": "execute_result"
    }
   ],
   "source": [
    "import langchain\n",
    "import textwrap\n",
    "\n",
    "if 1:\n",
    "    template = \"\"\"\\\n",
    "    I want you to act as a naming consultant for new companies.\n",
    "     What is a good name for a company that makes {product}?\n",
    "    \"\"\"\n",
    "    \n",
    "template"
   ]
  },
  {
   "cell_type": "code",
   "execution_count": 34,
   "id": "3fcd407e",
   "metadata": {},
   "outputs": [
    {
     "name": "stdout",
     "output_type": "stream",
     "text": [
      "Answer the user query.\n",
      "The output should be formatted as a JSON instance that conforms to the JSON schema below.\n",
      "\n",
      "As an example, for the schema {\"properties\": {\"foo\": {\"title\": \"Foo\", \"description\": \"a list of strings\", \"type\": \"array\", \"items\": {\"type\": \"string\"}}}, \"required\": [\"foo\"]}}\n",
      "the object {\"foo\": [\"bar\", \"baz\"]} is a well-formatted instance of the schema. The object {\"properties\": {\"foo\": [\"bar\", \"baz\"]}} is not well-formatted.\n",
      "\n",
      "Here is the output schema:\n",
      "```\n",
      "{\"properties\": {\"setup\": {\"title\": \"Setup\", \"description\": \"question to set up a joke\", \"type\": \"string\"}, \"punchline\": {\"title\": \"Punchline\", \"description\": \"answer to resolve the joke\", \"type\": \"string\"}}, \"required\": [\"setup\", \"punchline\"]}\n",
      "```\n",
      "Tell me a joke.\n",
      "\n"
     ]
    }
   ],
   "source": [
    "from langchain import PromptTemplate\n",
    "from langchain.output_parsers import PydanticOutputParser\n",
    "from pydantic import BaseModel, Field, validator\n",
    "from typing import List\n",
    "# Define your desired data structure.\n",
    "class Joke(BaseModel):\n",
    "    setup: str = Field(description=\"question to set up a joke\")\n",
    "    punchline: str = Field(description=\"answer to resolve the joke\")\n",
    "    \n",
    "    # You can add custom validation logic easily with Pydantic.\n",
    "    @validator('setup')\n",
    "    def question_ends_with_question_mark(cls, field):\n",
    "        if field[-1] != '?':\n",
    "            raise ValueError(\"Badly formed question!\")\n",
    "        return field\n",
    "\n",
    "# And a query intented to prompt a language model to populate the data structure.\n",
    "joke_query = \"Tell me a joke.\"\n",
    "\n",
    "# Set up a parser + inject instructions into the prompt template.\n",
    "parser = PydanticOutputParser(pydantic_object=Joke)\n",
    "\n",
    "prompt = PromptTemplate(\n",
    "    template=\"Answer the user query.\\n{format_instructions}\\n{query}\\n\",\n",
    "    input_variables=[\"query\"],\n",
    "    partial_variables={\"format_instructions\": parser.get_format_instructions()}\n",
    ")\n",
    "\n",
    "_input = prompt.format_prompt(query=joke_query)\n",
    "print(_input.to_string())"
   ]
  },
  {
   "cell_type": "code",
   "execution_count": 21,
   "id": "d0e6a4f8",
   "metadata": {},
   "outputs": [
    {
     "data": {
      "text/plain": [
       "PromptTemplate(input_variables=['X'], output_parser=None, partial_variables={}, template='Summarize : {X} summary:', template_format='f-string', validate_template=True)"
      ]
     },
     "execution_count": 21,
     "metadata": {},
     "output_type": "execute_result"
    }
   ],
   "source": [
    "pt.format()"
   ]
  },
  {
   "cell_type": "code",
   "execution_count": 14,
   "id": "9ff315f4",
   "metadata": {},
   "outputs": [
    {
     "data": {
      "text/plain": [
       "'I want you to act as a naming consultant for new companies.\\n What is a good name for a company that makes {product}?'"
      ]
     },
     "execution_count": 14,
     "metadata": {},
     "output_type": "execute_result"
    }
   ],
   "source": [
    "textwrap.dedent(template).strip()"
   ]
  },
  {
   "cell_type": "code",
   "execution_count": 9,
   "id": "74a9072b",
   "metadata": {},
   "outputs": [
    {
     "name": "stdout",
     "output_type": "stream",
     "text": [
      "im here\n"
     ]
    }
   ],
   "source": [
    "try:\n",
    "    a = 2 / 0\n",
    "except:\n",
    "    print(\"im here\")\n"
   ]
  },
  {
   "cell_type": "code",
   "execution_count": 3,
   "id": "062a9637",
   "metadata": {},
   "outputs": [
    {
     "name": "stdout",
     "output_type": "stream",
     "text": [
      "Device - mps\n"
     ]
    }
   ],
   "source": [
    "device = \"cpu\"\n",
    "\n",
    "if torch.backends.mps.is_built() and torch.backends.mps.is_available():\n",
    "    device = \"mps\"\n",
    "\n",
    "print(f\"Device - {device}\")"
   ]
  },
  {
   "cell_type": "code",
   "execution_count": null,
   "id": "d5b6d8dc",
   "metadata": {},
   "outputs": [],
   "source": []
  },
  {
   "cell_type": "code",
   "execution_count": null,
   "id": "8260a72f",
   "metadata": {},
   "outputs": [],
   "source": [
    "# Load dataset that you want to tune your model on\n",
    "\n",
    "\n",
    "dataset = datasets.load_dataset(\"c-s-ale/dolly-15k-instruction-alpaca-format\")\n",
    "rouge_metric = evaluate.load(\"rouge\")"
   ]
  },
  {
   "cell_type": "code",
   "execution_count": null,
   "id": "4c7290ec",
   "metadata": {},
   "outputs": [],
   "source": [
    "task_types = [\"open_\"]\n",
    "\n",
    "samples = []\n",
    "\n",
    "for sample in dataset[\"train\"]:\n",
    "    if sample[\"category\"] in task_types:\n",
    "        samples.append(sample)\n",
    "\n",
    "samples_to_tune_on = datasets.Dataset.from_list(samples)[:100]"
   ]
  },
  {
   "cell_type": "code",
   "execution_count": null,
   "id": "44df7645",
   "metadata": {},
   "outputs": [],
   "source": [
    "samples_to_tune_on.keys()"
   ]
  },
  {
   "cell_type": "code",
   "execution_count": null,
   "id": "71e8fd71",
   "metadata": {},
   "outputs": [],
   "source": [
    "samples_to_tune_on[\"input\"]"
   ]
  },
  {
   "cell_type": "code",
   "execution_count": null,
   "id": "5b06a07e",
   "metadata": {},
   "outputs": [],
   "source": [
    "# Define your model\n",
    "\n",
    "model_id = \"google/flan-t5-small\"\n",
    "\n",
    "tokenizer = AutoTokenizer.from_pretrained(model_id)\n",
    "\n",
    "model = AutoModelForSeq2SeqLM.from_pretrained(model_id).to(device)"
   ]
  },
  {
   "cell_type": "code",
   "execution_count": null,
   "id": "918268a4",
   "metadata": {},
   "outputs": [],
   "source": [
    "type(model)"
   ]
  },
  {
   "cell_type": "code",
   "execution_count": 11,
   "id": "e9f7a10e",
   "metadata": {},
   "outputs": [
    {
     "data": {
      "text/plain": [
       "0.96"
      ]
     },
     "execution_count": 11,
     "metadata": {},
     "output_type": "execute_result"
    }
   ],
   "source": [
    "# Define your metric that you want to minimize or maximize on - should take in y_true & y_pred and return a dict of metrics\n",
    "\n",
    "\n",
    "def my_metric(y_true: List, y_pred: List):\n",
    "    def postprocess_text(preds: List, labels: List):\n",
    "        \"\"\"Postprocess text(preds & labels) to rouge format for evaluation\"\"\"\n",
    "        preds = [pred.strip() for pred in preds]\n",
    "        labels = [label.strip() for label in labels]\n",
    "\n",
    "        # rougeLSum expects newline after each sentence\n",
    "        preds = [\"\\n\".join(nltk.sent_tokenize(pred)) for pred in preds]\n",
    "        labels = [\"\\n\".join(nltk.sent_tokenize(label)) for label in labels]\n",
    "        return preds, labels\n",
    "\n",
    "    \"\"\"Get rouge score from y_true & y_pred\"\"\"\n",
    "    preds, gts = postprocess_text(preds=y_pred, labels=y_true)\n",
    "\n",
    "    result = rouge_metric.compute(predictions=preds, references=gts, use_stemmer=True)\n",
    "\n",
    "    # TODO : fix metric\n",
    "    return result[\"rouge2\"]\n",
    "\n",
    "\n",
    "# Example run on some random samples\n",
    "my_metric(y_true=samples_to_tune_on[\"output\"], y_pred=samples_to_tune_on[\"output\"])"
   ]
  },
  {
   "cell_type": "code",
   "execution_count": 7,
   "id": "09d4023c",
   "metadata": {},
   "outputs": [
    {
     "data": {
      "text/plain": [
       "{'instruction': ['Why can camels survive for long without water?',\n",
       "  \"Alice's parents have three daughters: Amy, Jessy, and what’s the name of the third daughter?\",\n",
       "  'Who gave the UN the land in NY to build their HQ',\n",
       "  'What is a polygon?',\n",
       "  'Which episodes of season four of Game of Thrones did Michelle MacLaren direct?',\n",
       "  'What individual has won the most Olympic gold medals in the history of the games?',\n",
       "  'Which Dutch artist painted “Girl with a Pearl Earring”?',\n",
       "  'What happens when the sun goes down?',\n",
       "  'What is a verb?',\n",
       "  'Who became king of Holland in 1806?',\n",
       "  'Who played Billy the Kid in The Left Handed Gun',\n",
       "  'why did Syd Barrett left the Pink Floyd?',\n",
       "  'What is underwriting?',\n",
       "  'Who saved Andromeda from the sea monster',\n",
       "  'Who are \\'\\'The Lumières\" ?',\n",
       "  'When was the wheel invented?',\n",
       "  'Are lilies safe for cats?',\n",
       "  'What is Sunshine Recession?',\n",
       "  'What is the currency in use in the Netherlands?',\n",
       "  'In the series A Song of Ice and Fire, who is the founder of House Karstark?',\n",
       "  'What film won the 1943 Oscar as best film',\n",
       "  'which weighs more, cold or hot water?',\n",
       "  'What makes a formula one car so fast?',\n",
       "  'What is LAPR?',\n",
       "  'Name some of the bravolebrities from Vanderpump Rules',\n",
       "  'Name some famous rock bands from the 1960s',\n",
       "  'Who invented the telephone?',\n",
       "  'How many Grammy Awards has Bad Bunny won?',\n",
       "  'What is a kite?',\n",
       "  'What is investment banking?',\n",
       "  \"What are some of the best comedy movies of the 1980's?\",\n",
       "  'In golf what do the Americans call an albatross',\n",
       "  'What is the Research Collaboratory for Structural Bioinformatics Protein Data Bank (RCSB PDB)?',\n",
       "  'What is the name of the Winslow\\'s nerdy next-door neighbor on the TV show \"Family Matters\"?',\n",
       "  'Why are so many US Hollywood films made in the state of Georgia?',\n",
       "  'What are some tools that every homeowner should have?',\n",
       "  'What is an apple?',\n",
       "  'What is the difference between pets and cattle?',\n",
       "  'How do I put a bouquet of fresh flowers in a vase?',\n",
       "  'Wat id DNA annotation?',\n",
       "  \"Who were Jaehaerys I Targaryen's children?\",\n",
       "  'What is Share capital in finance?',\n",
       "  'How much of American wine is produced in California?',\n",
       "  'Name the three best professional sports teams based in California.',\n",
       "  'Tomb of Sand  was translated from Hindi to English by',\n",
       "  'How many compute services does Azure Synapse have?',\n",
       "  'What happens when you bring flammable objects closer to a fire source or extreme heat?',\n",
       "  'What are the differences between the New York Giants and New York Jets?',\n",
       "  'The former Chairman of Tata Sons died in road accident  en route  from where?',\n",
       "  'What is one year?',\n",
       "  'Who are some of the most successful golfers in history?',\n",
       "  'Which types of fish contain the lowest levels of mercury?',\n",
       "  'How do you make an iced matcha latter?',\n",
       "  'Which is the best place to Kayak in Austin?',\n",
       "  'Whats the difference between a bass guitar and a regular guitar?',\n",
       "  'What is a Gross domestic product (GDP)?',\n",
       "  \"Let's imagine I create a fake currency called Yarns with two types of coins: a super-yarn (worth 10 yarns) and a mini-yarn (worth 0.5 yarn). How much money do I have in total if I have 2 super-yarns and three mini-yarns?\",\n",
       "  'What is a Mormon?',\n",
       "  'What is the difference between a red delicious and a Granny Smith apple?',\n",
       "  'Who do you think is the most powerful Mandalorian in Star Wars history?',\n",
       "  'Which classical composer was deaf?',\n",
       "  'Who discovered the double-helix DNA structure?',\n",
       "  'What is Bollywood',\n",
       "  'What are Nanotube?',\n",
       "  'What is a secured loan?',\n",
       "  'Should I have Kids?',\n",
       "  'Who was the first American to win a Nobel Peace?',\n",
       "  'What is the FA Cup?',\n",
       "  'What are the 4 oceans on earth',\n",
       "  'Did Harry Potter put his own name in the goblet of fire?',\n",
       "  \"What was Angie Thomas's first published novel?\",\n",
       "  'What is the difference between a shrub and a tree?',\n",
       "  \"Which players won the men's singles grand slam tennis tournaments in 2022.\",\n",
       "  'What are the three branches of the US Federal Government?',\n",
       "  \"What's the difference between tennis and pickleball?\",\n",
       "  'Who is the best NBA player of all time?',\n",
       "  'Which coin of U.S currency has the most ridges.',\n",
       "  'Who was the first woman to have four country albums reach No. 1 on the Billboard 200?',\n",
       "  'What is Game of Thrones based on?',\n",
       "  'What are all of the professional baseball teams in the state of Florida?',\n",
       "  'Do cats have nine lives?',\n",
       "  'How do you make soap?',\n",
       "  'Cases of Anthrax were found in Kerala in which animals?',\n",
       "  'Do George Lucas and Steven Spielberg know each other?',\n",
       "  'What type of weather is San Francisco famous for?',\n",
       "  'What are some movies that star Will Ferrell?',\n",
       "  'What is the plot of Harry Potter?',\n",
       "  'How did Alfred Nobel make his money',\n",
       "  'What is the Trans Tahoe Relay?',\n",
       "  \"How many musicians performed in the world's largest rock band?\",\n",
       "  'Name all the books in the Harry Potter collection',\n",
       "  'What do you know about the city of Aberdeen in Scotland?',\n",
       "  'What is the English Premier League?',\n",
       "  'What is predictive maintenance?',\n",
       "  'What is Terraform?',\n",
       "  'What are the two longest rivers located in the United States?',\n",
       "  'What are the words of House Reed?',\n",
       "  'What city in the United States is known for its Mardi Gras celebrations?',\n",
       "  'What is cryptocurrency?',\n",
       "  'What was the Counter Reformation?'],\n",
       " 'category': ['open_qa',\n",
       "  'open_qa',\n",
       "  'open_qa',\n",
       "  'open_qa',\n",
       "  'open_qa',\n",
       "  'open_qa',\n",
       "  'open_qa',\n",
       "  'open_qa',\n",
       "  'open_qa',\n",
       "  'open_qa',\n",
       "  'open_qa',\n",
       "  'open_qa',\n",
       "  'open_qa',\n",
       "  'open_qa',\n",
       "  'open_qa',\n",
       "  'open_qa',\n",
       "  'open_qa',\n",
       "  'open_qa',\n",
       "  'open_qa',\n",
       "  'open_qa',\n",
       "  'open_qa',\n",
       "  'open_qa',\n",
       "  'open_qa',\n",
       "  'open_qa',\n",
       "  'open_qa',\n",
       "  'open_qa',\n",
       "  'open_qa',\n",
       "  'open_qa',\n",
       "  'open_qa',\n",
       "  'open_qa',\n",
       "  'open_qa',\n",
       "  'open_qa',\n",
       "  'open_qa',\n",
       "  'open_qa',\n",
       "  'open_qa',\n",
       "  'open_qa',\n",
       "  'open_qa',\n",
       "  'open_qa',\n",
       "  'open_qa',\n",
       "  'open_qa',\n",
       "  'open_qa',\n",
       "  'open_qa',\n",
       "  'open_qa',\n",
       "  'open_qa',\n",
       "  'open_qa',\n",
       "  'open_qa',\n",
       "  'open_qa',\n",
       "  'open_qa',\n",
       "  'open_qa',\n",
       "  'open_qa',\n",
       "  'open_qa',\n",
       "  'open_qa',\n",
       "  'open_qa',\n",
       "  'open_qa',\n",
       "  'open_qa',\n",
       "  'open_qa',\n",
       "  'open_qa',\n",
       "  'open_qa',\n",
       "  'open_qa',\n",
       "  'open_qa',\n",
       "  'open_qa',\n",
       "  'open_qa',\n",
       "  'open_qa',\n",
       "  'open_qa',\n",
       "  'open_qa',\n",
       "  'open_qa',\n",
       "  'open_qa',\n",
       "  'open_qa',\n",
       "  'open_qa',\n",
       "  'open_qa',\n",
       "  'open_qa',\n",
       "  'open_qa',\n",
       "  'open_qa',\n",
       "  'open_qa',\n",
       "  'open_qa',\n",
       "  'open_qa',\n",
       "  'open_qa',\n",
       "  'open_qa',\n",
       "  'open_qa',\n",
       "  'open_qa',\n",
       "  'open_qa',\n",
       "  'open_qa',\n",
       "  'open_qa',\n",
       "  'open_qa',\n",
       "  'open_qa',\n",
       "  'open_qa',\n",
       "  'open_qa',\n",
       "  'open_qa',\n",
       "  'open_qa',\n",
       "  'open_qa',\n",
       "  'open_qa',\n",
       "  'open_qa',\n",
       "  'open_qa',\n",
       "  'open_qa',\n",
       "  'open_qa',\n",
       "  'open_qa',\n",
       "  'open_qa',\n",
       "  'open_qa',\n",
       "  'open_qa',\n",
       "  'open_qa'],\n",
       " 'input': ['',\n",
       "  '',\n",
       "  '',\n",
       "  '',\n",
       "  '',\n",
       "  '',\n",
       "  '',\n",
       "  '',\n",
       "  '',\n",
       "  '',\n",
       "  '',\n",
       "  '',\n",
       "  '',\n",
       "  '',\n",
       "  '',\n",
       "  '',\n",
       "  '',\n",
       "  '',\n",
       "  '',\n",
       "  '',\n",
       "  '',\n",
       "  '',\n",
       "  '',\n",
       "  '',\n",
       "  '',\n",
       "  '',\n",
       "  '',\n",
       "  '',\n",
       "  '',\n",
       "  '',\n",
       "  '',\n",
       "  '',\n",
       "  '',\n",
       "  '',\n",
       "  '',\n",
       "  '',\n",
       "  '',\n",
       "  '',\n",
       "  '',\n",
       "  '',\n",
       "  '',\n",
       "  '',\n",
       "  '',\n",
       "  '',\n",
       "  '',\n",
       "  '',\n",
       "  '',\n",
       "  '',\n",
       "  '',\n",
       "  '',\n",
       "  '',\n",
       "  '',\n",
       "  '',\n",
       "  '',\n",
       "  '',\n",
       "  '',\n",
       "  '',\n",
       "  '',\n",
       "  '',\n",
       "  '',\n",
       "  '',\n",
       "  '',\n",
       "  '',\n",
       "  '',\n",
       "  '',\n",
       "  '',\n",
       "  '',\n",
       "  '',\n",
       "  '',\n",
       "  '',\n",
       "  '',\n",
       "  '',\n",
       "  '',\n",
       "  '',\n",
       "  '',\n",
       "  '',\n",
       "  '',\n",
       "  '',\n",
       "  '',\n",
       "  '',\n",
       "  '',\n",
       "  '',\n",
       "  '',\n",
       "  '',\n",
       "  '',\n",
       "  '',\n",
       "  '',\n",
       "  '',\n",
       "  '',\n",
       "  '',\n",
       "  '',\n",
       "  '',\n",
       "  '',\n",
       "  '',\n",
       "  '',\n",
       "  '',\n",
       "  '',\n",
       "  '',\n",
       "  '',\n",
       "  ''],\n",
       " 'output': ['Camels use the fat in their humps to keep them filled with energy and hydration for long periods of time.',\n",
       "  'The name of the third daughter is Alice',\n",
       "  'John D Rockerfeller',\n",
       "  'A polygon is a form in Geometry.  It is a single dimensional plane made of connecting lines and any number of vertices.  It is a closed chain of connected line segments or edges.  The vertices of the polygon are formed where two edges meet.  Examples of polygons are hexagons, pentagons, and octagons.  Any plane that does not contain edges or vertices is not a polygon.  An example of a non-polygon is a circle.',\n",
       "  'She directed \"Oathkeeper\" and \"First of His Name\" the fourth and fifth episodes of season four, respectively.',\n",
       "  'Michael Phelps has won the most gold medals of all time with 23 golds.',\n",
       "  'Vermeer',\n",
       "  'When the sun sets, the evening starts.',\n",
       "  'A verb is an action word that describes an activity.  Examples of verbs are the following: swimming, hiking, biking, roller skating, or skydiving.  All of these single and combination word examples are tied to an activity that any living thing can do.  For example, a dog can bike ride with a human when the human is pedaling the bike.  Verb use is not limited to humans or people only but applies to all living things.',\n",
       "  'William I of the Netherlands became king of Holland in 1806.',\n",
       "  'Paul Newman',\n",
       "  'Syd Barrett was one of the main members of the Pink Floyd. He has used drugs a lot and after a while he was not able to perform with the team. Even though the band gave him multiple chances, he could not keep up with the band. In the end, they had to ask him to leave the band. The main reason that he has left the team is his health problems and addiction to drugs.',\n",
       "  'Underwriting (UW) services are provided by some large financial institutions, such as banks, insurance companies and investment houses, whereby they guarantee payment in case of damage or financial loss and accept the financial risk for liability arising from such guarantee. An underwriting arrangement may be created in a number of situations including insurance, issues of security in a public offering, and bank lending, among others. The person or institution that agrees to sell a minimum number of securities of the company for commission is called the underwriter.\\n\\nThe term \"underwriting\" derives from the Lloyd\\'s of London insurance market. Financial backers (or risk takers), who would accept some of the risk on a given venture (historically a sea voyage with associated risks of shipwreck) in exchange for a premium, would literally write their names under the risk information that was written on a Lloyd\\'s slip created for this purpose.',\n",
       "  'Perseus',\n",
       "  'The Lumières (literally in English: The Lights) was a cultural, philosophical, literary and intellectual movement beginning in the second half of the 17th century, originating in western Europe and spreading throughout the rest of Europe. It included philosophers such as Baruch Spinoza, David Hume, John Locke, Edward Gibbon, Voltaire, Jean-Jacques Rousseau, Denis Diderot, Pierre Bayle and Isaac Newton. This movement is influenced by the scientific revolution in southern Europe arising directly from the Italian renaissance with people like Galileo Galilei. Over time it came to mean the Siècle des Lumières, in English the Age of Enlightenment.[Note 1]\\n\\nMembers of the movement saw themselves as a progressive élite, and battled against religious and political persecution, fighting against what they saw as the irrationality, arbitrariness, obscurantism and superstition of the previous centuries. They redefined the study of knowledge to fit the ethics and aesthetics of their time. Their works had great influence at the end of the 18th century, in the American Declaration of Independence and the French Revolution.\\n\\nThis intellectual and cultural renewal by the Lumières movement was, in its strictest sense, limited to Europe. These ideas were well understood in Europe, but beyond France the idea of \"enlightenment\" had generally meant a light from outside, whereas in France it meant a light coming from within oneself.\\n\\nIn the most general terms, in science and philosophy, the Enlightenment aimed for the triumph of reason over faith and belief; in politics and economics, the triumph of the bourgeois over nobility and clergy.',\n",
       "  'No one knows when the wheel was first made. Archaeological evidence seems to show that the wheel was first used to make pottery in Mesopotamia about 7,000 years ago, during the Neolithic period. Later, it was used to make chariots. Chariot wheels have been found in Sumer as early as 3000 BC. The wheel is one of the most important inventions in human history. It was very useful for making pottery and getting around on land. It is also a key part of machines.',\n",
       "  'No, lilies are toxic to cats if consumed and should not be kept in a household with cats',\n",
       "  \"It is known as the deepest period in which sunspots are not virtually visible. Deepest period is related to sun cycle's process called solar minimum\",\n",
       "  'The currency in use in the Netherlands is the euro.',\n",
       "  'Karlon Stark',\n",
       "  'Casablanca',\n",
       "  'Cold water weighs more than hot water',\n",
       "  'Formula One cars are one of the fastest racing cars in the world reaching speeds as high as 240 mph.\\n\\nThere are many aspects that make formula one cars fast, below are the top few\\n\\n1. Engine:  F1 cars have extremely powerful engines that can generate around 1000 bhp at up to 20,000 rpm\\n2. Power-to-Weight ratio: F1 cars are also extremely light at around 800 kgs giving them a power-to-weight ratio of 12000-1400 hp/ton. For comparison, the best Porsche cars have a power-to-weight ratio of only 300-400 hp/ton.\\n2. Aerodynamics: F1 cars are fitted with extremely sophisticated aerodynamics including a rear wing, front wing and body parts that help reduce aerodynamic drag for straight-line speeds while adding downforce to help around corners\\n3. Tires: F1 tires are extremely large and sticky. This help the cars stick to the road as the car goes through turns very fast.\\n4. Brakes: Lastly F1 brakes are very powerful and can slow down a car extremely quickly. This allows F1 cars to be at top speed for much longer before needing to slow down for taking a turn.',\n",
       "  'This stands for life assurance premium relief. Before 14 March 1984 there was tax relief on life insurance premiums paid by policyholders for policies which qualified for tax relief. Policies which started',\n",
       "  'James Kennedy, Katie Maloney, Raquel Leviss, Tom Sandoval, Ariana Madix, Tom Schwartz and Lala Kent',\n",
       "  'The 1960s had a number of famous rock bands including The Beatles, The Beach Boys, The Doors, The Rolling Stones, The Who, Led Zeppelin, The Grateful Dead, Pink Floyd, and many more.',\n",
       "  \"In 1876, Alexander Graham Bell was the first to obtain a United States patent for a device that produced a clearly intelligible replica of the human voice on a second device.\\nA resolution passed by the United States House of Representatives on June 11, 2002 called for recognition of Antonio Meucci's work and contributions towards the invention of the telephone.\",\n",
       "  'Bad Bunny has won 2 Grammy Awards and has been nominated for 6',\n",
       "  'A kite is a toy that can be be purchased in a store or a specialty shop.  It is a craft that is lighter an air that is tied to a string that you can fly on wind currents.  The kite has wings that react against the air to create lift enabling it to fly.  You can fly a kite at a park or an open area, and you will want to make sure there are no power lines nearby to be safe when flying the kite.',\n",
       "  \"Investment banking pertains to certain activities of a financial services company or a corporate division that consist in advisory-based financial transactions on behalf of individuals, corporations, and governments. Traditionally associated with corporate finance, such a bank might assist in raising financial capital by underwriting or acting as the client's agent in the issuance of debt or equity securities. An investment bank may also assist companies involved in mergers and acquisitions (M&A) and provide ancillary services such as market making, trading of derivatives and equity securities, FICC services (fixed income instruments, currencies, and commodities) or research (macroeconomic, credit or equity research). Most investment banks maintain prime brokerage and asset management departments in conjunction with their investment research businesses. As an industry, it is broken up into the Bulge Bracket (upper tier), Middle Market (mid-level businesses), and boutique market (specialized businesses).\\n\\nUnlike commercial banks and retail banks, investment banks do not take deposits.\",\n",
       "  \"Some of the best movies released in the 1980's are The Breakfast Club, The Goonies, Sixteen Candles, Ghostbusters and Back to the Future.\",\n",
       "  'Double Eagle',\n",
       "  'The Research Collaboratory for Structural Bioinformatics Protein Data Bank (RCSB PDB) is a database that provides a wealth of information about the 3D structures of proteins, nucleic acids, and other macromolecules. The database contains experimentally determined atomic coordinates for a large number of macromolecules, which can be used to study their structures, functions, and interactions. The RCSB PDB is widely used in genomics research and drug discovery, as it provides a valuable resource for understanding the structural basis of many biological processes and for designing new drugs that target specific macromolecules.\\n\\nIn addition to the atomic coordinates, the RCSB PDB contains a wealth of additional information about each macromolecule, including experimental methods used for structure determination, citations to relevant scientific literature, and information about biological function, sequence, and homology. The database also provides a variety of tools and resources for visualizing, analyzing, and downloading structural data, including a web-based viewer that allows users to interactively explore the 3D structures of macromolecules.',\n",
       "  'Steve Urkel',\n",
       "  \"While film in the United States as an audience artform started in New York it moved to Los Angeles for the stated reason of longer and sunnier days.  Another part of the story was a patent dispute in 1898 between Thomas Edison and his patent for the Kinetograph.  Edison stated that he effectively had a say in how films were made and wanted royalties for their use.  Moving from New York near where Edison was based to Los Angeles was a simple way to grow the industry and distance themselves from a patent war.  \\n\\nThis mobility at the start of the modern film era due to costs continued through the 1960's and 1970's with westerns being shot in Spain.  The 1980's and 1990's continued this trend primarily shooting in Canada or Mexico.  At the turn of the century state legislators in the United States started provided steep tax rebates.  The practical outworking of this is studios are encouraged to hire local talent and use local services when producing their film.  The ratios for these rebates is fairly complicated and have created a new industry of tax professionals serving the film industry.\\n\\nSo then why Georgia?  Georgia currently provides one of the highest incentive structures at 20% with minimal restrictions on talent and a very low minimum budget of $500,000.\",\n",
       "  \"There is a tool designed for almost every challenge a homeowner will face, but purchasing every tool could prove to be cost prohibitive, especially if they are highly specialized for tasks that may occur infrequently.  It's best to have a general set of tools that have a wide variety of uses, including a hammer, a set of screwdrivers both flat and philips, a tape measure, a level, a stud finder, and a utility knife. A battery powered drill and impact driver can also save time, and make mounting projects easier.\",\n",
       "  'An apple is an edible fruit produced by an apple tree. Apple trees are cultivated worldwide and are the most widely grown species in the genus Malus.',\n",
       "  'Although both are animals at the end of the day, however, the main difference comes partially in the form of perception and, historically, the relationship of humans with certain animals. Pets, e.g. dogs, cats, etc., are used more for companionship and not for food. On the contrary, cattle, e.g. cows, pigs, chickens, etc., are primarily raised for food, i.e. meat, milk, eggs, etc.',\n",
       "  \"In order to put fresh flowers in a vase, follow these steps:\\n\\n1. Find a vase that it is the right size for the flowers. You can use water glasses here in a pinch. \\n2. Fill the vase to about two-thirds full with water. You can add a dash of bleach in the water as well, but it is not necessary. \\n3. Now, trim your flowers to the size of the vase. Cut the end of each flower in a diagonal cut. \\n4. Remove the leaves from the flowers. This will help to grow the flower without putting resources towards the leaves. Be sure to remove any leaves under the water line, since they can cause infections. \\n5. Arrange the flowers in the vase. You can adjust the positions until you are happy with the arrangement.\\n6. Place your vase in a shady spot and you're done!\",\n",
       "  'DNA annotation or genome annotation is the process of identifying the locations of genes and all of the coding regions in a genome and determining what those genes do. An annotation (irrespective of the context) is a note added by way of explanation or commentary. Once a genome is sequenced, it needs to be annotated to make sense of it. Genes in a eukaryotic genome can be annotated using various annotation tools such as FINDER. A modern annotation pipeline can support a user-friendly web interface and software containerization such as MOSGA. Modern annotation pipelines for prokaryotic genomes are Bakta, Prokka and PGAP.\\n\\nFor DNA annotation, a previously unknown sequence representation of genetic material is enriched with information relating genomic position to intron-exon boundaries, regulatory sequences, repeats, gene names and protein products. This annotation is stored in genomic databases such as Mouse Genome Informatics, FlyBase, and WormBase. Educational materials on some aspects of biological annotation from the 2006 Gene Ontology annotation camp and similar events are available at the Gene Ontology website.\\n\\nThe National Center for Biomedical Ontology develops tools for automated annotation of database records based on the textual descriptions of those records.\\n\\nAs a general method, dcGO has an automated procedure for statistically inferring associations between ontology terms and protein domains or combinations of domains from the existing gene/protein-level annotations.',\n",
       "  'Prince Aegon, Princess Daenerys, Prince Aemon, Prince Baelon, Princess Alyssa, Septa Maegelle, Archmaester Vaegon, Princess Daella, Princess Saera, Princess Viserra, Prince Gaemon, Prince Valerion, Princess Gael',\n",
       "  'Share capital is the money invested directly in a company by its members (shareholders).',\n",
       "  'California is responsibly for roughly 90% of American wine production',\n",
       "  'The best professional sports teams based in California are the Los Angeles Dodgers, the Golden State Warriors, and the San Francisco 49ers.',\n",
       "  'Daisy Rockwell',\n",
       "  'Azure Synapse provides five different compute services:\\n1. Dedicated SQL Pools (previously known as \"Synapse Data Warehouse\"), \\n2. Serverless SQL Pools (i.e. a query service over the data lake), \\n3. Data Explorer Pools (for real-time & time series processing),\\n4. Spark Pools (Microsoft\\'s version of Spark), and\\n5. Pipelines (a variant of ADF)',\n",
       "  'Flammable objects can become inflamed when placed on or near a fire source or extreme heat.  Its recommended to keep flammable objects far away from heat sources.',\n",
       "  'The New York Giants and New York Jets are both professional football teams in the NFL who play in the New York Metropolitan area. Both teams play in MetLife stadium which used to be called Giants stadium in East Rutherford, NJ. Their fan bases live in New Jersey and New York primarily. The Jets primary color is Green, while the Giants are blue.',\n",
       "  'Ahmedabad to Mumbai',\n",
       "  'One Earth Year is the time it takes for one revolution of the Earth around the sun.',\n",
       "  'Sam Snead, Tiger Woods, and Jack Nicklaus are the most successful golfers of all time with the top three most major championship wins.',\n",
       "  'The following types of fish contain low levels of mercury: salmon, flounder, Atlantic mackerel, anchovies, pollock, catfish, and shellfish (e.g., clams, scallops, mussels).',\n",
       "  'You will need 1-2 teaspoons of matcha powder, milk of your choice, 1 cup of hot water, and ice. In a cup or bowl, you will add your match powder and pour your hot water into it and use a whisk until the matcha powder is well incorporated, which should create a paste like consistency. Then you will take a glass and pour in your ice and milk and your matcha paste on top and stir.',\n",
       "  'Lady Bird Lake in Austin downtown is revered to be the best place to go Kayaking. Paddlers can choose to head west from the Rowing Dock to take in nature views. But a small paddle down the river to the east will greet paddlers to magnificent downtown skyline views.',\n",
       "  'There are a few significant differences between a bass guitar and a regular guitar.  A bass guitar typically has 4 strings (though it can have more), is larger in body & neck, and has higher string gauges (string thickness).  A bass guitar is used for keeping the band on track by keeping the rhythm and hitting the root notes of the chords.  \\n\\nA regular guitar typically has 6 strings, and can be used for a wider variety of purposes.  These include keeping the rhythm with chords, playing foundational riffs, or improvisational solos for instrumental layering.  The regular guitarists are almost always the more well-known of the two.',\n",
       "  'Gross domestic product (GDP) is a monetary measure of the market value of all the final goods and services produced and sold in a specific time period by a country or countries, generally \"without double counting the intermediate goods and services used up to produce them\". GDP is most often used by the government of a single country to measure its economic health. Due to its complex and subjective nature, this measure is often revised before being considered a reliable indicator. GDP (nominal) per capita does not, however, reflect differences in the cost of living and the inflation rates of the countries; therefore, using a basis of GDP per capita at purchasing power parity (PPP) may be more useful when comparing living standards between nations, while nominal GDP is more useful comparing national economies on the international market. Total GDP can also be broken down into the contribution of each industry or sector of the economy. The ratio of GDP to the total population of the region is the per capita GDP (also called the Mean Standard of Living).',\n",
       "  'Given that a super-yarn is worth 10 yarns and a mini-yarn is worth 0.5 yarn, if you have 2 super-yarns and 3 mini-yarns you have 21.5 yarns in total.',\n",
       "  'A Mormon typically refers to a member of the Church of Jesus Christ of Latter-day Saints. The word Mormon comes from a prophet in the Book of Mormon who lived in the Americas around 300 A.D. The Book of Mormon is part of the canon of scripture that members of the Church of Jesus Christ of Latter-day Saints use, in conjunction with the Bible and the Doctrine and Covenants. It is often viewed as a distinguishing difference between the Church of Jesus Christ of Latter-day Saints and other Christian denominations. Historically, this is why members of the Church of Jesus Christ of Latter-day Saints have been called Mormons.',\n",
       "  'A red delicious apple is red and sweet whereas a Granny Smith apple is green and tart.',\n",
       "  \"It would have be Te Ani'la Mand'alor, or also called Mandalore the Ultimate.\",\n",
       "  'Ludwig van Beethoven',\n",
       "  'James Watson and Francis Crick identified the double-helix structure of deoxyribonucleic acid in 1953.',\n",
       "  'Bollywood is a movie industry based in Mumbai, India. It primarily makes movies in Hindi language. Since it was based in a city previously known as Bombay, a convenient moniker Bollywood resembling Hollywood is used to describe Hindi language film industry.',\n",
       "  'Nanotubes, often known as Carbon Nanotubes, are light, strong shapes made of Carbon atoms.  Nanotubes are shaped like tiny straws with walls as thin as one carbon atom.  They are considered as the strongest of any material known to man.  Nanotubes have many practical uses, one of which is to make the darkest black paint.',\n",
       "  'A secured loan is a form of debt in which the borrower pledges some asset (i.e., a car, a house) as collateral.',\n",
       "  'That is a personal question and one should think about this very carefully. Things to consider:\\n\\n1. How old are you?\\n2. Can you afford to raise the child \\n3. Do you have proper healthcare\\n4. Do you have anyone to help you\\n5. Do you like kids\\n6. Why do you want kids',\n",
       "  'Theodore Roosevelt',\n",
       "  'The Football Association Challenge Cup, more commonly known as the FA Cup, is an annual knockout football competition in men\\'s domestic English football. First played during the 1871–72 season, it is the oldest national football competition in the world. It is organised by and named after The Football Association (The FA). Since 2015, it has been known as The Emirates FA Cup after its headline sponsor. A concurrent Women\\'s FA Cup has been held since 1970.\\n\\nThe competition is open to all eligible clubs down to Level 9 of the English football league system with Level 10 clubs acting as stand-ins in the event of non-entries from above. Included in the competition are 20 professional clubs in the Premier League (level 1), 72 professional clubs in the English Football League (levels 2 to 4), and all clubs in steps 1–5 of the National League System (levels 5 to 9) as well as a tiny number of step 6 clubs acting as stand-ins for non-entries above. A record 763 clubs competed in 2011–12. The tournament consists of 12 randomly drawn rounds followed by the semi-finals and the final. Entrants are not seeded, although a system of byes based on league level ensures higher ranked teams enter in later rounds – the minimum number of games needed to win, depending on which round a team enters the competition, ranges from six to fourteen.\\n\\nThe first six rounds are the Qualifying Competition, from which 32 teams progress to the first round of the Competition Proper, meeting the first of the 48 professional teams from Leagues One and Two. The last entrants are the Premier League and Championship clubs, into the draw for the Third Round Proper. In the modern era, only one non-League team has ever reached the quarter-finals, and teams below Level 2 have never reached the final. As a result, significant focus is given to the smaller teams who progress furthest, especially if they achieve an unlikely \"giant-killing\" victory.\\n\\nWinners receive the FA Cup trophy, of which there have been two designs and five actual cups; the latest is a 2014 replica of the second design, introduced in 1911. Winners also qualify for the UEFA Europa League and a place in the upcoming FA Community Shield. Arsenal are the most successful club with fourteen titles and Arsène Wenger is the most successful manager in the history of the competition, having won seven finals as Arsenal\\'s manager.\\n\\nLiverpool are the current holders, having beaten Chelsea 6–5 on penalties following a 0–0 draw in the 2022 final.',\n",
       "  'Atlantic Ocean\\nArctic Ocean\\nPacific Ocean\\nIndian Ocean',\n",
       "  \"Harry did not put his own name in the goblet of fire. Barty Crouch Junior, using polyjuice potion to disguise himself as Alistair Moody, put Harry's name in the goblet of fire as part of his plan to deliver Harry into Lord Voldemort's hands.\",\n",
       "  '\"The Hate U Give\" which was released in 2017 and debuted at number one on The New York Times Best Seller list.',\n",
       "  'Some biologists maintain that there is no genetic difference between shrubs and trees - some species may have expressions in tree form and shrub form.  Other scientists believe that the physical form is essential and that shrubs are distinct from trees.',\n",
       "  \"The following players won the men's singles grand slam tennis tournaments in 2022:\\n- Rafael Nadal won the Australian Open and the French Open\\n- Novak Djokovic won Wimbledon\\n- Carlos Alcaraz won the US Open\",\n",
       "  'The US Constitution divides the federal government into three branches: legislative, executive and judicial.  This ensures that no individual or group will have too much power.',\n",
       "  'While they are similar sports, tennis and pickleball have various difference. First, the court size for pickleball is about half the size of a tennis court. Second, pickleball is played with a ball that resembles a whiffle ball. Third, pickleball is played with paddles as opposed to rackets. Finally, the scoring system is quite different as you play for points which can only be scored when you or your team are serving.',\n",
       "  'This can be discussed but it is often admitted that Michael Jordan is the best NBA player of all time.',\n",
       "  'The U.S. half dollar is the winner with 150 ridges.',\n",
       "  'Carrie Underwood.',\n",
       "  'Game of Thrones is based on the books written by George R. R. Martin called a Song of Ice and Fire.',\n",
       "  'The professional baseball teams in the state of Florida are the Tampa Bay Rays and Miami Marlins.',\n",
       "  'No',\n",
       "  'Soap is made with a mixture of natural or organic oils, sodium hydroxide and distilled water.  When making soap you need to mix a combination of light and heavy oils like olive and coconut oil and then mix it with sodium hydroxide and distilled water.  After this mixture has been mixed well you poor it into soap molds and let it hard over the course of many weeks.  This process called saponification is the time it takes for the sodium hydroxide to evaporate from the mixture which causes the soap to harden in he soap molds.  Other options you have when making soap are to add essential oils, like lavender and grapefruit to give a nice scent to the soap.  This has to be added prior to saponification.',\n",
       "  'Wild Boars',\n",
       "  'Yes, George Lucas and Steven Spielberg are long-time friends, dating back to their first meeting in 1967. They have collaborated and supported each other on a number of films and celebrated each others success in the field of filmmaking.',\n",
       "  'San Francisco is a famously foggy city',\n",
       "  'Some of the most popular movies starring Will Ferrell include Old School, Stepbrothers, Elf, Anchorman, Stranger than Fiction, Blades of Glory, Zoolander, and Talladega Nights: The Ballad of Ricky Bobby.',\n",
       "  'The books concern a wizard called Harry Potter and his journey through Hogwarts School of Witchcraft and Wizardry. The stories tell of him overcoming dangerous obstacles to defeat the Dark Wizard Lord Voldemort, who killed his parents when Harry was 15 months old.',\n",
       "  'He invented Dynamite',\n",
       "  \"Each year there is a race held to swim across Lake Tahoe. The race was created and is still sponsored by The Olympic Club of San Francisco. Teams are created and entered from across the globe but primarily North America. The format of the race is a six person relay; all male, all female. or half male/female. Starting on the Nevada side of the lake each member of the team swims for 30 minutes following the team's boat. After each of the swimmers has completed the 30 minute rotation the swimmers then rotate again every 10 minutes. This is done is sequence until the team reach the other side of the lake in California. The swimmers need to touch one-another when rotating between swimmers and there are no wetsuits or fins allowed.\",\n",
       "  'The world’s largest performing rock band included 953 musicians.',\n",
       "  \"Here is a list of all the books in the Harry Potter collection written by J.K. Rowling - Harry Potter and the Philosopher's Stone, Harry Potter and the Chamber of Secrets, Harry Potter and the Prisoner of Azkaban, Harry Potter and the Goblet of Fire, Harry Potter and the Order of the Phoenix, Harry Potter and the Half-Blood Prince and Harry Potter and the Deathly Hallows\",\n",
       "  'Aberdeen is a city located in the North East of Scotland. As of 2020 it had a population of 200,000 people and is the third largest city in Scotland, behind Edinburgh (435,000) and Glasgow (610,000). Aberdeen has been referred to as \"The Silver City\" due to the high number of buildings in the city constructed of Granite from the local quarry, which may sparkle on the rare occasion that the sunlight hits the buildings.  Since the 1960\\'s the city\\'s economy has largely revolved around Oil & Gas due to its proximity to the North Sea Oil discovery.   Aberdeen has two universities; the University of Aberdeen and Robert Gordon University. Notable people who have been associated with Aberdeen include singer Annie Lennox, golfer Paul Lawrie and architect Archibald \"Archie\" Simpson.',\n",
       "  'The English Premier League is the top flight of English football.',\n",
       "  'Predictive Maintenance is widely used in the manufacturing industry. It is all about figuring out when an asset should be maintained, and what specific maintenance activities need to be performed, based on an asset’s actual condition or state, rather than on a fixed schedule, so that you can maximize uptime and productivity. It is all about predicting & preventing failures and performing the right maintenance routines in order to reduce costly equipment downtimes.',\n",
       "  'Terraform is an infrastructure as code tool that lets you build/deploy, change, and version cloud and on-prem resources safely and efficiently.',\n",
       "  'Mississippi and Missouri rivers',\n",
       "  '\"We Remember\"',\n",
       "  'New Orleans is famous for its celebrations of Mardi Gras',\n",
       "  'Cryptocurrency is a currency that you can by with physical money and it is held as a digital currency.  It is not backed by the FDIC or insured, and there is a lot of risk when investing in cryptocurrency. Because it is not regulated you can see price fluctuations as high as 90% loss or gain in cryptocurrency.  It is also a decentralized digital currency.  Cryptocurrency can be a good way to send large amounts of money abroad without having to pay an institution fees to do this through a wire and its immediate.  It can be used to pay for certain goods and services too.',\n",
       "  'The Counter Reformation was a Catholic religious movement which was in response to the Protestant Reformation and sought to strengthen the Catholic faith.']}"
      ]
     },
     "execution_count": 7,
     "metadata": {},
     "output_type": "execute_result"
    }
   ],
   "source": [
    "samples_to_tune_on"
   ]
  },
  {
   "cell_type": "code",
   "execution_count": 8,
   "id": "9a259e93",
   "metadata": {},
   "outputs": [
    {
     "data": {
      "text/plain": [
       "0.70    13.00\n",
       "0.80    16.00\n",
       "0.85    17.00\n",
       "0.90    19.00\n",
       "0.95    21.05\n",
       "dtype: float64"
      ]
     },
     "execution_count": 8,
     "metadata": {},
     "output_type": "execute_result"
    }
   ],
   "source": [
    "# Check dataset specific numbers to define tokenization limits\n",
    "\n",
    "# For input\n",
    "\n",
    "pd.Series(\n",
    "    [\n",
    "        len(\n",
    "            tokenizer(sample, max_length=None, truncation=False, padding=False)[\n",
    "                \"input_ids\"\n",
    "            ]\n",
    "        )\n",
    "        for sample in samples_to_tune_on[\"instruction\"]\n",
    "    ]\n",
    ").quantile([0.7, 0.8, 0.85, 0.9, 0.95])"
   ]
  },
  {
   "cell_type": "code",
   "execution_count": 9,
   "id": "1365f57d",
   "metadata": {},
   "outputs": [
    {
     "name": "stderr",
     "output_type": "stream",
     "text": [
      "Token indices sequence length is longer than the specified maximum sequence length for this model (564 > 512). Running this sequence through the model will result in indexing errors\n"
     ]
    },
    {
     "data": {
      "text/plain": [
       "0.70     77.30\n",
       "0.80    106.20\n",
       "0.85    131.35\n",
       "0.90    169.40\n",
       "0.95    237.30\n",
       "dtype: float64"
      ]
     },
     "execution_count": 9,
     "metadata": {},
     "output_type": "execute_result"
    }
   ],
   "source": [
    "# For label\n",
    "pd.Series(\n",
    "    [\n",
    "        len(\n",
    "            tokenizer(sample, max_length=None, truncation=False, padding=False)[\n",
    "                \"input_ids\"\n",
    "            ]\n",
    "        )\n",
    "        for sample in samples_to_tune_on[\"output\"]\n",
    "    ]\n",
    ").quantile([0.7, 0.8, 0.85, 0.9, 0.95])"
   ]
  },
  {
   "cell_type": "code",
   "execution_count": 10,
   "id": "b7ceb02a",
   "metadata": {},
   "outputs": [
    {
     "name": "stderr",
     "output_type": "stream",
     "text": [
      "/Users/praful932/Library/Caches/pypoetry/virtualenvs/bhaasha-vDz_II8E-py3.8/lib/python3.8/site-packages/transformers/generation/utils.py:686: UserWarning: MPS: no support for int64 repeats mask, casting it to int32 (Triggered internally at /Users/runner/work/pytorch/pytorch/pytorch/aten/src/ATen/native/mps/operations/Repeat.mm:236.)\n",
      "  input_ids = input_ids.repeat_interleave(expand_size, dim=0)\n",
      "/Users/praful932/Library/Caches/pypoetry/virtualenvs/bhaasha-vDz_II8E-py3.8/lib/python3.8/site-packages/transformers/generation/beam_search.py:358: UserWarning: MPS: no support for int64 min/max ops, casting it to int32 (Triggered internally at /Users/runner/work/pytorch/pytorch/pytorch/aten/src/ATen/native/mps/operations/ReduceOps.mm:1271.)\n",
      "  sent_lengths_max = sent_lengths.max().item() + 1\n"
     ]
    },
    {
     "ename": "NameError",
     "evalue": "name 'my_metric' is not defined",
     "output_type": "error",
     "traceback": [
      "\u001b[0;31m---------------------------------------------------------------------------\u001b[0m",
      "\u001b[0;31mNameError\u001b[0m                                 Traceback (most recent call last)",
      "Cell \u001b[0;32mIn[10], line 23\u001b[0m\n\u001b[1;32m     15\u001b[0m \u001b[38;5;28;01mfrom\u001b[39;00m \u001b[38;5;21;01mllmsearch\u001b[39;00m\u001b[38;5;21;01m.\u001b[39;00m\u001b[38;5;21;01mutils\u001b[39;00m\u001b[38;5;21;01m.\u001b[39;00m\u001b[38;5;21;01mmodel_utils\u001b[39;00m \u001b[38;5;28;01mimport\u001b[39;00m infer_batches\n\u001b[1;32m     18\u001b[0m model_output_before_tuning, latency \u001b[38;5;241m=\u001b[39m infer_batches(model \u001b[38;5;241m=\u001b[39m model, tokenizer\u001b[38;5;241m=\u001b[39mtokenizer, device \u001b[38;5;241m=\u001b[39m device, \n\u001b[1;32m     19\u001b[0m                              model_inputs\u001b[38;5;241m=\u001b[39msamples_to_tune_on[\u001b[38;5;124m'\u001b[39m\u001b[38;5;124minstruction\u001b[39m\u001b[38;5;124m'\u001b[39m],tokenizer_encoding_kwargs\u001b[38;5;241m=\u001b[39mtokenizer_encoding_kwargs,\n\u001b[1;32m     20\u001b[0m                              generation_kwargs\u001b[38;5;241m=\u001b[39mgeneration_kwargs, batch_size\u001b[38;5;241m=\u001b[39m\u001b[38;5;241m32\u001b[39m)\n\u001b[0;32m---> 23\u001b[0m \u001b[43mmy_metric\u001b[49m(y_true \u001b[38;5;241m=\u001b[39m samples_to_tune_on[\u001b[38;5;124m'\u001b[39m\u001b[38;5;124moutput\u001b[39m\u001b[38;5;124m'\u001b[39m], y_pred\u001b[38;5;241m=\u001b[39mmodel_output_before_tuning)\n",
      "\u001b[0;31mNameError\u001b[0m: name 'my_metric' is not defined"
     ]
    }
   ],
   "source": [
    "# Check metrics on dataset without any optimization\n",
    "\n",
    "tokenizer_encoding_kwargs = {\n",
    "    \"max_length\": 20,\n",
    "    \"truncation\": True,\n",
    "    \"padding\": True,\n",
    "}\n",
    "\n",
    "generation_kwargs = {\n",
    "    \"temperature\": 1,\n",
    "    \"max_new_tokens\": 200,\n",
    "    \"num_beams\": 3,\n",
    "}\n",
    "\n",
    "from llmsearch.utils.model_utils import infer_batches\n",
    "\n",
    "\n",
    "model_output_before_tuning, latency = infer_batches(\n",
    "    model=model,\n",
    "    tokenizer=tokenizer,\n",
    "    device=device,\n",
    "    model_inputs=samples_to_tune_on[\"instruction\"],\n",
    "    tokenizer_encoding_kwargs=tokenizer_encoding_kwargs,\n",
    "    generation_kwargs=generation_kwargs,\n",
    "    batch_size=32,\n",
    ")"
   ]
  },
  {
   "cell_type": "code",
   "execution_count": 12,
   "id": "b1b3512c",
   "metadata": {},
   "outputs": [
    {
     "data": {
      "text/plain": [
       "0.013292305726151015"
      ]
     },
     "execution_count": 12,
     "metadata": {},
     "output_type": "execute_result"
    }
   ],
   "source": [
    "my_metric(y_true=samples_to_tune_on[\"output\"], y_pred=model_output_before_tuning)"
   ]
  },
  {
   "cell_type": "code",
   "execution_count": 13,
   "id": "e0ea9a32",
   "metadata": {},
   "outputs": [],
   "source": [
    "# Run llm search\n",
    "\n",
    "from sklearn.metrics import make_scorer\n",
    "from sklearn.model_selection import RandomizedSearchCV\n",
    "from llmsearch.wrappers.estimator import EstimatorWrapper\n",
    "\n",
    "seed = 42\n",
    "\n",
    "\n",
    "hyp_param_grid = {\n",
    "    \"max_new_tokens\": [200],\n",
    "    \"num_beams\": [3],\n",
    "    \"temperature\": [1],\n",
    "    \"epsilon_cutoff\": [3e-4, 6e-4, 9e-4, 0],\n",
    "    \"repetition_penalty\": [0.3, 0.7, 1.0],\n",
    "    \"no_repeat_ngram_size\": [0, 2, 3, 4],\n",
    "}\n",
    "\n",
    "model_estimator = EstimatorWrapper(\n",
    "    model=model,\n",
    "    tokenizer=tokenizer,\n",
    "    device=device,\n",
    "    batch_size=32,\n",
    "    tokenizer_encoding_kwargs=tokenizer_encoding_kwargs,\n",
    ")\n",
    "scorer = make_scorer(score_func=my_metric, greater_is_better=True)\n",
    "\n",
    "clf = RandomizedSearchCV(\n",
    "    estimator=model_estimator,\n",
    "    param_distributions=hyp_param_grid,\n",
    "    n_iter=30,\n",
    "    scoring=scorer,\n",
    "    cv=5,\n",
    "    random_state=seed,\n",
    "    n_jobs=1,\n",
    "    verbose=1,\n",
    ")"
   ]
  },
  {
   "cell_type": "code",
   "execution_count": 14,
   "id": "f9ded597",
   "metadata": {},
   "outputs": [
    {
     "name": "stdout",
     "output_type": "stream",
     "text": [
      "Fitting 5 folds for each of 30 candidates, totalling 150 fits\n"
     ]
    },
    {
     "data": {
      "application/vnd.jupyter.widget-view+json": {
       "model_id": "474ba9298a454c9795fce7ec2aca2296",
       "version_major": 2,
       "version_minor": 0
      },
      "text/plain": [
       "0it [00:00, ?it/s]"
      ]
     },
     "metadata": {},
     "output_type": "display_data"
    },
    {
     "data": {
      "application/vnd.jupyter.widget-view+json": {
       "model_id": "408a4645ec744a64ab98e5d4107155d3",
       "version_major": 2,
       "version_minor": 0
      },
      "text/plain": [
       "0it [00:00, ?it/s]"
      ]
     },
     "metadata": {},
     "output_type": "display_data"
    },
    {
     "data": {
      "application/vnd.jupyter.widget-view+json": {
       "model_id": "155cda661fa3412a8f723489526bf514",
       "version_major": 2,
       "version_minor": 0
      },
      "text/plain": [
       "0it [00:00, ?it/s]"
      ]
     },
     "metadata": {},
     "output_type": "display_data"
    },
    {
     "data": {
      "application/vnd.jupyter.widget-view+json": {
       "model_id": "c5b569c75b0246c093021dea7891d262",
       "version_major": 2,
       "version_minor": 0
      },
      "text/plain": [
       "0it [00:00, ?it/s]"
      ]
     },
     "metadata": {},
     "output_type": "display_data"
    },
    {
     "data": {
      "application/vnd.jupyter.widget-view+json": {
       "model_id": "7c9c3715ae3b4def978aa4f8dc547d47",
       "version_major": 2,
       "version_minor": 0
      },
      "text/plain": [
       "0it [00:00, ?it/s]"
      ]
     },
     "metadata": {},
     "output_type": "display_data"
    },
    {
     "data": {
      "application/vnd.jupyter.widget-view+json": {
       "model_id": "0e9551716eba4319be67eb07b4ca8720",
       "version_major": 2,
       "version_minor": 0
      },
      "text/plain": [
       "0it [00:00, ?it/s]"
      ]
     },
     "metadata": {},
     "output_type": "display_data"
    },
    {
     "data": {
      "application/vnd.jupyter.widget-view+json": {
       "model_id": "4837e7ea18b0438f987cb35f25fcb30c",
       "version_major": 2,
       "version_minor": 0
      },
      "text/plain": [
       "0it [00:00, ?it/s]"
      ]
     },
     "metadata": {},
     "output_type": "display_data"
    },
    {
     "data": {
      "application/vnd.jupyter.widget-view+json": {
       "model_id": "07f687bf1a0a40168ff33492077526e0",
       "version_major": 2,
       "version_minor": 0
      },
      "text/plain": [
       "0it [00:00, ?it/s]"
      ]
     },
     "metadata": {},
     "output_type": "display_data"
    },
    {
     "data": {
      "application/vnd.jupyter.widget-view+json": {
       "model_id": "bf745f10c5a54109a674fecaa1bb1194",
       "version_major": 2,
       "version_minor": 0
      },
      "text/plain": [
       "0it [00:00, ?it/s]"
      ]
     },
     "metadata": {},
     "output_type": "display_data"
    },
    {
     "data": {
      "application/vnd.jupyter.widget-view+json": {
       "model_id": "99b9dd2172fe4011b5606802cc6769fe",
       "version_major": 2,
       "version_minor": 0
      },
      "text/plain": [
       "0it [00:00, ?it/s]"
      ]
     },
     "metadata": {},
     "output_type": "display_data"
    },
    {
     "data": {
      "application/vnd.jupyter.widget-view+json": {
       "model_id": "d4f5985f01424494ad82c017186e3174",
       "version_major": 2,
       "version_minor": 0
      },
      "text/plain": [
       "0it [00:00, ?it/s]"
      ]
     },
     "metadata": {},
     "output_type": "display_data"
    },
    {
     "data": {
      "application/vnd.jupyter.widget-view+json": {
       "model_id": "dedf04fb136b45d7b1bd7c5584916bb5",
       "version_major": 2,
       "version_minor": 0
      },
      "text/plain": [
       "0it [00:00, ?it/s]"
      ]
     },
     "metadata": {},
     "output_type": "display_data"
    },
    {
     "data": {
      "application/vnd.jupyter.widget-view+json": {
       "model_id": "fa2d14c6071846728f83bb06d31f88e6",
       "version_major": 2,
       "version_minor": 0
      },
      "text/plain": [
       "0it [00:00, ?it/s]"
      ]
     },
     "metadata": {},
     "output_type": "display_data"
    },
    {
     "data": {
      "application/vnd.jupyter.widget-view+json": {
       "model_id": "79c01cdb723442cf8cb79ca7ec62e428",
       "version_major": 2,
       "version_minor": 0
      },
      "text/plain": [
       "0it [00:00, ?it/s]"
      ]
     },
     "metadata": {},
     "output_type": "display_data"
    },
    {
     "data": {
      "application/vnd.jupyter.widget-view+json": {
       "model_id": "f93ade975ccd4913b930d99aac0b6260",
       "version_major": 2,
       "version_minor": 0
      },
      "text/plain": [
       "0it [00:00, ?it/s]"
      ]
     },
     "metadata": {},
     "output_type": "display_data"
    },
    {
     "data": {
      "application/vnd.jupyter.widget-view+json": {
       "model_id": "b1697c7bc3f04775bf3059a36e6fd337",
       "version_major": 2,
       "version_minor": 0
      },
      "text/plain": [
       "0it [00:00, ?it/s]"
      ]
     },
     "metadata": {},
     "output_type": "display_data"
    },
    {
     "data": {
      "application/vnd.jupyter.widget-view+json": {
       "model_id": "bccdd30d53cc4b928c7535b533a4beef",
       "version_major": 2,
       "version_minor": 0
      },
      "text/plain": [
       "0it [00:00, ?it/s]"
      ]
     },
     "metadata": {},
     "output_type": "display_data"
    },
    {
     "data": {
      "application/vnd.jupyter.widget-view+json": {
       "model_id": "5743ce1225c84c498fdf9631af32ce91",
       "version_major": 2,
       "version_minor": 0
      },
      "text/plain": [
       "0it [00:00, ?it/s]"
      ]
     },
     "metadata": {},
     "output_type": "display_data"
    },
    {
     "data": {
      "application/vnd.jupyter.widget-view+json": {
       "model_id": "40ab262c7b7042d98c7bd14e8d0eebbf",
       "version_major": 2,
       "version_minor": 0
      },
      "text/plain": [
       "0it [00:00, ?it/s]"
      ]
     },
     "metadata": {},
     "output_type": "display_data"
    },
    {
     "data": {
      "application/vnd.jupyter.widget-view+json": {
       "model_id": "2708ab8c33af4779889805ceffaec993",
       "version_major": 2,
       "version_minor": 0
      },
      "text/plain": [
       "0it [00:00, ?it/s]"
      ]
     },
     "metadata": {},
     "output_type": "display_data"
    },
    {
     "data": {
      "application/vnd.jupyter.widget-view+json": {
       "model_id": "bb59d787e01d4861b6b99770b30a4930",
       "version_major": 2,
       "version_minor": 0
      },
      "text/plain": [
       "0it [00:00, ?it/s]"
      ]
     },
     "metadata": {},
     "output_type": "display_data"
    },
    {
     "data": {
      "application/vnd.jupyter.widget-view+json": {
       "model_id": "302baf52b76544bf8e60329a83745f00",
       "version_major": 2,
       "version_minor": 0
      },
      "text/plain": [
       "0it [00:00, ?it/s]"
      ]
     },
     "metadata": {},
     "output_type": "display_data"
    },
    {
     "data": {
      "application/vnd.jupyter.widget-view+json": {
       "model_id": "b2f247f62c7b437fb3ea9de07133e46c",
       "version_major": 2,
       "version_minor": 0
      },
      "text/plain": [
       "0it [00:00, ?it/s]"
      ]
     },
     "metadata": {},
     "output_type": "display_data"
    },
    {
     "data": {
      "application/vnd.jupyter.widget-view+json": {
       "model_id": "c11ed98ba74e46f385b3ba34a5af066c",
       "version_major": 2,
       "version_minor": 0
      },
      "text/plain": [
       "0it [00:00, ?it/s]"
      ]
     },
     "metadata": {},
     "output_type": "display_data"
    },
    {
     "data": {
      "application/vnd.jupyter.widget-view+json": {
       "model_id": "1262cc4b37584bbb8d9b0d278a7aee19",
       "version_major": 2,
       "version_minor": 0
      },
      "text/plain": [
       "0it [00:00, ?it/s]"
      ]
     },
     "metadata": {},
     "output_type": "display_data"
    },
    {
     "data": {
      "application/vnd.jupyter.widget-view+json": {
       "model_id": "914305c8eacd448f9e53ccc6ae7433c8",
       "version_major": 2,
       "version_minor": 0
      },
      "text/plain": [
       "0it [00:00, ?it/s]"
      ]
     },
     "metadata": {},
     "output_type": "display_data"
    },
    {
     "data": {
      "application/vnd.jupyter.widget-view+json": {
       "model_id": "b5991d2dd9ab446d9cc427b5b6fbf0ff",
       "version_major": 2,
       "version_minor": 0
      },
      "text/plain": [
       "0it [00:00, ?it/s]"
      ]
     },
     "metadata": {},
     "output_type": "display_data"
    },
    {
     "data": {
      "application/vnd.jupyter.widget-view+json": {
       "model_id": "621d5fa8309a40a0a7849e62cc36d2fe",
       "version_major": 2,
       "version_minor": 0
      },
      "text/plain": [
       "0it [00:00, ?it/s]"
      ]
     },
     "metadata": {},
     "output_type": "display_data"
    },
    {
     "data": {
      "application/vnd.jupyter.widget-view+json": {
       "model_id": "92508eb95a7c4810bc432d41ef4f9983",
       "version_major": 2,
       "version_minor": 0
      },
      "text/plain": [
       "0it [00:00, ?it/s]"
      ]
     },
     "metadata": {},
     "output_type": "display_data"
    },
    {
     "data": {
      "application/vnd.jupyter.widget-view+json": {
       "model_id": "01d7ea119c5b4a7fbcaa1885d63d2ea9",
       "version_major": 2,
       "version_minor": 0
      },
      "text/plain": [
       "0it [00:00, ?it/s]"
      ]
     },
     "metadata": {},
     "output_type": "display_data"
    },
    {
     "data": {
      "application/vnd.jupyter.widget-view+json": {
       "model_id": "4b726ca936e946cf9b8f5d3bd58f36a7",
       "version_major": 2,
       "version_minor": 0
      },
      "text/plain": [
       "0it [00:00, ?it/s]"
      ]
     },
     "metadata": {},
     "output_type": "display_data"
    },
    {
     "data": {
      "application/vnd.jupyter.widget-view+json": {
       "model_id": "603cfbadd4a6427a9781b877485ddf45",
       "version_major": 2,
       "version_minor": 0
      },
      "text/plain": [
       "0it [00:00, ?it/s]"
      ]
     },
     "metadata": {},
     "output_type": "display_data"
    },
    {
     "data": {
      "application/vnd.jupyter.widget-view+json": {
       "model_id": "774de9639e534a68ba4bcff0b7d3e215",
       "version_major": 2,
       "version_minor": 0
      },
      "text/plain": [
       "0it [00:00, ?it/s]"
      ]
     },
     "metadata": {},
     "output_type": "display_data"
    },
    {
     "data": {
      "application/vnd.jupyter.widget-view+json": {
       "model_id": "c012983770d649d3b482102c545899e0",
       "version_major": 2,
       "version_minor": 0
      },
      "text/plain": [
       "0it [00:00, ?it/s]"
      ]
     },
     "metadata": {},
     "output_type": "display_data"
    },
    {
     "data": {
      "application/vnd.jupyter.widget-view+json": {
       "model_id": "b976b7631c2749bcaa1709afdb7742d9",
       "version_major": 2,
       "version_minor": 0
      },
      "text/plain": [
       "0it [00:00, ?it/s]"
      ]
     },
     "metadata": {},
     "output_type": "display_data"
    },
    {
     "data": {
      "application/vnd.jupyter.widget-view+json": {
       "model_id": "5cb39d8ef2d24603a62273e2459c569c",
       "version_major": 2,
       "version_minor": 0
      },
      "text/plain": [
       "0it [00:00, ?it/s]"
      ]
     },
     "metadata": {},
     "output_type": "display_data"
    },
    {
     "data": {
      "application/vnd.jupyter.widget-view+json": {
       "model_id": "46e23cbb34f349deab146134be3901d3",
       "version_major": 2,
       "version_minor": 0
      },
      "text/plain": [
       "0it [00:00, ?it/s]"
      ]
     },
     "metadata": {},
     "output_type": "display_data"
    },
    {
     "data": {
      "application/vnd.jupyter.widget-view+json": {
       "model_id": "00ccc7134ee04caba619689d155241df",
       "version_major": 2,
       "version_minor": 0
      },
      "text/plain": [
       "0it [00:00, ?it/s]"
      ]
     },
     "metadata": {},
     "output_type": "display_data"
    },
    {
     "data": {
      "application/vnd.jupyter.widget-view+json": {
       "model_id": "09801f19f60e42fdace1479317da2797",
       "version_major": 2,
       "version_minor": 0
      },
      "text/plain": [
       "0it [00:00, ?it/s]"
      ]
     },
     "metadata": {},
     "output_type": "display_data"
    },
    {
     "data": {
      "application/vnd.jupyter.widget-view+json": {
       "model_id": "8c54e99cd723484884a5ff091ec3d2d1",
       "version_major": 2,
       "version_minor": 0
      },
      "text/plain": [
       "0it [00:00, ?it/s]"
      ]
     },
     "metadata": {},
     "output_type": "display_data"
    },
    {
     "data": {
      "application/vnd.jupyter.widget-view+json": {
       "model_id": "f76cbc75db9a4ccdb1d9035bc1b3c8e7",
       "version_major": 2,
       "version_minor": 0
      },
      "text/plain": [
       "0it [00:00, ?it/s]"
      ]
     },
     "metadata": {},
     "output_type": "display_data"
    },
    {
     "data": {
      "application/vnd.jupyter.widget-view+json": {
       "model_id": "3a8d0647ee8b4821a9358151bff0ec5d",
       "version_major": 2,
       "version_minor": 0
      },
      "text/plain": [
       "0it [00:00, ?it/s]"
      ]
     },
     "metadata": {},
     "output_type": "display_data"
    },
    {
     "data": {
      "application/vnd.jupyter.widget-view+json": {
       "model_id": "33ac39aeb4bf40b48536238654058ac5",
       "version_major": 2,
       "version_minor": 0
      },
      "text/plain": [
       "0it [00:00, ?it/s]"
      ]
     },
     "metadata": {},
     "output_type": "display_data"
    },
    {
     "data": {
      "application/vnd.jupyter.widget-view+json": {
       "model_id": "980a421bf13d43ca812dd5d634c7c3f8",
       "version_major": 2,
       "version_minor": 0
      },
      "text/plain": [
       "0it [00:00, ?it/s]"
      ]
     },
     "metadata": {},
     "output_type": "display_data"
    },
    {
     "data": {
      "application/vnd.jupyter.widget-view+json": {
       "model_id": "a5a19a784ea84d398310fc411070ed1f",
       "version_major": 2,
       "version_minor": 0
      },
      "text/plain": [
       "0it [00:00, ?it/s]"
      ]
     },
     "metadata": {},
     "output_type": "display_data"
    },
    {
     "data": {
      "application/vnd.jupyter.widget-view+json": {
       "model_id": "a0ff615288d84d4f80e71c143c74c6d7",
       "version_major": 2,
       "version_minor": 0
      },
      "text/plain": [
       "0it [00:00, ?it/s]"
      ]
     },
     "metadata": {},
     "output_type": "display_data"
    },
    {
     "data": {
      "application/vnd.jupyter.widget-view+json": {
       "model_id": "9b95c9a3845549f4a419dff45a6e2155",
       "version_major": 2,
       "version_minor": 0
      },
      "text/plain": [
       "0it [00:00, ?it/s]"
      ]
     },
     "metadata": {},
     "output_type": "display_data"
    },
    {
     "data": {
      "application/vnd.jupyter.widget-view+json": {
       "model_id": "8831e2d982a840ef97830b979b3a71d8",
       "version_major": 2,
       "version_minor": 0
      },
      "text/plain": [
       "0it [00:00, ?it/s]"
      ]
     },
     "metadata": {},
     "output_type": "display_data"
    },
    {
     "data": {
      "application/vnd.jupyter.widget-view+json": {
       "model_id": "40b4120ef988424cba01531414a902c2",
       "version_major": 2,
       "version_minor": 0
      },
      "text/plain": [
       "0it [00:00, ?it/s]"
      ]
     },
     "metadata": {},
     "output_type": "display_data"
    },
    {
     "data": {
      "application/vnd.jupyter.widget-view+json": {
       "model_id": "1510662c759b40cebf64a35d4b2f30c7",
       "version_major": 2,
       "version_minor": 0
      },
      "text/plain": [
       "0it [00:00, ?it/s]"
      ]
     },
     "metadata": {},
     "output_type": "display_data"
    },
    {
     "data": {
      "application/vnd.jupyter.widget-view+json": {
       "model_id": "b6970e387e4d4413b61c2c9bf688b4e4",
       "version_major": 2,
       "version_minor": 0
      },
      "text/plain": [
       "0it [00:00, ?it/s]"
      ]
     },
     "metadata": {},
     "output_type": "display_data"
    },
    {
     "data": {
      "application/vnd.jupyter.widget-view+json": {
       "model_id": "55b84def6e5e453f9a8c07f034c40057",
       "version_major": 2,
       "version_minor": 0
      },
      "text/plain": [
       "0it [00:00, ?it/s]"
      ]
     },
     "metadata": {},
     "output_type": "display_data"
    },
    {
     "data": {
      "application/vnd.jupyter.widget-view+json": {
       "model_id": "d3655753727041d985341ef3f177bc91",
       "version_major": 2,
       "version_minor": 0
      },
      "text/plain": [
       "0it [00:00, ?it/s]"
      ]
     },
     "metadata": {},
     "output_type": "display_data"
    },
    {
     "data": {
      "application/vnd.jupyter.widget-view+json": {
       "model_id": "e72f85d58d834422bcac5b29aea163d6",
       "version_major": 2,
       "version_minor": 0
      },
      "text/plain": [
       "0it [00:00, ?it/s]"
      ]
     },
     "metadata": {},
     "output_type": "display_data"
    },
    {
     "data": {
      "application/vnd.jupyter.widget-view+json": {
       "model_id": "c984e9582bc7401e9c97c9de8b26d7b6",
       "version_major": 2,
       "version_minor": 0
      },
      "text/plain": [
       "0it [00:00, ?it/s]"
      ]
     },
     "metadata": {},
     "output_type": "display_data"
    },
    {
     "data": {
      "application/vnd.jupyter.widget-view+json": {
       "model_id": "8d23ad88ef7843b99eb4d09b05f6c01b",
       "version_major": 2,
       "version_minor": 0
      },
      "text/plain": [
       "0it [00:00, ?it/s]"
      ]
     },
     "metadata": {},
     "output_type": "display_data"
    },
    {
     "data": {
      "application/vnd.jupyter.widget-view+json": {
       "model_id": "9e7db9896a6340f4a8a4d342fdbc2940",
       "version_major": 2,
       "version_minor": 0
      },
      "text/plain": [
       "0it [00:00, ?it/s]"
      ]
     },
     "metadata": {},
     "output_type": "display_data"
    },
    {
     "data": {
      "application/vnd.jupyter.widget-view+json": {
       "model_id": "5f234037c4444cca8ba96563d0d98011",
       "version_major": 2,
       "version_minor": 0
      },
      "text/plain": [
       "0it [00:00, ?it/s]"
      ]
     },
     "metadata": {},
     "output_type": "display_data"
    },
    {
     "data": {
      "application/vnd.jupyter.widget-view+json": {
       "model_id": "717210d348414bdd970b7c71e7199df6",
       "version_major": 2,
       "version_minor": 0
      },
      "text/plain": [
       "0it [00:00, ?it/s]"
      ]
     },
     "metadata": {},
     "output_type": "display_data"
    },
    {
     "data": {
      "application/vnd.jupyter.widget-view+json": {
       "model_id": "f30d55c0295b4da3ad9f9963c647b63d",
       "version_major": 2,
       "version_minor": 0
      },
      "text/plain": [
       "0it [00:00, ?it/s]"
      ]
     },
     "metadata": {},
     "output_type": "display_data"
    },
    {
     "data": {
      "application/vnd.jupyter.widget-view+json": {
       "model_id": "57586beff5c54019a487989fe7bb1aa6",
       "version_major": 2,
       "version_minor": 0
      },
      "text/plain": [
       "0it [00:00, ?it/s]"
      ]
     },
     "metadata": {},
     "output_type": "display_data"
    },
    {
     "data": {
      "application/vnd.jupyter.widget-view+json": {
       "model_id": "f3ab8f51e7234592b61ffc9ce5584804",
       "version_major": 2,
       "version_minor": 0
      },
      "text/plain": [
       "0it [00:00, ?it/s]"
      ]
     },
     "metadata": {},
     "output_type": "display_data"
    },
    {
     "data": {
      "application/vnd.jupyter.widget-view+json": {
       "model_id": "15efd24acf4b410fac6d5bc8e429ab2e",
       "version_major": 2,
       "version_minor": 0
      },
      "text/plain": [
       "0it [00:00, ?it/s]"
      ]
     },
     "metadata": {},
     "output_type": "display_data"
    },
    {
     "data": {
      "application/vnd.jupyter.widget-view+json": {
       "model_id": "db0a932b4210496dba6e439b9df25f8c",
       "version_major": 2,
       "version_minor": 0
      },
      "text/plain": [
       "0it [00:00, ?it/s]"
      ]
     },
     "metadata": {},
     "output_type": "display_data"
    },
    {
     "data": {
      "application/vnd.jupyter.widget-view+json": {
       "model_id": "3d7596fba3fb46d49a2f3c9fe055d2e7",
       "version_major": 2,
       "version_minor": 0
      },
      "text/plain": [
       "0it [00:00, ?it/s]"
      ]
     },
     "metadata": {},
     "output_type": "display_data"
    },
    {
     "data": {
      "application/vnd.jupyter.widget-view+json": {
       "model_id": "653673dc21c54ae7bbbab47282a2cc32",
       "version_major": 2,
       "version_minor": 0
      },
      "text/plain": [
       "0it [00:00, ?it/s]"
      ]
     },
     "metadata": {},
     "output_type": "display_data"
    },
    {
     "data": {
      "application/vnd.jupyter.widget-view+json": {
       "model_id": "51b159811314424e9fd8ee50c803338e",
       "version_major": 2,
       "version_minor": 0
      },
      "text/plain": [
       "0it [00:00, ?it/s]"
      ]
     },
     "metadata": {},
     "output_type": "display_data"
    },
    {
     "data": {
      "application/vnd.jupyter.widget-view+json": {
       "model_id": "8d6aa2762bbe4df097c8822c6dfc9504",
       "version_major": 2,
       "version_minor": 0
      },
      "text/plain": [
       "0it [00:00, ?it/s]"
      ]
     },
     "metadata": {},
     "output_type": "display_data"
    },
    {
     "data": {
      "application/vnd.jupyter.widget-view+json": {
       "model_id": "d704e8ef5fa74bc58ea8f430fb0d360a",
       "version_major": 2,
       "version_minor": 0
      },
      "text/plain": [
       "0it [00:00, ?it/s]"
      ]
     },
     "metadata": {},
     "output_type": "display_data"
    },
    {
     "data": {
      "application/vnd.jupyter.widget-view+json": {
       "model_id": "2d0fba743a8b466cb53fd1a67eed82e6",
       "version_major": 2,
       "version_minor": 0
      },
      "text/plain": [
       "0it [00:00, ?it/s]"
      ]
     },
     "metadata": {},
     "output_type": "display_data"
    },
    {
     "data": {
      "application/vnd.jupyter.widget-view+json": {
       "model_id": "b669b5dfa43346c486d797d0110157dd",
       "version_major": 2,
       "version_minor": 0
      },
      "text/plain": [
       "0it [00:00, ?it/s]"
      ]
     },
     "metadata": {},
     "output_type": "display_data"
    },
    {
     "data": {
      "application/vnd.jupyter.widget-view+json": {
       "model_id": "1729c62a949343ba8e04f7e8d0e49cb3",
       "version_major": 2,
       "version_minor": 0
      },
      "text/plain": [
       "0it [00:00, ?it/s]"
      ]
     },
     "metadata": {},
     "output_type": "display_data"
    },
    {
     "data": {
      "application/vnd.jupyter.widget-view+json": {
       "model_id": "f3f2c1958fb5464ab8cf34a90e0a4e23",
       "version_major": 2,
       "version_minor": 0
      },
      "text/plain": [
       "0it [00:00, ?it/s]"
      ]
     },
     "metadata": {},
     "output_type": "display_data"
    },
    {
     "data": {
      "application/vnd.jupyter.widget-view+json": {
       "model_id": "79de453da603421bbb88187c92acb712",
       "version_major": 2,
       "version_minor": 0
      },
      "text/plain": [
       "0it [00:00, ?it/s]"
      ]
     },
     "metadata": {},
     "output_type": "display_data"
    },
    {
     "data": {
      "application/vnd.jupyter.widget-view+json": {
       "model_id": "fb3d8e502076406f97c5a326d31fb846",
       "version_major": 2,
       "version_minor": 0
      },
      "text/plain": [
       "0it [00:00, ?it/s]"
      ]
     },
     "metadata": {},
     "output_type": "display_data"
    },
    {
     "data": {
      "application/vnd.jupyter.widget-view+json": {
       "model_id": "8a0cf2397416483e949ee48db7c55ab4",
       "version_major": 2,
       "version_minor": 0
      },
      "text/plain": [
       "0it [00:00, ?it/s]"
      ]
     },
     "metadata": {},
     "output_type": "display_data"
    },
    {
     "data": {
      "application/vnd.jupyter.widget-view+json": {
       "model_id": "2ef9e866b1f64e6490686b30f93193e7",
       "version_major": 2,
       "version_minor": 0
      },
      "text/plain": [
       "0it [00:00, ?it/s]"
      ]
     },
     "metadata": {},
     "output_type": "display_data"
    },
    {
     "data": {
      "application/vnd.jupyter.widget-view+json": {
       "model_id": "511ea751930b4520a22b67cfe7723eba",
       "version_major": 2,
       "version_minor": 0
      },
      "text/plain": [
       "0it [00:00, ?it/s]"
      ]
     },
     "metadata": {},
     "output_type": "display_data"
    },
    {
     "data": {
      "application/vnd.jupyter.widget-view+json": {
       "model_id": "f5ff25ed36cc4e16b4d82f2b600c9229",
       "version_major": 2,
       "version_minor": 0
      },
      "text/plain": [
       "0it [00:00, ?it/s]"
      ]
     },
     "metadata": {},
     "output_type": "display_data"
    },
    {
     "data": {
      "application/vnd.jupyter.widget-view+json": {
       "model_id": "fca7248b018140dc8974c9e231ff7b6e",
       "version_major": 2,
       "version_minor": 0
      },
      "text/plain": [
       "0it [00:00, ?it/s]"
      ]
     },
     "metadata": {},
     "output_type": "display_data"
    },
    {
     "data": {
      "application/vnd.jupyter.widget-view+json": {
       "model_id": "1c05a3a6c2dc4425a4e10fb7c12ed8fc",
       "version_major": 2,
       "version_minor": 0
      },
      "text/plain": [
       "0it [00:00, ?it/s]"
      ]
     },
     "metadata": {},
     "output_type": "display_data"
    },
    {
     "data": {
      "application/vnd.jupyter.widget-view+json": {
       "model_id": "d8aa28fa42b140b0b88c029ed45d0660",
       "version_major": 2,
       "version_minor": 0
      },
      "text/plain": [
       "0it [00:00, ?it/s]"
      ]
     },
     "metadata": {},
     "output_type": "display_data"
    },
    {
     "data": {
      "application/vnd.jupyter.widget-view+json": {
       "model_id": "aa6261b4c5a447ff83374b3fc9e42130",
       "version_major": 2,
       "version_minor": 0
      },
      "text/plain": [
       "0it [00:00, ?it/s]"
      ]
     },
     "metadata": {},
     "output_type": "display_data"
    },
    {
     "data": {
      "application/vnd.jupyter.widget-view+json": {
       "model_id": "900d3f95602b457682553849742a651b",
       "version_major": 2,
       "version_minor": 0
      },
      "text/plain": [
       "0it [00:00, ?it/s]"
      ]
     },
     "metadata": {},
     "output_type": "display_data"
    },
    {
     "data": {
      "application/vnd.jupyter.widget-view+json": {
       "model_id": "dac87b7778124202bcf8cb1389586301",
       "version_major": 2,
       "version_minor": 0
      },
      "text/plain": [
       "0it [00:00, ?it/s]"
      ]
     },
     "metadata": {},
     "output_type": "display_data"
    },
    {
     "data": {
      "application/vnd.jupyter.widget-view+json": {
       "model_id": "aaa67eec11c94f1e9e77bd49614b0ab4",
       "version_major": 2,
       "version_minor": 0
      },
      "text/plain": [
       "0it [00:00, ?it/s]"
      ]
     },
     "metadata": {},
     "output_type": "display_data"
    },
    {
     "data": {
      "application/vnd.jupyter.widget-view+json": {
       "model_id": "7962678dcdac408895bc11135f8b27f6",
       "version_major": 2,
       "version_minor": 0
      },
      "text/plain": [
       "0it [00:00, ?it/s]"
      ]
     },
     "metadata": {},
     "output_type": "display_data"
    },
    {
     "data": {
      "application/vnd.jupyter.widget-view+json": {
       "model_id": "7c9a6941515e4862b7dcc19c771ee8bc",
       "version_major": 2,
       "version_minor": 0
      },
      "text/plain": [
       "0it [00:00, ?it/s]"
      ]
     },
     "metadata": {},
     "output_type": "display_data"
    },
    {
     "data": {
      "application/vnd.jupyter.widget-view+json": {
       "model_id": "d5218fcfb0e04f76ad947b88da0ea850",
       "version_major": 2,
       "version_minor": 0
      },
      "text/plain": [
       "0it [00:00, ?it/s]"
      ]
     },
     "metadata": {},
     "output_type": "display_data"
    },
    {
     "data": {
      "application/vnd.jupyter.widget-view+json": {
       "model_id": "6e62859773e2401ab00bf8f408c30a02",
       "version_major": 2,
       "version_minor": 0
      },
      "text/plain": [
       "0it [00:00, ?it/s]"
      ]
     },
     "metadata": {},
     "output_type": "display_data"
    },
    {
     "data": {
      "application/vnd.jupyter.widget-view+json": {
       "model_id": "22c5333e18ea4b95bd0f416baf1a4ad7",
       "version_major": 2,
       "version_minor": 0
      },
      "text/plain": [
       "0it [00:00, ?it/s]"
      ]
     },
     "metadata": {},
     "output_type": "display_data"
    },
    {
     "data": {
      "application/vnd.jupyter.widget-view+json": {
       "model_id": "6b9f082b4f88475fa39baa34d33215a5",
       "version_major": 2,
       "version_minor": 0
      },
      "text/plain": [
       "0it [00:00, ?it/s]"
      ]
     },
     "metadata": {},
     "output_type": "display_data"
    },
    {
     "data": {
      "application/vnd.jupyter.widget-view+json": {
       "model_id": "1be0e1670bef4c9c8063e1b389e1bfd2",
       "version_major": 2,
       "version_minor": 0
      },
      "text/plain": [
       "0it [00:00, ?it/s]"
      ]
     },
     "metadata": {},
     "output_type": "display_data"
    },
    {
     "data": {
      "application/vnd.jupyter.widget-view+json": {
       "model_id": "5280f66016cd411dad7a4c8bf9e75163",
       "version_major": 2,
       "version_minor": 0
      },
      "text/plain": [
       "0it [00:00, ?it/s]"
      ]
     },
     "metadata": {},
     "output_type": "display_data"
    },
    {
     "data": {
      "application/vnd.jupyter.widget-view+json": {
       "model_id": "10c1ecb39f294671b112c8090b3a85ce",
       "version_major": 2,
       "version_minor": 0
      },
      "text/plain": [
       "0it [00:00, ?it/s]"
      ]
     },
     "metadata": {},
     "output_type": "display_data"
    },
    {
     "data": {
      "application/vnd.jupyter.widget-view+json": {
       "model_id": "03509ea8dca84b49887efb4b54450af7",
       "version_major": 2,
       "version_minor": 0
      },
      "text/plain": [
       "0it [00:00, ?it/s]"
      ]
     },
     "metadata": {},
     "output_type": "display_data"
    },
    {
     "data": {
      "application/vnd.jupyter.widget-view+json": {
       "model_id": "ea77092afe0141fb83c2c6e11477f1c2",
       "version_major": 2,
       "version_minor": 0
      },
      "text/plain": [
       "0it [00:00, ?it/s]"
      ]
     },
     "metadata": {},
     "output_type": "display_data"
    },
    {
     "data": {
      "application/vnd.jupyter.widget-view+json": {
       "model_id": "f54b819b2ec6421487cf2967ba981edc",
       "version_major": 2,
       "version_minor": 0
      },
      "text/plain": [
       "0it [00:00, ?it/s]"
      ]
     },
     "metadata": {},
     "output_type": "display_data"
    },
    {
     "data": {
      "application/vnd.jupyter.widget-view+json": {
       "model_id": "3637ea9fa66d4738b4782e802bb3c8d4",
       "version_major": 2,
       "version_minor": 0
      },
      "text/plain": [
       "0it [00:00, ?it/s]"
      ]
     },
     "metadata": {},
     "output_type": "display_data"
    },
    {
     "data": {
      "application/vnd.jupyter.widget-view+json": {
       "model_id": "80a66c922b164e3a98b941847dff1f85",
       "version_major": 2,
       "version_minor": 0
      },
      "text/plain": [
       "0it [00:00, ?it/s]"
      ]
     },
     "metadata": {},
     "output_type": "display_data"
    },
    {
     "data": {
      "application/vnd.jupyter.widget-view+json": {
       "model_id": "70fb6a30590842069382615a064d6da7",
       "version_major": 2,
       "version_minor": 0
      },
      "text/plain": [
       "0it [00:00, ?it/s]"
      ]
     },
     "metadata": {},
     "output_type": "display_data"
    },
    {
     "data": {
      "application/vnd.jupyter.widget-view+json": {
       "model_id": "995f6d2dc6d74d8b950a5884d1b6071b",
       "version_major": 2,
       "version_minor": 0
      },
      "text/plain": [
       "0it [00:00, ?it/s]"
      ]
     },
     "metadata": {},
     "output_type": "display_data"
    },
    {
     "data": {
      "application/vnd.jupyter.widget-view+json": {
       "model_id": "2098424fec90485691f2961884735aa1",
       "version_major": 2,
       "version_minor": 0
      },
      "text/plain": [
       "0it [00:00, ?it/s]"
      ]
     },
     "metadata": {},
     "output_type": "display_data"
    },
    {
     "data": {
      "application/vnd.jupyter.widget-view+json": {
       "model_id": "0a3529a4aa5b4b8591c612315f46aa60",
       "version_major": 2,
       "version_minor": 0
      },
      "text/plain": [
       "0it [00:00, ?it/s]"
      ]
     },
     "metadata": {},
     "output_type": "display_data"
    },
    {
     "data": {
      "application/vnd.jupyter.widget-view+json": {
       "model_id": "c1a5d9bd746e4307b891205a5d1e40f6",
       "version_major": 2,
       "version_minor": 0
      },
      "text/plain": [
       "0it [00:00, ?it/s]"
      ]
     },
     "metadata": {},
     "output_type": "display_data"
    },
    {
     "data": {
      "application/vnd.jupyter.widget-view+json": {
       "model_id": "bcc71c750dea41d5a9b049a2e3ebcf49",
       "version_major": 2,
       "version_minor": 0
      },
      "text/plain": [
       "0it [00:00, ?it/s]"
      ]
     },
     "metadata": {},
     "output_type": "display_data"
    },
    {
     "data": {
      "application/vnd.jupyter.widget-view+json": {
       "model_id": "ca36e6337b6e4ac4b039e7a8041fe4a9",
       "version_major": 2,
       "version_minor": 0
      },
      "text/plain": [
       "0it [00:00, ?it/s]"
      ]
     },
     "metadata": {},
     "output_type": "display_data"
    },
    {
     "data": {
      "application/vnd.jupyter.widget-view+json": {
       "model_id": "5b06cb73121a4114ae1339c73ccb008f",
       "version_major": 2,
       "version_minor": 0
      },
      "text/plain": [
       "0it [00:00, ?it/s]"
      ]
     },
     "metadata": {},
     "output_type": "display_data"
    },
    {
     "data": {
      "application/vnd.jupyter.widget-view+json": {
       "model_id": "47783b8b93a14fdc806ee0b166342a76",
       "version_major": 2,
       "version_minor": 0
      },
      "text/plain": [
       "0it [00:00, ?it/s]"
      ]
     },
     "metadata": {},
     "output_type": "display_data"
    },
    {
     "data": {
      "application/vnd.jupyter.widget-view+json": {
       "model_id": "4c8d7acf24a94241b4b98ac163c8bf2b",
       "version_major": 2,
       "version_minor": 0
      },
      "text/plain": [
       "0it [00:00, ?it/s]"
      ]
     },
     "metadata": {},
     "output_type": "display_data"
    },
    {
     "data": {
      "application/vnd.jupyter.widget-view+json": {
       "model_id": "a7f4a43c48644f4c8388d4a14070880b",
       "version_major": 2,
       "version_minor": 0
      },
      "text/plain": [
       "0it [00:00, ?it/s]"
      ]
     },
     "metadata": {},
     "output_type": "display_data"
    },
    {
     "data": {
      "application/vnd.jupyter.widget-view+json": {
       "model_id": "f9f171dd35824ffe883d4c0643c0b029",
       "version_major": 2,
       "version_minor": 0
      },
      "text/plain": [
       "0it [00:00, ?it/s]"
      ]
     },
     "metadata": {},
     "output_type": "display_data"
    },
    {
     "data": {
      "application/vnd.jupyter.widget-view+json": {
       "model_id": "a5e1ea165f6e492a8f90323137fdceeb",
       "version_major": 2,
       "version_minor": 0
      },
      "text/plain": [
       "0it [00:00, ?it/s]"
      ]
     },
     "metadata": {},
     "output_type": "display_data"
    },
    {
     "data": {
      "application/vnd.jupyter.widget-view+json": {
       "model_id": "eeb11ceddee242f4bd20f5fdd9182568",
       "version_major": 2,
       "version_minor": 0
      },
      "text/plain": [
       "0it [00:00, ?it/s]"
      ]
     },
     "metadata": {},
     "output_type": "display_data"
    },
    {
     "data": {
      "application/vnd.jupyter.widget-view+json": {
       "model_id": "9e8edfa60663440bb5f7631cf4aa2950",
       "version_major": 2,
       "version_minor": 0
      },
      "text/plain": [
       "0it [00:00, ?it/s]"
      ]
     },
     "metadata": {},
     "output_type": "display_data"
    },
    {
     "data": {
      "application/vnd.jupyter.widget-view+json": {
       "model_id": "5962f43d48ee4f4584c08573a482ebe6",
       "version_major": 2,
       "version_minor": 0
      },
      "text/plain": [
       "0it [00:00, ?it/s]"
      ]
     },
     "metadata": {},
     "output_type": "display_data"
    },
    {
     "data": {
      "application/vnd.jupyter.widget-view+json": {
       "model_id": "9ae5185c0a1f43b6900f31ba4d012f17",
       "version_major": 2,
       "version_minor": 0
      },
      "text/plain": [
       "0it [00:00, ?it/s]"
      ]
     },
     "metadata": {},
     "output_type": "display_data"
    },
    {
     "data": {
      "application/vnd.jupyter.widget-view+json": {
       "model_id": "166543e1cf224385a9e9a51107e78fa1",
       "version_major": 2,
       "version_minor": 0
      },
      "text/plain": [
       "0it [00:00, ?it/s]"
      ]
     },
     "metadata": {},
     "output_type": "display_data"
    },
    {
     "data": {
      "application/vnd.jupyter.widget-view+json": {
       "model_id": "d8b73e826cc24bdbb78f10d278cc4ceb",
       "version_major": 2,
       "version_minor": 0
      },
      "text/plain": [
       "0it [00:00, ?it/s]"
      ]
     },
     "metadata": {},
     "output_type": "display_data"
    },
    {
     "data": {
      "application/vnd.jupyter.widget-view+json": {
       "model_id": "07dbb0ee18524bdb85cece06f39e52c4",
       "version_major": 2,
       "version_minor": 0
      },
      "text/plain": [
       "0it [00:00, ?it/s]"
      ]
     },
     "metadata": {},
     "output_type": "display_data"
    },
    {
     "data": {
      "application/vnd.jupyter.widget-view+json": {
       "model_id": "0a5c2ac818894b5c8c70a4aa0678e020",
       "version_major": 2,
       "version_minor": 0
      },
      "text/plain": [
       "0it [00:00, ?it/s]"
      ]
     },
     "metadata": {},
     "output_type": "display_data"
    },
    {
     "data": {
      "application/vnd.jupyter.widget-view+json": {
       "model_id": "8b7f138a2d444a70bb61334cff03b8ad",
       "version_major": 2,
       "version_minor": 0
      },
      "text/plain": [
       "0it [00:00, ?it/s]"
      ]
     },
     "metadata": {},
     "output_type": "display_data"
    },
    {
     "data": {
      "application/vnd.jupyter.widget-view+json": {
       "model_id": "690ba071f2094ae9a372b66298589f12",
       "version_major": 2,
       "version_minor": 0
      },
      "text/plain": [
       "0it [00:00, ?it/s]"
      ]
     },
     "metadata": {},
     "output_type": "display_data"
    },
    {
     "data": {
      "application/vnd.jupyter.widget-view+json": {
       "model_id": "a6a266cdac1c4be493d498402e8cc634",
       "version_major": 2,
       "version_minor": 0
      },
      "text/plain": [
       "0it [00:00, ?it/s]"
      ]
     },
     "metadata": {},
     "output_type": "display_data"
    },
    {
     "data": {
      "application/vnd.jupyter.widget-view+json": {
       "model_id": "39720be834fb4ce6b73a80837d1d9529",
       "version_major": 2,
       "version_minor": 0
      },
      "text/plain": [
       "0it [00:00, ?it/s]"
      ]
     },
     "metadata": {},
     "output_type": "display_data"
    },
    {
     "data": {
      "application/vnd.jupyter.widget-view+json": {
       "model_id": "51b0a773024c4e33b4162a1d8fd21a38",
       "version_major": 2,
       "version_minor": 0
      },
      "text/plain": [
       "0it [00:00, ?it/s]"
      ]
     },
     "metadata": {},
     "output_type": "display_data"
    },
    {
     "data": {
      "application/vnd.jupyter.widget-view+json": {
       "model_id": "d0bf6173609a47109fce71871a7cb794",
       "version_major": 2,
       "version_minor": 0
      },
      "text/plain": [
       "0it [00:00, ?it/s]"
      ]
     },
     "metadata": {},
     "output_type": "display_data"
    },
    {
     "data": {
      "application/vnd.jupyter.widget-view+json": {
       "model_id": "f100735b65804ab18b7fcaf50f669b04",
       "version_major": 2,
       "version_minor": 0
      },
      "text/plain": [
       "0it [00:00, ?it/s]"
      ]
     },
     "metadata": {},
     "output_type": "display_data"
    },
    {
     "data": {
      "application/vnd.jupyter.widget-view+json": {
       "model_id": "2109fa6d2a8f492d8696d521a8bd3a87",
       "version_major": 2,
       "version_minor": 0
      },
      "text/plain": [
       "0it [00:00, ?it/s]"
      ]
     },
     "metadata": {},
     "output_type": "display_data"
    },
    {
     "data": {
      "application/vnd.jupyter.widget-view+json": {
       "model_id": "2f7c5b997d5e40e08d9463f3c20e2d18",
       "version_major": 2,
       "version_minor": 0
      },
      "text/plain": [
       "0it [00:00, ?it/s]"
      ]
     },
     "metadata": {},
     "output_type": "display_data"
    },
    {
     "data": {
      "application/vnd.jupyter.widget-view+json": {
       "model_id": "18ed8fc826d54c7594e3a873ad21c7c0",
       "version_major": 2,
       "version_minor": 0
      },
      "text/plain": [
       "0it [00:00, ?it/s]"
      ]
     },
     "metadata": {},
     "output_type": "display_data"
    },
    {
     "data": {
      "application/vnd.jupyter.widget-view+json": {
       "model_id": "265b7c37dfa14572a1e286a5b4b95dce",
       "version_major": 2,
       "version_minor": 0
      },
      "text/plain": [
       "0it [00:00, ?it/s]"
      ]
     },
     "metadata": {},
     "output_type": "display_data"
    },
    {
     "data": {
      "application/vnd.jupyter.widget-view+json": {
       "model_id": "5f374ae6bff748a7a3259ebd5b0aa918",
       "version_major": 2,
       "version_minor": 0
      },
      "text/plain": [
       "0it [00:00, ?it/s]"
      ]
     },
     "metadata": {},
     "output_type": "display_data"
    },
    {
     "data": {
      "application/vnd.jupyter.widget-view+json": {
       "model_id": "3c5b0fc9c05b4616b2dd62131a1be7d2",
       "version_major": 2,
       "version_minor": 0
      },
      "text/plain": [
       "0it [00:00, ?it/s]"
      ]
     },
     "metadata": {},
     "output_type": "display_data"
    },
    {
     "data": {
      "application/vnd.jupyter.widget-view+json": {
       "model_id": "75ef6ab910664a2693c2e9980d048fee",
       "version_major": 2,
       "version_minor": 0
      },
      "text/plain": [
       "0it [00:00, ?it/s]"
      ]
     },
     "metadata": {},
     "output_type": "display_data"
    },
    {
     "data": {
      "application/vnd.jupyter.widget-view+json": {
       "model_id": "7da356f632bf411d9ad99e1b234522bc",
       "version_major": 2,
       "version_minor": 0
      },
      "text/plain": [
       "0it [00:00, ?it/s]"
      ]
     },
     "metadata": {},
     "output_type": "display_data"
    },
    {
     "data": {
      "application/vnd.jupyter.widget-view+json": {
       "model_id": "9cf013c2c14a4d50a2c02f9a21829b2a",
       "version_major": 2,
       "version_minor": 0
      },
      "text/plain": [
       "0it [00:00, ?it/s]"
      ]
     },
     "metadata": {},
     "output_type": "display_data"
    },
    {
     "data": {
      "application/vnd.jupyter.widget-view+json": {
       "model_id": "96de1d15c9a2481ab0465c6ec9fa29cd",
       "version_major": 2,
       "version_minor": 0
      },
      "text/plain": [
       "0it [00:00, ?it/s]"
      ]
     },
     "metadata": {},
     "output_type": "display_data"
    },
    {
     "data": {
      "application/vnd.jupyter.widget-view+json": {
       "model_id": "338125a36ba74eb2a19c0d6865b36eb1",
       "version_major": 2,
       "version_minor": 0
      },
      "text/plain": [
       "0it [00:00, ?it/s]"
      ]
     },
     "metadata": {},
     "output_type": "display_data"
    },
    {
     "data": {
      "application/vnd.jupyter.widget-view+json": {
       "model_id": "8b1fd5701819428499d813deb5b038c1",
       "version_major": 2,
       "version_minor": 0
      },
      "text/plain": [
       "0it [00:00, ?it/s]"
      ]
     },
     "metadata": {},
     "output_type": "display_data"
    },
    {
     "data": {
      "application/vnd.jupyter.widget-view+json": {
       "model_id": "c8b31fbe3f924302808bbef764ecf9ca",
       "version_major": 2,
       "version_minor": 0
      },
      "text/plain": [
       "0it [00:00, ?it/s]"
      ]
     },
     "metadata": {},
     "output_type": "display_data"
    },
    {
     "data": {
      "application/vnd.jupyter.widget-view+json": {
       "model_id": "e163f9cba24f465f84645cab5dca4c6d",
       "version_major": 2,
       "version_minor": 0
      },
      "text/plain": [
       "0it [00:00, ?it/s]"
      ]
     },
     "metadata": {},
     "output_type": "display_data"
    },
    {
     "data": {
      "application/vnd.jupyter.widget-view+json": {
       "model_id": "2744d98c83a7419193d7be0e33e66894",
       "version_major": 2,
       "version_minor": 0
      },
      "text/plain": [
       "0it [00:00, ?it/s]"
      ]
     },
     "metadata": {},
     "output_type": "display_data"
    },
    {
     "data": {
      "application/vnd.jupyter.widget-view+json": {
       "model_id": "5c357aa76cf84b51ba9b0bfefeaabf50",
       "version_major": 2,
       "version_minor": 0
      },
      "text/plain": [
       "0it [00:00, ?it/s]"
      ]
     },
     "metadata": {},
     "output_type": "display_data"
    },
    {
     "data": {
      "application/vnd.jupyter.widget-view+json": {
       "model_id": "3b930caec9b1441783e5f9763a4e98a1",
       "version_major": 2,
       "version_minor": 0
      },
      "text/plain": [
       "0it [00:00, ?it/s]"
      ]
     },
     "metadata": {},
     "output_type": "display_data"
    },
    {
     "data": {
      "application/vnd.jupyter.widget-view+json": {
       "model_id": "0ae2db708f9f4a1a9eb804a7773d4b67",
       "version_major": 2,
       "version_minor": 0
      },
      "text/plain": [
       "0it [00:00, ?it/s]"
      ]
     },
     "metadata": {},
     "output_type": "display_data"
    },
    {
     "data": {
      "application/vnd.jupyter.widget-view+json": {
       "model_id": "b5afc9a3c1e24187bd0aba6487730cd0",
       "version_major": 2,
       "version_minor": 0
      },
      "text/plain": [
       "0it [00:00, ?it/s]"
      ]
     },
     "metadata": {},
     "output_type": "display_data"
    },
    {
     "data": {
      "application/vnd.jupyter.widget-view+json": {
       "model_id": "ca09f899f6954081891476ffce94ac54",
       "version_major": 2,
       "version_minor": 0
      },
      "text/plain": [
       "0it [00:00, ?it/s]"
      ]
     },
     "metadata": {},
     "output_type": "display_data"
    },
    {
     "data": {
      "application/vnd.jupyter.widget-view+json": {
       "model_id": "ebecb5f2dad24fe294ac789e29b119cd",
       "version_major": 2,
       "version_minor": 0
      },
      "text/plain": [
       "0it [00:00, ?it/s]"
      ]
     },
     "metadata": {},
     "output_type": "display_data"
    },
    {
     "data": {
      "application/vnd.jupyter.widget-view+json": {
       "model_id": "c7abe962b0824832b67283766cb84d48",
       "version_major": 2,
       "version_minor": 0
      },
      "text/plain": [
       "0it [00:00, ?it/s]"
      ]
     },
     "metadata": {},
     "output_type": "display_data"
    },
    {
     "data": {
      "text/html": [
       "<style>#sk-container-id-1 {color: black;background-color: white;}#sk-container-id-1 pre{padding: 0;}#sk-container-id-1 div.sk-toggleable {background-color: white;}#sk-container-id-1 label.sk-toggleable__label {cursor: pointer;display: block;width: 100%;margin-bottom: 0;padding: 0.3em;box-sizing: border-box;text-align: center;}#sk-container-id-1 label.sk-toggleable__label-arrow:before {content: \"▸\";float: left;margin-right: 0.25em;color: #696969;}#sk-container-id-1 label.sk-toggleable__label-arrow:hover:before {color: black;}#sk-container-id-1 div.sk-estimator:hover label.sk-toggleable__label-arrow:before {color: black;}#sk-container-id-1 div.sk-toggleable__content {max-height: 0;max-width: 0;overflow: hidden;text-align: left;background-color: #f0f8ff;}#sk-container-id-1 div.sk-toggleable__content pre {margin: 0.2em;color: black;border-radius: 0.25em;background-color: #f0f8ff;}#sk-container-id-1 input.sk-toggleable__control:checked~div.sk-toggleable__content {max-height: 200px;max-width: 100%;overflow: auto;}#sk-container-id-1 input.sk-toggleable__control:checked~label.sk-toggleable__label-arrow:before {content: \"▾\";}#sk-container-id-1 div.sk-estimator input.sk-toggleable__control:checked~label.sk-toggleable__label {background-color: #d4ebff;}#sk-container-id-1 div.sk-label input.sk-toggleable__control:checked~label.sk-toggleable__label {background-color: #d4ebff;}#sk-container-id-1 input.sk-hidden--visually {border: 0;clip: rect(1px 1px 1px 1px);clip: rect(1px, 1px, 1px, 1px);height: 1px;margin: -1px;overflow: hidden;padding: 0;position: absolute;width: 1px;}#sk-container-id-1 div.sk-estimator {font-family: monospace;background-color: #f0f8ff;border: 1px dotted black;border-radius: 0.25em;box-sizing: border-box;margin-bottom: 0.5em;}#sk-container-id-1 div.sk-estimator:hover {background-color: #d4ebff;}#sk-container-id-1 div.sk-parallel-item::after {content: \"\";width: 100%;border-bottom: 1px solid gray;flex-grow: 1;}#sk-container-id-1 div.sk-label:hover label.sk-toggleable__label {background-color: #d4ebff;}#sk-container-id-1 div.sk-serial::before {content: \"\";position: absolute;border-left: 1px solid gray;box-sizing: border-box;top: 0;bottom: 0;left: 50%;z-index: 0;}#sk-container-id-1 div.sk-serial {display: flex;flex-direction: column;align-items: center;background-color: white;padding-right: 0.2em;padding-left: 0.2em;position: relative;}#sk-container-id-1 div.sk-item {position: relative;z-index: 1;}#sk-container-id-1 div.sk-parallel {display: flex;align-items: stretch;justify-content: center;background-color: white;position: relative;}#sk-container-id-1 div.sk-item::before, #sk-container-id-1 div.sk-parallel-item::before {content: \"\";position: absolute;border-left: 1px solid gray;box-sizing: border-box;top: 0;bottom: 0;left: 50%;z-index: -1;}#sk-container-id-1 div.sk-parallel-item {display: flex;flex-direction: column;z-index: 1;position: relative;background-color: white;}#sk-container-id-1 div.sk-parallel-item:first-child::after {align-self: flex-end;width: 50%;}#sk-container-id-1 div.sk-parallel-item:last-child::after {align-self: flex-start;width: 50%;}#sk-container-id-1 div.sk-parallel-item:only-child::after {width: 0;}#sk-container-id-1 div.sk-dashed-wrapped {border: 1px dashed gray;margin: 0 0.4em 0.5em 0.4em;box-sizing: border-box;padding-bottom: 0.4em;background-color: white;}#sk-container-id-1 div.sk-label label {font-family: monospace;font-weight: bold;display: inline-block;line-height: 1.2em;}#sk-container-id-1 div.sk-label-container {text-align: center;}#sk-container-id-1 div.sk-container {/* jupyter's `normalize.less` sets `[hidden] { display: none; }` but bootstrap.min.css set `[hidden] { display: none !important; }` so we also need the `!important` here to be able to override the default hidden behavior on the sphinx rendered scikit-learn.org. See: https://github.com/scikit-learn/scikit-learn/issues/21755 */display: inline-block !important;position: relative;}#sk-container-id-1 div.sk-text-repr-fallback {display: none;}</style><div id=\"sk-container-id-1\" class=\"sk-top-container\"><div class=\"sk-text-repr-fallback\"><pre>RandomizedSearchCV(cv=5,\n",
       "                   estimator=EstimatorWrapper(batch_size=32, device=&#x27;mps&#x27;,\n",
       "                                              model=T5ForConditionalGeneration(\n",
       "  (shared): Embedding(32128, 512)\n",
       "  (encoder): T5Stack(\n",
       "    (embed_tokens): Embedding(32128, 512)\n",
       "    (block): ModuleList(\n",
       "      (0): T5Block(\n",
       "        (layer): ModuleList(\n",
       "          (0): T5LayerSelfAttention(\n",
       "            (SelfAttention): T5Attention(\n",
       "              (q): Linear(in_features=512, out_features=384, bias=False...\n",
       "                                              tokenizer=T5TokenizerFast(name_or_path=&#x27;google/flan-t5-small&#x27;, vocab_size=32100, model_max_length=512, is_fast=True, padding_side=&#x27;right&#x27;, truncation_side=&#x27;right&#x27;, special_tokens={&#x27;eos_token&#x27;: &#x27;&lt;/s&gt;&#x27;, &#x27;unk_token&#x27;: &#x27;&lt;unk&gt;&#x27;, &#x27;pad_token&#x27;: &#x27;&lt;pad&gt;&#x27;, &#x27;additional_special_tokens&#x27;: [&#x27;&lt;extra_id_0&gt;&#x27;, &#x27;&lt;extra_id_1&gt;&#x27;, &#x27;&lt;extra_id_2&gt;&#x27;, &#x27;&lt;extra_id_3&gt;&#x27;, &#x27;&lt;extra_id_4&gt;&#x27;, &#x27;&lt;extra_id_5&gt;&#x27;, &#x27;&lt;extra_id_6&gt;&#x27;, &#x27;&lt;extra_id_7&gt;&#x27;, &#x27;&lt;extra_id_8&gt;&#x27;, &#x27;&lt;extra_id_9&gt;&#x27;, &#x27;&lt;extra_id_10&gt;&#x27;, &#x27;&lt;extra_id_11&gt;&#x27;, &#x27;&lt;extra_id_12&gt;&#x27;, &#x27;&lt;extra_id_13&gt;&#x27;, &#x27;&lt;extra_id_14&gt;&#x27;, &#x27;&lt;extra_id_15&gt;&#x27;, &#x27;&lt;extra_id_16&gt;&#x27;, &#x27;&lt;extra_id_17&gt;&#x27;, &#x27;&lt;extra_id_18&gt;&#x27;, &#x27;&lt;extra_id_19&gt;&#x27;, &#x27;&lt;extra_id_20&gt;&#x27;, &#x27;&lt;extra_id_21&gt;&#x27;, &#x27;&lt;extra_id_22&gt;&#x27;, &#x27;&lt;extra_id_23&gt;&#x27;, &#x27;&lt;extra_id_24&gt;&#x27;, &#x27;&lt;extra_id_25&gt;&#x27;, &#x27;&lt;extra_id_26&gt;&#x27;, &#x27;&lt;extra_id_27&gt;&#x27;, &#x27;&lt;extra_id_28&gt;&#x27;, &#x27;&lt;extra_id_29&gt;&#x27;, &#x27;&lt;extra_id_30&gt;&#x27;, &#x27;&lt;extra_id_31&gt;&#x27;, &#x27;&lt;extra_id_32&gt;&#x27;, &#x27;&lt;extra_id_33&gt;&#x27;, &#x27;&lt;extra_id_34&gt;&#x27;, &#x27;&lt;extra_id_35&gt;&#x27;, &#x27;&lt;extra_id_36&gt;&#x27;, &#x27;&lt;extra_id_37&gt;&#x27;, &#x27;&lt;extra_id_38&gt;&#x27;, &#x27;&lt;extra_id_39&gt;&#x27;, &#x27;&lt;extra_id_40&gt;&#x27;, &#x27;&lt;extra_id_41&gt;&#x27;, &#x27;&lt;extra_id_42&gt;&#x27;, &#x27;&lt;extra_id_43&gt;&#x27;, &#x27;&lt;extra_id_44&gt;&#x27;, &#x27;&lt;extra_id_45&gt;&#x27;, &#x27;&lt;extra_id_46&gt;&#x27;, &#x27;&lt;extra_id_47&gt;&#x27;, &#x27;&lt;extra_id_48&gt;&#x27;, &#x27;&lt;extra_id_49&gt;&#x27;, &#x27;&lt;extra_id_50&gt;&#x27;, &#x27;&lt;extra_id_51&gt;&#x27;, &#x27;&lt;extra_id_52&gt;&#x27;, &#x27;&lt;extra_id_53&gt;&#x27;, &#x27;&lt;extra_id_54&gt;&#x27;, &#x27;&lt;extra_id_55&gt;&#x27;, &#x27;&lt;extra_id_56&gt;&#x27;, &#x27;&lt;extra_id_57&gt;&#x27;, &#x27;&lt;extra_id_58&gt;&#x27;, &#x27;&lt;extra_id_59&gt;&#x27;, &#x27;&lt;extra_id_60&gt;&#x27;, &#x27;&lt;extra_id_61&gt;&#x27;, &#x27;&lt;extra_id_62&gt;&#x27;, &#x27;&lt;extra_id_63&gt;&#x27;, &#x27;&lt;extra_id_64&gt;&#x27;, &#x27;&lt;extra_id_65&gt;&#x27;, &#x27;&lt;extra_id_66&gt;&#x27;, &#x27;&lt;extra_id_67&gt;&#x27;, &#x27;&lt;extra_id_68&gt;&#x27;, &#x27;&lt;extra_id_69&gt;&#x27;, &#x27;&lt;extra_id_70&gt;&#x27;, &#x27;&lt;extra_id_71&gt;&#x27;, &#x27;&lt;extra_id_72&gt;&#x27;, &#x27;&lt;extra_id_73&gt;&#x27;, &#x27;&lt;extra_id_74&gt;&#x27;, &#x27;&lt;extra_id_75&gt;&#x27;, &#x27;&lt;extra_id_76&gt;&#x27;, &#x27;&lt;extra_id_77&gt;&#x27;, &#x27;&lt;extra_id_78&gt;&#x27;, &#x27;&lt;extra_id_79&gt;&#x27;, &#x27;&lt;extra_id_80&gt;&#x27;, &#x27;&lt;extra_id_81&gt;&#x27;, &#x27;&lt;extra_id_82&gt;&#x27;, &#x27;&lt;extra_id_83&gt;&#x27;, &#x27;&lt;extra_id_84&gt;&#x27;, &#x27;&lt;extra_id_85&gt;&#x27;, &#x27;&lt;extra_id_86&gt;&#x27;, &#x27;&lt;extra_id_87&gt;&#x27;, &#x27;&lt;extra_id_88&gt;&#x27;, &#x27;&lt;extra_id_89&gt;&#x27;, &#x27;&lt;extra_id_90&gt;&#x27;, &#x27;&lt;extra_id_91&gt;&#x27;, &#x27;&lt;extra_id_92&gt;&#x27;, &#x27;&lt;extra_id_93&gt;&#x27;, &#x27;&lt;extra_id_94&gt;&#x27;, &#x27;&lt;extra_id_95&gt;&#x27;, &#x27;&lt;extra_id_96&gt;&#x27;, &#x27;&lt;extra_id_97&gt;&#x27;, &#x27;&lt;extra_id_98&gt;&#x27;, &#x27;&lt;extra_id_99&gt;&#x27;]})),\n",
       "                   n_iter=30, n_jobs=1,\n",
       "                   param_distributions={&#x27;epsilon_cutoff&#x27;: [0.0003, 0.0006,\n",
       "                                                           0.0009, 0],\n",
       "                                        &#x27;max_new_tokens&#x27;: [200],\n",
       "                                        &#x27;no_repeat_ngram_size&#x27;: [0, 2, 3, 4],\n",
       "                                        &#x27;num_beams&#x27;: [3],\n",
       "                                        &#x27;repetition_penalty&#x27;: [0.3, 0.7, 1.0],\n",
       "                                        &#x27;temperature&#x27;: [1]},\n",
       "                   random_state=42, scoring=make_scorer(my_metric), verbose=1)</pre><b>In a Jupyter environment, please rerun this cell to show the HTML representation or trust the notebook. <br />On GitHub, the HTML representation is unable to render, please try loading this page with nbviewer.org.</b></div><div class=\"sk-container\" hidden><div class=\"sk-item sk-dashed-wrapped\"><div class=\"sk-label-container\"><div class=\"sk-label sk-toggleable\"><input class=\"sk-toggleable__control sk-hidden--visually\" id=\"sk-estimator-id-1\" type=\"checkbox\" ><label for=\"sk-estimator-id-1\" class=\"sk-toggleable__label sk-toggleable__label-arrow\">RandomizedSearchCV</label><div class=\"sk-toggleable__content\"><pre>RandomizedSearchCV(cv=5,\n",
       "                   estimator=EstimatorWrapper(batch_size=32, device=&#x27;mps&#x27;,\n",
       "                                              model=T5ForConditionalGeneration(\n",
       "  (shared): Embedding(32128, 512)\n",
       "  (encoder): T5Stack(\n",
       "    (embed_tokens): Embedding(32128, 512)\n",
       "    (block): ModuleList(\n",
       "      (0): T5Block(\n",
       "        (layer): ModuleList(\n",
       "          (0): T5LayerSelfAttention(\n",
       "            (SelfAttention): T5Attention(\n",
       "              (q): Linear(in_features=512, out_features=384, bias=False...\n",
       "                                              tokenizer=T5TokenizerFast(name_or_path=&#x27;google/flan-t5-small&#x27;, vocab_size=32100, model_max_length=512, is_fast=True, padding_side=&#x27;right&#x27;, truncation_side=&#x27;right&#x27;, special_tokens={&#x27;eos_token&#x27;: &#x27;&lt;/s&gt;&#x27;, &#x27;unk_token&#x27;: &#x27;&lt;unk&gt;&#x27;, &#x27;pad_token&#x27;: &#x27;&lt;pad&gt;&#x27;, &#x27;additional_special_tokens&#x27;: [&#x27;&lt;extra_id_0&gt;&#x27;, &#x27;&lt;extra_id_1&gt;&#x27;, &#x27;&lt;extra_id_2&gt;&#x27;, &#x27;&lt;extra_id_3&gt;&#x27;, &#x27;&lt;extra_id_4&gt;&#x27;, &#x27;&lt;extra_id_5&gt;&#x27;, &#x27;&lt;extra_id_6&gt;&#x27;, &#x27;&lt;extra_id_7&gt;&#x27;, &#x27;&lt;extra_id_8&gt;&#x27;, &#x27;&lt;extra_id_9&gt;&#x27;, &#x27;&lt;extra_id_10&gt;&#x27;, &#x27;&lt;extra_id_11&gt;&#x27;, &#x27;&lt;extra_id_12&gt;&#x27;, &#x27;&lt;extra_id_13&gt;&#x27;, &#x27;&lt;extra_id_14&gt;&#x27;, &#x27;&lt;extra_id_15&gt;&#x27;, &#x27;&lt;extra_id_16&gt;&#x27;, &#x27;&lt;extra_id_17&gt;&#x27;, &#x27;&lt;extra_id_18&gt;&#x27;, &#x27;&lt;extra_id_19&gt;&#x27;, &#x27;&lt;extra_id_20&gt;&#x27;, &#x27;&lt;extra_id_21&gt;&#x27;, &#x27;&lt;extra_id_22&gt;&#x27;, &#x27;&lt;extra_id_23&gt;&#x27;, &#x27;&lt;extra_id_24&gt;&#x27;, &#x27;&lt;extra_id_25&gt;&#x27;, &#x27;&lt;extra_id_26&gt;&#x27;, &#x27;&lt;extra_id_27&gt;&#x27;, &#x27;&lt;extra_id_28&gt;&#x27;, &#x27;&lt;extra_id_29&gt;&#x27;, &#x27;&lt;extra_id_30&gt;&#x27;, &#x27;&lt;extra_id_31&gt;&#x27;, &#x27;&lt;extra_id_32&gt;&#x27;, &#x27;&lt;extra_id_33&gt;&#x27;, &#x27;&lt;extra_id_34&gt;&#x27;, &#x27;&lt;extra_id_35&gt;&#x27;, &#x27;&lt;extra_id_36&gt;&#x27;, &#x27;&lt;extra_id_37&gt;&#x27;, &#x27;&lt;extra_id_38&gt;&#x27;, &#x27;&lt;extra_id_39&gt;&#x27;, &#x27;&lt;extra_id_40&gt;&#x27;, &#x27;&lt;extra_id_41&gt;&#x27;, &#x27;&lt;extra_id_42&gt;&#x27;, &#x27;&lt;extra_id_43&gt;&#x27;, &#x27;&lt;extra_id_44&gt;&#x27;, &#x27;&lt;extra_id_45&gt;&#x27;, &#x27;&lt;extra_id_46&gt;&#x27;, &#x27;&lt;extra_id_47&gt;&#x27;, &#x27;&lt;extra_id_48&gt;&#x27;, &#x27;&lt;extra_id_49&gt;&#x27;, &#x27;&lt;extra_id_50&gt;&#x27;, &#x27;&lt;extra_id_51&gt;&#x27;, &#x27;&lt;extra_id_52&gt;&#x27;, &#x27;&lt;extra_id_53&gt;&#x27;, &#x27;&lt;extra_id_54&gt;&#x27;, &#x27;&lt;extra_id_55&gt;&#x27;, &#x27;&lt;extra_id_56&gt;&#x27;, &#x27;&lt;extra_id_57&gt;&#x27;, &#x27;&lt;extra_id_58&gt;&#x27;, &#x27;&lt;extra_id_59&gt;&#x27;, &#x27;&lt;extra_id_60&gt;&#x27;, &#x27;&lt;extra_id_61&gt;&#x27;, &#x27;&lt;extra_id_62&gt;&#x27;, &#x27;&lt;extra_id_63&gt;&#x27;, &#x27;&lt;extra_id_64&gt;&#x27;, &#x27;&lt;extra_id_65&gt;&#x27;, &#x27;&lt;extra_id_66&gt;&#x27;, &#x27;&lt;extra_id_67&gt;&#x27;, &#x27;&lt;extra_id_68&gt;&#x27;, &#x27;&lt;extra_id_69&gt;&#x27;, &#x27;&lt;extra_id_70&gt;&#x27;, &#x27;&lt;extra_id_71&gt;&#x27;, &#x27;&lt;extra_id_72&gt;&#x27;, &#x27;&lt;extra_id_73&gt;&#x27;, &#x27;&lt;extra_id_74&gt;&#x27;, &#x27;&lt;extra_id_75&gt;&#x27;, &#x27;&lt;extra_id_76&gt;&#x27;, &#x27;&lt;extra_id_77&gt;&#x27;, &#x27;&lt;extra_id_78&gt;&#x27;, &#x27;&lt;extra_id_79&gt;&#x27;, &#x27;&lt;extra_id_80&gt;&#x27;, &#x27;&lt;extra_id_81&gt;&#x27;, &#x27;&lt;extra_id_82&gt;&#x27;, &#x27;&lt;extra_id_83&gt;&#x27;, &#x27;&lt;extra_id_84&gt;&#x27;, &#x27;&lt;extra_id_85&gt;&#x27;, &#x27;&lt;extra_id_86&gt;&#x27;, &#x27;&lt;extra_id_87&gt;&#x27;, &#x27;&lt;extra_id_88&gt;&#x27;, &#x27;&lt;extra_id_89&gt;&#x27;, &#x27;&lt;extra_id_90&gt;&#x27;, &#x27;&lt;extra_id_91&gt;&#x27;, &#x27;&lt;extra_id_92&gt;&#x27;, &#x27;&lt;extra_id_93&gt;&#x27;, &#x27;&lt;extra_id_94&gt;&#x27;, &#x27;&lt;extra_id_95&gt;&#x27;, &#x27;&lt;extra_id_96&gt;&#x27;, &#x27;&lt;extra_id_97&gt;&#x27;, &#x27;&lt;extra_id_98&gt;&#x27;, &#x27;&lt;extra_id_99&gt;&#x27;]})),\n",
       "                   n_iter=30, n_jobs=1,\n",
       "                   param_distributions={&#x27;epsilon_cutoff&#x27;: [0.0003, 0.0006,\n",
       "                                                           0.0009, 0],\n",
       "                                        &#x27;max_new_tokens&#x27;: [200],\n",
       "                                        &#x27;no_repeat_ngram_size&#x27;: [0, 2, 3, 4],\n",
       "                                        &#x27;num_beams&#x27;: [3],\n",
       "                                        &#x27;repetition_penalty&#x27;: [0.3, 0.7, 1.0],\n",
       "                                        &#x27;temperature&#x27;: [1]},\n",
       "                   random_state=42, scoring=make_scorer(my_metric), verbose=1)</pre></div></div></div><div class=\"sk-parallel\"><div class=\"sk-parallel-item\"><div class=\"sk-item\"><div class=\"sk-label-container\"><div class=\"sk-label sk-toggleable\"><input class=\"sk-toggleable__control sk-hidden--visually\" id=\"sk-estimator-id-2\" type=\"checkbox\" ><label for=\"sk-estimator-id-2\" class=\"sk-toggleable__label sk-toggleable__label-arrow\">estimator: EstimatorWrapper</label><div class=\"sk-toggleable__content\"><pre>EstimatorWrapper(batch_size=32, device=&#x27;mps&#x27;,\n",
       "                 model=T5ForConditionalGeneration(\n",
       "  (shared): Embedding(32128, 512)\n",
       "  (encoder): T5Stack(\n",
       "    (embed_tokens): Embedding(32128, 512)\n",
       "    (block): ModuleList(\n",
       "      (0): T5Block(\n",
       "        (layer): ModuleList(\n",
       "          (0): T5LayerSelfAttention(\n",
       "            (SelfAttention): T5Attention(\n",
       "              (q): Linear(in_features=512, out_features=384, bias=False)\n",
       "              (k): Linear(in_features=512, out_fe...\n",
       "                 tokenizer=T5TokenizerFast(name_or_path=&#x27;google/flan-t5-small&#x27;, vocab_size=32100, model_max_length=512, is_fast=True, padding_side=&#x27;right&#x27;, truncation_side=&#x27;right&#x27;, special_tokens={&#x27;eos_token&#x27;: &#x27;&lt;/s&gt;&#x27;, &#x27;unk_token&#x27;: &#x27;&lt;unk&gt;&#x27;, &#x27;pad_token&#x27;: &#x27;&lt;pad&gt;&#x27;, &#x27;additional_special_tokens&#x27;: [&#x27;&lt;extra_id_0&gt;&#x27;, &#x27;&lt;extra_id_1&gt;&#x27;, &#x27;&lt;extra_id_2&gt;&#x27;, &#x27;&lt;extra_id_3&gt;&#x27;, &#x27;&lt;extra_id_4&gt;&#x27;, &#x27;&lt;extra_id_5&gt;&#x27;, &#x27;&lt;extra_id_6&gt;&#x27;, &#x27;&lt;extra_id_7&gt;&#x27;, &#x27;&lt;extra_id_8&gt;&#x27;, &#x27;&lt;extra_id_9&gt;&#x27;, &#x27;&lt;extra_id_10&gt;&#x27;, &#x27;&lt;extra_id_11&gt;&#x27;, &#x27;&lt;extra_id_12&gt;&#x27;, &#x27;&lt;extra_id_13&gt;&#x27;, &#x27;&lt;extra_id_14&gt;&#x27;, &#x27;&lt;extra_id_15&gt;&#x27;, &#x27;&lt;extra_id_16&gt;&#x27;, &#x27;&lt;extra_id_17&gt;&#x27;, &#x27;&lt;extra_id_18&gt;&#x27;, &#x27;&lt;extra_id_19&gt;&#x27;, &#x27;&lt;extra_id_20&gt;&#x27;, &#x27;&lt;extra_id_21&gt;&#x27;, &#x27;&lt;extra_id_22&gt;&#x27;, &#x27;&lt;extra_id_23&gt;&#x27;, &#x27;&lt;extra_id_24&gt;&#x27;, &#x27;&lt;extra_id_25&gt;&#x27;, &#x27;&lt;extra_id_26&gt;&#x27;, &#x27;&lt;extra_id_27&gt;&#x27;, &#x27;&lt;extra_id_28&gt;&#x27;, &#x27;&lt;extra_id_29&gt;&#x27;, &#x27;&lt;extra_id_30&gt;&#x27;, &#x27;&lt;extra_id_31&gt;&#x27;, &#x27;&lt;extra_id_32&gt;&#x27;, &#x27;&lt;extra_id_33&gt;&#x27;, &#x27;&lt;extra_id_34&gt;&#x27;, &#x27;&lt;extra_id_35&gt;&#x27;, &#x27;&lt;extra_id_36&gt;&#x27;, &#x27;&lt;extra_id_37&gt;&#x27;, &#x27;&lt;extra_id_38&gt;&#x27;, &#x27;&lt;extra_id_39&gt;&#x27;, &#x27;&lt;extra_id_40&gt;&#x27;, &#x27;&lt;extra_id_41&gt;&#x27;, &#x27;&lt;extra_id_42&gt;&#x27;, &#x27;&lt;extra_id_43&gt;&#x27;, &#x27;&lt;extra_id_44&gt;&#x27;, &#x27;&lt;extra_id_45&gt;&#x27;, &#x27;&lt;extra_id_46&gt;&#x27;, &#x27;&lt;extra_id_47&gt;&#x27;, &#x27;&lt;extra_id_48&gt;&#x27;, &#x27;&lt;extra_id_49&gt;&#x27;, &#x27;&lt;extra_id_50&gt;&#x27;, &#x27;&lt;extra_id_51&gt;&#x27;, &#x27;&lt;extra_id_52&gt;&#x27;, &#x27;&lt;extra_id_53&gt;&#x27;, &#x27;&lt;extra_id_54&gt;&#x27;, &#x27;&lt;extra_id_55&gt;&#x27;, &#x27;&lt;extra_id_56&gt;&#x27;, &#x27;&lt;extra_id_57&gt;&#x27;, &#x27;&lt;extra_id_58&gt;&#x27;, &#x27;&lt;extra_id_59&gt;&#x27;, &#x27;&lt;extra_id_60&gt;&#x27;, &#x27;&lt;extra_id_61&gt;&#x27;, &#x27;&lt;extra_id_62&gt;&#x27;, &#x27;&lt;extra_id_63&gt;&#x27;, &#x27;&lt;extra_id_64&gt;&#x27;, &#x27;&lt;extra_id_65&gt;&#x27;, &#x27;&lt;extra_id_66&gt;&#x27;, &#x27;&lt;extra_id_67&gt;&#x27;, &#x27;&lt;extra_id_68&gt;&#x27;, &#x27;&lt;extra_id_69&gt;&#x27;, &#x27;&lt;extra_id_70&gt;&#x27;, &#x27;&lt;extra_id_71&gt;&#x27;, &#x27;&lt;extra_id_72&gt;&#x27;, &#x27;&lt;extra_id_73&gt;&#x27;, &#x27;&lt;extra_id_74&gt;&#x27;, &#x27;&lt;extra_id_75&gt;&#x27;, &#x27;&lt;extra_id_76&gt;&#x27;, &#x27;&lt;extra_id_77&gt;&#x27;, &#x27;&lt;extra_id_78&gt;&#x27;, &#x27;&lt;extra_id_79&gt;&#x27;, &#x27;&lt;extra_id_80&gt;&#x27;, &#x27;&lt;extra_id_81&gt;&#x27;, &#x27;&lt;extra_id_82&gt;&#x27;, &#x27;&lt;extra_id_83&gt;&#x27;, &#x27;&lt;extra_id_84&gt;&#x27;, &#x27;&lt;extra_id_85&gt;&#x27;, &#x27;&lt;extra_id_86&gt;&#x27;, &#x27;&lt;extra_id_87&gt;&#x27;, &#x27;&lt;extra_id_88&gt;&#x27;, &#x27;&lt;extra_id_89&gt;&#x27;, &#x27;&lt;extra_id_90&gt;&#x27;, &#x27;&lt;extra_id_91&gt;&#x27;, &#x27;&lt;extra_id_92&gt;&#x27;, &#x27;&lt;extra_id_93&gt;&#x27;, &#x27;&lt;extra_id_94&gt;&#x27;, &#x27;&lt;extra_id_95&gt;&#x27;, &#x27;&lt;extra_id_96&gt;&#x27;, &#x27;&lt;extra_id_97&gt;&#x27;, &#x27;&lt;extra_id_98&gt;&#x27;, &#x27;&lt;extra_id_99&gt;&#x27;]}))</pre></div></div></div><div class=\"sk-serial\"><div class=\"sk-item\"><div class=\"sk-estimator sk-toggleable\"><input class=\"sk-toggleable__control sk-hidden--visually\" id=\"sk-estimator-id-3\" type=\"checkbox\" ><label for=\"sk-estimator-id-3\" class=\"sk-toggleable__label sk-toggleable__label-arrow\">EstimatorWrapper</label><div class=\"sk-toggleable__content\"><pre>EstimatorWrapper(batch_size=32, device=&#x27;mps&#x27;,\n",
       "                 model=T5ForConditionalGeneration(\n",
       "  (shared): Embedding(32128, 512)\n",
       "  (encoder): T5Stack(\n",
       "    (embed_tokens): Embedding(32128, 512)\n",
       "    (block): ModuleList(\n",
       "      (0): T5Block(\n",
       "        (layer): ModuleList(\n",
       "          (0): T5LayerSelfAttention(\n",
       "            (SelfAttention): T5Attention(\n",
       "              (q): Linear(in_features=512, out_features=384, bias=False)\n",
       "              (k): Linear(in_features=512, out_fe...\n",
       "                 tokenizer=T5TokenizerFast(name_or_path=&#x27;google/flan-t5-small&#x27;, vocab_size=32100, model_max_length=512, is_fast=True, padding_side=&#x27;right&#x27;, truncation_side=&#x27;right&#x27;, special_tokens={&#x27;eos_token&#x27;: &#x27;&lt;/s&gt;&#x27;, &#x27;unk_token&#x27;: &#x27;&lt;unk&gt;&#x27;, &#x27;pad_token&#x27;: &#x27;&lt;pad&gt;&#x27;, &#x27;additional_special_tokens&#x27;: [&#x27;&lt;extra_id_0&gt;&#x27;, &#x27;&lt;extra_id_1&gt;&#x27;, &#x27;&lt;extra_id_2&gt;&#x27;, &#x27;&lt;extra_id_3&gt;&#x27;, &#x27;&lt;extra_id_4&gt;&#x27;, &#x27;&lt;extra_id_5&gt;&#x27;, &#x27;&lt;extra_id_6&gt;&#x27;, &#x27;&lt;extra_id_7&gt;&#x27;, &#x27;&lt;extra_id_8&gt;&#x27;, &#x27;&lt;extra_id_9&gt;&#x27;, &#x27;&lt;extra_id_10&gt;&#x27;, &#x27;&lt;extra_id_11&gt;&#x27;, &#x27;&lt;extra_id_12&gt;&#x27;, &#x27;&lt;extra_id_13&gt;&#x27;, &#x27;&lt;extra_id_14&gt;&#x27;, &#x27;&lt;extra_id_15&gt;&#x27;, &#x27;&lt;extra_id_16&gt;&#x27;, &#x27;&lt;extra_id_17&gt;&#x27;, &#x27;&lt;extra_id_18&gt;&#x27;, &#x27;&lt;extra_id_19&gt;&#x27;, &#x27;&lt;extra_id_20&gt;&#x27;, &#x27;&lt;extra_id_21&gt;&#x27;, &#x27;&lt;extra_id_22&gt;&#x27;, &#x27;&lt;extra_id_23&gt;&#x27;, &#x27;&lt;extra_id_24&gt;&#x27;, &#x27;&lt;extra_id_25&gt;&#x27;, &#x27;&lt;extra_id_26&gt;&#x27;, &#x27;&lt;extra_id_27&gt;&#x27;, &#x27;&lt;extra_id_28&gt;&#x27;, &#x27;&lt;extra_id_29&gt;&#x27;, &#x27;&lt;extra_id_30&gt;&#x27;, &#x27;&lt;extra_id_31&gt;&#x27;, &#x27;&lt;extra_id_32&gt;&#x27;, &#x27;&lt;extra_id_33&gt;&#x27;, &#x27;&lt;extra_id_34&gt;&#x27;, &#x27;&lt;extra_id_35&gt;&#x27;, &#x27;&lt;extra_id_36&gt;&#x27;, &#x27;&lt;extra_id_37&gt;&#x27;, &#x27;&lt;extra_id_38&gt;&#x27;, &#x27;&lt;extra_id_39&gt;&#x27;, &#x27;&lt;extra_id_40&gt;&#x27;, &#x27;&lt;extra_id_41&gt;&#x27;, &#x27;&lt;extra_id_42&gt;&#x27;, &#x27;&lt;extra_id_43&gt;&#x27;, &#x27;&lt;extra_id_44&gt;&#x27;, &#x27;&lt;extra_id_45&gt;&#x27;, &#x27;&lt;extra_id_46&gt;&#x27;, &#x27;&lt;extra_id_47&gt;&#x27;, &#x27;&lt;extra_id_48&gt;&#x27;, &#x27;&lt;extra_id_49&gt;&#x27;, &#x27;&lt;extra_id_50&gt;&#x27;, &#x27;&lt;extra_id_51&gt;&#x27;, &#x27;&lt;extra_id_52&gt;&#x27;, &#x27;&lt;extra_id_53&gt;&#x27;, &#x27;&lt;extra_id_54&gt;&#x27;, &#x27;&lt;extra_id_55&gt;&#x27;, &#x27;&lt;extra_id_56&gt;&#x27;, &#x27;&lt;extra_id_57&gt;&#x27;, &#x27;&lt;extra_id_58&gt;&#x27;, &#x27;&lt;extra_id_59&gt;&#x27;, &#x27;&lt;extra_id_60&gt;&#x27;, &#x27;&lt;extra_id_61&gt;&#x27;, &#x27;&lt;extra_id_62&gt;&#x27;, &#x27;&lt;extra_id_63&gt;&#x27;, &#x27;&lt;extra_id_64&gt;&#x27;, &#x27;&lt;extra_id_65&gt;&#x27;, &#x27;&lt;extra_id_66&gt;&#x27;, &#x27;&lt;extra_id_67&gt;&#x27;, &#x27;&lt;extra_id_68&gt;&#x27;, &#x27;&lt;extra_id_69&gt;&#x27;, &#x27;&lt;extra_id_70&gt;&#x27;, &#x27;&lt;extra_id_71&gt;&#x27;, &#x27;&lt;extra_id_72&gt;&#x27;, &#x27;&lt;extra_id_73&gt;&#x27;, &#x27;&lt;extra_id_74&gt;&#x27;, &#x27;&lt;extra_id_75&gt;&#x27;, &#x27;&lt;extra_id_76&gt;&#x27;, &#x27;&lt;extra_id_77&gt;&#x27;, &#x27;&lt;extra_id_78&gt;&#x27;, &#x27;&lt;extra_id_79&gt;&#x27;, &#x27;&lt;extra_id_80&gt;&#x27;, &#x27;&lt;extra_id_81&gt;&#x27;, &#x27;&lt;extra_id_82&gt;&#x27;, &#x27;&lt;extra_id_83&gt;&#x27;, &#x27;&lt;extra_id_84&gt;&#x27;, &#x27;&lt;extra_id_85&gt;&#x27;, &#x27;&lt;extra_id_86&gt;&#x27;, &#x27;&lt;extra_id_87&gt;&#x27;, &#x27;&lt;extra_id_88&gt;&#x27;, &#x27;&lt;extra_id_89&gt;&#x27;, &#x27;&lt;extra_id_90&gt;&#x27;, &#x27;&lt;extra_id_91&gt;&#x27;, &#x27;&lt;extra_id_92&gt;&#x27;, &#x27;&lt;extra_id_93&gt;&#x27;, &#x27;&lt;extra_id_94&gt;&#x27;, &#x27;&lt;extra_id_95&gt;&#x27;, &#x27;&lt;extra_id_96&gt;&#x27;, &#x27;&lt;extra_id_97&gt;&#x27;, &#x27;&lt;extra_id_98&gt;&#x27;, &#x27;&lt;extra_id_99&gt;&#x27;]}))</pre></div></div></div></div></div></div></div></div></div></div>"
      ],
      "text/plain": [
       "RandomizedSearchCV(cv=5,\n",
       "                   estimator=EstimatorWrapper(batch_size=32, device='mps',\n",
       "                                              model=T5ForConditionalGeneration(\n",
       "  (shared): Embedding(32128, 512)\n",
       "  (encoder): T5Stack(\n",
       "    (embed_tokens): Embedding(32128, 512)\n",
       "    (block): ModuleList(\n",
       "      (0): T5Block(\n",
       "        (layer): ModuleList(\n",
       "          (0): T5LayerSelfAttention(\n",
       "            (SelfAttention): T5Attention(\n",
       "              (q): Linear(in_features=512, out_features=384, bias=False...\n",
       "                                              tokenizer=T5TokenizerFast(name_or_path='google/flan-t5-small', vocab_size=32100, model_max_length=512, is_fast=True, padding_side='right', truncation_side='right', special_tokens={'eos_token': '</s>', 'unk_token': '<unk>', 'pad_token': '<pad>', 'additional_special_tokens': ['<extra_id_0>', '<extra_id_1>', '<extra_id_2>', '<extra_id_3>', '<extra_id_4>', '<extra_id_5>', '<extra_id_6>', '<extra_id_7>', '<extra_id_8>', '<extra_id_9>', '<extra_id_10>', '<extra_id_11>', '<extra_id_12>', '<extra_id_13>', '<extra_id_14>', '<extra_id_15>', '<extra_id_16>', '<extra_id_17>', '<extra_id_18>', '<extra_id_19>', '<extra_id_20>', '<extra_id_21>', '<extra_id_22>', '<extra_id_23>', '<extra_id_24>', '<extra_id_25>', '<extra_id_26>', '<extra_id_27>', '<extra_id_28>', '<extra_id_29>', '<extra_id_30>', '<extra_id_31>', '<extra_id_32>', '<extra_id_33>', '<extra_id_34>', '<extra_id_35>', '<extra_id_36>', '<extra_id_37>', '<extra_id_38>', '<extra_id_39>', '<extra_id_40>', '<extra_id_41>', '<extra_id_42>', '<extra_id_43>', '<extra_id_44>', '<extra_id_45>', '<extra_id_46>', '<extra_id_47>', '<extra_id_48>', '<extra_id_49>', '<extra_id_50>', '<extra_id_51>', '<extra_id_52>', '<extra_id_53>', '<extra_id_54>', '<extra_id_55>', '<extra_id_56>', '<extra_id_57>', '<extra_id_58>', '<extra_id_59>', '<extra_id_60>', '<extra_id_61>', '<extra_id_62>', '<extra_id_63>', '<extra_id_64>', '<extra_id_65>', '<extra_id_66>', '<extra_id_67>', '<extra_id_68>', '<extra_id_69>', '<extra_id_70>', '<extra_id_71>', '<extra_id_72>', '<extra_id_73>', '<extra_id_74>', '<extra_id_75>', '<extra_id_76>', '<extra_id_77>', '<extra_id_78>', '<extra_id_79>', '<extra_id_80>', '<extra_id_81>', '<extra_id_82>', '<extra_id_83>', '<extra_id_84>', '<extra_id_85>', '<extra_id_86>', '<extra_id_87>', '<extra_id_88>', '<extra_id_89>', '<extra_id_90>', '<extra_id_91>', '<extra_id_92>', '<extra_id_93>', '<extra_id_94>', '<extra_id_95>', '<extra_id_96>', '<extra_id_97>', '<extra_id_98>', '<extra_id_99>']})),\n",
       "                   n_iter=30, n_jobs=1,\n",
       "                   param_distributions={'epsilon_cutoff': [0.0003, 0.0006,\n",
       "                                                           0.0009, 0],\n",
       "                                        'max_new_tokens': [200],\n",
       "                                        'no_repeat_ngram_size': [0, 2, 3, 4],\n",
       "                                        'num_beams': [3],\n",
       "                                        'repetition_penalty': [0.3, 0.7, 1.0],\n",
       "                                        'temperature': [1]},\n",
       "                   random_state=42, scoring=make_scorer(my_metric), verbose=1)"
      ]
     },
     "execution_count": 14,
     "metadata": {},
     "output_type": "execute_result"
    }
   ],
   "source": [
    "clf.fit(X=samples_to_tune_on[\"instruction\"], y=samples_to_tune_on[\"output\"])"
   ]
  },
  {
   "cell_type": "code",
   "execution_count": 16,
   "id": "fc67fb91",
   "metadata": {},
   "outputs": [],
   "source": [
    "model_output_after_tuning, latency = infer_batches(\n",
    "    model=model,\n",
    "    tokenizer=tokenizer,\n",
    "    device=device,\n",
    "    model_inputs=samples_to_tune_on[\"instruction\"],\n",
    "    tokenizer_encoding_kwargs=tokenizer_encoding_kwargs,\n",
    "    generation_kwargs=clf.best_params_,\n",
    "    batch_size=32,\n",
    ")"
   ]
  },
  {
   "cell_type": "code",
   "execution_count": 17,
   "id": "c3d08442",
   "metadata": {},
   "outputs": [
    {
     "data": {
      "text/plain": [
       "0.013292305726151015"
      ]
     },
     "execution_count": 17,
     "metadata": {},
     "output_type": "execute_result"
    }
   ],
   "source": [
    "my_metric(y_true=samples_to_tune_on[\"output\"], y_pred=model_output_before_tuning)"
   ]
  },
  {
   "cell_type": "code",
   "execution_count": 18,
   "id": "db2b5b40",
   "metadata": {
    "scrolled": true
   },
   "outputs": [
    {
     "data": {
      "text/plain": [
       "0.03367519423588454"
      ]
     },
     "execution_count": 18,
     "metadata": {},
     "output_type": "execute_result"
    }
   ],
   "source": [
    "my_metric(y_true=samples_to_tune_on[\"output\"], y_pred=model_output_after_tuning)"
   ]
  },
  {
   "cell_type": "code",
   "execution_count": 19,
   "id": "d4f9b201",
   "metadata": {},
   "outputs": [
    {
     "data": {
      "text/plain": [
       "{'temperature': 1,\n",
       " 'repetition_penalty': 0.7,\n",
       " 'num_beams': 3,\n",
       " 'no_repeat_ngram_size': 4,\n",
       " 'max_new_tokens': 200,\n",
       " 'epsilon_cutoff': 0}"
      ]
     },
     "execution_count": 19,
     "metadata": {},
     "output_type": "execute_result"
    }
   ],
   "source": [
    "clf.best_params_"
   ]
  },
  {
   "cell_type": "code",
   "execution_count": 20,
   "id": "bf8c09f5",
   "metadata": {},
   "outputs": [
    {
     "data": {
      "text/plain": [
       "['water is a source of a fungus and fungi that can survive for long without water and fungus that can live for a long time.',\n",
       " \"Alice's parents have three daughters: Amy, Jessy, and what's Alice's mom's name?\",\n",
       " 'the United Nations',\n",
       " 'polygon',\n",
       " 'tv series vs. st. john s s tv vs st s n s r n tv',\n",
       " 'samuel edwards',\n",
       " 'samuel edwards',\n",
       " 'the sun rises',\n",
       " 'irrational adolescent adiolescence adilescence a dilescent dilad adlescent blunder ad ludicrous adalescence adicional adriolescent',\n",
       " 'henry iii',\n",
       " 'samuel edwards',\n",
       " 'he was a saxophonist',\n",
       " 'underwriting',\n",
       " 'andromeda',\n",
       " \"''The Lumières' ''\",\n",
       " '1903–03–03 and 1904–03–04 and 1903–04–04 and 1906–04–03 and 1906–07–04 and 1911–04–07 and 1911–07–19 and 1911–1919–19 and 1912–1912–1914 and 1911–14–1914–1915–1915 and 1911–15–1914, 1911–1915, 1915–1918, 1915, 1912–1815, 1921–1918 and 1911–1819–1918–1921–1921, 1911–1818, 1911–21–1919, 1911–15, 1911–12, 1911–14, 1912, 1921, 1914–15, 1914–14, 1914–18, 1914–1919 and 1914–14–14–18–18–19–19–14–15–18–15–15–14–17–19–18–',\n",
       " 'no',\n",
       " 'Sunshine Recession Sunshine Recession may refer to:',\n",
       " 'Dutch franc',\n",
       " 'he is the founder of House Karstark, a company based in London, England, based in the city of London. During the series, a song of Ice and Fire is based on the novel of the same name by the author of the novel, \"A Song of Ice & Fire\", which is a sequel to the novel \"A Song in Ice and Fire\", based on a novel by the author.',\n",
       " 'adolescence',\n",
       " 'hot water',\n",
       " 'a saskatchewan s saada s aad s d aaads ss ad a d d e a e e d o a a o e o o s o n o r o d n a r a n e n s e s n n r n t a t e t o t t s t n d t r s c a c d c n c e c c t c r c s r e r t d r r d b a b c b d ',\n",
       " 'LAPR LAPR may refer to:',\n",
       " 'a tasmanian taasmania taesmania sasmanias tai saa sai naas saata aias aaa aaia ahia naiaa iaaah iaiah aahhiaahaahiiahaiia iiiaasiahi iiasiiaehiaesiaeiaeeseaessaesassaiae ii aaataa niiii niaaiiieiastaa eii tahtaaaasaas',\n",
       " 'saxophonists and acoustic guitars',\n",
       " 'george w. bush',\n",
       " 'four',\n",
       " 'kite',\n",
       " 'investment banking',\n",
       " 'i m n n i n t i t n s i s t s n m t t m s s o t o n o s m o o m m i i o r i r n r t r s r m r o a r a s a n a t a m a a i a o d n d i d a d s d t d d r d m d e s e t e d o e r e n e m e e a e i e o i',\n",
       " 'albatross',\n",
       " 'Research Collaboratory for Structural Bioinformatics Protein Data',\n",
       " 'johnny winslow',\n",
       " 'a film made in the state of georgia',\n",
       " 'a hammer, hammer or hammer hammer',\n",
       " 'apple',\n",
       " 'a dog is a dog that eats a lot of food.',\n",
       " 'Place the flowers in a vase and place them in the vase.',\n",
       " 'DNA annotation',\n",
       " 'samuel edwards',\n",
       " 'share capital',\n",
       " '1.4 billion yuan a uuu auu yuu uu ouu tuu saan saada sana sasada, a tasmanian taasmania taan aan uuta aan, aaas aanasaan, and aasanas sananassaan.',\n",
       " 'los angeles olympics',\n",
       " 'Tomb of Sand was translated from Hindi to English',\n",
       " 'a total of a combined total of 256 a.k.a. and a synapse of 256.0 a.s. and 256.2 a.a. a.e. 256.3 a.s. a 256.4 a. s. s a 512.3 s.a.',\n",
       " 'a flammable object is exposed to a fire source or extreme heat',\n",
       " 'the Jets were a team of the New York Giants and New York Jets.',\n",
       " 'san antonio saskatchewan',\n",
       " 'one thousand nine hundred and ninety nine',\n",
       " 'michael edwards',\n",
       " 'tequila',\n",
       " 'Place ice cubes in a large bowl and add ice cream. Add ice cream and ice cream to the bowl and mix. Add the ice cream mixture to the bowl. Add the cream mixture and mix until the cream mixture is melted.',\n",
       " 'san antonio',\n",
       " 'bass guitar',\n",
       " 'GDP',\n",
       " 'adolescence and a drool ad a roose ad. a ad and ad are two types of ad, ad is a sex ad of a lone ad in a b ad with a c ad or a ed. b b c b d c c d d e d o d s e o s o e e s s d n e n s n o r o n n r n d r e r s r r d l e l o o c e c o l n ',\n",
       " 'Mormons are a group of Mormons who are ordained as a sacramento of the Evangelical Church of the United States of America. Mormons are the members of a congregation of the Church of Jesus Christ of Latter Day Saints.',\n",
       " 'Granny Smith (or Granny Smith) is a genus of fungi in the family Grannyae. The genus is a moth in the family Crambidae.',\n",
       " 'adam kool koad ko lu kou kaol o koda kok koya ku k o o ay kobo k ayayaaya ayyaada yay ayuda sassa sarah saman kohda o saad ayodaa yo ahudaayo yoludah yosudaha yoydahya yugodaho yaodahu yogodahaadahi yoodahai ya',\n",
       " 'samuel edwards',\n",
       " 'george w. bush',\n",
       " ' ',\n",
       " 'nanotubes',\n",
       " 'a secured loan',\n",
       " \"A child is a person who is not a parent. A child who is a parent is a child that is a member of a family. A child with a child who isn't a parent must have a child.\",\n",
       " 'george w. bush',\n",
       " 'fa cup',\n",
       " 'arctic and arctic oceans',\n",
       " 'no',\n",
       " \"edward esward s s eward ewards e e ward e d e w e f e h e l e s w s f s h s d s l s t s o s r s a s n s c s g s m s b s p s i s v s k s y s j s q s u s x s ch s  s's st s's '' s - s & s ; s, '' and '', ',, &, ;,\",\n",
       " 'shrubs and trees',\n",
       " \"men's singles grand slam tennis\",\n",
       " 'federal republic of the united states federal republic of u.s. federal republic of united states senate of united states of america s u. s. s s c s d c c d d e c e d f c f d s e f s f f e e u s o c o d o e o f o o u f u c u d a u a c a f a a s a e a o a d b a b b c b e b d u u b f b s b u e s t c t d ',\n",
       " 'pickleball',\n",
       " 'michael lincoln',\n",
       " 'roosevelt',\n",
       " 'elizabeth edwards',\n",
       " 'a series of adolescent sex and sex series based on a sex sex episode based on the sex of a teen whose sex is sex on the eve of sex.',\n",
       " 'st. louis san francisco san antonio saskatchewan',\n",
       " 'no',\n",
       " 'Pour the soap into a bowl and add the soap to the bowl. Add the soap and stir until the soap is dissolved. Pour the soap mixture into the bowl and add to the soap mixture. Add the mixture to the bowl and stir until it reaches the desired consistency. Pour the mixture into the soap mixture and stir until soap is completely dissolved and the soap is fully dissolved. Let the soap mixture sit for a few minutes and then add the soap mixture to the mixture.',\n",
       " 'elephants',\n",
       " 'no',\n",
       " 'southeastern southwestern southeastern region of the United States of America southeastern coastal southwestern coastal southeastern southern southeastern northern southeastern coast of the southern southwestern coast of the northern southwestern region of the southern coast of the northwestern coast of the western coast of the northeastern coast of the eastern coast of the southeastern United States. southeastern eastern southeastern western southeastern northeastern southeastern southeast southeastern northwestern coasts of the northern coast of the southeast coast of the southwest coast of the southwestern region of the western region of the northeast coast of the northwest coast of the west coast of the east coast of the region of the southeast.',\n",
       " 'saturday night osso bucolo oscuro sassy oscar oso o sydney os o luogo o roosevelt o tuesday night a saada o aad o edward o yelo ay o drool o otto o utto a aaado oo oh o hylo e o nasso ah ooo a hydo ao oy ooh aho om o mr oma omi omo o',\n",
       " \"Harry Potter and the Philosopher's Stone\",\n",
       " 'he was a philanthropist',\n",
       " 'Trans Tahoe Relay',\n",
       " '69,069, 69,694, 77,693, 87,694 and 77,469, and 87,469 and 77,369,477,487,387,478,378,447,377,277,578,278,587,287,547,247,569,577,747,778,787,777,777,769,7777,774,727,779,717,719,728,729,739,799,737,759,735,745,748,749 ',\n",
       " 'harry potter',\n",
       " 'Aberdeen',\n",
       " 'england premier league',\n",
       " 'predictive maintenance',\n",
       " 'Terraform () is a genus of fungi in the family Geometridae.',\n",
       " 'san francisco and santa barbara',\n",
       " 'house reeds',\n",
       " 'san francisco',\n",
       " 'cryptocurrency',\n",
       " 'Counter Reformation']"
      ]
     },
     "execution_count": 20,
     "metadata": {},
     "output_type": "execute_result"
    }
   ],
   "source": [
    "model_output_after_tuning"
   ]
  },
  {
   "cell_type": "code",
   "execution_count": 21,
   "id": "f96ccda9",
   "metadata": {},
   "outputs": [
    {
     "data": {
      "text/plain": [
       "['water is a source of heat and moisture.',\n",
       " \"Alice's parents have three daughters: Amy, Jessy, and what's Alice's parents have?\",\n",
       " 'the United Nations',\n",
       " 'polygon',\n",
       " 'tv series tv series tv series tv series tv series tv series tv series tv series tv series tv series tv series tv series tv series tv series tv series tv series tv series tv series tv series tv series tv series tv series tv series tv series tv series tv series tv series tv series tv series tv series tv series tv series tv series tv series tv series tv series tv series tv series tv series tv series tv series tv series tv series tv series tv series tv series tv series tv series tv series tv series',\n",
       " 'samuel wilson wilson wilson wilson wilson wilson wilson wilson wilson wilson wilson wilson wilson wilson wilson wilson wilson wilson wilson wilson wilson wilson wilson wilson wilson wilson wilson wilson wilson wilson wilson wilson wilson wilson wilson wilson wilson wilson wilson wilson wilson wilson wilson wilson wilson wilson wilson wilson w',\n",
       " 'helen helen helen helen helen helen helen helen helen helen helen helen helen helen helen helen helen helen helen helen helen helen helen helen helen helen helen helen helen helen helen helen helen helen helen helen helen helen helen helen helen helen helen helen helen helen helen helen helen helen',\n",
       " 'the sun rises to the surface of the earth and the sun rises to the surface of the earth and the sun rises to the surface of the earth and the sun rises to the surface of the earth and the sun rises to the surface of the earth and the sun rises to the surface of the earth and the sun rises to the surface of the earth and the sun rises to the surface of the earth and the sun rises to the surface of the earth and the sun rises to the surface of the earth and the sun rises to the surface of the earth and the sun rises to the surface of the earth and the sun rises to the surface of the earth and the sun rises to the surface of the earth and the sun rises to the surface of the earth and the sun rises to the surface of the earth and the sun rises to the surface of the earth and the sun rises to the surface of the earth and the sun',\n",
       " 'irresponsible irrational irrational irrational irrational irrational irrational irrational irrational irrational irrational irrational irrational irrational irrational irrational irrational irrational irrational irrational irrational irrational irrational irrational irrational irrational irrational irrational irrational irrational irrational irrational irrational irrational irrational irrational irrational irrational irrational i',\n",
       " 'henry iii',\n",
       " 'samuel wilson, jr., jr., jr., jr., jr., jr., jr., jr., jr., jr., jr., jr., jr., jr., jr., jr., jr., jr., jr., jr., jr., jr., jr., jr., jr., jr., jr., jr., jr., jr., jr., j',\n",
       " 'he was a member of the syd syd syd syd syd syd syd syd syd syd syd syd syd syd syd syd syd syd syd syd syd syd syd syd syd syd syd syd syd syd syd syd syd syd syd syd syd syd syd syd syd syd syd syd syd syd syd syd',\n",
       " 'underwriting is a form of writing that is written by a person or group of people. Underwriting is a form of writing that is written by a person or group of people. Underwriting is a form of writing that is written by a person or group of people. Underwriting is a form of writing that is written by a person or group of people. Underwriting is a form of writing that is written by a person or group of people. Underwriting is a form of writing that is written by a person or group of people. Underwriting is a form of writing that is written by a person or group of people. Underwriting is a form of writing that is written by a person or group of people. Underwriting is a form of writing that is written by a person or group of people. Underwriting is a form of writing that is written by a person or group of people.',\n",
       " 'andromeda sank andromeda sank andromeda sank andromeda sank andromeda sank andromeda sank andromeda sank andromeda sank andromeda sank andromeda sank andromeda sank andromeda sank andromeda sank andromeda sank andromeda sank andromeda sank andromeda sank andromeda sank andromeda sank andromeda sank andromeda sank andromeda sank andromeda sank andromeda sank andromeda sank andromeda sank andromeda sank andromeda sank andromeda',\n",
       " \"''The Lumières' ''\",\n",
       " '1903–1903 and 1903–1903 and 1903–1903 and 1903–1903 and 1903–1903 and 1903–1903 and 1903–1903 and 1903–1903 and 1903–1903 and 1903–1903 and 1903–1903 and 1903–1903 and 1903–1903 and 1903–1903 and 1903–1903 and 1903–1903 and 1903–1903 and 1903–1903 and 1903–1903–1903–1903–1903–1903–1903–1903–1903–1903–1903–1903–1903–1903–1903–1903–1903–1903–1903–1903–1903–1903–1903–1903–1903–1903–1903–1903–1903–1903–1903',\n",
       " 'lilies are a fungus that has been found to have been found to have been found to have been found to have been found to have been found to have been found to have been found to have been found to have been found to have been found to have been found to have been found to have been found to have been found to have been found to have been found to have been found to have been found to have been found to have been found to have been found to have been found to have been found to have been found to have been found to have been found to have been found to have been found to have been found to have been found to have been found to have been found to have been found to have been found to have been found to have been found to have been found to have been found to have been found to have been found to have been found to have been found to have been found to have been found to have been found to have been found to have',\n",
       " 'Sunshine Recession Sunshine Recession may refer to: Sunshine Recession may refer to: Sunshine Recession may refer to: Sunshine Recession may refer to: Sunshine Recession may refer to: Sunshine Recession may refer to: Sunshine Recession may refer to: Sunshine Recession may refer to: Sunshine Recession may refer to: Sunshine Recession may refer to: Sunshine Recession may refer to: Sunshine Recession may refer to: Sunshine Recession may refer to: Sunshine Recession may refer to: Sunshine Recession may refer to: Sunshine Recession may refer to: Sunshine Recession may refer to: Sunshine Recession may refer to: Sunshine Recession may refer to: Sunshine Recession may refer to: Sunshine Recession may refer to: Sunshine Recession may refer to: Sunshine Recession may refer to: Sunshine Recession may refer to: Sunshine Recession may refer to: Sunshine Recession may refer to: Sunshine Recession may refer to: Sunshine Recession may refer to: Sunshine',\n",
       " 'krona krona krona krona krona krona krona krona krona krona krona krona krona krona krona krona krona krona krona krona krona krona krona krona krona krona krona krona krona krona krona krona krona krona krona krona krona krona krona krona krona krona krona krona krona krona krona krona krona krona',\n",
       " 'he is the founder of House Karstark, which is based on the novel \"A Song of Ice and Fire\", which is based on the novel \"A Song of Ice and Fire\", which is based on the novel \"A Song of Ice and Fire\", which is based on the novel \"A Song of Ice and Fire\", which is based on the novel \"A Song of Ice and Fire\", which is based on the novel \"A Song of Ice and Fire\", which is based on the novel \"A Song of Ice and Fire\", which is based on the novel \"A Song of Ice and Fire\", which is based on the novel \"A Song of Ice and Fire\", which is based on the novel \"A Song of Ice and Fire\", which is based on the novel \"A Song of Ice and Fire\", which is based on the novel \"A Song of Ice and Fire\", which is based on the novel \"A',\n",
       " 'adolescence & adolescence & adolescence & adolescence & adolescence & adolescence & adolescence & adolescence & adolescence & adolescence & adolescence & adolescence & adolescence & adolescence & adolescence & adolescence & adolescence & adolescence & adolescence & adolescence & adolescence & adolescence & adolescence & adolescence & adolescence &',\n",
       " 'hot water - ohio - ohio - ohio - ohio - ohio - ohio - ohio - ohio - ohio - ohio - ohio - ohio - ohio - ohio - ohio - ohio - ohio - ohio - ohio - ohio - ohio - ohio - ohio - ohio - ohio - ohio - ohio - ohio -',\n",
       " 'a symphony of symphony of symphony of symphony of symphony of symphony of symphony of symphony of symphony of symphony of symphony of symphony of symphony of symphony of symphony of symphony of symphony of symphony of symphony of symphony of symphony of symphony of symphony of symphony of symphony of symphony of symphony of symphony of s',\n",
       " 'LAPR LAPR may refer to: LAPR may refer to: LAPR may refer to: LAPR may refer to: LAPR may refer to: LAPR may refer to: LAPR may refer to: LAPR may refer to: LAPR may refer to: LAPR may refer to: LAPR may refer to: LAPR may refer to: LAPR may refer to: LAPR may refer to: LAPR may refer to: LAPR may refer to: LAPR may refer to: LAPR may refer to: LAPR may refer to: LAPR may refer to: LAPR may refer to: LAPR may refer to: LAPR may refer to: LAPR may refer to: LAPR may refer to: LAPR may refer to: LAPR may refer to: LAPR may refer to: LAPR may refer to: LAPR may refer to: LAPR may refer to: LAPR may refer to: LAPR may refer to:',\n",
       " 'styrofoam styrofoam styrofoam styrofoam styrofoam styrofoam styrofoam styrofoam styrofoam styrofoam styrofoam styrofoam styrofoam styrofoam styrofoam styrofoam styrofoam styrofoam styrofoam styrofoam styrofoam styrofoam styrofoam styrofoam styrofoam',\n",
       " 'saxophonists saxophonists saxophonists saxophonists saxophonists saxophonists saxophonists saxophonists saxophonists saxophonists saxophonists saxophonists saxophonists saxophonists saxophonists saxophonists saxophonists saxophonists saxophonists saxophonists saxophonists saxophonists saxophonists saxophonists saxophonists',\n",
       " 'george w. w. w. w. w. w. w. w. w. w. w. w. w. w. w. w. w. w. w. w. w. w. w. w. w. w. w. w. w. w. w. w. w. w. w. w. w. w. w. w. w. w. w. w. w. w. w. w. w. w. w. w. w. w. w. w. w. w. w. w. w. w. w. w. w. w',\n",
       " 'four-time Grammy Award winner and ten-time Grammy Award winner. Bad Bunny has won three Grammy Awards and won three Grammy Awards and won three Grammy Awards. Bad Bunny has won three Grammy Awards and won three Grammy Awards. Bad Bunny has won three Grammy Awards and won three Grammy Awards. Bad Bunny has won three Grammy Awards and won three Grammy Awards. Bad Bunny has won three Grammy Awards and won three Grammy Awards. Bad Bunny has won three Grammy Awards and won three Grammy Awards. Bad Bunny has won three Grammy Awards and won three Grammy Awards. Bad Bunny has won three Grammy Awards and won three Grammy Awards. Bad Bunny has won three Grammy Awards and won three Grammy Awards. Bad Bunny has won three Grammy Awards and won three Grammy Awards. Bad Bunny has won three Grammy Awards and won three Grammy Awards. Bad Bunny has won three Grammy Awards and won three Grammy Awards.',\n",
       " 'A kite is a type of kite that is a type of kite that is a type of kite that is a type of kite that is a type of kite that is a type of kite that is a type of kite that is a type of kite that is a type of kite that is a type of kite that is a type of kite that is a type of kite that is a type of kite that is a type of kite that is a type of kite that is a type of kite that is a type of kite that is a type of kite that is a type of kite that is a type of kite that is a type of kite that is a type of kite that is a type of kite that is a type of kite that is a type of',\n",
       " 'Investment banking is a banking service that provides financial services to individuals, businesses, and individuals. It is a banking service that provides financial services to individuals, businesses, and individuals. It is a banking service that provides financial services to individuals, businesses, and individuals. It is a banking service that provides financial services to individuals, businesses, and individuals. It is a banking service that provides financial services to individuals, businesses, and individuals. It is a banking service that provides financial services to individuals, businesses, and individuals. It is a banking service that provides financial services to individuals, businesses, and individuals. It is a banking service that provides financial services to individuals, businesses, and individuals. It is a banking service that provides financial services to individuals, businesses, and individuals. It is a banking service that provides financial services to individuals, businesses, and individuals. It is a banking service that provides financial services to individuals, businesses, and individuals. It',\n",
       " 'a sleazy sleazy sleazy sleazy sleazy sleazy sleazy sleazy sleazy sleazy sleazy sleazy sleazy sleazy sleazy sleazy sleazy sleazy sleazy sleazy sleazy sleazy sleazy sleazy sleazy sleazy sleazy sleazy sleazy sleazy sleazy sleazy sleazy sleazy sleazy sleazy sleazy sleazy sleazy sle',\n",
       " 'albatross is a birdie that is a birdie that is a birdie that is a birdie that is a birdie that is a birdie that is a birdie that is a birdie that is a birdie that is a birdie that is a birdie that is a birdie that is a birdie that is a birdie that is a birdie that is a birdie that is a birdie that is a birdie that is a birdie that is a birdie that is a birdie that is a birdie that is a birdie that is a birdie that is a birdie that is a birdie that is a birdie that is a birdie that',\n",
       " 'Research Collaboratory for Structural Bioinformatics Protein Data',\n",
       " 'johnny wilson wilson wilson wilson wilson wilson wilson wilson wilson wilson wilson wilson wilson wilson wilson wilson wilson wilson wilson wilson wilson wilson wilson wilson wilson wilson wilson wilson wilson wilson wilson wilson wilson wilson wilson wilson wilson wilson wilson wilson wilson wilson wilson wilson wilson wilson wilson wilson wilson',\n",
       " 'a film made in the state of georgia is a film made in the state of georgia',\n",
       " 'a hammer, a hammer, a hammer, a hammer, a hammer, a hammer, a hammer, a hammer, a hammer, a hammer, a hammer, a hammer, a hammer, a hammer, a hammer, a hammer, a hammer, a hammer, a hammer, a hammer, a hammer, a hammer, a hammer, a hammer, a hammer, a hammer, a hammer, a hammer, a hammer, a hammer, a hammer, a hammer, a hammer, a',\n",
       " 'apricot apricot apricot apricot apricot apricot apricot apricot apricot apricot apricot apricot apricot apricot apricot apricot apricot apricot apricot apricot apricot apricot apricot apricot apricot apricot apricot apricot apricot apricot apricot apricot apricot apricot apricot apricot apricot apricot apricot apricot apricot apricot apricot apricot apricot apricot apricot apricot apricot apricot',\n",
       " 'eagle eagle eagle eagle eagle eagle eagle eagle eagle eagle eagle eagle eagle eagle eagle eagle eagle eagle eagle eagle eagle eagle eagle eagle eagle eagle eagle eagle eagle eagle eagle eagle eagle eagle eagle eagle eagle eagle eagle eagle eagle eagle eagle eagle eagle eagle eagle eagle eagle eagle',\n",
       " \"Place the flowers in a vase and place them in a vase for a few hours. If you don't have a vase, you can put them in a vase for a few hours. If you don't have a vase, you can put them in a vase for a few hours. If you don't have a vase, you can put them in a vase for a few hours. If you don't have a vase, you can put them in a vase for a few hours. If you don't have a vase, you can put them in a vase for a few hours. If you don't have a vase, you can put them in a vase for a few hours. If you don't have a vase, you can put them in a vase for a few hours. If you don't have a vase, you can\",\n",
       " 'id n = id n = id n = id n = id n = id n = id n = id n = id n = id n = id n = id n = id n = id n = id n = id n = id n = id n = id n = id n = id n = id n = id n = id n = id n = id n = id n = id n = id n = id n = id n = id n = id n = i',\n",
       " 'samuel edward edward edward edward edward edward edward edward edward edward edward edward edward edward edward edward edward edward edward edward edward edward edward edward edward edward edward edward edward edward edward edward edward edward edward edward edward edward edward edward edward edward edward edward edward edward edward edward e',\n",
       " 'a share capital in finance a share capital in finance a share capital in finance a share capital in finance a share capital in finance a share capital in finance a share capital in finance a share capital in finance a share capital in finance a share capital in finance a share capital in finance a share capital in finance a share capital in finance a share capital in finance a share capital in finance a share capital in finance a share capital in finance a share capital in finance a share capital in finance a share capital in finance a share capital in finance a share capital in finance a share capital in finance a share capital in finance a share capital in finance a share capital in finance a share capital in finance a share capital in finance a share capital in finance a share capital in finance a share capital in finance a share capital in finance a share capital in finance a',\n",
       " '1.4 billion yuan ahuahuahuahuahuahuahuahuahuahuahuahuahuahuahuahuahuahuahuahuahuahuahuahuahuahuahuahuahuahuahuahuahuahuahuahuahuahuahuahuahuahuahuahuahuahuahuahuahuahuahuahuahuahuahuahuahuahuahuahuahuahuahuahu',\n",
       " 'los angeles olympia olympia olympia olympia olympia olympia olympia olympia olympia olympia olympia olympia olympia olympia olympia olympia olympia olympia olympia olympia olympia olympia olympia olympia olympia olympia olympia olympia olympia olympia olympia olympia olymp',\n",
       " 'Tomb of Sand was translated from Hindi to English',\n",
       " 'a total of a total of a total of a total of a total of a total of a total of a total of a total of a total of a total of a total of a total of a total of a total of a total of a total of a total of a total of a total of a total of a total of a total of a total of a total of a total of a total of a total of a total of a total of a total of a total of a total of a total of a total of a total of a total of a total of a total of a total of a total of a total of a total of a total of a total of a total of a total of a total of a total of a total of',\n",
       " 'a fire is blown out of the air and a fire is blown out of the air and a fire is blown out of the air and a fire is blown out of the air and a fire is blown out of the air and a fire is blown out of the air and a fire is blown out of the air and a fire is blown out of the air and a fire is blown out of the air and a fire is blown out of the air and a fire is blown out of the air and a fire is blown out of the air and a fire is blown out of the air and a fire is blown out of the air and a fire is blown out of the air and a fire is blown out of the air and a fire is blown out of the air and a fire is blown out of the air and a',\n",
       " 'the Jets were a team of the New York Giants and the Jets were a team of the New York Giants and the Jets were a team of the New York Giants and the Jets were a team of the New York Giants and the Jets were a team of the New York Giants and the Jets were a team of the New York Giants and the Jets were a team of the New York Giants and the Jets were a team of the New York Giants and the Jets were a team of the New York Giants and the Jets were a team of the New York Giants and the Jets were a team of the New York Giants and the Jets were a team of the New York Giants and the Jets were a team of the New York Giants and the Jets were a team of the New York Giants and the Jets were',\n",
       " 'san antonio san antonio san antonio san antonio san antonio san antonio san antonio san antonio san antonio san antonio san antonio san antonio san antonio san antonio san antonio san antonio san antonio san antonio san antonio san antonio san antonio san antonio san antonio san antonio san antonio',\n",
       " 'one thousand nine hundred and twenty-four hundred and twenty-four hundred and forty-four hundred and forty-four hundred and forty-four hundred and forty-four hundred and forty-four hundred and forty-four hundred and forty-four hundred and forty-four hundred and forty-four hundred and forty-four hundred and forty-four hundred and forty-four hundred and forty-four hundred and forty-four hundred and forty-four hundred and forty-four hundred and forty-four hundred and forty-four hundred and forty-four hundred and forty-four hundred and forty-four hundred and forty-four hundred and forty-four hundred and forty-four hundred and forty-four hundred and forty-four hundred and forty-four hundred and forty-four hundred and forty-four hundred and forty-four hundred and forty-four hundred and forty-four hundred and forty-four hundred and forty-four hundred and forty-four hundred and forty-four hundred and forty-four hundred and',\n",
       " 'michael wilson and robert wilson and robert wilson and robert wilson and robert wilson and robert wilson and robert wilson and robert wilson and robert wilson and robert wilson and robert wilson and robert wilson and robert wilson and robert wilson and robert wilson and robert wilson and robert wilson and robert wilson and robert wilson and robert wilson and robert wilson and robert wilson and rob',\n",
       " 'tequila and tequila tequila and tequila tequila and tequila tequila and tequila and tequila and tequila and tequila and tequila and tequila and tequila and tequila and tequila and tequila and tequila and tequila and tequila and tequila and tequila and tequila and tequila and tequila and tequila and tequila and tequila and tequila and tequila and tequila and tequila and tequila and tequila',\n",
       " 'Place ice cubes in a large bowl and mix with a fork. Add the ice cubes to the bowl and mix. Add the ice cubes to the bowl and mix. Add the ice cubes to the bowl and mix. Add the ice cubes to the bowl and mix. Add the ice cubes to the bowl and mix. Add the ice cubes to the bowl and mix. Add the ice cubes to the bowl and mix. Add the ice cubes to the bowl and mix. Add the ice cubes to the bowl and mix. Add the ice cubes to the bowl and mix. Add the ice cubes to the bowl and mix. Add the ice cubes to the bowl and mix. Add the ice cubes to the bowl and mix. Add the ice cubes to the bowl and mix',\n",
       " 'san antonio del san antonio del san antonio del san antonio del san antonio del san antonio del san antonio del antonio del antonio del antonio del antonio del antonio del antonio del antonio del antonio del antonio del antonio del antonio del antonio del antonio del antonio del antonio del antonio del antonio del antonio del antoni',\n",
       " 'a bass guitar is a musical instrument that is played on a bass guitar, a drum, or a bass drum. a bass guitar is a musical instrument that is played on a bass guitar, a drum, or a drum, or drum, or drum, or drum, or drum, or drum, or drum, or drum, or drum, or drum, or drum, or drum, or drum, or drum, or drum, or drum, or drum, or drum, or drum, or drum, or drum, or drum, or drum, or drum, or drum, or drum, or drum, or drum, or drum, or drum, or drum, or drum, or drum, or drum, or drum, or drum, or drum, or drum, or drum, or drum, or drum, or drum, or drum, or drum, or drum, or drum, or drum, or drum, or drum, or',\n",
       " '3.3 billion yuan (                                                                                                ',\n",
       " 'adolescence and adolescence and adolescence and adolescence and adolescence and adolescence and adolescence and adolescence and adolescence and adolescence and adolescence and adolescence and adolescence and adolescence and adolescence and adolescence and adolescence and adolescence and adolescence and adolescence and adolescence and adolescence and adolescence and adolescence and adolescence and adolescence and adolescence and adolescence and ado',\n",
       " 'Mormons are a group of Mormons who are ordained as a priest or a sacramento of the church. The sacramento of the church is a sacramento of the church. The sacramento of the church is a sacramento of the church. The sacramento of the church is a sacramento of the church. The sacramento of the church is a sacramento of the church. The sacramento of the church is a sacramento of the church. The sacramento of the church is a sacramento of the church. The sacramento of the church is a sacramento of the church. The sacramento of the',\n",
       " 'Granny Smith (or Granny Smith) is a genus of plants in the family Chrysalisae. It is a genus of plants in the family Chrysalisae. It is a genus of plants in the family Chrysalisae. It is a genus of plants in the family Chrysalisae. It is a genus of plants in the family Chrysalisae. It is a genus of plants in the family Chrysalisae. It is a genus of plants in the family Chrysalisae. It is a genus of plants in the family Chrysalisae. It is a genus of plants in the family Chrysalisae. It is a genus of plants in the family',\n",
       " 'eliota eliota eliota eliota eliota eliota eliota eliota eliota eliota eliota eliota eliota eliota eliota eliota eliota eliota eliota eliota eliota eliota eliota eliota eliota eliota eliota eliota eli',\n",
       " 'samuel wilson iii of st john ii of st john ii of st john ii of st john ii of st john iv of st john iv of st john iv of st john iv of st john iv of st john iv of st john iv of st john iv of st john iv of st john iv of st john iv of st john iv of st john iv of st john iv of st john iv of st john iv of st john',\n",
       " 'george w. w. w. w. w. w. w. w. w. w. w. w. w. w. w. w. w. w. w. w. w. w. w. w. w. w. w. w. w. w. w. w. w. w. w. w. w. w. w. w. w. w. w. w. w. w. w. w. w. w. w. w. w. w. w. w. w. w. w. w. w. w. w. w. w. w',\n",
       " '                                                                                                   ',\n",
       " 'Nanotubes are a type of tube that is made of a material that is made of a material that is made of a material that is made of a material that is made of a material that is made of a material that is made of a material that is made of a material that is made of a material that is made of a material that is made of a material that is made of a material that is made of a material that is made of a material that is made of a material that is made of a material that is made of a material that is made of a material that is made of a material that is made of a material that is made of a material that is made of a material that is made of a material that is made of a material that is made of a material that is made of a material that is made of a material that is',\n",
       " 'A secured loan is a loan secured by a fixed interest rate (PR) or a fixed interest rate (PR) of a fixed interest rate (PR) of a fixed interest rate (PR) of a fixed interest rate (PR) of a fixed interest rate (PR) of a fixed interest rate (PR) of a fixed interest rate (PR) of a fixed interest rate (PR) of a fixed interest rate (PR) of a fixed interest rate (PR) of a fixed interest rate (PR) of a fixed interest rate (PR) of a fixed interest rate (PR) of a fixed interest rate (PR) of a fixed interest rate (PR) of a fixed interest rate (PR) of a fixed interest rate (PR) of a fixed interest rate (PR) of a fixed interest rate (PR) of a fixed interest rate (PR) of a',\n",
       " 'A child is a person who has a developmental disability. A child is a person who has a developmental disability. A child is a person who has a developmental disability. A child is a person who has a developmental disability. A child is a person who has a developmental disability. A child is a person who has a developmental disability. A child is a person who has a developmental disability. A child is a person who has a developmental disability. A child is a person who has a developmental disability. A child is a person who has a developmental disability. A child is a person who has a developmental disability. A child is a person who has a developmental disability. A child is a person who has a developmental disability. A child is a person who has a developmental disability. A child is a person who has a developmental disability. A child is a',\n",
       " 'george w. bush',\n",
       " 'saturday night saturday night saturday night saturday night saturday night saturday night saturday night saturday night saturday night saturday night saturday night saturday night saturday night saturday night saturday night saturday night saturday night saturday night saturday night saturday night saturday night saturday night saturday night saturday night saturday night saturday night saturday night saturday night saturday night saturday night saturday night saturday night saturday night saturday night saturday night saturday night saturday night saturday night saturday night saturday night',\n",
       " 'arctic arctic arctic arctic arctic arctic arctic arctic arctic arctic arctic arctic arctic arctic arctic arctic arctic arctic arctic arctic arctic arctic arctic arctic arctic arctic arctic arctic arctic arctic arctic arctic arctic arctic arctic arctic arctic arctic arctic arctic arctic arctic arctic arctic arctic arctic arctic arctic arctic arctic arctic arctic arctic arctic arctic arctic arctic arctic arctic arctic arctic arctic arctic arctic arctic arctic arc',\n",
       " 'no he was born in the slums of the slums of the slums of the slums of the slums of the slums of the slums of the slums of the slums of the slums of the slums of the slums of the slums of the slums of the slums of the slums of the slums of the slums of the slums of the slums of the slums of the slums of the slums of the slums of the slums of the slums of the slums of the slums of the slums of the slums of the slums of the slums of the ',\n",
       " 'edward edward edward edward edward edward edward edward edward edward edward edward edward edward edward edward edward edward edward edward edward edward edward edward edward edward edward edward edward edward edward edward edward edward edward edward edward edward edward edward edward edward edward edward edward edward edward edward edward edward',\n",
       " 'shrubs and trees are a type of shrub or tree that is a type of shrub or tree that is a type of tree that is a type of tree that is a type of tree that is a type of tree that is a type of tree that is a type of tree that is a type of tree that is a type of tree that is a type of tree that is a type of tree that is a type of tree that is a type of tree that is a type of tree that is a type of tree that is a type of tree that is a type of tree that is a type of tree that is a type of tree that is a type of tree that is a type of tree that is a type of tree that is a type of tree that is a type of tree that is a type of tree that is a type of tree that is a',\n",
       " \"men's singles grand slam slam slam slam slam slam slam slam slam slam slam slam slam slam slam slam slam slam slam slam slam slam slam slam slam slam slam slam slam slam slam slam slam slam slam slam slam slam slam slam slam slam slam slam slam slam slam slam s\",\n",
       " 'federal republican republican republican republican republican republican republican republican republican republican republican republican republican republican republican republican republican republican republican republican republican republican republican republican republican republican republican republican republican republican republican republican republican republican republican republican republican republican republican republican republican republican republican republican republican republican republican republican republican republican republican republican republican republican republican republican republican republican republican republican republican republican republican republican republican republican republican republican republican republican republican republican republican republican republican republican republican republican republican republican republican republican republican republican republican republican republican republican republican republican republican republican republican republican republican republican republican republican republican republic',\n",
       " 'tennis pickleball tennis pickleball is a tennis tournament played on outdoor clay courts. It is a tournament played on outdoor clay courts and is played on outdoor clay courts and is played on outdoor clay courts and is played on outdoor clay courts and is played on outdoor clay courts and is played on outdoor clay courts and is played on outdoor clay courts and is played on outdoor clay courts and is played on outdoor clay courts and is played on outdoor clay courts and is played on outdoor clay courts and is played on outdoor clay courts and is played on outdoor clay courts and is played on outdoor clay courts and is played on outdoor clay courts and is played on outdoor clay courts and is played on outdoor clay courts and is played on outdoor clay courts and is played on outdoor clay courts and is played on outdoor clay courts and is played on outdoor clay courts and is played on outdoor clay courts and is played on outdoor clay courts and is played on outdoor clay courts and is played on outdoor clay courts and is played',\n",
       " 'michael roosevelt jackson jackson jackson jackson jackson jackson jackson jackson jackson jackson jackson jackson jackson jackson jackson jackson jackson jackson jackson jackson jackson jackson jackson jackson jackson jackson jackson jackson jackson jackson jackson jackson jackson jackson jackson jackson jackson jackson jackson jackson jackson jackson jackson jackson jackson jackson jackson jackson jackson jackson jackson jackson jackson jackson jackson jackson jackson jackson jackson jackson jackson jackson jack',\n",
       " 'rio rio rio rio rio rio rio rio rio rio rio rio rio rio rio rio rio rio rio rio rio rio rio rio rio rio rio rio rio rio rio rio rio rio rio rio rio rio rio rio rio rio rio rio rio rio rio rio rio rio',\n",
       " 'elizabeth elizabeth elizabeth elizabeth elizabeth elizabeth elizabeth elizabeth elizabeth elizabeth elizabeth elizabeth elizabeth elizabeth elizabeth elizabeth elizabeth elizabeth elizabeth elizabeth elizabeth elizabeth elizabeth elizabeth elizabeth elizabeth elizabeth elizabeth elizabeth elizabeth elizabeth elizabeth elizabeth e',\n",
       " 'a series of teeming tales based on a series of teeming tales based on a series of teeming tales based on a series of teeming tales based on a series of teeming tales based on a series of teeming tales based on a series of teeming tales based on a series of teeming tales based on a series of teeming tales based on a series of teeming tales based on a series of teeming tales based on a series of teeming tales based on a series of teeming tales based on a series of ',\n",
       " 'st. louis st. louis st. louis st. louis st. louis st. louis st. louis st. louis st. louis st. louis st. louis st. louis st. louis st. louis st. louis st. louis st. louis st. louis st. louis st. louis st. louis st. louis st. louis st. louis st. louis st. louis st. louis st. louis st. louis st. louis st. louis st. louis st. louis s',\n",
       " 'no',\n",
       " 'Pour the soap into a bowl and pour it into a bowl. Pour the soap into a bowl and pour it into a bowl. Pour the soap into a bowl and pour it into a bowl. Pour the soap into a bowl and pour the soap into a bowl. Pour the soap into a bowl and pour the soap into a bowl. Pour the soap into a bowl and pour the soap into a bowl and pour the soap into a bowl and pour the soap into a bowl and pour the soap into a bowl and pour the soap into a bowl and pour the soap into a bowl and pour the soap into a bowl and pour the soap into a bowl and pour the soap into a bowl and pour the soap into a bowl and pour the soap into a bowl and pour the soap into a bowl and pour the soap into a bowl and pour the soap into a bowl and pour the soap',\n",
       " 'elephants and rhinoceroses and rhinoceroses and rhinoceroses and rhinoceroses and rhinoceroses and rhinoceroses and rhinoceroses and rhinoceroses and rhinoceroses and rhinoceroses and rhinoceroses and rhinoceroses and rhinoceroses and rhinoceroses and rhinoceroses and rhinoceroses and rhinoceroses and rhinoceroses and rhinoceroses and rhinoceroses and rhinoceroses and rhinoceroses and rhinoceroses and rhinoceroses and rhinoceroses and rhinoceroses and rhinoceroses and rhinoceroses and rhinoceroses and rhinoceroses and rhinoceroses and rhinoceroses and rhinoceroses and rhinoceroses and rhinoceroses and rhinoceroses and rhinoceroses and rhinoceroses and rhinoceroses and rhinoce',\n",
       " 'no',\n",
       " 'hot and humid summers in the San Francisco Bay Area. The San Francisco Bay Area is famous for its snowy climate and its snowy climate. The San Francisco Bay Area is famous for its snowy climate and its snowy climate. The San Francisco Bay Area is famous for its snowy climate and its snowy climate. The San Francisco Bay Area is famous for its snowy climate and its snowy climate. The San Francisco Bay Area is famous for its snowy climate and its snowy climate. The San Francisco Bay Area is famous for its snowy climate and its snowy climate. The San Francisco Bay Area is famous for its snowy climate and its snowy climate. The San Francisco Bay Area is famous for its snowy climate and its snowy climate. The San Francisco Bay Area is famous for its snowy climate and its snowy climate. The San Francisco Bay Area is famous for its snowy climate and its snowy climate. The San Francisco Bay Area is famous for',\n",
       " 'saturday night saturday night saturday night saturday night saturday night saturday night saturday night saturday night saturday night saturday night saturday night saturday night saturday night saturday night saturday night saturday night saturday night saturday night saturday night saturday night saturday night saturday night saturday night saturday night saturday night saturday night saturday night saturday night saturday night saturday night saturday night saturday night saturday night saturday night saturday night saturday night saturday night saturday night saturday night saturday night',\n",
       " \"Harry Potter and the Philosopher's Stone is a series of books written by Harry Potter and the Philosopher's Stone. Harry Potter and the Philosopher's Stone is a series of books written by Harry Potter and the Philosopher's Stone. Harry Potter and the Philosopher's Stone are a series of books written by Harry Potter and the Philosopher's Stone. Harry Potter and the Philosopher's Stone are a series of books written by Harry Potter and the Philosopher's Stone. Harry Potter and the Philosopher's Stone are a series of books written by Harry Potter and the Philosopher's Stone. Harry Potter and the Philosopher's Stone are a series of books written by Harry Potter and the Philosopher's Stone. Harry Potter and the Philosopher's Stone are a series of books written by Harry Potter and the Philosopher's Stone. Harry Potter and the Philosopher's Stone are \",\n",
       " 'he was a philanthropist and philanthropist and philanthropist and philanthropist and philanthropist and philanthropist and philanthropist and philanthropist and philanthropist and philanthropist and philanthropist and philanthropist and philanthropist and philanthropist and philanthropist and philanthropist and philanthropist and philanthropist and philanthropist and philanthropist and philanthropist and philanthropist and philanthropist and philanthropist and philanthropist and philanthropist and philanthropist and philanthropist',\n",
       " 'The Trans Tahoe Relay is a trans-sale relay that is a relay of a relay of a relay of a relay of a relay of a relay of a relay of a relay of a relay of a relay of a relay of a relay of a relay of a relay of a relay of a relay of a relay of a relay of a relay of a relay of a relay of a relay of a relay of a relay of a relay of a relay of a relay of a relay of a relay of a relay of a re',\n",
       " '69,769,769,769,769,769,769,769,769,769,769,769,769,769,769,769,769,769,769,769,769,769,769,769,769,769,769,769,769,769,769,769,769,769,769,769,769,769,769,769,769,769,769,769,769,769,769,769,769,769,769,769,769,769,769,769,769,769,769,769,769,769,769,769,769,769,769',\n",
       " 'harry potter or harry potter or harry potter or harry potter or harry potter or harry potter or harry potter or harry potter or harry potter or harry potter or harry potter or harry potter or harry potter or harry potter or harry potter or harry potter or harry potter or harry potter or harry potter or harry potter or harry potter or harry potter or harry potter or harry potter or harry potter or harry potter or harry potter or harry potter or harry potter or harry potter or harry potter or harry potter or harry potter or har',\n",
       " 'Aberdeen',\n",
       " 'england england england england england england england england england england england england england england england england england england england england england england england england england england england england england england england england england england england england england england england england england england england england england england england england england england',\n",
       " 'Predictive maintenance is the maintenance of a particular product or service that is based on a specific product or service. Predictive maintenance is the maintenance of a specific product or service that is based on a specific product or service. Predictive maintenance is the maintenance of a specific product or service that is based on a specific product or service. Predictive maintenance is the maintenance of a specific product or service that is based on a specific product or service. Predictive maintenance is the maintenance of a specific product or service that is based on a specific product or service. Predictive maintenance is the maintenance of a specific product or service that is based on a specific product or service. Predictive maintenance is the maintenance of a specific product or service that is based on a specific product or service. Predictive maintenance is the maintenance of a specific product or service that is based',\n",
       " 'Terraform () is a genus of fungi in the family Geometridae. It is a genus of fungi in the family Geometridae. It is a genus of fungi in the family Geometridae. It is a genus of fungi in the family Geometridae. It is a genus of fungi in the family Geometridae. It is a genus of fungi in the family Geometridae. It is a genus of fungi in the family Geometridae. It is a genus of fungi in the family Geometridae. It is a genus of fungi in the family Geometridae. It is a genus of fungi in the family Geometrid',\n",
       " 'san francisco san francisco san francisco san francisco san francisco san francisco san francisco san francisco san francisco san francisco san francisco san francisco san francisco san francisco san francisco san francisco san francisco san francisco san francisco san francisco san francisco san francisco san francisco san francisco san francisco san francisco san francisco san francisco san francisco san francisco san francisco san francisco san francisco s',\n",
       " 'house edward edward edward edward edward edward edward edward edward edward edward edward edward edward edward edward edward edward edward edward edward edward edward edward edward edward edward edward edward edward edward edward edward edward edward edward edward edward edward edward edward edward edward edward edward edward edward edward edward ed',\n",
       " 'san francisco',\n",
       " 'cryptocurrency',\n",
       " 'Counter Reformation of the Republic of the Republic of the Republic of the Republic of the Republic of the Republic of the Republic of the Republic of the Republic of the Republic of the Republic of the Republic of the Republic of the Republic of the Republic of the Republic of the Republic of the Republic of the Republic of the Republic of the Republic of the Republic of the Republic of the Republic of the Republic of the Republic of the Republic of the Republic of the Republic of the Republic of the Republic of the Republic of the Republic of the Republic of the Republic of the Republic of the Republic of the Republic of the Republic of the Republic of the Republic of the Republic of the Republic of the Republic of the Republic of the Republic of the Republic of the Republic of the Republic of the Republic of the Republic of the Republic of the Republic of the Republic of the Republic of the Republic of the Republic of the Republic of the Republic of the Republic of the Republic of the Republic of the Republic of the Republic of the Republic of the']"
      ]
     },
     "execution_count": 21,
     "metadata": {},
     "output_type": "execute_result"
    }
   ],
   "source": [
    "model_output_before_tuning"
   ]
  },
  {
   "cell_type": "code",
   "execution_count": 22,
   "id": "eadf8e22",
   "metadata": {},
   "outputs": [
    {
     "name": "stdout",
     "output_type": "stream",
     "text": [
      "Ground Truth - Camels use the fat in their humps to keep them filled with energy and hydration for long periods of time.\n",
      "Model Output Before Tuning - water is a source of heat and moisture.\n",
      "Model Output After Tuning  - water is a source of a fungus and fungi that can survive for long without water and fungus that can live for a long time.\n",
      "\n",
      "------------------------------------------------------------\n",
      "\n",
      "Ground Truth - The name of the third daughter is Alice\n",
      "Model Output Before Tuning - Alice's parents have three daughters: Amy, Jessy, and what's Alice's parents have?\n",
      "Model Output After Tuning  - Alice's parents have three daughters: Amy, Jessy, and what's Alice's mom's name?\n",
      "\n",
      "------------------------------------------------------------\n",
      "\n",
      "Ground Truth - John D Rockerfeller\n",
      "Model Output Before Tuning - the United Nations\n",
      "Model Output After Tuning  - the United Nations\n",
      "\n",
      "------------------------------------------------------------\n",
      "\n",
      "Ground Truth - A polygon is a form in Geometry.  It is a single dimensional plane made of connecting lines and any number of vertices.  It is a closed chain of connected line segments or edges.  The vertices of the polygon are formed where two edges meet.  Examples of polygons are hexagons, pentagons, and octagons.  Any plane that does not contain edges or vertices is not a polygon.  An example of a non-polygon is a circle.\n",
      "Model Output Before Tuning - polygon\n",
      "Model Output After Tuning  - polygon\n",
      "\n",
      "------------------------------------------------------------\n",
      "\n",
      "Ground Truth - She directed \"Oathkeeper\" and \"First of His Name\" the fourth and fifth episodes of season four, respectively.\n",
      "Model Output Before Tuning - tv series tv series tv series tv series tv series tv series tv series tv series tv series tv series tv series tv series tv series tv series tv series tv series tv series tv series tv series tv series tv series tv series tv series tv series tv series tv series tv series tv series tv series tv series tv series tv series tv series tv series tv series tv series tv series tv series tv series tv series tv series tv series tv series tv series tv series tv series tv series tv series tv series tv series\n",
      "Model Output After Tuning  - tv series vs. st. john s s tv vs st s n s r n tv\n",
      "\n",
      "------------------------------------------------------------\n",
      "\n",
      "Ground Truth - Michael Phelps has won the most gold medals of all time with 23 golds.\n",
      "Model Output Before Tuning - samuel wilson wilson wilson wilson wilson wilson wilson wilson wilson wilson wilson wilson wilson wilson wilson wilson wilson wilson wilson wilson wilson wilson wilson wilson wilson wilson wilson wilson wilson wilson wilson wilson wilson wilson wilson wilson wilson wilson wilson wilson wilson wilson wilson wilson wilson wilson wilson wilson w\n",
      "Model Output After Tuning  - samuel edwards\n",
      "\n",
      "------------------------------------------------------------\n",
      "\n",
      "Ground Truth - Vermeer\n",
      "Model Output Before Tuning - helen helen helen helen helen helen helen helen helen helen helen helen helen helen helen helen helen helen helen helen helen helen helen helen helen helen helen helen helen helen helen helen helen helen helen helen helen helen helen helen helen helen helen helen helen helen helen helen helen helen\n",
      "Model Output After Tuning  - samuel edwards\n",
      "\n",
      "------------------------------------------------------------\n",
      "\n",
      "Ground Truth - When the sun sets, the evening starts.\n",
      "Model Output Before Tuning - the sun rises to the surface of the earth and the sun rises to the surface of the earth and the sun rises to the surface of the earth and the sun rises to the surface of the earth and the sun rises to the surface of the earth and the sun rises to the surface of the earth and the sun rises to the surface of the earth and the sun rises to the surface of the earth and the sun rises to the surface of the earth and the sun rises to the surface of the earth and the sun rises to the surface of the earth and the sun rises to the surface of the earth and the sun rises to the surface of the earth and the sun rises to the surface of the earth and the sun rises to the surface of the earth and the sun rises to the surface of the earth and the sun rises to the surface of the earth and the sun rises to the surface of the earth and the sun\n",
      "Model Output After Tuning  - the sun rises\n",
      "\n",
      "------------------------------------------------------------\n",
      "\n",
      "Ground Truth - A verb is an action word that describes an activity.  Examples of verbs are the following: swimming, hiking, biking, roller skating, or skydiving.  All of these single and combination word examples are tied to an activity that any living thing can do.  For example, a dog can bike ride with a human when the human is pedaling the bike.  Verb use is not limited to humans or people only but applies to all living things.\n",
      "Model Output Before Tuning - irresponsible irrational irrational irrational irrational irrational irrational irrational irrational irrational irrational irrational irrational irrational irrational irrational irrational irrational irrational irrational irrational irrational irrational irrational irrational irrational irrational irrational irrational irrational irrational irrational irrational irrational irrational irrational irrational irrational irrational i\n",
      "Model Output After Tuning  - irrational adolescent adiolescence adilescence a dilescent dilad adlescent blunder ad ludicrous adalescence adicional adriolescent\n",
      "\n",
      "------------------------------------------------------------\n",
      "\n",
      "Ground Truth - William I of the Netherlands became king of Holland in 1806.\n",
      "Model Output Before Tuning - henry iii\n",
      "Model Output After Tuning  - henry iii\n",
      "\n",
      "------------------------------------------------------------\n",
      "\n",
      "Ground Truth - Paul Newman\n",
      "Model Output Before Tuning - samuel wilson, jr., jr., jr., jr., jr., jr., jr., jr., jr., jr., jr., jr., jr., jr., jr., jr., jr., jr., jr., jr., jr., jr., jr., jr., jr., jr., jr., jr., jr., jr., jr., j\n",
      "Model Output After Tuning  - samuel edwards\n",
      "\n",
      "------------------------------------------------------------\n",
      "\n",
      "Ground Truth - Syd Barrett was one of the main members of the Pink Floyd. He has used drugs a lot and after a while he was not able to perform with the team. Even though the band gave him multiple chances, he could not keep up with the band. In the end, they had to ask him to leave the band. The main reason that he has left the team is his health problems and addiction to drugs.\n",
      "Model Output Before Tuning - he was a member of the syd syd syd syd syd syd syd syd syd syd syd syd syd syd syd syd syd syd syd syd syd syd syd syd syd syd syd syd syd syd syd syd syd syd syd syd syd syd syd syd syd syd syd syd syd syd syd syd\n",
      "Model Output After Tuning  - he was a saxophonist\n",
      "\n",
      "------------------------------------------------------------\n",
      "\n",
      "Ground Truth - Underwriting (UW) services are provided by some large financial institutions, such as banks, insurance companies and investment houses, whereby they guarantee payment in case of damage or financial loss and accept the financial risk for liability arising from such guarantee. An underwriting arrangement may be created in a number of situations including insurance, issues of security in a public offering, and bank lending, among others. The person or institution that agrees to sell a minimum number of securities of the company for commission is called the underwriter.\n",
      "\n",
      "The term \"underwriting\" derives from the Lloyd's of London insurance market. Financial backers (or risk takers), who would accept some of the risk on a given venture (historically a sea voyage with associated risks of shipwreck) in exchange for a premium, would literally write their names under the risk information that was written on a Lloyd's slip created for this purpose.\n",
      "Model Output Before Tuning - underwriting is a form of writing that is written by a person or group of people. Underwriting is a form of writing that is written by a person or group of people. Underwriting is a form of writing that is written by a person or group of people. Underwriting is a form of writing that is written by a person or group of people. Underwriting is a form of writing that is written by a person or group of people. Underwriting is a form of writing that is written by a person or group of people. Underwriting is a form of writing that is written by a person or group of people. Underwriting is a form of writing that is written by a person or group of people. Underwriting is a form of writing that is written by a person or group of people. Underwriting is a form of writing that is written by a person or group of people.\n",
      "Model Output After Tuning  - underwriting\n",
      "\n",
      "------------------------------------------------------------\n",
      "\n",
      "Ground Truth - Perseus\n",
      "Model Output Before Tuning - andromeda sank andromeda sank andromeda sank andromeda sank andromeda sank andromeda sank andromeda sank andromeda sank andromeda sank andromeda sank andromeda sank andromeda sank andromeda sank andromeda sank andromeda sank andromeda sank andromeda sank andromeda sank andromeda sank andromeda sank andromeda sank andromeda sank andromeda sank andromeda sank andromeda sank andromeda sank andromeda sank andromeda sank andromeda\n",
      "Model Output After Tuning  - andromeda\n",
      "\n",
      "------------------------------------------------------------\n",
      "\n",
      "Ground Truth - The Lumières (literally in English: The Lights) was a cultural, philosophical, literary and intellectual movement beginning in the second half of the 17th century, originating in western Europe and spreading throughout the rest of Europe. It included philosophers such as Baruch Spinoza, David Hume, John Locke, Edward Gibbon, Voltaire, Jean-Jacques Rousseau, Denis Diderot, Pierre Bayle and Isaac Newton. This movement is influenced by the scientific revolution in southern Europe arising directly from the Italian renaissance with people like Galileo Galilei. Over time it came to mean the Siècle des Lumières, in English the Age of Enlightenment.[Note 1]\n",
      "\n",
      "Members of the movement saw themselves as a progressive élite, and battled against religious and political persecution, fighting against what they saw as the irrationality, arbitrariness, obscurantism and superstition of the previous centuries. They redefined the study of knowledge to fit the ethics and aesthetics of their time. Their works had great influence at the end of the 18th century, in the American Declaration of Independence and the French Revolution.\n",
      "\n",
      "This intellectual and cultural renewal by the Lumières movement was, in its strictest sense, limited to Europe. These ideas were well understood in Europe, but beyond France the idea of \"enlightenment\" had generally meant a light from outside, whereas in France it meant a light coming from within oneself.\n",
      "\n",
      "In the most general terms, in science and philosophy, the Enlightenment aimed for the triumph of reason over faith and belief; in politics and economics, the triumph of the bourgeois over nobility and clergy.\n",
      "Model Output Before Tuning - ''The Lumières' ''\n",
      "Model Output After Tuning  - ''The Lumières' ''\n",
      "\n",
      "------------------------------------------------------------\n",
      "\n",
      "Ground Truth - No one knows when the wheel was first made. Archaeological evidence seems to show that the wheel was first used to make pottery in Mesopotamia about 7,000 years ago, during the Neolithic period. Later, it was used to make chariots. Chariot wheels have been found in Sumer as early as 3000 BC. The wheel is one of the most important inventions in human history. It was very useful for making pottery and getting around on land. It is also a key part of machines.\n",
      "Model Output Before Tuning - 1903–1903 and 1903–1903 and 1903–1903 and 1903–1903 and 1903–1903 and 1903–1903 and 1903–1903 and 1903–1903 and 1903–1903 and 1903–1903 and 1903–1903 and 1903–1903 and 1903–1903 and 1903–1903 and 1903–1903 and 1903–1903 and 1903–1903 and 1903–1903 and 1903–1903–1903–1903–1903–1903–1903–1903–1903–1903–1903–1903–1903–1903–1903–1903–1903–1903–1903–1903–1903–1903–1903–1903–1903–1903–1903–1903–1903–1903–1903\n",
      "Model Output After Tuning  - 1903–03–03 and 1904–03–04 and 1903–04–04 and 1906–04–03 and 1906–07–04 and 1911–04–07 and 1911–07–19 and 1911–1919–19 and 1912–1912–1914 and 1911–14–1914–1915–1915 and 1911–15–1914, 1911–1915, 1915–1918, 1915, 1912–1815, 1921–1918 and 1911–1819–1918–1921–1921, 1911–1818, 1911–21–1919, 1911–15, 1911–12, 1911–14, 1912, 1921, 1914–15, 1914–14, 1914–18, 1914–1919 and 1914–14–14–18–18–19–19–14–15–18–15–15–14–17–19–18–\n",
      "\n",
      "------------------------------------------------------------\n",
      "\n",
      "Ground Truth - No, lilies are toxic to cats if consumed and should not be kept in a household with cats\n",
      "Model Output Before Tuning - lilies are a fungus that has been found to have been found to have been found to have been found to have been found to have been found to have been found to have been found to have been found to have been found to have been found to have been found to have been found to have been found to have been found to have been found to have been found to have been found to have been found to have been found to have been found to have been found to have been found to have been found to have been found to have been found to have been found to have been found to have been found to have been found to have been found to have been found to have been found to have been found to have been found to have been found to have been found to have been found to have been found to have been found to have been found to have been found to have been found to have been found to have been found to have been found to have been found to have\n",
      "Model Output After Tuning  - no\n",
      "\n",
      "------------------------------------------------------------\n",
      "\n",
      "Ground Truth - It is known as the deepest period in which sunspots are not virtually visible. Deepest period is related to sun cycle's process called solar minimum\n",
      "Model Output Before Tuning - Sunshine Recession Sunshine Recession may refer to: Sunshine Recession may refer to: Sunshine Recession may refer to: Sunshine Recession may refer to: Sunshine Recession may refer to: Sunshine Recession may refer to: Sunshine Recession may refer to: Sunshine Recession may refer to: Sunshine Recession may refer to: Sunshine Recession may refer to: Sunshine Recession may refer to: Sunshine Recession may refer to: Sunshine Recession may refer to: Sunshine Recession may refer to: Sunshine Recession may refer to: Sunshine Recession may refer to: Sunshine Recession may refer to: Sunshine Recession may refer to: Sunshine Recession may refer to: Sunshine Recession may refer to: Sunshine Recession may refer to: Sunshine Recession may refer to: Sunshine Recession may refer to: Sunshine Recession may refer to: Sunshine Recession may refer to: Sunshine Recession may refer to: Sunshine Recession may refer to: Sunshine Recession may refer to: Sunshine\n",
      "Model Output After Tuning  - Sunshine Recession Sunshine Recession may refer to:\n",
      "\n",
      "------------------------------------------------------------\n",
      "\n",
      "Ground Truth - The currency in use in the Netherlands is the euro.\n",
      "Model Output Before Tuning - krona krona krona krona krona krona krona krona krona krona krona krona krona krona krona krona krona krona krona krona krona krona krona krona krona krona krona krona krona krona krona krona krona krona krona krona krona krona krona krona krona krona krona krona krona krona krona krona krona krona\n",
      "Model Output After Tuning  - Dutch franc\n",
      "\n",
      "------------------------------------------------------------\n",
      "\n",
      "Ground Truth - Karlon Stark\n",
      "Model Output Before Tuning - he is the founder of House Karstark, which is based on the novel \"A Song of Ice and Fire\", which is based on the novel \"A Song of Ice and Fire\", which is based on the novel \"A Song of Ice and Fire\", which is based on the novel \"A Song of Ice and Fire\", which is based on the novel \"A Song of Ice and Fire\", which is based on the novel \"A Song of Ice and Fire\", which is based on the novel \"A Song of Ice and Fire\", which is based on the novel \"A Song of Ice and Fire\", which is based on the novel \"A Song of Ice and Fire\", which is based on the novel \"A Song of Ice and Fire\", which is based on the novel \"A Song of Ice and Fire\", which is based on the novel \"A Song of Ice and Fire\", which is based on the novel \"A\n",
      "Model Output After Tuning  - he is the founder of House Karstark, a company based in London, England, based in the city of London. During the series, a song of Ice and Fire is based on the novel of the same name by the author of the novel, \"A Song of Ice & Fire\", which is a sequel to the novel \"A Song in Ice and Fire\", based on a novel by the author.\n",
      "\n",
      "------------------------------------------------------------\n",
      "\n",
      "Ground Truth - Casablanca\n",
      "Model Output Before Tuning - adolescence & adolescence & adolescence & adolescence & adolescence & adolescence & adolescence & adolescence & adolescence & adolescence & adolescence & adolescence & adolescence & adolescence & adolescence & adolescence & adolescence & adolescence & adolescence & adolescence & adolescence & adolescence & adolescence & adolescence & adolescence &\n",
      "Model Output After Tuning  - adolescence\n",
      "\n",
      "------------------------------------------------------------\n",
      "\n",
      "Ground Truth - Cold water weighs more than hot water\n",
      "Model Output Before Tuning - hot water - ohio - ohio - ohio - ohio - ohio - ohio - ohio - ohio - ohio - ohio - ohio - ohio - ohio - ohio - ohio - ohio - ohio - ohio - ohio - ohio - ohio - ohio - ohio - ohio - ohio - ohio - ohio - ohio -\n",
      "Model Output After Tuning  - hot water\n",
      "\n",
      "------------------------------------------------------------\n",
      "\n",
      "Ground Truth - Formula One cars are one of the fastest racing cars in the world reaching speeds as high as 240 mph.\n",
      "\n",
      "There are many aspects that make formula one cars fast, below are the top few\n",
      "\n",
      "1. Engine:  F1 cars have extremely powerful engines that can generate around 1000 bhp at up to 20,000 rpm\n",
      "2. Power-to-Weight ratio: F1 cars are also extremely light at around 800 kgs giving them a power-to-weight ratio of 12000-1400 hp/ton. For comparison, the best Porsche cars have a power-to-weight ratio of only 300-400 hp/ton.\n",
      "2. Aerodynamics: F1 cars are fitted with extremely sophisticated aerodynamics including a rear wing, front wing and body parts that help reduce aerodynamic drag for straight-line speeds while adding downforce to help around corners\n",
      "3. Tires: F1 tires are extremely large and sticky. This help the cars stick to the road as the car goes through turns very fast.\n",
      "4. Brakes: Lastly F1 brakes are very powerful and can slow down a car extremely quickly. This allows F1 cars to be at top speed for much longer before needing to slow down for taking a turn.\n",
      "Model Output Before Tuning - a symphony of symphony of symphony of symphony of symphony of symphony of symphony of symphony of symphony of symphony of symphony of symphony of symphony of symphony of symphony of symphony of symphony of symphony of symphony of symphony of symphony of symphony of symphony of symphony of symphony of symphony of symphony of symphony of s\n",
      "Model Output After Tuning  - a saskatchewan s saada s aad s d aaads ss ad a d d e a e e d o a a o e o o s o n o r o d n a r a n e n s e s n n r n t a t e t o t t s t n d t r s c a c d c n c e c c t c r c s r e r t d r r d b a b c b d \n",
      "\n",
      "------------------------------------------------------------\n",
      "\n",
      "Ground Truth - This stands for life assurance premium relief. Before 14 March 1984 there was tax relief on life insurance premiums paid by policyholders for policies which qualified for tax relief. Policies which started\n",
      "Model Output Before Tuning - LAPR LAPR may refer to: LAPR may refer to: LAPR may refer to: LAPR may refer to: LAPR may refer to: LAPR may refer to: LAPR may refer to: LAPR may refer to: LAPR may refer to: LAPR may refer to: LAPR may refer to: LAPR may refer to: LAPR may refer to: LAPR may refer to: LAPR may refer to: LAPR may refer to: LAPR may refer to: LAPR may refer to: LAPR may refer to: LAPR may refer to: LAPR may refer to: LAPR may refer to: LAPR may refer to: LAPR may refer to: LAPR may refer to: LAPR may refer to: LAPR may refer to: LAPR may refer to: LAPR may refer to: LAPR may refer to: LAPR may refer to: LAPR may refer to: LAPR may refer to:\n",
      "Model Output After Tuning  - LAPR LAPR may refer to:\n",
      "\n",
      "------------------------------------------------------------\n",
      "\n",
      "Ground Truth - James Kennedy, Katie Maloney, Raquel Leviss, Tom Sandoval, Ariana Madix, Tom Schwartz and Lala Kent\n",
      "Model Output Before Tuning - styrofoam styrofoam styrofoam styrofoam styrofoam styrofoam styrofoam styrofoam styrofoam styrofoam styrofoam styrofoam styrofoam styrofoam styrofoam styrofoam styrofoam styrofoam styrofoam styrofoam styrofoam styrofoam styrofoam styrofoam styrofoam\n",
      "Model Output After Tuning  - a tasmanian taasmania taesmania sasmanias tai saa sai naas saata aias aaa aaia ahia naiaa iaaah iaiah aahhiaahaahiiahaiia iiiaasiahi iiasiiaehiaesiaeiaeeseaessaesassaiae ii aaataa niiii niaaiiieiastaa eii tahtaaaasaas\n",
      "\n",
      "------------------------------------------------------------\n",
      "\n",
      "Ground Truth - The 1960s had a number of famous rock bands including The Beatles, The Beach Boys, The Doors, The Rolling Stones, The Who, Led Zeppelin, The Grateful Dead, Pink Floyd, and many more.\n",
      "Model Output Before Tuning - saxophonists saxophonists saxophonists saxophonists saxophonists saxophonists saxophonists saxophonists saxophonists saxophonists saxophonists saxophonists saxophonists saxophonists saxophonists saxophonists saxophonists saxophonists saxophonists saxophonists saxophonists saxophonists saxophonists saxophonists saxophonists\n",
      "Model Output After Tuning  - saxophonists and acoustic guitars\n",
      "\n",
      "------------------------------------------------------------\n",
      "\n",
      "Ground Truth - In 1876, Alexander Graham Bell was the first to obtain a United States patent for a device that produced a clearly intelligible replica of the human voice on a second device.\n",
      "A resolution passed by the United States House of Representatives on June 11, 2002 called for recognition of Antonio Meucci's work and contributions towards the invention of the telephone.\n",
      "Model Output Before Tuning - george w. w. w. w. w. w. w. w. w. w. w. w. w. w. w. w. w. w. w. w. w. w. w. w. w. w. w. w. w. w. w. w. w. w. w. w. w. w. w. w. w. w. w. w. w. w. w. w. w. w. w. w. w. w. w. w. w. w. w. w. w. w. w. w. w. w\n",
      "Model Output After Tuning  - george w. bush\n",
      "\n",
      "------------------------------------------------------------\n",
      "\n",
      "Ground Truth - Bad Bunny has won 2 Grammy Awards and has been nominated for 6\n",
      "Model Output Before Tuning - four-time Grammy Award winner and ten-time Grammy Award winner. Bad Bunny has won three Grammy Awards and won three Grammy Awards and won three Grammy Awards. Bad Bunny has won three Grammy Awards and won three Grammy Awards. Bad Bunny has won three Grammy Awards and won three Grammy Awards. Bad Bunny has won three Grammy Awards and won three Grammy Awards. Bad Bunny has won three Grammy Awards and won three Grammy Awards. Bad Bunny has won three Grammy Awards and won three Grammy Awards. Bad Bunny has won three Grammy Awards and won three Grammy Awards. Bad Bunny has won three Grammy Awards and won three Grammy Awards. Bad Bunny has won three Grammy Awards and won three Grammy Awards. Bad Bunny has won three Grammy Awards and won three Grammy Awards. Bad Bunny has won three Grammy Awards and won three Grammy Awards. Bad Bunny has won three Grammy Awards and won three Grammy Awards.\n",
      "Model Output After Tuning  - four\n",
      "\n",
      "------------------------------------------------------------\n",
      "\n",
      "Ground Truth - A kite is a toy that can be be purchased in a store or a specialty shop.  It is a craft that is lighter an air that is tied to a string that you can fly on wind currents.  The kite has wings that react against the air to create lift enabling it to fly.  You can fly a kite at a park or an open area, and you will want to make sure there are no power lines nearby to be safe when flying the kite.\n",
      "Model Output Before Tuning - A kite is a type of kite that is a type of kite that is a type of kite that is a type of kite that is a type of kite that is a type of kite that is a type of kite that is a type of kite that is a type of kite that is a type of kite that is a type of kite that is a type of kite that is a type of kite that is a type of kite that is a type of kite that is a type of kite that is a type of kite that is a type of kite that is a type of kite that is a type of kite that is a type of kite that is a type of kite that is a type of kite that is a type of kite that is a type of\n",
      "Model Output After Tuning  - kite\n",
      "\n",
      "------------------------------------------------------------\n",
      "\n",
      "Ground Truth - Investment banking pertains to certain activities of a financial services company or a corporate division that consist in advisory-based financial transactions on behalf of individuals, corporations, and governments. Traditionally associated with corporate finance, such a bank might assist in raising financial capital by underwriting or acting as the client's agent in the issuance of debt or equity securities. An investment bank may also assist companies involved in mergers and acquisitions (M&A) and provide ancillary services such as market making, trading of derivatives and equity securities, FICC services (fixed income instruments, currencies, and commodities) or research (macroeconomic, credit or equity research). Most investment banks maintain prime brokerage and asset management departments in conjunction with their investment research businesses. As an industry, it is broken up into the Bulge Bracket (upper tier), Middle Market (mid-level businesses), and boutique market (specialized businesses).\n",
      "\n",
      "Unlike commercial banks and retail banks, investment banks do not take deposits.\n",
      "Model Output Before Tuning - Investment banking is a banking service that provides financial services to individuals, businesses, and individuals. It is a banking service that provides financial services to individuals, businesses, and individuals. It is a banking service that provides financial services to individuals, businesses, and individuals. It is a banking service that provides financial services to individuals, businesses, and individuals. It is a banking service that provides financial services to individuals, businesses, and individuals. It is a banking service that provides financial services to individuals, businesses, and individuals. It is a banking service that provides financial services to individuals, businesses, and individuals. It is a banking service that provides financial services to individuals, businesses, and individuals. It is a banking service that provides financial services to individuals, businesses, and individuals. It is a banking service that provides financial services to individuals, businesses, and individuals. It is a banking service that provides financial services to individuals, businesses, and individuals. It\n",
      "Model Output After Tuning  - investment banking\n",
      "\n",
      "------------------------------------------------------------\n",
      "\n",
      "Ground Truth - Some of the best movies released in the 1980's are The Breakfast Club, The Goonies, Sixteen Candles, Ghostbusters and Back to the Future.\n",
      "Model Output Before Tuning - a sleazy sleazy sleazy sleazy sleazy sleazy sleazy sleazy sleazy sleazy sleazy sleazy sleazy sleazy sleazy sleazy sleazy sleazy sleazy sleazy sleazy sleazy sleazy sleazy sleazy sleazy sleazy sleazy sleazy sleazy sleazy sleazy sleazy sleazy sleazy sleazy sleazy sleazy sleazy sle\n",
      "Model Output After Tuning  - i m n n i n t i t n s i s t s n m t t m s s o t o n o s m o o m m i i o r i r n r t r s r m r o a r a s a n a t a m a a i a o d n d i d a d s d t d d r d m d e s e t e d o e r e n e m e e a e i e o i\n",
      "\n",
      "------------------------------------------------------------\n",
      "\n",
      "Ground Truth - Double Eagle\n",
      "Model Output Before Tuning - albatross is a birdie that is a birdie that is a birdie that is a birdie that is a birdie that is a birdie that is a birdie that is a birdie that is a birdie that is a birdie that is a birdie that is a birdie that is a birdie that is a birdie that is a birdie that is a birdie that is a birdie that is a birdie that is a birdie that is a birdie that is a birdie that is a birdie that is a birdie that is a birdie that is a birdie that is a birdie that is a birdie that is a birdie that\n",
      "Model Output After Tuning  - albatross\n",
      "\n",
      "------------------------------------------------------------\n",
      "\n",
      "Ground Truth - The Research Collaboratory for Structural Bioinformatics Protein Data Bank (RCSB PDB) is a database that provides a wealth of information about the 3D structures of proteins, nucleic acids, and other macromolecules. The database contains experimentally determined atomic coordinates for a large number of macromolecules, which can be used to study their structures, functions, and interactions. The RCSB PDB is widely used in genomics research and drug discovery, as it provides a valuable resource for understanding the structural basis of many biological processes and for designing new drugs that target specific macromolecules.\n",
      "\n",
      "In addition to the atomic coordinates, the RCSB PDB contains a wealth of additional information about each macromolecule, including experimental methods used for structure determination, citations to relevant scientific literature, and information about biological function, sequence, and homology. The database also provides a variety of tools and resources for visualizing, analyzing, and downloading structural data, including a web-based viewer that allows users to interactively explore the 3D structures of macromolecules.\n",
      "Model Output Before Tuning - Research Collaboratory for Structural Bioinformatics Protein Data\n",
      "Model Output After Tuning  - Research Collaboratory for Structural Bioinformatics Protein Data\n",
      "\n",
      "------------------------------------------------------------\n",
      "\n",
      "Ground Truth - Steve Urkel\n",
      "Model Output Before Tuning - johnny wilson wilson wilson wilson wilson wilson wilson wilson wilson wilson wilson wilson wilson wilson wilson wilson wilson wilson wilson wilson wilson wilson wilson wilson wilson wilson wilson wilson wilson wilson wilson wilson wilson wilson wilson wilson wilson wilson wilson wilson wilson wilson wilson wilson wilson wilson wilson wilson wilson\n",
      "Model Output After Tuning  - johnny winslow\n",
      "\n",
      "------------------------------------------------------------\n",
      "\n",
      "Ground Truth - While film in the United States as an audience artform started in New York it moved to Los Angeles for the stated reason of longer and sunnier days.  Another part of the story was a patent dispute in 1898 between Thomas Edison and his patent for the Kinetograph.  Edison stated that he effectively had a say in how films were made and wanted royalties for their use.  Moving from New York near where Edison was based to Los Angeles was a simple way to grow the industry and distance themselves from a patent war.  \n",
      "\n",
      "This mobility at the start of the modern film era due to costs continued through the 1960's and 1970's with westerns being shot in Spain.  The 1980's and 1990's continued this trend primarily shooting in Canada or Mexico.  At the turn of the century state legislators in the United States started provided steep tax rebates.  The practical outworking of this is studios are encouraged to hire local talent and use local services when producing their film.  The ratios for these rebates is fairly complicated and have created a new industry of tax professionals serving the film industry.\n",
      "\n",
      "So then why Georgia?  Georgia currently provides one of the highest incentive structures at 20% with minimal restrictions on talent and a very low minimum budget of $500,000.\n",
      "Model Output Before Tuning - a film made in the state of georgia is a film made in the state of georgia\n",
      "Model Output After Tuning  - a film made in the state of georgia\n",
      "\n",
      "------------------------------------------------------------\n",
      "\n",
      "Ground Truth - There is a tool designed for almost every challenge a homeowner will face, but purchasing every tool could prove to be cost prohibitive, especially if they are highly specialized for tasks that may occur infrequently.  It's best to have a general set of tools that have a wide variety of uses, including a hammer, a set of screwdrivers both flat and philips, a tape measure, a level, a stud finder, and a utility knife. A battery powered drill and impact driver can also save time, and make mounting projects easier.\n",
      "Model Output Before Tuning - a hammer, a hammer, a hammer, a hammer, a hammer, a hammer, a hammer, a hammer, a hammer, a hammer, a hammer, a hammer, a hammer, a hammer, a hammer, a hammer, a hammer, a hammer, a hammer, a hammer, a hammer, a hammer, a hammer, a hammer, a hammer, a hammer, a hammer, a hammer, a hammer, a hammer, a hammer, a hammer, a hammer, a\n",
      "Model Output After Tuning  - a hammer, hammer or hammer hammer\n",
      "\n",
      "------------------------------------------------------------\n",
      "\n",
      "Ground Truth - An apple is an edible fruit produced by an apple tree. Apple trees are cultivated worldwide and are the most widely grown species in the genus Malus.\n",
      "Model Output Before Tuning - apricot apricot apricot apricot apricot apricot apricot apricot apricot apricot apricot apricot apricot apricot apricot apricot apricot apricot apricot apricot apricot apricot apricot apricot apricot apricot apricot apricot apricot apricot apricot apricot apricot apricot apricot apricot apricot apricot apricot apricot apricot apricot apricot apricot apricot apricot apricot apricot apricot apricot\n",
      "Model Output After Tuning  - apple\n",
      "\n",
      "------------------------------------------------------------\n",
      "\n",
      "Ground Truth - Although both are animals at the end of the day, however, the main difference comes partially in the form of perception and, historically, the relationship of humans with certain animals. Pets, e.g. dogs, cats, etc., are used more for companionship and not for food. On the contrary, cattle, e.g. cows, pigs, chickens, etc., are primarily raised for food, i.e. meat, milk, eggs, etc.\n",
      "Model Output Before Tuning - eagle eagle eagle eagle eagle eagle eagle eagle eagle eagle eagle eagle eagle eagle eagle eagle eagle eagle eagle eagle eagle eagle eagle eagle eagle eagle eagle eagle eagle eagle eagle eagle eagle eagle eagle eagle eagle eagle eagle eagle eagle eagle eagle eagle eagle eagle eagle eagle eagle eagle\n",
      "Model Output After Tuning  - a dog is a dog that eats a lot of food.\n",
      "\n",
      "------------------------------------------------------------\n",
      "\n",
      "Ground Truth - In order to put fresh flowers in a vase, follow these steps:\n",
      "\n",
      "1. Find a vase that it is the right size for the flowers. You can use water glasses here in a pinch. \n",
      "2. Fill the vase to about two-thirds full with water. You can add a dash of bleach in the water as well, but it is not necessary. \n",
      "3. Now, trim your flowers to the size of the vase. Cut the end of each flower in a diagonal cut. \n",
      "4. Remove the leaves from the flowers. This will help to grow the flower without putting resources towards the leaves. Be sure to remove any leaves under the water line, since they can cause infections. \n",
      "5. Arrange the flowers in the vase. You can adjust the positions until you are happy with the arrangement.\n",
      "6. Place your vase in a shady spot and you're done!\n",
      "Model Output Before Tuning - Place the flowers in a vase and place them in a vase for a few hours. If you don't have a vase, you can put them in a vase for a few hours. If you don't have a vase, you can put them in a vase for a few hours. If you don't have a vase, you can put them in a vase for a few hours. If you don't have a vase, you can put them in a vase for a few hours. If you don't have a vase, you can put them in a vase for a few hours. If you don't have a vase, you can put them in a vase for a few hours. If you don't have a vase, you can put them in a vase for a few hours. If you don't have a vase, you can\n",
      "Model Output After Tuning  - Place the flowers in a vase and place them in the vase.\n",
      "\n",
      "------------------------------------------------------------\n",
      "\n",
      "Ground Truth - DNA annotation or genome annotation is the process of identifying the locations of genes and all of the coding regions in a genome and determining what those genes do. An annotation (irrespective of the context) is a note added by way of explanation or commentary. Once a genome is sequenced, it needs to be annotated to make sense of it. Genes in a eukaryotic genome can be annotated using various annotation tools such as FINDER. A modern annotation pipeline can support a user-friendly web interface and software containerization such as MOSGA. Modern annotation pipelines for prokaryotic genomes are Bakta, Prokka and PGAP.\n",
      "\n",
      "For DNA annotation, a previously unknown sequence representation of genetic material is enriched with information relating genomic position to intron-exon boundaries, regulatory sequences, repeats, gene names and protein products. This annotation is stored in genomic databases such as Mouse Genome Informatics, FlyBase, and WormBase. Educational materials on some aspects of biological annotation from the 2006 Gene Ontology annotation camp and similar events are available at the Gene Ontology website.\n",
      "\n",
      "The National Center for Biomedical Ontology develops tools for automated annotation of database records based on the textual descriptions of those records.\n",
      "\n",
      "As a general method, dcGO has an automated procedure for statistically inferring associations between ontology terms and protein domains or combinations of domains from the existing gene/protein-level annotations.\n",
      "Model Output Before Tuning - id n = id n = id n = id n = id n = id n = id n = id n = id n = id n = id n = id n = id n = id n = id n = id n = id n = id n = id n = id n = id n = id n = id n = id n = id n = id n = id n = id n = id n = id n = id n = id n = id n = i\n",
      "Model Output After Tuning  - DNA annotation\n",
      "\n",
      "------------------------------------------------------------\n",
      "\n",
      "Ground Truth - Prince Aegon, Princess Daenerys, Prince Aemon, Prince Baelon, Princess Alyssa, Septa Maegelle, Archmaester Vaegon, Princess Daella, Princess Saera, Princess Viserra, Prince Gaemon, Prince Valerion, Princess Gael\n",
      "Model Output Before Tuning - samuel edward edward edward edward edward edward edward edward edward edward edward edward edward edward edward edward edward edward edward edward edward edward edward edward edward edward edward edward edward edward edward edward edward edward edward edward edward edward edward edward edward edward edward edward edward edward edward edward e\n",
      "Model Output After Tuning  - samuel edwards\n",
      "\n",
      "------------------------------------------------------------\n",
      "\n",
      "Ground Truth - Share capital is the money invested directly in a company by its members (shareholders).\n",
      "Model Output Before Tuning - a share capital in finance a share capital in finance a share capital in finance a share capital in finance a share capital in finance a share capital in finance a share capital in finance a share capital in finance a share capital in finance a share capital in finance a share capital in finance a share capital in finance a share capital in finance a share capital in finance a share capital in finance a share capital in finance a share capital in finance a share capital in finance a share capital in finance a share capital in finance a share capital in finance a share capital in finance a share capital in finance a share capital in finance a share capital in finance a share capital in finance a share capital in finance a share capital in finance a share capital in finance a share capital in finance a share capital in finance a share capital in finance a share capital in finance a\n",
      "Model Output After Tuning  - share capital\n",
      "\n",
      "------------------------------------------------------------\n",
      "\n",
      "Ground Truth - California is responsibly for roughly 90% of American wine production\n",
      "Model Output Before Tuning - 1.4 billion yuan ahuahuahuahuahuahuahuahuahuahuahuahuahuahuahuahuahuahuahuahuahuahuahuahuahuahuahuahuahuahuahuahuahuahuahuahuahuahuahuahuahuahuahuahuahuahuahuahuahuahuahuahuahuahuahuahuahuahuahuahuahuahuahuahu\n",
      "Model Output After Tuning  - 1.4 billion yuan a uuu auu yuu uu ouu tuu saan saada sana sasada, a tasmanian taasmania taan aan uuta aan, aaas aanasaan, and aasanas sananassaan.\n",
      "\n",
      "------------------------------------------------------------\n",
      "\n",
      "Ground Truth - The best professional sports teams based in California are the Los Angeles Dodgers, the Golden State Warriors, and the San Francisco 49ers.\n",
      "Model Output Before Tuning - los angeles olympia olympia olympia olympia olympia olympia olympia olympia olympia olympia olympia olympia olympia olympia olympia olympia olympia olympia olympia olympia olympia olympia olympia olympia olympia olympia olympia olympia olympia olympia olympia olympia olymp\n",
      "Model Output After Tuning  - los angeles olympics\n",
      "\n",
      "------------------------------------------------------------\n",
      "\n",
      "Ground Truth - Daisy Rockwell\n",
      "Model Output Before Tuning - Tomb of Sand was translated from Hindi to English\n",
      "Model Output After Tuning  - Tomb of Sand was translated from Hindi to English\n",
      "\n",
      "------------------------------------------------------------\n",
      "\n",
      "Ground Truth - Azure Synapse provides five different compute services:\n",
      "1. Dedicated SQL Pools (previously known as \"Synapse Data Warehouse\"), \n",
      "2. Serverless SQL Pools (i.e. a query service over the data lake), \n",
      "3. Data Explorer Pools (for real-time & time series processing),\n",
      "4. Spark Pools (Microsoft's version of Spark), and\n",
      "5. Pipelines (a variant of ADF)\n",
      "Model Output Before Tuning - a total of a total of a total of a total of a total of a total of a total of a total of a total of a total of a total of a total of a total of a total of a total of a total of a total of a total of a total of a total of a total of a total of a total of a total of a total of a total of a total of a total of a total of a total of a total of a total of a total of a total of a total of a total of a total of a total of a total of a total of a total of a total of a total of a total of a total of a total of a total of a total of a total of a total of\n",
      "Model Output After Tuning  - a total of a combined total of 256 a.k.a. and a synapse of 256.0 a.s. and 256.2 a.a. a.e. 256.3 a.s. a 256.4 a. s. s a 512.3 s.a.\n",
      "\n",
      "------------------------------------------------------------\n",
      "\n",
      "Ground Truth - Flammable objects can become inflamed when placed on or near a fire source or extreme heat.  Its recommended to keep flammable objects far away from heat sources.\n",
      "Model Output Before Tuning - a fire is blown out of the air and a fire is blown out of the air and a fire is blown out of the air and a fire is blown out of the air and a fire is blown out of the air and a fire is blown out of the air and a fire is blown out of the air and a fire is blown out of the air and a fire is blown out of the air and a fire is blown out of the air and a fire is blown out of the air and a fire is blown out of the air and a fire is blown out of the air and a fire is blown out of the air and a fire is blown out of the air and a fire is blown out of the air and a fire is blown out of the air and a fire is blown out of the air and a\n",
      "Model Output After Tuning  - a flammable object is exposed to a fire source or extreme heat\n",
      "\n",
      "------------------------------------------------------------\n",
      "\n",
      "Ground Truth - The New York Giants and New York Jets are both professional football teams in the NFL who play in the New York Metropolitan area. Both teams play in MetLife stadium which used to be called Giants stadium in East Rutherford, NJ. Their fan bases live in New Jersey and New York primarily. The Jets primary color is Green, while the Giants are blue.\n",
      "Model Output Before Tuning - the Jets were a team of the New York Giants and the Jets were a team of the New York Giants and the Jets were a team of the New York Giants and the Jets were a team of the New York Giants and the Jets were a team of the New York Giants and the Jets were a team of the New York Giants and the Jets were a team of the New York Giants and the Jets were a team of the New York Giants and the Jets were a team of the New York Giants and the Jets were a team of the New York Giants and the Jets were a team of the New York Giants and the Jets were a team of the New York Giants and the Jets were a team of the New York Giants and the Jets were a team of the New York Giants and the Jets were\n",
      "Model Output After Tuning  - the Jets were a team of the New York Giants and New York Jets.\n",
      "\n",
      "------------------------------------------------------------\n",
      "\n",
      "Ground Truth - Ahmedabad to Mumbai\n",
      "Model Output Before Tuning - san antonio san antonio san antonio san antonio san antonio san antonio san antonio san antonio san antonio san antonio san antonio san antonio san antonio san antonio san antonio san antonio san antonio san antonio san antonio san antonio san antonio san antonio san antonio san antonio san antonio\n",
      "Model Output After Tuning  - san antonio saskatchewan\n",
      "\n",
      "------------------------------------------------------------\n",
      "\n",
      "Ground Truth - One Earth Year is the time it takes for one revolution of the Earth around the sun.\n",
      "Model Output Before Tuning - one thousand nine hundred and twenty-four hundred and twenty-four hundred and forty-four hundred and forty-four hundred and forty-four hundred and forty-four hundred and forty-four hundred and forty-four hundred and forty-four hundred and forty-four hundred and forty-four hundred and forty-four hundred and forty-four hundred and forty-four hundred and forty-four hundred and forty-four hundred and forty-four hundred and forty-four hundred and forty-four hundred and forty-four hundred and forty-four hundred and forty-four hundred and forty-four hundred and forty-four hundred and forty-four hundred and forty-four hundred and forty-four hundred and forty-four hundred and forty-four hundred and forty-four hundred and forty-four hundred and forty-four hundred and forty-four hundred and forty-four hundred and forty-four hundred and forty-four hundred and forty-four hundred and forty-four hundred and forty-four hundred and\n",
      "Model Output After Tuning  - one thousand nine hundred and ninety nine\n",
      "\n",
      "------------------------------------------------------------\n",
      "\n",
      "Ground Truth - Sam Snead, Tiger Woods, and Jack Nicklaus are the most successful golfers of all time with the top three most major championship wins.\n",
      "Model Output Before Tuning - michael wilson and robert wilson and robert wilson and robert wilson and robert wilson and robert wilson and robert wilson and robert wilson and robert wilson and robert wilson and robert wilson and robert wilson and robert wilson and robert wilson and robert wilson and robert wilson and robert wilson and robert wilson and robert wilson and robert wilson and robert wilson and robert wilson and rob\n",
      "Model Output After Tuning  - michael edwards\n",
      "\n",
      "------------------------------------------------------------\n",
      "\n",
      "Ground Truth - The following types of fish contain low levels of mercury: salmon, flounder, Atlantic mackerel, anchovies, pollock, catfish, and shellfish (e.g., clams, scallops, mussels).\n",
      "Model Output Before Tuning - tequila and tequila tequila and tequila tequila and tequila tequila and tequila and tequila and tequila and tequila and tequila and tequila and tequila and tequila and tequila and tequila and tequila and tequila and tequila and tequila and tequila and tequila and tequila and tequila and tequila and tequila and tequila and tequila and tequila and tequila and tequila and tequila and tequila\n",
      "Model Output After Tuning  - tequila\n",
      "\n",
      "------------------------------------------------------------\n",
      "\n",
      "Ground Truth - You will need 1-2 teaspoons of matcha powder, milk of your choice, 1 cup of hot water, and ice. In a cup or bowl, you will add your match powder and pour your hot water into it and use a whisk until the matcha powder is well incorporated, which should create a paste like consistency. Then you will take a glass and pour in your ice and milk and your matcha paste on top and stir.\n",
      "Model Output Before Tuning - Place ice cubes in a large bowl and mix with a fork. Add the ice cubes to the bowl and mix. Add the ice cubes to the bowl and mix. Add the ice cubes to the bowl and mix. Add the ice cubes to the bowl and mix. Add the ice cubes to the bowl and mix. Add the ice cubes to the bowl and mix. Add the ice cubes to the bowl and mix. Add the ice cubes to the bowl and mix. Add the ice cubes to the bowl and mix. Add the ice cubes to the bowl and mix. Add the ice cubes to the bowl and mix. Add the ice cubes to the bowl and mix. Add the ice cubes to the bowl and mix. Add the ice cubes to the bowl and mix\n",
      "Model Output After Tuning  - Place ice cubes in a large bowl and add ice cream. Add ice cream and ice cream to the bowl and mix. Add the ice cream mixture to the bowl. Add the cream mixture and mix until the cream mixture is melted.\n",
      "\n",
      "------------------------------------------------------------\n",
      "\n",
      "Ground Truth - Lady Bird Lake in Austin downtown is revered to be the best place to go Kayaking. Paddlers can choose to head west from the Rowing Dock to take in nature views. But a small paddle down the river to the east will greet paddlers to magnificent downtown skyline views.\n",
      "Model Output Before Tuning - san antonio del san antonio del san antonio del san antonio del san antonio del san antonio del san antonio del antonio del antonio del antonio del antonio del antonio del antonio del antonio del antonio del antonio del antonio del antonio del antonio del antonio del antonio del antonio del antonio del antonio del antonio del antoni\n",
      "Model Output After Tuning  - san antonio\n",
      "\n",
      "------------------------------------------------------------\n",
      "\n",
      "Ground Truth - There are a few significant differences between a bass guitar and a regular guitar.  A bass guitar typically has 4 strings (though it can have more), is larger in body & neck, and has higher string gauges (string thickness).  A bass guitar is used for keeping the band on track by keeping the rhythm and hitting the root notes of the chords.  \n",
      "\n",
      "A regular guitar typically has 6 strings, and can be used for a wider variety of purposes.  These include keeping the rhythm with chords, playing foundational riffs, or improvisational solos for instrumental layering.  The regular guitarists are almost always the more well-known of the two.\n",
      "Model Output Before Tuning - a bass guitar is a musical instrument that is played on a bass guitar, a drum, or a bass drum. a bass guitar is a musical instrument that is played on a bass guitar, a drum, or a drum, or drum, or drum, or drum, or drum, or drum, or drum, or drum, or drum, or drum, or drum, or drum, or drum, or drum, or drum, or drum, or drum, or drum, or drum, or drum, or drum, or drum, or drum, or drum, or drum, or drum, or drum, or drum, or drum, or drum, or drum, or drum, or drum, or drum, or drum, or drum, or drum, or drum, or drum, or drum, or drum, or drum, or drum, or drum, or drum, or drum, or drum, or drum, or drum, or\n",
      "Model Output After Tuning  - bass guitar\n",
      "\n",
      "------------------------------------------------------------\n",
      "\n",
      "Ground Truth - Gross domestic product (GDP) is a monetary measure of the market value of all the final goods and services produced and sold in a specific time period by a country or countries, generally \"without double counting the intermediate goods and services used up to produce them\". GDP is most often used by the government of a single country to measure its economic health. Due to its complex and subjective nature, this measure is often revised before being considered a reliable indicator. GDP (nominal) per capita does not, however, reflect differences in the cost of living and the inflation rates of the countries; therefore, using a basis of GDP per capita at purchasing power parity (PPP) may be more useful when comparing living standards between nations, while nominal GDP is more useful comparing national economies on the international market. Total GDP can also be broken down into the contribution of each industry or sector of the economy. The ratio of GDP to the total population of the region is the per capita GDP (also called the Mean Standard of Living).\n",
      "Model Output Before Tuning - 3.3 billion yuan (                                                                                                \n",
      "Model Output After Tuning  - GDP\n",
      "\n",
      "------------------------------------------------------------\n",
      "\n",
      "Ground Truth - Given that a super-yarn is worth 10 yarns and a mini-yarn is worth 0.5 yarn, if you have 2 super-yarns and 3 mini-yarns you have 21.5 yarns in total.\n",
      "Model Output Before Tuning - adolescence and adolescence and adolescence and adolescence and adolescence and adolescence and adolescence and adolescence and adolescence and adolescence and adolescence and adolescence and adolescence and adolescence and adolescence and adolescence and adolescence and adolescence and adolescence and adolescence and adolescence and adolescence and adolescence and adolescence and adolescence and adolescence and adolescence and adolescence and ado\n",
      "Model Output After Tuning  - adolescence and a drool ad a roose ad. a ad and ad are two types of ad, ad is a sex ad of a lone ad in a b ad with a c ad or a ed. b b c b d c c d d e d o d s e o s o e e s s d n e n s n o r o n n r n d r e r s r r d l e l o o c e c o l n \n",
      "\n",
      "------------------------------------------------------------\n",
      "\n",
      "Ground Truth - A Mormon typically refers to a member of the Church of Jesus Christ of Latter-day Saints. The word Mormon comes from a prophet in the Book of Mormon who lived in the Americas around 300 A.D. The Book of Mormon is part of the canon of scripture that members of the Church of Jesus Christ of Latter-day Saints use, in conjunction with the Bible and the Doctrine and Covenants. It is often viewed as a distinguishing difference between the Church of Jesus Christ of Latter-day Saints and other Christian denominations. Historically, this is why members of the Church of Jesus Christ of Latter-day Saints have been called Mormons.\n",
      "Model Output Before Tuning - Mormons are a group of Mormons who are ordained as a priest or a sacramento of the church. The sacramento of the church is a sacramento of the church. The sacramento of the church is a sacramento of the church. The sacramento of the church is a sacramento of the church. The sacramento of the church is a sacramento of the church. The sacramento of the church is a sacramento of the church. The sacramento of the church is a sacramento of the church. The sacramento of the church is a sacramento of the church. The sacramento of the\n",
      "Model Output After Tuning  - Mormons are a group of Mormons who are ordained as a sacramento of the Evangelical Church of the United States of America. Mormons are the members of a congregation of the Church of Jesus Christ of Latter Day Saints.\n",
      "\n",
      "------------------------------------------------------------\n",
      "\n",
      "Ground Truth - A red delicious apple is red and sweet whereas a Granny Smith apple is green and tart.\n",
      "Model Output Before Tuning - Granny Smith (or Granny Smith) is a genus of plants in the family Chrysalisae. It is a genus of plants in the family Chrysalisae. It is a genus of plants in the family Chrysalisae. It is a genus of plants in the family Chrysalisae. It is a genus of plants in the family Chrysalisae. It is a genus of plants in the family Chrysalisae. It is a genus of plants in the family Chrysalisae. It is a genus of plants in the family Chrysalisae. It is a genus of plants in the family Chrysalisae. It is a genus of plants in the family\n",
      "Model Output After Tuning  - Granny Smith (or Granny Smith) is a genus of fungi in the family Grannyae. The genus is a moth in the family Crambidae.\n",
      "\n",
      "------------------------------------------------------------\n",
      "\n",
      "Ground Truth - It would have be Te Ani'la Mand'alor, or also called Mandalore the Ultimate.\n",
      "Model Output Before Tuning - eliota eliota eliota eliota eliota eliota eliota eliota eliota eliota eliota eliota eliota eliota eliota eliota eliota eliota eliota eliota eliota eliota eliota eliota eliota eliota eliota eliota eli\n",
      "Model Output After Tuning  - adam kool koad ko lu kou kaol o koda kok koya ku k o o ay kobo k ayayaaya ayyaada yay ayuda sassa sarah saman kohda o saad ayodaa yo ahudaayo yoludah yosudaha yoydahya yugodaho yaodahu yogodahaadahi yoodahai ya\n",
      "\n",
      "------------------------------------------------------------\n",
      "\n",
      "Ground Truth - Ludwig van Beethoven\n",
      "Model Output Before Tuning - samuel wilson iii of st john ii of st john ii of st john ii of st john ii of st john iv of st john iv of st john iv of st john iv of st john iv of st john iv of st john iv of st john iv of st john iv of st john iv of st john iv of st john iv of st john iv of st john iv of st john iv of st john iv of st john\n",
      "Model Output After Tuning  - samuel edwards\n",
      "\n",
      "------------------------------------------------------------\n",
      "\n",
      "Ground Truth - James Watson and Francis Crick identified the double-helix structure of deoxyribonucleic acid in 1953.\n",
      "Model Output Before Tuning - george w. w. w. w. w. w. w. w. w. w. w. w. w. w. w. w. w. w. w. w. w. w. w. w. w. w. w. w. w. w. w. w. w. w. w. w. w. w. w. w. w. w. w. w. w. w. w. w. w. w. w. w. w. w. w. w. w. w. w. w. w. w. w. w. w. w\n",
      "Model Output After Tuning  - george w. bush\n",
      "\n",
      "------------------------------------------------------------\n",
      "\n",
      "Ground Truth - Bollywood is a movie industry based in Mumbai, India. It primarily makes movies in Hindi language. Since it was based in a city previously known as Bombay, a convenient moniker Bollywood resembling Hollywood is used to describe Hindi language film industry.\n",
      "Model Output Before Tuning -                                                                                                    \n",
      "Model Output After Tuning  -  \n",
      "\n",
      "------------------------------------------------------------\n",
      "\n",
      "Ground Truth - Nanotubes, often known as Carbon Nanotubes, are light, strong shapes made of Carbon atoms.  Nanotubes are shaped like tiny straws with walls as thin as one carbon atom.  They are considered as the strongest of any material known to man.  Nanotubes have many practical uses, one of which is to make the darkest black paint.\n",
      "Model Output Before Tuning - Nanotubes are a type of tube that is made of a material that is made of a material that is made of a material that is made of a material that is made of a material that is made of a material that is made of a material that is made of a material that is made of a material that is made of a material that is made of a material that is made of a material that is made of a material that is made of a material that is made of a material that is made of a material that is made of a material that is made of a material that is made of a material that is made of a material that is made of a material that is made of a material that is made of a material that is made of a material that is made of a material that is made of a material that is made of a material that is\n",
      "Model Output After Tuning  - nanotubes\n",
      "\n",
      "------------------------------------------------------------\n",
      "\n",
      "Ground Truth - A secured loan is a form of debt in which the borrower pledges some asset (i.e., a car, a house) as collateral.\n",
      "Model Output Before Tuning - A secured loan is a loan secured by a fixed interest rate (PR) or a fixed interest rate (PR) of a fixed interest rate (PR) of a fixed interest rate (PR) of a fixed interest rate (PR) of a fixed interest rate (PR) of a fixed interest rate (PR) of a fixed interest rate (PR) of a fixed interest rate (PR) of a fixed interest rate (PR) of a fixed interest rate (PR) of a fixed interest rate (PR) of a fixed interest rate (PR) of a fixed interest rate (PR) of a fixed interest rate (PR) of a fixed interest rate (PR) of a fixed interest rate (PR) of a fixed interest rate (PR) of a fixed interest rate (PR) of a fixed interest rate (PR) of a fixed interest rate (PR) of a\n",
      "Model Output After Tuning  - a secured loan\n",
      "\n",
      "------------------------------------------------------------\n",
      "\n",
      "Ground Truth - That is a personal question and one should think about this very carefully. Things to consider:\n",
      "\n",
      "1. How old are you?\n",
      "2. Can you afford to raise the child \n",
      "3. Do you have proper healthcare\n",
      "4. Do you have anyone to help you\n",
      "5. Do you like kids\n",
      "6. Why do you want kids\n",
      "Model Output Before Tuning - A child is a person who has a developmental disability. A child is a person who has a developmental disability. A child is a person who has a developmental disability. A child is a person who has a developmental disability. A child is a person who has a developmental disability. A child is a person who has a developmental disability. A child is a person who has a developmental disability. A child is a person who has a developmental disability. A child is a person who has a developmental disability. A child is a person who has a developmental disability. A child is a person who has a developmental disability. A child is a person who has a developmental disability. A child is a person who has a developmental disability. A child is a person who has a developmental disability. A child is a person who has a developmental disability. A child is a\n",
      "Model Output After Tuning  - A child is a person who is not a parent. A child who is a parent is a child that is a member of a family. A child with a child who isn't a parent must have a child.\n",
      "\n",
      "------------------------------------------------------------\n",
      "\n",
      "Ground Truth - Theodore Roosevelt\n",
      "Model Output Before Tuning - george w. bush\n",
      "Model Output After Tuning  - george w. bush\n",
      "\n",
      "------------------------------------------------------------\n",
      "\n",
      "Ground Truth - The Football Association Challenge Cup, more commonly known as the FA Cup, is an annual knockout football competition in men's domestic English football. First played during the 1871–72 season, it is the oldest national football competition in the world. It is organised by and named after The Football Association (The FA). Since 2015, it has been known as The Emirates FA Cup after its headline sponsor. A concurrent Women's FA Cup has been held since 1970.\n",
      "\n",
      "The competition is open to all eligible clubs down to Level 9 of the English football league system with Level 10 clubs acting as stand-ins in the event of non-entries from above. Included in the competition are 20 professional clubs in the Premier League (level 1), 72 professional clubs in the English Football League (levels 2 to 4), and all clubs in steps 1–5 of the National League System (levels 5 to 9) as well as a tiny number of step 6 clubs acting as stand-ins for non-entries above. A record 763 clubs competed in 2011–12. The tournament consists of 12 randomly drawn rounds followed by the semi-finals and the final. Entrants are not seeded, although a system of byes based on league level ensures higher ranked teams enter in later rounds – the minimum number of games needed to win, depending on which round a team enters the competition, ranges from six to fourteen.\n",
      "\n",
      "The first six rounds are the Qualifying Competition, from which 32 teams progress to the first round of the Competition Proper, meeting the first of the 48 professional teams from Leagues One and Two. The last entrants are the Premier League and Championship clubs, into the draw for the Third Round Proper. In the modern era, only one non-League team has ever reached the quarter-finals, and teams below Level 2 have never reached the final. As a result, significant focus is given to the smaller teams who progress furthest, especially if they achieve an unlikely \"giant-killing\" victory.\n",
      "\n",
      "Winners receive the FA Cup trophy, of which there have been two designs and five actual cups; the latest is a 2014 replica of the second design, introduced in 1911. Winners also qualify for the UEFA Europa League and a place in the upcoming FA Community Shield. Arsenal are the most successful club with fourteen titles and Arsène Wenger is the most successful manager in the history of the competition, having won seven finals as Arsenal's manager.\n",
      "\n",
      "Liverpool are the current holders, having beaten Chelsea 6–5 on penalties following a 0–0 draw in the 2022 final.\n",
      "Model Output Before Tuning - saturday night saturday night saturday night saturday night saturday night saturday night saturday night saturday night saturday night saturday night saturday night saturday night saturday night saturday night saturday night saturday night saturday night saturday night saturday night saturday night saturday night saturday night saturday night saturday night saturday night saturday night saturday night saturday night saturday night saturday night saturday night saturday night saturday night saturday night saturday night saturday night saturday night saturday night saturday night saturday night\n",
      "Model Output After Tuning  - fa cup\n",
      "\n",
      "------------------------------------------------------------\n",
      "\n",
      "Ground Truth - Atlantic Ocean\n",
      "Arctic Ocean\n",
      "Pacific Ocean\n",
      "Indian Ocean\n",
      "Model Output Before Tuning - arctic arctic arctic arctic arctic arctic arctic arctic arctic arctic arctic arctic arctic arctic arctic arctic arctic arctic arctic arctic arctic arctic arctic arctic arctic arctic arctic arctic arctic arctic arctic arctic arctic arctic arctic arctic arctic arctic arctic arctic arctic arctic arctic arctic arctic arctic arctic arctic arctic arctic arctic arctic arctic arctic arctic arctic arctic arctic arctic arctic arctic arctic arctic arctic arctic arctic arc\n",
      "Model Output After Tuning  - arctic and arctic oceans\n",
      "\n",
      "------------------------------------------------------------\n",
      "\n",
      "Ground Truth - Harry did not put his own name in the goblet of fire. Barty Crouch Junior, using polyjuice potion to disguise himself as Alistair Moody, put Harry's name in the goblet of fire as part of his plan to deliver Harry into Lord Voldemort's hands.\n",
      "Model Output Before Tuning - no he was born in the slums of the slums of the slums of the slums of the slums of the slums of the slums of the slums of the slums of the slums of the slums of the slums of the slums of the slums of the slums of the slums of the slums of the slums of the slums of the slums of the slums of the slums of the slums of the slums of the slums of the slums of the slums of the slums of the slums of the slums of the slums of the slums of the \n",
      "Model Output After Tuning  - no\n",
      "\n",
      "------------------------------------------------------------\n",
      "\n",
      "Ground Truth - \"The Hate U Give\" which was released in 2017 and debuted at number one on The New York Times Best Seller list.\n",
      "Model Output Before Tuning - edward edward edward edward edward edward edward edward edward edward edward edward edward edward edward edward edward edward edward edward edward edward edward edward edward edward edward edward edward edward edward edward edward edward edward edward edward edward edward edward edward edward edward edward edward edward edward edward edward edward\n",
      "Model Output After Tuning  - edward esward s s eward ewards e e ward e d e w e f e h e l e s w s f s h s d s l s t s o s r s a s n s c s g s m s b s p s i s v s k s y s j s q s u s x s ch s  s's st s's '' s - s & s ; s, '' and '', ',, &, ;,\n",
      "\n",
      "------------------------------------------------------------\n",
      "\n",
      "Ground Truth - Some biologists maintain that there is no genetic difference between shrubs and trees - some species may have expressions in tree form and shrub form.  Other scientists believe that the physical form is essential and that shrubs are distinct from trees.\n",
      "Model Output Before Tuning - shrubs and trees are a type of shrub or tree that is a type of shrub or tree that is a type of tree that is a type of tree that is a type of tree that is a type of tree that is a type of tree that is a type of tree that is a type of tree that is a type of tree that is a type of tree that is a type of tree that is a type of tree that is a type of tree that is a type of tree that is a type of tree that is a type of tree that is a type of tree that is a type of tree that is a type of tree that is a type of tree that is a type of tree that is a type of tree that is a type of tree that is a type of tree that is a type of tree that is a type of tree that is a\n",
      "Model Output After Tuning  - shrubs and trees\n",
      "\n",
      "------------------------------------------------------------\n",
      "\n",
      "Ground Truth - The following players won the men's singles grand slam tennis tournaments in 2022:\n",
      "- Rafael Nadal won the Australian Open and the French Open\n",
      "- Novak Djokovic won Wimbledon\n",
      "- Carlos Alcaraz won the US Open\n",
      "Model Output Before Tuning - men's singles grand slam slam slam slam slam slam slam slam slam slam slam slam slam slam slam slam slam slam slam slam slam slam slam slam slam slam slam slam slam slam slam slam slam slam slam slam slam slam slam slam slam slam slam slam slam slam slam slam s\n",
      "Model Output After Tuning  - men's singles grand slam tennis\n",
      "\n",
      "------------------------------------------------------------\n",
      "\n",
      "Ground Truth - The US Constitution divides the federal government into three branches: legislative, executive and judicial.  This ensures that no individual or group will have too much power.\n",
      "Model Output Before Tuning - federal republican republican republican republican republican republican republican republican republican republican republican republican republican republican republican republican republican republican republican republican republican republican republican republican republican republican republican republican republican republican republican republican republican republican republican republican republican republican republican republican republican republican republican republican republican republican republican republican republican republican republican republican republican republican republican republican republican republican republican republican republican republican republican republican republican republican republican republican republican republican republican republican republican republican republican republican republican republican republican republican republican republican republican republican republican republican republican republican republican republican republican republican republican republican republican republican republican republican republican republic\n",
      "Model Output After Tuning  - federal republic of the united states federal republic of u.s. federal republic of united states senate of united states of america s u. s. s s c s d c c d d e c e d f c f d s e f s f f e e u s o c o d o e o f o o u f u c u d a u a c a f a a s a e a o a d b a b b c b e b d u u b f b s b u e s t c t d \n",
      "\n",
      "------------------------------------------------------------\n",
      "\n",
      "Ground Truth - While they are similar sports, tennis and pickleball have various difference. First, the court size for pickleball is about half the size of a tennis court. Second, pickleball is played with a ball that resembles a whiffle ball. Third, pickleball is played with paddles as opposed to rackets. Finally, the scoring system is quite different as you play for points which can only be scored when you or your team are serving.\n",
      "Model Output Before Tuning - tennis pickleball tennis pickleball is a tennis tournament played on outdoor clay courts. It is a tournament played on outdoor clay courts and is played on outdoor clay courts and is played on outdoor clay courts and is played on outdoor clay courts and is played on outdoor clay courts and is played on outdoor clay courts and is played on outdoor clay courts and is played on outdoor clay courts and is played on outdoor clay courts and is played on outdoor clay courts and is played on outdoor clay courts and is played on outdoor clay courts and is played on outdoor clay courts and is played on outdoor clay courts and is played on outdoor clay courts and is played on outdoor clay courts and is played on outdoor clay courts and is played on outdoor clay courts and is played on outdoor clay courts and is played on outdoor clay courts and is played on outdoor clay courts and is played on outdoor clay courts and is played on outdoor clay courts and is played on outdoor clay courts and is played on outdoor clay courts and is played\n",
      "Model Output After Tuning  - pickleball\n",
      "\n",
      "------------------------------------------------------------\n",
      "\n",
      "Ground Truth - This can be discussed but it is often admitted that Michael Jordan is the best NBA player of all time.\n",
      "Model Output Before Tuning - michael roosevelt jackson jackson jackson jackson jackson jackson jackson jackson jackson jackson jackson jackson jackson jackson jackson jackson jackson jackson jackson jackson jackson jackson jackson jackson jackson jackson jackson jackson jackson jackson jackson jackson jackson jackson jackson jackson jackson jackson jackson jackson jackson jackson jackson jackson jackson jackson jackson jackson jackson jackson jackson jackson jackson jackson jackson jackson jackson jackson jackson jackson jackson jackson jack\n",
      "Model Output After Tuning  - michael lincoln\n",
      "\n",
      "------------------------------------------------------------\n",
      "\n",
      "Ground Truth - The U.S. half dollar is the winner with 150 ridges.\n",
      "Model Output Before Tuning - rio rio rio rio rio rio rio rio rio rio rio rio rio rio rio rio rio rio rio rio rio rio rio rio rio rio rio rio rio rio rio rio rio rio rio rio rio rio rio rio rio rio rio rio rio rio rio rio rio rio\n",
      "Model Output After Tuning  - roosevelt\n",
      "\n",
      "------------------------------------------------------------\n",
      "\n",
      "Ground Truth - Carrie Underwood.\n",
      "Model Output Before Tuning - elizabeth elizabeth elizabeth elizabeth elizabeth elizabeth elizabeth elizabeth elizabeth elizabeth elizabeth elizabeth elizabeth elizabeth elizabeth elizabeth elizabeth elizabeth elizabeth elizabeth elizabeth elizabeth elizabeth elizabeth elizabeth elizabeth elizabeth elizabeth elizabeth elizabeth elizabeth elizabeth elizabeth e\n",
      "Model Output After Tuning  - elizabeth edwards\n",
      "\n",
      "------------------------------------------------------------\n",
      "\n",
      "Ground Truth - Game of Thrones is based on the books written by George R. R. Martin called a Song of Ice and Fire.\n",
      "Model Output Before Tuning - a series of teeming tales based on a series of teeming tales based on a series of teeming tales based on a series of teeming tales based on a series of teeming tales based on a series of teeming tales based on a series of teeming tales based on a series of teeming tales based on a series of teeming tales based on a series of teeming tales based on a series of teeming tales based on a series of teeming tales based on a series of teeming tales based on a series of \n",
      "Model Output After Tuning  - a series of adolescent sex and sex series based on a sex sex episode based on the sex of a teen whose sex is sex on the eve of sex.\n",
      "\n",
      "------------------------------------------------------------\n",
      "\n",
      "Ground Truth - The professional baseball teams in the state of Florida are the Tampa Bay Rays and Miami Marlins.\n",
      "Model Output Before Tuning - st. louis st. louis st. louis st. louis st. louis st. louis st. louis st. louis st. louis st. louis st. louis st. louis st. louis st. louis st. louis st. louis st. louis st. louis st. louis st. louis st. louis st. louis st. louis st. louis st. louis st. louis st. louis st. louis st. louis st. louis st. louis st. louis st. louis s\n",
      "Model Output After Tuning  - st. louis san francisco san antonio saskatchewan\n",
      "\n",
      "------------------------------------------------------------\n",
      "\n",
      "Ground Truth - No\n",
      "Model Output Before Tuning - no\n",
      "Model Output After Tuning  - no\n",
      "\n",
      "------------------------------------------------------------\n",
      "\n",
      "Ground Truth - Soap is made with a mixture of natural or organic oils, sodium hydroxide and distilled water.  When making soap you need to mix a combination of light and heavy oils like olive and coconut oil and then mix it with sodium hydroxide and distilled water.  After this mixture has been mixed well you poor it into soap molds and let it hard over the course of many weeks.  This process called saponification is the time it takes for the sodium hydroxide to evaporate from the mixture which causes the soap to harden in he soap molds.  Other options you have when making soap are to add essential oils, like lavender and grapefruit to give a nice scent to the soap.  This has to be added prior to saponification.\n",
      "Model Output Before Tuning - Pour the soap into a bowl and pour it into a bowl. Pour the soap into a bowl and pour it into a bowl. Pour the soap into a bowl and pour it into a bowl. Pour the soap into a bowl and pour the soap into a bowl. Pour the soap into a bowl and pour the soap into a bowl. Pour the soap into a bowl and pour the soap into a bowl and pour the soap into a bowl and pour the soap into a bowl and pour the soap into a bowl and pour the soap into a bowl and pour the soap into a bowl and pour the soap into a bowl and pour the soap into a bowl and pour the soap into a bowl and pour the soap into a bowl and pour the soap into a bowl and pour the soap into a bowl and pour the soap into a bowl and pour the soap into a bowl and pour the soap\n",
      "Model Output After Tuning  - Pour the soap into a bowl and add the soap to the bowl. Add the soap and stir until the soap is dissolved. Pour the soap mixture into the bowl and add to the soap mixture. Add the mixture to the bowl and stir until it reaches the desired consistency. Pour the mixture into the soap mixture and stir until soap is completely dissolved and the soap is fully dissolved. Let the soap mixture sit for a few minutes and then add the soap mixture to the mixture.\n",
      "\n",
      "------------------------------------------------------------\n",
      "\n",
      "Ground Truth - Wild Boars\n",
      "Model Output Before Tuning - elephants and rhinoceroses and rhinoceroses and rhinoceroses and rhinoceroses and rhinoceroses and rhinoceroses and rhinoceroses and rhinoceroses and rhinoceroses and rhinoceroses and rhinoceroses and rhinoceroses and rhinoceroses and rhinoceroses and rhinoceroses and rhinoceroses and rhinoceroses and rhinoceroses and rhinoceroses and rhinoceroses and rhinoceroses and rhinoceroses and rhinoceroses and rhinoceroses and rhinoceroses and rhinoceroses and rhinoceroses and rhinoceroses and rhinoceroses and rhinoceroses and rhinoceroses and rhinoceroses and rhinoceroses and rhinoceroses and rhinoceroses and rhinoceroses and rhinoceroses and rhinoceroses and rhinoceroses and rhinoce\n",
      "Model Output After Tuning  - elephants\n",
      "\n",
      "------------------------------------------------------------\n",
      "\n",
      "Ground Truth - Yes, George Lucas and Steven Spielberg are long-time friends, dating back to their first meeting in 1967. They have collaborated and supported each other on a number of films and celebrated each others success in the field of filmmaking.\n",
      "Model Output Before Tuning - no\n",
      "Model Output After Tuning  - no\n",
      "\n",
      "------------------------------------------------------------\n",
      "\n",
      "Ground Truth - San Francisco is a famously foggy city\n",
      "Model Output Before Tuning - hot and humid summers in the San Francisco Bay Area. The San Francisco Bay Area is famous for its snowy climate and its snowy climate. The San Francisco Bay Area is famous for its snowy climate and its snowy climate. The San Francisco Bay Area is famous for its snowy climate and its snowy climate. The San Francisco Bay Area is famous for its snowy climate and its snowy climate. The San Francisco Bay Area is famous for its snowy climate and its snowy climate. The San Francisco Bay Area is famous for its snowy climate and its snowy climate. The San Francisco Bay Area is famous for its snowy climate and its snowy climate. The San Francisco Bay Area is famous for its snowy climate and its snowy climate. The San Francisco Bay Area is famous for its snowy climate and its snowy climate. The San Francisco Bay Area is famous for its snowy climate and its snowy climate. The San Francisco Bay Area is famous for\n",
      "Model Output After Tuning  - southeastern southwestern southeastern region of the United States of America southeastern coastal southwestern coastal southeastern southern southeastern northern southeastern coast of the southern southwestern coast of the northern southwestern region of the southern coast of the northwestern coast of the western coast of the northeastern coast of the eastern coast of the southeastern United States. southeastern eastern southeastern western southeastern northeastern southeastern southeast southeastern northwestern coasts of the northern coast of the southeast coast of the southwest coast of the southwestern region of the western region of the northeast coast of the northwest coast of the west coast of the east coast of the region of the southeast.\n",
      "\n",
      "------------------------------------------------------------\n",
      "\n",
      "Ground Truth - Some of the most popular movies starring Will Ferrell include Old School, Stepbrothers, Elf, Anchorman, Stranger than Fiction, Blades of Glory, Zoolander, and Talladega Nights: The Ballad of Ricky Bobby.\n",
      "Model Output Before Tuning - saturday night saturday night saturday night saturday night saturday night saturday night saturday night saturday night saturday night saturday night saturday night saturday night saturday night saturday night saturday night saturday night saturday night saturday night saturday night saturday night saturday night saturday night saturday night saturday night saturday night saturday night saturday night saturday night saturday night saturday night saturday night saturday night saturday night saturday night saturday night saturday night saturday night saturday night saturday night saturday night\n",
      "Model Output After Tuning  - saturday night osso bucolo oscuro sassy oscar oso o sydney os o luogo o roosevelt o tuesday night a saada o aad o edward o yelo ay o drool o otto o utto a aaado oo oh o hylo e o nasso ah ooo a hydo ao oy ooh aho om o mr oma omi omo o\n",
      "\n",
      "------------------------------------------------------------\n",
      "\n",
      "Ground Truth - The books concern a wizard called Harry Potter and his journey through Hogwarts School of Witchcraft and Wizardry. The stories tell of him overcoming dangerous obstacles to defeat the Dark Wizard Lord Voldemort, who killed his parents when Harry was 15 months old.\n",
      "Model Output Before Tuning - Harry Potter and the Philosopher's Stone is a series of books written by Harry Potter and the Philosopher's Stone. Harry Potter and the Philosopher's Stone is a series of books written by Harry Potter and the Philosopher's Stone. Harry Potter and the Philosopher's Stone are a series of books written by Harry Potter and the Philosopher's Stone. Harry Potter and the Philosopher's Stone are a series of books written by Harry Potter and the Philosopher's Stone. Harry Potter and the Philosopher's Stone are a series of books written by Harry Potter and the Philosopher's Stone. Harry Potter and the Philosopher's Stone are a series of books written by Harry Potter and the Philosopher's Stone. Harry Potter and the Philosopher's Stone are a series of books written by Harry Potter and the Philosopher's Stone. Harry Potter and the Philosopher's Stone are \n",
      "Model Output After Tuning  - Harry Potter and the Philosopher's Stone\n",
      "\n",
      "------------------------------------------------------------\n",
      "\n",
      "Ground Truth - He invented Dynamite\n",
      "Model Output Before Tuning - he was a philanthropist and philanthropist and philanthropist and philanthropist and philanthropist and philanthropist and philanthropist and philanthropist and philanthropist and philanthropist and philanthropist and philanthropist and philanthropist and philanthropist and philanthropist and philanthropist and philanthropist and philanthropist and philanthropist and philanthropist and philanthropist and philanthropist and philanthropist and philanthropist and philanthropist and philanthropist and philanthropist and philanthropist\n",
      "Model Output After Tuning  - he was a philanthropist\n",
      "\n",
      "------------------------------------------------------------\n",
      "\n",
      "Ground Truth - Each year there is a race held to swim across Lake Tahoe. The race was created and is still sponsored by The Olympic Club of San Francisco. Teams are created and entered from across the globe but primarily North America. The format of the race is a six person relay; all male, all female. or half male/female. Starting on the Nevada side of the lake each member of the team swims for 30 minutes following the team's boat. After each of the swimmers has completed the 30 minute rotation the swimmers then rotate again every 10 minutes. This is done is sequence until the team reach the other side of the lake in California. The swimmers need to touch one-another when rotating between swimmers and there are no wetsuits or fins allowed.\n",
      "Model Output Before Tuning - The Trans Tahoe Relay is a trans-sale relay that is a relay of a relay of a relay of a relay of a relay of a relay of a relay of a relay of a relay of a relay of a relay of a relay of a relay of a relay of a relay of a relay of a relay of a relay of a relay of a relay of a relay of a relay of a relay of a relay of a relay of a relay of a relay of a relay of a relay of a relay of a re\n",
      "Model Output After Tuning  - Trans Tahoe Relay\n",
      "\n",
      "------------------------------------------------------------\n",
      "\n",
      "Ground Truth - The world’s largest performing rock band included 953 musicians.\n",
      "Model Output Before Tuning - 69,769,769,769,769,769,769,769,769,769,769,769,769,769,769,769,769,769,769,769,769,769,769,769,769,769,769,769,769,769,769,769,769,769,769,769,769,769,769,769,769,769,769,769,769,769,769,769,769,769,769,769,769,769,769,769,769,769,769,769,769,769,769,769,769,769,769\n",
      "Model Output After Tuning  - 69,069, 69,694, 77,693, 87,694 and 77,469, and 87,469 and 77,369,477,487,387,478,378,447,377,277,578,278,587,287,547,247,569,577,747,778,787,777,777,769,7777,774,727,779,717,719,728,729,739,799,737,759,735,745,748,749 \n",
      "\n",
      "------------------------------------------------------------\n",
      "\n",
      "Ground Truth - Here is a list of all the books in the Harry Potter collection written by J.K. Rowling - Harry Potter and the Philosopher's Stone, Harry Potter and the Chamber of Secrets, Harry Potter and the Prisoner of Azkaban, Harry Potter and the Goblet of Fire, Harry Potter and the Order of the Phoenix, Harry Potter and the Half-Blood Prince and Harry Potter and the Deathly Hallows\n",
      "Model Output Before Tuning - harry potter or harry potter or harry potter or harry potter or harry potter or harry potter or harry potter or harry potter or harry potter or harry potter or harry potter or harry potter or harry potter or harry potter or harry potter or harry potter or harry potter or harry potter or harry potter or harry potter or harry potter or harry potter or harry potter or harry potter or harry potter or harry potter or harry potter or harry potter or harry potter or harry potter or harry potter or harry potter or harry potter or har\n",
      "Model Output After Tuning  - harry potter\n",
      "\n",
      "------------------------------------------------------------\n",
      "\n",
      "Ground Truth - Aberdeen is a city located in the North East of Scotland. As of 2020 it had a population of 200,000 people and is the third largest city in Scotland, behind Edinburgh (435,000) and Glasgow (610,000). Aberdeen has been referred to as \"The Silver City\" due to the high number of buildings in the city constructed of Granite from the local quarry, which may sparkle on the rare occasion that the sunlight hits the buildings.  Since the 1960's the city's economy has largely revolved around Oil & Gas due to its proximity to the North Sea Oil discovery.   Aberdeen has two universities; the University of Aberdeen and Robert Gordon University. Notable people who have been associated with Aberdeen include singer Annie Lennox, golfer Paul Lawrie and architect Archibald \"Archie\" Simpson.\n",
      "Model Output Before Tuning - Aberdeen\n",
      "Model Output After Tuning  - Aberdeen\n",
      "\n",
      "------------------------------------------------------------\n",
      "\n",
      "Ground Truth - The English Premier League is the top flight of English football.\n",
      "Model Output Before Tuning - england england england england england england england england england england england england england england england england england england england england england england england england england england england england england england england england england england england england england england england england england england england england england england england england england england\n",
      "Model Output After Tuning  - england premier league\n",
      "\n",
      "------------------------------------------------------------\n",
      "\n",
      "Ground Truth - Predictive Maintenance is widely used in the manufacturing industry. It is all about figuring out when an asset should be maintained, and what specific maintenance activities need to be performed, based on an asset’s actual condition or state, rather than on a fixed schedule, so that you can maximize uptime and productivity. It is all about predicting & preventing failures and performing the right maintenance routines in order to reduce costly equipment downtimes.\n",
      "Model Output Before Tuning - Predictive maintenance is the maintenance of a particular product or service that is based on a specific product or service. Predictive maintenance is the maintenance of a specific product or service that is based on a specific product or service. Predictive maintenance is the maintenance of a specific product or service that is based on a specific product or service. Predictive maintenance is the maintenance of a specific product or service that is based on a specific product or service. Predictive maintenance is the maintenance of a specific product or service that is based on a specific product or service. Predictive maintenance is the maintenance of a specific product or service that is based on a specific product or service. Predictive maintenance is the maintenance of a specific product or service that is based on a specific product or service. Predictive maintenance is the maintenance of a specific product or service that is based\n",
      "Model Output After Tuning  - predictive maintenance\n",
      "\n",
      "------------------------------------------------------------\n",
      "\n",
      "Ground Truth - Terraform is an infrastructure as code tool that lets you build/deploy, change, and version cloud and on-prem resources safely and efficiently.\n",
      "Model Output Before Tuning - Terraform () is a genus of fungi in the family Geometridae. It is a genus of fungi in the family Geometridae. It is a genus of fungi in the family Geometridae. It is a genus of fungi in the family Geometridae. It is a genus of fungi in the family Geometridae. It is a genus of fungi in the family Geometridae. It is a genus of fungi in the family Geometridae. It is a genus of fungi in the family Geometridae. It is a genus of fungi in the family Geometridae. It is a genus of fungi in the family Geometrid\n",
      "Model Output After Tuning  - Terraform () is a genus of fungi in the family Geometridae.\n",
      "\n",
      "------------------------------------------------------------\n",
      "\n",
      "Ground Truth - Mississippi and Missouri rivers\n",
      "Model Output Before Tuning - san francisco san francisco san francisco san francisco san francisco san francisco san francisco san francisco san francisco san francisco san francisco san francisco san francisco san francisco san francisco san francisco san francisco san francisco san francisco san francisco san francisco san francisco san francisco san francisco san francisco san francisco san francisco san francisco san francisco san francisco san francisco san francisco san francisco s\n",
      "Model Output After Tuning  - san francisco and santa barbara\n",
      "\n",
      "------------------------------------------------------------\n",
      "\n",
      "Ground Truth - \"We Remember\"\n",
      "Model Output Before Tuning - house edward edward edward edward edward edward edward edward edward edward edward edward edward edward edward edward edward edward edward edward edward edward edward edward edward edward edward edward edward edward edward edward edward edward edward edward edward edward edward edward edward edward edward edward edward edward edward edward edward ed\n",
      "Model Output After Tuning  - house reeds\n",
      "\n",
      "------------------------------------------------------------\n",
      "\n",
      "Ground Truth - New Orleans is famous for its celebrations of Mardi Gras\n",
      "Model Output Before Tuning - san francisco\n",
      "Model Output After Tuning  - san francisco\n",
      "\n",
      "------------------------------------------------------------\n",
      "\n",
      "Ground Truth - Cryptocurrency is a currency that you can by with physical money and it is held as a digital currency.  It is not backed by the FDIC or insured, and there is a lot of risk when investing in cryptocurrency. Because it is not regulated you can see price fluctuations as high as 90% loss or gain in cryptocurrency.  It is also a decentralized digital currency.  Cryptocurrency can be a good way to send large amounts of money abroad without having to pay an institution fees to do this through a wire and its immediate.  It can be used to pay for certain goods and services too.\n",
      "Model Output Before Tuning - cryptocurrency\n",
      "Model Output After Tuning  - cryptocurrency\n",
      "\n",
      "------------------------------------------------------------\n",
      "\n",
      "Ground Truth - The Counter Reformation was a Catholic religious movement which was in response to the Protestant Reformation and sought to strengthen the Catholic faith.\n",
      "Model Output Before Tuning - Counter Reformation of the Republic of the Republic of the Republic of the Republic of the Republic of the Republic of the Republic of the Republic of the Republic of the Republic of the Republic of the Republic of the Republic of the Republic of the Republic of the Republic of the Republic of the Republic of the Republic of the Republic of the Republic of the Republic of the Republic of the Republic of the Republic of the Republic of the Republic of the Republic of the Republic of the Republic of the Republic of the Republic of the Republic of the Republic of the Republic of the Republic of the Republic of the Republic of the Republic of the Republic of the Republic of the Republic of the Republic of the Republic of the Republic of the Republic of the Republic of the Republic of the Republic of the Republic of the Republic of the Republic of the Republic of the Republic of the Republic of the Republic of the Republic of the Republic of the Republic of the Republic of the Republic of the Republic of the Republic of the Republic of the Republic of the\n",
      "Model Output After Tuning  - Counter Reformation\n",
      "\n",
      "------------------------------------------------------------\n",
      "\n"
     ]
    }
   ],
   "source": [
    "for a, b, c in zip(\n",
    "    samples_to_tune_on[\"output\"], model_output_before_tuning, model_output_after_tuning\n",
    "):\n",
    "    print(f\"Ground Truth - {a}\")\n",
    "    print(f\"Model Output Before Tuning - {b}\")\n",
    "    print(f\"Model Output After Tuning  - {c}\")\n",
    "    print()\n",
    "    print(\"---\" * 20)\n",
    "    print()"
   ]
  },
  {
   "cell_type": "code",
   "execution_count": 24,
   "id": "b5b5d770",
   "metadata": {},
   "outputs": [
    {
     "data": {
      "text/plain": [
       "['Tope',\n",
       " 'Gudok is string, Cantaro is percussion.',\n",
       " 'The useful objects for transportation in the list are train, plane, bicyle and scooter.',\n",
       " 'Zurna is woodwind, Panduri is string.',\n",
       " 'Shamisen is string, Kpanlogo is percussion.',\n",
       " 'blue, yellow, green, red, purple, orange',\n",
       " 'Eminem, 50 Cent',\n",
       " 'The classification is as follows:\\n- Soccer: goalie gloves, corner flag\\n- Basketball: shooting sleeve\\n- Football: penalty flag, kicking tee',\n",
       " 'Giant Tortoise is alive, Palaeophis is extinct.',\n",
       " 'Viola toeria is string, Samphor is percussion.',\n",
       " 'Inside a house you can find a chair, a table and a microwave. Cars, clouds and parks are found outside of houses.',\n",
       " 'Dark-colored beers: porter, stout, amber\\nLight-colored beers: pilsner, lager',\n",
       " 'avocados, kiwi, pairs, blueberries, green beans, kale, cabbage',\n",
       " 'Guitar - String\\nViolin - String\\npiano - keyboard\\nharmonium - keyboard\\ncello - string\\naccordion - keyboard\\nbanjo - string',\n",
       " 'Bacon, eggs, sausages, beans, toast, mushrooms, tomatoes. Some people also include black pudding and hash browns.\\nEggs are commonly fried or scrambled.',\n",
       " 'mammal- tiger, rhinoceros, dog, cat\\nbird- heron, kingfisher, eagle\\nreptile- snake, alligator, chameleon\\ninset- spider, ant, hornet, butterfly',\n",
       " 'Sea dragon',\n",
       " 'A bed belongs in a bedroom, a couch belongs in a living area, a desk belongs in an office',\n",
       " 'St Lucia, West End, Toowong, Bulimba and Newstead border the Brisbane River. Wilston, Wooloongabba, Indooroopilly and Bowen Hills are inland and do not border the Brisbane River.',\n",
       " 'Gemshorn is woodwind, Janzi is string.',\n",
       " 'Pliosaur is extinct, Marine Iguana is alive.',\n",
       " 'Isaac Asimov: Pebble in the Sky, The Stars, Like Dust, Foundation, The Robots of Dawn, The Naked Sun\\nJules Verne: Around the World in Eighty Days, From the Earth to the Moon, Martin Paz, Journey to the Centre of the Earth, A Drama in the Air',\n",
       " 'All except park are places to await for transportation',\n",
       " 'David Guetta: DJ\\nAvicii: DJ\\nRihanna: Singer\\nBeyonce: Singer\\nMartin Garrix: DJ\\nCalvin Harris: DJ\\nTaylor Swift: Singer',\n",
       " 'Luc huyen cam is string, Den-den daiko is percussion.',\n",
       " 'Notebooks: useful, textbook: useful, desk lamp: not useful, pencil pouch: useful, beach ball: not useful, pillow: not useful, laptop: useful.',\n",
       " 'Newt and frog are amphibians. The rest of the animals are mammals. You did not provide any fish in your question.',\n",
       " \"'prime', 'prime', 'composite', 'prime', 'composite', 'prime', 'composite', 'composite', 'composite', 'prime', 'composite', 'prime', 'composite', 'composite', 'composite'.\",\n",
       " 'Three musketeers, Twix, and snickers are candy bars, and trident, hubba bubba, and wrigleys are gum.',\n",
       " 'DC- Superman, Batman, Wonder Woman, Flash, Aquaman\\nMarvel- Spider-Man, Iron Man, Captain America, Thor, Doctor Strange',\n",
       " 'Redlip blenny is a fish, Red-throated diver is a bird',\n",
       " 'There are many ski resorts in the United States that offer challenging terrain for expert level skiers.  Som of the top resorts are: Big Sky, Jackson Hole, Pallisades, Crested Butte, Telluride, and Silverthorn',\n",
       " 'Spectre is DC, Hulk is Marvel',\n",
       " 'Mola mola',\n",
       " 'The colors are: red, black, yellow, orange, white, pink and blue.',\n",
       " 'Soccer and bowling would be the two easiest sports in this list to succeed in if you’re not tall.',\n",
       " \"An academic degree is a qualification awarded to students upon successful completion of a course of study in higher education, usually at a college or university. These institutions commonly offer degrees at various levels, usually including undergraduate degrees, master's, and doctorates, often alongside other academic certificates and professional degrees. The most common undergraduate degree is the bachelor's degree, although in some countries there are lower-level higher education qualifications that are also titled degrees (e.g. associate degrees and foundation degrees).\",\n",
       " \"Screwdrivers, Bloody Mary's, White Russians, and Cosmopolitans are traditionally vodka cocktails, whereas French 75's, Gimlets, Tom Collins', and Negronis are traditionally gin cocktails.\",\n",
       " \"The following songs are in Taylor Swift's album Lover: The Archer, Lover, Cruel Summer.\\nThe following song is in the album Fearless (Taylor's Version): Love Story (Taylor's Version)\\nThe following songs are in the album evermore: tolerate it, willow\\nThe following songs are in the album Reputation: Don't Blame Me, Look What You Made Me Do\\nThe following song is in the album Red (Taylor's Version): 22 (Taylor's version) \\nThe following songs are in the album Midnights: Bejeweled, Lavender Haze\",\n",
       " 'A hairdryer, television, computer and fridge are all examples of things that can be plugged in and powered by electricity. A common table, chair, comb and flower are examples of items that do not require electricity and cannot be plugged in.',\n",
       " 'Australia is a country as well as a continent.\\nMexico is a country.\\nMexico City is a city.\\nAntarctica is a continent.\\nSingapore is a country as well as a city.\\nIndia is a country.\\nGulf is neither.\\nBeijing is a city.\\nJakarta is a city.\\nLuxembourg is a country as well as a city.\\nVatican City is a country as well as a city.',\n",
       " 'Wheelharp is string, Clarinet is woodwind.',\n",
       " 'Austin, Houston, Dallas',\n",
       " 'USA: Right Side\\nMexico: Right Side\\nSpain: Right Side\\nEngland: Left Side\\nNew Zealand: Left Side\\nJapan: Left Side',\n",
       " 'Opel is German, GMC is American',\n",
       " 'Ford, Chevrolet, Honda, Toyota, and Subaru are high-quality car brands, but are generally not considered to be \"luxury\" brands. Lamborghini, Ferrari, Mercedes, and Lexus are luxury brands.',\n",
       " '10th Grade: High School\\n3rd Grade: Elementary School\\n4th Grade: Elementary School\\n12th Grade: High School\\n1st Grade: Elementary School',\n",
       " 'Blackchin is a fish, Black redstart is a bird',\n",
       " 'oceans- pacific, indian, arctic\\nseas- okhotosk, aral, arabian, north, baltic\\nrivers- amazon, colorado, lena, danube, mekong\\nlakes- superior, tahoe, victoria , baikal',\n",
       " 'The ice cream toppings are chocolate sauce, hot fudge, and whipped cream. The salad dressings are thousand island, balsamic vinaigrette, and Caesar.',\n",
       " 'Fiat, Ferrari, Renault, BMW and MG are car brands.',\n",
       " 'Alligator: Animal\\nGrass: Not an Animal\\nTree: Not an Animal\\nBoat: Not an Animal\\nDolphin: Animal\\nShark: Animal\\nFish: Animal\\nFence: Not an Animal\\nDog: Animal\\nCar: Not an Animal',\n",
       " 'Cartoons: Stuart Little, The Iron Giant, South Park: Bigger, Longer, and Uncut\\nLive action: The Matrix, Cruel Intentions, The Blair Witch Project, The Sixth Sense',\n",
       " \"Well, C, Java and Python are programming languages. \\nWhile HTML is a language, it is a markup language and not a programming language. Node.js is actually a framework built on top of Javascript, so it can't be classified as a language. \\nBigData is a broader term used for storing, processing and usage of large amounts of data. Spark is one of the most popular distributed data processing frameworks. Spark can be used from multiple languages.\",\n",
       " 'Metals: Copper, Silver, Gold\\nNon Metals: Hydrogen, Carbon, Nitrogen',\n",
       " 'Sholay is a Bollywood movie \\nSatyajit Ray was an Indian Film Director\\nMani Ratnam is an Indian Film Director\\nLagaan is a Bollywood movie\\nYash Chopra was an film director\\nRoja is a Bollywood Movie',\n",
       " 'Steel Guitar is string, Pambai is percussion',\n",
       " 'Jalapenos are spicy.\\nChilis are spicy.\\nSriracha is spicy.\\nChips are sometimes spicy.\\nPizza is sometimes spicy.\\nCocktails are sometimes spicy.\\nFruit is not spicy.\\nMIlk is not spicy.',\n",
       " 'Randy: Adult\\nStan: Kid\\nKyle: Kid\\nButters: Kid\\nSharon: Adult',\n",
       " 'Miles Davis, John Coltrane, Amy Winehouse and Billy Holiday are considered to be jazz musicians. Rhianna, Taylor Swift, Elvis and Elton John are not jazz musicians.',\n",
       " 'Snake, Shower',\n",
       " 'Round - wheel, coin, CD\\nSquare - stamp, chess board',\n",
       " 'VIBGYOR - Violet Indigo Blue Green Yellow orange red',\n",
       " \"J.K. Rowling: Harry Potter and the Sorcerer's Stone, The Ickabog, Fantastic Beasts and Where to Find Them, The Cuckoo's Calling, Harry Potter and the Order of the Phoenix\\nSuzanne Collins: Catching Fire, Mockingjay, Gregor the Overlander, Year of the Jungle, The Ballad of Songbirds and Snakes\",\n",
       " 'Months that have 30 days are: April, June, September and November.\\nMonths that have 31 days are: January, March, May, July, August, October and December.',\n",
       " 'Stone, Cloud, oxygen, water, hydrogen, dirt, nitrogen, brick, concrete, lava',\n",
       " 'Washington DC, Chicago, Freemont, San jose are cities, and IL, Texas, Washington are US states. Bay area is neither a state nor a city. It is referring to the area in northern CA which consists of multiple cities.',\n",
       " 'Sharud is string, Sabar is percussion.',\n",
       " 'Eritrea - Asmara, Keren, Assab\\nGabon - Libreville, Port-Gentil, Franceville',\n",
       " 'Dog: Domesticated\\nBear: Wild\\nDolphin: Wild\\nCat: Domesticated\\nCow: Domesticated\\nHippo: Wild\\nRhino: Wild',\n",
       " 'Budweiser, Rum, Vodka, Tequila and Margarita are alcoholic beverages',\n",
       " 'In this list, Twitter, Instagram, and Tiktok are social media platforms.',\n",
       " 'Elephant: Heavy\\nFeather: Light\\nHippo: Heavy\\nPaper: Light\\nWhale: Heavy',\n",
       " 'Mercury - rocky\\nVeuns - rocky\\nEarth - rocky\\nMars - rocky\\nJupiter - gaseous\\nSaturn - gaseous\\nUranus - gaseous\\nNeptune - gaseous',\n",
       " 'Nurse shark',\n",
       " 'Albacore Tuna is alive, Purussaurus is extinct.',\n",
       " 'Xaphoon is woodwind, Domra is string.',\n",
       " 'Glasses: Help Vision\\nBinoculars: Help Vision\\nBlindfold: Hurt Vision\\nSleep Mask: Hurt Vision\\nTelescope: Help Vision',\n",
       " 'Gandalf - literary character\\nBanana - fruit\\nFrodo Baggins - literary character\\nAragorn  - literary character\\norange - fruit\\napple - fruit\\nSauron - literary character',\n",
       " 'Rajinikanth is an Indian action who primarily acts in Tamil movies. Shivaji Rao Gaikwad, known professionally as Rajinikanth (/rədʒɪnɪkɑːnθ/),[b] is an Indian actor, producer and screenwriter who works mainly in Tamil cinema.  In a career spanning over five decades, he has done more than 160 films that includes films in Tamil, Hindi, Telugu, Kannada, Bengali, and Malayalam. He is widely regarded as one of the most successful and popular actors in the history of Indian cinema.',\n",
       " 'Damaru is percussion, Laouto is string.',\n",
       " 'Items that are strongly or weakly attracted are called \"ferromagnetic\" and \"paramagnetic\", respectively. These include: iron nail, paper clips, a tin can, a compass.\\nItems that are repelled by a magnet are either \"paramagnetic\" or themselves permanent magnets of the opposite polarity, including: a magnet of opposite polarity, pyrolytic carbon sheet. Items that are not affected by a permanent magnet are called \"nonmagnetic\" and include: a plastic cup, a glass window, a leather wallet, a brick.',\n",
       " 'Chrysler is American, Dongfeng is Chinese',\n",
       " \"Starbucks is a brand of coffee\\nPeet's is a brand of coffee\\nBlue Bottle is a brand of coffee\\nCoca-Cola is a soft drink\\nSprite is a soft drink\\nCanada Dry is a soft drink\\nPepsi is a soft drink\",\n",
       " \"Coffee shop chain: Starbucks, Dunkin Donuts, Dutch Bros, Coffee Bean & Tea Leaf\\nFast-food hamburger restaurant: McDonald's, In-N-Out, Burger King, Carl's Jr\",\n",
       " 'Qualitative: English, history, law \\nQuantitative: mathematics, physics, statistics',\n",
       " 'Delta Live Table (DLT) is used to Data Engineering, MLFlow is used for Machine Learning, Autoloader is used to Data Engineering, AutoML is used for Machine Learning',\n",
       " 'Ocelot, lion, caracal, leopard, tiger, lynx are all species that are part of the Felidae family (commonly known as cats). Jackals and foxes are part of the Canidae (or dog) family. While the two groups have physical similarities, they also have distinctive physical and behavioral differences.',\n",
       " 'The Netherlands, Germany, Finland, Italy and Luxembourg are in the European Union.\\n\\nRest of the countries: Switzerland, the United Kingdom, Turkey, Australia, Vietnam and Canada are not a part of the European Union but might have deals allowing them to benefit from the certain conveniences of the European Union such as free trade.\\n\\nFor example, while Switzerland has very close ties with European Union nations and has similar benefits, they are not a part of the EU. Switzerland enjoys benefits such as freedom of movement of people between the EU member states and Switzerland, this is due to a separate agreement: Agreement on the Free Movement of Persons (AFMP).',\n",
       " 'Robin, eagle, raptor, bluejay, and sparrow are all kinds of birds. Cobra, rattlesnake, viper, cottonmouth, and copperhead are several types of snakes.',\n",
       " 'Ilimba is percussion, Khim is string.',\n",
       " 'Olive Ridley Turtle is alive, Polacanthus is extinct.',\n",
       " 'Duluth - Minnesota\\nBisbee - Arizona\\nBend - Neither\\nSt Joseph - Minnesota\\nWhy - Arizona\\nGuaymas - Neither',\n",
       " 'Utogardon is string, Jingle is percussion.',\n",
       " 'Supreme Court: Judicial\\nPresident: Executive\\nHouse: Legislative\\nSenate: Legislative',\n",
       " 'Iran and Afghanistan are majority Farsi (or a variation of it) speaking. Turkey is the majority Turkish speaking. Majority of people in Iraq, UAE, Qatar, and Syria speak Arabic. Contrary to the generally held belief that Iran and Afghanistan are a Arabic speaking countries, they are not. Farsi is a totally different language.',\n",
       " 'They are all Keanu Reeves movies.',\n",
       " 'Oviraptor is extinct, Giant Panda is alive.',\n",
       " 'China: Not Landlocked\\nBolivia: Landlocked\\nParaguay: Landlocked\\nMorocco: Not Landlocked\\nIreland: Not Landlocked\\nAustria: Landlocked\\nSwitzerland: Landlocked',\n",
       " 'Timple is string, Lummi stick is percussion.']"
      ]
     },
     "execution_count": 24,
     "metadata": {},
     "output_type": "execute_result"
    }
   ],
   "source": [
    "samples_to_tune_on[\"output\"]"
   ]
  }
 ],
 "metadata": {
  "kernelspec": {
   "display_name": "Python 3 (ipykernel)",
   "language": "python",
   "name": "python3"
  },
  "language_info": {
   "codemirror_mode": {
    "name": "ipython",
    "version": 3
   },
   "file_extension": ".py",
   "mimetype": "text/x-python",
   "name": "python",
   "nbconvert_exporter": "python",
   "pygments_lexer": "ipython3",
   "version": "3.8.10"
  }
 },
 "nbformat": 4,
 "nbformat_minor": 5
}
