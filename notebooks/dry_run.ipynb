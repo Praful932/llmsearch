{
 "cells": [
  {
   "cell_type": "code",
   "execution_count": 1,
   "id": "74c568c3",
   "metadata": {},
   "outputs": [],
   "source": [
    "# Autocompletion\n",
    "%config Completer.use_jedi = False\n",
    "\n",
    "# Autoreload\n",
    "%load_ext autoreload\n",
    "%autoreload 2\n",
    "\n",
    "import sys\n",
    "from typing import List\n",
    "\n",
    "\n",
    "import nltk\n",
    "import torch\n",
    "import datasets\n",
    "import evaluate\n",
    "import pandas as pd\n",
    "from transformers import AutoTokenizer, AutoModelForSeq2SeqLM\n",
    "\n",
    "\n",
    "sys.path.append(\"../\")"
   ]
  },
  {
   "cell_type": "code",
   "execution_count": 2,
   "id": "5119b002",
   "metadata": {},
   "outputs": [
    {
     "data": {
      "text/plain": [
       "1"
      ]
     },
     "execution_count": 2,
     "metadata": {},
     "output_type": "execute_result"
    }
   ],
   "source": [
    "1"
   ]
  },
  {
   "cell_type": "code",
   "execution_count": 9,
   "id": "74a9072b",
   "metadata": {},
   "outputs": [
    {
     "name": "stdout",
     "output_type": "stream",
     "text": [
      "im here\n"
     ]
    }
   ],
   "source": [
    "try:\n",
    "    a = 2 / 0\n",
    "except:\n",
    "    print(\"im here\")\n"
   ]
  },
  {
   "cell_type": "code",
   "execution_count": 3,
   "id": "062a9637",
   "metadata": {},
   "outputs": [
    {
     "name": "stdout",
     "output_type": "stream",
     "text": [
      "Device - mps\n"
     ]
    }
   ],
   "source": [
    "device = \"cpu\"\n",
    "\n",
    "if torch.backends.mps.is_built() and torch.backends.mps.is_available():\n",
    "    device = \"mps\"\n",
    "\n",
    "print(f\"Device - {device}\")"
   ]
  },
  {
   "cell_type": "code",
   "execution_count": null,
   "id": "d5b6d8dc",
   "metadata": {},
   "outputs": [],
   "source": []
  },
  {
   "cell_type": "code",
   "execution_count": null,
   "id": "8260a72f",
   "metadata": {},
   "outputs": [],
   "source": [
    "# Load dataset that you want to tune your model on\n",
    "\n",
    "\n",
    "dataset = datasets.load_dataset(\"c-s-ale/dolly-15k-instruction-alpaca-format\")\n",
    "rouge_metric = evaluate.load(\"rouge\")"
   ]
  },
  {
   "cell_type": "code",
   "execution_count": null,
   "id": "4c7290ec",
   "metadata": {},
   "outputs": [],
   "source": [
    "task_types = [\"open_\"]\n",
    "\n",
    "samples = []\n",
    "\n",
    "for sample in dataset[\"train\"]:\n",
    "    if sample[\"category\"] in task_types:\n",
    "        samples.append(sample)\n",
    "\n",
    "samples_to_tune_on = datasets.Dataset.from_list(samples)[:100]"
   ]
  },
  {
   "cell_type": "code",
   "execution_count": null,
   "id": "44df7645",
   "metadata": {},
   "outputs": [],
   "source": [
    "samples_to_tune_on.keys()"
   ]
  },
  {
   "cell_type": "code",
   "execution_count": null,
   "id": "71e8fd71",
   "metadata": {},
   "outputs": [],
   "source": [
    "samples_to_tune_on[\"input\"]"
   ]
  },
  {
   "cell_type": "code",
   "execution_count": null,
   "id": "5b06a07e",
   "metadata": {},
   "outputs": [],
   "source": [
    "# Define your model\n",
    "\n",
    "model_id = \"google/flan-t5-small\"\n",
    "\n",
    "tokenizer = AutoTokenizer.from_pretrained(model_id)\n",
    "\n",
    "model = AutoModelForSeq2SeqLM.from_pretrained(model_id).to(device)"
   ]
  },
  {
   "cell_type": "code",
   "execution_count": null,
   "id": "918268a4",
   "metadata": {},
   "outputs": [],
   "source": [
    "type(model)"
   ]
  },
  {
   "cell_type": "code",
   "execution_count": 11,
   "id": "e9f7a10e",
   "metadata": {},
   "outputs": [
    {
     "data": {
      "text/plain": [
       "0.96"
      ]
     },
     "execution_count": 11,
     "metadata": {},
     "output_type": "execute_result"
    }
   ],
   "source": [
    "# Define your metric that you want to minimize or maximize on - should take in y_true & y_pred and return a dict of metrics\n",
    "\n",
    "\n",
    "def my_metric(y_true: List, y_pred: List):\n",
    "    def postprocess_text(preds: List, labels: List):\n",
    "        \"\"\"Postprocess text(preds & labels) to rouge format for evaluation\"\"\"\n",
    "        preds = [pred.strip() for pred in preds]\n",
    "        labels = [label.strip() for label in labels]\n",
    "\n",
    "        # rougeLSum expects newline after each sentence\n",
    "        preds = [\"\\n\".join(nltk.sent_tokenize(pred)) for pred in preds]\n",
    "        labels = [\"\\n\".join(nltk.sent_tokenize(label)) for label in labels]\n",
    "        return preds, labels\n",
    "\n",
    "    \"\"\"Get rouge score from y_true & y_pred\"\"\"\n",
    "    preds, gts = postprocess_text(preds=y_pred, labels=y_true)\n",
    "\n",
    "    result = rouge_metric.compute(predictions=preds, references=gts, use_stemmer=True)\n",
    "\n",
    "    # TODO : fix metric\n",
    "    return result[\"rouge2\"]\n",
    "\n",
    "\n",
    "# Example run on some random samples\n",
    "my_metric(y_true=samples_to_tune_on[\"output\"], y_pred=samples_to_tune_on[\"output\"])"
   ]
  },
  {
   "cell_type": "code",
   "execution_count": 7,
   "id": "09d4023c",
   "metadata": {},
   "outputs": [
    {
     "data": {
      "text/plain": [
       "{'instruction': ['Why can camels survive for long without water?',\n",
       "  \"Alice's parents have three daughters: Amy, Jessy, and what’s the name of the third daughter?\",\n",
       "  'Who gave the UN the land in NY to build their HQ',\n",
       "  'What is a polygon?',\n",
       "  'Which episodes of season four of Game of Thrones did Michelle MacLaren direct?',\n",
       "  'What individual has won the most Olympic gold medals in the history of the games?',\n",
       "  'Which Dutch artist painted “Girl with a Pearl Earring”?',\n",
       "  'What happens when the sun goes down?',\n",
       "  'What is a verb?',\n",
       "  'Who became king of Holland in 1806?',\n",
       "  'Who played Billy the Kid in The Left Handed Gun',\n",
       "  'why did Syd Barrett left the Pink Floyd?',\n",
       "  'What is underwriting?',\n",
       "  'Who saved Andromeda from the sea monster',\n",
       "  'Who are \\'\\'The Lumières\" ?',\n",
       "  'When was the wheel invented?',\n",
       "  'Are lilies safe for cats?',\n",
       "  'What is Sunshine Recession?',\n",
       "  'What is the currency in use in the Netherlands?',\n",
       "  'In the series A Song of Ice and Fire, who is the founder of House Karstark?',\n",
       "  'What film won the 1943 Oscar as best film',\n",
       "  'which weighs more, cold or hot water?',\n",
       "  'What makes a formula one car so fast?',\n",
       "  'What is LAPR?',\n",
       "  'Name some of the bravolebrities from Vanderpump Rules',\n",
       "  'Name some famous rock bands from the 1960s',\n",
       "  'Who invented the telephone?',\n",
       "  'How many Grammy Awards has Bad Bunny won?',\n",
       "  'What is a kite?',\n",
       "  'What is investment banking?',\n",
       "  \"What are some of the best comedy movies of the 1980's?\",\n",
       "  'In golf what do the Americans call an albatross',\n",
       "  'What is the Research Collaboratory for Structural Bioinformatics Protein Data Bank (RCSB PDB)?',\n",
       "  'What is the name of the Winslow\\'s nerdy next-door neighbor on the TV show \"Family Matters\"?',\n",
       "  'Why are so many US Hollywood films made in the state of Georgia?',\n",
       "  'What are some tools that every homeowner should have?',\n",
       "  'What is an apple?',\n",
       "  'What is the difference between pets and cattle?',\n",
       "  'How do I put a bouquet of fresh flowers in a vase?',\n",
       "  'Wat id DNA annotation?',\n",
       "  \"Who were Jaehaerys I Targaryen's children?\",\n",
       "  'What is Share capital in finance?',\n",
       "  'How much of American wine is produced in California?',\n",
       "  'Name the three best professional sports teams based in California.',\n",
       "  'Tomb of Sand  was translated from Hindi to English by',\n",
       "  'How many compute services does Azure Synapse have?',\n",
       "  'What happens when you bring flammable objects closer to a fire source or extreme heat?',\n",
       "  'What are the differences between the New York Giants and New York Jets?',\n",
       "  'The former Chairman of Tata Sons died in road accident  en route  from where?',\n",
       "  'What is one year?',\n",
       "  'Who are some of the most successful golfers in history?',\n",
       "  'Which types of fish contain the lowest levels of mercury?',\n",
       "  'How do you make an iced matcha latter?',\n",
       "  'Which is the best place to Kayak in Austin?',\n",
       "  'Whats the difference between a bass guitar and a regular guitar?',\n",
       "  'What is a Gross domestic product (GDP)?',\n",
       "  \"Let's imagine I create a fake currency called Yarns with two types of coins: a super-yarn (worth 10 yarns) and a mini-yarn (worth 0.5 yarn). How much money do I have in total if I have 2 super-yarns and three mini-yarns?\",\n",
       "  'What is a Mormon?',\n",
       "  'What is the difference between a red delicious and a Granny Smith apple?',\n",
       "  'Who do you think is the most powerful Mandalorian in Star Wars history?',\n",
       "  'Which classical composer was deaf?',\n",
       "  'Who discovered the double-helix DNA structure?',\n",
       "  'What is Bollywood',\n",
       "  'What are Nanotube?',\n",
       "  'What is a secured loan?',\n",
       "  'Should I have Kids?',\n",
       "  'Who was the first American to win a Nobel Peace?',\n",
       "  'What is the FA Cup?',\n",
       "  'What are the 4 oceans on earth',\n",
       "  'Did Harry Potter put his own name in the goblet of fire?',\n",
       "  \"What was Angie Thomas's first published novel?\",\n",
       "  'What is the difference between a shrub and a tree?',\n",
       "  \"Which players won the men's singles grand slam tennis tournaments in 2022.\",\n",
       "  'What are the three branches of the US Federal Government?',\n",
       "  \"What's the difference between tennis and pickleball?\",\n",
       "  'Who is the best NBA player of all time?',\n",
       "  'Which coin of U.S currency has the most ridges.',\n",
       "  'Who was the first woman to have four country albums reach No. 1 on the Billboard 200?',\n",
       "  'What is Game of Thrones based on?',\n",
       "  'What are all of the professional baseball teams in the state of Florida?',\n",
       "  'Do cats have nine lives?',\n",
       "  'How do you make soap?',\n",
       "  'Cases of Anthrax were found in Kerala in which animals?',\n",
       "  'Do George Lucas and Steven Spielberg know each other?',\n",
       "  'What type of weather is San Francisco famous for?',\n",
       "  'What are some movies that star Will Ferrell?',\n",
       "  'What is the plot of Harry Potter?',\n",
       "  'How did Alfred Nobel make his money',\n",
       "  'What is the Trans Tahoe Relay?',\n",
       "  \"How many musicians performed in the world's largest rock band?\",\n",
       "  'Name all the books in the Harry Potter collection',\n",
       "  'What do you know about the city of Aberdeen in Scotland?',\n",
       "  'What is the English Premier League?',\n",
       "  'What is predictive maintenance?',\n",
       "  'What is Terraform?',\n",
       "  'What are the two longest rivers located in the United States?',\n",
       "  'What are the words of House Reed?',\n",
       "  'What city in the United States is known for its Mardi Gras celebrations?',\n",
       "  'What is cryptocurrency?',\n",
       "  'What was the Counter Reformation?'],\n",
       " 'category': ['open_qa',\n",
       "  'open_qa',\n",
       "  'open_qa',\n",
       "  'open_qa',\n",
       "  'open_qa',\n",
       "  'open_qa',\n",
       "  'open_qa',\n",
       "  'open_qa',\n",
       "  'open_qa',\n",
       "  'open_qa',\n",
       "  'open_qa',\n",
       "  'open_qa',\n",
       "  'open_qa',\n",
       "  'open_qa',\n",
       "  'open_qa',\n",
       "  'open_qa',\n",
       "  'open_qa',\n",
       "  'open_qa',\n",
       "  'open_qa',\n",
       "  'open_qa',\n",
       "  'open_qa',\n",
       "  'open_qa',\n",
       "  'open_qa',\n",
       "  'open_qa',\n",
       "  'open_qa',\n",
       "  'open_qa',\n",
       "  'open_qa',\n",
       "  'open_qa',\n",
       "  'open_qa',\n",
       "  'open_qa',\n",
       "  'open_qa',\n",
       "  'open_qa',\n",
       "  'open_qa',\n",
       "  'open_qa',\n",
       "  'open_qa',\n",
       "  'open_qa',\n",
       "  'open_qa',\n",
       "  'open_qa',\n",
       "  'open_qa',\n",
       "  'open_qa',\n",
       "  'open_qa',\n",
       "  'open_qa',\n",
       "  'open_qa',\n",
       "  'open_qa',\n",
       "  'open_qa',\n",
       "  'open_qa',\n",
       "  'open_qa',\n",
       "  'open_qa',\n",
       "  'open_qa',\n",
       "  'open_qa',\n",
       "  'open_qa',\n",
       "  'open_qa',\n",
       "  'open_qa',\n",
       "  'open_qa',\n",
       "  'open_qa',\n",
       "  'open_qa',\n",
       "  'open_qa',\n",
       "  'open_qa',\n",
       "  'open_qa',\n",
       "  'open_qa',\n",
       "  'open_qa',\n",
       "  'open_qa',\n",
       "  'open_qa',\n",
       "  'open_qa',\n",
       "  'open_qa',\n",
       "  'open_qa',\n",
       "  'open_qa',\n",
       "  'open_qa',\n",
       "  'open_qa',\n",
       "  'open_qa',\n",
       "  'open_qa',\n",
       "  'open_qa',\n",
       "  'open_qa',\n",
       "  'open_qa',\n",
       "  'open_qa',\n",
       "  'open_qa',\n",
       "  'open_qa',\n",
       "  'open_qa',\n",
       "  'open_qa',\n",
       "  'open_qa',\n",
       "  'open_qa',\n",
       "  'open_qa',\n",
       "  'open_qa',\n",
       "  'open_qa',\n",
       "  'open_qa',\n",
       "  'open_qa',\n",
       "  'open_qa',\n",
       "  'open_qa',\n",
       "  'open_qa',\n",
       "  'open_qa',\n",
       "  'open_qa',\n",
       "  'open_qa',\n",
       "  'open_qa',\n",
       "  'open_qa',\n",
       "  'open_qa',\n",
       "  'open_qa',\n",
       "  'open_qa',\n",
       "  'open_qa',\n",
       "  'open_qa',\n",
       "  'open_qa'],\n",
       " 'input': ['',\n",
       "  '',\n",
       "  '',\n",
       "  '',\n",
       "  '',\n",
       "  '',\n",
       "  '',\n",
       "  '',\n",
       "  '',\n",
       "  '',\n",
       "  '',\n",
       "  '',\n",
       "  '',\n",
       "  '',\n",
       "  '',\n",
       "  '',\n",
       "  '',\n",
       "  '',\n",
       "  '',\n",
       "  '',\n",
       "  '',\n",
       "  '',\n",
       "  '',\n",
       "  '',\n",
       "  '',\n",
       "  '',\n",
       "  '',\n",
       "  '',\n",
       "  '',\n",
       "  '',\n",
       "  '',\n",
       "  '',\n",
       "  '',\n",
       "  '',\n",
       "  '',\n",
       "  '',\n",
       "  '',\n",
       "  '',\n",
       "  '',\n",
       "  '',\n",
       "  '',\n",
       "  '',\n",
       "  '',\n",
       "  '',\n",
       "  '',\n",
       "  '',\n",
       "  '',\n",
       "  '',\n",
       "  '',\n",
       "  '',\n",
       "  '',\n",
       "  '',\n",
       "  '',\n",
       "  '',\n",
       "  '',\n",
       "  '',\n",
       "  '',\n",
       "  '',\n",
       "  '',\n",
       "  '',\n",
       "  '',\n",
       "  '',\n",
       "  '',\n",
       "  '',\n",
       "  '',\n",
       "  '',\n",
       "  '',\n",
       "  '',\n",
       "  '',\n",
       "  '',\n",
       "  '',\n",
       "  '',\n",
       "  '',\n",
       "  '',\n",
       "  '',\n",
       "  '',\n",
       "  '',\n",
       "  '',\n",
       "  '',\n",
       "  '',\n",
       "  '',\n",
       "  '',\n",
       "  '',\n",
       "  '',\n",
       "  '',\n",
       "  '',\n",
       "  '',\n",
       "  '',\n",
       "  '',\n",
       "  '',\n",
       "  '',\n",
       "  '',\n",
       "  '',\n",
       "  '',\n",
       "  '',\n",
       "  '',\n",
       "  '',\n",
       "  '',\n",
       "  '',\n",
       "  ''],\n",
       " 'output': ['Camels use the fat in their humps to keep them filled with energy and hydration for long periods of time.',\n",
       "  'The name of the third daughter is Alice',\n",
       "  'John D Rockerfeller',\n",
       "  'A polygon is a form in Geometry.  It is a single dimensional plane made of connecting lines and any number of vertices.  It is a closed chain of connected line segments or edges.  The vertices of the polygon are formed where two edges meet.  Examples of polygons are hexagons, pentagons, and octagons.  Any plane that does not contain edges or vertices is not a polygon.  An example of a non-polygon is a circle.',\n",
       "  'She directed \"Oathkeeper\" and \"First of His Name\" the fourth and fifth episodes of season four, respectively.',\n",
       "  'Michael Phelps has won the most gold medals of all time with 23 golds.',\n",
       "  'Vermeer',\n",
       "  'When the sun sets, the evening starts.',\n",
       "  'A verb is an action word that describes an activity.  Examples of verbs are the following: swimming, hiking, biking, roller skating, or skydiving.  All of these single and combination word examples are tied to an activity that any living thing can do.  For example, a dog can bike ride with a human when the human is pedaling the bike.  Verb use is not limited to humans or people only but applies to all living things.',\n",
       "  'William I of the Netherlands became king of Holland in 1806.',\n",
       "  'Paul Newman',\n",
       "  'Syd Barrett was one of the main members of the Pink Floyd. He has used drugs a lot and after a while he was not able to perform with the team. Even though the band gave him multiple chances, he could not keep up with the band. In the end, they had to ask him to leave the band. The main reason that he has left the team is his health problems and addiction to drugs.',\n",
       "  'Underwriting (UW) services are provided by some large financial institutions, such as banks, insurance companies and investment houses, whereby they guarantee payment in case of damage or financial loss and accept the financial risk for liability arising from such guarantee. An underwriting arrangement may be created in a number of situations including insurance, issues of security in a public offering, and bank lending, among others. The person or institution that agrees to sell a minimum number of securities of the company for commission is called the underwriter.\\n\\nThe term \"underwriting\" derives from the Lloyd\\'s of London insurance market. Financial backers (or risk takers), who would accept some of the risk on a given venture (historically a sea voyage with associated risks of shipwreck) in exchange for a premium, would literally write their names under the risk information that was written on a Lloyd\\'s slip created for this purpose.',\n",
       "  'Perseus',\n",
       "  'The Lumières (literally in English: The Lights) was a cultural, philosophical, literary and intellectual movement beginning in the second half of the 17th century, originating in western Europe and spreading throughout the rest of Europe. It included philosophers such as Baruch Spinoza, David Hume, John Locke, Edward Gibbon, Voltaire, Jean-Jacques Rousseau, Denis Diderot, Pierre Bayle and Isaac Newton. This movement is influenced by the scientific revolution in southern Europe arising directly from the Italian renaissance with people like Galileo Galilei. Over time it came to mean the Siècle des Lumières, in English the Age of Enlightenment.[Note 1]\\n\\nMembers of the movement saw themselves as a progressive élite, and battled against religious and political persecution, fighting against what they saw as the irrationality, arbitrariness, obscurantism and superstition of the previous centuries. They redefined the study of knowledge to fit the ethics and aesthetics of their time. Their works had great influence at the end of the 18th century, in the American Declaration of Independence and the French Revolution.\\n\\nThis intellectual and cultural renewal by the Lumières movement was, in its strictest sense, limited to Europe. These ideas were well understood in Europe, but beyond France the idea of \"enlightenment\" had generally meant a light from outside, whereas in France it meant a light coming from within oneself.\\n\\nIn the most general terms, in science and philosophy, the Enlightenment aimed for the triumph of reason over faith and belief; in politics and economics, the triumph of the bourgeois over nobility and clergy.',\n",
       "  'No one knows when the wheel was first made. Archaeological evidence seems to show that the wheel was first used to make pottery in Mesopotamia about 7,000 years ago, during the Neolithic period. Later, it was used to make chariots. Chariot wheels have been found in Sumer as early as 3000 BC. The wheel is one of the most important inventions in human history. It was very useful for making pottery and getting around on land. It is also a key part of machines.',\n",
       "  'No, lilies are toxic to cats if consumed and should not be kept in a household with cats',\n",
       "  \"It is known as the deepest period in which sunspots are not virtually visible. Deepest period is related to sun cycle's process called solar minimum\",\n",
       "  'The currency in use in the Netherlands is the euro.',\n",
       "  'Karlon Stark',\n",
       "  'Casablanca',\n",
       "  'Cold water weighs more than hot water',\n",
       "  'Formula One cars are one of the fastest racing cars in the world reaching speeds as high as 240 mph.\\n\\nThere are many aspects that make formula one cars fast, below are the top few\\n\\n1. Engine:  F1 cars have extremely powerful engines that can generate around 1000 bhp at up to 20,000 rpm\\n2. Power-to-Weight ratio: F1 cars are also extremely light at around 800 kgs giving them a power-to-weight ratio of 12000-1400 hp/ton. For comparison, the best Porsche cars have a power-to-weight ratio of only 300-400 hp/ton.\\n2. Aerodynamics: F1 cars are fitted with extremely sophisticated aerodynamics including a rear wing, front wing and body parts that help reduce aerodynamic drag for straight-line speeds while adding downforce to help around corners\\n3. Tires: F1 tires are extremely large and sticky. This help the cars stick to the road as the car goes through turns very fast.\\n4. Brakes: Lastly F1 brakes are very powerful and can slow down a car extremely quickly. This allows F1 cars to be at top speed for much longer before needing to slow down for taking a turn.',\n",
       "  'This stands for life assurance premium relief. Before 14 March 1984 there was tax relief on life insurance premiums paid by policyholders for policies which qualified for tax relief. Policies which started',\n",
       "  'James Kennedy, Katie Maloney, Raquel Leviss, Tom Sandoval, Ariana Madix, Tom Schwartz and Lala Kent',\n",
       "  'The 1960s had a number of famous rock bands including The Beatles, The Beach Boys, The Doors, The Rolling Stones, The Who, Led Zeppelin, The Grateful Dead, Pink Floyd, and many more.',\n",
       "  \"In 1876, Alexander Graham Bell was the first to obtain a United States patent for a device that produced a clearly intelligible replica of the human voice on a second device.\\nA resolution passed by the United States House of Representatives on June 11, 2002 called for recognition of Antonio Meucci's work and contributions towards the invention of the telephone.\",\n",
       "  'Bad Bunny has won 2 Grammy Awards and has been nominated for 6',\n",
       "  'A kite is a toy that can be be purchased in a store or a specialty shop.  It is a craft that is lighter an air that is tied to a string that you can fly on wind currents.  The kite has wings that react against the air to create lift enabling it to fly.  You can fly a kite at a park or an open area, and you will want to make sure there are no power lines nearby to be safe when flying the kite.',\n",
       "  \"Investment banking pertains to certain activities of a financial services company or a corporate division that consist in advisory-based financial transactions on behalf of individuals, corporations, and governments. Traditionally associated with corporate finance, such a bank might assist in raising financial capital by underwriting or acting as the client's agent in the issuance of debt or equity securities. An investment bank may also assist companies involved in mergers and acquisitions (M&A) and provide ancillary services such as market making, trading of derivatives and equity securities, FICC services (fixed income instruments, currencies, and commodities) or research (macroeconomic, credit or equity research). Most investment banks maintain prime brokerage and asset management departments in conjunction with their investment research businesses. As an industry, it is broken up into the Bulge Bracket (upper tier), Middle Market (mid-level businesses), and boutique market (specialized businesses).\\n\\nUnlike commercial banks and retail banks, investment banks do not take deposits.\",\n",
       "  \"Some of the best movies released in the 1980's are The Breakfast Club, The Goonies, Sixteen Candles, Ghostbusters and Back to the Future.\",\n",
       "  'Double Eagle',\n",
       "  'The Research Collaboratory for Structural Bioinformatics Protein Data Bank (RCSB PDB) is a database that provides a wealth of information about the 3D structures of proteins, nucleic acids, and other macromolecules. The database contains experimentally determined atomic coordinates for a large number of macromolecules, which can be used to study their structures, functions, and interactions. The RCSB PDB is widely used in genomics research and drug discovery, as it provides a valuable resource for understanding the structural basis of many biological processes and for designing new drugs that target specific macromolecules.\\n\\nIn addition to the atomic coordinates, the RCSB PDB contains a wealth of additional information about each macromolecule, including experimental methods used for structure determination, citations to relevant scientific literature, and information about biological function, sequence, and homology. The database also provides a variety of tools and resources for visualizing, analyzing, and downloading structural data, including a web-based viewer that allows users to interactively explore the 3D structures of macromolecules.',\n",
       "  'Steve Urkel',\n",
       "  \"While film in the United States as an audience artform started in New York it moved to Los Angeles for the stated reason of longer and sunnier days.  Another part of the story was a patent dispute in 1898 between Thomas Edison and his patent for the Kinetograph.  Edison stated that he effectively had a say in how films were made and wanted royalties for their use.  Moving from New York near where Edison was based to Los Angeles was a simple way to grow the industry and distance themselves from a patent war.  \\n\\nThis mobility at the start of the modern film era due to costs continued through the 1960's and 1970's with westerns being shot in Spain.  The 1980's and 1990's continued this trend primarily shooting in Canada or Mexico.  At the turn of the century state legislators in the United States started provided steep tax rebates.  The practical outworking of this is studios are encouraged to hire local talent and use local services when producing their film.  The ratios for these rebates is fairly complicated and have created a new industry of tax professionals serving the film industry.\\n\\nSo then why Georgia?  Georgia currently provides one of the highest incentive structures at 20% with minimal restrictions on talent and a very low minimum budget of $500,000.\",\n",
       "  \"There is a tool designed for almost every challenge a homeowner will face, but purchasing every tool could prove to be cost prohibitive, especially if they are highly specialized for tasks that may occur infrequently.  It's best to have a general set of tools that have a wide variety of uses, including a hammer, a set of screwdrivers both flat and philips, a tape measure, a level, a stud finder, and a utility knife. A battery powered drill and impact driver can also save time, and make mounting projects easier.\",\n",
       "  'An apple is an edible fruit produced by an apple tree. Apple trees are cultivated worldwide and are the most widely grown species in the genus Malus.',\n",
       "  'Although both are animals at the end of the day, however, the main difference comes partially in the form of perception and, historically, the relationship of humans with certain animals. Pets, e.g. dogs, cats, etc., are used more for companionship and not for food. On the contrary, cattle, e.g. cows, pigs, chickens, etc., are primarily raised for food, i.e. meat, milk, eggs, etc.',\n",
       "  \"In order to put fresh flowers in a vase, follow these steps:\\n\\n1. Find a vase that it is the right size for the flowers. You can use water glasses here in a pinch. \\n2. Fill the vase to about two-thirds full with water. You can add a dash of bleach in the water as well, but it is not necessary. \\n3. Now, trim your flowers to the size of the vase. Cut the end of each flower in a diagonal cut. \\n4. Remove the leaves from the flowers. This will help to grow the flower without putting resources towards the leaves. Be sure to remove any leaves under the water line, since they can cause infections. \\n5. Arrange the flowers in the vase. You can adjust the positions until you are happy with the arrangement.\\n6. Place your vase in a shady spot and you're done!\",\n",
       "  'DNA annotation or genome annotation is the process of identifying the locations of genes and all of the coding regions in a genome and determining what those genes do. An annotation (irrespective of the context) is a note added by way of explanation or commentary. Once a genome is sequenced, it needs to be annotated to make sense of it. Genes in a eukaryotic genome can be annotated using various annotation tools such as FINDER. A modern annotation pipeline can support a user-friendly web interface and software containerization such as MOSGA. Modern annotation pipelines for prokaryotic genomes are Bakta, Prokka and PGAP.\\n\\nFor DNA annotation, a previously unknown sequence representation of genetic material is enriched with information relating genomic position to intron-exon boundaries, regulatory sequences, repeats, gene names and protein products. This annotation is stored in genomic databases such as Mouse Genome Informatics, FlyBase, and WormBase. Educational materials on some aspects of biological annotation from the 2006 Gene Ontology annotation camp and similar events are available at the Gene Ontology website.\\n\\nThe National Center for Biomedical Ontology develops tools for automated annotation of database records based on the textual descriptions of those records.\\n\\nAs a general method, dcGO has an automated procedure for statistically inferring associations between ontology terms and protein domains or combinations of domains from the existing gene/protein-level annotations.',\n",
       "  'Prince Aegon, Princess Daenerys, Prince Aemon, Prince Baelon, Princess Alyssa, Septa Maegelle, Archmaester Vaegon, Princess Daella, Princess Saera, Princess Viserra, Prince Gaemon, Prince Valerion, Princess Gael',\n",
       "  'Share capital is the money invested directly in a company by its members (shareholders).',\n",
       "  'California is responsibly for roughly 90% of American wine production',\n",
       "  'The best professional sports teams based in California are the Los Angeles Dodgers, the Golden State Warriors, and the San Francisco 49ers.',\n",
       "  'Daisy Rockwell',\n",
       "  'Azure Synapse provides five different compute services:\\n1. Dedicated SQL Pools (previously known as \"Synapse Data Warehouse\"), \\n2. Serverless SQL Pools (i.e. a query service over the data lake), \\n3. Data Explorer Pools (for real-time & time series processing),\\n4. Spark Pools (Microsoft\\'s version of Spark), and\\n5. Pipelines (a variant of ADF)',\n",
       "  'Flammable objects can become inflamed when placed on or near a fire source or extreme heat.  Its recommended to keep flammable objects far away from heat sources.',\n",
       "  'The New York Giants and New York Jets are both professional football teams in the NFL who play in the New York Metropolitan area. Both teams play in MetLife stadium which used to be called Giants stadium in East Rutherford, NJ. Their fan bases live in New Jersey and New York primarily. The Jets primary color is Green, while the Giants are blue.',\n",
       "  'Ahmedabad to Mumbai',\n",
       "  'One Earth Year is the time it takes for one revolution of the Earth around the sun.',\n",
       "  'Sam Snead, Tiger Woods, and Jack Nicklaus are the most successful golfers of all time with the top three most major championship wins.',\n",
       "  'The following types of fish contain low levels of mercury: salmon, flounder, Atlantic mackerel, anchovies, pollock, catfish, and shellfish (e.g., clams, scallops, mussels).',\n",
       "  'You will need 1-2 teaspoons of matcha powder, milk of your choice, 1 cup of hot water, and ice. In a cup or bowl, you will add your match powder and pour your hot water into it and use a whisk until the matcha powder is well incorporated, which should create a paste like consistency. Then you will take a glass and pour in your ice and milk and your matcha paste on top and stir.',\n",
       "  'Lady Bird Lake in Austin downtown is revered to be the best place to go Kayaking. Paddlers can choose to head west from the Rowing Dock to take in nature views. But a small paddle down the river to the east will greet paddlers to magnificent downtown skyline views.',\n",
       "  'There are a few significant differences between a bass guitar and a regular guitar.  A bass guitar typically has 4 strings (though it can have more), is larger in body & neck, and has higher string gauges (string thickness).  A bass guitar is used for keeping the band on track by keeping the rhythm and hitting the root notes of the chords.  \\n\\nA regular guitar typically has 6 strings, and can be used for a wider variety of purposes.  These include keeping the rhythm with chords, playing foundational riffs, or improvisational solos for instrumental layering.  The regular guitarists are almost always the more well-known of the two.',\n",
       "  'Gross domestic product (GDP) is a monetary measure of the market value of all the final goods and services produced and sold in a specific time period by a country or countries, generally \"without double counting the intermediate goods and services used up to produce them\". GDP is most often used by the government of a single country to measure its economic health. Due to its complex and subjective nature, this measure is often revised before being considered a reliable indicator. GDP (nominal) per capita does not, however, reflect differences in the cost of living and the inflation rates of the countries; therefore, using a basis of GDP per capita at purchasing power parity (PPP) may be more useful when comparing living standards between nations, while nominal GDP is more useful comparing national economies on the international market. Total GDP can also be broken down into the contribution of each industry or sector of the economy. The ratio of GDP to the total population of the region is the per capita GDP (also called the Mean Standard of Living).',\n",
       "  'Given that a super-yarn is worth 10 yarns and a mini-yarn is worth 0.5 yarn, if you have 2 super-yarns and 3 mini-yarns you have 21.5 yarns in total.',\n",
       "  'A Mormon typically refers to a member of the Church of Jesus Christ of Latter-day Saints. The word Mormon comes from a prophet in the Book of Mormon who lived in the Americas around 300 A.D. The Book of Mormon is part of the canon of scripture that members of the Church of Jesus Christ of Latter-day Saints use, in conjunction with the Bible and the Doctrine and Covenants. It is often viewed as a distinguishing difference between the Church of Jesus Christ of Latter-day Saints and other Christian denominations. Historically, this is why members of the Church of Jesus Christ of Latter-day Saints have been called Mormons.',\n",
       "  'A red delicious apple is red and sweet whereas a Granny Smith apple is green and tart.',\n",
       "  \"It would have be Te Ani'la Mand'alor, or also called Mandalore the Ultimate.\",\n",
       "  'Ludwig van Beethoven',\n",
       "  'James Watson and Francis Crick identified the double-helix structure of deoxyribonucleic acid in 1953.',\n",
       "  'Bollywood is a movie industry based in Mumbai, India. It primarily makes movies in Hindi language. Since it was based in a city previously known as Bombay, a convenient moniker Bollywood resembling Hollywood is used to describe Hindi language film industry.',\n",
       "  'Nanotubes, often known as Carbon Nanotubes, are light, strong shapes made of Carbon atoms.  Nanotubes are shaped like tiny straws with walls as thin as one carbon atom.  They are considered as the strongest of any material known to man.  Nanotubes have many practical uses, one of which is to make the darkest black paint.',\n",
       "  'A secured loan is a form of debt in which the borrower pledges some asset (i.e., a car, a house) as collateral.',\n",
       "  'That is a personal question and one should think about this very carefully. Things to consider:\\n\\n1. How old are you?\\n2. Can you afford to raise the child \\n3. Do you have proper healthcare\\n4. Do you have anyone to help you\\n5. Do you like kids\\n6. Why do you want kids',\n",
       "  'Theodore Roosevelt',\n",
       "  'The Football Association Challenge Cup, more commonly known as the FA Cup, is an annual knockout football competition in men\\'s domestic English football. First played during the 1871–72 season, it is the oldest national football competition in the world. It is organised by and named after The Football Association (The FA). Since 2015, it has been known as The Emirates FA Cup after its headline sponsor. A concurrent Women\\'s FA Cup has been held since 1970.\\n\\nThe competition is open to all eligible clubs down to Level 9 of the English football league system with Level 10 clubs acting as stand-ins in the event of non-entries from above. Included in the competition are 20 professional clubs in the Premier League (level 1), 72 professional clubs in the English Football League (levels 2 to 4), and all clubs in steps 1–5 of the National League System (levels 5 to 9) as well as a tiny number of step 6 clubs acting as stand-ins for non-entries above. A record 763 clubs competed in 2011–12. The tournament consists of 12 randomly drawn rounds followed by the semi-finals and the final. Entrants are not seeded, although a system of byes based on league level ensures higher ranked teams enter in later rounds – the minimum number of games needed to win, depending on which round a team enters the competition, ranges from six to fourteen.\\n\\nThe first six rounds are the Qualifying Competition, from which 32 teams progress to the first round of the Competition Proper, meeting the first of the 48 professional teams from Leagues One and Two. The last entrants are the Premier League and Championship clubs, into the draw for the Third Round Proper. In the modern era, only one non-League team has ever reached the quarter-finals, and teams below Level 2 have never reached the final. As a result, significant focus is given to the smaller teams who progress furthest, especially if they achieve an unlikely \"giant-killing\" victory.\\n\\nWinners receive the FA Cup trophy, of which there have been two designs and five actual cups; the latest is a 2014 replica of the second design, introduced in 1911. Winners also qualify for the UEFA Europa League and a place in the upcoming FA Community Shield. Arsenal are the most successful club with fourteen titles and Arsène Wenger is the most successful manager in the history of the competition, having won seven finals as Arsenal\\'s manager.\\n\\nLiverpool are the current holders, having beaten Chelsea 6–5 on penalties following a 0–0 draw in the 2022 final.',\n",
       "  'Atlantic Ocean\\nArctic Ocean\\nPacific Ocean\\nIndian Ocean',\n",
       "  \"Harry did not put his own name in the goblet of fire. Barty Crouch Junior, using polyjuice potion to disguise himself as Alistair Moody, put Harry's name in the goblet of fire as part of his plan to deliver Harry into Lord Voldemort's hands.\",\n",
       "  '\"The Hate U Give\" which was released in 2017 and debuted at number one on The New York Times Best Seller list.',\n",
       "  'Some biologists maintain that there is no genetic difference between shrubs and trees - some species may have expressions in tree form and shrub form.  Other scientists believe that the physical form is essential and that shrubs are distinct from trees.',\n",
       "  \"The following players won the men's singles grand slam tennis tournaments in 2022:\\n- Rafael Nadal won the Australian Open and the French Open\\n- Novak Djokovic won Wimbledon\\n- Carlos Alcaraz won the US Open\",\n",
       "  'The US Constitution divides the federal government into three branches: legislative, executive and judicial.  This ensures that no individual or group will have too much power.',\n",
       "  'While they are similar sports, tennis and pickleball have various difference. First, the court size for pickleball is about half the size of a tennis court. Second, pickleball is played with a ball that resembles a whiffle ball. Third, pickleball is played with paddles as opposed to rackets. Finally, the scoring system is quite different as you play for points which can only be scored when you or your team are serving.',\n",
       "  'This can be discussed but it is often admitted that Michael Jordan is the best NBA player of all time.',\n",
       "  'The U.S. half dollar is the winner with 150 ridges.',\n",
       "  'Carrie Underwood.',\n",
       "  'Game of Thrones is based on the books written by George R. R. Martin called a Song of Ice and Fire.',\n",
       "  'The professional baseball teams in the state of Florida are the Tampa Bay Rays and Miami Marlins.',\n",
       "  'No',\n",
       "  'Soap is made with a mixture of natural or organic oils, sodium hydroxide and distilled water.  When making soap you need to mix a combination of light and heavy oils like olive and coconut oil and then mix it with sodium hydroxide and distilled water.  After this mixture has been mixed well you poor it into soap molds and let it hard over the course of many weeks.  This process called saponification is the time it takes for the sodium hydroxide to evaporate from the mixture which causes the soap to harden in he soap molds.  Other options you have when making soap are to add essential oils, like lavender and grapefruit to give a nice scent to the soap.  This has to be added prior to saponification.',\n",
       "  'Wild Boars',\n",
       "  'Yes, George Lucas and Steven Spielberg are long-time friends, dating back to their first meeting in 1967. They have collaborated and supported each other on a number of films and celebrated each others success in the field of filmmaking.',\n",
       "  'San Francisco is a famously foggy city',\n",
       "  'Some of the most popular movies starring Will Ferrell include Old School, Stepbrothers, Elf, Anchorman, Stranger than Fiction, Blades of Glory, Zoolander, and Talladega Nights: The Ballad of Ricky Bobby.',\n",
       "  'The books concern a wizard called Harry Potter and his journey through Hogwarts School of Witchcraft and Wizardry. The stories tell of him overcoming dangerous obstacles to defeat the Dark Wizard Lord Voldemort, who killed his parents when Harry was 15 months old.',\n",
       "  'He invented Dynamite',\n",
       "  \"Each year there is a race held to swim across Lake Tahoe. The race was created and is still sponsored by The Olympic Club of San Francisco. Teams are created and entered from across the globe but primarily North America. The format of the race is a six person relay; all male, all female. or half male/female. Starting on the Nevada side of the lake each member of the team swims for 30 minutes following the team's boat. After each of the swimmers has completed the 30 minute rotation the swimmers then rotate again every 10 minutes. This is done is sequence until the team reach the other side of the lake in California. The swimmers need to touch one-another when rotating between swimmers and there are no wetsuits or fins allowed.\",\n",
       "  'The world’s largest performing rock band included 953 musicians.',\n",
       "  \"Here is a list of all the books in the Harry Potter collection written by J.K. Rowling - Harry Potter and the Philosopher's Stone, Harry Potter and the Chamber of Secrets, Harry Potter and the Prisoner of Azkaban, Harry Potter and the Goblet of Fire, Harry Potter and the Order of the Phoenix, Harry Potter and the Half-Blood Prince and Harry Potter and the Deathly Hallows\",\n",
       "  'Aberdeen is a city located in the North East of Scotland. As of 2020 it had a population of 200,000 people and is the third largest city in Scotland, behind Edinburgh (435,000) and Glasgow (610,000). Aberdeen has been referred to as \"The Silver City\" due to the high number of buildings in the city constructed of Granite from the local quarry, which may sparkle on the rare occasion that the sunlight hits the buildings.  Since the 1960\\'s the city\\'s economy has largely revolved around Oil & Gas due to its proximity to the North Sea Oil discovery.   Aberdeen has two universities; the University of Aberdeen and Robert Gordon University. Notable people who have been associated with Aberdeen include singer Annie Lennox, golfer Paul Lawrie and architect Archibald \"Archie\" Simpson.',\n",
       "  'The English Premier League is the top flight of English football.',\n",
       "  'Predictive Maintenance is widely used in the manufacturing industry. It is all about figuring out when an asset should be maintained, and what specific maintenance activities need to be performed, based on an asset’s actual condition or state, rather than on a fixed schedule, so that you can maximize uptime and productivity. It is all about predicting & preventing failures and performing the right maintenance routines in order to reduce costly equipment downtimes.',\n",
       "  'Terraform is an infrastructure as code tool that lets you build/deploy, change, and version cloud and on-prem resources safely and efficiently.',\n",
       "  'Mississippi and Missouri rivers',\n",
       "  '\"We Remember\"',\n",
       "  'New Orleans is famous for its celebrations of Mardi Gras',\n",
       "  'Cryptocurrency is a currency that you can by with physical money and it is held as a digital currency.  It is not backed by the FDIC or insured, and there is a lot of risk when investing in cryptocurrency. Because it is not regulated you can see price fluctuations as high as 90% loss or gain in cryptocurrency.  It is also a decentralized digital currency.  Cryptocurrency can be a good way to send large amounts of money abroad without having to pay an institution fees to do this through a wire and its immediate.  It can be used to pay for certain goods and services too.',\n",
       "  'The Counter Reformation was a Catholic religious movement which was in response to the Protestant Reformation and sought to strengthen the Catholic faith.']}"
      ]
     },
     "execution_count": 7,
     "metadata": {},
     "output_type": "execute_result"
    }
   ],
   "source": [
    "samples_to_tune_on"
   ]
  },
  {
   "cell_type": "code",
   "execution_count": 8,
   "id": "9a259e93",
   "metadata": {},
   "outputs": [
    {
     "data": {
      "text/plain": [
       "0.70    13.00\n",
       "0.80    16.00\n",
       "0.85    17.00\n",
       "0.90    19.00\n",
       "0.95    21.05\n",
       "dtype: float64"
      ]
     },
     "execution_count": 8,
     "metadata": {},
     "output_type": "execute_result"
    }
   ],
   "source": [
    "# Check dataset specific numbers to define tokenization limits\n",
    "\n",
    "# For input\n",
    "\n",
    "pd.Series(\n",
    "    [\n",
    "        len(\n",
    "            tokenizer(sample, max_length=None, truncation=False, padding=False)[\n",
    "                \"input_ids\"\n",
    "            ]\n",
    "        )\n",
    "        for sample in samples_to_tune_on[\"instruction\"]\n",
    "    ]\n",
    ").quantile([0.7, 0.8, 0.85, 0.9, 0.95])"
   ]
  },
  {
   "cell_type": "code",
   "execution_count": 9,
   "id": "1365f57d",
   "metadata": {},
   "outputs": [
    {
     "name": "stderr",
     "output_type": "stream",
     "text": [
      "Token indices sequence length is longer than the specified maximum sequence length for this model (564 > 512). Running this sequence through the model will result in indexing errors\n"
     ]
    },
    {
     "data": {
      "text/plain": [
       "0.70     77.30\n",
       "0.80    106.20\n",
       "0.85    131.35\n",
       "0.90    169.40\n",
       "0.95    237.30\n",
       "dtype: float64"
      ]
     },
     "execution_count": 9,
     "metadata": {},
     "output_type": "execute_result"
    }
   ],
   "source": [
    "# For label\n",
    "pd.Series(\n",
    "    [\n",
    "        len(\n",
    "            tokenizer(sample, max_length=None, truncation=False, padding=False)[\n",
    "                \"input_ids\"\n",
    "            ]\n",
    "        )\n",
    "        for sample in samples_to_tune_on[\"output\"]\n",
    "    ]\n",
    ").quantile([0.7, 0.8, 0.85, 0.9, 0.95])"
   ]
  },
  {
   "cell_type": "code",
   "execution_count": 10,
   "id": "b7ceb02a",
   "metadata": {},
   "outputs": [
    {
     "name": "stderr",
     "output_type": "stream",
     "text": [
      "/Users/praful932/Library/Caches/pypoetry/virtualenvs/bhaasha-vDz_II8E-py3.8/lib/python3.8/site-packages/transformers/generation/utils.py:686: UserWarning: MPS: no support for int64 repeats mask, casting it to int32 (Triggered internally at /Users/runner/work/pytorch/pytorch/pytorch/aten/src/ATen/native/mps/operations/Repeat.mm:236.)\n",
      "  input_ids = input_ids.repeat_interleave(expand_size, dim=0)\n",
      "/Users/praful932/Library/Caches/pypoetry/virtualenvs/bhaasha-vDz_II8E-py3.8/lib/python3.8/site-packages/transformers/generation/beam_search.py:358: UserWarning: MPS: no support for int64 min/max ops, casting it to int32 (Triggered internally at /Users/runner/work/pytorch/pytorch/pytorch/aten/src/ATen/native/mps/operations/ReduceOps.mm:1271.)\n",
      "  sent_lengths_max = sent_lengths.max().item() + 1\n"
     ]
    },
    {
     "ename": "NameError",
     "evalue": "name 'my_metric' is not defined",
     "output_type": "error",
     "traceback": [
      "\u001b[0;31m---------------------------------------------------------------------------\u001b[0m",
      "\u001b[0;31mNameError\u001b[0m                                 Traceback (most recent call last)",
      "Cell \u001b[0;32mIn[10], line 23\u001b[0m\n\u001b[1;32m     15\u001b[0m \u001b[38;5;28;01mfrom\u001b[39;00m \u001b[38;5;21;01mllmsearch\u001b[39;00m\u001b[38;5;21;01m.\u001b[39;00m\u001b[38;5;21;01mutils\u001b[39;00m\u001b[38;5;21;01m.\u001b[39;00m\u001b[38;5;21;01mmodel_utils\u001b[39;00m \u001b[38;5;28;01mimport\u001b[39;00m infer_batches\n\u001b[1;32m     18\u001b[0m model_output_before_tuning, latency \u001b[38;5;241m=\u001b[39m infer_batches(model \u001b[38;5;241m=\u001b[39m model, tokenizer\u001b[38;5;241m=\u001b[39mtokenizer, device \u001b[38;5;241m=\u001b[39m device, \n\u001b[1;32m     19\u001b[0m                              model_inputs\u001b[38;5;241m=\u001b[39msamples_to_tune_on[\u001b[38;5;124m'\u001b[39m\u001b[38;5;124minstruction\u001b[39m\u001b[38;5;124m'\u001b[39m],model_input_tokenizer_kwargs\u001b[38;5;241m=\u001b[39mmodel_input_tokenizer_kwargs,\n\u001b[1;32m     20\u001b[0m                              generation_kwargs\u001b[38;5;241m=\u001b[39mgeneration_kwargs, batch_size\u001b[38;5;241m=\u001b[39m\u001b[38;5;241m32\u001b[39m)\n\u001b[0;32m---> 23\u001b[0m \u001b[43mmy_metric\u001b[49m(y_true \u001b[38;5;241m=\u001b[39m samples_to_tune_on[\u001b[38;5;124m'\u001b[39m\u001b[38;5;124moutput\u001b[39m\u001b[38;5;124m'\u001b[39m], y_pred\u001b[38;5;241m=\u001b[39mmodel_output_before_tuning)\n",
      "\u001b[0;31mNameError\u001b[0m: name 'my_metric' is not defined"
     ]
    }
   ],
   "source": [
    "# Check metrics on dataset without any optimization\n",
    "\n",
    "model_input_tokenizer_kwargs = {\n",
    "    \"max_length\": 20,\n",
    "    \"truncation\": True,\n",
    "    \"padding\": True,\n",
    "}\n",
    "\n",
    "generation_kwargs = {\n",
    "    \"temperature\": 1,\n",
    "    \"max_new_tokens\": 200,\n",
    "    \"num_beams\": 3,\n",
    "}\n",
    "\n",
    "from llmsearch.utils.model_utils import infer_batches\n",
    "\n",
    "\n",
    "model_output_before_tuning, latency = infer_batches(\n",
    "    model=model,\n",
    "    tokenizer=tokenizer,\n",
    "    device=device,\n",
    "    model_inputs=samples_to_tune_on[\"instruction\"],\n",
    "    model_input_tokenizer_kwargs=model_input_tokenizer_kwargs,\n",
    "    generation_kwargs=generation_kwargs,\n",
    "    batch_size=32,\n",
    ")"
   ]
  },
  {
   "cell_type": "code",
   "execution_count": 12,
   "id": "b1b3512c",
   "metadata": {},
   "outputs": [
    {
     "data": {
      "text/plain": [
       "0.013292305726151015"
      ]
     },
     "execution_count": 12,
     "metadata": {},
     "output_type": "execute_result"
    }
   ],
   "source": [
    "my_metric(y_true=samples_to_tune_on[\"output\"], y_pred=model_output_before_tuning)"
   ]
  },
  {
   "cell_type": "code",
   "execution_count": 13,
   "id": "e0ea9a32",
   "metadata": {},
   "outputs": [],
   "source": [
    "# Run llm search\n",
    "\n",
    "from sklearn.metrics import make_scorer\n",
    "from sklearn.model_selection import RandomizedSearchCV\n",
    "from llmsearch.wrappers.estimator import EstimatorWrapper\n",
    "\n",
    "seed = 42\n",
    "\n",
    "\n",
    "hyp_param_grid = {\n",
    "    \"max_new_tokens\": [200],\n",
    "    \"num_beams\": [3],\n",
    "    \"temperature\": [1],\n",
    "    \"epsilon_cutoff\": [3e-4, 6e-4, 9e-4, 0],\n",
    "    \"repetition_penalty\": [0.3, 0.7, 1.0],\n",
    "    \"no_repeat_ngram_size\": [0, 2, 3, 4],\n",
    "}\n",
    "\n",
    "model_estimator = EstimatorWrapper(\n",
    "    model=model,\n",
    "    tokenizer=tokenizer,\n",
    "    device=device,\n",
    "    batch_size=32,\n",
    "    model_input_tokenizer_kwargs=model_input_tokenizer_kwargs,\n",
    ")\n",
    "scorer = make_scorer(score_func=my_metric, greater_is_better=True)\n",
    "\n",
    "clf = RandomizedSearchCV(\n",
    "    estimator=model_estimator,\n",
    "    param_distributions=hyp_param_grid,\n",
    "    n_iter=30,\n",
    "    scoring=scorer,\n",
    "    cv=5,\n",
    "    random_state=seed,\n",
    "    n_jobs=1,\n",
    "    verbose=1,\n",
    ")"
   ]
  },
  {
   "cell_type": "code",
   "execution_count": 14,
   "id": "f9ded597",
   "metadata": {},
   "outputs": [
    {
     "name": "stdout",
     "output_type": "stream",
     "text": [
      "Fitting 5 folds for each of 30 candidates, totalling 150 fits\n"
     ]
    },
    {
     "data": {
      "application/vnd.jupyter.widget-view+json": {
       "model_id": "474ba9298a454c9795fce7ec2aca2296",
       "version_major": 2,
       "version_minor": 0
      },
      "text/plain": [
       "0it [00:00, ?it/s]"
      ]
     },
     "metadata": {},
     "output_type": "display_data"
    },
    {
     "data": {
      "application/vnd.jupyter.widget-view+json": {
       "model_id": "408a4645ec744a64ab98e5d4107155d3",
       "version_major": 2,
       "version_minor": 0
      },
      "text/plain": [
       "0it [00:00, ?it/s]"
      ]
     },
     "metadata": {},
     "output_type": "display_data"
    },
    {
     "data": {
      "application/vnd.jupyter.widget-view+json": {
       "model_id": "155cda661fa3412a8f723489526bf514",
       "version_major": 2,
       "version_minor": 0
      },
      "text/plain": [
       "0it [00:00, ?it/s]"
      ]
     },
     "metadata": {},
     "output_type": "display_data"
    },
    {
     "data": {
      "application/vnd.jupyter.widget-view+json": {
       "model_id": "c5b569c75b0246c093021dea7891d262",
       "version_major": 2,
       "version_minor": 0
      },
      "text/plain": [
       "0it [00:00, ?it/s]"
      ]
     },
     "metadata": {},
     "output_type": "display_data"
    },
    {
     "data": {
      "application/vnd.jupyter.widget-view+json": {
       "model_id": "7c9c3715ae3b4def978aa4f8dc547d47",
       "version_major": 2,
       "version_minor": 0
      },
      "text/plain": [
       "0it [00:00, ?it/s]"
      ]
     },
     "metadata": {},
     "output_type": "display_data"
    },
    {
     "data": {
      "application/vnd.jupyter.widget-view+json": {
       "model_id": "0e9551716eba4319be67eb07b4ca8720",
       "version_major": 2,
       "version_minor": 0
      },
      "text/plain": [
       "0it [00:00, ?it/s]"
      ]
     },
     "metadata": {},
     "output_type": "display_data"
    },
    {
     "data": {
      "application/vnd.jupyter.widget-view+json": {
       "model_id": "4837e7ea18b0438f987cb35f25fcb30c",
       "version_major": 2,
       "version_minor": 0
      },
      "text/plain": [
       "0it [00:00, ?it/s]"
      ]
     },
     "metadata": {},
     "output_type": "display_data"
    },
    {
     "data": {
      "application/vnd.jupyter.widget-view+json": {
       "model_id": "07f687bf1a0a40168ff33492077526e0",
       "version_major": 2,
       "version_minor": 0
      },
      "text/plain": [
       "0it [00:00, ?it/s]"
      ]
     },
     "metadata": {},
     "output_type": "display_data"
    },
    {
     "data": {
      "application/vnd.jupyter.widget-view+json": {
       "model_id": "bf745f10c5a54109a674fecaa1bb1194",
       "version_major": 2,
       "version_minor": 0
      },
      "text/plain": [
       "0it [00:00, ?it/s]"
      ]
     },
     "metadata": {},
     "output_type": "display_data"
    },
    {
     "data": {
      "application/vnd.jupyter.widget-view+json": {
       "model_id": "99b9dd2172fe4011b5606802cc6769fe",
       "version_major": 2,
       "version_minor": 0
      },
      "text/plain": [
       "0it [00:00, ?it/s]"
      ]
     },
     "metadata": {},
     "output_type": "display_data"
    },
    {
     "data": {
      "application/vnd.jupyter.widget-view+json": {
       "model_id": "d4f5985f01424494ad82c017186e3174",
       "version_major": 2,
       "version_minor": 0
      },
      "text/plain": [
       "0it [00:00, ?it/s]"
      ]
     },
     "metadata": {},
     "output_type": "display_data"
    },
    {
     "data": {
      "application/vnd.jupyter.widget-view+json": {
       "model_id": "dedf04fb136b45d7b1bd7c5584916bb5",
       "version_major": 2,
       "version_minor": 0
      },
      "text/plain": [
       "0it [00:00, ?it/s]"
      ]
     },
     "metadata": {},
     "output_type": "display_data"
    },
    {
     "data": {
      "application/vnd.jupyter.widget-view+json": {
       "model_id": "fa2d14c6071846728f83bb06d31f88e6",
       "version_major": 2,
       "version_minor": 0
      },
      "text/plain": [
       "0it [00:00, ?it/s]"
      ]
     },
     "metadata": {},
     "output_type": "display_data"
    },
    {
     "data": {
      "application/vnd.jupyter.widget-view+json": {
       "model_id": "79c01cdb723442cf8cb79ca7ec62e428",
       "version_major": 2,
       "version_minor": 0
      },
      "text/plain": [
       "0it [00:00, ?it/s]"
      ]
     },
     "metadata": {},
     "output_type": "display_data"
    },
    {
     "data": {
      "application/vnd.jupyter.widget-view+json": {
       "model_id": "f93ade975ccd4913b930d99aac0b6260",
       "version_major": 2,
       "version_minor": 0
      },
      "text/plain": [
       "0it [00:00, ?it/s]"
      ]
     },
     "metadata": {},
     "output_type": "display_data"
    },
    {
     "data": {
      "application/vnd.jupyter.widget-view+json": {
       "model_id": "b1697c7bc3f04775bf3059a36e6fd337",
       "version_major": 2,
       "version_minor": 0
      },
      "text/plain": [
       "0it [00:00, ?it/s]"
      ]
     },
     "metadata": {},
     "output_type": "display_data"
    },
    {
     "data": {
      "application/vnd.jupyter.widget-view+json": {
       "model_id": "bccdd30d53cc4b928c7535b533a4beef",
       "version_major": 2,
       "version_minor": 0
      },
      "text/plain": [
       "0it [00:00, ?it/s]"
      ]
     },
     "metadata": {},
     "output_type": "display_data"
    },
    {
     "data": {
      "application/vnd.jupyter.widget-view+json": {
       "model_id": "5743ce1225c84c498fdf9631af32ce91",
       "version_major": 2,
       "version_minor": 0
      },
      "text/plain": [
       "0it [00:00, ?it/s]"
      ]
     },
     "metadata": {},
     "output_type": "display_data"
    },
    {
     "data": {
      "application/vnd.jupyter.widget-view+json": {
       "model_id": "40ab262c7b7042d98c7bd14e8d0eebbf",
       "version_major": 2,
       "version_minor": 0
      },
      "text/plain": [
       "0it [00:00, ?it/s]"
      ]
     },
     "metadata": {},
     "output_type": "display_data"
    },
    {
     "data": {
      "application/vnd.jupyter.widget-view+json": {
       "model_id": "2708ab8c33af4779889805ceffaec993",
       "version_major": 2,
       "version_minor": 0
      },
      "text/plain": [
       "0it [00:00, ?it/s]"
      ]
     },
     "metadata": {},
     "output_type": "display_data"
    },
    {
     "data": {
      "application/vnd.jupyter.widget-view+json": {
       "model_id": "bb59d787e01d4861b6b99770b30a4930",
       "version_major": 2,
       "version_minor": 0
      },
      "text/plain": [
       "0it [00:00, ?it/s]"
      ]
     },
     "metadata": {},
     "output_type": "display_data"
    },
    {
     "data": {
      "application/vnd.jupyter.widget-view+json": {
       "model_id": "302baf52b76544bf8e60329a83745f00",
       "version_major": 2,
       "version_minor": 0
      },
      "text/plain": [
       "0it [00:00, ?it/s]"
      ]
     },
     "metadata": {},
     "output_type": "display_data"
    },
    {
     "data": {
      "application/vnd.jupyter.widget-view+json": {
       "model_id": "b2f247f62c7b437fb3ea9de07133e46c",
       "version_major": 2,
       "version_minor": 0
      },
      "text/plain": [
       "0it [00:00, ?it/s]"
      ]
     },
     "metadata": {},
     "output_type": "display_data"
    },
    {
     "data": {
      "application/vnd.jupyter.widget-view+json": {
       "model_id": "c11ed98ba74e46f385b3ba34a5af066c",
       "version_major": 2,
       "version_minor": 0
      },
      "text/plain": [
       "0it [00:00, ?it/s]"
      ]
     },
     "metadata": {},
     "output_type": "display_data"
    },
    {
     "data": {
      "application/vnd.jupyter.widget-view+json": {
       "model_id": "1262cc4b37584bbb8d9b0d278a7aee19",
       "version_major": 2,
       "version_minor": 0
      },
      "text/plain": [
       "0it [00:00, ?it/s]"
      ]
     },
     "metadata": {},
     "output_type": "display_data"
    },
    {
     "data": {
      "application/vnd.jupyter.widget-view+json": {
       "model_id": "914305c8eacd448f9e53ccc6ae7433c8",
       "version_major": 2,
       "version_minor": 0
      },
      "text/plain": [
       "0it [00:00, ?it/s]"
      ]
     },
     "metadata": {},
     "output_type": "display_data"
    },
    {
     "data": {
      "application/vnd.jupyter.widget-view+json": {
       "model_id": "b5991d2dd9ab446d9cc427b5b6fbf0ff",
       "version_major": 2,
       "version_minor": 0
      },
      "text/plain": [
       "0it [00:00, ?it/s]"
      ]
     },
     "metadata": {},
     "output_type": "display_data"
    },
    {
     "data": {
      "application/vnd.jupyter.widget-view+json": {
       "model_id": "621d5fa8309a40a0a7849e62cc36d2fe",
       "version_major": 2,
       "version_minor": 0
      },
      "text/plain": [
       "0it [00:00, ?it/s]"
      ]
     },
     "metadata": {},
     "output_type": "display_data"
    },
    {
     "data": {
      "application/vnd.jupyter.widget-view+json": {
       "model_id": "92508eb95a7c4810bc432d41ef4f9983",
       "version_major": 2,
       "version_minor": 0
      },
      "text/plain": [
       "0it [00:00, ?it/s]"
      ]
     },
     "metadata": {},
     "output_type": "display_data"
    },
    {
     "data": {
      "application/vnd.jupyter.widget-view+json": {
       "model_id": "01d7ea119c5b4a7fbcaa1885d63d2ea9",
       "version_major": 2,
       "version_minor": 0
      },
      "text/plain": [
       "0it [00:00, ?it/s]"
      ]
     },
     "metadata": {},
     "output_type": "display_data"
    },
    {
     "data": {
      "application/vnd.jupyter.widget-view+json": {
       "model_id": "4b726ca936e946cf9b8f5d3bd58f36a7",
       "version_major": 2,
       "version_minor": 0
      },
      "text/plain": [
       "0it [00:00, ?it/s]"
      ]
     },
     "metadata": {},
     "output_type": "display_data"
    },
    {
     "data": {
      "application/vnd.jupyter.widget-view+json": {
       "model_id": "603cfbadd4a6427a9781b877485ddf45",
       "version_major": 2,
       "version_minor": 0
      },
      "text/plain": [
       "0it [00:00, ?it/s]"
      ]
     },
     "metadata": {},
     "output_type": "display_data"
    },
    {
     "data": {
      "application/vnd.jupyter.widget-view+json": {
       "model_id": "774de9639e534a68ba4bcff0b7d3e215",
       "version_major": 2,
       "version_minor": 0
      },
      "text/plain": [
       "0it [00:00, ?it/s]"
      ]
     },
     "metadata": {},
     "output_type": "display_data"
    },
    {
     "data": {
      "application/vnd.jupyter.widget-view+json": {
       "model_id": "c012983770d649d3b482102c545899e0",
       "version_major": 2,
       "version_minor": 0
      },
      "text/plain": [
       "0it [00:00, ?it/s]"
      ]
     },
     "metadata": {},
     "output_type": "display_data"
    },
    {
     "data": {
      "application/vnd.jupyter.widget-view+json": {
       "model_id": "b976b7631c2749bcaa1709afdb7742d9",
       "version_major": 2,
       "version_minor": 0
      },
      "text/plain": [
       "0it [00:00, ?it/s]"
      ]
     },
     "metadata": {},
     "output_type": "display_data"
    },
    {
     "data": {
      "application/vnd.jupyter.widget-view+json": {
       "model_id": "5cb39d8ef2d24603a62273e2459c569c",
       "version_major": 2,
       "version_minor": 0
      },
      "text/plain": [
       "0it [00:00, ?it/s]"
      ]
     },
     "metadata": {},
     "output_type": "display_data"
    },
    {
     "data": {
      "application/vnd.jupyter.widget-view+json": {
       "model_id": "46e23cbb34f349deab146134be3901d3",
       "version_major": 2,
       "version_minor": 0
      },
      "text/plain": [
       "0it [00:00, ?it/s]"
      ]
     },
     "metadata": {},
     "output_type": "display_data"
    },
    {
     "data": {
      "application/vnd.jupyter.widget-view+json": {
       "model_id": "00ccc7134ee04caba619689d155241df",
       "version_major": 2,
       "version_minor": 0
      },
      "text/plain": [
       "0it [00:00, ?it/s]"
      ]
     },
     "metadata": {},
     "output_type": "display_data"
    },
    {
     "data": {
      "application/vnd.jupyter.widget-view+json": {
       "model_id": "09801f19f60e42fdace1479317da2797",
       "version_major": 2,
       "version_minor": 0
      },
      "text/plain": [
       "0it [00:00, ?it/s]"
      ]
     },
     "metadata": {},
     "output_type": "display_data"
    },
    {
     "data": {
      "application/vnd.jupyter.widget-view+json": {
       "model_id": "8c54e99cd723484884a5ff091ec3d2d1",
       "version_major": 2,
       "version_minor": 0
      },
      "text/plain": [
       "0it [00:00, ?it/s]"
      ]
     },
     "metadata": {},
     "output_type": "display_data"
    },
    {
     "data": {
      "application/vnd.jupyter.widget-view+json": {
       "model_id": "f76cbc75db9a4ccdb1d9035bc1b3c8e7",
       "version_major": 2,
       "version_minor": 0
      },
      "text/plain": [
       "0it [00:00, ?it/s]"
      ]
     },
     "metadata": {},
     "output_type": "display_data"
    },
    {
     "data": {
      "application/vnd.jupyter.widget-view+json": {
       "model_id": "3a8d0647ee8b4821a9358151bff0ec5d",
       "version_major": 2,
       "version_minor": 0
      },
      "text/plain": [
       "0it [00:00, ?it/s]"
      ]
     },
     "metadata": {},
     "output_type": "display_data"
    },
    {
     "data": {
      "application/vnd.jupyter.widget-view+json": {
       "model_id": "33ac39aeb4bf40b48536238654058ac5",
       "version_major": 2,
       "version_minor": 0
      },
      "text/plain": [
       "0it [00:00, ?it/s]"
      ]
     },
     "metadata": {},
     "output_type": "display_data"
    },
    {
     "data": {
      "application/vnd.jupyter.widget-view+json": {
       "model_id": "980a421bf13d43ca812dd5d634c7c3f8",
       "version_major": 2,
       "version_minor": 0
      },
      "text/plain": [
       "0it [00:00, ?it/s]"
      ]
     },
     "metadata": {},
     "output_type": "display_data"
    },
    {
     "data": {
      "application/vnd.jupyter.widget-view+json": {
       "model_id": "a5a19a784ea84d398310fc411070ed1f",
       "version_major": 2,
       "version_minor": 0
      },
      "text/plain": [
       "0it [00:00, ?it/s]"
      ]
     },
     "metadata": {},
     "output_type": "display_data"
    },
    {
     "data": {
      "application/vnd.jupyter.widget-view+json": {
       "model_id": "a0ff615288d84d4f80e71c143c74c6d7",
       "version_major": 2,
       "version_minor": 0
      },
      "text/plain": [
       "0it [00:00, ?it/s]"
      ]
     },
     "metadata": {},
     "output_type": "display_data"
    },
    {
     "data": {
      "application/vnd.jupyter.widget-view+json": {
       "model_id": "9b95c9a3845549f4a419dff45a6e2155",
       "version_major": 2,
       "version_minor": 0
      },
      "text/plain": [
       "0it [00:00, ?it/s]"
      ]
     },
     "metadata": {},
     "output_type": "display_data"
    },
    {
     "data": {
      "application/vnd.jupyter.widget-view+json": {
       "model_id": "8831e2d982a840ef97830b979b3a71d8",
       "version_major": 2,
       "version_minor": 0
      },
      "text/plain": [
       "0it [00:00, ?it/s]"
      ]
     },
     "metadata": {},
     "output_type": "display_data"
    },
    {
     "data": {
      "application/vnd.jupyter.widget-view+json": {
       "model_id": "40b4120ef988424cba01531414a902c2",
       "version_major": 2,
       "version_minor": 0
      },
      "text/plain": [
       "0it [00:00, ?it/s]"
      ]
     },
     "metadata": {},
     "output_type": "display_data"
    },
    {
     "data": {
      "application/vnd.jupyter.widget-view+json": {
       "model_id": "1510662c759b40cebf64a35d4b2f30c7",
       "version_major": 2,
       "version_minor": 0
      },
      "text/plain": [
       "0it [00:00, ?it/s]"
      ]
     },
     "metadata": {},
     "output_type": "display_data"
    },
    {
     "data": {
      "application/vnd.jupyter.widget-view+json": {
       "model_id": "b6970e387e4d4413b61c2c9bf688b4e4",
       "version_major": 2,
       "version_minor": 0
      },
      "text/plain": [
       "0it [00:00, ?it/s]"
      ]
     },
     "metadata": {},
     "output_type": "display_data"
    },
    {
     "data": {
      "application/vnd.jupyter.widget-view+json": {
       "model_id": "55b84def6e5e453f9a8c07f034c40057",
       "version_major": 2,
       "version_minor": 0
      },
      "text/plain": [
       "0it [00:00, ?it/s]"
      ]
     },
     "metadata": {},
     "output_type": "display_data"
    },
    {
     "data": {
      "application/vnd.jupyter.widget-view+json": {
       "model_id": "d3655753727041d985341ef3f177bc91",
       "version_major": 2,
       "version_minor": 0
      },
      "text/plain": [
       "0it [00:00, ?it/s]"
      ]
     },
     "metadata": {},
     "output_type": "display_data"
    },
    {
     "data": {
      "application/vnd.jupyter.widget-view+json": {
       "model_id": "e72f85d58d834422bcac5b29aea163d6",
       "version_major": 2,
       "version_minor": 0
      },
      "text/plain": [
       "0it [00:00, ?it/s]"
      ]
     },
     "metadata": {},
     "output_type": "display_data"
    },
    {
     "data": {
      "application/vnd.jupyter.widget-view+json": {
       "model_id": "c984e9582bc7401e9c97c9de8b26d7b6",
       "version_major": 2,
       "version_minor": 0
      },
      "text/plain": [
       "0it [00:00, ?it/s]"
      ]
     },
     "metadata": {},
     "output_type": "display_data"
    },
    {
     "data": {
      "application/vnd.jupyter.widget-view+json": {
       "model_id": "8d23ad88ef7843b99eb4d09b05f6c01b",
       "version_major": 2,
       "version_minor": 0
      },
      "text/plain": [
       "0it [00:00, ?it/s]"
      ]
     },
     "metadata": {},
     "output_type": "display_data"
    },
    {
     "data": {
      "application/vnd.jupyter.widget-view+json": {
       "model_id": "9e7db9896a6340f4a8a4d342fdbc2940",
       "version_major": 2,
       "version_minor": 0
      },
      "text/plain": [
       "0it [00:00, ?it/s]"
      ]
     },
     "metadata": {},
     "output_type": "display_data"
    },
    {
     "data": {
      "application/vnd.jupyter.widget-view+json": {
       "model_id": "5f234037c4444cca8ba96563d0d98011",
       "version_major": 2,
       "version_minor": 0
      },
      "text/plain": [
       "0it [00:00, ?it/s]"
      ]
     },
     "metadata": {},
     "output_type": "display_data"
    },
    {
     "data": {
      "application/vnd.jupyter.widget-view+json": {
       "model_id": "717210d348414bdd970b7c71e7199df6",
       "version_major": 2,
       "version_minor": 0
      },
      "text/plain": [
       "0it [00:00, ?it/s]"
      ]
     },
     "metadata": {},
     "output_type": "display_data"
    },
    {
     "data": {
      "application/vnd.jupyter.widget-view+json": {
       "model_id": "f30d55c0295b4da3ad9f9963c647b63d",
       "version_major": 2,
       "version_minor": 0
      },
      "text/plain": [
       "0it [00:00, ?it/s]"
      ]
     },
     "metadata": {},
     "output_type": "display_data"
    },
    {
     "data": {
      "application/vnd.jupyter.widget-view+json": {
       "model_id": "57586beff5c54019a487989fe7bb1aa6",
       "version_major": 2,
       "version_minor": 0
      },
      "text/plain": [
       "0it [00:00, ?it/s]"
      ]
     },
     "metadata": {},
     "output_type": "display_data"
    },
    {
     "data": {
      "application/vnd.jupyter.widget-view+json": {
       "model_id": "f3ab8f51e7234592b61ffc9ce5584804",
       "version_major": 2,
       "version_minor": 0
      },
      "text/plain": [
       "0it [00:00, ?it/s]"
      ]
     },
     "metadata": {},
     "output_type": "display_data"
    },
    {
     "data": {
      "application/vnd.jupyter.widget-view+json": {
       "model_id": "15efd24acf4b410fac6d5bc8e429ab2e",
       "version_major": 2,
       "version_minor": 0
      },
      "text/plain": [
       "0it [00:00, ?it/s]"
      ]
     },
     "metadata": {},
     "output_type": "display_data"
    },
    {
     "data": {
      "application/vnd.jupyter.widget-view+json": {
       "model_id": "db0a932b4210496dba6e439b9df25f8c",
       "version_major": 2,
       "version_minor": 0
      },
      "text/plain": [
       "0it [00:00, ?it/s]"
      ]
     },
     "metadata": {},
     "output_type": "display_data"
    },
    {
     "data": {
      "application/vnd.jupyter.widget-view+json": {
       "model_id": "3d7596fba3fb46d49a2f3c9fe055d2e7",
       "version_major": 2,
       "version_minor": 0
      },
      "text/plain": [
       "0it [00:00, ?it/s]"
      ]
     },
     "metadata": {},
     "output_type": "display_data"
    },
    {
     "data": {
      "application/vnd.jupyter.widget-view+json": {
       "model_id": "653673dc21c54ae7bbbab47282a2cc32",
       "version_major": 2,
       "version_minor": 0
      },
      "text/plain": [
       "0it [00:00, ?it/s]"
      ]
     },
     "metadata": {},
     "output_type": "display_data"
    },
    {
     "data": {
      "application/vnd.jupyter.widget-view+json": {
       "model_id": "51b159811314424e9fd8ee50c803338e",
       "version_major": 2,
       "version_minor": 0
      },
      "text/plain": [
       "0it [00:00, ?it/s]"
      ]
     },
     "metadata": {},
     "output_type": "display_data"
    },
    {
     "data": {
      "application/vnd.jupyter.widget-view+json": {
       "model_id": "8d6aa2762bbe4df097c8822c6dfc9504",
       "version_major": 2,
       "version_minor": 0
      },
      "text/plain": [
       "0it [00:00, ?it/s]"
      ]
     },
     "metadata": {},
     "output_type": "display_data"
    },
    {
     "data": {
      "application/vnd.jupyter.widget-view+json": {
       "model_id": "d704e8ef5fa74bc58ea8f430fb0d360a",
       "version_major": 2,
       "version_minor": 0
      },
      "text/plain": [
       "0it [00:00, ?it/s]"
      ]
     },
     "metadata": {},
     "output_type": "display_data"
    },
    {
     "data": {
      "application/vnd.jupyter.widget-view+json": {
       "model_id": "2d0fba743a8b466cb53fd1a67eed82e6",
       "version_major": 2,
       "version_minor": 0
      },
      "text/plain": [
       "0it [00:00, ?it/s]"
      ]
     },
     "metadata": {},
     "output_type": "display_data"
    },
    {
     "data": {
      "application/vnd.jupyter.widget-view+json": {
       "model_id": "b669b5dfa43346c486d797d0110157dd",
       "version_major": 2,
       "version_minor": 0
      },
      "text/plain": [
       "0it [00:00, ?it/s]"
      ]
     },
     "metadata": {},
     "output_type": "display_data"
    },
    {
     "data": {
      "application/vnd.jupyter.widget-view+json": {
       "model_id": "1729c62a949343ba8e04f7e8d0e49cb3",
       "version_major": 2,
       "version_minor": 0
      },
      "text/plain": [
       "0it [00:00, ?it/s]"
      ]
     },
     "metadata": {},
     "output_type": "display_data"
    },
    {
     "data": {
      "application/vnd.jupyter.widget-view+json": {
       "model_id": "f3f2c1958fb5464ab8cf34a90e0a4e23",
       "version_major": 2,
       "version_minor": 0
      },
      "text/plain": [
       "0it [00:00, ?it/s]"
      ]
     },
     "metadata": {},
     "output_type": "display_data"
    },
    {
     "data": {
      "application/vnd.jupyter.widget-view+json": {
       "model_id": "79de453da603421bbb88187c92acb712",
       "version_major": 2,
       "version_minor": 0
      },
      "text/plain": [
       "0it [00:00, ?it/s]"
      ]
     },
     "metadata": {},
     "output_type": "display_data"
    },
    {
     "data": {
      "application/vnd.jupyter.widget-view+json": {
       "model_id": "fb3d8e502076406f97c5a326d31fb846",
       "version_major": 2,
       "version_minor": 0
      },
      "text/plain": [
       "0it [00:00, ?it/s]"
      ]
     },
     "metadata": {},
     "output_type": "display_data"
    },
    {
     "data": {
      "application/vnd.jupyter.widget-view+json": {
       "model_id": "8a0cf2397416483e949ee48db7c55ab4",
       "version_major": 2,
       "version_minor": 0
      },
      "text/plain": [
       "0it [00:00, ?it/s]"
      ]
     },
     "metadata": {},
     "output_type": "display_data"
    },
    {
     "data": {
      "application/vnd.jupyter.widget-view+json": {
       "model_id": "2ef9e866b1f64e6490686b30f93193e7",
       "version_major": 2,
       "version_minor": 0
      },
      "text/plain": [
       "0it [00:00, ?it/s]"
      ]
     },
     "metadata": {},
     "output_type": "display_data"
    },
    {
     "data": {
      "application/vnd.jupyter.widget-view+json": {
       "model_id": "511ea751930b4520a22b67cfe7723eba",
       "version_major": 2,
       "version_minor": 0
      },
      "text/plain": [
       "0it [00:00, ?it/s]"
      ]
     },
     "metadata": {},
     "output_type": "display_data"
    },
    {
     "data": {
      "application/vnd.jupyter.widget-view+json": {
       "model_id": "f5ff25ed36cc4e16b4d82f2b600c9229",
       "version_major": 2,
       "version_minor": 0
      },
      "text/plain": [
       "0it [00:00, ?it/s]"
      ]
     },
     "metadata": {},
     "output_type": "display_data"
    },
    {
     "data": {
      "application/vnd.jupyter.widget-view+json": {
       "model_id": "fca7248b018140dc8974c9e231ff7b6e",
       "version_major": 2,
       "version_minor": 0
      },
      "text/plain": [
       "0it [00:00, ?it/s]"
      ]
     },
     "metadata": {},
     "output_type": "display_data"
    },
    {
     "data": {
      "application/vnd.jupyter.widget-view+json": {
       "model_id": "1c05a3a6c2dc4425a4e10fb7c12ed8fc",
       "version_major": 2,
       "version_minor": 0
      },
      "text/plain": [
       "0it [00:00, ?it/s]"
      ]
     },
     "metadata": {},
     "output_type": "display_data"
    },
    {
     "data": {
      "application/vnd.jupyter.widget-view+json": {
       "model_id": "d8aa28fa42b140b0b88c029ed45d0660",
       "version_major": 2,
       "version_minor": 0
      },
      "text/plain": [
       "0it [00:00, ?it/s]"
      ]
     },
     "metadata": {},
     "output_type": "display_data"
    },
    {
     "data": {
      "application/vnd.jupyter.widget-view+json": {
       "model_id": "aa6261b4c5a447ff83374b3fc9e42130",
       "version_major": 2,
       "version_minor": 0
      },
      "text/plain": [
       "0it [00:00, ?it/s]"
      ]
     },
     "metadata": {},
     "output_type": "display_data"
    },
    {
     "data": {
      "application/vnd.jupyter.widget-view+json": {
       "model_id": "900d3f95602b457682553849742a651b",
       "version_major": 2,
       "version_minor": 0
      },
      "text/plain": [
       "0it [00:00, ?it/s]"
      ]
     },
     "metadata": {},
     "output_type": "display_data"
    },
    {
     "data": {
      "application/vnd.jupyter.widget-view+json": {
       "model_id": "dac87b7778124202bcf8cb1389586301",
       "version_major": 2,
       "version_minor": 0
      },
      "text/plain": [
       "0it [00:00, ?it/s]"
      ]
     },
     "metadata": {},
     "output_type": "display_data"
    },
    {
     "data": {
      "application/vnd.jupyter.widget-view+json": {
       "model_id": "aaa67eec11c94f1e9e77bd49614b0ab4",
       "version_major": 2,
       "version_minor": 0
      },
      "text/plain": [
       "0it [00:00, ?it/s]"
      ]
     },
     "metadata": {},
     "output_type": "display_data"
    },
    {
     "data": {
      "application/vnd.jupyter.widget-view+json": {
       "model_id": "7962678dcdac408895bc11135f8b27f6",
       "version_major": 2,
       "version_minor": 0
      },
      "text/plain": [
       "0it [00:00, ?it/s]"
      ]
     },
     "metadata": {},
     "output_type": "display_data"
    },
    {
     "data": {
      "application/vnd.jupyter.widget-view+json": {
       "model_id": "7c9a6941515e4862b7dcc19c771ee8bc",
       "version_major": 2,
       "version_minor": 0
      },
      "text/plain": [
       "0it [00:00, ?it/s]"
      ]
     },
     "metadata": {},
     "output_type": "display_data"
    },
    {
     "data": {
      "application/vnd.jupyter.widget-view+json": {
       "model_id": "d5218fcfb0e04f76ad947b88da0ea850",
       "version_major": 2,
       "version_minor": 0
      },
      "text/plain": [
       "0it [00:00, ?it/s]"
      ]
     },
     "metadata": {},
     "output_type": "display_data"
    },
    {
     "data": {
      "application/vnd.jupyter.widget-view+json": {
       "model_id": "6e62859773e2401ab00bf8f408c30a02",
       "version_major": 2,
       "version_minor": 0
      },
      "text/plain": [
       "0it [00:00, ?it/s]"
      ]
     },
     "metadata": {},
     "output_type": "display_data"
    },
    {
     "data": {
      "application/vnd.jupyter.widget-view+json": {
       "model_id": "22c5333e18ea4b95bd0f416baf1a4ad7",
       "version_major": 2,
       "version_minor": 0
      },
      "text/plain": [
       "0it [00:00, ?it/s]"
      ]
     },
     "metadata": {},
     "output_type": "display_data"
    },
    {
     "data": {
      "application/vnd.jupyter.widget-view+json": {
       "model_id": "6b9f082b4f88475fa39baa34d33215a5",
       "version_major": 2,
       "version_minor": 0
      },
      "text/plain": [
       "0it [00:00, ?it/s]"
      ]
     },
     "metadata": {},
     "output_type": "display_data"
    },
    {
     "data": {
      "application/vnd.jupyter.widget-view+json": {
       "model_id": "1be0e1670bef4c9c8063e1b389e1bfd2",
       "version_major": 2,
       "version_minor": 0
      },
      "text/plain": [
       "0it [00:00, ?it/s]"
      ]
     },
     "metadata": {},
     "output_type": "display_data"
    },
    {
     "data": {
      "application/vnd.jupyter.widget-view+json": {
       "model_id": "5280f66016cd411dad7a4c8bf9e75163",
       "version_major": 2,
       "version_minor": 0
      },
      "text/plain": [
       "0it [00:00, ?it/s]"
      ]
     },
     "metadata": {},
     "output_type": "display_data"
    },
    {
     "data": {
      "application/vnd.jupyter.widget-view+json": {
       "model_id": "10c1ecb39f294671b112c8090b3a85ce",
       "version_major": 2,
       "version_minor": 0
      },
      "text/plain": [
       "0it [00:00, ?it/s]"
      ]
     },
     "metadata": {},
     "output_type": "display_data"
    },
    {
     "data": {
      "application/vnd.jupyter.widget-view+json": {
       "model_id": "03509ea8dca84b49887efb4b54450af7",
       "version_major": 2,
       "version_minor": 0
      },
      "text/plain": [
       "0it [00:00, ?it/s]"
      ]
     },
     "metadata": {},
     "output_type": "display_data"
    },
    {
     "data": {
      "application/vnd.jupyter.widget-view+json": {
       "model_id": "ea77092afe0141fb83c2c6e11477f1c2",
       "version_major": 2,
       "version_minor": 0
      },
      "text/plain": [
       "0it [00:00, ?it/s]"
      ]
     },
     "metadata": {},
     "output_type": "display_data"
    },
    {
     "data": {
      "application/vnd.jupyter.widget-view+json": {
       "model_id": "f54b819b2ec6421487cf2967ba981edc",
       "version_major": 2,
       "version_minor": 0
      },
      "text/plain": [
       "0it [00:00, ?it/s]"
      ]
     },
     "metadata": {},
     "output_type": "display_data"
    },
    {
     "data": {
      "application/vnd.jupyter.widget-view+json": {
       "model_id": "3637ea9fa66d4738b4782e802bb3c8d4",
       "version_major": 2,
       "version_minor": 0
      },
      "text/plain": [
       "0it [00:00, ?it/s]"
      ]
     },
     "metadata": {},
     "output_type": "display_data"
    },
    {
     "data": {
      "application/vnd.jupyter.widget-view+json": {
       "model_id": "80a66c922b164e3a98b941847dff1f85",
       "version_major": 2,
       "version_minor": 0
      },
      "text/plain": [
       "0it [00:00, ?it/s]"
      ]
     },
     "metadata": {},
     "output_type": "display_data"
    },
    {
     "data": {
      "application/vnd.jupyter.widget-view+json": {
       "model_id": "70fb6a30590842069382615a064d6da7",
       "version_major": 2,
       "version_minor": 0
      },
      "text/plain": [
       "0it [00:00, ?it/s]"
      ]
     },
     "metadata": {},
     "output_type": "display_data"
    },
    {
     "data": {
      "application/vnd.jupyter.widget-view+json": {
       "model_id": "995f6d2dc6d74d8b950a5884d1b6071b",
       "version_major": 2,
       "version_minor": 0
      },
      "text/plain": [
       "0it [00:00, ?it/s]"
      ]
     },
     "metadata": {},
     "output_type": "display_data"
    },
    {
     "data": {
      "application/vnd.jupyter.widget-view+json": {
       "model_id": "2098424fec90485691f2961884735aa1",
       "version_major": 2,
       "version_minor": 0
      },
      "text/plain": [
       "0it [00:00, ?it/s]"
      ]
     },
     "metadata": {},
     "output_type": "display_data"
    },
    {
     "data": {
      "application/vnd.jupyter.widget-view+json": {
       "model_id": "0a3529a4aa5b4b8591c612315f46aa60",
       "version_major": 2,
       "version_minor": 0
      },
      "text/plain": [
       "0it [00:00, ?it/s]"
      ]
     },
     "metadata": {},
     "output_type": "display_data"
    },
    {
     "data": {
      "application/vnd.jupyter.widget-view+json": {
       "model_id": "c1a5d9bd746e4307b891205a5d1e40f6",
       "version_major": 2,
       "version_minor": 0
      },
      "text/plain": [
       "0it [00:00, ?it/s]"
      ]
     },
     "metadata": {},
     "output_type": "display_data"
    },
    {
     "data": {
      "application/vnd.jupyter.widget-view+json": {
       "model_id": "bcc71c750dea41d5a9b049a2e3ebcf49",
       "version_major": 2,
       "version_minor": 0
      },
      "text/plain": [
       "0it [00:00, ?it/s]"
      ]
     },
     "metadata": {},
     "output_type": "display_data"
    },
    {
     "data": {
      "application/vnd.jupyter.widget-view+json": {
       "model_id": "ca36e6337b6e4ac4b039e7a8041fe4a9",
       "version_major": 2,
       "version_minor": 0
      },
      "text/plain": [
       "0it [00:00, ?it/s]"
      ]
     },
     "metadata": {},
     "output_type": "display_data"
    },
    {
     "data": {
      "application/vnd.jupyter.widget-view+json": {
       "model_id": "5b06cb73121a4114ae1339c73ccb008f",
       "version_major": 2,
       "version_minor": 0
      },
      "text/plain": [
       "0it [00:00, ?it/s]"
      ]
     },
     "metadata": {},
     "output_type": "display_data"
    },
    {
     "data": {
      "application/vnd.jupyter.widget-view+json": {
       "model_id": "47783b8b93a14fdc806ee0b166342a76",
       "version_major": 2,
       "version_minor": 0
      },
      "text/plain": [
       "0it [00:00, ?it/s]"
      ]
     },
     "metadata": {},
     "output_type": "display_data"
    },
    {
     "data": {
      "application/vnd.jupyter.widget-view+json": {
       "model_id": "4c8d7acf24a94241b4b98ac163c8bf2b",
       "version_major": 2,
       "version_minor": 0
      },
      "text/plain": [
       "0it [00:00, ?it/s]"
      ]
     },
     "metadata": {},
     "output_type": "display_data"
    },
    {
     "data": {
      "application/vnd.jupyter.widget-view+json": {
       "model_id": "a7f4a43c48644f4c8388d4a14070880b",
       "version_major": 2,
       "version_minor": 0
      },
      "text/plain": [
       "0it [00:00, ?it/s]"
      ]
     },
     "metadata": {},
     "output_type": "display_data"
    },
    {
     "data": {
      "application/vnd.jupyter.widget-view+json": {
       "model_id": "f9f171dd35824ffe883d4c0643c0b029",
       "version_major": 2,
       "version_minor": 0
      },
      "text/plain": [
       "0it [00:00, ?it/s]"
      ]
     },
     "metadata": {},
     "output_type": "display_data"
    },
    {
     "data": {
      "application/vnd.jupyter.widget-view+json": {
       "model_id": "a5e1ea165f6e492a8f90323137fdceeb",
       "version_major": 2,
       "version_minor": 0
      },
      "text/plain": [
       "0it [00:00, ?it/s]"
      ]
     },
     "metadata": {},
     "output_type": "display_data"
    },
    {
     "data": {
      "application/vnd.jupyter.widget-view+json": {
       "model_id": "eeb11ceddee242f4bd20f5fdd9182568",
       "version_major": 2,
       "version_minor": 0
      },
      "text/plain": [
       "0it [00:00, ?it/s]"
      ]
     },
     "metadata": {},
     "output_type": "display_data"
    },
    {
     "data": {
      "application/vnd.jupyter.widget-view+json": {
       "model_id": "9e8edfa60663440bb5f7631cf4aa2950",
       "version_major": 2,
       "version_minor": 0
      },
      "text/plain": [
       "0it [00:00, ?it/s]"
      ]
     },
     "metadata": {},
     "output_type": "display_data"
    },
    {
     "data": {
      "application/vnd.jupyter.widget-view+json": {
       "model_id": "5962f43d48ee4f4584c08573a482ebe6",
       "version_major": 2,
       "version_minor": 0
      },
      "text/plain": [
       "0it [00:00, ?it/s]"
      ]
     },
     "metadata": {},
     "output_type": "display_data"
    },
    {
     "data": {
      "application/vnd.jupyter.widget-view+json": {
       "model_id": "9ae5185c0a1f43b6900f31ba4d012f17",
       "version_major": 2,
       "version_minor": 0
      },
      "text/plain": [
       "0it [00:00, ?it/s]"
      ]
     },
     "metadata": {},
     "output_type": "display_data"
    },
    {
     "data": {
      "application/vnd.jupyter.widget-view+json": {
       "model_id": "166543e1cf224385a9e9a51107e78fa1",
       "version_major": 2,
       "version_minor": 0
      },
      "text/plain": [
       "0it [00:00, ?it/s]"
      ]
     },
     "metadata": {},
     "output_type": "display_data"
    },
    {
     "data": {
      "application/vnd.jupyter.widget-view+json": {
       "model_id": "d8b73e826cc24bdbb78f10d278cc4ceb",
       "version_major": 2,
       "version_minor": 0
      },
      "text/plain": [
       "0it [00:00, ?it/s]"
      ]
     },
     "metadata": {},
     "output_type": "display_data"
    },
    {
     "data": {
      "application/vnd.jupyter.widget-view+json": {
       "model_id": "07dbb0ee18524bdb85cece06f39e52c4",
       "version_major": 2,
       "version_minor": 0
      },
      "text/plain": [
       "0it [00:00, ?it/s]"
      ]
     },
     "metadata": {},
     "output_type": "display_data"
    },
    {
     "data": {
      "application/vnd.jupyter.widget-view+json": {
       "model_id": "0a5c2ac818894b5c8c70a4aa0678e020",
       "version_major": 2,
       "version_minor": 0
      },
      "text/plain": [
       "0it [00:00, ?it/s]"
      ]
     },
     "metadata": {},
     "output_type": "display_data"
    },
    {
     "data": {
      "application/vnd.jupyter.widget-view+json": {
       "model_id": "8b7f138a2d444a70bb61334cff03b8ad",
       "version_major": 2,
       "version_minor": 0
      },
      "text/plain": [
       "0it [00:00, ?it/s]"
      ]
     },
     "metadata": {},
     "output_type": "display_data"
    },
    {
     "data": {
      "application/vnd.jupyter.widget-view+json": {
       "model_id": "690ba071f2094ae9a372b66298589f12",
       "version_major": 2,
       "version_minor": 0
      },
      "text/plain": [
       "0it [00:00, ?it/s]"
      ]
     },
     "metadata": {},
     "output_type": "display_data"
    },
    {
     "data": {
      "application/vnd.jupyter.widget-view+json": {
       "model_id": "a6a266cdac1c4be493d498402e8cc634",
       "version_major": 2,
       "version_minor": 0
      },
      "text/plain": [
       "0it [00:00, ?it/s]"
      ]
     },
     "metadata": {},
     "output_type": "display_data"
    },
    {
     "data": {
      "application/vnd.jupyter.widget-view+json": {
       "model_id": "39720be834fb4ce6b73a80837d1d9529",
       "version_major": 2,
       "version_minor": 0
      },
      "text/plain": [
       "0it [00:00, ?it/s]"
      ]
     },
     "metadata": {},
     "output_type": "display_data"
    },
    {
     "data": {
      "application/vnd.jupyter.widget-view+json": {
       "model_id": "51b0a773024c4e33b4162a1d8fd21a38",
       "version_major": 2,
       "version_minor": 0
      },
      "text/plain": [
       "0it [00:00, ?it/s]"
      ]
     },
     "metadata": {},
     "output_type": "display_data"
    },
    {
     "data": {
      "application/vnd.jupyter.widget-view+json": {
       "model_id": "d0bf6173609a47109fce71871a7cb794",
       "version_major": 2,
       "version_minor": 0
      },
      "text/plain": [
       "0it [00:00, ?it/s]"
      ]
     },
     "metadata": {},
     "output_type": "display_data"
    },
    {
     "data": {
      "application/vnd.jupyter.widget-view+json": {
       "model_id": "f100735b65804ab18b7fcaf50f669b04",
       "version_major": 2,
       "version_minor": 0
      },
      "text/plain": [
       "0it [00:00, ?it/s]"
      ]
     },
     "metadata": {},
     "output_type": "display_data"
    },
    {
     "data": {
      "application/vnd.jupyter.widget-view+json": {
       "model_id": "2109fa6d2a8f492d8696d521a8bd3a87",
       "version_major": 2,
       "version_minor": 0
      },
      "text/plain": [
       "0it [00:00, ?it/s]"
      ]
     },
     "metadata": {},
     "output_type": "display_data"
    },
    {
     "data": {
      "application/vnd.jupyter.widget-view+json": {
       "model_id": "2f7c5b997d5e40e08d9463f3c20e2d18",
       "version_major": 2,
       "version_minor": 0
      },
      "text/plain": [
       "0it [00:00, ?it/s]"
      ]
     },
     "metadata": {},
     "output_type": "display_data"
    },
    {
     "data": {
      "application/vnd.jupyter.widget-view+json": {
       "model_id": "18ed8fc826d54c7594e3a873ad21c7c0",
       "version_major": 2,
       "version_minor": 0
      },
      "text/plain": [
       "0it [00:00, ?it/s]"
      ]
     },
     "metadata": {},
     "output_type": "display_data"
    },
    {
     "data": {
      "application/vnd.jupyter.widget-view+json": {
       "model_id": "265b7c37dfa14572a1e286a5b4b95dce",
       "version_major": 2,
       "version_minor": 0
      },
      "text/plain": [
       "0it [00:00, ?it/s]"
      ]
     },
     "metadata": {},
     "output_type": "display_data"
    },
    {
     "data": {
      "application/vnd.jupyter.widget-view+json": {
       "model_id": "5f374ae6bff748a7a3259ebd5b0aa918",
       "version_major": 2,
       "version_minor": 0
      },
      "text/plain": [
       "0it [00:00, ?it/s]"
      ]
     },
     "metadata": {},
     "output_type": "display_data"
    },
    {
     "data": {
      "application/vnd.jupyter.widget-view+json": {
       "model_id": "3c5b0fc9c05b4616b2dd62131a1be7d2",
       "version_major": 2,
       "version_minor": 0
      },
      "text/plain": [
       "0it [00:00, ?it/s]"
      ]
     },
     "metadata": {},
     "output_type": "display_data"
    },
    {
     "data": {
      "application/vnd.jupyter.widget-view+json": {
       "model_id": "75ef6ab910664a2693c2e9980d048fee",
       "version_major": 2,
       "version_minor": 0
      },
      "text/plain": [
       "0it [00:00, ?it/s]"
      ]
     },
     "metadata": {},
     "output_type": "display_data"
    },
    {
     "data": {
      "application/vnd.jupyter.widget-view+json": {
       "model_id": "7da356f632bf411d9ad99e1b234522bc",
       "version_major": 2,
       "version_minor": 0
      },
      "text/plain": [
       "0it [00:00, ?it/s]"
      ]
     },
     "metadata": {},
     "output_type": "display_data"
    },
    {
     "data": {
      "application/vnd.jupyter.widget-view+json": {
       "model_id": "9cf013c2c14a4d50a2c02f9a21829b2a",
       "version_major": 2,
       "version_minor": 0
      },
      "text/plain": [
       "0it [00:00, ?it/s]"
      ]
     },
     "metadata": {},
     "output_type": "display_data"
    },
    {
     "data": {
      "application/vnd.jupyter.widget-view+json": {
       "model_id": "96de1d15c9a2481ab0465c6ec9fa29cd",
       "version_major": 2,
       "version_minor": 0
      },
      "text/plain": [
       "0it [00:00, ?it/s]"
      ]
     },
     "metadata": {},
     "output_type": "display_data"
    },
    {
     "data": {
      "application/vnd.jupyter.widget-view+json": {
       "model_id": "338125a36ba74eb2a19c0d6865b36eb1",
       "version_major": 2,
       "version_minor": 0
      },
      "text/plain": [
       "0it [00:00, ?it/s]"
      ]
     },
     "metadata": {},
     "output_type": "display_data"
    },
    {
     "data": {
      "application/vnd.jupyter.widget-view+json": {
       "model_id": "8b1fd5701819428499d813deb5b038c1",
       "version_major": 2,
       "version_minor": 0
      },
      "text/plain": [
       "0it [00:00, ?it/s]"
      ]
     },
     "metadata": {},
     "output_type": "display_data"
    },
    {
     "data": {
      "application/vnd.jupyter.widget-view+json": {
       "model_id": "c8b31fbe3f924302808bbef764ecf9ca",
       "version_major": 2,
       "version_minor": 0
      },
      "text/plain": [
       "0it [00:00, ?it/s]"
      ]
     },
     "metadata": {},
     "output_type": "display_data"
    },
    {
     "data": {
      "application/vnd.jupyter.widget-view+json": {
       "model_id": "e163f9cba24f465f84645cab5dca4c6d",
       "version_major": 2,
       "version_minor": 0
      },
      "text/plain": [
       "0it [00:00, ?it/s]"
      ]
     },
     "metadata": {},
     "output_type": "display_data"
    },
    {
     "data": {
      "application/vnd.jupyter.widget-view+json": {
       "model_id": "2744d98c83a7419193d7be0e33e66894",
       "version_major": 2,
       "version_minor": 0
      },
      "text/plain": [
       "0it [00:00, ?it/s]"
      ]
     },
     "metadata": {},
     "output_type": "display_data"
    },
    {
     "data": {
      "application/vnd.jupyter.widget-view+json": {
       "model_id": "5c357aa76cf84b51ba9b0bfefeaabf50",
       "version_major": 2,
       "version_minor": 0
      },
      "text/plain": [
       "0it [00:00, ?it/s]"
      ]
     },
     "metadata": {},
     "output_type": "display_data"
    },
    {
     "data": {
      "application/vnd.jupyter.widget-view+json": {
       "model_id": "3b930caec9b1441783e5f9763a4e98a1",
       "version_major": 2,
       "version_minor": 0
      },
      "text/plain": [
       "0it [00:00, ?it/s]"
      ]
     },
     "metadata": {},
     "output_type": "display_data"
    },
    {
     "data": {
      "application/vnd.jupyter.widget-view+json": {
       "model_id": "0ae2db708f9f4a1a9eb804a7773d4b67",
       "version_major": 2,
       "version_minor": 0
      },
      "text/plain": [
       "0it [00:00, ?it/s]"
      ]
     },
     "metadata": {},
     "output_type": "display_data"
    },
    {
     "data": {
      "application/vnd.jupyter.widget-view+json": {
       "model_id": "b5afc9a3c1e24187bd0aba6487730cd0",
       "version_major": 2,
       "version_minor": 0
      },
      "text/plain": [
       "0it [00:00, ?it/s]"
      ]
     },
     "metadata": {},
     "output_type": "display_data"
    },
    {
     "data": {
      "application/vnd.jupyter.widget-view+json": {
       "model_id": "ca09f899f6954081891476ffce94ac54",
       "version_major": 2,
       "version_minor": 0
      },
      "text/plain": [
       "0it [00:00, ?it/s]"
      ]
     },
     "metadata": {},
     "output_type": "display_data"
    },
    {
     "data": {
      "application/vnd.jupyter.widget-view+json": {
       "model_id": "ebecb5f2dad24fe294ac789e29b119cd",
       "version_major": 2,
       "version_minor": 0
      },
      "text/plain": [
       "0it [00:00, ?it/s]"
      ]
     },
     "metadata": {},
     "output_type": "display_data"
    },
    {
     "data": {
      "application/vnd.jupyter.widget-view+json": {
       "model_id": "c7abe962b0824832b67283766cb84d48",
       "version_major": 2,
       "version_minor": 0
      },
      "text/plain": [
       "0it [00:00, ?it/s]"
      ]
     },
     "metadata": {},
     "output_type": "display_data"
    },
    {
     "data": {
      "text/html": [
       "<style>#sk-container-id-1 {color: black;background-color: white;}#sk-container-id-1 pre{padding: 0;}#sk-container-id-1 div.sk-toggleable {background-color: white;}#sk-container-id-1 label.sk-toggleable__label {cursor: pointer;display: block;width: 100%;margin-bottom: 0;padding: 0.3em;box-sizing: border-box;text-align: center;}#sk-container-id-1 label.sk-toggleable__label-arrow:before {content: \"▸\";float: left;margin-right: 0.25em;color: #696969;}#sk-container-id-1 label.sk-toggleable__label-arrow:hover:before {color: black;}#sk-container-id-1 div.sk-estimator:hover label.sk-toggleable__label-arrow:before {color: black;}#sk-container-id-1 div.sk-toggleable__content {max-height: 0;max-width: 0;overflow: hidden;text-align: left;background-color: #f0f8ff;}#sk-container-id-1 div.sk-toggleable__content pre {margin: 0.2em;color: black;border-radius: 0.25em;background-color: #f0f8ff;}#sk-container-id-1 input.sk-toggleable__control:checked~div.sk-toggleable__content {max-height: 200px;max-width: 100%;overflow: auto;}#sk-container-id-1 input.sk-toggleable__control:checked~label.sk-toggleable__label-arrow:before {content: \"▾\";}#sk-container-id-1 div.sk-estimator input.sk-toggleable__control:checked~label.sk-toggleable__label {background-color: #d4ebff;}#sk-container-id-1 div.sk-label input.sk-toggleable__control:checked~label.sk-toggleable__label {background-color: #d4ebff;}#sk-container-id-1 input.sk-hidden--visually {border: 0;clip: rect(1px 1px 1px 1px);clip: rect(1px, 1px, 1px, 1px);height: 1px;margin: -1px;overflow: hidden;padding: 0;position: absolute;width: 1px;}#sk-container-id-1 div.sk-estimator {font-family: monospace;background-color: #f0f8ff;border: 1px dotted black;border-radius: 0.25em;box-sizing: border-box;margin-bottom: 0.5em;}#sk-container-id-1 div.sk-estimator:hover {background-color: #d4ebff;}#sk-container-id-1 div.sk-parallel-item::after {content: \"\";width: 100%;border-bottom: 1px solid gray;flex-grow: 1;}#sk-container-id-1 div.sk-label:hover label.sk-toggleable__label {background-color: #d4ebff;}#sk-container-id-1 div.sk-serial::before {content: \"\";position: absolute;border-left: 1px solid gray;box-sizing: border-box;top: 0;bottom: 0;left: 50%;z-index: 0;}#sk-container-id-1 div.sk-serial {display: flex;flex-direction: column;align-items: center;background-color: white;padding-right: 0.2em;padding-left: 0.2em;position: relative;}#sk-container-id-1 div.sk-item {position: relative;z-index: 1;}#sk-container-id-1 div.sk-parallel {display: flex;align-items: stretch;justify-content: center;background-color: white;position: relative;}#sk-container-id-1 div.sk-item::before, #sk-container-id-1 div.sk-parallel-item::before {content: \"\";position: absolute;border-left: 1px solid gray;box-sizing: border-box;top: 0;bottom: 0;left: 50%;z-index: -1;}#sk-container-id-1 div.sk-parallel-item {display: flex;flex-direction: column;z-index: 1;position: relative;background-color: white;}#sk-container-id-1 div.sk-parallel-item:first-child::after {align-self: flex-end;width: 50%;}#sk-container-id-1 div.sk-parallel-item:last-child::after {align-self: flex-start;width: 50%;}#sk-container-id-1 div.sk-parallel-item:only-child::after {width: 0;}#sk-container-id-1 div.sk-dashed-wrapped {border: 1px dashed gray;margin: 0 0.4em 0.5em 0.4em;box-sizing: border-box;padding-bottom: 0.4em;background-color: white;}#sk-container-id-1 div.sk-label label {font-family: monospace;font-weight: bold;display: inline-block;line-height: 1.2em;}#sk-container-id-1 div.sk-label-container {text-align: center;}#sk-container-id-1 div.sk-container {/* jupyter's `normalize.less` sets `[hidden] { display: none; }` but bootstrap.min.css set `[hidden] { display: none !important; }` so we also need the `!important` here to be able to override the default hidden behavior on the sphinx rendered scikit-learn.org. See: https://github.com/scikit-learn/scikit-learn/issues/21755 */display: inline-block !important;position: relative;}#sk-container-id-1 div.sk-text-repr-fallback {display: none;}</style><div id=\"sk-container-id-1\" class=\"sk-top-container\"><div class=\"sk-text-repr-fallback\"><pre>RandomizedSearchCV(cv=5,\n",
       "                   estimator=EstimatorWrapper(batch_size=32, device=&#x27;mps&#x27;,\n",
       "                                              model=T5ForConditionalGeneration(\n",
       "  (shared): Embedding(32128, 512)\n",
       "  (encoder): T5Stack(\n",
       "    (embed_tokens): Embedding(32128, 512)\n",
       "    (block): ModuleList(\n",
       "      (0): T5Block(\n",
       "        (layer): ModuleList(\n",
       "          (0): T5LayerSelfAttention(\n",
       "            (SelfAttention): T5Attention(\n",
       "              (q): Linear(in_features=512, out_features=384, bias=False...\n",
       "                                              tokenizer=T5TokenizerFast(name_or_path=&#x27;google/flan-t5-small&#x27;, vocab_size=32100, model_max_length=512, is_fast=True, padding_side=&#x27;right&#x27;, truncation_side=&#x27;right&#x27;, special_tokens={&#x27;eos_token&#x27;: &#x27;&lt;/s&gt;&#x27;, &#x27;unk_token&#x27;: &#x27;&lt;unk&gt;&#x27;, &#x27;pad_token&#x27;: &#x27;&lt;pad&gt;&#x27;, &#x27;additional_special_tokens&#x27;: [&#x27;&lt;extra_id_0&gt;&#x27;, &#x27;&lt;extra_id_1&gt;&#x27;, &#x27;&lt;extra_id_2&gt;&#x27;, &#x27;&lt;extra_id_3&gt;&#x27;, &#x27;&lt;extra_id_4&gt;&#x27;, &#x27;&lt;extra_id_5&gt;&#x27;, &#x27;&lt;extra_id_6&gt;&#x27;, &#x27;&lt;extra_id_7&gt;&#x27;, &#x27;&lt;extra_id_8&gt;&#x27;, &#x27;&lt;extra_id_9&gt;&#x27;, &#x27;&lt;extra_id_10&gt;&#x27;, &#x27;&lt;extra_id_11&gt;&#x27;, &#x27;&lt;extra_id_12&gt;&#x27;, &#x27;&lt;extra_id_13&gt;&#x27;, &#x27;&lt;extra_id_14&gt;&#x27;, &#x27;&lt;extra_id_15&gt;&#x27;, &#x27;&lt;extra_id_16&gt;&#x27;, &#x27;&lt;extra_id_17&gt;&#x27;, &#x27;&lt;extra_id_18&gt;&#x27;, &#x27;&lt;extra_id_19&gt;&#x27;, &#x27;&lt;extra_id_20&gt;&#x27;, &#x27;&lt;extra_id_21&gt;&#x27;, &#x27;&lt;extra_id_22&gt;&#x27;, &#x27;&lt;extra_id_23&gt;&#x27;, &#x27;&lt;extra_id_24&gt;&#x27;, &#x27;&lt;extra_id_25&gt;&#x27;, &#x27;&lt;extra_id_26&gt;&#x27;, &#x27;&lt;extra_id_27&gt;&#x27;, &#x27;&lt;extra_id_28&gt;&#x27;, &#x27;&lt;extra_id_29&gt;&#x27;, &#x27;&lt;extra_id_30&gt;&#x27;, &#x27;&lt;extra_id_31&gt;&#x27;, &#x27;&lt;extra_id_32&gt;&#x27;, &#x27;&lt;extra_id_33&gt;&#x27;, &#x27;&lt;extra_id_34&gt;&#x27;, &#x27;&lt;extra_id_35&gt;&#x27;, &#x27;&lt;extra_id_36&gt;&#x27;, &#x27;&lt;extra_id_37&gt;&#x27;, &#x27;&lt;extra_id_38&gt;&#x27;, &#x27;&lt;extra_id_39&gt;&#x27;, &#x27;&lt;extra_id_40&gt;&#x27;, &#x27;&lt;extra_id_41&gt;&#x27;, &#x27;&lt;extra_id_42&gt;&#x27;, &#x27;&lt;extra_id_43&gt;&#x27;, &#x27;&lt;extra_id_44&gt;&#x27;, &#x27;&lt;extra_id_45&gt;&#x27;, &#x27;&lt;extra_id_46&gt;&#x27;, &#x27;&lt;extra_id_47&gt;&#x27;, &#x27;&lt;extra_id_48&gt;&#x27;, &#x27;&lt;extra_id_49&gt;&#x27;, &#x27;&lt;extra_id_50&gt;&#x27;, &#x27;&lt;extra_id_51&gt;&#x27;, &#x27;&lt;extra_id_52&gt;&#x27;, &#x27;&lt;extra_id_53&gt;&#x27;, &#x27;&lt;extra_id_54&gt;&#x27;, &#x27;&lt;extra_id_55&gt;&#x27;, &#x27;&lt;extra_id_56&gt;&#x27;, &#x27;&lt;extra_id_57&gt;&#x27;, &#x27;&lt;extra_id_58&gt;&#x27;, &#x27;&lt;extra_id_59&gt;&#x27;, &#x27;&lt;extra_id_60&gt;&#x27;, &#x27;&lt;extra_id_61&gt;&#x27;, &#x27;&lt;extra_id_62&gt;&#x27;, &#x27;&lt;extra_id_63&gt;&#x27;, &#x27;&lt;extra_id_64&gt;&#x27;, &#x27;&lt;extra_id_65&gt;&#x27;, &#x27;&lt;extra_id_66&gt;&#x27;, &#x27;&lt;extra_id_67&gt;&#x27;, &#x27;&lt;extra_id_68&gt;&#x27;, &#x27;&lt;extra_id_69&gt;&#x27;, &#x27;&lt;extra_id_70&gt;&#x27;, &#x27;&lt;extra_id_71&gt;&#x27;, &#x27;&lt;extra_id_72&gt;&#x27;, &#x27;&lt;extra_id_73&gt;&#x27;, &#x27;&lt;extra_id_74&gt;&#x27;, &#x27;&lt;extra_id_75&gt;&#x27;, &#x27;&lt;extra_id_76&gt;&#x27;, &#x27;&lt;extra_id_77&gt;&#x27;, &#x27;&lt;extra_id_78&gt;&#x27;, &#x27;&lt;extra_id_79&gt;&#x27;, &#x27;&lt;extra_id_80&gt;&#x27;, &#x27;&lt;extra_id_81&gt;&#x27;, &#x27;&lt;extra_id_82&gt;&#x27;, &#x27;&lt;extra_id_83&gt;&#x27;, &#x27;&lt;extra_id_84&gt;&#x27;, &#x27;&lt;extra_id_85&gt;&#x27;, &#x27;&lt;extra_id_86&gt;&#x27;, &#x27;&lt;extra_id_87&gt;&#x27;, &#x27;&lt;extra_id_88&gt;&#x27;, &#x27;&lt;extra_id_89&gt;&#x27;, &#x27;&lt;extra_id_90&gt;&#x27;, &#x27;&lt;extra_id_91&gt;&#x27;, &#x27;&lt;extra_id_92&gt;&#x27;, &#x27;&lt;extra_id_93&gt;&#x27;, &#x27;&lt;extra_id_94&gt;&#x27;, &#x27;&lt;extra_id_95&gt;&#x27;, &#x27;&lt;extra_id_96&gt;&#x27;, &#x27;&lt;extra_id_97&gt;&#x27;, &#x27;&lt;extra_id_98&gt;&#x27;, &#x27;&lt;extra_id_99&gt;&#x27;]})),\n",
       "                   n_iter=30, n_jobs=1,\n",
       "                   param_distributions={&#x27;epsilon_cutoff&#x27;: [0.0003, 0.0006,\n",
       "                                                           0.0009, 0],\n",
       "                                        &#x27;max_new_tokens&#x27;: [200],\n",
       "                                        &#x27;no_repeat_ngram_size&#x27;: [0, 2, 3, 4],\n",
       "                                        &#x27;num_beams&#x27;: [3],\n",
       "                                        &#x27;repetition_penalty&#x27;: [0.3, 0.7, 1.0],\n",
       "                                        &#x27;temperature&#x27;: [1]},\n",
       "                   random_state=42, scoring=make_scorer(my_metric), verbose=1)</pre><b>In a Jupyter environment, please rerun this cell to show the HTML representation or trust the notebook. <br />On GitHub, the HTML representation is unable to render, please try loading this page with nbviewer.org.</b></div><div class=\"sk-container\" hidden><div class=\"sk-item sk-dashed-wrapped\"><div class=\"sk-label-container\"><div class=\"sk-label sk-toggleable\"><input class=\"sk-toggleable__control sk-hidden--visually\" id=\"sk-estimator-id-1\" type=\"checkbox\" ><label for=\"sk-estimator-id-1\" class=\"sk-toggleable__label sk-toggleable__label-arrow\">RandomizedSearchCV</label><div class=\"sk-toggleable__content\"><pre>RandomizedSearchCV(cv=5,\n",
       "                   estimator=EstimatorWrapper(batch_size=32, device=&#x27;mps&#x27;,\n",
       "                                              model=T5ForConditionalGeneration(\n",
       "  (shared): Embedding(32128, 512)\n",
       "  (encoder): T5Stack(\n",
       "    (embed_tokens): Embedding(32128, 512)\n",
       "    (block): ModuleList(\n",
       "      (0): T5Block(\n",
       "        (layer): ModuleList(\n",
       "          (0): T5LayerSelfAttention(\n",
       "            (SelfAttention): T5Attention(\n",
       "              (q): Linear(in_features=512, out_features=384, bias=False...\n",
       "                                              tokenizer=T5TokenizerFast(name_or_path=&#x27;google/flan-t5-small&#x27;, vocab_size=32100, model_max_length=512, is_fast=True, padding_side=&#x27;right&#x27;, truncation_side=&#x27;right&#x27;, special_tokens={&#x27;eos_token&#x27;: &#x27;&lt;/s&gt;&#x27;, &#x27;unk_token&#x27;: &#x27;&lt;unk&gt;&#x27;, &#x27;pad_token&#x27;: &#x27;&lt;pad&gt;&#x27;, &#x27;additional_special_tokens&#x27;: [&#x27;&lt;extra_id_0&gt;&#x27;, &#x27;&lt;extra_id_1&gt;&#x27;, &#x27;&lt;extra_id_2&gt;&#x27;, &#x27;&lt;extra_id_3&gt;&#x27;, &#x27;&lt;extra_id_4&gt;&#x27;, &#x27;&lt;extra_id_5&gt;&#x27;, &#x27;&lt;extra_id_6&gt;&#x27;, &#x27;&lt;extra_id_7&gt;&#x27;, &#x27;&lt;extra_id_8&gt;&#x27;, &#x27;&lt;extra_id_9&gt;&#x27;, &#x27;&lt;extra_id_10&gt;&#x27;, &#x27;&lt;extra_id_11&gt;&#x27;, &#x27;&lt;extra_id_12&gt;&#x27;, &#x27;&lt;extra_id_13&gt;&#x27;, &#x27;&lt;extra_id_14&gt;&#x27;, &#x27;&lt;extra_id_15&gt;&#x27;, &#x27;&lt;extra_id_16&gt;&#x27;, &#x27;&lt;extra_id_17&gt;&#x27;, &#x27;&lt;extra_id_18&gt;&#x27;, &#x27;&lt;extra_id_19&gt;&#x27;, &#x27;&lt;extra_id_20&gt;&#x27;, &#x27;&lt;extra_id_21&gt;&#x27;, &#x27;&lt;extra_id_22&gt;&#x27;, &#x27;&lt;extra_id_23&gt;&#x27;, &#x27;&lt;extra_id_24&gt;&#x27;, &#x27;&lt;extra_id_25&gt;&#x27;, &#x27;&lt;extra_id_26&gt;&#x27;, &#x27;&lt;extra_id_27&gt;&#x27;, &#x27;&lt;extra_id_28&gt;&#x27;, &#x27;&lt;extra_id_29&gt;&#x27;, &#x27;&lt;extra_id_30&gt;&#x27;, &#x27;&lt;extra_id_31&gt;&#x27;, &#x27;&lt;extra_id_32&gt;&#x27;, &#x27;&lt;extra_id_33&gt;&#x27;, &#x27;&lt;extra_id_34&gt;&#x27;, &#x27;&lt;extra_id_35&gt;&#x27;, &#x27;&lt;extra_id_36&gt;&#x27;, &#x27;&lt;extra_id_37&gt;&#x27;, &#x27;&lt;extra_id_38&gt;&#x27;, &#x27;&lt;extra_id_39&gt;&#x27;, &#x27;&lt;extra_id_40&gt;&#x27;, &#x27;&lt;extra_id_41&gt;&#x27;, &#x27;&lt;extra_id_42&gt;&#x27;, &#x27;&lt;extra_id_43&gt;&#x27;, &#x27;&lt;extra_id_44&gt;&#x27;, &#x27;&lt;extra_id_45&gt;&#x27;, &#x27;&lt;extra_id_46&gt;&#x27;, &#x27;&lt;extra_id_47&gt;&#x27;, &#x27;&lt;extra_id_48&gt;&#x27;, &#x27;&lt;extra_id_49&gt;&#x27;, &#x27;&lt;extra_id_50&gt;&#x27;, &#x27;&lt;extra_id_51&gt;&#x27;, &#x27;&lt;extra_id_52&gt;&#x27;, &#x27;&lt;extra_id_53&gt;&#x27;, &#x27;&lt;extra_id_54&gt;&#x27;, &#x27;&lt;extra_id_55&gt;&#x27;, &#x27;&lt;extra_id_56&gt;&#x27;, &#x27;&lt;extra_id_57&gt;&#x27;, &#x27;&lt;extra_id_58&gt;&#x27;, &#x27;&lt;extra_id_59&gt;&#x27;, &#x27;&lt;extra_id_60&gt;&#x27;, &#x27;&lt;extra_id_61&gt;&#x27;, &#x27;&lt;extra_id_62&gt;&#x27;, &#x27;&lt;extra_id_63&gt;&#x27;, &#x27;&lt;extra_id_64&gt;&#x27;, &#x27;&lt;extra_id_65&gt;&#x27;, &#x27;&lt;extra_id_66&gt;&#x27;, &#x27;&lt;extra_id_67&gt;&#x27;, &#x27;&lt;extra_id_68&gt;&#x27;, &#x27;&lt;extra_id_69&gt;&#x27;, &#x27;&lt;extra_id_70&gt;&#x27;, &#x27;&lt;extra_id_71&gt;&#x27;, &#x27;&lt;extra_id_72&gt;&#x27;, &#x27;&lt;extra_id_73&gt;&#x27;, &#x27;&lt;extra_id_74&gt;&#x27;, &#x27;&lt;extra_id_75&gt;&#x27;, &#x27;&lt;extra_id_76&gt;&#x27;, &#x27;&lt;extra_id_77&gt;&#x27;, &#x27;&lt;extra_id_78&gt;&#x27;, &#x27;&lt;extra_id_79&gt;&#x27;, &#x27;&lt;extra_id_80&gt;&#x27;, &#x27;&lt;extra_id_81&gt;&#x27;, &#x27;&lt;extra_id_82&gt;&#x27;, &#x27;&lt;extra_id_83&gt;&#x27;, &#x27;&lt;extra_id_84&gt;&#x27;, &#x27;&lt;extra_id_85&gt;&#x27;, &#x27;&lt;extra_id_86&gt;&#x27;, &#x27;&lt;extra_id_87&gt;&#x27;, &#x27;&lt;extra_id_88&gt;&#x27;, &#x27;&lt;extra_id_89&gt;&#x27;, &#x27;&lt;extra_id_90&gt;&#x27;, &#x27;&lt;extra_id_91&gt;&#x27;, &#x27;&lt;extra_id_92&gt;&#x27;, &#x27;&lt;extra_id_93&gt;&#x27;, &#x27;&lt;extra_id_94&gt;&#x27;, &#x27;&lt;extra_id_95&gt;&#x27;, &#x27;&lt;extra_id_96&gt;&#x27;, &#x27;&lt;extra_id_97&gt;&#x27;, &#x27;&lt;extra_id_98&gt;&#x27;, &#x27;&lt;extra_id_99&gt;&#x27;]})),\n",
       "                   n_iter=30, n_jobs=1,\n",
       "                   param_distributions={&#x27;epsilon_cutoff&#x27;: [0.0003, 0.0006,\n",
       "                                                           0.0009, 0],\n",
       "                                        &#x27;max_new_tokens&#x27;: [200],\n",
       "                                        &#x27;no_repeat_ngram_size&#x27;: [0, 2, 3, 4],\n",
       "                                        &#x27;num_beams&#x27;: [3],\n",
       "                                        &#x27;repetition_penalty&#x27;: [0.3, 0.7, 1.0],\n",
       "                                        &#x27;temperature&#x27;: [1]},\n",
       "                   random_state=42, scoring=make_scorer(my_metric), verbose=1)</pre></div></div></div><div class=\"sk-parallel\"><div class=\"sk-parallel-item\"><div class=\"sk-item\"><div class=\"sk-label-container\"><div class=\"sk-label sk-toggleable\"><input class=\"sk-toggleable__control sk-hidden--visually\" id=\"sk-estimator-id-2\" type=\"checkbox\" ><label for=\"sk-estimator-id-2\" class=\"sk-toggleable__label sk-toggleable__label-arrow\">estimator: EstimatorWrapper</label><div class=\"sk-toggleable__content\"><pre>EstimatorWrapper(batch_size=32, device=&#x27;mps&#x27;,\n",
       "                 model=T5ForConditionalGeneration(\n",
       "  (shared): Embedding(32128, 512)\n",
       "  (encoder): T5Stack(\n",
       "    (embed_tokens): Embedding(32128, 512)\n",
       "    (block): ModuleList(\n",
       "      (0): T5Block(\n",
       "        (layer): ModuleList(\n",
       "          (0): T5LayerSelfAttention(\n",
       "            (SelfAttention): T5Attention(\n",
       "              (q): Linear(in_features=512, out_features=384, bias=False)\n",
       "              (k): Linear(in_features=512, out_fe...\n",
       "                 tokenizer=T5TokenizerFast(name_or_path=&#x27;google/flan-t5-small&#x27;, vocab_size=32100, model_max_length=512, is_fast=True, padding_side=&#x27;right&#x27;, truncation_side=&#x27;right&#x27;, special_tokens={&#x27;eos_token&#x27;: &#x27;&lt;/s&gt;&#x27;, &#x27;unk_token&#x27;: &#x27;&lt;unk&gt;&#x27;, &#x27;pad_token&#x27;: &#x27;&lt;pad&gt;&#x27;, &#x27;additional_special_tokens&#x27;: [&#x27;&lt;extra_id_0&gt;&#x27;, &#x27;&lt;extra_id_1&gt;&#x27;, &#x27;&lt;extra_id_2&gt;&#x27;, &#x27;&lt;extra_id_3&gt;&#x27;, &#x27;&lt;extra_id_4&gt;&#x27;, &#x27;&lt;extra_id_5&gt;&#x27;, &#x27;&lt;extra_id_6&gt;&#x27;, &#x27;&lt;extra_id_7&gt;&#x27;, &#x27;&lt;extra_id_8&gt;&#x27;, &#x27;&lt;extra_id_9&gt;&#x27;, &#x27;&lt;extra_id_10&gt;&#x27;, &#x27;&lt;extra_id_11&gt;&#x27;, &#x27;&lt;extra_id_12&gt;&#x27;, &#x27;&lt;extra_id_13&gt;&#x27;, &#x27;&lt;extra_id_14&gt;&#x27;, &#x27;&lt;extra_id_15&gt;&#x27;, &#x27;&lt;extra_id_16&gt;&#x27;, &#x27;&lt;extra_id_17&gt;&#x27;, &#x27;&lt;extra_id_18&gt;&#x27;, &#x27;&lt;extra_id_19&gt;&#x27;, &#x27;&lt;extra_id_20&gt;&#x27;, &#x27;&lt;extra_id_21&gt;&#x27;, &#x27;&lt;extra_id_22&gt;&#x27;, &#x27;&lt;extra_id_23&gt;&#x27;, &#x27;&lt;extra_id_24&gt;&#x27;, &#x27;&lt;extra_id_25&gt;&#x27;, &#x27;&lt;extra_id_26&gt;&#x27;, &#x27;&lt;extra_id_27&gt;&#x27;, &#x27;&lt;extra_id_28&gt;&#x27;, &#x27;&lt;extra_id_29&gt;&#x27;, &#x27;&lt;extra_id_30&gt;&#x27;, &#x27;&lt;extra_id_31&gt;&#x27;, &#x27;&lt;extra_id_32&gt;&#x27;, &#x27;&lt;extra_id_33&gt;&#x27;, &#x27;&lt;extra_id_34&gt;&#x27;, &#x27;&lt;extra_id_35&gt;&#x27;, &#x27;&lt;extra_id_36&gt;&#x27;, &#x27;&lt;extra_id_37&gt;&#x27;, &#x27;&lt;extra_id_38&gt;&#x27;, &#x27;&lt;extra_id_39&gt;&#x27;, &#x27;&lt;extra_id_40&gt;&#x27;, &#x27;&lt;extra_id_41&gt;&#x27;, &#x27;&lt;extra_id_42&gt;&#x27;, &#x27;&lt;extra_id_43&gt;&#x27;, &#x27;&lt;extra_id_44&gt;&#x27;, &#x27;&lt;extra_id_45&gt;&#x27;, &#x27;&lt;extra_id_46&gt;&#x27;, &#x27;&lt;extra_id_47&gt;&#x27;, &#x27;&lt;extra_id_48&gt;&#x27;, &#x27;&lt;extra_id_49&gt;&#x27;, &#x27;&lt;extra_id_50&gt;&#x27;, &#x27;&lt;extra_id_51&gt;&#x27;, &#x27;&lt;extra_id_52&gt;&#x27;, &#x27;&lt;extra_id_53&gt;&#x27;, &#x27;&lt;extra_id_54&gt;&#x27;, &#x27;&lt;extra_id_55&gt;&#x27;, &#x27;&lt;extra_id_56&gt;&#x27;, &#x27;&lt;extra_id_57&gt;&#x27;, &#x27;&lt;extra_id_58&gt;&#x27;, &#x27;&lt;extra_id_59&gt;&#x27;, &#x27;&lt;extra_id_60&gt;&#x27;, &#x27;&lt;extra_id_61&gt;&#x27;, &#x27;&lt;extra_id_62&gt;&#x27;, &#x27;&lt;extra_id_63&gt;&#x27;, &#x27;&lt;extra_id_64&gt;&#x27;, &#x27;&lt;extra_id_65&gt;&#x27;, &#x27;&lt;extra_id_66&gt;&#x27;, &#x27;&lt;extra_id_67&gt;&#x27;, &#x27;&lt;extra_id_68&gt;&#x27;, &#x27;&lt;extra_id_69&gt;&#x27;, &#x27;&lt;extra_id_70&gt;&#x27;, &#x27;&lt;extra_id_71&gt;&#x27;, &#x27;&lt;extra_id_72&gt;&#x27;, &#x27;&lt;extra_id_73&gt;&#x27;, &#x27;&lt;extra_id_74&gt;&#x27;, &#x27;&lt;extra_id_75&gt;&#x27;, &#x27;&lt;extra_id_76&gt;&#x27;, &#x27;&lt;extra_id_77&gt;&#x27;, &#x27;&lt;extra_id_78&gt;&#x27;, &#x27;&lt;extra_id_79&gt;&#x27;, &#x27;&lt;extra_id_80&gt;&#x27;, &#x27;&lt;extra_id_81&gt;&#x27;, &#x27;&lt;extra_id_82&gt;&#x27;, &#x27;&lt;extra_id_83&gt;&#x27;, &#x27;&lt;extra_id_84&gt;&#x27;, &#x27;&lt;extra_id_85&gt;&#x27;, &#x27;&lt;extra_id_86&gt;&#x27;, &#x27;&lt;extra_id_87&gt;&#x27;, &#x27;&lt;extra_id_88&gt;&#x27;, &#x27;&lt;extra_id_89&gt;&#x27;, &#x27;&lt;extra_id_90&gt;&#x27;, &#x27;&lt;extra_id_91&gt;&#x27;, &#x27;&lt;extra_id_92&gt;&#x27;, &#x27;&lt;extra_id_93&gt;&#x27;, &#x27;&lt;extra_id_94&gt;&#x27;, &#x27;&lt;extra_id_95&gt;&#x27;, &#x27;&lt;extra_id_96&gt;&#x27;, &#x27;&lt;extra_id_97&gt;&#x27;, &#x27;&lt;extra_id_98&gt;&#x27;, &#x27;&lt;extra_id_99&gt;&#x27;]}))</pre></div></div></div><div class=\"sk-serial\"><div class=\"sk-item\"><div class=\"sk-estimator sk-toggleable\"><input class=\"sk-toggleable__control sk-hidden--visually\" id=\"sk-estimator-id-3\" type=\"checkbox\" ><label for=\"sk-estimator-id-3\" class=\"sk-toggleable__label sk-toggleable__label-arrow\">EstimatorWrapper</label><div class=\"sk-toggleable__content\"><pre>EstimatorWrapper(batch_size=32, device=&#x27;mps&#x27;,\n",
       "                 model=T5ForConditionalGeneration(\n",
       "  (shared): Embedding(32128, 512)\n",
       "  (encoder): T5Stack(\n",
       "    (embed_tokens): Embedding(32128, 512)\n",
       "    (block): ModuleList(\n",
       "      (0): T5Block(\n",
       "        (layer): ModuleList(\n",
       "          (0): T5LayerSelfAttention(\n",
       "            (SelfAttention): T5Attention(\n",
       "              (q): Linear(in_features=512, out_features=384, bias=False)\n",
       "              (k): Linear(in_features=512, out_fe...\n",
       "                 tokenizer=T5TokenizerFast(name_or_path=&#x27;google/flan-t5-small&#x27;, vocab_size=32100, model_max_length=512, is_fast=True, padding_side=&#x27;right&#x27;, truncation_side=&#x27;right&#x27;, special_tokens={&#x27;eos_token&#x27;: &#x27;&lt;/s&gt;&#x27;, &#x27;unk_token&#x27;: &#x27;&lt;unk&gt;&#x27;, &#x27;pad_token&#x27;: &#x27;&lt;pad&gt;&#x27;, &#x27;additional_special_tokens&#x27;: [&#x27;&lt;extra_id_0&gt;&#x27;, &#x27;&lt;extra_id_1&gt;&#x27;, &#x27;&lt;extra_id_2&gt;&#x27;, &#x27;&lt;extra_id_3&gt;&#x27;, &#x27;&lt;extra_id_4&gt;&#x27;, &#x27;&lt;extra_id_5&gt;&#x27;, &#x27;&lt;extra_id_6&gt;&#x27;, &#x27;&lt;extra_id_7&gt;&#x27;, &#x27;&lt;extra_id_8&gt;&#x27;, &#x27;&lt;extra_id_9&gt;&#x27;, &#x27;&lt;extra_id_10&gt;&#x27;, &#x27;&lt;extra_id_11&gt;&#x27;, &#x27;&lt;extra_id_12&gt;&#x27;, &#x27;&lt;extra_id_13&gt;&#x27;, &#x27;&lt;extra_id_14&gt;&#x27;, &#x27;&lt;extra_id_15&gt;&#x27;, &#x27;&lt;extra_id_16&gt;&#x27;, &#x27;&lt;extra_id_17&gt;&#x27;, &#x27;&lt;extra_id_18&gt;&#x27;, &#x27;&lt;extra_id_19&gt;&#x27;, &#x27;&lt;extra_id_20&gt;&#x27;, &#x27;&lt;extra_id_21&gt;&#x27;, &#x27;&lt;extra_id_22&gt;&#x27;, &#x27;&lt;extra_id_23&gt;&#x27;, &#x27;&lt;extra_id_24&gt;&#x27;, &#x27;&lt;extra_id_25&gt;&#x27;, &#x27;&lt;extra_id_26&gt;&#x27;, &#x27;&lt;extra_id_27&gt;&#x27;, &#x27;&lt;extra_id_28&gt;&#x27;, &#x27;&lt;extra_id_29&gt;&#x27;, &#x27;&lt;extra_id_30&gt;&#x27;, &#x27;&lt;extra_id_31&gt;&#x27;, &#x27;&lt;extra_id_32&gt;&#x27;, &#x27;&lt;extra_id_33&gt;&#x27;, &#x27;&lt;extra_id_34&gt;&#x27;, &#x27;&lt;extra_id_35&gt;&#x27;, &#x27;&lt;extra_id_36&gt;&#x27;, &#x27;&lt;extra_id_37&gt;&#x27;, &#x27;&lt;extra_id_38&gt;&#x27;, &#x27;&lt;extra_id_39&gt;&#x27;, &#x27;&lt;extra_id_40&gt;&#x27;, &#x27;&lt;extra_id_41&gt;&#x27;, &#x27;&lt;extra_id_42&gt;&#x27;, &#x27;&lt;extra_id_43&gt;&#x27;, &#x27;&lt;extra_id_44&gt;&#x27;, &#x27;&lt;extra_id_45&gt;&#x27;, &#x27;&lt;extra_id_46&gt;&#x27;, &#x27;&lt;extra_id_47&gt;&#x27;, &#x27;&lt;extra_id_48&gt;&#x27;, &#x27;&lt;extra_id_49&gt;&#x27;, &#x27;&lt;extra_id_50&gt;&#x27;, &#x27;&lt;extra_id_51&gt;&#x27;, &#x27;&lt;extra_id_52&gt;&#x27;, &#x27;&lt;extra_id_53&gt;&#x27;, &#x27;&lt;extra_id_54&gt;&#x27;, &#x27;&lt;extra_id_55&gt;&#x27;, &#x27;&lt;extra_id_56&gt;&#x27;, &#x27;&lt;extra_id_57&gt;&#x27;, &#x27;&lt;extra_id_58&gt;&#x27;, &#x27;&lt;extra_id_59&gt;&#x27;, &#x27;&lt;extra_id_60&gt;&#x27;, &#x27;&lt;extra_id_61&gt;&#x27;, &#x27;&lt;extra_id_62&gt;&#x27;, &#x27;&lt;extra_id_63&gt;&#x27;, &#x27;&lt;extra_id_64&gt;&#x27;, &#x27;&lt;extra_id_65&gt;&#x27;, &#x27;&lt;extra_id_66&gt;&#x27;, &#x27;&lt;extra_id_67&gt;&#x27;, &#x27;&lt;extra_id_68&gt;&#x27;, &#x27;&lt;extra_id_69&gt;&#x27;, &#x27;&lt;extra_id_70&gt;&#x27;, &#x27;&lt;extra_id_71&gt;&#x27;, &#x27;&lt;extra_id_72&gt;&#x27;, &#x27;&lt;extra_id_73&gt;&#x27;, &#x27;&lt;extra_id_74&gt;&#x27;, &#x27;&lt;extra_id_75&gt;&#x27;, &#x27;&lt;extra_id_76&gt;&#x27;, &#x27;&lt;extra_id_77&gt;&#x27;, &#x27;&lt;extra_id_78&gt;&#x27;, &#x27;&lt;extra_id_79&gt;&#x27;, &#x27;&lt;extra_id_80&gt;&#x27;, &#x27;&lt;extra_id_81&gt;&#x27;, &#x27;&lt;extra_id_82&gt;&#x27;, &#x27;&lt;extra_id_83&gt;&#x27;, &#x27;&lt;extra_id_84&gt;&#x27;, &#x27;&lt;extra_id_85&gt;&#x27;, &#x27;&lt;extra_id_86&gt;&#x27;, &#x27;&lt;extra_id_87&gt;&#x27;, &#x27;&lt;extra_id_88&gt;&#x27;, &#x27;&lt;extra_id_89&gt;&#x27;, &#x27;&lt;extra_id_90&gt;&#x27;, &#x27;&lt;extra_id_91&gt;&#x27;, &#x27;&lt;extra_id_92&gt;&#x27;, &#x27;&lt;extra_id_93&gt;&#x27;, &#x27;&lt;extra_id_94&gt;&#x27;, &#x27;&lt;extra_id_95&gt;&#x27;, &#x27;&lt;extra_id_96&gt;&#x27;, &#x27;&lt;extra_id_97&gt;&#x27;, &#x27;&lt;extra_id_98&gt;&#x27;, &#x27;&lt;extra_id_99&gt;&#x27;]}))</pre></div></div></div></div></div></div></div></div></div></div>"
      ],
      "text/plain": [
       "RandomizedSearchCV(cv=5,\n",
       "                   estimator=EstimatorWrapper(batch_size=32, device='mps',\n",
       "                                              model=T5ForConditionalGeneration(\n",
       "  (shared): Embedding(32128, 512)\n",
       "  (encoder): T5Stack(\n",
       "    (embed_tokens): Embedding(32128, 512)\n",
       "    (block): ModuleList(\n",
       "      (0): T5Block(\n",
       "        (layer): ModuleList(\n",
       "          (0): T5LayerSelfAttention(\n",
       "            (SelfAttention): T5Attention(\n",
       "              (q): Linear(in_features=512, out_features=384, bias=False...\n",
       "                                              tokenizer=T5TokenizerFast(name_or_path='google/flan-t5-small', vocab_size=32100, model_max_length=512, is_fast=True, padding_side='right', truncation_side='right', special_tokens={'eos_token': '</s>', 'unk_token': '<unk>', 'pad_token': '<pad>', 'additional_special_tokens': ['<extra_id_0>', '<extra_id_1>', '<extra_id_2>', '<extra_id_3>', '<extra_id_4>', '<extra_id_5>', '<extra_id_6>', '<extra_id_7>', '<extra_id_8>', '<extra_id_9>', '<extra_id_10>', '<extra_id_11>', '<extra_id_12>', '<extra_id_13>', '<extra_id_14>', '<extra_id_15>', '<extra_id_16>', '<extra_id_17>', '<extra_id_18>', '<extra_id_19>', '<extra_id_20>', '<extra_id_21>', '<extra_id_22>', '<extra_id_23>', '<extra_id_24>', '<extra_id_25>', '<extra_id_26>', '<extra_id_27>', '<extra_id_28>', '<extra_id_29>', '<extra_id_30>', '<extra_id_31>', '<extra_id_32>', '<extra_id_33>', '<extra_id_34>', '<extra_id_35>', '<extra_id_36>', '<extra_id_37>', '<extra_id_38>', '<extra_id_39>', '<extra_id_40>', '<extra_id_41>', '<extra_id_42>', '<extra_id_43>', '<extra_id_44>', '<extra_id_45>', '<extra_id_46>', '<extra_id_47>', '<extra_id_48>', '<extra_id_49>', '<extra_id_50>', '<extra_id_51>', '<extra_id_52>', '<extra_id_53>', '<extra_id_54>', '<extra_id_55>', '<extra_id_56>', '<extra_id_57>', '<extra_id_58>', '<extra_id_59>', '<extra_id_60>', '<extra_id_61>', '<extra_id_62>', '<extra_id_63>', '<extra_id_64>', '<extra_id_65>', '<extra_id_66>', '<extra_id_67>', '<extra_id_68>', '<extra_id_69>', '<extra_id_70>', '<extra_id_71>', '<extra_id_72>', '<extra_id_73>', '<extra_id_74>', '<extra_id_75>', '<extra_id_76>', '<extra_id_77>', '<extra_id_78>', '<extra_id_79>', '<extra_id_80>', '<extra_id_81>', '<extra_id_82>', '<extra_id_83>', '<extra_id_84>', '<extra_id_85>', '<extra_id_86>', '<extra_id_87>', '<extra_id_88>', '<extra_id_89>', '<extra_id_90>', '<extra_id_91>', '<extra_id_92>', '<extra_id_93>', '<extra_id_94>', '<extra_id_95>', '<extra_id_96>', '<extra_id_97>', '<extra_id_98>', '<extra_id_99>']})),\n",
       "                   n_iter=30, n_jobs=1,\n",
       "                   param_distributions={'epsilon_cutoff': [0.0003, 0.0006,\n",
       "                                                           0.0009, 0],\n",
       "                                        'max_new_tokens': [200],\n",
       "                                        'no_repeat_ngram_size': [0, 2, 3, 4],\n",
       "                                        'num_beams': [3],\n",
       "                                        'repetition_penalty': [0.3, 0.7, 1.0],\n",
       "                                        'temperature': [1]},\n",
       "                   random_state=42, scoring=make_scorer(my_metric), verbose=1)"
      ]
     },
     "execution_count": 14,
     "metadata": {},
     "output_type": "execute_result"
    }
   ],
   "source": [
    "clf.fit(X=samples_to_tune_on[\"instruction\"], y=samples_to_tune_on[\"output\"])"
   ]
  },
  {
   "cell_type": "code",
   "execution_count": 16,
   "id": "fc67fb91",
   "metadata": {},
   "outputs": [],
   "source": [
    "model_output_after_tuning, latency = infer_batches(\n",
    "    model=model,\n",
    "    tokenizer=tokenizer,\n",
    "    device=device,\n",
    "    model_inputs=samples_to_tune_on[\"instruction\"],\n",
    "    model_input_tokenizer_kwargs=model_input_tokenizer_kwargs,\n",
    "    generation_kwargs=clf.best_params_,\n",
    "    batch_size=32,\n",
    ")"
   ]
  },
  {
   "cell_type": "code",
   "execution_count": 17,
   "id": "c3d08442",
   "metadata": {},
   "outputs": [
    {
     "data": {
      "text/plain": [
       "0.013292305726151015"
      ]
     },
     "execution_count": 17,
     "metadata": {},
     "output_type": "execute_result"
    }
   ],
   "source": [
    "my_metric(y_true=samples_to_tune_on[\"output\"], y_pred=model_output_before_tuning)"
   ]
  },
  {
   "cell_type": "code",
   "execution_count": 18,
   "id": "db2b5b40",
   "metadata": {
    "scrolled": true
   },
   "outputs": [
    {
     "data": {
      "text/plain": [
       "0.03367519423588454"
      ]
     },
     "execution_count": 18,
     "metadata": {},
     "output_type": "execute_result"
    }
   ],
   "source": [
    "my_metric(y_true=samples_to_tune_on[\"output\"], y_pred=model_output_after_tuning)"
   ]
  },
  {
   "cell_type": "code",
   "execution_count": 19,
   "id": "d4f9b201",
   "metadata": {},
   "outputs": [
    {
     "data": {
      "text/plain": [
       "{'temperature': 1,\n",
       " 'repetition_penalty': 0.7,\n",
       " 'num_beams': 3,\n",
       " 'no_repeat_ngram_size': 4,\n",
       " 'max_new_tokens': 200,\n",
       " 'epsilon_cutoff': 0}"
      ]
     },
     "execution_count": 19,
     "metadata": {},
     "output_type": "execute_result"
    }
   ],
   "source": [
    "clf.best_params_"
   ]
  },
  {
   "cell_type": "code",
   "execution_count": 20,
   "id": "bf8c09f5",
   "metadata": {},
   "outputs": [
    {
     "data": {
      "text/plain": [
       "['water is a source of a fungus and fungi that can survive for long without water and fungus that can live for a long time.',\n",
       " \"Alice's parents have three daughters: Amy, Jessy, and what's Alice's mom's name?\",\n",
       " 'the United Nations',\n",
       " 'polygon',\n",
       " 'tv series vs. st. john s s tv vs st s n s r n tv',\n",
       " 'samuel edwards',\n",
       " 'samuel edwards',\n",
       " 'the sun rises',\n",
       " 'irrational adolescent adiolescence adilescence a dilescent dilad adlescent blunder ad ludicrous adalescence adicional adriolescent',\n",
       " 'henry iii',\n",
       " 'samuel edwards',\n",
       " 'he was a saxophonist',\n",
       " 'underwriting',\n",
       " 'andromeda',\n",
       " \"''The Lumières' ''\",\n",
       " '1903–03–03 and 1904–03–04 and 1903–04–04 and 1906–04–03 and 1906–07–04 and 1911–04–07 and 1911–07–19 and 1911–1919–19 and 1912–1912–1914 and 1911–14–1914–1915–1915 and 1911–15–1914, 1911–1915, 1915–1918, 1915, 1912–1815, 1921–1918 and 1911–1819–1918–1921–1921, 1911–1818, 1911–21–1919, 1911–15, 1911–12, 1911–14, 1912, 1921, 1914–15, 1914–14, 1914–18, 1914–1919 and 1914–14–14–18–18–19–19–14–15–18–15–15–14–17–19–18–',\n",
       " 'no',\n",
       " 'Sunshine Recession Sunshine Recession may refer to:',\n",
       " 'Dutch franc',\n",
       " 'he is the founder of House Karstark, a company based in London, England, based in the city of London. During the series, a song of Ice and Fire is based on the novel of the same name by the author of the novel, \"A Song of Ice & Fire\", which is a sequel to the novel \"A Song in Ice and Fire\", based on a novel by the author.',\n",
       " 'adolescence',\n",
       " 'hot water',\n",
       " 'a saskatchewan s saada s aad s d aaads ss ad a d d e a e e d o a a o e o o s o n o r o d n a r a n e n s e s n n r n t a t e t o t t s t n d t r s c a c d c n c e c c t c r c s r e r t d r r d b a b c b d ',\n",
       " 'LAPR LAPR may refer to:',\n",
       " 'a tasmanian taasmania taesmania sasmanias tai saa sai naas saata aias aaa aaia ahia naiaa iaaah iaiah aahhiaahaahiiahaiia iiiaasiahi iiasiiaehiaesiaeiaeeseaessaesassaiae ii aaataa niiii niaaiiieiastaa eii tahtaaaasaas',\n",
       " 'saxophonists and acoustic guitars',\n",
       " 'george w. bush',\n",
       " 'four',\n",
       " 'kite',\n",
       " 'investment banking',\n",
       " 'i m n n i n t i t n s i s t s n m t t m s s o t o n o s m o o m m i i o r i r n r t r s r m r o a r a s a n a t a m a a i a o d n d i d a d s d t d d r d m d e s e t e d o e r e n e m e e a e i e o i',\n",
       " 'albatross',\n",
       " 'Research Collaboratory for Structural Bioinformatics Protein Data',\n",
       " 'johnny winslow',\n",
       " 'a film made in the state of georgia',\n",
       " 'a hammer, hammer or hammer hammer',\n",
       " 'apple',\n",
       " 'a dog is a dog that eats a lot of food.',\n",
       " 'Place the flowers in a vase and place them in the vase.',\n",
       " 'DNA annotation',\n",
       " 'samuel edwards',\n",
       " 'share capital',\n",
       " '1.4 billion yuan a uuu auu yuu uu ouu tuu saan saada sana sasada, a tasmanian taasmania taan aan uuta aan, aaas aanasaan, and aasanas sananassaan.',\n",
       " 'los angeles olympics',\n",
       " 'Tomb of Sand was translated from Hindi to English',\n",
       " 'a total of a combined total of 256 a.k.a. and a synapse of 256.0 a.s. and 256.2 a.a. a.e. 256.3 a.s. a 256.4 a. s. s a 512.3 s.a.',\n",
       " 'a flammable object is exposed to a fire source or extreme heat',\n",
       " 'the Jets were a team of the New York Giants and New York Jets.',\n",
       " 'san antonio saskatchewan',\n",
       " 'one thousand nine hundred and ninety nine',\n",
       " 'michael edwards',\n",
       " 'tequila',\n",
       " 'Place ice cubes in a large bowl and add ice cream. Add ice cream and ice cream to the bowl and mix. Add the ice cream mixture to the bowl. Add the cream mixture and mix until the cream mixture is melted.',\n",
       " 'san antonio',\n",
       " 'bass guitar',\n",
       " 'GDP',\n",
       " 'adolescence and a drool ad a roose ad. a ad and ad are two types of ad, ad is a sex ad of a lone ad in a b ad with a c ad or a ed. b b c b d c c d d e d o d s e o s o e e s s d n e n s n o r o n n r n d r e r s r r d l e l o o c e c o l n ',\n",
       " 'Mormons are a group of Mormons who are ordained as a sacramento of the Evangelical Church of the United States of America. Mormons are the members of a congregation of the Church of Jesus Christ of Latter Day Saints.',\n",
       " 'Granny Smith (or Granny Smith) is a genus of fungi in the family Grannyae. The genus is a moth in the family Crambidae.',\n",
       " 'adam kool koad ko lu kou kaol o koda kok koya ku k o o ay kobo k ayayaaya ayyaada yay ayuda sassa sarah saman kohda o saad ayodaa yo ahudaayo yoludah yosudaha yoydahya yugodaho yaodahu yogodahaadahi yoodahai ya',\n",
       " 'samuel edwards',\n",
       " 'george w. bush',\n",
       " ' ',\n",
       " 'nanotubes',\n",
       " 'a secured loan',\n",
       " \"A child is a person who is not a parent. A child who is a parent is a child that is a member of a family. A child with a child who isn't a parent must have a child.\",\n",
       " 'george w. bush',\n",
       " 'fa cup',\n",
       " 'arctic and arctic oceans',\n",
       " 'no',\n",
       " \"edward esward s s eward ewards e e ward e d e w e f e h e l e s w s f s h s d s l s t s o s r s a s n s c s g s m s b s p s i s v s k s y s j s q s u s x s ch s  s's st s's '' s - s & s ; s, '' and '', ',, &, ;,\",\n",
       " 'shrubs and trees',\n",
       " \"men's singles grand slam tennis\",\n",
       " 'federal republic of the united states federal republic of u.s. federal republic of united states senate of united states of america s u. s. s s c s d c c d d e c e d f c f d s e f s f f e e u s o c o d o e o f o o u f u c u d a u a c a f a a s a e a o a d b a b b c b e b d u u b f b s b u e s t c t d ',\n",
       " 'pickleball',\n",
       " 'michael lincoln',\n",
       " 'roosevelt',\n",
       " 'elizabeth edwards',\n",
       " 'a series of adolescent sex and sex series based on a sex sex episode based on the sex of a teen whose sex is sex on the eve of sex.',\n",
       " 'st. louis san francisco san antonio saskatchewan',\n",
       " 'no',\n",
       " 'Pour the soap into a bowl and add the soap to the bowl. Add the soap and stir until the soap is dissolved. Pour the soap mixture into the bowl and add to the soap mixture. Add the mixture to the bowl and stir until it reaches the desired consistency. Pour the mixture into the soap mixture and stir until soap is completely dissolved and the soap is fully dissolved. Let the soap mixture sit for a few minutes and then add the soap mixture to the mixture.',\n",
       " 'elephants',\n",
       " 'no',\n",
       " 'southeastern southwestern southeastern region of the United States of America southeastern coastal southwestern coastal southeastern southern southeastern northern southeastern coast of the southern southwestern coast of the northern southwestern region of the southern coast of the northwestern coast of the western coast of the northeastern coast of the eastern coast of the southeastern United States. southeastern eastern southeastern western southeastern northeastern southeastern southeast southeastern northwestern coasts of the northern coast of the southeast coast of the southwest coast of the southwestern region of the western region of the northeast coast of the northwest coast of the west coast of the east coast of the region of the southeast.',\n",
       " 'saturday night osso bucolo oscuro sassy oscar oso o sydney os o luogo o roosevelt o tuesday night a saada o aad o edward o yelo ay o drool o otto o utto a aaado oo oh o hylo e o nasso ah ooo a hydo ao oy ooh aho om o mr oma omi omo o',\n",
       " \"Harry Potter and the Philosopher's Stone\",\n",
       " 'he was a philanthropist',\n",
       " 'Trans Tahoe Relay',\n",
       " '69,069, 69,694, 77,693, 87,694 and 77,469, and 87,469 and 77,369,477,487,387,478,378,447,377,277,578,278,587,287,547,247,569,577,747,778,787,777,777,769,7777,774,727,779,717,719,728,729,739,799,737,759,735,745,748,749 ',\n",
       " 'harry potter',\n",
       " 'Aberdeen',\n",
       " 'england premier league',\n",
       " 'predictive maintenance',\n",
       " 'Terraform () is a genus of fungi in the family Geometridae.',\n",
       " 'san francisco and santa barbara',\n",
       " 'house reeds',\n",
       " 'san francisco',\n",
       " 'cryptocurrency',\n",
       " 'Counter Reformation']"
      ]
     },
     "execution_count": 20,
     "metadata": {},
     "output_type": "execute_result"
    }
   ],
   "source": [
    "model_output_after_tuning"
   ]
  },
  {
   "cell_type": "code",
   "execution_count": 21,
   "id": "f96ccda9",
   "metadata": {},
   "outputs": [
    {
     "data": {
      "text/plain": [
       "['water is a source of heat and moisture.',\n",
       " \"Alice's parents have three daughters: Amy, Jessy, and what's Alice's parents have?\",\n",
       " 'the United Nations',\n",
       " 'polygon',\n",
       " 'tv series tv series tv series tv series tv series tv series tv series tv series tv series tv series tv series tv series tv series tv series tv series tv series tv series tv series tv series tv series tv series tv series tv series tv series tv series tv series tv series tv series tv series tv series tv series tv series tv series tv series tv series tv series tv series tv series tv series tv series tv series tv series tv series tv series tv series tv series tv series tv series tv series tv series',\n",
       " 'samuel wilson wilson wilson wilson wilson wilson wilson wilson wilson wilson wilson wilson wilson wilson wilson wilson wilson wilson wilson wilson wilson wilson wilson wilson wilson wilson wilson wilson wilson wilson wilson wilson wilson wilson wilson wilson wilson wilson wilson wilson wilson wilson wilson wilson wilson wilson wilson wilson w',\n",
       " 'helen helen helen helen helen helen helen helen helen helen helen helen helen helen helen helen helen helen helen helen helen helen helen helen helen helen helen helen helen helen helen helen helen helen helen helen helen helen helen helen helen helen helen helen helen helen helen helen helen helen',\n",
       " 'the sun rises to the surface of the earth and the sun rises to the surface of the earth and the sun rises to the surface of the earth and the sun rises to the surface of the earth and the sun rises to the surface of the earth and the sun rises to the surface of the earth and the sun rises to the surface of the earth and the sun rises to the surface of the earth and the sun rises to the surface of the earth and the sun rises to the surface of the earth and the sun rises to the surface of the earth and the sun rises to the surface of the earth and the sun rises to the surface of the earth and the sun rises to the surface of the earth and the sun rises to the surface of the earth and the sun rises to the surface of the earth and the sun rises to the surface of the earth and the sun rises to the surface of the earth and the sun',\n",
       " 'irresponsible irrational irrational irrational irrational irrational irrational irrational irrational irrational irrational irrational irrational irrational irrational irrational irrational irrational irrational irrational irrational irrational irrational irrational irrational irrational irrational irrational irrational irrational irrational irrational irrational irrational irrational irrational irrational irrational irrational i',\n",
       " 'henry iii',\n",
       " 'samuel wilson, jr., jr., jr., jr., jr., jr., jr., jr., jr., jr., jr., jr., jr., jr., jr., jr., jr., jr., jr., jr., jr., jr., jr., jr., jr., jr., jr., jr., jr., jr., jr., j',\n",
       " 'he was a member of the syd syd syd syd syd syd syd syd syd syd syd syd syd syd syd syd syd syd syd syd syd syd syd syd syd syd syd syd syd syd syd syd syd syd syd syd syd syd syd syd syd syd syd syd syd syd syd syd',\n",
       " 'underwriting is a form of writing that is written by a person or group of people. Underwriting is a form of writing that is written by a person or group of people. Underwriting is a form of writing that is written by a person or group of people. Underwriting is a form of writing that is written by a person or group of people. Underwriting is a form of writing that is written by a person or group of people. Underwriting is a form of writing that is written by a person or group of people. Underwriting is a form of writing that is written by a person or group of people. Underwriting is a form of writing that is written by a person or group of people. Underwriting is a form of writing that is written by a person or group of people. Underwriting is a form of writing that is written by a person or group of people.',\n",
       " 'andromeda sank andromeda sank andromeda sank andromeda sank andromeda sank andromeda sank andromeda sank andromeda sank andromeda sank andromeda sank andromeda sank andromeda sank andromeda sank andromeda sank andromeda sank andromeda sank andromeda sank andromeda sank andromeda sank andromeda sank andromeda sank andromeda sank andromeda sank andromeda sank andromeda sank andromeda sank andromeda sank andromeda sank andromeda',\n",
       " \"''The Lumières' ''\",\n",
       " '1903–1903 and 1903–1903 and 1903–1903 and 1903–1903 and 1903–1903 and 1903–1903 and 1903–1903 and 1903–1903 and 1903–1903 and 1903–1903 and 1903–1903 and 1903–1903 and 1903–1903 and 1903–1903 and 1903–1903 and 1903–1903 and 1903–1903 and 1903–1903 and 1903–1903–1903–1903–1903–1903–1903–1903–1903–1903–1903–1903–1903–1903–1903–1903–1903–1903–1903–1903–1903–1903–1903–1903–1903–1903–1903–1903–1903–1903–1903',\n",
       " 'lilies are a fungus that has been found to have been found to have been found to have been found to have been found to have been found to have been found to have been found to have been found to have been found to have been found to have been found to have been found to have been found to have been found to have been found to have been found to have been found to have been found to have been found to have been found to have been found to have been found to have been found to have been found to have been found to have been found to have been found to have been found to have been found to have been found to have been found to have been found to have been found to have been found to have been found to have been found to have been found to have been found to have been found to have been found to have been found to have been found to have been found to have been found to have been found to have been found to have',\n",
       " 'Sunshine Recession Sunshine Recession may refer to: Sunshine Recession may refer to: Sunshine Recession may refer to: Sunshine Recession may refer to: Sunshine Recession may refer to: Sunshine Recession may refer to: Sunshine Recession may refer to: Sunshine Recession may refer to: Sunshine Recession may refer to: Sunshine Recession may refer to: Sunshine Recession may refer to: Sunshine Recession may refer to: Sunshine Recession may refer to: Sunshine Recession may refer to: Sunshine Recession may refer to: Sunshine Recession may refer to: Sunshine Recession may refer to: Sunshine Recession may refer to: Sunshine Recession may refer to: Sunshine Recession may refer to: Sunshine Recession may refer to: Sunshine Recession may refer to: Sunshine Recession may refer to: Sunshine Recession may refer to: Sunshine Recession may refer to: Sunshine Recession may refer to: Sunshine Recession may refer to: Sunshine Recession may refer to: Sunshine',\n",
       " 'krona krona krona krona krona krona krona krona krona krona krona krona krona krona krona krona krona krona krona krona krona krona krona krona krona krona krona krona krona krona krona krona krona krona krona krona krona krona krona krona krona krona krona krona krona krona krona krona krona krona',\n",
       " 'he is the founder of House Karstark, which is based on the novel \"A Song of Ice and Fire\", which is based on the novel \"A Song of Ice and Fire\", which is based on the novel \"A Song of Ice and Fire\", which is based on the novel \"A Song of Ice and Fire\", which is based on the novel \"A Song of Ice and Fire\", which is based on the novel \"A Song of Ice and Fire\", which is based on the novel \"A Song of Ice and Fire\", which is based on the novel \"A Song of Ice and Fire\", which is based on the novel \"A Song of Ice and Fire\", which is based on the novel \"A Song of Ice and Fire\", which is based on the novel \"A Song of Ice and Fire\", which is based on the novel \"A Song of Ice and Fire\", which is based on the novel \"A',\n",
       " 'adolescence & adolescence & adolescence & adolescence & adolescence & adolescence & adolescence & adolescence & adolescence & adolescence & adolescence & adolescence & adolescence & adolescence & adolescence & adolescence & adolescence & adolescence & adolescence & adolescence & adolescence & adolescence & adolescence & adolescence & adolescence &',\n",
       " 'hot water - ohio - ohio - ohio - ohio - ohio - ohio - ohio - ohio - ohio - ohio - ohio - ohio - ohio - ohio - ohio - ohio - ohio - ohio - ohio - ohio - ohio - ohio - ohio - ohio - ohio - ohio - ohio - ohio -',\n",
       " 'a symphony of symphony of symphony of symphony of symphony of symphony of symphony of symphony of symphony of symphony of symphony of symphony of symphony of symphony of symphony of symphony of symphony of symphony of symphony of symphony of symphony of symphony of symphony of symphony of symphony of symphony of symphony of symphony of s',\n",
       " 'LAPR LAPR may refer to: LAPR may refer to: LAPR may refer to: LAPR may refer to: LAPR may refer to: LAPR may refer to: LAPR may refer to: LAPR may refer to: LAPR may refer to: LAPR may refer to: LAPR may refer to: LAPR may refer to: LAPR may refer to: LAPR may refer to: LAPR may refer to: LAPR may refer to: LAPR may refer to: LAPR may refer to: LAPR may refer to: LAPR may refer to: LAPR may refer to: LAPR may refer to: LAPR may refer to: LAPR may refer to: LAPR may refer to: LAPR may refer to: LAPR may refer to: LAPR may refer to: LAPR may refer to: LAPR may refer to: LAPR may refer to: LAPR may refer to: LAPR may refer to:',\n",
       " 'styrofoam styrofoam styrofoam styrofoam styrofoam styrofoam styrofoam styrofoam styrofoam styrofoam styrofoam styrofoam styrofoam styrofoam styrofoam styrofoam styrofoam styrofoam styrofoam styrofoam styrofoam styrofoam styrofoam styrofoam styrofoam',\n",
       " 'saxophonists saxophonists saxophonists saxophonists saxophonists saxophonists saxophonists saxophonists saxophonists saxophonists saxophonists saxophonists saxophonists saxophonists saxophonists saxophonists saxophonists saxophonists saxophonists saxophonists saxophonists saxophonists saxophonists saxophonists saxophonists',\n",
       " 'george w. w. w. w. w. w. w. w. w. w. w. w. w. w. w. w. w. w. w. w. w. w. w. w. w. w. w. w. w. w. w. w. w. w. w. w. w. w. w. w. w. w. w. w. w. w. w. w. w. w. w. w. w. w. w. w. w. w. w. w. w. w. w. w. w. w',\n",
       " 'four-time Grammy Award winner and ten-time Grammy Award winner. Bad Bunny has won three Grammy Awards and won three Grammy Awards and won three Grammy Awards. Bad Bunny has won three Grammy Awards and won three Grammy Awards. Bad Bunny has won three Grammy Awards and won three Grammy Awards. Bad Bunny has won three Grammy Awards and won three Grammy Awards. Bad Bunny has won three Grammy Awards and won three Grammy Awards. Bad Bunny has won three Grammy Awards and won three Grammy Awards. Bad Bunny has won three Grammy Awards and won three Grammy Awards. Bad Bunny has won three Grammy Awards and won three Grammy Awards. Bad Bunny has won three Grammy Awards and won three Grammy Awards. Bad Bunny has won three Grammy Awards and won three Grammy Awards. Bad Bunny has won three Grammy Awards and won three Grammy Awards. Bad Bunny has won three Grammy Awards and won three Grammy Awards.',\n",
       " 'A kite is a type of kite that is a type of kite that is a type of kite that is a type of kite that is a type of kite that is a type of kite that is a type of kite that is a type of kite that is a type of kite that is a type of kite that is a type of kite that is a type of kite that is a type of kite that is a type of kite that is a type of kite that is a type of kite that is a type of kite that is a type of kite that is a type of kite that is a type of kite that is a type of kite that is a type of kite that is a type of kite that is a type of kite that is a type of',\n",
       " 'Investment banking is a banking service that provides financial services to individuals, businesses, and individuals. It is a banking service that provides financial services to individuals, businesses, and individuals. It is a banking service that provides financial services to individuals, businesses, and individuals. It is a banking service that provides financial services to individuals, businesses, and individuals. It is a banking service that provides financial services to individuals, businesses, and individuals. It is a banking service that provides financial services to individuals, businesses, and individuals. It is a banking service that provides financial services to individuals, businesses, and individuals. It is a banking service that provides financial services to individuals, businesses, and individuals. It is a banking service that provides financial services to individuals, businesses, and individuals. It is a banking service that provides financial services to individuals, businesses, and individuals. It is a banking service that provides financial services to individuals, businesses, and individuals. It',\n",
       " 'a sleazy sleazy sleazy sleazy sleazy sleazy sleazy sleazy sleazy sleazy sleazy sleazy sleazy sleazy sleazy sleazy sleazy sleazy sleazy sleazy sleazy sleazy sleazy sleazy sleazy sleazy sleazy sleazy sleazy sleazy sleazy sleazy sleazy sleazy sleazy sleazy sleazy sleazy sleazy sle',\n",
       " 'albatross is a birdie that is a birdie that is a birdie that is a birdie that is a birdie that is a birdie that is a birdie that is a birdie that is a birdie that is a birdie that is a birdie that is a birdie that is a birdie that is a birdie that is a birdie that is a birdie that is a birdie that is a birdie that is a birdie that is a birdie that is a birdie that is a birdie that is a birdie that is a birdie that is a birdie that is a birdie that is a birdie that is a birdie that',\n",
       " 'Research Collaboratory for Structural Bioinformatics Protein Data',\n",
       " 'johnny wilson wilson wilson wilson wilson wilson wilson wilson wilson wilson wilson wilson wilson wilson wilson wilson wilson wilson wilson wilson wilson wilson wilson wilson wilson wilson wilson wilson wilson wilson wilson wilson wilson wilson wilson wilson wilson wilson wilson wilson wilson wilson wilson wilson wilson wilson wilson wilson wilson',\n",
       " 'a film made in the state of georgia is a film made in the state of georgia',\n",
       " 'a hammer, a hammer, a hammer, a hammer, a hammer, a hammer, a hammer, a hammer, a hammer, a hammer, a hammer, a hammer, a hammer, a hammer, a hammer, a hammer, a hammer, a hammer, a hammer, a hammer, a hammer, a hammer, a hammer, a hammer, a hammer, a hammer, a hammer, a hammer, a hammer, a hammer, a hammer, a hammer, a hammer, a',\n",
       " 'apricot apricot apricot apricot apricot apricot apricot apricot apricot apricot apricot apricot apricot apricot apricot apricot apricot apricot apricot apricot apricot apricot apricot apricot apricot apricot apricot apricot apricot apricot apricot apricot apricot apricot apricot apricot apricot apricot apricot apricot apricot apricot apricot apricot apricot apricot apricot apricot apricot apricot',\n",
       " 'eagle eagle eagle eagle eagle eagle eagle eagle eagle eagle eagle eagle eagle eagle eagle eagle eagle eagle eagle eagle eagle eagle eagle eagle eagle eagle eagle eagle eagle eagle eagle eagle eagle eagle eagle eagle eagle eagle eagle eagle eagle eagle eagle eagle eagle eagle eagle eagle eagle eagle',\n",
       " \"Place the flowers in a vase and place them in a vase for a few hours. If you don't have a vase, you can put them in a vase for a few hours. If you don't have a vase, you can put them in a vase for a few hours. If you don't have a vase, you can put them in a vase for a few hours. If you don't have a vase, you can put them in a vase for a few hours. If you don't have a vase, you can put them in a vase for a few hours. If you don't have a vase, you can put them in a vase for a few hours. If you don't have a vase, you can put them in a vase for a few hours. If you don't have a vase, you can\",\n",
       " 'id n = id n = id n = id n = id n = id n = id n = id n = id n = id n = id n = id n = id n = id n = id n = id n = id n = id n = id n = id n = id n = id n = id n = id n = id n = id n = id n = id n = id n = id n = id n = id n = id n = i',\n",
       " 'samuel edward edward edward edward edward edward edward edward edward edward edward edward edward edward edward edward edward edward edward edward edward edward edward edward edward edward edward edward edward edward edward edward edward edward edward edward edward edward edward edward edward edward edward edward edward edward edward edward e',\n",
       " 'a share capital in finance a share capital in finance a share capital in finance a share capital in finance a share capital in finance a share capital in finance a share capital in finance a share capital in finance a share capital in finance a share capital in finance a share capital in finance a share capital in finance a share capital in finance a share capital in finance a share capital in finance a share capital in finance a share capital in finance a share capital in finance a share capital in finance a share capital in finance a share capital in finance a share capital in finance a share capital in finance a share capital in finance a share capital in finance a share capital in finance a share capital in finance a share capital in finance a share capital in finance a share capital in finance a share capital in finance a share capital in finance a share capital in finance a',\n",
       " '1.4 billion yuan ahuahuahuahuahuahuahuahuahuahuahuahuahuahuahuahuahuahuahuahuahuahuahuahuahuahuahuahuahuahuahuahuahuahuahuahuahuahuahuahuahuahuahuahuahuahuahuahuahuahuahuahuahuahuahuahuahuahuahuahuahuahuahuahu',\n",
       " 'los angeles olympia olympia olympia olympia olympia olympia olympia olympia olympia olympia olympia olympia olympia olympia olympia olympia olympia olympia olympia olympia olympia olympia olympia olympia olympia olympia olympia olympia olympia olympia olympia olympia olymp',\n",
       " 'Tomb of Sand was translated from Hindi to English',\n",
       " 'a total of a total of a total of a total of a total of a total of a total of a total of a total of a total of a total of a total of a total of a total of a total of a total of a total of a total of a total of a total of a total of a total of a total of a total of a total of a total of a total of a total of a total of a total of a total of a total of a total of a total of a total of a total of a total of a total of a total of a total of a total of a total of a total of a total of a total of a total of a total of a total of a total of a total of',\n",
       " 'a fire is blown out of the air and a fire is blown out of the air and a fire is blown out of the air and a fire is blown out of the air and a fire is blown out of the air and a fire is blown out of the air and a fire is blown out of the air and a fire is blown out of the air and a fire is blown out of the air and a fire is blown out of the air and a fire is blown out of the air and a fire is blown out of the air and a fire is blown out of the air and a fire is blown out of the air and a fire is blown out of the air and a fire is blown out of the air and a fire is blown out of the air and a fire is blown out of the air and a',\n",
       " 'the Jets were a team of the New York Giants and the Jets were a team of the New York Giants and the Jets were a team of the New York Giants and the Jets were a team of the New York Giants and the Jets were a team of the New York Giants and the Jets were a team of the New York Giants and the Jets were a team of the New York Giants and the Jets were a team of the New York Giants and the Jets were a team of the New York Giants and the Jets were a team of the New York Giants and the Jets were a team of the New York Giants and the Jets were a team of the New York Giants and the Jets were a team of the New York Giants and the Jets were a team of the New York Giants and the Jets were',\n",
       " 'san antonio san antonio san antonio san antonio san antonio san antonio san antonio san antonio san antonio san antonio san antonio san antonio san antonio san antonio san antonio san antonio san antonio san antonio san antonio san antonio san antonio san antonio san antonio san antonio san antonio',\n",
       " 'one thousand nine hundred and twenty-four hundred and twenty-four hundred and forty-four hundred and forty-four hundred and forty-four hundred and forty-four hundred and forty-four hundred and forty-four hundred and forty-four hundred and forty-four hundred and forty-four hundred and forty-four hundred and forty-four hundred and forty-four hundred and forty-four hundred and forty-four hundred and forty-four hundred and forty-four hundred and forty-four hundred and forty-four hundred and forty-four hundred and forty-four hundred and forty-four hundred and forty-four hundred and forty-four hundred and forty-four hundred and forty-four hundred and forty-four hundred and forty-four hundred and forty-four hundred and forty-four hundred and forty-four hundred and forty-four hundred and forty-four hundred and forty-four hundred and forty-four hundred and forty-four hundred and forty-four hundred and forty-four hundred and',\n",
       " 'michael wilson and robert wilson and robert wilson and robert wilson and robert wilson and robert wilson and robert wilson and robert wilson and robert wilson and robert wilson and robert wilson and robert wilson and robert wilson and robert wilson and robert wilson and robert wilson and robert wilson and robert wilson and robert wilson and robert wilson and robert wilson and robert wilson and rob',\n",
       " 'tequila and tequila tequila and tequila tequila and tequila tequila and tequila and tequila and tequila and tequila and tequila and tequila and tequila and tequila and tequila and tequila and tequila and tequila and tequila and tequila and tequila and tequila and tequila and tequila and tequila and tequila and tequila and tequila and tequila and tequila and tequila and tequila and tequila',\n",
       " 'Place ice cubes in a large bowl and mix with a fork. Add the ice cubes to the bowl and mix. Add the ice cubes to the bowl and mix. Add the ice cubes to the bowl and mix. Add the ice cubes to the bowl and mix. Add the ice cubes to the bowl and mix. Add the ice cubes to the bowl and mix. Add the ice cubes to the bowl and mix. Add the ice cubes to the bowl and mix. Add the ice cubes to the bowl and mix. Add the ice cubes to the bowl and mix. Add the ice cubes to the bowl and mix. Add the ice cubes to the bowl and mix. Add the ice cubes to the bowl and mix. Add the ice cubes to the bowl and mix',\n",
       " 'san antonio del san antonio del san antonio del san antonio del san antonio del san antonio del san antonio del antonio del antonio del antonio del antonio del antonio del antonio del antonio del antonio del antonio del antonio del antonio del antonio del antonio del antonio del antonio del antonio del antonio del antonio del antoni',\n",
       " 'a bass guitar is a musical instrument that is played on a bass guitar, a drum, or a bass drum. a bass guitar is a musical instrument that is played on a bass guitar, a drum, or a drum, or drum, or drum, or drum, or drum, or drum, or drum, or drum, or drum, or drum, or drum, or drum, or drum, or drum, or drum, or drum, or drum, or drum, or drum, or drum, or drum, or drum, or drum, or drum, or drum, or drum, or drum, or drum, or drum, or drum, or drum, or drum, or drum, or drum, or drum, or drum, or drum, or drum, or drum, or drum, or drum, or drum, or drum, or drum, or drum, or drum, or drum, or drum, or drum, or',\n",
       " '3.3 billion yuan (                                                                                                ',\n",
       " 'adolescence and adolescence and adolescence and adolescence and adolescence and adolescence and adolescence and adolescence and adolescence and adolescence and adolescence and adolescence and adolescence and adolescence and adolescence and adolescence and adolescence and adolescence and adolescence and adolescence and adolescence and adolescence and adolescence and adolescence and adolescence and adolescence and adolescence and adolescence and ado',\n",
       " 'Mormons are a group of Mormons who are ordained as a priest or a sacramento of the church. The sacramento of the church is a sacramento of the church. The sacramento of the church is a sacramento of the church. The sacramento of the church is a sacramento of the church. The sacramento of the church is a sacramento of the church. The sacramento of the church is a sacramento of the church. The sacramento of the church is a sacramento of the church. The sacramento of the church is a sacramento of the church. The sacramento of the',\n",
       " 'Granny Smith (or Granny Smith) is a genus of plants in the family Chrysalisae. It is a genus of plants in the family Chrysalisae. It is a genus of plants in the family Chrysalisae. It is a genus of plants in the family Chrysalisae. It is a genus of plants in the family Chrysalisae. It is a genus of plants in the family Chrysalisae. It is a genus of plants in the family Chrysalisae. It is a genus of plants in the family Chrysalisae. It is a genus of plants in the family Chrysalisae. It is a genus of plants in the family',\n",
       " 'eliota eliota eliota eliota eliota eliota eliota eliota eliota eliota eliota eliota eliota eliota eliota eliota eliota eliota eliota eliota eliota eliota eliota eliota eliota eliota eliota eliota eli',\n",
       " 'samuel wilson iii of st john ii of st john ii of st john ii of st john ii of st john iv of st john iv of st john iv of st john iv of st john iv of st john iv of st john iv of st john iv of st john iv of st john iv of st john iv of st john iv of st john iv of st john iv of st john iv of st john iv of st john',\n",
       " 'george w. w. w. w. w. w. w. w. w. w. w. w. w. w. w. w. w. w. w. w. w. w. w. w. w. w. w. w. w. w. w. w. w. w. w. w. w. w. w. w. w. w. w. w. w. w. w. w. w. w. w. w. w. w. w. w. w. w. w. w. w. w. w. w. w. w',\n",
       " '                                                                                                   ',\n",
       " 'Nanotubes are a type of tube that is made of a material that is made of a material that is made of a material that is made of a material that is made of a material that is made of a material that is made of a material that is made of a material that is made of a material that is made of a material that is made of a material that is made of a material that is made of a material that is made of a material that is made of a material that is made of a material that is made of a material that is made of a material that is made of a material that is made of a material that is made of a material that is made of a material that is made of a material that is made of a material that is made of a material that is made of a material that is made of a material that is',\n",
       " 'A secured loan is a loan secured by a fixed interest rate (PR) or a fixed interest rate (PR) of a fixed interest rate (PR) of a fixed interest rate (PR) of a fixed interest rate (PR) of a fixed interest rate (PR) of a fixed interest rate (PR) of a fixed interest rate (PR) of a fixed interest rate (PR) of a fixed interest rate (PR) of a fixed interest rate (PR) of a fixed interest rate (PR) of a fixed interest rate (PR) of a fixed interest rate (PR) of a fixed interest rate (PR) of a fixed interest rate (PR) of a fixed interest rate (PR) of a fixed interest rate (PR) of a fixed interest rate (PR) of a fixed interest rate (PR) of a fixed interest rate (PR) of a',\n",
       " 'A child is a person who has a developmental disability. A child is a person who has a developmental disability. A child is a person who has a developmental disability. A child is a person who has a developmental disability. A child is a person who has a developmental disability. A child is a person who has a developmental disability. A child is a person who has a developmental disability. A child is a person who has a developmental disability. A child is a person who has a developmental disability. A child is a person who has a developmental disability. A child is a person who has a developmental disability. A child is a person who has a developmental disability. A child is a person who has a developmental disability. A child is a person who has a developmental disability. A child is a person who has a developmental disability. A child is a',\n",
       " 'george w. bush',\n",
       " 'saturday night saturday night saturday night saturday night saturday night saturday night saturday night saturday night saturday night saturday night saturday night saturday night saturday night saturday night saturday night saturday night saturday night saturday night saturday night saturday night saturday night saturday night saturday night saturday night saturday night saturday night saturday night saturday night saturday night saturday night saturday night saturday night saturday night saturday night saturday night saturday night saturday night saturday night saturday night saturday night',\n",
       " 'arctic arctic arctic arctic arctic arctic arctic arctic arctic arctic arctic arctic arctic arctic arctic arctic arctic arctic arctic arctic arctic arctic arctic arctic arctic arctic arctic arctic arctic arctic arctic arctic arctic arctic arctic arctic arctic arctic arctic arctic arctic arctic arctic arctic arctic arctic arctic arctic arctic arctic arctic arctic arctic arctic arctic arctic arctic arctic arctic arctic arctic arctic arctic arctic arctic arctic arc',\n",
       " 'no he was born in the slums of the slums of the slums of the slums of the slums of the slums of the slums of the slums of the slums of the slums of the slums of the slums of the slums of the slums of the slums of the slums of the slums of the slums of the slums of the slums of the slums of the slums of the slums of the slums of the slums of the slums of the slums of the slums of the slums of the slums of the slums of the slums of the ',\n",
       " 'edward edward edward edward edward edward edward edward edward edward edward edward edward edward edward edward edward edward edward edward edward edward edward edward edward edward edward edward edward edward edward edward edward edward edward edward edward edward edward edward edward edward edward edward edward edward edward edward edward edward',\n",
       " 'shrubs and trees are a type of shrub or tree that is a type of shrub or tree that is a type of tree that is a type of tree that is a type of tree that is a type of tree that is a type of tree that is a type of tree that is a type of tree that is a type of tree that is a type of tree that is a type of tree that is a type of tree that is a type of tree that is a type of tree that is a type of tree that is a type of tree that is a type of tree that is a type of tree that is a type of tree that is a type of tree that is a type of tree that is a type of tree that is a type of tree that is a type of tree that is a type of tree that is a type of tree that is a',\n",
       " \"men's singles grand slam slam slam slam slam slam slam slam slam slam slam slam slam slam slam slam slam slam slam slam slam slam slam slam slam slam slam slam slam slam slam slam slam slam slam slam slam slam slam slam slam slam slam slam slam slam slam slam s\",\n",
       " 'federal republican republican republican republican republican republican republican republican republican republican republican republican republican republican republican republican republican republican republican republican republican republican republican republican republican republican republican republican republican republican republican republican republican republican republican republican republican republican republican republican republican republican republican republican republican republican republican republican republican republican republican republican republican republican republican republican republican republican republican republican republican republican republican republican republican republican republican republican republican republican republican republican republican republican republican republican republican republican republican republican republican republican republican republican republican republican republican republican republican republican republican republican republican republican republican republican republican republican republican republic',\n",
       " 'tennis pickleball tennis pickleball is a tennis tournament played on outdoor clay courts. It is a tournament played on outdoor clay courts and is played on outdoor clay courts and is played on outdoor clay courts and is played on outdoor clay courts and is played on outdoor clay courts and is played on outdoor clay courts and is played on outdoor clay courts and is played on outdoor clay courts and is played on outdoor clay courts and is played on outdoor clay courts and is played on outdoor clay courts and is played on outdoor clay courts and is played on outdoor clay courts and is played on outdoor clay courts and is played on outdoor clay courts and is played on outdoor clay courts and is played on outdoor clay courts and is played on outdoor clay courts and is played on outdoor clay courts and is played on outdoor clay courts and is played on outdoor clay courts and is played on outdoor clay courts and is played on outdoor clay courts and is played on outdoor clay courts and is played on outdoor clay courts and is played',\n",
       " 'michael roosevelt jackson jackson jackson jackson jackson jackson jackson jackson jackson jackson jackson jackson jackson jackson jackson jackson jackson jackson jackson jackson jackson jackson jackson jackson jackson jackson jackson jackson jackson jackson jackson jackson jackson jackson jackson jackson jackson jackson jackson jackson jackson jackson jackson jackson jackson jackson jackson jackson jackson jackson jackson jackson jackson jackson jackson jackson jackson jackson jackson jackson jackson jackson jack',\n",
       " 'rio rio rio rio rio rio rio rio rio rio rio rio rio rio rio rio rio rio rio rio rio rio rio rio rio rio rio rio rio rio rio rio rio rio rio rio rio rio rio rio rio rio rio rio rio rio rio rio rio rio',\n",
       " 'elizabeth elizabeth elizabeth elizabeth elizabeth elizabeth elizabeth elizabeth elizabeth elizabeth elizabeth elizabeth elizabeth elizabeth elizabeth elizabeth elizabeth elizabeth elizabeth elizabeth elizabeth elizabeth elizabeth elizabeth elizabeth elizabeth elizabeth elizabeth elizabeth elizabeth elizabeth elizabeth elizabeth e',\n",
       " 'a series of teeming tales based on a series of teeming tales based on a series of teeming tales based on a series of teeming tales based on a series of teeming tales based on a series of teeming tales based on a series of teeming tales based on a series of teeming tales based on a series of teeming tales based on a series of teeming tales based on a series of teeming tales based on a series of teeming tales based on a series of teeming tales based on a series of ',\n",
       " 'st. louis st. louis st. louis st. louis st. louis st. louis st. louis st. louis st. louis st. louis st. louis st. louis st. louis st. louis st. louis st. louis st. louis st. louis st. louis st. louis st. louis st. louis st. louis st. louis st. louis st. louis st. louis st. louis st. louis st. louis st. louis st. louis st. louis s',\n",
       " 'no',\n",
       " 'Pour the soap into a bowl and pour it into a bowl. Pour the soap into a bowl and pour it into a bowl. Pour the soap into a bowl and pour it into a bowl. Pour the soap into a bowl and pour the soap into a bowl. Pour the soap into a bowl and pour the soap into a bowl. Pour the soap into a bowl and pour the soap into a bowl and pour the soap into a bowl and pour the soap into a bowl and pour the soap into a bowl and pour the soap into a bowl and pour the soap into a bowl and pour the soap into a bowl and pour the soap into a bowl and pour the soap into a bowl and pour the soap into a bowl and pour the soap into a bowl and pour the soap into a bowl and pour the soap into a bowl and pour the soap into a bowl and pour the soap',\n",
       " 'elephants and rhinoceroses and rhinoceroses and rhinoceroses and rhinoceroses and rhinoceroses and rhinoceroses and rhinoceroses and rhinoceroses and rhinoceroses and rhinoceroses and rhinoceroses and rhinoceroses and rhinoceroses and rhinoceroses and rhinoceroses and rhinoceroses and rhinoceroses and rhinoceroses and rhinoceroses and rhinoceroses and rhinoceroses and rhinoceroses and rhinoceroses and rhinoceroses and rhinoceroses and rhinoceroses and rhinoceroses and rhinoceroses and rhinoceroses and rhinoceroses and rhinoceroses and rhinoceroses and rhinoceroses and rhinoceroses and rhinoceroses and rhinoceroses and rhinoceroses and rhinoceroses and rhinoceroses and rhinoce',\n",
       " 'no',\n",
       " 'hot and humid summers in the San Francisco Bay Area. The San Francisco Bay Area is famous for its snowy climate and its snowy climate. The San Francisco Bay Area is famous for its snowy climate and its snowy climate. The San Francisco Bay Area is famous for its snowy climate and its snowy climate. The San Francisco Bay Area is famous for its snowy climate and its snowy climate. The San Francisco Bay Area is famous for its snowy climate and its snowy climate. The San Francisco Bay Area is famous for its snowy climate and its snowy climate. The San Francisco Bay Area is famous for its snowy climate and its snowy climate. The San Francisco Bay Area is famous for its snowy climate and its snowy climate. The San Francisco Bay Area is famous for its snowy climate and its snowy climate. The San Francisco Bay Area is famous for its snowy climate and its snowy climate. The San Francisco Bay Area is famous for',\n",
       " 'saturday night saturday night saturday night saturday night saturday night saturday night saturday night saturday night saturday night saturday night saturday night saturday night saturday night saturday night saturday night saturday night saturday night saturday night saturday night saturday night saturday night saturday night saturday night saturday night saturday night saturday night saturday night saturday night saturday night saturday night saturday night saturday night saturday night saturday night saturday night saturday night saturday night saturday night saturday night saturday night',\n",
       " \"Harry Potter and the Philosopher's Stone is a series of books written by Harry Potter and the Philosopher's Stone. Harry Potter and the Philosopher's Stone is a series of books written by Harry Potter and the Philosopher's Stone. Harry Potter and the Philosopher's Stone are a series of books written by Harry Potter and the Philosopher's Stone. Harry Potter and the Philosopher's Stone are a series of books written by Harry Potter and the Philosopher's Stone. Harry Potter and the Philosopher's Stone are a series of books written by Harry Potter and the Philosopher's Stone. Harry Potter and the Philosopher's Stone are a series of books written by Harry Potter and the Philosopher's Stone. Harry Potter and the Philosopher's Stone are a series of books written by Harry Potter and the Philosopher's Stone. Harry Potter and the Philosopher's Stone are \",\n",
       " 'he was a philanthropist and philanthropist and philanthropist and philanthropist and philanthropist and philanthropist and philanthropist and philanthropist and philanthropist and philanthropist and philanthropist and philanthropist and philanthropist and philanthropist and philanthropist and philanthropist and philanthropist and philanthropist and philanthropist and philanthropist and philanthropist and philanthropist and philanthropist and philanthropist and philanthropist and philanthropist and philanthropist and philanthropist',\n",
       " 'The Trans Tahoe Relay is a trans-sale relay that is a relay of a relay of a relay of a relay of a relay of a relay of a relay of a relay of a relay of a relay of a relay of a relay of a relay of a relay of a relay of a relay of a relay of a relay of a relay of a relay of a relay of a relay of a relay of a relay of a relay of a relay of a relay of a relay of a relay of a relay of a re',\n",
       " '69,769,769,769,769,769,769,769,769,769,769,769,769,769,769,769,769,769,769,769,769,769,769,769,769,769,769,769,769,769,769,769,769,769,769,769,769,769,769,769,769,769,769,769,769,769,769,769,769,769,769,769,769,769,769,769,769,769,769,769,769,769,769,769,769,769,769',\n",
       " 'harry potter or harry potter or harry potter or harry potter or harry potter or harry potter or harry potter or harry potter or harry potter or harry potter or harry potter or harry potter or harry potter or harry potter or harry potter or harry potter or harry potter or harry potter or harry potter or harry potter or harry potter or harry potter or harry potter or harry potter or harry potter or harry potter or harry potter or harry potter or harry potter or harry potter or harry potter or harry potter or harry potter or har',\n",
       " 'Aberdeen',\n",
       " 'england england england england england england england england england england england england england england england england england england england england england england england england england england england england england england england england england england england england england england england england england england england england england england england england england england',\n",
       " 'Predictive maintenance is the maintenance of a particular product or service that is based on a specific product or service. Predictive maintenance is the maintenance of a specific product or service that is based on a specific product or service. Predictive maintenance is the maintenance of a specific product or service that is based on a specific product or service. Predictive maintenance is the maintenance of a specific product or service that is based on a specific product or service. Predictive maintenance is the maintenance of a specific product or service that is based on a specific product or service. Predictive maintenance is the maintenance of a specific product or service that is based on a specific product or service. Predictive maintenance is the maintenance of a specific product or service that is based on a specific product or service. Predictive maintenance is the maintenance of a specific product or service that is based',\n",
       " 'Terraform () is a genus of fungi in the family Geometridae. It is a genus of fungi in the family Geometridae. It is a genus of fungi in the family Geometridae. It is a genus of fungi in the family Geometridae. It is a genus of fungi in the family Geometridae. It is a genus of fungi in the family Geometridae. It is a genus of fungi in the family Geometridae. It is a genus of fungi in the family Geometridae. It is a genus of fungi in the family Geometridae. It is a genus of fungi in the family Geometrid',\n",
       " 'san francisco san francisco san francisco san francisco san francisco san francisco san francisco san francisco san francisco san francisco san francisco san francisco san francisco san francisco san francisco san francisco san francisco san francisco san francisco san francisco san francisco san francisco san francisco san francisco san francisco san francisco san francisco san francisco san francisco san francisco san francisco san francisco san francisco s',\n",
       " 'house edward edward edward edward edward edward edward edward edward edward edward edward edward edward edward edward edward edward edward edward edward edward edward edward edward edward edward edward edward edward edward edward edward edward edward edward edward edward edward edward edward edward edward edward edward edward edward edward edward ed',\n",
       " 'san francisco',\n",
       " 'cryptocurrency',\n",
       " 'Counter Reformation of the Republic of the Republic of the Republic of the Republic of the Republic of the Republic of the Republic of the Republic of the Republic of the Republic of the Republic of the Republic of the Republic of the Republic of the Republic of the Republic of the Republic of the Republic of the Republic of the Republic of the Republic of the Republic of the Republic of the Republic of the Republic of the Republic of the Republic of the Republic of the Republic of the Republic of the Republic of the Republic of the Republic of the Republic of the Republic of the Republic of the Republic of the Republic of the Republic of the Republic of the Republic of the Republic of the Republic of the Republic of the Republic of the Republic of the Republic of the Republic of the Republic of the Republic of the Republic of the Republic of the Republic of the Republic of the Republic of the Republic of the Republic of the Republic of the Republic of the Republic of the Republic of the Republic of the Republic of the Republic of the Republic of the']"
      ]
     },
     "execution_count": 21,
     "metadata": {},
     "output_type": "execute_result"
    }
   ],
   "source": [
    "model_output_before_tuning"
   ]
  },
  {
   "cell_type": "code",
   "execution_count": 22,
   "id": "eadf8e22",
   "metadata": {},
   "outputs": [
    {
     "name": "stdout",
     "output_type": "stream",
     "text": [
      "Ground Truth - Camels use the fat in their humps to keep them filled with energy and hydration for long periods of time.\n",
      "Model Output Before Tuning - water is a source of heat and moisture.\n",
      "Model Output After Tuning  - water is a source of a fungus and fungi that can survive for long without water and fungus that can live for a long time.\n",
      "\n",
      "------------------------------------------------------------\n",
      "\n",
      "Ground Truth - The name of the third daughter is Alice\n",
      "Model Output Before Tuning - Alice's parents have three daughters: Amy, Jessy, and what's Alice's parents have?\n",
      "Model Output After Tuning  - Alice's parents have three daughters: Amy, Jessy, and what's Alice's mom's name?\n",
      "\n",
      "------------------------------------------------------------\n",
      "\n",
      "Ground Truth - John D Rockerfeller\n",
      "Model Output Before Tuning - the United Nations\n",
      "Model Output After Tuning  - the United Nations\n",
      "\n",
      "------------------------------------------------------------\n",
      "\n",
      "Ground Truth - A polygon is a form in Geometry.  It is a single dimensional plane made of connecting lines and any number of vertices.  It is a closed chain of connected line segments or edges.  The vertices of the polygon are formed where two edges meet.  Examples of polygons are hexagons, pentagons, and octagons.  Any plane that does not contain edges or vertices is not a polygon.  An example of a non-polygon is a circle.\n",
      "Model Output Before Tuning - polygon\n",
      "Model Output After Tuning  - polygon\n",
      "\n",
      "------------------------------------------------------------\n",
      "\n",
      "Ground Truth - She directed \"Oathkeeper\" and \"First of His Name\" the fourth and fifth episodes of season four, respectively.\n",
      "Model Output Before Tuning - tv series tv series tv series tv series tv series tv series tv series tv series tv series tv series tv series tv series tv series tv series tv series tv series tv series tv series tv series tv series tv series tv series tv series tv series tv series tv series tv series tv series tv series tv series tv series tv series tv series tv series tv series tv series tv series tv series tv series tv series tv series tv series tv series tv series tv series tv series tv series tv series tv series tv series\n",
      "Model Output After Tuning  - tv series vs. st. john s s tv vs st s n s r n tv\n",
      "\n",
      "------------------------------------------------------------\n",
      "\n",
      "Ground Truth - Michael Phelps has won the most gold medals of all time with 23 golds.\n",
      "Model Output Before Tuning - samuel wilson wilson wilson wilson wilson wilson wilson wilson wilson wilson wilson wilson wilson wilson wilson wilson wilson wilson wilson wilson wilson wilson wilson wilson wilson wilson wilson wilson wilson wilson wilson wilson wilson wilson wilson wilson wilson wilson wilson wilson wilson wilson wilson wilson wilson wilson wilson wilson w\n",
      "Model Output After Tuning  - samuel edwards\n",
      "\n",
      "------------------------------------------------------------\n",
      "\n",
      "Ground Truth - Vermeer\n",
      "Model Output Before Tuning - helen helen helen helen helen helen helen helen helen helen helen helen helen helen helen helen helen helen helen helen helen helen helen helen helen helen helen helen helen helen helen helen helen helen helen helen helen helen helen helen helen helen helen helen helen helen helen helen helen helen\n",
      "Model Output After Tuning  - samuel edwards\n",
      "\n",
      "------------------------------------------------------------\n",
      "\n",
      "Ground Truth - When the sun sets, the evening starts.\n",
      "Model Output Before Tuning - the sun rises to the surface of the earth and the sun rises to the surface of the earth and the sun rises to the surface of the earth and the sun rises to the surface of the earth and the sun rises to the surface of the earth and the sun rises to the surface of the earth and the sun rises to the surface of the earth and the sun rises to the surface of the earth and the sun rises to the surface of the earth and the sun rises to the surface of the earth and the sun rises to the surface of the earth and the sun rises to the surface of the earth and the sun rises to the surface of the earth and the sun rises to the surface of the earth and the sun rises to the surface of the earth and the sun rises to the surface of the earth and the sun rises to the surface of the earth and the sun rises to the surface of the earth and the sun\n",
      "Model Output After Tuning  - the sun rises\n",
      "\n",
      "------------------------------------------------------------\n",
      "\n",
      "Ground Truth - A verb is an action word that describes an activity.  Examples of verbs are the following: swimming, hiking, biking, roller skating, or skydiving.  All of these single and combination word examples are tied to an activity that any living thing can do.  For example, a dog can bike ride with a human when the human is pedaling the bike.  Verb use is not limited to humans or people only but applies to all living things.\n",
      "Model Output Before Tuning - irresponsible irrational irrational irrational irrational irrational irrational irrational irrational irrational irrational irrational irrational irrational irrational irrational irrational irrational irrational irrational irrational irrational irrational irrational irrational irrational irrational irrational irrational irrational irrational irrational irrational irrational irrational irrational irrational irrational irrational i\n",
      "Model Output After Tuning  - irrational adolescent adiolescence adilescence a dilescent dilad adlescent blunder ad ludicrous adalescence adicional adriolescent\n",
      "\n",
      "------------------------------------------------------------\n",
      "\n",
      "Ground Truth - William I of the Netherlands became king of Holland in 1806.\n",
      "Model Output Before Tuning - henry iii\n",
      "Model Output After Tuning  - henry iii\n",
      "\n",
      "------------------------------------------------------------\n",
      "\n",
      "Ground Truth - Paul Newman\n",
      "Model Output Before Tuning - samuel wilson, jr., jr., jr., jr., jr., jr., jr., jr., jr., jr., jr., jr., jr., jr., jr., jr., jr., jr., jr., jr., jr., jr., jr., jr., jr., jr., jr., jr., jr., jr., jr., j\n",
      "Model Output After Tuning  - samuel edwards\n",
      "\n",
      "------------------------------------------------------------\n",
      "\n",
      "Ground Truth - Syd Barrett was one of the main members of the Pink Floyd. He has used drugs a lot and after a while he was not able to perform with the team. Even though the band gave him multiple chances, he could not keep up with the band. In the end, they had to ask him to leave the band. The main reason that he has left the team is his health problems and addiction to drugs.\n",
      "Model Output Before Tuning - he was a member of the syd syd syd syd syd syd syd syd syd syd syd syd syd syd syd syd syd syd syd syd syd syd syd syd syd syd syd syd syd syd syd syd syd syd syd syd syd syd syd syd syd syd syd syd syd syd syd syd\n",
      "Model Output After Tuning  - he was a saxophonist\n",
      "\n",
      "------------------------------------------------------------\n",
      "\n",
      "Ground Truth - Underwriting (UW) services are provided by some large financial institutions, such as banks, insurance companies and investment houses, whereby they guarantee payment in case of damage or financial loss and accept the financial risk for liability arising from such guarantee. An underwriting arrangement may be created in a number of situations including insurance, issues of security in a public offering, and bank lending, among others. The person or institution that agrees to sell a minimum number of securities of the company for commission is called the underwriter.\n",
      "\n",
      "The term \"underwriting\" derives from the Lloyd's of London insurance market. Financial backers (or risk takers), who would accept some of the risk on a given venture (historically a sea voyage with associated risks of shipwreck) in exchange for a premium, would literally write their names under the risk information that was written on a Lloyd's slip created for this purpose.\n",
      "Model Output Before Tuning - underwriting is a form of writing that is written by a person or group of people. Underwriting is a form of writing that is written by a person or group of people. Underwriting is a form of writing that is written by a person or group of people. Underwriting is a form of writing that is written by a person or group of people. Underwriting is a form of writing that is written by a person or group of people. Underwriting is a form of writing that is written by a person or group of people. Underwriting is a form of writing that is written by a person or group of people. Underwriting is a form of writing that is written by a person or group of people. Underwriting is a form of writing that is written by a person or group of people. Underwriting is a form of writing that is written by a person or group of people.\n",
      "Model Output After Tuning  - underwriting\n",
      "\n",
      "------------------------------------------------------------\n",
      "\n",
      "Ground Truth - Perseus\n",
      "Model Output Before Tuning - andromeda sank andromeda sank andromeda sank andromeda sank andromeda sank andromeda sank andromeda sank andromeda sank andromeda sank andromeda sank andromeda sank andromeda sank andromeda sank andromeda sank andromeda sank andromeda sank andromeda sank andromeda sank andromeda sank andromeda sank andromeda sank andromeda sank andromeda sank andromeda sank andromeda sank andromeda sank andromeda sank andromeda sank andromeda\n",
      "Model Output After Tuning  - andromeda\n",
      "\n",
      "------------------------------------------------------------\n",
      "\n",
      "Ground Truth - The Lumières (literally in English: The Lights) was a cultural, philosophical, literary and intellectual movement beginning in the second half of the 17th century, originating in western Europe and spreading throughout the rest of Europe. It included philosophers such as Baruch Spinoza, David Hume, John Locke, Edward Gibbon, Voltaire, Jean-Jacques Rousseau, Denis Diderot, Pierre Bayle and Isaac Newton. This movement is influenced by the scientific revolution in southern Europe arising directly from the Italian renaissance with people like Galileo Galilei. Over time it came to mean the Siècle des Lumières, in English the Age of Enlightenment.[Note 1]\n",
      "\n",
      "Members of the movement saw themselves as a progressive élite, and battled against religious and political persecution, fighting against what they saw as the irrationality, arbitrariness, obscurantism and superstition of the previous centuries. They redefined the study of knowledge to fit the ethics and aesthetics of their time. Their works had great influence at the end of the 18th century, in the American Declaration of Independence and the French Revolution.\n",
      "\n",
      "This intellectual and cultural renewal by the Lumières movement was, in its strictest sense, limited to Europe. These ideas were well understood in Europe, but beyond France the idea of \"enlightenment\" had generally meant a light from outside, whereas in France it meant a light coming from within oneself.\n",
      "\n",
      "In the most general terms, in science and philosophy, the Enlightenment aimed for the triumph of reason over faith and belief; in politics and economics, the triumph of the bourgeois over nobility and clergy.\n",
      "Model Output Before Tuning - ''The Lumières' ''\n",
      "Model Output After Tuning  - ''The Lumières' ''\n",
      "\n",
      "------------------------------------------------------------\n",
      "\n",
      "Ground Truth - No one knows when the wheel was first made. Archaeological evidence seems to show that the wheel was first used to make pottery in Mesopotamia about 7,000 years ago, during the Neolithic period. Later, it was used to make chariots. Chariot wheels have been found in Sumer as early as 3000 BC. The wheel is one of the most important inventions in human history. It was very useful for making pottery and getting around on land. It is also a key part of machines.\n",
      "Model Output Before Tuning - 1903–1903 and 1903–1903 and 1903–1903 and 1903–1903 and 1903–1903 and 1903–1903 and 1903–1903 and 1903–1903 and 1903–1903 and 1903–1903 and 1903–1903 and 1903–1903 and 1903–1903 and 1903–1903 and 1903–1903 and 1903–1903 and 1903–1903 and 1903–1903 and 1903–1903–1903–1903–1903–1903–1903–1903–1903–1903–1903–1903–1903–1903–1903–1903–1903–1903–1903–1903–1903–1903–1903–1903–1903–1903–1903–1903–1903–1903–1903\n",
      "Model Output After Tuning  - 1903–03–03 and 1904–03–04 and 1903–04–04 and 1906–04–03 and 1906–07–04 and 1911–04–07 and 1911–07–19 and 1911–1919–19 and 1912–1912–1914 and 1911–14–1914–1915–1915 and 1911–15–1914, 1911–1915, 1915–1918, 1915, 1912–1815, 1921–1918 and 1911–1819–1918–1921–1921, 1911–1818, 1911–21–1919, 1911–15, 1911–12, 1911–14, 1912, 1921, 1914–15, 1914–14, 1914–18, 1914–1919 and 1914–14–14–18–18–19–19–14–15–18–15–15–14–17–19–18–\n",
      "\n",
      "------------------------------------------------------------\n",
      "\n",
      "Ground Truth - No, lilies are toxic to cats if consumed and should not be kept in a household with cats\n",
      "Model Output Before Tuning - lilies are a fungus that has been found to have been found to have been found to have been found to have been found to have been found to have been found to have been found to have been found to have been found to have been found to have been found to have been found to have been found to have been found to have been found to have been found to have been found to have been found to have been found to have been found to have been found to have been found to have been found to have been found to have been found to have been found to have been found to have been found to have been found to have been found to have been found to have been found to have been found to have been found to have been found to have been found to have been found to have been found to have been found to have been found to have been found to have been found to have been found to have been found to have been found to have been found to have\n",
      "Model Output After Tuning  - no\n",
      "\n",
      "------------------------------------------------------------\n",
      "\n",
      "Ground Truth - It is known as the deepest period in which sunspots are not virtually visible. Deepest period is related to sun cycle's process called solar minimum\n",
      "Model Output Before Tuning - Sunshine Recession Sunshine Recession may refer to: Sunshine Recession may refer to: Sunshine Recession may refer to: Sunshine Recession may refer to: Sunshine Recession may refer to: Sunshine Recession may refer to: Sunshine Recession may refer to: Sunshine Recession may refer to: Sunshine Recession may refer to: Sunshine Recession may refer to: Sunshine Recession may refer to: Sunshine Recession may refer to: Sunshine Recession may refer to: Sunshine Recession may refer to: Sunshine Recession may refer to: Sunshine Recession may refer to: Sunshine Recession may refer to: Sunshine Recession may refer to: Sunshine Recession may refer to: Sunshine Recession may refer to: Sunshine Recession may refer to: Sunshine Recession may refer to: Sunshine Recession may refer to: Sunshine Recession may refer to: Sunshine Recession may refer to: Sunshine Recession may refer to: Sunshine Recession may refer to: Sunshine Recession may refer to: Sunshine\n",
      "Model Output After Tuning  - Sunshine Recession Sunshine Recession may refer to:\n",
      "\n",
      "------------------------------------------------------------\n",
      "\n",
      "Ground Truth - The currency in use in the Netherlands is the euro.\n",
      "Model Output Before Tuning - krona krona krona krona krona krona krona krona krona krona krona krona krona krona krona krona krona krona krona krona krona krona krona krona krona krona krona krona krona krona krona krona krona krona krona krona krona krona krona krona krona krona krona krona krona krona krona krona krona krona\n",
      "Model Output After Tuning  - Dutch franc\n",
      "\n",
      "------------------------------------------------------------\n",
      "\n",
      "Ground Truth - Karlon Stark\n",
      "Model Output Before Tuning - he is the founder of House Karstark, which is based on the novel \"A Song of Ice and Fire\", which is based on the novel \"A Song of Ice and Fire\", which is based on the novel \"A Song of Ice and Fire\", which is based on the novel \"A Song of Ice and Fire\", which is based on the novel \"A Song of Ice and Fire\", which is based on the novel \"A Song of Ice and Fire\", which is based on the novel \"A Song of Ice and Fire\", which is based on the novel \"A Song of Ice and Fire\", which is based on the novel \"A Song of Ice and Fire\", which is based on the novel \"A Song of Ice and Fire\", which is based on the novel \"A Song of Ice and Fire\", which is based on the novel \"A Song of Ice and Fire\", which is based on the novel \"A\n",
      "Model Output After Tuning  - he is the founder of House Karstark, a company based in London, England, based in the city of London. During the series, a song of Ice and Fire is based on the novel of the same name by the author of the novel, \"A Song of Ice & Fire\", which is a sequel to the novel \"A Song in Ice and Fire\", based on a novel by the author.\n",
      "\n",
      "------------------------------------------------------------\n",
      "\n",
      "Ground Truth - Casablanca\n",
      "Model Output Before Tuning - adolescence & adolescence & adolescence & adolescence & adolescence & adolescence & adolescence & adolescence & adolescence & adolescence & adolescence & adolescence & adolescence & adolescence & adolescence & adolescence & adolescence & adolescence & adolescence & adolescence & adolescence & adolescence & adolescence & adolescence & adolescence &\n",
      "Model Output After Tuning  - adolescence\n",
      "\n",
      "------------------------------------------------------------\n",
      "\n",
      "Ground Truth - Cold water weighs more than hot water\n",
      "Model Output Before Tuning - hot water - ohio - ohio - ohio - ohio - ohio - ohio - ohio - ohio - ohio - ohio - ohio - ohio - ohio - ohio - ohio - ohio - ohio - ohio - ohio - ohio - ohio - ohio - ohio - ohio - ohio - ohio - ohio - ohio -\n",
      "Model Output After Tuning  - hot water\n",
      "\n",
      "------------------------------------------------------------\n",
      "\n",
      "Ground Truth - Formula One cars are one of the fastest racing cars in the world reaching speeds as high as 240 mph.\n",
      "\n",
      "There are many aspects that make formula one cars fast, below are the top few\n",
      "\n",
      "1. Engine:  F1 cars have extremely powerful engines that can generate around 1000 bhp at up to 20,000 rpm\n",
      "2. Power-to-Weight ratio: F1 cars are also extremely light at around 800 kgs giving them a power-to-weight ratio of 12000-1400 hp/ton. For comparison, the best Porsche cars have a power-to-weight ratio of only 300-400 hp/ton.\n",
      "2. Aerodynamics: F1 cars are fitted with extremely sophisticated aerodynamics including a rear wing, front wing and body parts that help reduce aerodynamic drag for straight-line speeds while adding downforce to help around corners\n",
      "3. Tires: F1 tires are extremely large and sticky. This help the cars stick to the road as the car goes through turns very fast.\n",
      "4. Brakes: Lastly F1 brakes are very powerful and can slow down a car extremely quickly. This allows F1 cars to be at top speed for much longer before needing to slow down for taking a turn.\n",
      "Model Output Before Tuning - a symphony of symphony of symphony of symphony of symphony of symphony of symphony of symphony of symphony of symphony of symphony of symphony of symphony of symphony of symphony of symphony of symphony of symphony of symphony of symphony of symphony of symphony of symphony of symphony of symphony of symphony of symphony of symphony of s\n",
      "Model Output After Tuning  - a saskatchewan s saada s aad s d aaads ss ad a d d e a e e d o a a o e o o s o n o r o d n a r a n e n s e s n n r n t a t e t o t t s t n d t r s c a c d c n c e c c t c r c s r e r t d r r d b a b c b d \n",
      "\n",
      "------------------------------------------------------------\n",
      "\n",
      "Ground Truth - This stands for life assurance premium relief. Before 14 March 1984 there was tax relief on life insurance premiums paid by policyholders for policies which qualified for tax relief. Policies which started\n",
      "Model Output Before Tuning - LAPR LAPR may refer to: LAPR may refer to: LAPR may refer to: LAPR may refer to: LAPR may refer to: LAPR may refer to: LAPR may refer to: LAPR may refer to: LAPR may refer to: LAPR may refer to: LAPR may refer to: LAPR may refer to: LAPR may refer to: LAPR may refer to: LAPR may refer to: LAPR may refer to: LAPR may refer to: LAPR may refer to: LAPR may refer to: LAPR may refer to: LAPR may refer to: LAPR may refer to: LAPR may refer to: LAPR may refer to: LAPR may refer to: LAPR may refer to: LAPR may refer to: LAPR may refer to: LAPR may refer to: LAPR may refer to: LAPR may refer to: LAPR may refer to: LAPR may refer to:\n",
      "Model Output After Tuning  - LAPR LAPR may refer to:\n",
      "\n",
      "------------------------------------------------------------\n",
      "\n",
      "Ground Truth - James Kennedy, Katie Maloney, Raquel Leviss, Tom Sandoval, Ariana Madix, Tom Schwartz and Lala Kent\n",
      "Model Output Before Tuning - styrofoam styrofoam styrofoam styrofoam styrofoam styrofoam styrofoam styrofoam styrofoam styrofoam styrofoam styrofoam styrofoam styrofoam styrofoam styrofoam styrofoam styrofoam styrofoam styrofoam styrofoam styrofoam styrofoam styrofoam styrofoam\n",
      "Model Output After Tuning  - a tasmanian taasmania taesmania sasmanias tai saa sai naas saata aias aaa aaia ahia naiaa iaaah iaiah aahhiaahaahiiahaiia iiiaasiahi iiasiiaehiaesiaeiaeeseaessaesassaiae ii aaataa niiii niaaiiieiastaa eii tahtaaaasaas\n",
      "\n",
      "------------------------------------------------------------\n",
      "\n",
      "Ground Truth - The 1960s had a number of famous rock bands including The Beatles, The Beach Boys, The Doors, The Rolling Stones, The Who, Led Zeppelin, The Grateful Dead, Pink Floyd, and many more.\n",
      "Model Output Before Tuning - saxophonists saxophonists saxophonists saxophonists saxophonists saxophonists saxophonists saxophonists saxophonists saxophonists saxophonists saxophonists saxophonists saxophonists saxophonists saxophonists saxophonists saxophonists saxophonists saxophonists saxophonists saxophonists saxophonists saxophonists saxophonists\n",
      "Model Output After Tuning  - saxophonists and acoustic guitars\n",
      "\n",
      "------------------------------------------------------------\n",
      "\n",
      "Ground Truth - In 1876, Alexander Graham Bell was the first to obtain a United States patent for a device that produced a clearly intelligible replica of the human voice on a second device.\n",
      "A resolution passed by the United States House of Representatives on June 11, 2002 called for recognition of Antonio Meucci's work and contributions towards the invention of the telephone.\n",
      "Model Output Before Tuning - george w. w. w. w. w. w. w. w. w. w. w. w. w. w. w. w. w. w. w. w. w. w. w. w. w. w. w. w. w. w. w. w. w. w. w. w. w. w. w. w. w. w. w. w. w. w. w. w. w. w. w. w. w. w. w. w. w. w. w. w. w. w. w. w. w. w\n",
      "Model Output After Tuning  - george w. bush\n",
      "\n",
      "------------------------------------------------------------\n",
      "\n",
      "Ground Truth - Bad Bunny has won 2 Grammy Awards and has been nominated for 6\n",
      "Model Output Before Tuning - four-time Grammy Award winner and ten-time Grammy Award winner. Bad Bunny has won three Grammy Awards and won three Grammy Awards and won three Grammy Awards. Bad Bunny has won three Grammy Awards and won three Grammy Awards. Bad Bunny has won three Grammy Awards and won three Grammy Awards. Bad Bunny has won three Grammy Awards and won three Grammy Awards. Bad Bunny has won three Grammy Awards and won three Grammy Awards. Bad Bunny has won three Grammy Awards and won three Grammy Awards. Bad Bunny has won three Grammy Awards and won three Grammy Awards. Bad Bunny has won three Grammy Awards and won three Grammy Awards. Bad Bunny has won three Grammy Awards and won three Grammy Awards. Bad Bunny has won three Grammy Awards and won three Grammy Awards. Bad Bunny has won three Grammy Awards and won three Grammy Awards. Bad Bunny has won three Grammy Awards and won three Grammy Awards.\n",
      "Model Output After Tuning  - four\n",
      "\n",
      "------------------------------------------------------------\n",
      "\n",
      "Ground Truth - A kite is a toy that can be be purchased in a store or a specialty shop.  It is a craft that is lighter an air that is tied to a string that you can fly on wind currents.  The kite has wings that react against the air to create lift enabling it to fly.  You can fly a kite at a park or an open area, and you will want to make sure there are no power lines nearby to be safe when flying the kite.\n",
      "Model Output Before Tuning - A kite is a type of kite that is a type of kite that is a type of kite that is a type of kite that is a type of kite that is a type of kite that is a type of kite that is a type of kite that is a type of kite that is a type of kite that is a type of kite that is a type of kite that is a type of kite that is a type of kite that is a type of kite that is a type of kite that is a type of kite that is a type of kite that is a type of kite that is a type of kite that is a type of kite that is a type of kite that is a type of kite that is a type of kite that is a type of\n",
      "Model Output After Tuning  - kite\n",
      "\n",
      "------------------------------------------------------------\n",
      "\n",
      "Ground Truth - Investment banking pertains to certain activities of a financial services company or a corporate division that consist in advisory-based financial transactions on behalf of individuals, corporations, and governments. Traditionally associated with corporate finance, such a bank might assist in raising financial capital by underwriting or acting as the client's agent in the issuance of debt or equity securities. An investment bank may also assist companies involved in mergers and acquisitions (M&A) and provide ancillary services such as market making, trading of derivatives and equity securities, FICC services (fixed income instruments, currencies, and commodities) or research (macroeconomic, credit or equity research). Most investment banks maintain prime brokerage and asset management departments in conjunction with their investment research businesses. As an industry, it is broken up into the Bulge Bracket (upper tier), Middle Market (mid-level businesses), and boutique market (specialized businesses).\n",
      "\n",
      "Unlike commercial banks and retail banks, investment banks do not take deposits.\n",
      "Model Output Before Tuning - Investment banking is a banking service that provides financial services to individuals, businesses, and individuals. It is a banking service that provides financial services to individuals, businesses, and individuals. It is a banking service that provides financial services to individuals, businesses, and individuals. It is a banking service that provides financial services to individuals, businesses, and individuals. It is a banking service that provides financial services to individuals, businesses, and individuals. It is a banking service that provides financial services to individuals, businesses, and individuals. It is a banking service that provides financial services to individuals, businesses, and individuals. It is a banking service that provides financial services to individuals, businesses, and individuals. It is a banking service that provides financial services to individuals, businesses, and individuals. It is a banking service that provides financial services to individuals, businesses, and individuals. It is a banking service that provides financial services to individuals, businesses, and individuals. It\n",
      "Model Output After Tuning  - investment banking\n",
      "\n",
      "------------------------------------------------------------\n",
      "\n",
      "Ground Truth - Some of the best movies released in the 1980's are The Breakfast Club, The Goonies, Sixteen Candles, Ghostbusters and Back to the Future.\n",
      "Model Output Before Tuning - a sleazy sleazy sleazy sleazy sleazy sleazy sleazy sleazy sleazy sleazy sleazy sleazy sleazy sleazy sleazy sleazy sleazy sleazy sleazy sleazy sleazy sleazy sleazy sleazy sleazy sleazy sleazy sleazy sleazy sleazy sleazy sleazy sleazy sleazy sleazy sleazy sleazy sleazy sleazy sle\n",
      "Model Output After Tuning  - i m n n i n t i t n s i s t s n m t t m s s o t o n o s m o o m m i i o r i r n r t r s r m r o a r a s a n a t a m a a i a o d n d i d a d s d t d d r d m d e s e t e d o e r e n e m e e a e i e o i\n",
      "\n",
      "------------------------------------------------------------\n",
      "\n",
      "Ground Truth - Double Eagle\n",
      "Model Output Before Tuning - albatross is a birdie that is a birdie that is a birdie that is a birdie that is a birdie that is a birdie that is a birdie that is a birdie that is a birdie that is a birdie that is a birdie that is a birdie that is a birdie that is a birdie that is a birdie that is a birdie that is a birdie that is a birdie that is a birdie that is a birdie that is a birdie that is a birdie that is a birdie that is a birdie that is a birdie that is a birdie that is a birdie that is a birdie that\n",
      "Model Output After Tuning  - albatross\n",
      "\n",
      "------------------------------------------------------------\n",
      "\n",
      "Ground Truth - The Research Collaboratory for Structural Bioinformatics Protein Data Bank (RCSB PDB) is a database that provides a wealth of information about the 3D structures of proteins, nucleic acids, and other macromolecules. The database contains experimentally determined atomic coordinates for a large number of macromolecules, which can be used to study their structures, functions, and interactions. The RCSB PDB is widely used in genomics research and drug discovery, as it provides a valuable resource for understanding the structural basis of many biological processes and for designing new drugs that target specific macromolecules.\n",
      "\n",
      "In addition to the atomic coordinates, the RCSB PDB contains a wealth of additional information about each macromolecule, including experimental methods used for structure determination, citations to relevant scientific literature, and information about biological function, sequence, and homology. The database also provides a variety of tools and resources for visualizing, analyzing, and downloading structural data, including a web-based viewer that allows users to interactively explore the 3D structures of macromolecules.\n",
      "Model Output Before Tuning - Research Collaboratory for Structural Bioinformatics Protein Data\n",
      "Model Output After Tuning  - Research Collaboratory for Structural Bioinformatics Protein Data\n",
      "\n",
      "------------------------------------------------------------\n",
      "\n",
      "Ground Truth - Steve Urkel\n",
      "Model Output Before Tuning - johnny wilson wilson wilson wilson wilson wilson wilson wilson wilson wilson wilson wilson wilson wilson wilson wilson wilson wilson wilson wilson wilson wilson wilson wilson wilson wilson wilson wilson wilson wilson wilson wilson wilson wilson wilson wilson wilson wilson wilson wilson wilson wilson wilson wilson wilson wilson wilson wilson wilson\n",
      "Model Output After Tuning  - johnny winslow\n",
      "\n",
      "------------------------------------------------------------\n",
      "\n",
      "Ground Truth - While film in the United States as an audience artform started in New York it moved to Los Angeles for the stated reason of longer and sunnier days.  Another part of the story was a patent dispute in 1898 between Thomas Edison and his patent for the Kinetograph.  Edison stated that he effectively had a say in how films were made and wanted royalties for their use.  Moving from New York near where Edison was based to Los Angeles was a simple way to grow the industry and distance themselves from a patent war.  \n",
      "\n",
      "This mobility at the start of the modern film era due to costs continued through the 1960's and 1970's with westerns being shot in Spain.  The 1980's and 1990's continued this trend primarily shooting in Canada or Mexico.  At the turn of the century state legislators in the United States started provided steep tax rebates.  The practical outworking of this is studios are encouraged to hire local talent and use local services when producing their film.  The ratios for these rebates is fairly complicated and have created a new industry of tax professionals serving the film industry.\n",
      "\n",
      "So then why Georgia?  Georgia currently provides one of the highest incentive structures at 20% with minimal restrictions on talent and a very low minimum budget of $500,000.\n",
      "Model Output Before Tuning - a film made in the state of georgia is a film made in the state of georgia\n",
      "Model Output After Tuning  - a film made in the state of georgia\n",
      "\n",
      "------------------------------------------------------------\n",
      "\n",
      "Ground Truth - There is a tool designed for almost every challenge a homeowner will face, but purchasing every tool could prove to be cost prohibitive, especially if they are highly specialized for tasks that may occur infrequently.  It's best to have a general set of tools that have a wide variety of uses, including a hammer, a set of screwdrivers both flat and philips, a tape measure, a level, a stud finder, and a utility knife. A battery powered drill and impact driver can also save time, and make mounting projects easier.\n",
      "Model Output Before Tuning - a hammer, a hammer, a hammer, a hammer, a hammer, a hammer, a hammer, a hammer, a hammer, a hammer, a hammer, a hammer, a hammer, a hammer, a hammer, a hammer, a hammer, a hammer, a hammer, a hammer, a hammer, a hammer, a hammer, a hammer, a hammer, a hammer, a hammer, a hammer, a hammer, a hammer, a hammer, a hammer, a hammer, a\n",
      "Model Output After Tuning  - a hammer, hammer or hammer hammer\n",
      "\n",
      "------------------------------------------------------------\n",
      "\n",
      "Ground Truth - An apple is an edible fruit produced by an apple tree. Apple trees are cultivated worldwide and are the most widely grown species in the genus Malus.\n",
      "Model Output Before Tuning - apricot apricot apricot apricot apricot apricot apricot apricot apricot apricot apricot apricot apricot apricot apricot apricot apricot apricot apricot apricot apricot apricot apricot apricot apricot apricot apricot apricot apricot apricot apricot apricot apricot apricot apricot apricot apricot apricot apricot apricot apricot apricot apricot apricot apricot apricot apricot apricot apricot apricot\n",
      "Model Output After Tuning  - apple\n",
      "\n",
      "------------------------------------------------------------\n",
      "\n",
      "Ground Truth - Although both are animals at the end of the day, however, the main difference comes partially in the form of perception and, historically, the relationship of humans with certain animals. Pets, e.g. dogs, cats, etc., are used more for companionship and not for food. On the contrary, cattle, e.g. cows, pigs, chickens, etc., are primarily raised for food, i.e. meat, milk, eggs, etc.\n",
      "Model Output Before Tuning - eagle eagle eagle eagle eagle eagle eagle eagle eagle eagle eagle eagle eagle eagle eagle eagle eagle eagle eagle eagle eagle eagle eagle eagle eagle eagle eagle eagle eagle eagle eagle eagle eagle eagle eagle eagle eagle eagle eagle eagle eagle eagle eagle eagle eagle eagle eagle eagle eagle eagle\n",
      "Model Output After Tuning  - a dog is a dog that eats a lot of food.\n",
      "\n",
      "------------------------------------------------------------\n",
      "\n",
      "Ground Truth - In order to put fresh flowers in a vase, follow these steps:\n",
      "\n",
      "1. Find a vase that it is the right size for the flowers. You can use water glasses here in a pinch. \n",
      "2. Fill the vase to about two-thirds full with water. You can add a dash of bleach in the water as well, but it is not necessary. \n",
      "3. Now, trim your flowers to the size of the vase. Cut the end of each flower in a diagonal cut. \n",
      "4. Remove the leaves from the flowers. This will help to grow the flower without putting resources towards the leaves. Be sure to remove any leaves under the water line, since they can cause infections. \n",
      "5. Arrange the flowers in the vase. You can adjust the positions until you are happy with the arrangement.\n",
      "6. Place your vase in a shady spot and you're done!\n",
      "Model Output Before Tuning - Place the flowers in a vase and place them in a vase for a few hours. If you don't have a vase, you can put them in a vase for a few hours. If you don't have a vase, you can put them in a vase for a few hours. If you don't have a vase, you can put them in a vase for a few hours. If you don't have a vase, you can put them in a vase for a few hours. If you don't have a vase, you can put them in a vase for a few hours. If you don't have a vase, you can put them in a vase for a few hours. If you don't have a vase, you can put them in a vase for a few hours. If you don't have a vase, you can\n",
      "Model Output After Tuning  - Place the flowers in a vase and place them in the vase.\n",
      "\n",
      "------------------------------------------------------------\n",
      "\n",
      "Ground Truth - DNA annotation or genome annotation is the process of identifying the locations of genes and all of the coding regions in a genome and determining what those genes do. An annotation (irrespective of the context) is a note added by way of explanation or commentary. Once a genome is sequenced, it needs to be annotated to make sense of it. Genes in a eukaryotic genome can be annotated using various annotation tools such as FINDER. A modern annotation pipeline can support a user-friendly web interface and software containerization such as MOSGA. Modern annotation pipelines for prokaryotic genomes are Bakta, Prokka and PGAP.\n",
      "\n",
      "For DNA annotation, a previously unknown sequence representation of genetic material is enriched with information relating genomic position to intron-exon boundaries, regulatory sequences, repeats, gene names and protein products. This annotation is stored in genomic databases such as Mouse Genome Informatics, FlyBase, and WormBase. Educational materials on some aspects of biological annotation from the 2006 Gene Ontology annotation camp and similar events are available at the Gene Ontology website.\n",
      "\n",
      "The National Center for Biomedical Ontology develops tools for automated annotation of database records based on the textual descriptions of those records.\n",
      "\n",
      "As a general method, dcGO has an automated procedure for statistically inferring associations between ontology terms and protein domains or combinations of domains from the existing gene/protein-level annotations.\n",
      "Model Output Before Tuning - id n = id n = id n = id n = id n = id n = id n = id n = id n = id n = id n = id n = id n = id n = id n = id n = id n = id n = id n = id n = id n = id n = id n = id n = id n = id n = id n = id n = id n = id n = id n = id n = id n = i\n",
      "Model Output After Tuning  - DNA annotation\n",
      "\n",
      "------------------------------------------------------------\n",
      "\n",
      "Ground Truth - Prince Aegon, Princess Daenerys, Prince Aemon, Prince Baelon, Princess Alyssa, Septa Maegelle, Archmaester Vaegon, Princess Daella, Princess Saera, Princess Viserra, Prince Gaemon, Prince Valerion, Princess Gael\n",
      "Model Output Before Tuning - samuel edward edward edward edward edward edward edward edward edward edward edward edward edward edward edward edward edward edward edward edward edward edward edward edward edward edward edward edward edward edward edward edward edward edward edward edward edward edward edward edward edward edward edward edward edward edward edward edward e\n",
      "Model Output After Tuning  - samuel edwards\n",
      "\n",
      "------------------------------------------------------------\n",
      "\n",
      "Ground Truth - Share capital is the money invested directly in a company by its members (shareholders).\n",
      "Model Output Before Tuning - a share capital in finance a share capital in finance a share capital in finance a share capital in finance a share capital in finance a share capital in finance a share capital in finance a share capital in finance a share capital in finance a share capital in finance a share capital in finance a share capital in finance a share capital in finance a share capital in finance a share capital in finance a share capital in finance a share capital in finance a share capital in finance a share capital in finance a share capital in finance a share capital in finance a share capital in finance a share capital in finance a share capital in finance a share capital in finance a share capital in finance a share capital in finance a share capital in finance a share capital in finance a share capital in finance a share capital in finance a share capital in finance a share capital in finance a\n",
      "Model Output After Tuning  - share capital\n",
      "\n",
      "------------------------------------------------------------\n",
      "\n",
      "Ground Truth - California is responsibly for roughly 90% of American wine production\n",
      "Model Output Before Tuning - 1.4 billion yuan ahuahuahuahuahuahuahuahuahuahuahuahuahuahuahuahuahuahuahuahuahuahuahuahuahuahuahuahuahuahuahuahuahuahuahuahuahuahuahuahuahuahuahuahuahuahuahuahuahuahuahuahuahuahuahuahuahuahuahuahuahuahuahuahu\n",
      "Model Output After Tuning  - 1.4 billion yuan a uuu auu yuu uu ouu tuu saan saada sana sasada, a tasmanian taasmania taan aan uuta aan, aaas aanasaan, and aasanas sananassaan.\n",
      "\n",
      "------------------------------------------------------------\n",
      "\n",
      "Ground Truth - The best professional sports teams based in California are the Los Angeles Dodgers, the Golden State Warriors, and the San Francisco 49ers.\n",
      "Model Output Before Tuning - los angeles olympia olympia olympia olympia olympia olympia olympia olympia olympia olympia olympia olympia olympia olympia olympia olympia olympia olympia olympia olympia olympia olympia olympia olympia olympia olympia olympia olympia olympia olympia olympia olympia olymp\n",
      "Model Output After Tuning  - los angeles olympics\n",
      "\n",
      "------------------------------------------------------------\n",
      "\n",
      "Ground Truth - Daisy Rockwell\n",
      "Model Output Before Tuning - Tomb of Sand was translated from Hindi to English\n",
      "Model Output After Tuning  - Tomb of Sand was translated from Hindi to English\n",
      "\n",
      "------------------------------------------------------------\n",
      "\n",
      "Ground Truth - Azure Synapse provides five different compute services:\n",
      "1. Dedicated SQL Pools (previously known as \"Synapse Data Warehouse\"), \n",
      "2. Serverless SQL Pools (i.e. a query service over the data lake), \n",
      "3. Data Explorer Pools (for real-time & time series processing),\n",
      "4. Spark Pools (Microsoft's version of Spark), and\n",
      "5. Pipelines (a variant of ADF)\n",
      "Model Output Before Tuning - a total of a total of a total of a total of a total of a total of a total of a total of a total of a total of a total of a total of a total of a total of a total of a total of a total of a total of a total of a total of a total of a total of a total of a total of a total of a total of a total of a total of a total of a total of a total of a total of a total of a total of a total of a total of a total of a total of a total of a total of a total of a total of a total of a total of a total of a total of a total of a total of a total of a total of\n",
      "Model Output After Tuning  - a total of a combined total of 256 a.k.a. and a synapse of 256.0 a.s. and 256.2 a.a. a.e. 256.3 a.s. a 256.4 a. s. s a 512.3 s.a.\n",
      "\n",
      "------------------------------------------------------------\n",
      "\n",
      "Ground Truth - Flammable objects can become inflamed when placed on or near a fire source or extreme heat.  Its recommended to keep flammable objects far away from heat sources.\n",
      "Model Output Before Tuning - a fire is blown out of the air and a fire is blown out of the air and a fire is blown out of the air and a fire is blown out of the air and a fire is blown out of the air and a fire is blown out of the air and a fire is blown out of the air and a fire is blown out of the air and a fire is blown out of the air and a fire is blown out of the air and a fire is blown out of the air and a fire is blown out of the air and a fire is blown out of the air and a fire is blown out of the air and a fire is blown out of the air and a fire is blown out of the air and a fire is blown out of the air and a fire is blown out of the air and a\n",
      "Model Output After Tuning  - a flammable object is exposed to a fire source or extreme heat\n",
      "\n",
      "------------------------------------------------------------\n",
      "\n",
      "Ground Truth - The New York Giants and New York Jets are both professional football teams in the NFL who play in the New York Metropolitan area. Both teams play in MetLife stadium which used to be called Giants stadium in East Rutherford, NJ. Their fan bases live in New Jersey and New York primarily. The Jets primary color is Green, while the Giants are blue.\n",
      "Model Output Before Tuning - the Jets were a team of the New York Giants and the Jets were a team of the New York Giants and the Jets were a team of the New York Giants and the Jets were a team of the New York Giants and the Jets were a team of the New York Giants and the Jets were a team of the New York Giants and the Jets were a team of the New York Giants and the Jets were a team of the New York Giants and the Jets were a team of the New York Giants and the Jets were a team of the New York Giants and the Jets were a team of the New York Giants and the Jets were a team of the New York Giants and the Jets were a team of the New York Giants and the Jets were a team of the New York Giants and the Jets were\n",
      "Model Output After Tuning  - the Jets were a team of the New York Giants and New York Jets.\n",
      "\n",
      "------------------------------------------------------------\n",
      "\n",
      "Ground Truth - Ahmedabad to Mumbai\n",
      "Model Output Before Tuning - san antonio san antonio san antonio san antonio san antonio san antonio san antonio san antonio san antonio san antonio san antonio san antonio san antonio san antonio san antonio san antonio san antonio san antonio san antonio san antonio san antonio san antonio san antonio san antonio san antonio\n",
      "Model Output After Tuning  - san antonio saskatchewan\n",
      "\n",
      "------------------------------------------------------------\n",
      "\n",
      "Ground Truth - One Earth Year is the time it takes for one revolution of the Earth around the sun.\n",
      "Model Output Before Tuning - one thousand nine hundred and twenty-four hundred and twenty-four hundred and forty-four hundred and forty-four hundred and forty-four hundred and forty-four hundred and forty-four hundred and forty-four hundred and forty-four hundred and forty-four hundred and forty-four hundred and forty-four hundred and forty-four hundred and forty-four hundred and forty-four hundred and forty-four hundred and forty-four hundred and forty-four hundred and forty-four hundred and forty-four hundred and forty-four hundred and forty-four hundred and forty-four hundred and forty-four hundred and forty-four hundred and forty-four hundred and forty-four hundred and forty-four hundred and forty-four hundred and forty-four hundred and forty-four hundred and forty-four hundred and forty-four hundred and forty-four hundred and forty-four hundred and forty-four hundred and forty-four hundred and forty-four hundred and forty-four hundred and\n",
      "Model Output After Tuning  - one thousand nine hundred and ninety nine\n",
      "\n",
      "------------------------------------------------------------\n",
      "\n",
      "Ground Truth - Sam Snead, Tiger Woods, and Jack Nicklaus are the most successful golfers of all time with the top three most major championship wins.\n",
      "Model Output Before Tuning - michael wilson and robert wilson and robert wilson and robert wilson and robert wilson and robert wilson and robert wilson and robert wilson and robert wilson and robert wilson and robert wilson and robert wilson and robert wilson and robert wilson and robert wilson and robert wilson and robert wilson and robert wilson and robert wilson and robert wilson and robert wilson and robert wilson and rob\n",
      "Model Output After Tuning  - michael edwards\n",
      "\n",
      "------------------------------------------------------------\n",
      "\n",
      "Ground Truth - The following types of fish contain low levels of mercury: salmon, flounder, Atlantic mackerel, anchovies, pollock, catfish, and shellfish (e.g., clams, scallops, mussels).\n",
      "Model Output Before Tuning - tequila and tequila tequila and tequila tequila and tequila tequila and tequila and tequila and tequila and tequila and tequila and tequila and tequila and tequila and tequila and tequila and tequila and tequila and tequila and tequila and tequila and tequila and tequila and tequila and tequila and tequila and tequila and tequila and tequila and tequila and tequila and tequila and tequila\n",
      "Model Output After Tuning  - tequila\n",
      "\n",
      "------------------------------------------------------------\n",
      "\n",
      "Ground Truth - You will need 1-2 teaspoons of matcha powder, milk of your choice, 1 cup of hot water, and ice. In a cup or bowl, you will add your match powder and pour your hot water into it and use a whisk until the matcha powder is well incorporated, which should create a paste like consistency. Then you will take a glass and pour in your ice and milk and your matcha paste on top and stir.\n",
      "Model Output Before Tuning - Place ice cubes in a large bowl and mix with a fork. Add the ice cubes to the bowl and mix. Add the ice cubes to the bowl and mix. Add the ice cubes to the bowl and mix. Add the ice cubes to the bowl and mix. Add the ice cubes to the bowl and mix. Add the ice cubes to the bowl and mix. Add the ice cubes to the bowl and mix. Add the ice cubes to the bowl and mix. Add the ice cubes to the bowl and mix. Add the ice cubes to the bowl and mix. Add the ice cubes to the bowl and mix. Add the ice cubes to the bowl and mix. Add the ice cubes to the bowl and mix. Add the ice cubes to the bowl and mix\n",
      "Model Output After Tuning  - Place ice cubes in a large bowl and add ice cream. Add ice cream and ice cream to the bowl and mix. Add the ice cream mixture to the bowl. Add the cream mixture and mix until the cream mixture is melted.\n",
      "\n",
      "------------------------------------------------------------\n",
      "\n",
      "Ground Truth - Lady Bird Lake in Austin downtown is revered to be the best place to go Kayaking. Paddlers can choose to head west from the Rowing Dock to take in nature views. But a small paddle down the river to the east will greet paddlers to magnificent downtown skyline views.\n",
      "Model Output Before Tuning - san antonio del san antonio del san antonio del san antonio del san antonio del san antonio del san antonio del antonio del antonio del antonio del antonio del antonio del antonio del antonio del antonio del antonio del antonio del antonio del antonio del antonio del antonio del antonio del antonio del antonio del antonio del antoni\n",
      "Model Output After Tuning  - san antonio\n",
      "\n",
      "------------------------------------------------------------\n",
      "\n",
      "Ground Truth - There are a few significant differences between a bass guitar and a regular guitar.  A bass guitar typically has 4 strings (though it can have more), is larger in body & neck, and has higher string gauges (string thickness).  A bass guitar is used for keeping the band on track by keeping the rhythm and hitting the root notes of the chords.  \n",
      "\n",
      "A regular guitar typically has 6 strings, and can be used for a wider variety of purposes.  These include keeping the rhythm with chords, playing foundational riffs, or improvisational solos for instrumental layering.  The regular guitarists are almost always the more well-known of the two.\n",
      "Model Output Before Tuning - a bass guitar is a musical instrument that is played on a bass guitar, a drum, or a bass drum. a bass guitar is a musical instrument that is played on a bass guitar, a drum, or a drum, or drum, or drum, or drum, or drum, or drum, or drum, or drum, or drum, or drum, or drum, or drum, or drum, or drum, or drum, or drum, or drum, or drum, or drum, or drum, or drum, or drum, or drum, or drum, or drum, or drum, or drum, or drum, or drum, or drum, or drum, or drum, or drum, or drum, or drum, or drum, or drum, or drum, or drum, or drum, or drum, or drum, or drum, or drum, or drum, or drum, or drum, or drum, or drum, or\n",
      "Model Output After Tuning  - bass guitar\n",
      "\n",
      "------------------------------------------------------------\n",
      "\n",
      "Ground Truth - Gross domestic product (GDP) is a monetary measure of the market value of all the final goods and services produced and sold in a specific time period by a country or countries, generally \"without double counting the intermediate goods and services used up to produce them\". GDP is most often used by the government of a single country to measure its economic health. Due to its complex and subjective nature, this measure is often revised before being considered a reliable indicator. GDP (nominal) per capita does not, however, reflect differences in the cost of living and the inflation rates of the countries; therefore, using a basis of GDP per capita at purchasing power parity (PPP) may be more useful when comparing living standards between nations, while nominal GDP is more useful comparing national economies on the international market. Total GDP can also be broken down into the contribution of each industry or sector of the economy. The ratio of GDP to the total population of the region is the per capita GDP (also called the Mean Standard of Living).\n",
      "Model Output Before Tuning - 3.3 billion yuan (                                                                                                \n",
      "Model Output After Tuning  - GDP\n",
      "\n",
      "------------------------------------------------------------\n",
      "\n",
      "Ground Truth - Given that a super-yarn is worth 10 yarns and a mini-yarn is worth 0.5 yarn, if you have 2 super-yarns and 3 mini-yarns you have 21.5 yarns in total.\n",
      "Model Output Before Tuning - adolescence and adolescence and adolescence and adolescence and adolescence and adolescence and adolescence and adolescence and adolescence and adolescence and adolescence and adolescence and adolescence and adolescence and adolescence and adolescence and adolescence and adolescence and adolescence and adolescence and adolescence and adolescence and adolescence and adolescence and adolescence and adolescence and adolescence and adolescence and ado\n",
      "Model Output After Tuning  - adolescence and a drool ad a roose ad. a ad and ad are two types of ad, ad is a sex ad of a lone ad in a b ad with a c ad or a ed. b b c b d c c d d e d o d s e o s o e e s s d n e n s n o r o n n r n d r e r s r r d l e l o o c e c o l n \n",
      "\n",
      "------------------------------------------------------------\n",
      "\n",
      "Ground Truth - A Mormon typically refers to a member of the Church of Jesus Christ of Latter-day Saints. The word Mormon comes from a prophet in the Book of Mormon who lived in the Americas around 300 A.D. The Book of Mormon is part of the canon of scripture that members of the Church of Jesus Christ of Latter-day Saints use, in conjunction with the Bible and the Doctrine and Covenants. It is often viewed as a distinguishing difference between the Church of Jesus Christ of Latter-day Saints and other Christian denominations. Historically, this is why members of the Church of Jesus Christ of Latter-day Saints have been called Mormons.\n",
      "Model Output Before Tuning - Mormons are a group of Mormons who are ordained as a priest or a sacramento of the church. The sacramento of the church is a sacramento of the church. The sacramento of the church is a sacramento of the church. The sacramento of the church is a sacramento of the church. The sacramento of the church is a sacramento of the church. The sacramento of the church is a sacramento of the church. The sacramento of the church is a sacramento of the church. The sacramento of the church is a sacramento of the church. The sacramento of the\n",
      "Model Output After Tuning  - Mormons are a group of Mormons who are ordained as a sacramento of the Evangelical Church of the United States of America. Mormons are the members of a congregation of the Church of Jesus Christ of Latter Day Saints.\n",
      "\n",
      "------------------------------------------------------------\n",
      "\n",
      "Ground Truth - A red delicious apple is red and sweet whereas a Granny Smith apple is green and tart.\n",
      "Model Output Before Tuning - Granny Smith (or Granny Smith) is a genus of plants in the family Chrysalisae. It is a genus of plants in the family Chrysalisae. It is a genus of plants in the family Chrysalisae. It is a genus of plants in the family Chrysalisae. It is a genus of plants in the family Chrysalisae. It is a genus of plants in the family Chrysalisae. It is a genus of plants in the family Chrysalisae. It is a genus of plants in the family Chrysalisae. It is a genus of plants in the family Chrysalisae. It is a genus of plants in the family\n",
      "Model Output After Tuning  - Granny Smith (or Granny Smith) is a genus of fungi in the family Grannyae. The genus is a moth in the family Crambidae.\n",
      "\n",
      "------------------------------------------------------------\n",
      "\n",
      "Ground Truth - It would have be Te Ani'la Mand'alor, or also called Mandalore the Ultimate.\n",
      "Model Output Before Tuning - eliota eliota eliota eliota eliota eliota eliota eliota eliota eliota eliota eliota eliota eliota eliota eliota eliota eliota eliota eliota eliota eliota eliota eliota eliota eliota eliota eliota eli\n",
      "Model Output After Tuning  - adam kool koad ko lu kou kaol o koda kok koya ku k o o ay kobo k ayayaaya ayyaada yay ayuda sassa sarah saman kohda o saad ayodaa yo ahudaayo yoludah yosudaha yoydahya yugodaho yaodahu yogodahaadahi yoodahai ya\n",
      "\n",
      "------------------------------------------------------------\n",
      "\n",
      "Ground Truth - Ludwig van Beethoven\n",
      "Model Output Before Tuning - samuel wilson iii of st john ii of st john ii of st john ii of st john ii of st john iv of st john iv of st john iv of st john iv of st john iv of st john iv of st john iv of st john iv of st john iv of st john iv of st john iv of st john iv of st john iv of st john iv of st john iv of st john iv of st john\n",
      "Model Output After Tuning  - samuel edwards\n",
      "\n",
      "------------------------------------------------------------\n",
      "\n",
      "Ground Truth - James Watson and Francis Crick identified the double-helix structure of deoxyribonucleic acid in 1953.\n",
      "Model Output Before Tuning - george w. w. w. w. w. w. w. w. w. w. w. w. w. w. w. w. w. w. w. w. w. w. w. w. w. w. w. w. w. w. w. w. w. w. w. w. w. w. w. w. w. w. w. w. w. w. w. w. w. w. w. w. w. w. w. w. w. w. w. w. w. w. w. w. w. w\n",
      "Model Output After Tuning  - george w. bush\n",
      "\n",
      "------------------------------------------------------------\n",
      "\n",
      "Ground Truth - Bollywood is a movie industry based in Mumbai, India. It primarily makes movies in Hindi language. Since it was based in a city previously known as Bombay, a convenient moniker Bollywood resembling Hollywood is used to describe Hindi language film industry.\n",
      "Model Output Before Tuning -                                                                                                    \n",
      "Model Output After Tuning  -  \n",
      "\n",
      "------------------------------------------------------------\n",
      "\n",
      "Ground Truth - Nanotubes, often known as Carbon Nanotubes, are light, strong shapes made of Carbon atoms.  Nanotubes are shaped like tiny straws with walls as thin as one carbon atom.  They are considered as the strongest of any material known to man.  Nanotubes have many practical uses, one of which is to make the darkest black paint.\n",
      "Model Output Before Tuning - Nanotubes are a type of tube that is made of a material that is made of a material that is made of a material that is made of a material that is made of a material that is made of a material that is made of a material that is made of a material that is made of a material that is made of a material that is made of a material that is made of a material that is made of a material that is made of a material that is made of a material that is made of a material that is made of a material that is made of a material that is made of a material that is made of a material that is made of a material that is made of a material that is made of a material that is made of a material that is made of a material that is made of a material that is made of a material that is\n",
      "Model Output After Tuning  - nanotubes\n",
      "\n",
      "------------------------------------------------------------\n",
      "\n",
      "Ground Truth - A secured loan is a form of debt in which the borrower pledges some asset (i.e., a car, a house) as collateral.\n",
      "Model Output Before Tuning - A secured loan is a loan secured by a fixed interest rate (PR) or a fixed interest rate (PR) of a fixed interest rate (PR) of a fixed interest rate (PR) of a fixed interest rate (PR) of a fixed interest rate (PR) of a fixed interest rate (PR) of a fixed interest rate (PR) of a fixed interest rate (PR) of a fixed interest rate (PR) of a fixed interest rate (PR) of a fixed interest rate (PR) of a fixed interest rate (PR) of a fixed interest rate (PR) of a fixed interest rate (PR) of a fixed interest rate (PR) of a fixed interest rate (PR) of a fixed interest rate (PR) of a fixed interest rate (PR) of a fixed interest rate (PR) of a fixed interest rate (PR) of a\n",
      "Model Output After Tuning  - a secured loan\n",
      "\n",
      "------------------------------------------------------------\n",
      "\n",
      "Ground Truth - That is a personal question and one should think about this very carefully. Things to consider:\n",
      "\n",
      "1. How old are you?\n",
      "2. Can you afford to raise the child \n",
      "3. Do you have proper healthcare\n",
      "4. Do you have anyone to help you\n",
      "5. Do you like kids\n",
      "6. Why do you want kids\n",
      "Model Output Before Tuning - A child is a person who has a developmental disability. A child is a person who has a developmental disability. A child is a person who has a developmental disability. A child is a person who has a developmental disability. A child is a person who has a developmental disability. A child is a person who has a developmental disability. A child is a person who has a developmental disability. A child is a person who has a developmental disability. A child is a person who has a developmental disability. A child is a person who has a developmental disability. A child is a person who has a developmental disability. A child is a person who has a developmental disability. A child is a person who has a developmental disability. A child is a person who has a developmental disability. A child is a person who has a developmental disability. A child is a\n",
      "Model Output After Tuning  - A child is a person who is not a parent. A child who is a parent is a child that is a member of a family. A child with a child who isn't a parent must have a child.\n",
      "\n",
      "------------------------------------------------------------\n",
      "\n",
      "Ground Truth - Theodore Roosevelt\n",
      "Model Output Before Tuning - george w. bush\n",
      "Model Output After Tuning  - george w. bush\n",
      "\n",
      "------------------------------------------------------------\n",
      "\n",
      "Ground Truth - The Football Association Challenge Cup, more commonly known as the FA Cup, is an annual knockout football competition in men's domestic English football. First played during the 1871–72 season, it is the oldest national football competition in the world. It is organised by and named after The Football Association (The FA). Since 2015, it has been known as The Emirates FA Cup after its headline sponsor. A concurrent Women's FA Cup has been held since 1970.\n",
      "\n",
      "The competition is open to all eligible clubs down to Level 9 of the English football league system with Level 10 clubs acting as stand-ins in the event of non-entries from above. Included in the competition are 20 professional clubs in the Premier League (level 1), 72 professional clubs in the English Football League (levels 2 to 4), and all clubs in steps 1–5 of the National League System (levels 5 to 9) as well as a tiny number of step 6 clubs acting as stand-ins for non-entries above. A record 763 clubs competed in 2011–12. The tournament consists of 12 randomly drawn rounds followed by the semi-finals and the final. Entrants are not seeded, although a system of byes based on league level ensures higher ranked teams enter in later rounds – the minimum number of games needed to win, depending on which round a team enters the competition, ranges from six to fourteen.\n",
      "\n",
      "The first six rounds are the Qualifying Competition, from which 32 teams progress to the first round of the Competition Proper, meeting the first of the 48 professional teams from Leagues One and Two. The last entrants are the Premier League and Championship clubs, into the draw for the Third Round Proper. In the modern era, only one non-League team has ever reached the quarter-finals, and teams below Level 2 have never reached the final. As a result, significant focus is given to the smaller teams who progress furthest, especially if they achieve an unlikely \"giant-killing\" victory.\n",
      "\n",
      "Winners receive the FA Cup trophy, of which there have been two designs and five actual cups; the latest is a 2014 replica of the second design, introduced in 1911. Winners also qualify for the UEFA Europa League and a place in the upcoming FA Community Shield. Arsenal are the most successful club with fourteen titles and Arsène Wenger is the most successful manager in the history of the competition, having won seven finals as Arsenal's manager.\n",
      "\n",
      "Liverpool are the current holders, having beaten Chelsea 6–5 on penalties following a 0–0 draw in the 2022 final.\n",
      "Model Output Before Tuning - saturday night saturday night saturday night saturday night saturday night saturday night saturday night saturday night saturday night saturday night saturday night saturday night saturday night saturday night saturday night saturday night saturday night saturday night saturday night saturday night saturday night saturday night saturday night saturday night saturday night saturday night saturday night saturday night saturday night saturday night saturday night saturday night saturday night saturday night saturday night saturday night saturday night saturday night saturday night saturday night\n",
      "Model Output After Tuning  - fa cup\n",
      "\n",
      "------------------------------------------------------------\n",
      "\n",
      "Ground Truth - Atlantic Ocean\n",
      "Arctic Ocean\n",
      "Pacific Ocean\n",
      "Indian Ocean\n",
      "Model Output Before Tuning - arctic arctic arctic arctic arctic arctic arctic arctic arctic arctic arctic arctic arctic arctic arctic arctic arctic arctic arctic arctic arctic arctic arctic arctic arctic arctic arctic arctic arctic arctic arctic arctic arctic arctic arctic arctic arctic arctic arctic arctic arctic arctic arctic arctic arctic arctic arctic arctic arctic arctic arctic arctic arctic arctic arctic arctic arctic arctic arctic arctic arctic arctic arctic arctic arctic arctic arc\n",
      "Model Output After Tuning  - arctic and arctic oceans\n",
      "\n",
      "------------------------------------------------------------\n",
      "\n",
      "Ground Truth - Harry did not put his own name in the goblet of fire. Barty Crouch Junior, using polyjuice potion to disguise himself as Alistair Moody, put Harry's name in the goblet of fire as part of his plan to deliver Harry into Lord Voldemort's hands.\n",
      "Model Output Before Tuning - no he was born in the slums of the slums of the slums of the slums of the slums of the slums of the slums of the slums of the slums of the slums of the slums of the slums of the slums of the slums of the slums of the slums of the slums of the slums of the slums of the slums of the slums of the slums of the slums of the slums of the slums of the slums of the slums of the slums of the slums of the slums of the slums of the slums of the \n",
      "Model Output After Tuning  - no\n",
      "\n",
      "------------------------------------------------------------\n",
      "\n",
      "Ground Truth - \"The Hate U Give\" which was released in 2017 and debuted at number one on The New York Times Best Seller list.\n",
      "Model Output Before Tuning - edward edward edward edward edward edward edward edward edward edward edward edward edward edward edward edward edward edward edward edward edward edward edward edward edward edward edward edward edward edward edward edward edward edward edward edward edward edward edward edward edward edward edward edward edward edward edward edward edward edward\n",
      "Model Output After Tuning  - edward esward s s eward ewards e e ward e d e w e f e h e l e s w s f s h s d s l s t s o s r s a s n s c s g s m s b s p s i s v s k s y s j s q s u s x s ch s  s's st s's '' s - s & s ; s, '' and '', ',, &, ;,\n",
      "\n",
      "------------------------------------------------------------\n",
      "\n",
      "Ground Truth - Some biologists maintain that there is no genetic difference between shrubs and trees - some species may have expressions in tree form and shrub form.  Other scientists believe that the physical form is essential and that shrubs are distinct from trees.\n",
      "Model Output Before Tuning - shrubs and trees are a type of shrub or tree that is a type of shrub or tree that is a type of tree that is a type of tree that is a type of tree that is a type of tree that is a type of tree that is a type of tree that is a type of tree that is a type of tree that is a type of tree that is a type of tree that is a type of tree that is a type of tree that is a type of tree that is a type of tree that is a type of tree that is a type of tree that is a type of tree that is a type of tree that is a type of tree that is a type of tree that is a type of tree that is a type of tree that is a type of tree that is a type of tree that is a type of tree that is a\n",
      "Model Output After Tuning  - shrubs and trees\n",
      "\n",
      "------------------------------------------------------------\n",
      "\n",
      "Ground Truth - The following players won the men's singles grand slam tennis tournaments in 2022:\n",
      "- Rafael Nadal won the Australian Open and the French Open\n",
      "- Novak Djokovic won Wimbledon\n",
      "- Carlos Alcaraz won the US Open\n",
      "Model Output Before Tuning - men's singles grand slam slam slam slam slam slam slam slam slam slam slam slam slam slam slam slam slam slam slam slam slam slam slam slam slam slam slam slam slam slam slam slam slam slam slam slam slam slam slam slam slam slam slam slam slam slam slam slam s\n",
      "Model Output After Tuning  - men's singles grand slam tennis\n",
      "\n",
      "------------------------------------------------------------\n",
      "\n",
      "Ground Truth - The US Constitution divides the federal government into three branches: legislative, executive and judicial.  This ensures that no individual or group will have too much power.\n",
      "Model Output Before Tuning - federal republican republican republican republican republican republican republican republican republican republican republican republican republican republican republican republican republican republican republican republican republican republican republican republican republican republican republican republican republican republican republican republican republican republican republican republican republican republican republican republican republican republican republican republican republican republican republican republican republican republican republican republican republican republican republican republican republican republican republican republican republican republican republican republican republican republican republican republican republican republican republican republican republican republican republican republican republican republican republican republican republican republican republican republican republican republican republican republican republican republican republican republican republican republican republican republican republican republican republican republic\n",
      "Model Output After Tuning  - federal republic of the united states federal republic of u.s. federal republic of united states senate of united states of america s u. s. s s c s d c c d d e c e d f c f d s e f s f f e e u s o c o d o e o f o o u f u c u d a u a c a f a a s a e a o a d b a b b c b e b d u u b f b s b u e s t c t d \n",
      "\n",
      "------------------------------------------------------------\n",
      "\n",
      "Ground Truth - While they are similar sports, tennis and pickleball have various difference. First, the court size for pickleball is about half the size of a tennis court. Second, pickleball is played with a ball that resembles a whiffle ball. Third, pickleball is played with paddles as opposed to rackets. Finally, the scoring system is quite different as you play for points which can only be scored when you or your team are serving.\n",
      "Model Output Before Tuning - tennis pickleball tennis pickleball is a tennis tournament played on outdoor clay courts. It is a tournament played on outdoor clay courts and is played on outdoor clay courts and is played on outdoor clay courts and is played on outdoor clay courts and is played on outdoor clay courts and is played on outdoor clay courts and is played on outdoor clay courts and is played on outdoor clay courts and is played on outdoor clay courts and is played on outdoor clay courts and is played on outdoor clay courts and is played on outdoor clay courts and is played on outdoor clay courts and is played on outdoor clay courts and is played on outdoor clay courts and is played on outdoor clay courts and is played on outdoor clay courts and is played on outdoor clay courts and is played on outdoor clay courts and is played on outdoor clay courts and is played on outdoor clay courts and is played on outdoor clay courts and is played on outdoor clay courts and is played on outdoor clay courts and is played on outdoor clay courts and is played\n",
      "Model Output After Tuning  - pickleball\n",
      "\n",
      "------------------------------------------------------------\n",
      "\n",
      "Ground Truth - This can be discussed but it is often admitted that Michael Jordan is the best NBA player of all time.\n",
      "Model Output Before Tuning - michael roosevelt jackson jackson jackson jackson jackson jackson jackson jackson jackson jackson jackson jackson jackson jackson jackson jackson jackson jackson jackson jackson jackson jackson jackson jackson jackson jackson jackson jackson jackson jackson jackson jackson jackson jackson jackson jackson jackson jackson jackson jackson jackson jackson jackson jackson jackson jackson jackson jackson jackson jackson jackson jackson jackson jackson jackson jackson jackson jackson jackson jackson jackson jackson jack\n",
      "Model Output After Tuning  - michael lincoln\n",
      "\n",
      "------------------------------------------------------------\n",
      "\n",
      "Ground Truth - The U.S. half dollar is the winner with 150 ridges.\n",
      "Model Output Before Tuning - rio rio rio rio rio rio rio rio rio rio rio rio rio rio rio rio rio rio rio rio rio rio rio rio rio rio rio rio rio rio rio rio rio rio rio rio rio rio rio rio rio rio rio rio rio rio rio rio rio rio\n",
      "Model Output After Tuning  - roosevelt\n",
      "\n",
      "------------------------------------------------------------\n",
      "\n",
      "Ground Truth - Carrie Underwood.\n",
      "Model Output Before Tuning - elizabeth elizabeth elizabeth elizabeth elizabeth elizabeth elizabeth elizabeth elizabeth elizabeth elizabeth elizabeth elizabeth elizabeth elizabeth elizabeth elizabeth elizabeth elizabeth elizabeth elizabeth elizabeth elizabeth elizabeth elizabeth elizabeth elizabeth elizabeth elizabeth elizabeth elizabeth elizabeth elizabeth e\n",
      "Model Output After Tuning  - elizabeth edwards\n",
      "\n",
      "------------------------------------------------------------\n",
      "\n",
      "Ground Truth - Game of Thrones is based on the books written by George R. R. Martin called a Song of Ice and Fire.\n",
      "Model Output Before Tuning - a series of teeming tales based on a series of teeming tales based on a series of teeming tales based on a series of teeming tales based on a series of teeming tales based on a series of teeming tales based on a series of teeming tales based on a series of teeming tales based on a series of teeming tales based on a series of teeming tales based on a series of teeming tales based on a series of teeming tales based on a series of teeming tales based on a series of \n",
      "Model Output After Tuning  - a series of adolescent sex and sex series based on a sex sex episode based on the sex of a teen whose sex is sex on the eve of sex.\n",
      "\n",
      "------------------------------------------------------------\n",
      "\n",
      "Ground Truth - The professional baseball teams in the state of Florida are the Tampa Bay Rays and Miami Marlins.\n",
      "Model Output Before Tuning - st. louis st. louis st. louis st. louis st. louis st. louis st. louis st. louis st. louis st. louis st. louis st. louis st. louis st. louis st. louis st. louis st. louis st. louis st. louis st. louis st. louis st. louis st. louis st. louis st. louis st. louis st. louis st. louis st. louis st. louis st. louis st. louis st. louis s\n",
      "Model Output After Tuning  - st. louis san francisco san antonio saskatchewan\n",
      "\n",
      "------------------------------------------------------------\n",
      "\n",
      "Ground Truth - No\n",
      "Model Output Before Tuning - no\n",
      "Model Output After Tuning  - no\n",
      "\n",
      "------------------------------------------------------------\n",
      "\n",
      "Ground Truth - Soap is made with a mixture of natural or organic oils, sodium hydroxide and distilled water.  When making soap you need to mix a combination of light and heavy oils like olive and coconut oil and then mix it with sodium hydroxide and distilled water.  After this mixture has been mixed well you poor it into soap molds and let it hard over the course of many weeks.  This process called saponification is the time it takes for the sodium hydroxide to evaporate from the mixture which causes the soap to harden in he soap molds.  Other options you have when making soap are to add essential oils, like lavender and grapefruit to give a nice scent to the soap.  This has to be added prior to saponification.\n",
      "Model Output Before Tuning - Pour the soap into a bowl and pour it into a bowl. Pour the soap into a bowl and pour it into a bowl. Pour the soap into a bowl and pour it into a bowl. Pour the soap into a bowl and pour the soap into a bowl. Pour the soap into a bowl and pour the soap into a bowl. Pour the soap into a bowl and pour the soap into a bowl and pour the soap into a bowl and pour the soap into a bowl and pour the soap into a bowl and pour the soap into a bowl and pour the soap into a bowl and pour the soap into a bowl and pour the soap into a bowl and pour the soap into a bowl and pour the soap into a bowl and pour the soap into a bowl and pour the soap into a bowl and pour the soap into a bowl and pour the soap into a bowl and pour the soap\n",
      "Model Output After Tuning  - Pour the soap into a bowl and add the soap to the bowl. Add the soap and stir until the soap is dissolved. Pour the soap mixture into the bowl and add to the soap mixture. Add the mixture to the bowl and stir until it reaches the desired consistency. Pour the mixture into the soap mixture and stir until soap is completely dissolved and the soap is fully dissolved. Let the soap mixture sit for a few minutes and then add the soap mixture to the mixture.\n",
      "\n",
      "------------------------------------------------------------\n",
      "\n",
      "Ground Truth - Wild Boars\n",
      "Model Output Before Tuning - elephants and rhinoceroses and rhinoceroses and rhinoceroses and rhinoceroses and rhinoceroses and rhinoceroses and rhinoceroses and rhinoceroses and rhinoceroses and rhinoceroses and rhinoceroses and rhinoceroses and rhinoceroses and rhinoceroses and rhinoceroses and rhinoceroses and rhinoceroses and rhinoceroses and rhinoceroses and rhinoceroses and rhinoceroses and rhinoceroses and rhinoceroses and rhinoceroses and rhinoceroses and rhinoceroses and rhinoceroses and rhinoceroses and rhinoceroses and rhinoceroses and rhinoceroses and rhinoceroses and rhinoceroses and rhinoceroses and rhinoceroses and rhinoceroses and rhinoceroses and rhinoceroses and rhinoceroses and rhinoce\n",
      "Model Output After Tuning  - elephants\n",
      "\n",
      "------------------------------------------------------------\n",
      "\n",
      "Ground Truth - Yes, George Lucas and Steven Spielberg are long-time friends, dating back to their first meeting in 1967. They have collaborated and supported each other on a number of films and celebrated each others success in the field of filmmaking.\n",
      "Model Output Before Tuning - no\n",
      "Model Output After Tuning  - no\n",
      "\n",
      "------------------------------------------------------------\n",
      "\n",
      "Ground Truth - San Francisco is a famously foggy city\n",
      "Model Output Before Tuning - hot and humid summers in the San Francisco Bay Area. The San Francisco Bay Area is famous for its snowy climate and its snowy climate. The San Francisco Bay Area is famous for its snowy climate and its snowy climate. The San Francisco Bay Area is famous for its snowy climate and its snowy climate. The San Francisco Bay Area is famous for its snowy climate and its snowy climate. The San Francisco Bay Area is famous for its snowy climate and its snowy climate. The San Francisco Bay Area is famous for its snowy climate and its snowy climate. The San Francisco Bay Area is famous for its snowy climate and its snowy climate. The San Francisco Bay Area is famous for its snowy climate and its snowy climate. The San Francisco Bay Area is famous for its snowy climate and its snowy climate. The San Francisco Bay Area is famous for its snowy climate and its snowy climate. The San Francisco Bay Area is famous for\n",
      "Model Output After Tuning  - southeastern southwestern southeastern region of the United States of America southeastern coastal southwestern coastal southeastern southern southeastern northern southeastern coast of the southern southwestern coast of the northern southwestern region of the southern coast of the northwestern coast of the western coast of the northeastern coast of the eastern coast of the southeastern United States. southeastern eastern southeastern western southeastern northeastern southeastern southeast southeastern northwestern coasts of the northern coast of the southeast coast of the southwest coast of the southwestern region of the western region of the northeast coast of the northwest coast of the west coast of the east coast of the region of the southeast.\n",
      "\n",
      "------------------------------------------------------------\n",
      "\n",
      "Ground Truth - Some of the most popular movies starring Will Ferrell include Old School, Stepbrothers, Elf, Anchorman, Stranger than Fiction, Blades of Glory, Zoolander, and Talladega Nights: The Ballad of Ricky Bobby.\n",
      "Model Output Before Tuning - saturday night saturday night saturday night saturday night saturday night saturday night saturday night saturday night saturday night saturday night saturday night saturday night saturday night saturday night saturday night saturday night saturday night saturday night saturday night saturday night saturday night saturday night saturday night saturday night saturday night saturday night saturday night saturday night saturday night saturday night saturday night saturday night saturday night saturday night saturday night saturday night saturday night saturday night saturday night saturday night\n",
      "Model Output After Tuning  - saturday night osso bucolo oscuro sassy oscar oso o sydney os o luogo o roosevelt o tuesday night a saada o aad o edward o yelo ay o drool o otto o utto a aaado oo oh o hylo e o nasso ah ooo a hydo ao oy ooh aho om o mr oma omi omo o\n",
      "\n",
      "------------------------------------------------------------\n",
      "\n",
      "Ground Truth - The books concern a wizard called Harry Potter and his journey through Hogwarts School of Witchcraft and Wizardry. The stories tell of him overcoming dangerous obstacles to defeat the Dark Wizard Lord Voldemort, who killed his parents when Harry was 15 months old.\n",
      "Model Output Before Tuning - Harry Potter and the Philosopher's Stone is a series of books written by Harry Potter and the Philosopher's Stone. Harry Potter and the Philosopher's Stone is a series of books written by Harry Potter and the Philosopher's Stone. Harry Potter and the Philosopher's Stone are a series of books written by Harry Potter and the Philosopher's Stone. Harry Potter and the Philosopher's Stone are a series of books written by Harry Potter and the Philosopher's Stone. Harry Potter and the Philosopher's Stone are a series of books written by Harry Potter and the Philosopher's Stone. Harry Potter and the Philosopher's Stone are a series of books written by Harry Potter and the Philosopher's Stone. Harry Potter and the Philosopher's Stone are a series of books written by Harry Potter and the Philosopher's Stone. Harry Potter and the Philosopher's Stone are \n",
      "Model Output After Tuning  - Harry Potter and the Philosopher's Stone\n",
      "\n",
      "------------------------------------------------------------\n",
      "\n",
      "Ground Truth - He invented Dynamite\n",
      "Model Output Before Tuning - he was a philanthropist and philanthropist and philanthropist and philanthropist and philanthropist and philanthropist and philanthropist and philanthropist and philanthropist and philanthropist and philanthropist and philanthropist and philanthropist and philanthropist and philanthropist and philanthropist and philanthropist and philanthropist and philanthropist and philanthropist and philanthropist and philanthropist and philanthropist and philanthropist and philanthropist and philanthropist and philanthropist and philanthropist\n",
      "Model Output After Tuning  - he was a philanthropist\n",
      "\n",
      "------------------------------------------------------------\n",
      "\n",
      "Ground Truth - Each year there is a race held to swim across Lake Tahoe. The race was created and is still sponsored by The Olympic Club of San Francisco. Teams are created and entered from across the globe but primarily North America. The format of the race is a six person relay; all male, all female. or half male/female. Starting on the Nevada side of the lake each member of the team swims for 30 minutes following the team's boat. After each of the swimmers has completed the 30 minute rotation the swimmers then rotate again every 10 minutes. This is done is sequence until the team reach the other side of the lake in California. The swimmers need to touch one-another when rotating between swimmers and there are no wetsuits or fins allowed.\n",
      "Model Output Before Tuning - The Trans Tahoe Relay is a trans-sale relay that is a relay of a relay of a relay of a relay of a relay of a relay of a relay of a relay of a relay of a relay of a relay of a relay of a relay of a relay of a relay of a relay of a relay of a relay of a relay of a relay of a relay of a relay of a relay of a relay of a relay of a relay of a relay of a relay of a relay of a relay of a re\n",
      "Model Output After Tuning  - Trans Tahoe Relay\n",
      "\n",
      "------------------------------------------------------------\n",
      "\n",
      "Ground Truth - The world’s largest performing rock band included 953 musicians.\n",
      "Model Output Before Tuning - 69,769,769,769,769,769,769,769,769,769,769,769,769,769,769,769,769,769,769,769,769,769,769,769,769,769,769,769,769,769,769,769,769,769,769,769,769,769,769,769,769,769,769,769,769,769,769,769,769,769,769,769,769,769,769,769,769,769,769,769,769,769,769,769,769,769,769\n",
      "Model Output After Tuning  - 69,069, 69,694, 77,693, 87,694 and 77,469, and 87,469 and 77,369,477,487,387,478,378,447,377,277,578,278,587,287,547,247,569,577,747,778,787,777,777,769,7777,774,727,779,717,719,728,729,739,799,737,759,735,745,748,749 \n",
      "\n",
      "------------------------------------------------------------\n",
      "\n",
      "Ground Truth - Here is a list of all the books in the Harry Potter collection written by J.K. Rowling - Harry Potter and the Philosopher's Stone, Harry Potter and the Chamber of Secrets, Harry Potter and the Prisoner of Azkaban, Harry Potter and the Goblet of Fire, Harry Potter and the Order of the Phoenix, Harry Potter and the Half-Blood Prince and Harry Potter and the Deathly Hallows\n",
      "Model Output Before Tuning - harry potter or harry potter or harry potter or harry potter or harry potter or harry potter or harry potter or harry potter or harry potter or harry potter or harry potter or harry potter or harry potter or harry potter or harry potter or harry potter or harry potter or harry potter or harry potter or harry potter or harry potter or harry potter or harry potter or harry potter or harry potter or harry potter or harry potter or harry potter or harry potter or harry potter or harry potter or harry potter or harry potter or har\n",
      "Model Output After Tuning  - harry potter\n",
      "\n",
      "------------------------------------------------------------\n",
      "\n",
      "Ground Truth - Aberdeen is a city located in the North East of Scotland. As of 2020 it had a population of 200,000 people and is the third largest city in Scotland, behind Edinburgh (435,000) and Glasgow (610,000). Aberdeen has been referred to as \"The Silver City\" due to the high number of buildings in the city constructed of Granite from the local quarry, which may sparkle on the rare occasion that the sunlight hits the buildings.  Since the 1960's the city's economy has largely revolved around Oil & Gas due to its proximity to the North Sea Oil discovery.   Aberdeen has two universities; the University of Aberdeen and Robert Gordon University. Notable people who have been associated with Aberdeen include singer Annie Lennox, golfer Paul Lawrie and architect Archibald \"Archie\" Simpson.\n",
      "Model Output Before Tuning - Aberdeen\n",
      "Model Output After Tuning  - Aberdeen\n",
      "\n",
      "------------------------------------------------------------\n",
      "\n",
      "Ground Truth - The English Premier League is the top flight of English football.\n",
      "Model Output Before Tuning - england england england england england england england england england england england england england england england england england england england england england england england england england england england england england england england england england england england england england england england england england england england england england england england england england england\n",
      "Model Output After Tuning  - england premier league\n",
      "\n",
      "------------------------------------------------------------\n",
      "\n",
      "Ground Truth - Predictive Maintenance is widely used in the manufacturing industry. It is all about figuring out when an asset should be maintained, and what specific maintenance activities need to be performed, based on an asset’s actual condition or state, rather than on a fixed schedule, so that you can maximize uptime and productivity. It is all about predicting & preventing failures and performing the right maintenance routines in order to reduce costly equipment downtimes.\n",
      "Model Output Before Tuning - Predictive maintenance is the maintenance of a particular product or service that is based on a specific product or service. Predictive maintenance is the maintenance of a specific product or service that is based on a specific product or service. Predictive maintenance is the maintenance of a specific product or service that is based on a specific product or service. Predictive maintenance is the maintenance of a specific product or service that is based on a specific product or service. Predictive maintenance is the maintenance of a specific product or service that is based on a specific product or service. Predictive maintenance is the maintenance of a specific product or service that is based on a specific product or service. Predictive maintenance is the maintenance of a specific product or service that is based on a specific product or service. Predictive maintenance is the maintenance of a specific product or service that is based\n",
      "Model Output After Tuning  - predictive maintenance\n",
      "\n",
      "------------------------------------------------------------\n",
      "\n",
      "Ground Truth - Terraform is an infrastructure as code tool that lets you build/deploy, change, and version cloud and on-prem resources safely and efficiently.\n",
      "Model Output Before Tuning - Terraform () is a genus of fungi in the family Geometridae. It is a genus of fungi in the family Geometridae. It is a genus of fungi in the family Geometridae. It is a genus of fungi in the family Geometridae. It is a genus of fungi in the family Geometridae. It is a genus of fungi in the family Geometridae. It is a genus of fungi in the family Geometridae. It is a genus of fungi in the family Geometridae. It is a genus of fungi in the family Geometridae. It is a genus of fungi in the family Geometrid\n",
      "Model Output After Tuning  - Terraform () is a genus of fungi in the family Geometridae.\n",
      "\n",
      "------------------------------------------------------------\n",
      "\n",
      "Ground Truth - Mississippi and Missouri rivers\n",
      "Model Output Before Tuning - san francisco san francisco san francisco san francisco san francisco san francisco san francisco san francisco san francisco san francisco san francisco san francisco san francisco san francisco san francisco san francisco san francisco san francisco san francisco san francisco san francisco san francisco san francisco san francisco san francisco san francisco san francisco san francisco san francisco san francisco san francisco san francisco san francisco s\n",
      "Model Output After Tuning  - san francisco and santa barbara\n",
      "\n",
      "------------------------------------------------------------\n",
      "\n",
      "Ground Truth - \"We Remember\"\n",
      "Model Output Before Tuning - house edward edward edward edward edward edward edward edward edward edward edward edward edward edward edward edward edward edward edward edward edward edward edward edward edward edward edward edward edward edward edward edward edward edward edward edward edward edward edward edward edward edward edward edward edward edward edward edward edward ed\n",
      "Model Output After Tuning  - house reeds\n",
      "\n",
      "------------------------------------------------------------\n",
      "\n",
      "Ground Truth - New Orleans is famous for its celebrations of Mardi Gras\n",
      "Model Output Before Tuning - san francisco\n",
      "Model Output After Tuning  - san francisco\n",
      "\n",
      "------------------------------------------------------------\n",
      "\n",
      "Ground Truth - Cryptocurrency is a currency that you can by with physical money and it is held as a digital currency.  It is not backed by the FDIC or insured, and there is a lot of risk when investing in cryptocurrency. Because it is not regulated you can see price fluctuations as high as 90% loss or gain in cryptocurrency.  It is also a decentralized digital currency.  Cryptocurrency can be a good way to send large amounts of money abroad without having to pay an institution fees to do this through a wire and its immediate.  It can be used to pay for certain goods and services too.\n",
      "Model Output Before Tuning - cryptocurrency\n",
      "Model Output After Tuning  - cryptocurrency\n",
      "\n",
      "------------------------------------------------------------\n",
      "\n",
      "Ground Truth - The Counter Reformation was a Catholic religious movement which was in response to the Protestant Reformation and sought to strengthen the Catholic faith.\n",
      "Model Output Before Tuning - Counter Reformation of the Republic of the Republic of the Republic of the Republic of the Republic of the Republic of the Republic of the Republic of the Republic of the Republic of the Republic of the Republic of the Republic of the Republic of the Republic of the Republic of the Republic of the Republic of the Republic of the Republic of the Republic of the Republic of the Republic of the Republic of the Republic of the Republic of the Republic of the Republic of the Republic of the Republic of the Republic of the Republic of the Republic of the Republic of the Republic of the Republic of the Republic of the Republic of the Republic of the Republic of the Republic of the Republic of the Republic of the Republic of the Republic of the Republic of the Republic of the Republic of the Republic of the Republic of the Republic of the Republic of the Republic of the Republic of the Republic of the Republic of the Republic of the Republic of the Republic of the Republic of the Republic of the Republic of the Republic of the Republic of the Republic of the\n",
      "Model Output After Tuning  - Counter Reformation\n",
      "\n",
      "------------------------------------------------------------\n",
      "\n"
     ]
    }
   ],
   "source": [
    "for a, b, c in zip(\n",
    "    samples_to_tune_on[\"output\"], model_output_before_tuning, model_output_after_tuning\n",
    "):\n",
    "    print(f\"Ground Truth - {a}\")\n",
    "    print(f\"Model Output Before Tuning - {b}\")\n",
    "    print(f\"Model Output After Tuning  - {c}\")\n",
    "    print()\n",
    "    print(\"---\" * 20)\n",
    "    print()"
   ]
  },
  {
   "cell_type": "code",
   "execution_count": 24,
   "id": "b5b5d770",
   "metadata": {},
   "outputs": [
    {
     "data": {
      "text/plain": [
       "['Tope',\n",
       " 'Gudok is string, Cantaro is percussion.',\n",
       " 'The useful objects for transportation in the list are train, plane, bicyle and scooter.',\n",
       " 'Zurna is woodwind, Panduri is string.',\n",
       " 'Shamisen is string, Kpanlogo is percussion.',\n",
       " 'blue, yellow, green, red, purple, orange',\n",
       " 'Eminem, 50 Cent',\n",
       " 'The classification is as follows:\\n- Soccer: goalie gloves, corner flag\\n- Basketball: shooting sleeve\\n- Football: penalty flag, kicking tee',\n",
       " 'Giant Tortoise is alive, Palaeophis is extinct.',\n",
       " 'Viola toeria is string, Samphor is percussion.',\n",
       " 'Inside a house you can find a chair, a table and a microwave. Cars, clouds and parks are found outside of houses.',\n",
       " 'Dark-colored beers: porter, stout, amber\\nLight-colored beers: pilsner, lager',\n",
       " 'avocados, kiwi, pairs, blueberries, green beans, kale, cabbage',\n",
       " 'Guitar - String\\nViolin - String\\npiano - keyboard\\nharmonium - keyboard\\ncello - string\\naccordion - keyboard\\nbanjo - string',\n",
       " 'Bacon, eggs, sausages, beans, toast, mushrooms, tomatoes. Some people also include black pudding and hash browns.\\nEggs are commonly fried or scrambled.',\n",
       " 'mammal- tiger, rhinoceros, dog, cat\\nbird- heron, kingfisher, eagle\\nreptile- snake, alligator, chameleon\\ninset- spider, ant, hornet, butterfly',\n",
       " 'Sea dragon',\n",
       " 'A bed belongs in a bedroom, a couch belongs in a living area, a desk belongs in an office',\n",
       " 'St Lucia, West End, Toowong, Bulimba and Newstead border the Brisbane River. Wilston, Wooloongabba, Indooroopilly and Bowen Hills are inland and do not border the Brisbane River.',\n",
       " 'Gemshorn is woodwind, Janzi is string.',\n",
       " 'Pliosaur is extinct, Marine Iguana is alive.',\n",
       " 'Isaac Asimov: Pebble in the Sky, The Stars, Like Dust, Foundation, The Robots of Dawn, The Naked Sun\\nJules Verne: Around the World in Eighty Days, From the Earth to the Moon, Martin Paz, Journey to the Centre of the Earth, A Drama in the Air',\n",
       " 'All except park are places to await for transportation',\n",
       " 'David Guetta: DJ\\nAvicii: DJ\\nRihanna: Singer\\nBeyonce: Singer\\nMartin Garrix: DJ\\nCalvin Harris: DJ\\nTaylor Swift: Singer',\n",
       " 'Luc huyen cam is string, Den-den daiko is percussion.',\n",
       " 'Notebooks: useful, textbook: useful, desk lamp: not useful, pencil pouch: useful, beach ball: not useful, pillow: not useful, laptop: useful.',\n",
       " 'Newt and frog are amphibians. The rest of the animals are mammals. You did not provide any fish in your question.',\n",
       " \"'prime', 'prime', 'composite', 'prime', 'composite', 'prime', 'composite', 'composite', 'composite', 'prime', 'composite', 'prime', 'composite', 'composite', 'composite'.\",\n",
       " 'Three musketeers, Twix, and snickers are candy bars, and trident, hubba bubba, and wrigleys are gum.',\n",
       " 'DC- Superman, Batman, Wonder Woman, Flash, Aquaman\\nMarvel- Spider-Man, Iron Man, Captain America, Thor, Doctor Strange',\n",
       " 'Redlip blenny is a fish, Red-throated diver is a bird',\n",
       " 'There are many ski resorts in the United States that offer challenging terrain for expert level skiers.  Som of the top resorts are: Big Sky, Jackson Hole, Pallisades, Crested Butte, Telluride, and Silverthorn',\n",
       " 'Spectre is DC, Hulk is Marvel',\n",
       " 'Mola mola',\n",
       " 'The colors are: red, black, yellow, orange, white, pink and blue.',\n",
       " 'Soccer and bowling would be the two easiest sports in this list to succeed in if you’re not tall.',\n",
       " \"An academic degree is a qualification awarded to students upon successful completion of a course of study in higher education, usually at a college or university. These institutions commonly offer degrees at various levels, usually including undergraduate degrees, master's, and doctorates, often alongside other academic certificates and professional degrees. The most common undergraduate degree is the bachelor's degree, although in some countries there are lower-level higher education qualifications that are also titled degrees (e.g. associate degrees and foundation degrees).\",\n",
       " \"Screwdrivers, Bloody Mary's, White Russians, and Cosmopolitans are traditionally vodka cocktails, whereas French 75's, Gimlets, Tom Collins', and Negronis are traditionally gin cocktails.\",\n",
       " \"The following songs are in Taylor Swift's album Lover: The Archer, Lover, Cruel Summer.\\nThe following song is in the album Fearless (Taylor's Version): Love Story (Taylor's Version)\\nThe following songs are in the album evermore: tolerate it, willow\\nThe following songs are in the album Reputation: Don't Blame Me, Look What You Made Me Do\\nThe following song is in the album Red (Taylor's Version): 22 (Taylor's version) \\nThe following songs are in the album Midnights: Bejeweled, Lavender Haze\",\n",
       " 'A hairdryer, television, computer and fridge are all examples of things that can be plugged in and powered by electricity. A common table, chair, comb and flower are examples of items that do not require electricity and cannot be plugged in.',\n",
       " 'Australia is a country as well as a continent.\\nMexico is a country.\\nMexico City is a city.\\nAntarctica is a continent.\\nSingapore is a country as well as a city.\\nIndia is a country.\\nGulf is neither.\\nBeijing is a city.\\nJakarta is a city.\\nLuxembourg is a country as well as a city.\\nVatican City is a country as well as a city.',\n",
       " 'Wheelharp is string, Clarinet is woodwind.',\n",
       " 'Austin, Houston, Dallas',\n",
       " 'USA: Right Side\\nMexico: Right Side\\nSpain: Right Side\\nEngland: Left Side\\nNew Zealand: Left Side\\nJapan: Left Side',\n",
       " 'Opel is German, GMC is American',\n",
       " 'Ford, Chevrolet, Honda, Toyota, and Subaru are high-quality car brands, but are generally not considered to be \"luxury\" brands. Lamborghini, Ferrari, Mercedes, and Lexus are luxury brands.',\n",
       " '10th Grade: High School\\n3rd Grade: Elementary School\\n4th Grade: Elementary School\\n12th Grade: High School\\n1st Grade: Elementary School',\n",
       " 'Blackchin is a fish, Black redstart is a bird',\n",
       " 'oceans- pacific, indian, arctic\\nseas- okhotosk, aral, arabian, north, baltic\\nrivers- amazon, colorado, lena, danube, mekong\\nlakes- superior, tahoe, victoria , baikal',\n",
       " 'The ice cream toppings are chocolate sauce, hot fudge, and whipped cream. The salad dressings are thousand island, balsamic vinaigrette, and Caesar.',\n",
       " 'Fiat, Ferrari, Renault, BMW and MG are car brands.',\n",
       " 'Alligator: Animal\\nGrass: Not an Animal\\nTree: Not an Animal\\nBoat: Not an Animal\\nDolphin: Animal\\nShark: Animal\\nFish: Animal\\nFence: Not an Animal\\nDog: Animal\\nCar: Not an Animal',\n",
       " 'Cartoons: Stuart Little, The Iron Giant, South Park: Bigger, Longer, and Uncut\\nLive action: The Matrix, Cruel Intentions, The Blair Witch Project, The Sixth Sense',\n",
       " \"Well, C, Java and Python are programming languages. \\nWhile HTML is a language, it is a markup language and not a programming language. Node.js is actually a framework built on top of Javascript, so it can't be classified as a language. \\nBigData is a broader term used for storing, processing and usage of large amounts of data. Spark is one of the most popular distributed data processing frameworks. Spark can be used from multiple languages.\",\n",
       " 'Metals: Copper, Silver, Gold\\nNon Metals: Hydrogen, Carbon, Nitrogen',\n",
       " 'Sholay is a Bollywood movie \\nSatyajit Ray was an Indian Film Director\\nMani Ratnam is an Indian Film Director\\nLagaan is a Bollywood movie\\nYash Chopra was an film director\\nRoja is a Bollywood Movie',\n",
       " 'Steel Guitar is string, Pambai is percussion',\n",
       " 'Jalapenos are spicy.\\nChilis are spicy.\\nSriracha is spicy.\\nChips are sometimes spicy.\\nPizza is sometimes spicy.\\nCocktails are sometimes spicy.\\nFruit is not spicy.\\nMIlk is not spicy.',\n",
       " 'Randy: Adult\\nStan: Kid\\nKyle: Kid\\nButters: Kid\\nSharon: Adult',\n",
       " 'Miles Davis, John Coltrane, Amy Winehouse and Billy Holiday are considered to be jazz musicians. Rhianna, Taylor Swift, Elvis and Elton John are not jazz musicians.',\n",
       " 'Snake, Shower',\n",
       " 'Round - wheel, coin, CD\\nSquare - stamp, chess board',\n",
       " 'VIBGYOR - Violet Indigo Blue Green Yellow orange red',\n",
       " \"J.K. Rowling: Harry Potter and the Sorcerer's Stone, The Ickabog, Fantastic Beasts and Where to Find Them, The Cuckoo's Calling, Harry Potter and the Order of the Phoenix\\nSuzanne Collins: Catching Fire, Mockingjay, Gregor the Overlander, Year of the Jungle, The Ballad of Songbirds and Snakes\",\n",
       " 'Months that have 30 days are: April, June, September and November.\\nMonths that have 31 days are: January, March, May, July, August, October and December.',\n",
       " 'Stone, Cloud, oxygen, water, hydrogen, dirt, nitrogen, brick, concrete, lava',\n",
       " 'Washington DC, Chicago, Freemont, San jose are cities, and IL, Texas, Washington are US states. Bay area is neither a state nor a city. It is referring to the area in northern CA which consists of multiple cities.',\n",
       " 'Sharud is string, Sabar is percussion.',\n",
       " 'Eritrea - Asmara, Keren, Assab\\nGabon - Libreville, Port-Gentil, Franceville',\n",
       " 'Dog: Domesticated\\nBear: Wild\\nDolphin: Wild\\nCat: Domesticated\\nCow: Domesticated\\nHippo: Wild\\nRhino: Wild',\n",
       " 'Budweiser, Rum, Vodka, Tequila and Margarita are alcoholic beverages',\n",
       " 'In this list, Twitter, Instagram, and Tiktok are social media platforms.',\n",
       " 'Elephant: Heavy\\nFeather: Light\\nHippo: Heavy\\nPaper: Light\\nWhale: Heavy',\n",
       " 'Mercury - rocky\\nVeuns - rocky\\nEarth - rocky\\nMars - rocky\\nJupiter - gaseous\\nSaturn - gaseous\\nUranus - gaseous\\nNeptune - gaseous',\n",
       " 'Nurse shark',\n",
       " 'Albacore Tuna is alive, Purussaurus is extinct.',\n",
       " 'Xaphoon is woodwind, Domra is string.',\n",
       " 'Glasses: Help Vision\\nBinoculars: Help Vision\\nBlindfold: Hurt Vision\\nSleep Mask: Hurt Vision\\nTelescope: Help Vision',\n",
       " 'Gandalf - literary character\\nBanana - fruit\\nFrodo Baggins - literary character\\nAragorn  - literary character\\norange - fruit\\napple - fruit\\nSauron - literary character',\n",
       " 'Rajinikanth is an Indian action who primarily acts in Tamil movies. Shivaji Rao Gaikwad, known professionally as Rajinikanth (/rədʒɪnɪkɑːnθ/),[b] is an Indian actor, producer and screenwriter who works mainly in Tamil cinema.  In a career spanning over five decades, he has done more than 160 films that includes films in Tamil, Hindi, Telugu, Kannada, Bengali, and Malayalam. He is widely regarded as one of the most successful and popular actors in the history of Indian cinema.',\n",
       " 'Damaru is percussion, Laouto is string.',\n",
       " 'Items that are strongly or weakly attracted are called \"ferromagnetic\" and \"paramagnetic\", respectively. These include: iron nail, paper clips, a tin can, a compass.\\nItems that are repelled by a magnet are either \"paramagnetic\" or themselves permanent magnets of the opposite polarity, including: a magnet of opposite polarity, pyrolytic carbon sheet. Items that are not affected by a permanent magnet are called \"nonmagnetic\" and include: a plastic cup, a glass window, a leather wallet, a brick.',\n",
       " 'Chrysler is American, Dongfeng is Chinese',\n",
       " \"Starbucks is a brand of coffee\\nPeet's is a brand of coffee\\nBlue Bottle is a brand of coffee\\nCoca-Cola is a soft drink\\nSprite is a soft drink\\nCanada Dry is a soft drink\\nPepsi is a soft drink\",\n",
       " \"Coffee shop chain: Starbucks, Dunkin Donuts, Dutch Bros, Coffee Bean & Tea Leaf\\nFast-food hamburger restaurant: McDonald's, In-N-Out, Burger King, Carl's Jr\",\n",
       " 'Qualitative: English, history, law \\nQuantitative: mathematics, physics, statistics',\n",
       " 'Delta Live Table (DLT) is used to Data Engineering, MLFlow is used for Machine Learning, Autoloader is used to Data Engineering, AutoML is used for Machine Learning',\n",
       " 'Ocelot, lion, caracal, leopard, tiger, lynx are all species that are part of the Felidae family (commonly known as cats). Jackals and foxes are part of the Canidae (or dog) family. While the two groups have physical similarities, they also have distinctive physical and behavioral differences.',\n",
       " 'The Netherlands, Germany, Finland, Italy and Luxembourg are in the European Union.\\n\\nRest of the countries: Switzerland, the United Kingdom, Turkey, Australia, Vietnam and Canada are not a part of the European Union but might have deals allowing them to benefit from the certain conveniences of the European Union such as free trade.\\n\\nFor example, while Switzerland has very close ties with European Union nations and has similar benefits, they are not a part of the EU. Switzerland enjoys benefits such as freedom of movement of people between the EU member states and Switzerland, this is due to a separate agreement: Agreement on the Free Movement of Persons (AFMP).',\n",
       " 'Robin, eagle, raptor, bluejay, and sparrow are all kinds of birds. Cobra, rattlesnake, viper, cottonmouth, and copperhead are several types of snakes.',\n",
       " 'Ilimba is percussion, Khim is string.',\n",
       " 'Olive Ridley Turtle is alive, Polacanthus is extinct.',\n",
       " 'Duluth - Minnesota\\nBisbee - Arizona\\nBend - Neither\\nSt Joseph - Minnesota\\nWhy - Arizona\\nGuaymas - Neither',\n",
       " 'Utogardon is string, Jingle is percussion.',\n",
       " 'Supreme Court: Judicial\\nPresident: Executive\\nHouse: Legislative\\nSenate: Legislative',\n",
       " 'Iran and Afghanistan are majority Farsi (or a variation of it) speaking. Turkey is the majority Turkish speaking. Majority of people in Iraq, UAE, Qatar, and Syria speak Arabic. Contrary to the generally held belief that Iran and Afghanistan are a Arabic speaking countries, they are not. Farsi is a totally different language.',\n",
       " 'They are all Keanu Reeves movies.',\n",
       " 'Oviraptor is extinct, Giant Panda is alive.',\n",
       " 'China: Not Landlocked\\nBolivia: Landlocked\\nParaguay: Landlocked\\nMorocco: Not Landlocked\\nIreland: Not Landlocked\\nAustria: Landlocked\\nSwitzerland: Landlocked',\n",
       " 'Timple is string, Lummi stick is percussion.']"
      ]
     },
     "execution_count": 24,
     "metadata": {},
     "output_type": "execute_result"
    }
   ],
   "source": [
    "samples_to_tune_on[\"output\"]"
   ]
  }
 ],
 "metadata": {
  "kernelspec": {
   "display_name": "Python 3 (ipykernel)",
   "language": "python",
   "name": "python3"
  },
  "language_info": {
   "codemirror_mode": {
    "name": "ipython",
    "version": 3
   },
   "file_extension": ".py",
   "mimetype": "text/x-python",
   "name": "python",
   "nbconvert_exporter": "python",
   "pygments_lexer": "ipython3",
   "version": "3.8.10"
  }
 },
 "nbformat": 4,
 "nbformat_minor": 5
}
