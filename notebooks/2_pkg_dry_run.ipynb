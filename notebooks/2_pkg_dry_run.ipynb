{
 "cells": [
  {
   "cell_type": "code",
   "execution_count": 1,
   "id": "48fd4bbe",
   "metadata": {},
   "outputs": [],
   "source": [
    "# Autocompletion\n",
    "%config Completer.use_jedi = False\n",
    "\n",
    "# Autoreload  \n",
    "%load_ext autoreload\n",
    "%autoreload 2"
   ]
  },
  {
   "cell_type": "code",
   "execution_count": 2,
   "id": "944af2a1",
   "metadata": {},
   "outputs": [],
   "source": [
    "# Autoreload\n",
    "import sys\n",
    "from typing import List\n",
    "\n",
    "sys.path.append('../')\n",
    "\n",
    "import numpy as np\n",
    "from IPython.display import Audio, display\n",
    "\n",
    "\n",
    "import nltk\n",
    "import torch\n",
    "import numpy as np\n",
    "import datasets\n",
    "import pandas as pd\n",
    "import transformers\n",
    "\n",
    "from transformers import AutoTokenizer, AutoModelForCausalLM, AutoModel, T5ForConditionalGeneration, AutoModelForSeq2SeqLM"
   ]
  },
  {
   "cell_type": "code",
   "execution_count": 3,
   "id": "3b390a51",
   "metadata": {},
   "outputs": [
    {
     "name": "stdout",
     "output_type": "stream",
     "text": [
      "Monkey Patching .generate function of `transformers` library\n"
     ]
    }
   ],
   "source": [
    "import llmsearch"
   ]
  },
  {
   "cell_type": "code",
   "execution_count": 4,
   "id": "b25b6ddc",
   "metadata": {},
   "outputs": [
    {
     "name": "stdout",
     "output_type": "stream",
     "text": [
      "Device - mps\n"
     ]
    }
   ],
   "source": [
    "device = \"cpu\"\n",
    "\n",
    "if torch.backends.mps.is_built() and torch.backends.mps.is_available():\n",
    "    device = \"mps\"\n",
    "elif torch.cuda.is_available():\n",
    "    device = \"cuda\"\n",
    "\n",
    "from llmsearch.utils.mem_utils import gc_cuda\n",
    "\n",
    "print(f\"Device - {device}\")\n",
    "\n",
    "def beep(duration = 1, frequency=440, rhythm=1):\n",
    "    sample_rate = 44100  # Standard audio sample rate\n",
    "    t = np.linspace(0, duration, int(duration * sample_rate), endpoint=False)\n",
    "    audio_data = np.sin(2*np.pi*frequency*t)  # Generate a sine wave\n",
    "    audio_data *= np.where(np.arange(len(audio_data)) % rhythm == 0, 1, 0)  # Apply rhythm\n",
    "    display(Audio(audio_data, rate=sample_rate, autoplay=True))"
   ]
  },
  {
   "cell_type": "code",
   "execution_count": 5,
   "id": "8c2fe830",
   "metadata": {},
   "outputs": [
    {
     "name": "stderr",
     "output_type": "stream",
     "text": [
      "Found cached dataset samsum (/Users/praful932/.cache/huggingface/datasets/samsum/samsum/0.0.0/f1d7c6b7353e6de335d444e424dc002ef70d1277109031327bc9cc6af5d3d46e)\n"
     ]
    },
    {
     "data": {
      "application/vnd.jupyter.widget-view+json": {
       "model_id": "8c9b50f1cb974015848154588f740914",
       "version_major": 2,
       "version_minor": 0
      },
      "text/plain": [
       "  0%|          | 0/3 [00:00<?, ?it/s]"
      ]
     },
     "metadata": {},
     "output_type": "display_data"
    }
   ],
   "source": [
    "dataset = datasets.load_dataset(\"samsum\")"
   ]
  },
  {
   "cell_type": "code",
   "execution_count": 6,
   "id": "eca4a675",
   "metadata": {},
   "outputs": [],
   "source": [
    "sample_size = 100\n",
    "samples_to_tune_on = datasets.Dataset.from_dict(dataset[\"train\"][:sample_size])\n",
    "samples_to_tune_on = samples_to_tune_on.rename_columns(column_mapping = {'dialogue' : 'X', 'summary' : \"y\"})"
   ]
  },
  {
   "cell_type": "code",
   "execution_count": 7,
   "id": "d40ddb3e",
   "metadata": {},
   "outputs": [],
   "source": [
    "from transformers import AutoTokenizer, AutoModelForSeq2SeqLM\n",
    "\n",
    "model_id = \"google/flan-t5-small\"\n",
    "tokenizer = AutoTokenizer.from_pretrained(model_id, use_fast = False)\n",
    "model =  AutoModelForSeq2SeqLM.from_pretrained(model_id).to(device)\n",
    "\n"
   ]
  },
  {
   "cell_type": "code",
   "execution_count": 8,
   "id": "46ba55bf",
   "metadata": {},
   "outputs": [
    {
     "name": "stdout",
     "output_type": "stream",
     "text": [
      "Conversation: Amanda: I baked  cookies. Do you want some?\r\n",
      "Jerry: Sure!\r\n",
      "Amanda: I'll bring you tomorrow :-)\n",
      "Summary:\n"
     ]
    }
   ],
   "source": [
    "import langchain\n",
    "\n",
    "X = samples_to_tune_on[0]['X']\n",
    "\n",
    "pt = langchain.PromptTemplate.from_template(\"Conversation: {X}\\nSummary:\")\n",
    "\n",
    "print(pt.format_prompt(X = X).to_string())"
   ]
  },
  {
   "cell_type": "code",
   "execution_count": 9,
   "id": "6cddba20",
   "metadata": {},
   "outputs": [],
   "source": [
    "import evaluate\n",
    "\n",
    "rouge_metric = evaluate.load(\"rouge\")\n",
    "\n",
    "def postprocess_text(preds, labels):\n",
    "    preds = [pred.strip() for pred in preds]\n",
    "    labels = [label.strip() for label in labels]\n",
    "    \n",
    "\n",
    "    # rougeLSum expects newline after each sentence\n",
    "    preds = [\"\\n\".join(nltk.sent_tokenize(pred)) for pred in preds]\n",
    "    labels = [\"\\n\".join(nltk.sent_tokenize(label)) for label in labels]\n",
    "\n",
    "    return preds, labels\n",
    "\n",
    "\n",
    "def get_rouge_score(y_true: List, y_pred: List):\n",
    "    preds, gts = postprocess_text(preds=y_pred, labels=y_true)\n",
    "\n",
    "    result = rouge_metric.compute(predictions=preds, references=gts, use_stemmer=True)\n",
    "    return result['rouge2']"
   ]
  },
  {
   "cell_type": "code",
   "execution_count": 10,
   "id": "deca2ec3",
   "metadata": {},
   "outputs": [],
   "source": [
    "from llmsearch.tuner import Tuner\n",
    "from llmsearch.utils.mem_utils import get_total_available_ram, get_gpu_information\n",
    "from llmsearch.utils.logging_utils import set_verbosity_info, set_verbosity_debug\n",
    "from sklearn.metrics import make_scorer\n",
    "from sklearn.model_selection import RandomizedSearchCV, GridSearchCV\n",
    "\n",
    "seed = 42\n",
    "\n",
    "set_verbosity_info()\n"
   ]
  },
  {
   "cell_type": "code",
   "execution_count": 11,
   "id": "87baa229",
   "metadata": {},
   "outputs": [
    {
     "data": {
      "application/vnd.jupyter.widget-view+json": {
       "model_id": "",
       "version_major": 2,
       "version_minor": 0
      },
      "text/plain": [
       "Map:   0%|          | 0/100 [00:00<?, ? examples/s]"
      ]
     },
     "metadata": {},
     "output_type": "display_data"
    }
   ],
   "source": [
    "tuner_ob = Tuner(model = model,tokenizer = tokenizer,dataset = samples_to_tune_on,\n",
    "                 device = device, batch_size = 512,\n",
    "                 tokenizer_encoding_kwargs={'padding': True, 'truncation': True, 'max_length': 512},\n",
    "                 tokenizer_decoding_kwargs = {'skip_special_tokens' : True,  'spaces_between_special_tokens' : False}, \n",
    "                 scorer = get_rouge_score, prompt_template = pt, is_encoder_decoder = True, seed = seed, column_mapping = {\"text_column_name\": \"X\", \"label_column_name\": \"y\"})\n"
   ]
  },
  {
   "cell_type": "code",
   "execution_count": 12,
   "id": "1a641629",
   "metadata": {},
   "outputs": [
    {
     "data": {
      "text/plain": [
       "100"
      ]
     },
     "execution_count": 12,
     "metadata": {},
     "output_type": "execute_result"
    }
   ],
   "source": [
    "len(samples_to_tune_on['X'])"
   ]
  },
  {
   "cell_type": "code",
   "execution_count": null,
   "id": "740358a2",
   "metadata": {
    "scrolled": true
   },
   "outputs": [
    {
     "name": "stderr",
     "output_type": "stream",
     "text": [
      "2023-08-21 23:35:01.231 - llmsearch.utils.mem_utils:145 - INFO - Starting inference with generation parameters - {'max_new_tokens': 120, 'repetition_penalty': 0.6, 'repetition_penalty_range': 5}\n",
      "2023-08-21 23:35:01.231 - llmsearch.utils.mem_utils:149 - INFO - Performing inference with batch_size - 512\n",
      "2023-08-21 23:35:01.231 - llmsearch.utils.model_utils:101 - INFO - Detected generation type - Greedy Decoding\n"
     ]
    },
    {
     "data": {
      "application/vnd.jupyter.widget-view+json": {
       "model_id": "73b1e6da386441abb0c0d6b3bc950292",
       "version_major": 2,
       "version_minor": 0
      },
      "text/plain": [
       "  0%|          | 0/1 [00:00<?, ?it/s]"
      ]
     },
     "metadata": {},
     "output_type": "display_data"
    }
   ],
   "source": [
    "# Earlier\n",
    "from llmsearch.utils.model_utils import seed_everything\n",
    "\n",
    "\n",
    "\"\"\"\n",
    "parameters and how they affect do_sample == False\n",
    "1. temperature - output does not change - greedy decoding\n",
    "2. top_k - output does not change - greedy decoding\n",
    "3. repetition_penalty - output changes\n",
    "4. no_repeat_ngram_size - output changes\n",
    "\"\"\"\n",
    "\n",
    "# seed_everything(seed)\n",
    "\n",
    "initial_generation_params1 = {\n",
    "    'max_new_tokens' : 120,\n",
    "    'repetition_penalty'  : 0.6,\n",
    "    'repetition_penalty_range'  : 5,\n",
    "#     'temperature' : 0.7,\n",
    "#     'do_sample' : True,\n",
    "#     'generation_seed' : 42\n",
    "#     'mirostat_mode': 2,\n",
    "#     'mirostat_tau': 8,\n",
    "}\n",
    "score, outputs1 = tuner_ob.get_score(initial_generation_params1)\n"
   ]
  },
  {
   "cell_type": "code",
   "execution_count": 16,
   "id": "ec0653ff",
   "metadata": {
    "scrolled": true
   },
   "outputs": [
    {
     "name": "stdout",
     "output_type": "stream",
     "text": [
      "Amanda baked cookies. Jerry will bring Amanda tomorrow.\n",
      "Amanda baked cookies and will bring Jerry some tomorrow. \n",
      "\n",
      "\n",
      "Olivia is voting for Liberals.\n",
      "Olivia and Olivier are voting for liberals in this election.  \n",
      "\n",
      "\n",
      "Kim is going to do a lot of stuff but he's procrastinating. Kim will do everything he wants to do tomorrow. Kim will eat some defrosted veggies. Tim will do a Pomodoro technique where he uses breaks for doing chores.\n",
      "Kim may try the pomodoro technique recommended by Tim to get more stuff done. \n",
      "\n",
      "\n",
      "Edward is in ove with Rachel. Rachel is outside.\n",
      "Edward thinks he is in love with Bella. Rachel wants Edward to open his door. Rachel is outside.  \n",
      "\n",
      "\n",
      "Sam is worried about rick saying something to her roommate. Sam is worried about her roommate.\n",
      "Sam is confused, because he overheard Rick complaining about him as a roommate. Naomi thinks Sam should talk to Rick. Sam is not sure what to do. \n",
      "\n",
      "\n",
      "Neville got married on September 17. Wyatt will ask her wife to check on her wedding anniversary.\n",
      "Wyatt reminds Neville his wedding anniversary is on the 17th of September. Neville's wife is upset and it might be because Neville forgot about their anniversary. \n",
      "\n",
      "\n",
      "Cassandra will check the homework for Cassandra tomorrow. John will check the homework for Cassandra in 20 minutes. John will check the homework for Cassandra in 20 minutes. Cassandra will go to the bar and go to a bar. John will go to the bar and go to a bar. Cassandra will go to the bar and go to a bar. John will go to the bar and go to the bar. Cassandra will go to the bar and go to the\n",
      "John didn't show up for class due to some work issues with his boss. Cassandra, his teacher told him which exercises to do, and which chapter to study. They are going to meet up for a beer sometime this week after class.  \n",
      "\n",
      "\n",
      "James found a song on youtube. He doesn't like it. He's listening to it on youtube.\n",
      "Sarah sends James an instrumental song he might like. James knows the song. The brain connects the songs to the context they were played in and brings to mind the associated memories. \n",
      "\n",
      "\n",
      "Noah quit his job and quit his job. Madison thinks Noah liked it. Noah quit his job and quit his job.\n",
      "Noah wants to meet, he quit his job, because his boss was a dick. \n",
      "\n",
      "\n",
      "Matt and Agnes are going to the Georgian restaurant in Kazimierz on Saturday at 6 pm. Matt will pick Agnes up on the way to the restaurant.\n",
      "Matt invites Agnes for a date to get to know each other better. They'll go to the Georgian restaurant in Kazimierz on Saturday at 6 pm, and he'll pick her up on the way to the place. \n",
      "\n",
      "\n",
      "Lucas is going to Death & Co tonight at 10 pm.\n",
      "Demi got promoted. She will celebrate that with Lucas at Death & Co at 10 pm. \n",
      "\n",
      "\n",
      "Mark will send George the tracking number tomorrow.\n",
      "Mark just shipped the goods and he will send George the tracking number tomorrow. \n",
      "\n",
      "\n",
      "Anita is at the station in Bologna. Jenny is at the station.\n",
      "Anita is at Bologna station. \n",
      "\n",
      "\n",
      "Arthur is looking for a junior project manager at his company. He is looking for a job at his company. He is looking for a job at his company.\n",
      "Arthur is still unemployed. Leon sends him a job offer for junior project manager position. Arthur is interested. \n",
      "\n",
      "\n",
      "Macca is in Iceland. She is in Reykjavik. She is in Iceland.\n",
      "Macca has done ice climbing for the first time today, close to Reykjavik. He enjoyed it very much. \n",
      "\n",
      "\n",
      "Isabella is not able to get up to work today. She is a traitor. She is a traitor. She is a fallen woman.\n",
      "Isabella feels bad after the Christmas party. She got drunk. She is ashamed to go back to work.  \n",
      "\n",
      "\n",
      "Lucy will send Lucy 50 bucks to her bank account tomorrow.\n",
      "Lucy owes Tina 50 dollars. She made a transfer but it is Sunday so the payment will be on Tina's account on Monday. Tina needs the money because she has been having expanses recently. \n",
      "\n",
      "\n",
      "Betty is worried about her drinking too much wine. Amber is worried about her drinking too much wine.\n",
      "Betty feels remorse she got drunk last night and went out of control. \n",
      "\n",
      "\n",
      "Mike will visit his grandma tonight.\n",
      "Mike and Mary are going to visit Mike's grandma tonight. Mary will buy her some chocolate. \n",
      "\n",
      "\n",
      "Laura is done for today. Kim will call her at 7 to confirm.\n",
      "Laura will pick up Kim from work around 7, and they will come back home together. \n",
      "\n",
      "\n",
      "Ashley is reading a book that is a great book. Erin is a fan of Coelho. Ashley is a fan of Coelho. Erin is already sold.\n",
      "Erin is convinced by Ashley's book recommendations, while Seamus and Marcus aren't. \n",
      "\n",
      "\n",
      "Aria met Charlie Evans. Aria has two daughters. She has two daughters. She has a crush on Cooper Roy.\n",
      "Aria has just run into Charlie Evans. He is now married, with two daughters, and a family business. She has also met Cooper Roy from high school. She used to have a crush on him, now she almost didn't recognise him. Maverick and Aria miss the old times and think the world has changed for the worse. \n",
      "\n",
      "\n",
      "Anna is at home. Omenah is at home.\n",
      "Omenah is at home, Anna will be there in a minute. \n",
      "\n",
      "\n",
      "Rachel is feeling very well. Layla is having knee surgery. Rachel is looking for a new job. Rachel is looking for a new job. Rachel is looking for a new job. Rachel is looking for a new job.\n",
      "Layla the dog misses Rachel. She is having a knee surgery, because of arthritis. Renee sends a picture of her dog. Rachel getting settled and she's looking for a job in teaching.  \n",
      "\n",
      "\n",
      "Jonas is running 10 minutes late. Natalie will present her with a seat for her. Olivia will save a seat for her.\n",
      "Jonas will be 10 minutes late. Natalie will let Mary know Jonas will present before she starts. \n",
      "\n",
      "\n",
      "Lawrence is offended by the team this season. He is disappointed with the team. He is disappointed with the team.\n",
      "Lawrence doesn't like the play of Manchester United. He and Julius complain about the team and Mourinho's style. \n",
      "\n",
      "\n",
      "Jade and Wayne are going to the trip.\n",
      "The trip Wayne was going to go on was postponed. Now Jade will be able to go to. \n",
      "\n",
      "\n",
      "Jason will send Natalie all the names of the spices she needs to remember in two weeks. Natalie will send her all the names of the spices she needs to remember in two weeks.\n",
      "Jason is going to Thailand next week. Natalie will send him pictures of the spices she wants him to buy for her. Then she will remind him about it in two weeks. \n",
      "\n",
      "\n",
      "Alice, Alice, Sadie, Arthur, Arthur, Alice, Tom, Tom and John will join Elisa for drinks tonight at Mombasa.\n",
      "Elisa, Sadie, Carol, Liam, Tom and John want to go for drinks tonight at Mombasa. Arthur will come with Alice. Kai will join them around 8. Elisa will book the big corner table for 15 people. \n",
      "\n",
      "\n",
      "Amy will be home around 6 and will be home around 7. Amy will go to Alex and go to Alex.\n",
      "Amy and Hal will have dinner together when he is back home before 7. \n",
      "\n",
      "\n",
      "Ray's bike was stolen yesterday. Sam will share it with Sam. Sam will share it with Sam. Ray's bike was stolen around 9th street. Sam will share it with Sam. Sam will share it with Sam.\n",
      "Ray's bike was stolen from the 9th street yesterday even though it was secured. It was a custom bike so now Ray's out few grand. Ray wants to post posters in the area so they'll get scared and leave it somewhere. Luke had one stolen last month from the same area. Sam wants to help out. \n",
      "\n",
      "\n",
      "Eric is betting on Champions League on 26th of June. Curtis is betting on the Champions League on 26th June.\n",
      "Eric wants to bet during the Champions League this year although he lost a lot of money last year. Curtis won't bet. \n",
      "\n",
      "\n",
      "Chandler will pay for the coffee tomorrow.\n",
      "Chandler will pay for his coffee tomorrow. \n",
      "\n",
      "\n",
      "Karen is ordering a dress for her 5th anniversary dinner. She is ordering it.\n",
      "Karen looked very good on her 5th anniversary dinner with Mark.  \n",
      "\n",
      "\n",
      "Jake and Jessica will meet on Friday night to meet up with Pia and Jessica.\n",
      "Ted, Jake, Pia, Jessica and Jess are having a reunion this Friday at the same place as the previous one. \n",
      "\n",
      "\n",
      "Julianna and Julianna are worried about the safety of the children.\n",
      "Julianna tells Bradley about Europe's law and the approach towards pedophiles. \n",
      "\n",
      "\n",
      "Lucia needs to cut her hair. Eric will come on Friday at 3 p.m. Lucia will cut her hair.\n",
      "Lucia needs a new hairstyle due to a change of work and she makes an appointment with Eric for Friday 3 p.m. \n",
      "\n",
      "\n",
      "Gabriella needs to send her CV to a perfect job. Gabriella has to send her CV to a perfect job. Gabriella has checked it and it's perfect.\n",
      "Gabriella asked Jasmine to check her CV which is in English. She's applying for a perfect job. Jasmine checked it and did only minor corrections. She hopes Gabriella will get the job. \n",
      "\n",
      "\n",
      "Grace saw Ruth in town. Ruth was in Galitos. Ruth was in Galitos. Grace will not need any invitation. Ruth will be in tomorrow. Grace will be in. Ruth will be in tomorrow.\n",
      "Grace saw Ruth in Galitos but she thought it would be embarassing to get in and greet her. They will meet tomorrow. \n",
      "\n",
      "\n",
      "Stella saw the apartment yesterday but it was already dark. Stella and Kerri will go again to see it in the morning. Stella and Kerri will go to the apartment with 3 bedrooms and 2 bathrooms. Stella and Kerri will go to the apartment tomorrow. Stella and Kerri will go to the apartment tomorrow.\n",
      "Stella wants to see the apartment in the morning. She plans to split it into 2 apartments. \n",
      "\n",
      "\n",
      "Andrea is looking for a job. She's looking for a kitty. She's looking for a kitty. She's looking for a kitty. Andrea will get a kitty's a free evening.\n",
      "Andrea must correct 50% of 20 short texts for an online shop. She has a deadline in two weeks. Sondra cannot help Andrea, because her cat is dying and nanny's leaving. Jill also cannot help. Sondra will probably have only one free evening in March and more free time probably in June.  \n",
      "\n",
      "\n",
      "Victor and Charles are going to the museum tonight. Victor and Charles are going to the museum. Victor and Charles are going to go to the sports bar afterwards.\n",
      "Charles will go with Victor to the museum tonight. There is an opening of an exhibition about cubism. There'll be food, music and VIPs. \n",
      "\n",
      "\n",
      "William and Elizabeth are arguing after the argument. Elizabeth and Blackett are arguing. William and Elizabeth are arguing with Blackett.\n",
      "Elizabeth had an argument with Blackett today, but she doesn't want William to intermeddle. \n",
      "\n",
      "\n",
      "Lily and Henry are going to meet William in a pub in Riehen next week. Henry and Lily are going to meet him again. Henry and Lily are going to meet him again.\n",
      "Henry and Lily take William with them to Riehen. They will meet with him for a coffee before they start, and eat a meal together afterwards. \n",
      "\n",
      "\n",
      "Linda is going to paint her room. Brian is going to ask Linda for help. Linda is going to ask her friends for help. Brian will check the results of Linda's work.\n",
      "According to Brian, colors that match Linda's personality are yellow and grey. \n",
      "\n",
      "\n",
      "Jimmy is worried about acid attacks in the stomach. Jimmy is worried about acid attacks in the stomach. Jimmy is worried about acid attacks in the stomach.\n",
      "Jimmy is going to take medication for a month to cure his acute gastritis. \n",
      "\n",
      "\n",
      "Peter is going to be back home in 2 days. Peter is going to cash in on a raincheck.\n",
      "Peter will be back home in 2 days. Mary would like to go on a date when he gets back. \n",
      "\n",
      "\n",
      "Jacob is not asleep yet. Jacob is not asleep yet. Jacob is not sure what to do with his mum.\n",
      "Neither Francesca nor Jacob can sleep. Jacob has suicidal thoughts.  \n",
      "\n",
      "\n",
      "Ted has twisted his ankle.\n",
      "Ted has twisted his ankle. \n",
      "\n",
      "\n",
      "Julie and Jake are going to buy a dog and a dog. Julie and Jake are going to buy a dog and a dog. Julie and Jake are going to buy a dog and a dog. Julie and Jake are going to buy a dog and a dog. Julie and Jake are going to buy a dog and a dog. Julie and Jake are going to buy a dog and a dog. Julie and Jake are going to buy a dog and a dog. Julie and Jake are going to buy a dog and a dog.\n",
      "Julie recommends the GlamRock cream from the GlamShop. Chloe got the money early so she can pay back Julie. Julie and Jake are getting the dog so they need the money for extra dog-related expenses. \n",
      "\n",
      "\n",
      "Pitt has sent Teddy a message on the FB messenger.\n",
      "Teddy has a message from Pitt on Messenger. \n",
      "\n",
      "\n",
      "Mary forgot to make it to her birthday party yesterday. Nick and Mary met a guy who is an architect. They ended up spending the whole week together.\n",
      "Mary didn't come to Nick's birthday party. She met an architect named Kirk. Mary and Nick will meet in the evening. \n",
      "\n",
      "\n",
      "Connor is tired to come to the meeting. Jade decided to go there. Connor is going to bed.\n",
      "Connor will not attend the meeting, he has to rest. Isaiah never wanted to go. \n",
      "\n",
      "\n",
      "Samara bought a dress at the wedding. Samara bought a dress from an online shop. Samara bought a dress from an online shop. Samara bought a dress from an online shop.\n",
      "Samara bought the dress she had at the wedding in an online shop and she was happy when she discovered it. \n",
      "\n",
      "\n",
      "Jack and Mary want to buy a Kindle and a Kindle. Jack and Mary want a Kindle. Jack will buy a Kindle and a Kindle. Jack will buy a Kindle and a Kindle. Jack will buy a Kindle and a Kindle.\n",
      "Mary, Kate, Peter and John want various items for Christmas. Gabi wants a surprise. Jack is unsure what he wants. Jack should let the rest know within a week.  \n",
      "\n",
      "\n",
      "Mindy was there. Jeff asked Mindy to add her input on the first presentation. Mindy didn't react very much. Jeff will double check.\n",
      "Jeff will double check Mindy's reaction, connected to her involvement in phase one of the project. \n",
      "\n",
      "\n",
      "Client: I am sorry that the bus arrived late, but the bus arrived late. I am sorry that the bus arrived late. I am sorry that the bus arrived late. I am sorry that the bus arrived late. I am sorry that the bus arrived late. I am sorry that the bus arrived late. I am sorry that the bus arrived late. I am sorry that the bus arrived late. I am sorry that the bus arrived late. I am sorry that the bus arrived late. I am sorry that the bus arrived late. I am sorry that the bus arrived late. I am sorry that\n",
      "Client informs Flix about a 40 minutes delay of the bus from Radom to Warsaw. Flix explains that this is an operational delay. Client decides to make a formal complaint as it wasn't the first such delay. \n",
      "\n",
      "\n",
      "Jeff will check the track at 5 pm tomorrow.\n",
      "Jeff, Ann, Corina, and Maria are going to hike tomorrow. Jeff reminds everyone to take good shoes, because they are going to walk over 20 km. Jeff, Ann, Corina, and Maria will take a bus on the way back at 5 PM. \n",
      "\n",
      "\n",
      "Joyce is running late today. Andrew is late. Carla is on her way. Helen is at a table by one of the windows at the front.\n",
      "Joyce and Andrew are running late. Carla and Anette are on their way. Helen is at a table by one of the windows at the front. \n",
      "\n",
      "\n",
      "Aiden hasn't subscribed to Mia's channel yet. Mia hasn't subscribed to it yet. Mia hasn't subscribed to it yet.\n",
      "Mia hasn't subscribed to Aiden's channel yet but she wants to. Aiden has been working on it for 6 months. \n",
      "\n",
      "\n",
      "Oli and Marcia are worried about the statistics exam. They are worried about the exam. Marcia and Oli are worried about the exam.\n",
      "Oli, Jacob and Marcia have to prepare for a very hard statistics exam. Last year, people had only one minute to answer each question and then it disappeared. \n",
      "\n",
      "\n",
      "Alexis is angry at Alexis for not letting Steven know that Steven is not a human being. Alexis is angry at Alexis for not letting Steven know that Steven is not a human being. Alexis is angry at Alexis for not letting Steven know that Steven is not a human being. Alexis is angry at Alexis for not letting Steven know that Steven is not a human being. Alexis is angry at Alexis for not letting Steven know that Steven is not a human being. Alexis is angry at Alexis for not\n",
      "Blake believes that Alexis is trying to turn their son, Steven, against him and has bad influence on Steven. Alexis believes Blake is self-centered and often attacks her and accuses her of things she didn't do.   \n",
      "\n",
      "\n",
      "Roberta found Makoto's dress. Makoto will send it to Roberta on Friday.\n",
      "Roberta found Makoto's dress and will send it to Makoto on Friday. \n",
      "\n",
      "\n",
      "Eleanor is wearing a sexy short black robe instead of a black robe. Sawyer is a little bit sexy. Eleanor is wearing a black robe instead of a black robe. Sawyer is a little bit sexy. Eleanor is a little bit sexy. Sawyer is a little bit sexy. Eleanor is a little bit sexy. Sawyer is a little bit sexy. Sawyer is a\n",
      "When Eleanor meets Sawyer, she will be wearing a slightly transparent black robe. Sawyer would like Eleanor to take a picture of herself in the robe, but the transparency is not visible on photos. \n",
      "\n",
      "\n",
      "Sam can't make it on time. Sandra will be 30 minutes late. Sam will be 30 minutes late.\n",
      "Sam will be 30 minutes late. Sandra and Staś will start without Sam. \n",
      "\n",
      "\n",
      "Sam has just got his 1st credit card. Tom is worried about getting into debts.\n",
      "Sam got her first credit card. \n",
      "\n",
      "\n",
      "James' girlfriend is a creative person. Fred is a snaftee. James' girlfriend is a snaftee.\n",
      "James's girlfriend made him put the trash bin near the kitchen window outside so she can throw things out of the window. \n",
      "\n",
      "\n",
      "Andrew and Andrew are going to the weekend. Matthew is bored and Andrew is out. Matthew is working this weekend. David is out.\n",
      "To Christopher's frustration, Matthew, Andrew and David refuse to go abroad for the weekend. \n",
      "\n",
      "\n",
      "Jessie is overwhelmed by her talk yesterday. Jessie is always here if she needs her. Jessie is always here if she needs her. Jessie is always here if she needs her.\n",
      "Francine and Jessie talked yesterday. The talk has been helpful for Jessie. Francine says she's always there for Jessie. Jessie is very thankful. \n",
      "\n",
      "\n",
      "Maria has cooked so much, Andrew will bring some wine. Martha will bring some wine for a night in Italy.\n",
      "Maria has cooked a lot of food. Andrew will bring some Italian wine. \n",
      "\n",
      "\n",
      "Hannah and Pamela saw Richard at the motherfucker.\n",
      "Richard took Hannah's parking spot again. Anne saw it. \n",
      "\n",
      "\n",
      "Sophia is not helpful at buying gifts.\n",
      "Sophie doesn't know what to buy for a gift. She wants Monica's help. She is considering buying a day spa gift card. Monica is bad at buying gifts. \n",
      "\n",
      "\n",
      "Nicki is going to sing the anthem at the game. Nicki is nervous. Nicki is nervous. Nicki has to rehearse her parents.\n",
      "Nicki is going to sing the anthem at the game. \n",
      "\n",
      "\n",
      "Carter bought Chloe a new pair of new socks. Victoria bought a new pair of gold equipment.\n",
      "Christmas is coming. Chloe will buy Carter new socks as he wears them unmatched. Victoria bought herself a new piece of gold equipment. \n",
      "\n",
      "\n",
      "Maryann recommends Acrylic nails and Linen nails. Maryann recommends Acrylic nails and Linen nails.\n",
      "Ammalee sent Maryann a photo of her nails that lasted over a month. Maryann will try Acrylic instead Linen on Ammalee's nails next time. Ammalee will send Maryann a photo of a design that she would like to have on her nails. \n",
      "\n",
      "\n",
      "Alan is studying with Laura after classes. Alan is making chicken wings. Alan is making his famous chicken wings. Alan is hurt.\n",
      "Alan is making his famous chicken wings and would like Joan to be home by 7. Joan won't make it as she is studying with Laura. \n",
      "\n",
      "\n",
      "Luke is messing with Johny on Tuesday. Luke is going to meet her. Luke is going to meet her again.\n",
      "Johny wants to go out clubbing with Luke in order to meet a female partner. Luke has plans but he advises Johny to install Tinder. Luke critisizes Johny for speaking about women without much respect. \n",
      "\n",
      "\n",
      "Rosie will come to Rosie's place.\n",
      "Rosie is on her way to meet Frank and will have to find him at Sports Direct. \n",
      "\n",
      "\n",
      "Kyle got maths homework. Patrick doesn't know. Kyle will need it tomorrow.\n",
      "Kyle reminds Patrick about their math homework for tomorrow. \n",
      "\n",
      "\n",
      "Ellen is tired of redecoration. She is tired of redecoration. She is finishing the redecoration.\n",
      "Ellen and Paul are doing the redecoration and it takes a lot of time. They want to finish it by Christmas but workers are permanently late. Kate is looking forward for the housewarming party. \n",
      "\n",
      "\n",
      "Nicola and Nicola will meet at the theatre at 8.15. Nicola and Nicola will meet at the theatre at the Alto Palermo at 7.30.\n",
      "Paola and her friends are going to the theatre El Rincón de Sánchez on Friday. They are going to see a play about Serbian family just after the war in Yugoslavia. Nicola and Austin will go to the theatre together. They will eat empanadas on their way. \n",
      "\n",
      "\n",
      "Harriet and Charlotte are studying in the library. Ben and Harriet are waiting for Ben.\n",
      "Vincent and Charlotte are studying in the cloister today. Harriet and Ben will go to the library.  \n",
      "\n",
      "\n",
      "Nickleby and Nickleby watch Channel 6 now.\n",
      "Stu is on channel 6 now. \n",
      "\n",
      "\n",
      "Jessie is doing this weekend. Jessie is always free. Jessie is always coming up with ideas.\n",
      "Jessie and Leo will hang out at the weekend, but Jessie has to come up with a place first.  \n",
      "\n",
      "\n",
      "Irma is not interested in playing tennis. John is not interested in playing tennis. Irma is not interested in playing tennis.\n",
      "Irma doesn't play tennis. John and Irma will enroll in tennis class at the community center. \n",
      "\n",
      "\n",
      "Olivia is in 15 and is in 15 and is in the carriage 3. Olivia is in 15 and Olivia is in 15 and is in the carriage 3.\n",
      "Jack has to find Olivia in carriage 3, because she has their tickets. \n",
      "\n",
      "\n",
      "Lionel is at a meeting.\n",
      "Lionel is in a meeting and can't talk. \n",
      "\n",
      "\n",
      "Will will give Will a number to fix his father's car.\n",
      "Will gived Rob the number of the car mechanic who fixed Will's father's car. \n",
      "\n",
      "\n",
      "Andrew is starting a new project next month. Rick is a bit worried about his work work. Andrew is a bit worried about his work work. Rick is a bit worried about his work work.\n",
      "Andrew, Nicky and Rick had a hard week at work. They just want to rest and do nothing. Andrew has a new project next month, and now he just wants to sleep and see kids. \n",
      "\n",
      "\n",
      "Olivia sent a picture of a cheesy emoji on her Instagram. Olivia will post it on Instagram.\n",
      "Olivia doesn't know how to caption the photo she wants to put on Instagram. Taylor gives Olivia some hints. \n",
      "\n",
      "\n",
      "John and Ian will meet at St.Monica at 8.00.\n",
      "Ian and John will meet at St. Monica at 8.00. \n",
      "\n",
      "\n",
      "Ali needs a hard drive. Kane will take it.\n",
      "Ali is coming to Kane to get the hard drive. \n",
      "\n",
      "\n",
      "Noah is building a snowman. Noah is a jogger. Noah is a snowman. Noah is a jogger.\n",
      "It's snowing outside. \n",
      "\n",
      "\n",
      "Ava is blocking Ava on fb.\n",
      "Ava doesn't want to talk to Greg any more and she's blocking him on Facebook.  \n",
      "\n",
      "\n",
      "Shelly is looking for a fall coat. Porter and Shelly will take a lunch.\n",
      "During early lunchtime, Shelly will come to Porter to take a look at wool fall coats which have arrived today.  \n",
      "\n",
      "\n",
      "Connor and Kyle played at the Berlin gig.\n",
      "Connor is looking for a playlist from the Berlin concert. Kyle directs him to the band's official Twitter account. \n",
      "\n",
      "\n",
      "Jeniffer and Brooke are in New York. Jeniffer and Brooke are in New York. Jeniffer and Brooke are in New York. Jeniffer and Brooke are in New York.\n",
      "Jeniffer and Brooke're in New York now. They've been also to Connecticut, Massachusetts and Rhode Island. The thing Jeniffer likes the most in America is diversity while in Brooke's opinion it's urban splendor. \n",
      "\n",
      "\n",
      "Max is sorry Lucas didn't know what got into Max. Mason is going to meet Max and talk about it.\n",
      "Max is sorry about his behaviour so wants to meet up with Lucas and Mason. Lucas will let him know.  \n",
      "\n",
      "\n",
      "Ted has been busy today. He will send O'Neill a photo later.\n",
      "O'Neill is worried about not having heard from Ted. Ted is fine and is going to send a photo later. \n",
      "\n",
      "\n",
      "Justin and Justin are in Poland.\n",
      "It's getting cooler in Poland, because winter is coming. Justin hasn't seen the last episode of Game of Thrones yet. \n",
      "\n",
      "\n"
     ]
    }
   ],
   "source": [
    "for y_t, y_p in zip(tuner_ob.dataset['y'], outputs1):\n",
    "    print(y_p)\n",
    "    print(y_t,'\\n\\n')"
   ]
  },
  {
   "cell_type": "code",
   "execution_count": 19,
   "id": "5745852b",
   "metadata": {
    "scrolled": true
   },
   "outputs": [
    {
     "name": "stdout",
     "output_type": "stream",
     "text": [
      "['Amanda baked cookies. Jerry will bring Amanda tomorrow.', 'Olivia is voting for Liberals.', \"Kim is going to do a lot of stuff but she's procrastin\", 'Edward is in ove with Rachel.', 'Sam is worried about rick saying something to her roommate. He told them that he', 'Neville got married on September 17. Wyatt will ask her wife to check on her wedding', 'Cassandra will check the homework for John in 20 minutes. John will check it', \"James found a song on youtube. He doesn't like it. He listens\", 'Noah quit his job and quit his job. Madison thinks Noah liked it.', 'Matt and Agnes are going to the Georgian restaurant in Kazimierz on Saturday at', 'Lucas is going to Death & Co tonight at 10 pm.', 'Mark will send George the tracking number tomorrow.', 'Anita is at the station in Bologna. Jenny is not able to get', 'Arthur is looking for a junior project manager at his company. He has an offer as', 'Macca is in Iceland. She has never done ice climbing before.', 'Isabella is not able to get up to work today. She needs to call in sick', 'Lucy will send Lucy 50 bucks to her bank account tomorrow.', 'Betty is worried about her drinking too much wine. Amber is worried about her drinking too much', 'Mike will visit his grandma tonight.', 'Laura is done for today. Kim will call her at 7 to confirm.', 'Ashley is reading a book that is a great one. Erin is already sold.', 'Aria met Charlie Evans. He has two daughters. Maverick and Aria haven', 'Anna is at home. Omenah will be there in a minute.', 'Rachel is feeling very well. Layla is having knee surgery. Rachel is looking for a', 'Jonas is running 10 minutes late. Natalie will present her with a seat for her', 'Lawrence is offended by the team this season. He is disappointed with the quality of the team', 'Jade and Wayne are going to the trip.', 'Jason will send Natalie all the names of the spices she needs to remember in two weeks. Natalie', 'Alice, Sadie and Arthur will come for drinks tonight at Mombasa. They will be', 'Amy will be home around 6 and will go to Alex tomorrow. Hal will try to go to', \"Ray's bike was stolen yesterday. Sam will share it with Sam.\", 'Eric is betting on Champions League on 26th of June. Curtis is not into risk', 'Chandler will pay for the coffee tomorrow.', 'Karen is ordering a dress for her 5th anniversary dinner. She is ordering it.', 'Jake and Jessica will meet on Friday night to discuss the reunion.', 'Julianna and Julianna are worried about the safety of children.', 'Lucia needs to cut her hair. Eric will come on Friday at 3 p.m', 'Gabriella needs to send her CV in English to a perfect job. Jasmine will', 'Grace saw Ruth in town. Ruth was in Galitos. Ruth will not need any', 'Stella saw the apartment yesterday but it was already dark. Kerri and Stella are going', \"Andrea is looking for a job. She's looking for a cat. She'\", 'Victor and Charles are going to the museum tonight. Victor will go to a sports bar afterwards', 'William and Elizabeth are arguing after the argument. They will solve it.', 'Lily and Henry are going to meet William in a pub. Henry will pick him up', \"Linda is going to paint her room. Brian will come to Linda's home and check the\", \"Jimmy is worried about acid attacks in the stomach. He's not lying to him.\", 'Peter is going to be back home in 2 days. Mary is hoping to cash in on', 'Jacob is not asleep yet. Francesca is not asleep yet. Jacob is worried about her', 'Ted has twisted his ankle.', 'Julie and Jake are going to buy a dog and a dog. Julie and Jake are', 'Pitt has sent Teddy a message on the FB messenger.', 'Mary forgot to make it to her birthday party yesterday. Nick and Mary met a guy who', 'Connor is tired to come to the meeting. Jade decided to go there. Connor', 'Samara bought a dress at the wedding. Samara bought a dress from an online', 'Jack and Mary want to buy a gift for Christmas. Jack will pass Jack the Amazon link', 'Mindy was there. Jeff asked Mindy to add her input on the first presentation. Mind', 'Client: I am sorry that the bus arrived late, but the timetable is too optimistic.', 'Jeff will check the track at 5 pm tomorrow.', 'Joyce is running late today. Andrew is a wee bit late but will be there before', \"Aiden hasn't subscribed to Mia's channel yet. Mia has\", 'Oli and Marcia are worried about the statistics exam. They are worried about the exam.', 'Alexis is angry at Steven for not letting him talk to him. Alexis is angry', \"Roberta found Makoto's dress. Makoto will send it to Roberta\", 'Eleanor is wearing a black robe instead of a black robe. Saw', \"Sam can't make it on time. Sandra will be 30 minutes late.\", 'Sam has just got his 1st credit card. Tom is worried about getting into debts', \"James' girlfriend is a creative person. Fred will let him put the trash bin near the\", 'Andrew and David are going to the weekend. Matthew is working this weekend. David is out.', 'Jessie is overwhelmed by her talk yesterday. Jessie is always here if she', 'Maria has cooked so much, Andrew will bring some wine. Martha will bring some wine for', 'Hannah and Pamela saw Richard at the motherfucker.', 'Sophia is not helpful at buying gifts.', 'Nicki is going to sing the anthem at the game. Nicki has to', 'Carter bought Chloe a new pair of socks. Victoria gave up for the second', 'Maryann recommends Acrylic nails and Linen. Maryann recommends Acrylic nails and', 'Alan is studying with Laura after classes. Joan is studying with Laura. Alan is making chicken wings', \"Luke is messing with Johny on Tuesday. He's going to meet her again tonight\", 'Rosie will come to Sports Direct store. Frank will look for Rosie there.', \"Kyle got maths homework. Patrick doesn't know what to do tomorrow.\", \"Ellen is tired of redecoration. She's working on the kitchen floor tiles.\", 'Nicola and Austin will meet at the theatre at 8.15. They will meet at the', 'Harriet and Charlotte are studying in the library. Ben will join them.', 'Nickleby and Palin are watching Channel 6 now.', 'Jessie is doing this weekend. She is always free. She is going to hang out', 'Irma is not interested in playing tennis. John is not interested in enrolling in', \"Olivia is in 15 and she's not sure where she is. Jack is in 15 and\", 'Lionel is at a meeting.', \"Will will give Rob a number to fix his father's car.\", 'Andrew is starting a new project next month. Rick is going to do nothing.', 'Olivia sent a picture of her in the lake yesterday. Taylor is looking for a picture', 'John and Ian will meet at St.Monica at 8.00.', 'Ali needs a hard drive. Kane will take it.', 'Noah is building a snowman. Noah will build an Olaf.', 'Ava is blocking Ava on fb.', 'Shelly is looking for a fall coat. Porter and Shelly will take an early lunch', 'Connor and Kyle played at the Berlin gig.', \"Jeniffer and Brooke are in New York. They've been to Connecticut and Massachusetts\", \"Max is sorry Lucas didn't know what got into him. Mason will meet Max and talk\", \"Ted has been busy today. He will send O'Neill a photo later.\", 'Justin and Tom are in Poland.']\n"
     ]
    }
   ],
   "source": [
    "print(outputs1)"
   ]
  },
  {
   "cell_type": "code",
   "execution_count": 17,
   "id": "22995afc",
   "metadata": {},
   "outputs": [
    {
     "name": "stdout",
     "output_type": "stream",
     "text": [
      "['Amanda will bring Jerry some cookies tomorrow.', 'Olivia and Oliver are voting for Liberals.', \"Kim is going to do some toy stuff he's going to do tomorrow. Kim will use Pomodoro technique. Kim and Kim want to do something other than to do things.\", 'Rachel is invited to a party outside.', 'Sam is being bullied by rick. Naomi is not going to talk to him. Sam is not sure if he is going to talk with him.', 'Neville got married on September 17. Wyatt will ask her wife about the issue.', \"Cassandra had some homework for her next week. John will check the homework for her tomorrow. Cassandra has a boss with him because he doesn't want to fix everything for everyone. John will drive her home and go to a bar. Cassandra and John will drive her home.\", 'James has found a song on your playlist. James loves the song with music. He is upset that the music has no lyrics.', 'Noah has quit his job and has a new boss.', 'Matt will pick Agnes up on Saturday at 6 pm for a date.', 'Lucas and Demi will meet at Death & Co. tonight.', 'Mark is sending the goods to George tomorrow.', 'Anita is at the station in Bologna. Jenny and Tomy are on the same route.', 'Arthur is looking for a junior project manager at his company. They will call him in to find out how he works.', 'Macca spent the day doing ice climbing.', \"Isabella is not able to get up to work today. Oscar doesn't have a heart to stop it. Oscar is going to call in sick. Isabella is a fallen woman and cannot get back to the office.\", \"Lucy is sending Tina 50 bucks. Lucy has already transferred the money, but it's Sunday.\", 'Betty and Amber are worried about weeding their wine.', \"Mike will visit Mary's grandma tonight. He's going to visit her and buy some chocolate for her.\", 'Laura is done today and her friends will come back home together at 7 on Monday. Kim will call her.', \"Ashley loves Coelho, but Erin doesn't like it. Ashley hates Coelho and Ashley hates it.\", 'Aria met Chris Evans. He has two daughters. He is a good husband.', 'Anna will be at home with Omenah in a minute.', 'Rachel is feeling very good about Layla, she may have arthritis. She has recently been taken to the vet, so she may have a job. Rachel is sending her lots of love.', 'Jonas is running 20 minutes late. Natalie wants to come and have a seat for her. Olivia will save a seat for her.', 'Lawrence is surprised to see the quality of the team. He is frustrated with their performance.', 'Wayne is going to see a trip to Hawaii. Jade will make it.', 'Jason will buy some spices for Natalie in Thailand next week. Natalie will get a picture of the names she has to remind him in two weeks.', 'Alice and Sadie will come to Mombasa. Arthur will come with Alice and Kai. Mary will join them.', \"Amy doesn't need any homework tomorrow. Hal isn't home yet, and she'll try to go to Alex tomorrow. Amy will try to go home around 6 and then go to Alex tomorrow.\", 'Ray bought Ray a bike yesterday. She parked around on the 9th street. She is going to post it on Facebook. Sam will share the bike with Sam.', 'Curtis is thinking of a European Champions League match against the Manchester United team on 26 June.', 'Chandler will pay him for coffee tomorrow.', 'Karen is ordering a dress that is a 5th anniversary dinner. He will choose it first.', 'Jessica and Jake are planning an event for the reunion. Ted will book rooms.', 'Julianna and Julianna think it is safe to see a teacher touching a child.', \"Lucia's hairstyle has been done a week ago. Eric suggests a haircut on Friday around 3 p.m. Lucia is preparing to change the job and he will give Eric a call at 3 pm.\", 'Gabriella has to send Jasmine a CV in English to a professional role, as she has to work on a perfect job. Gabriella will check it as soon as possible.', \"Grace and Ruth met yesterday in Galitos. Ruth was in Galitos and she forgot about anything. Ruth will give her pizza and she'll call them tomorrow.\", 'Stella is driving to the apartment. Stella saw it yesterday but it was already dark. Stella is going to spend his free time in the big one with 3 bedrooms and 2 bathrooms.', \"Andrea is looking for a job to fix an online shop that is causing her cat to die. It's expected to have a window in June in hopes of getting all the help she needs to help.\", \"Victor and Charles are going to the museum tonight. Victor doesn't like seeing the exhibition and will go to a sports bar afterwards.\", 'William and Elizabeth were arguing with Blackett recently. William has no idea the argument happened.', 'Henry and Lily are going to talk about William. They will meet for lunch in Riehen next week. They will meet again soon.', 'Linda is going to have her room painted with yellow and grey. Brian will come and check the results of her work soon. Linda is invited.', \"Jimmy is getting a headache and he is worried about acid attacks in the stomach. Jimmy is not lying to him, but he's ready to take some tablets for a month.\", 'Mary will be back home in 2 days. Peter and Mary will meet up in two days.', 'Francesca is not asleep yet, but Jacob may be feeling sleepy in the morning. Jacob is worried about her mum, school, her parents, her mom and her mum.', 'Ted has twisted his ankle and is doing well.', 'Julie and Jake are going to buy a dog. Julie is worried because they have a big house.', 'Pitt sent Teddy a message.', 'Mary forgot to make it to her bday party yesterday. Nick is a good writer, and Mary met Kirk, an architect. She is going to be a bit distracted this afternoon.', \"Connor is too tired to go to the meeting because he's not planning to go there. Jade didn't plan to go there. Connor will go to bed.\", 'Samara bought a dress she had at the wedding, at an online shop. Samara bought the dress at a wedding.', \"Jack and Mary are unsure about buying a gift for Christmas. Jack asked him to buy a gift from John's daughter.\", 'Mindy was in the first presentation but she said something.', \"Client: I would like to wait for a bus to arrive at the station, but it has gone too long. I am sorry that the bus has been delayed about 40 minutes. Flix's manager should inform the managers about the situation.\", 'Jeff has just packed Ann and Corina. He is going to take the bus back to the lighthouse. He will check the busses there.', \"Joyce is running late today. Andrew is in the first place but will be there before 8. Carla will come to her home in Anette's place. Helen is at a table by one of the windows at the front.\", \"Aiden has subscribed to Mia's channel. Mia hasn't been working on it in 6 months.\", \"Oli's fourth year in the statistics exam.\", \"Blake doesn't want Steven's son. Alexis doesn't want him to stop.\", 'Roberta and Makoto sent Makoto a picture of her dress from the summer.', \"Eleanor is in sexy brief black robe. She doesn't wear the robe, but she wants to take a better one.\", \"Sam can't make it on time, so she's sorry. Sandra will be 30 minutes late.\", 'Sam just got his first credit card. He is not afraid of getting into debts.', \"James' girlfriend is a creative woman. Fred will put the trash bin near the window outside because it makes him feel creative.\", 'Andrew is out due to his long-term job. Matthew is working this weekend.', 'Jessie and Jessie talked yesterday and were just able to calm down after the talk. Francine is always here and is always up when you need him.', \"Maria hasn't cooked much. Andrew will bring some wine with Martha and Martha.\", 'Hannah and Pamela saw Richard at the motherfucker.', \"Sophia is going to buy some spa gift card. Monica doesn't know what she wants.\", 'Nicki will sing the anthem at the game.', 'Carter bought Chloe a new pair of socks and Victoria gave them up for the second dive today.', \"Maryann recommends Acrylic nails and Linen, and she recommends Acrylic nails and Linen. They're good for long-lasting nails.\", 'Joan is studying with Laura after classes. Alan will be home by 7. She is making chicken wings. Joan is hurt.', \"Luke hates being a chick because the girl on Tuesday is sexy. Johny doesn't want to go to the wedding tonight.\", 'Rosie will buy a sports car for Rosie and Peter. They will go to sports stores in Morrisons. Rosie will look for him and see him soon.', 'Kyle has Maths homework tomorrow. Patrick will need it.', \"Ellen is worried about her redecoration. She is worried about Paul's help. Kate doesn't know how the redecoration will go. Ellen tries to buy some beer. Paul's working the best he can. The redecoration will be ready by Christmas.\", \"Paola is coming to the theatre and she's interested in the play El Rincón de Sánchez. She and Austin will meet at the theatre at 7.30 and will be coming from work. Austin and Nicola will meet at the Alto Palermo shopping mall at 7.30.\", 'Ben will go to the library with Harriet and Charlotte.', 'Nickleby and Nickleby are watching Channel 6 right now.', \"Jessie is doing this weekend. She's always free so she wants to go out. She might invite Leo and Jessie to come out.\", \"Irma doesn't like playing tennis. John has a bad comment.\", 'Jack is in 15 years of age and he will not be able to travel. Olivia is on a trip with Olivia in 15 minutes.', \"Lionel is at Pete's meeting, can't talk to Lionel.\", 'Will will help Rob with a mechanic.', 'Andrew is starting a new project next month. Rick and Andrew are going to sleep.', 'Olivia sent a picture of her as she sent it yesterday by the lake. Taylor is looking for it. Olivia may add to the picture.', 'John will come to St.Monica for a ride at 8.00.', \"Ali will take Kane's hard drive.\", 'Noah will build a snowman on Elm Street. Noah wants to build an Olaf to build a snowman.', 'Greg and Ava have not talked over yet.', 'Shelly is looking for a fall coat. Porter and Shelly want to buy wool ones.', 'Kyle and Connor went to the Berlin gig. He posted the set list and he was so excited.', 'Jeniffer is in New York. They have been to Connecticut, Massachusetts, Rhode Island, Connecticut, Rhode Island. They are both in New York. Jeniffer likes diversity.', \"Max is sorry Lucas doesn't know what he was thinking. Mason might let Max know.\", \"O'Neill has been busy today. Ted is not going to send O'Neill a photo.\", 'Justin and Tom are excited about new episodes of Game of Thrones.']\n"
     ]
    }
   ],
   "source": [
    "print(outputs1)"
   ]
  },
  {
   "cell_type": "code",
   "execution_count": 13,
   "id": "5bec4531",
   "metadata": {},
   "outputs": [
    {
     "data": {
      "text/plain": [
       "'\\n5 fold means, whole sample set of 100 examples will be split into 80:20 ratio\\nfor each hyper_parameter set we have a model f(hyper_params)\\n    - we will evaluate this model and get the cross val score (test on each 20 samples 5 times, while training on the rest 80 each time)\\n    - we get the score on the quality of hyperparams by evaluating the model with the hyperparams on the unseen 1 fold\\n'"
      ]
     },
     "execution_count": 13,
     "metadata": {},
     "output_type": "execute_result"
    }
   ],
   "source": [
    "hyp_param_grid = {\n",
    "    \"max_new_tokens\": [120],\n",
    "    \"temperature\": list(np.linspace(start=0.1, stop=1.0,num=10)),\n",
    "    'top_k' : list(map(int,np.linspace(start=10, stop=50,num=5))),\n",
    "    \"top_p\": [0.75, 0.8, 0.9, 1.0],\n",
    "    'do_sample' : [True, False],\n",
    "    'generation_seed' : [42],\n",
    "    'repetition_penalty' : [1.0, 1.2],\n",
    "    'no_repeat_ngram_size' : [0,2,3],\n",
    "}\n",
    "\n",
    "hyp_param_grid_2= {\n",
    "    \"max_new_tokens\": [120],\n",
    "    \"temperature\": list(np.linspace(start=0.1, stop=1.0,num=10000)),\n",
    "    'top_k' : list(map(int,np.linspace(start=10, stop=50,num=5000))),\n",
    "    \"top_p\": list(map(int,np.linspace(start=10, stop=50,num=5000))),\n",
    "    'do_sample' : [True],\n",
    "    'generation_seed' : [42],\n",
    "    'num_beams' : [1],\n",
    "#     'repetition_penalty' : [1.0, 1.2],\n",
    "#     'no_repeat_ngram_size' : [0,2,3],\n",
    "}\n",
    "\n",
    "scorer = make_scorer(score_func=get_rouge_score, greater_is_better=True)\n",
    "\n",
    "\n",
    "clf = RandomizedSearchCV(\n",
    "    estimator=tuner_ob.estimator,\n",
    "    param_distributions=hyp_param_grid_2,\n",
    "    n_iter = 2,\n",
    "    scoring=scorer,\n",
    "    cv=5,\n",
    "    random_state = 42,\n",
    "    n_jobs=None,\n",
    ")\n",
    "\n",
    "\"\"\"\n",
    "5 fold means, whole sample set of 100 examples will be split into 80:20 ratio\n",
    "for each hyper_parameter set we have a model f(hyper_params)\n",
    "    - we will evaluate this model and get the cross val score (test on each 20 samples 5 times, while training on the rest 80 each time)\n",
    "    - we get the score on the quality of hyperparams by evaluating the model with the hyperparams on the unseen 1 fold\n",
    "\"\"\"\n"
   ]
  },
  {
   "cell_type": "code",
   "execution_count": 1,
   "id": "6f070d53",
   "metadata": {},
   "outputs": [
    {
     "ename": "SyntaxError",
     "evalue": "cannot assign to literal (826511956.py, line 1)",
     "output_type": "error",
     "traceback": [
      "\u001b[0;36m  Cell \u001b[0;32mIn[1], line 1\u001b[0;36m\u001b[0m\n\u001b[0;31m    1 = 1/0\u001b[0m\n\u001b[0m    ^\u001b[0m\n\u001b[0;31mSyntaxError\u001b[0m\u001b[0;31m:\u001b[0m cannot assign to literal\n"
     ]
    }
   ],
   "source": [
    "1 = 1/0"
   ]
  },
  {
   "cell_type": "code",
   "execution_count": 14,
   "id": "1967d672",
   "metadata": {
    "scrolled": true
   },
   "outputs": [
    {
     "name": "stderr",
     "output_type": "stream",
     "text": [
      "2023-08-13 16:09:42.692 - llmsearch.utils.mem_utils:145 - INFO - Starting inference with generation parameters - {'top_p': 36, 'top_k': 17, 'temperature': 0.6999099909990999, 'num_beams': 1, 'max_new_tokens': 120, 'generation_seed': 42, 'do_sample': True}\n",
      "2023-08-13 16:09:42.692 - llmsearch.utils.mem_utils:149 - INFO - Performing inference with batch_size - 512\n",
      "2023-08-13 16:09:42.693 - llmsearch.utils.model_utils:101 - INFO - Detected generation type - Sampling\n"
     ]
    },
    {
     "data": {
      "application/vnd.jupyter.widget-view+json": {
       "model_id": "d9593c63eb8f4ed582d25eddfb0309da",
       "version_major": 2,
       "version_minor": 0
      },
      "text/plain": [
       "  0%|          | 0/1 [00:00<?, ?it/s]"
      ]
     },
     "metadata": {},
     "output_type": "display_data"
    },
    {
     "name": "stderr",
     "output_type": "stream",
     "text": [
      "/Users/praful932/Library/Caches/pypoetry/virtualenvs/bhaasha-VBcDHvMD-py3.8/lib/python3.8/site-packages/transformers/generation/utils.py:719: UserWarning: MPS: no support for int64 repeats mask, casting it to int32 (Triggered internally at /Users/runner/work/pytorch/pytorch/pytorch/aten/src/ATen/native/mps/operations/Repeat.mm:236.)\n",
      "  input_ids = input_ids.repeat_interleave(expand_size, dim=0)\n",
      "/Users/praful932/Library/Caches/pypoetry/virtualenvs/bhaasha-VBcDHvMD-py3.8/lib/python3.8/site-packages/transformers/generation/utils.py:2671: UserWarning: MPS: no support for int64 min/max ops, casting it to int32 (Triggered internally at /Users/runner/work/pytorch/pytorch/pytorch/aten/src/ATen/native/mps/operations/ReduceOps.mm:1271.)\n",
      "  if unfinished_sequences.max() == 0:\n",
      "2023-08-13 16:09:56.295 - llmsearch.utils.mem_utils:179 - INFO - Finished running inference, took 13.602621 secs\n",
      "2023-08-13 16:09:56.384 - llmsearch.utils.mem_utils:145 - INFO - Starting inference with generation parameters - {'top_p': 36, 'top_k': 17, 'temperature': 0.6999099909990999, 'num_beams': 1, 'max_new_tokens': 120, 'generation_seed': 42, 'do_sample': True}\n",
      "2023-08-13 16:09:56.385 - llmsearch.utils.mem_utils:149 - INFO - Performing inference with batch_size - 512\n",
      "2023-08-13 16:09:56.385 - llmsearch.utils.model_utils:101 - INFO - Detected generation type - Sampling\n"
     ]
    },
    {
     "data": {
      "application/vnd.jupyter.widget-view+json": {
       "model_id": "26d443ecb04045b9950f8021842a1e53",
       "version_major": 2,
       "version_minor": 0
      },
      "text/plain": [
       "  0%|          | 0/1 [00:00<?, ?it/s]"
      ]
     },
     "metadata": {},
     "output_type": "display_data"
    },
    {
     "name": "stderr",
     "output_type": "stream",
     "text": [
      "2023-08-13 16:10:00.067 - llmsearch.utils.mem_utils:179 - INFO - Finished running inference, took 3.681773 secs\n",
      "2023-08-13 16:10:00.154 - llmsearch.utils.mem_utils:145 - INFO - Starting inference with generation parameters - {'top_p': 36, 'top_k': 17, 'temperature': 0.6999099909990999, 'num_beams': 1, 'max_new_tokens': 120, 'generation_seed': 42, 'do_sample': True}\n",
      "2023-08-13 16:10:00.155 - llmsearch.utils.mem_utils:149 - INFO - Performing inference with batch_size - 512\n",
      "2023-08-13 16:10:00.155 - llmsearch.utils.model_utils:101 - INFO - Detected generation type - Sampling\n"
     ]
    },
    {
     "data": {
      "application/vnd.jupyter.widget-view+json": {
       "model_id": "5d199df5a22949c1bc7da68044923ff3",
       "version_major": 2,
       "version_minor": 0
      },
      "text/plain": [
       "  0%|          | 0/1 [00:00<?, ?it/s]"
      ]
     },
     "metadata": {},
     "output_type": "display_data"
    },
    {
     "name": "stderr",
     "output_type": "stream",
     "text": [
      "2023-08-13 16:10:03.307 - llmsearch.utils.mem_utils:179 - INFO - Finished running inference, took 3.152030 secs\n",
      "2023-08-13 16:10:03.395 - llmsearch.utils.mem_utils:145 - INFO - Starting inference with generation parameters - {'top_p': 36, 'top_k': 17, 'temperature': 0.6999099909990999, 'num_beams': 1, 'max_new_tokens': 120, 'generation_seed': 42, 'do_sample': True}\n",
      "2023-08-13 16:10:03.395 - llmsearch.utils.mem_utils:149 - INFO - Performing inference with batch_size - 512\n",
      "2023-08-13 16:10:03.395 - llmsearch.utils.model_utils:101 - INFO - Detected generation type - Sampling\n"
     ]
    },
    {
     "data": {
      "application/vnd.jupyter.widget-view+json": {
       "model_id": "fdba44621d814919883854c4d74e402d",
       "version_major": 2,
       "version_minor": 0
      },
      "text/plain": [
       "  0%|          | 0/1 [00:00<?, ?it/s]"
      ]
     },
     "metadata": {},
     "output_type": "display_data"
    },
    {
     "name": "stderr",
     "output_type": "stream",
     "text": [
      "2023-08-13 16:10:10.357 - llmsearch.utils.mem_utils:179 - INFO - Finished running inference, took 6.961224 secs\n",
      "2023-08-13 16:10:10.445 - llmsearch.utils.mem_utils:145 - INFO - Starting inference with generation parameters - {'top_p': 36, 'top_k': 17, 'temperature': 0.6999099909990999, 'num_beams': 1, 'max_new_tokens': 120, 'generation_seed': 42, 'do_sample': True}\n",
      "2023-08-13 16:10:10.445 - llmsearch.utils.mem_utils:149 - INFO - Performing inference with batch_size - 512\n",
      "2023-08-13 16:10:10.446 - llmsearch.utils.model_utils:101 - INFO - Detected generation type - Sampling\n"
     ]
    },
    {
     "data": {
      "application/vnd.jupyter.widget-view+json": {
       "model_id": "4ad593cb10624b81884f6f3798c50d57",
       "version_major": 2,
       "version_minor": 0
      },
      "text/plain": [
       "  0%|          | 0/1 [00:00<?, ?it/s]"
      ]
     },
     "metadata": {},
     "output_type": "display_data"
    },
    {
     "name": "stderr",
     "output_type": "stream",
     "text": [
      "2023-08-13 16:10:12.834 - llmsearch.utils.mem_utils:179 - INFO - Finished running inference, took 2.388126 secs\n",
      "2023-08-13 16:10:12.918 - llmsearch.utils.mem_utils:145 - INFO - Starting inference with generation parameters - {'top_p': 15, 'top_k': 45, 'temperature': 0.5357335733573357, 'num_beams': 1, 'max_new_tokens': 120, 'generation_seed': 42, 'do_sample': True}\n",
      "2023-08-13 16:10:12.919 - llmsearch.utils.mem_utils:149 - INFO - Performing inference with batch_size - 512\n",
      "2023-08-13 16:10:12.919 - llmsearch.utils.model_utils:101 - INFO - Detected generation type - Sampling\n"
     ]
    },
    {
     "data": {
      "application/vnd.jupyter.widget-view+json": {
       "model_id": "527a8228b2954b418adc148d4964d7e5",
       "version_major": 2,
       "version_minor": 0
      },
      "text/plain": [
       "  0%|          | 0/1 [00:00<?, ?it/s]"
      ]
     },
     "metadata": {},
     "output_type": "display_data"
    },
    {
     "name": "stderr",
     "output_type": "stream",
     "text": [
      "2023-08-13 16:10:15.993 - llmsearch.utils.mem_utils:179 - INFO - Finished running inference, took 3.073820 secs\n",
      "2023-08-13 16:10:16.076 - llmsearch.utils.mem_utils:145 - INFO - Starting inference with generation parameters - {'top_p': 15, 'top_k': 45, 'temperature': 0.5357335733573357, 'num_beams': 1, 'max_new_tokens': 120, 'generation_seed': 42, 'do_sample': True}\n",
      "2023-08-13 16:10:16.076 - llmsearch.utils.mem_utils:149 - INFO - Performing inference with batch_size - 512\n",
      "2023-08-13 16:10:16.077 - llmsearch.utils.model_utils:101 - INFO - Detected generation type - Sampling\n"
     ]
    },
    {
     "data": {
      "application/vnd.jupyter.widget-view+json": {
       "model_id": "8ca482b59dfd458ca41b9407f4d62cb7",
       "version_major": 2,
       "version_minor": 0
      },
      "text/plain": [
       "  0%|          | 0/1 [00:00<?, ?it/s]"
      ]
     },
     "metadata": {},
     "output_type": "display_data"
    },
    {
     "name": "stderr",
     "output_type": "stream",
     "text": [
      "2023-08-13 16:10:21.293 - llmsearch.utils.mem_utils:179 - INFO - Finished running inference, took 5.215927 secs\n",
      "2023-08-13 16:10:21.380 - llmsearch.utils.mem_utils:145 - INFO - Starting inference with generation parameters - {'top_p': 15, 'top_k': 45, 'temperature': 0.5357335733573357, 'num_beams': 1, 'max_new_tokens': 120, 'generation_seed': 42, 'do_sample': True}\n",
      "2023-08-13 16:10:21.381 - llmsearch.utils.mem_utils:149 - INFO - Performing inference with batch_size - 512\n",
      "2023-08-13 16:10:21.381 - llmsearch.utils.model_utils:101 - INFO - Detected generation type - Sampling\n"
     ]
    },
    {
     "data": {
      "application/vnd.jupyter.widget-view+json": {
       "model_id": "773243ec44f64a05b5d94130484849d7",
       "version_major": 2,
       "version_minor": 0
      },
      "text/plain": [
       "  0%|          | 0/1 [00:00<?, ?it/s]"
      ]
     },
     "metadata": {},
     "output_type": "display_data"
    },
    {
     "name": "stderr",
     "output_type": "stream",
     "text": [
      "2023-08-13 16:10:23.803 - llmsearch.utils.mem_utils:179 - INFO - Finished running inference, took 2.421913 secs\n",
      "2023-08-13 16:10:23.889 - llmsearch.utils.mem_utils:145 - INFO - Starting inference with generation parameters - {'top_p': 15, 'top_k': 45, 'temperature': 0.5357335733573357, 'num_beams': 1, 'max_new_tokens': 120, 'generation_seed': 42, 'do_sample': True}\n",
      "2023-08-13 16:10:23.889 - llmsearch.utils.mem_utils:149 - INFO - Performing inference with batch_size - 512\n",
      "2023-08-13 16:10:23.889 - llmsearch.utils.model_utils:101 - INFO - Detected generation type - Sampling\n"
     ]
    },
    {
     "data": {
      "application/vnd.jupyter.widget-view+json": {
       "model_id": "68b53159beab44debbd213c43b2bf992",
       "version_major": 2,
       "version_minor": 0
      },
      "text/plain": [
       "  0%|          | 0/1 [00:00<?, ?it/s]"
      ]
     },
     "metadata": {},
     "output_type": "display_data"
    },
    {
     "name": "stderr",
     "output_type": "stream",
     "text": [
      "2023-08-13 16:10:26.772 - llmsearch.utils.mem_utils:179 - INFO - Finished running inference, took 2.882948 secs\n",
      "2023-08-13 16:10:26.860 - llmsearch.utils.mem_utils:145 - INFO - Starting inference with generation parameters - {'top_p': 15, 'top_k': 45, 'temperature': 0.5357335733573357, 'num_beams': 1, 'max_new_tokens': 120, 'generation_seed': 42, 'do_sample': True}\n",
      "2023-08-13 16:10:26.861 - llmsearch.utils.mem_utils:149 - INFO - Performing inference with batch_size - 512\n",
      "2023-08-13 16:10:26.861 - llmsearch.utils.model_utils:101 - INFO - Detected generation type - Sampling\n"
     ]
    },
    {
     "data": {
      "application/vnd.jupyter.widget-view+json": {
       "model_id": "0a9eb43878b54df6986689a1f3890b13",
       "version_major": 2,
       "version_minor": 0
      },
      "text/plain": [
       "  0%|          | 0/1 [00:00<?, ?it/s]"
      ]
     },
     "metadata": {},
     "output_type": "display_data"
    },
    {
     "name": "stderr",
     "output_type": "stream",
     "text": [
      "2023-08-13 16:10:29.732 - llmsearch.utils.mem_utils:179 - INFO - Finished running inference, took 2.871265 secs\n"
     ]
    },
    {
     "data": {
      "text/html": [
       "<style>#sk-container-id-1 {color: black;}#sk-container-id-1 pre{padding: 0;}#sk-container-id-1 div.sk-toggleable {background-color: white;}#sk-container-id-1 label.sk-toggleable__label {cursor: pointer;display: block;width: 100%;margin-bottom: 0;padding: 0.3em;box-sizing: border-box;text-align: center;}#sk-container-id-1 label.sk-toggleable__label-arrow:before {content: \"▸\";float: left;margin-right: 0.25em;color: #696969;}#sk-container-id-1 label.sk-toggleable__label-arrow:hover:before {color: black;}#sk-container-id-1 div.sk-estimator:hover label.sk-toggleable__label-arrow:before {color: black;}#sk-container-id-1 div.sk-toggleable__content {max-height: 0;max-width: 0;overflow: hidden;text-align: left;background-color: #f0f8ff;}#sk-container-id-1 div.sk-toggleable__content pre {margin: 0.2em;color: black;border-radius: 0.25em;background-color: #f0f8ff;}#sk-container-id-1 input.sk-toggleable__control:checked~div.sk-toggleable__content {max-height: 200px;max-width: 100%;overflow: auto;}#sk-container-id-1 input.sk-toggleable__control:checked~label.sk-toggleable__label-arrow:before {content: \"▾\";}#sk-container-id-1 div.sk-estimator input.sk-toggleable__control:checked~label.sk-toggleable__label {background-color: #d4ebff;}#sk-container-id-1 div.sk-label input.sk-toggleable__control:checked~label.sk-toggleable__label {background-color: #d4ebff;}#sk-container-id-1 input.sk-hidden--visually {border: 0;clip: rect(1px 1px 1px 1px);clip: rect(1px, 1px, 1px, 1px);height: 1px;margin: -1px;overflow: hidden;padding: 0;position: absolute;width: 1px;}#sk-container-id-1 div.sk-estimator {font-family: monospace;background-color: #f0f8ff;border: 1px dotted black;border-radius: 0.25em;box-sizing: border-box;margin-bottom: 0.5em;}#sk-container-id-1 div.sk-estimator:hover {background-color: #d4ebff;}#sk-container-id-1 div.sk-parallel-item::after {content: \"\";width: 100%;border-bottom: 1px solid gray;flex-grow: 1;}#sk-container-id-1 div.sk-label:hover label.sk-toggleable__label {background-color: #d4ebff;}#sk-container-id-1 div.sk-serial::before {content: \"\";position: absolute;border-left: 1px solid gray;box-sizing: border-box;top: 0;bottom: 0;left: 50%;z-index: 0;}#sk-container-id-1 div.sk-serial {display: flex;flex-direction: column;align-items: center;background-color: white;padding-right: 0.2em;padding-left: 0.2em;position: relative;}#sk-container-id-1 div.sk-item {position: relative;z-index: 1;}#sk-container-id-1 div.sk-parallel {display: flex;align-items: stretch;justify-content: center;background-color: white;position: relative;}#sk-container-id-1 div.sk-item::before, #sk-container-id-1 div.sk-parallel-item::before {content: \"\";position: absolute;border-left: 1px solid gray;box-sizing: border-box;top: 0;bottom: 0;left: 50%;z-index: -1;}#sk-container-id-1 div.sk-parallel-item {display: flex;flex-direction: column;z-index: 1;position: relative;background-color: white;}#sk-container-id-1 div.sk-parallel-item:first-child::after {align-self: flex-end;width: 50%;}#sk-container-id-1 div.sk-parallel-item:last-child::after {align-self: flex-start;width: 50%;}#sk-container-id-1 div.sk-parallel-item:only-child::after {width: 0;}#sk-container-id-1 div.sk-dashed-wrapped {border: 1px dashed gray;margin: 0 0.4em 0.5em 0.4em;box-sizing: border-box;padding-bottom: 0.4em;background-color: white;}#sk-container-id-1 div.sk-label label {font-family: monospace;font-weight: bold;display: inline-block;line-height: 1.2em;}#sk-container-id-1 div.sk-label-container {text-align: center;}#sk-container-id-1 div.sk-container {/* jupyter's `normalize.less` sets `[hidden] { display: none; }` but bootstrap.min.css set `[hidden] { display: none !important; }` so we also need the `!important` here to be able to override the default hidden behavior on the sphinx rendered scikit-learn.org. See: https://github.com/scikit-learn/scikit-learn/issues/21755 */display: inline-block !important;position: relative;}#sk-container-id-1 div.sk-text-repr-fallback {display: none;}</style><div id=\"sk-container-id-1\" class=\"sk-top-container\"><div class=\"sk-text-repr-fallback\"><pre>RandomizedSearchCV(cv=5,\n",
       "                   estimator=LLMEstimatorWrapper(batch_size=512, device=&#x27;mps&#x27;,\n",
       "                                                 disable_batch_size_cache=False,\n",
       "                                                 do_sample=True,\n",
       "                                                 generation_seed=42,\n",
       "                                                 is_encoder_decoder=True,\n",
       "                                                 is_fitted_=True,\n",
       "                                                 max_new_tokens=120,\n",
       "                                                 model=T5ForConditionalGeneration(\n",
       "  (shared): Embedding(32128, 512)\n",
       "  (encoder): T5Stack(\n",
       "    (embed_tokens): Embedding(32128, 512)\n",
       "    (block): ModuleList(\n",
       "      (0): T5Bloc...\n",
       "                                                        0.10225022502250225,\n",
       "                                                        0.10234023402340235,\n",
       "                                                        0.10243024302430244,\n",
       "                                                        0.10252025202520253,\n",
       "                                                        0.10261026102610261, ...],\n",
       "                                        &#x27;top_k&#x27;: [10, 10, 10, 10, 10, 10, 10,\n",
       "                                                  10, 10, 10, 10, 10, 10, 10,\n",
       "                                                  10, 10, 10, 10, 10, 10, 10,\n",
       "                                                  10, 10, 10, 10, 10, 10, 10,\n",
       "                                                  10, 10, ...],\n",
       "                                        &#x27;top_p&#x27;: [10, 10, 10, 10, 10, 10, 10,\n",
       "                                                  10, 10, 10, 10, 10, 10, 10,\n",
       "                                                  10, 10, 10, 10, 10, 10, 10,\n",
       "                                                  10, 10, 10, 10, 10, 10, 10,\n",
       "                                                  10, 10, ...]},\n",
       "                   random_state=42, scoring=make_scorer(get_rouge_score))</pre><b>In a Jupyter environment, please rerun this cell to show the HTML representation or trust the notebook. <br />On GitHub, the HTML representation is unable to render, please try loading this page with nbviewer.org.</b></div><div class=\"sk-container\" hidden><div class=\"sk-item sk-dashed-wrapped\"><div class=\"sk-label-container\"><div class=\"sk-label sk-toggleable\"><input class=\"sk-toggleable__control sk-hidden--visually\" id=\"sk-estimator-id-1\" type=\"checkbox\" ><label for=\"sk-estimator-id-1\" class=\"sk-toggleable__label sk-toggleable__label-arrow\">RandomizedSearchCV</label><div class=\"sk-toggleable__content\"><pre>RandomizedSearchCV(cv=5,\n",
       "                   estimator=LLMEstimatorWrapper(batch_size=512, device=&#x27;mps&#x27;,\n",
       "                                                 disable_batch_size_cache=False,\n",
       "                                                 do_sample=True,\n",
       "                                                 generation_seed=42,\n",
       "                                                 is_encoder_decoder=True,\n",
       "                                                 is_fitted_=True,\n",
       "                                                 max_new_tokens=120,\n",
       "                                                 model=T5ForConditionalGeneration(\n",
       "  (shared): Embedding(32128, 512)\n",
       "  (encoder): T5Stack(\n",
       "    (embed_tokens): Embedding(32128, 512)\n",
       "    (block): ModuleList(\n",
       "      (0): T5Bloc...\n",
       "                                                        0.10225022502250225,\n",
       "                                                        0.10234023402340235,\n",
       "                                                        0.10243024302430244,\n",
       "                                                        0.10252025202520253,\n",
       "                                                        0.10261026102610261, ...],\n",
       "                                        &#x27;top_k&#x27;: [10, 10, 10, 10, 10, 10, 10,\n",
       "                                                  10, 10, 10, 10, 10, 10, 10,\n",
       "                                                  10, 10, 10, 10, 10, 10, 10,\n",
       "                                                  10, 10, 10, 10, 10, 10, 10,\n",
       "                                                  10, 10, ...],\n",
       "                                        &#x27;top_p&#x27;: [10, 10, 10, 10, 10, 10, 10,\n",
       "                                                  10, 10, 10, 10, 10, 10, 10,\n",
       "                                                  10, 10, 10, 10, 10, 10, 10,\n",
       "                                                  10, 10, 10, 10, 10, 10, 10,\n",
       "                                                  10, 10, ...]},\n",
       "                   random_state=42, scoring=make_scorer(get_rouge_score))</pre></div></div></div><div class=\"sk-parallel\"><div class=\"sk-parallel-item\"><div class=\"sk-item\"><div class=\"sk-label-container\"><div class=\"sk-label sk-toggleable\"><input class=\"sk-toggleable__control sk-hidden--visually\" id=\"sk-estimator-id-2\" type=\"checkbox\" ><label for=\"sk-estimator-id-2\" class=\"sk-toggleable__label sk-toggleable__label-arrow\">estimator: LLMEstimatorWrapper</label><div class=\"sk-toggleable__content\"><pre>LLMEstimatorWrapper(batch_size=512, device=&#x27;mps&#x27;,\n",
       "                    disable_batch_size_cache=False, do_sample=True,\n",
       "                    generation_seed=42, is_encoder_decoder=True,\n",
       "                    is_fitted_=True, max_new_tokens=120,\n",
       "                    model=T5ForConditionalGeneration(\n",
       "  (shared): Embedding(32128, 512)\n",
       "  (encoder): T5Stack(\n",
       "    (embed_tokens): Embedding(32128, 512)\n",
       "    (block): ModuleList(\n",
       "      (0): T5Block(\n",
       "        (layer): ModuleList(\n",
       "          (0): T5LayerSe...\n",
       "                    tokenizer=T5Tokenizer(name_or_path=&#x27;google/flan-t5-small&#x27;, vocab_size=32100, model_max_length=512, is_fast=False, padding_side=&#x27;right&#x27;, truncation_side=&#x27;right&#x27;, special_tokens={&#x27;eos_token&#x27;: &#x27;&lt;/s&gt;&#x27;, &#x27;unk_token&#x27;: &#x27;&lt;unk&gt;&#x27;, &#x27;pad_token&#x27;: &#x27;&lt;pad&gt;&#x27;, &#x27;additional_special_tokens&#x27;: [&#x27;&lt;extra_id_0&gt;&#x27;, &#x27;&lt;extra_id_1&gt;&#x27;, &#x27;&lt;extra_id_2&gt;&#x27;, &#x27;&lt;extra_id_3&gt;&#x27;, &#x27;&lt;extra_id_4&gt;&#x27;, &#x27;&lt;extra_id_5&gt;&#x27;, &#x27;&lt;extra_id_6&gt;&#x27;, &#x27;&lt;extra_id_7&gt;&#x27;, &#x27;&lt;extra_id_8&gt;&#x27;, &#x27;&lt;extra_id_9&gt;&#x27;, &#x27;&lt;extra_id_10&gt;&#x27;, &#x27;&lt;extra_id_11&gt;&#x27;, &#x27;&lt;extra_id_12&gt;&#x27;, &#x27;&lt;extra_id_13&gt;&#x27;, &#x27;&lt;extra_id_14&gt;&#x27;, &#x27;&lt;extra_id_15&gt;&#x27;, &#x27;&lt;extra_id_16&gt;&#x27;, &#x27;&lt;extra_id_17&gt;&#x27;, &#x27;&lt;extra_id_18&gt;&#x27;, &#x27;&lt;extra_id_19&gt;&#x27;, &#x27;&lt;extra_id_20&gt;&#x27;, &#x27;&lt;extra_id_21&gt;&#x27;, &#x27;&lt;extra_id_22&gt;&#x27;, &#x27;&lt;extra_id_23&gt;&#x27;, &#x27;&lt;extra_id_24&gt;&#x27;, &#x27;&lt;extra_id_25&gt;&#x27;, &#x27;&lt;extra_id_26&gt;&#x27;, &#x27;&lt;extra_id_27&gt;&#x27;, &#x27;&lt;extra_id_28&gt;&#x27;, &#x27;&lt;extra_id_29&gt;&#x27;, &#x27;&lt;extra_id_30&gt;&#x27;, &#x27;&lt;extra_id_31&gt;&#x27;, &#x27;&lt;extra_id_32&gt;&#x27;, &#x27;&lt;extra_id_33&gt;&#x27;, &#x27;&lt;extra_id_34&gt;&#x27;, &#x27;&lt;extra_id_35&gt;&#x27;, &#x27;&lt;extra_id_36&gt;&#x27;, &#x27;&lt;extra_id_37&gt;&#x27;, &#x27;&lt;extra_id_38&gt;&#x27;, &#x27;&lt;extra_id_39&gt;&#x27;, &#x27;&lt;extra_id_40&gt;&#x27;, &#x27;&lt;extra_id_41&gt;&#x27;, &#x27;&lt;extra_id_42&gt;&#x27;, &#x27;&lt;extra_id_43&gt;&#x27;, &#x27;&lt;extra_id_44&gt;&#x27;, &#x27;&lt;extra_id_45&gt;&#x27;, &#x27;&lt;extra_id_46&gt;&#x27;, &#x27;&lt;extra_id_47&gt;&#x27;, &#x27;&lt;extra_id_48&gt;&#x27;, &#x27;&lt;extra_id_49&gt;&#x27;, &#x27;&lt;extra_id_50&gt;&#x27;, &#x27;&lt;extra_id_51&gt;&#x27;, &#x27;&lt;extra_id_52&gt;&#x27;, &#x27;&lt;extra_id_53&gt;&#x27;, &#x27;&lt;extra_id_54&gt;&#x27;, &#x27;&lt;extra_id_55&gt;&#x27;, &#x27;&lt;extra_id_56&gt;&#x27;, &#x27;&lt;extra_id_57&gt;&#x27;, &#x27;&lt;extra_id_58&gt;&#x27;, &#x27;&lt;extra_id_59&gt;&#x27;, &#x27;&lt;extra_id_60&gt;&#x27;, &#x27;&lt;extra_id_61&gt;&#x27;, &#x27;&lt;extra_id_62&gt;&#x27;, &#x27;&lt;extra_id_63&gt;&#x27;, &#x27;&lt;extra_id_64&gt;&#x27;, &#x27;&lt;extra_id_65&gt;&#x27;, &#x27;&lt;extra_id_66&gt;&#x27;, &#x27;&lt;extra_id_67&gt;&#x27;, &#x27;&lt;extra_id_68&gt;&#x27;, &#x27;&lt;extra_id_69&gt;&#x27;, &#x27;&lt;extra_id_70&gt;&#x27;, &#x27;&lt;extra_id_71&gt;&#x27;, &#x27;&lt;extra_id_72&gt;&#x27;, &#x27;&lt;extra_id_73&gt;&#x27;, &#x27;&lt;extra_id_74&gt;&#x27;, &#x27;&lt;extra_id_75&gt;&#x27;, &#x27;&lt;extra_id_76&gt;&#x27;, &#x27;&lt;extra_id_77&gt;&#x27;, &#x27;&lt;extra_id_78&gt;&#x27;, &#x27;&lt;extra_id_79&gt;&#x27;, &#x27;&lt;extra_id_80&gt;&#x27;, &#x27;&lt;extra_id_81&gt;&#x27;, &#x27;&lt;extra_id_82&gt;&#x27;, &#x27;&lt;extra_id_83&gt;&#x27;, &#x27;&lt;extra_id_84&gt;&#x27;, &#x27;&lt;extra_id_85&gt;&#x27;, &#x27;&lt;extra_id_86&gt;&#x27;, &#x27;&lt;extra_id_87&gt;&#x27;, &#x27;&lt;extra_id_88&gt;&#x27;, &#x27;&lt;extra_id_89&gt;&#x27;, &#x27;&lt;extra_id_90&gt;&#x27;, &#x27;&lt;extra_id_91&gt;&#x27;, &#x27;&lt;extra_id_92&gt;&#x27;, &#x27;&lt;extra_id_93&gt;&#x27;, &#x27;&lt;extra_id_94&gt;&#x27;, &#x27;&lt;extra_id_95&gt;&#x27;, &#x27;&lt;extra_id_96&gt;&#x27;, &#x27;&lt;extra_id_97&gt;&#x27;, &#x27;&lt;extra_id_98&gt;&#x27;, &#x27;&lt;extra_id_99&gt;&#x27;]}, clean_up_tokenization_spaces=True),\n",
       "                    tokenizer_decoding_kwargs={&#x27;skip_special_tokens&#x27;: True,\n",
       "                                               &#x27;spaces_between_special_tokens&#x27;: False},\n",
       "                    tokenizer_encoding_kwargs={&#x27;max_length&#x27;: 512,\n",
       "                                               &#x27;padding&#x27;: True,\n",
       "                                               &#x27;truncation&#x27;: True},\n",
       "                    top_k=45, top_p=15)</pre></div></div></div><div class=\"sk-serial\"><div class=\"sk-item\"><div class=\"sk-estimator sk-toggleable\"><input class=\"sk-toggleable__control sk-hidden--visually\" id=\"sk-estimator-id-3\" type=\"checkbox\" ><label for=\"sk-estimator-id-3\" class=\"sk-toggleable__label sk-toggleable__label-arrow\">LLMEstimatorWrapper</label><div class=\"sk-toggleable__content\"><pre>LLMEstimatorWrapper(batch_size=512, device=&#x27;mps&#x27;,\n",
       "                    disable_batch_size_cache=False, do_sample=True,\n",
       "                    generation_seed=42, is_encoder_decoder=True,\n",
       "                    is_fitted_=True, max_new_tokens=120,\n",
       "                    model=T5ForConditionalGeneration(\n",
       "  (shared): Embedding(32128, 512)\n",
       "  (encoder): T5Stack(\n",
       "    (embed_tokens): Embedding(32128, 512)\n",
       "    (block): ModuleList(\n",
       "      (0): T5Block(\n",
       "        (layer): ModuleList(\n",
       "          (0): T5LayerSe...\n",
       "                    tokenizer=T5Tokenizer(name_or_path=&#x27;google/flan-t5-small&#x27;, vocab_size=32100, model_max_length=512, is_fast=False, padding_side=&#x27;right&#x27;, truncation_side=&#x27;right&#x27;, special_tokens={&#x27;eos_token&#x27;: &#x27;&lt;/s&gt;&#x27;, &#x27;unk_token&#x27;: &#x27;&lt;unk&gt;&#x27;, &#x27;pad_token&#x27;: &#x27;&lt;pad&gt;&#x27;, &#x27;additional_special_tokens&#x27;: [&#x27;&lt;extra_id_0&gt;&#x27;, &#x27;&lt;extra_id_1&gt;&#x27;, &#x27;&lt;extra_id_2&gt;&#x27;, &#x27;&lt;extra_id_3&gt;&#x27;, &#x27;&lt;extra_id_4&gt;&#x27;, &#x27;&lt;extra_id_5&gt;&#x27;, &#x27;&lt;extra_id_6&gt;&#x27;, &#x27;&lt;extra_id_7&gt;&#x27;, &#x27;&lt;extra_id_8&gt;&#x27;, &#x27;&lt;extra_id_9&gt;&#x27;, &#x27;&lt;extra_id_10&gt;&#x27;, &#x27;&lt;extra_id_11&gt;&#x27;, &#x27;&lt;extra_id_12&gt;&#x27;, &#x27;&lt;extra_id_13&gt;&#x27;, &#x27;&lt;extra_id_14&gt;&#x27;, &#x27;&lt;extra_id_15&gt;&#x27;, &#x27;&lt;extra_id_16&gt;&#x27;, &#x27;&lt;extra_id_17&gt;&#x27;, &#x27;&lt;extra_id_18&gt;&#x27;, &#x27;&lt;extra_id_19&gt;&#x27;, &#x27;&lt;extra_id_20&gt;&#x27;, &#x27;&lt;extra_id_21&gt;&#x27;, &#x27;&lt;extra_id_22&gt;&#x27;, &#x27;&lt;extra_id_23&gt;&#x27;, &#x27;&lt;extra_id_24&gt;&#x27;, &#x27;&lt;extra_id_25&gt;&#x27;, &#x27;&lt;extra_id_26&gt;&#x27;, &#x27;&lt;extra_id_27&gt;&#x27;, &#x27;&lt;extra_id_28&gt;&#x27;, &#x27;&lt;extra_id_29&gt;&#x27;, &#x27;&lt;extra_id_30&gt;&#x27;, &#x27;&lt;extra_id_31&gt;&#x27;, &#x27;&lt;extra_id_32&gt;&#x27;, &#x27;&lt;extra_id_33&gt;&#x27;, &#x27;&lt;extra_id_34&gt;&#x27;, &#x27;&lt;extra_id_35&gt;&#x27;, &#x27;&lt;extra_id_36&gt;&#x27;, &#x27;&lt;extra_id_37&gt;&#x27;, &#x27;&lt;extra_id_38&gt;&#x27;, &#x27;&lt;extra_id_39&gt;&#x27;, &#x27;&lt;extra_id_40&gt;&#x27;, &#x27;&lt;extra_id_41&gt;&#x27;, &#x27;&lt;extra_id_42&gt;&#x27;, &#x27;&lt;extra_id_43&gt;&#x27;, &#x27;&lt;extra_id_44&gt;&#x27;, &#x27;&lt;extra_id_45&gt;&#x27;, &#x27;&lt;extra_id_46&gt;&#x27;, &#x27;&lt;extra_id_47&gt;&#x27;, &#x27;&lt;extra_id_48&gt;&#x27;, &#x27;&lt;extra_id_49&gt;&#x27;, &#x27;&lt;extra_id_50&gt;&#x27;, &#x27;&lt;extra_id_51&gt;&#x27;, &#x27;&lt;extra_id_52&gt;&#x27;, &#x27;&lt;extra_id_53&gt;&#x27;, &#x27;&lt;extra_id_54&gt;&#x27;, &#x27;&lt;extra_id_55&gt;&#x27;, &#x27;&lt;extra_id_56&gt;&#x27;, &#x27;&lt;extra_id_57&gt;&#x27;, &#x27;&lt;extra_id_58&gt;&#x27;, &#x27;&lt;extra_id_59&gt;&#x27;, &#x27;&lt;extra_id_60&gt;&#x27;, &#x27;&lt;extra_id_61&gt;&#x27;, &#x27;&lt;extra_id_62&gt;&#x27;, &#x27;&lt;extra_id_63&gt;&#x27;, &#x27;&lt;extra_id_64&gt;&#x27;, &#x27;&lt;extra_id_65&gt;&#x27;, &#x27;&lt;extra_id_66&gt;&#x27;, &#x27;&lt;extra_id_67&gt;&#x27;, &#x27;&lt;extra_id_68&gt;&#x27;, &#x27;&lt;extra_id_69&gt;&#x27;, &#x27;&lt;extra_id_70&gt;&#x27;, &#x27;&lt;extra_id_71&gt;&#x27;, &#x27;&lt;extra_id_72&gt;&#x27;, &#x27;&lt;extra_id_73&gt;&#x27;, &#x27;&lt;extra_id_74&gt;&#x27;, &#x27;&lt;extra_id_75&gt;&#x27;, &#x27;&lt;extra_id_76&gt;&#x27;, &#x27;&lt;extra_id_77&gt;&#x27;, &#x27;&lt;extra_id_78&gt;&#x27;, &#x27;&lt;extra_id_79&gt;&#x27;, &#x27;&lt;extra_id_80&gt;&#x27;, &#x27;&lt;extra_id_81&gt;&#x27;, &#x27;&lt;extra_id_82&gt;&#x27;, &#x27;&lt;extra_id_83&gt;&#x27;, &#x27;&lt;extra_id_84&gt;&#x27;, &#x27;&lt;extra_id_85&gt;&#x27;, &#x27;&lt;extra_id_86&gt;&#x27;, &#x27;&lt;extra_id_87&gt;&#x27;, &#x27;&lt;extra_id_88&gt;&#x27;, &#x27;&lt;extra_id_89&gt;&#x27;, &#x27;&lt;extra_id_90&gt;&#x27;, &#x27;&lt;extra_id_91&gt;&#x27;, &#x27;&lt;extra_id_92&gt;&#x27;, &#x27;&lt;extra_id_93&gt;&#x27;, &#x27;&lt;extra_id_94&gt;&#x27;, &#x27;&lt;extra_id_95&gt;&#x27;, &#x27;&lt;extra_id_96&gt;&#x27;, &#x27;&lt;extra_id_97&gt;&#x27;, &#x27;&lt;extra_id_98&gt;&#x27;, &#x27;&lt;extra_id_99&gt;&#x27;]}, clean_up_tokenization_spaces=True),\n",
       "                    tokenizer_decoding_kwargs={&#x27;skip_special_tokens&#x27;: True,\n",
       "                                               &#x27;spaces_between_special_tokens&#x27;: False},\n",
       "                    tokenizer_encoding_kwargs={&#x27;max_length&#x27;: 512,\n",
       "                                               &#x27;padding&#x27;: True,\n",
       "                                               &#x27;truncation&#x27;: True},\n",
       "                    top_k=45, top_p=15)</pre></div></div></div></div></div></div></div></div></div></div>"
      ],
      "text/plain": [
       "RandomizedSearchCV(cv=5,\n",
       "                   estimator=LLMEstimatorWrapper(batch_size=512, device='mps',\n",
       "                                                 disable_batch_size_cache=False,\n",
       "                                                 do_sample=True,\n",
       "                                                 generation_seed=42,\n",
       "                                                 is_encoder_decoder=True,\n",
       "                                                 is_fitted_=True,\n",
       "                                                 max_new_tokens=120,\n",
       "                                                 model=T5ForConditionalGeneration(\n",
       "  (shared): Embedding(32128, 512)\n",
       "  (encoder): T5Stack(\n",
       "    (embed_tokens): Embedding(32128, 512)\n",
       "    (block): ModuleList(\n",
       "      (0): T5Bloc...\n",
       "                                                        0.10225022502250225,\n",
       "                                                        0.10234023402340235,\n",
       "                                                        0.10243024302430244,\n",
       "                                                        0.10252025202520253,\n",
       "                                                        0.10261026102610261, ...],\n",
       "                                        'top_k': [10, 10, 10, 10, 10, 10, 10,\n",
       "                                                  10, 10, 10, 10, 10, 10, 10,\n",
       "                                                  10, 10, 10, 10, 10, 10, 10,\n",
       "                                                  10, 10, 10, 10, 10, 10, 10,\n",
       "                                                  10, 10, ...],\n",
       "                                        'top_p': [10, 10, 10, 10, 10, 10, 10,\n",
       "                                                  10, 10, 10, 10, 10, 10, 10,\n",
       "                                                  10, 10, 10, 10, 10, 10, 10,\n",
       "                                                  10, 10, 10, 10, 10, 10, 10,\n",
       "                                                  10, 10, ...]},\n",
       "                   random_state=42, scoring=make_scorer(get_rouge_score))"
      ]
     },
     "execution_count": 14,
     "metadata": {},
     "output_type": "execute_result"
    }
   ],
   "source": [
    "clf.fit(X=tuner_ob.dataset[\"X\"], y=tuner_ob.dataset[\"y\"])"
   ]
  },
  {
   "cell_type": "code",
   "execution_count": 15,
   "id": "8a41bff8",
   "metadata": {},
   "outputs": [
    {
     "data": {
      "text/plain": [
       "{'top_p': 15,\n",
       " 'top_k': 45,\n",
       " 'temperature': 0.5357335733573357,\n",
       " 'max_new_tokens': 120,\n",
       " 'generation_seed': 42,\n",
       " 'do_sample': True}"
      ]
     },
     "execution_count": 15,
     "metadata": {},
     "output_type": "execute_result"
    }
   ],
   "source": [
    "clf.best_params_"
   ]
  },
  {
   "cell_type": "code",
   "execution_count": 24,
   "id": "44e8919f",
   "metadata": {},
   "outputs": [
    {
     "data": {
      "text/html": [
       "<style>#sk-container-id-3 {color: black;}#sk-container-id-3 pre{padding: 0;}#sk-container-id-3 div.sk-toggleable {background-color: white;}#sk-container-id-3 label.sk-toggleable__label {cursor: pointer;display: block;width: 100%;margin-bottom: 0;padding: 0.3em;box-sizing: border-box;text-align: center;}#sk-container-id-3 label.sk-toggleable__label-arrow:before {content: \"▸\";float: left;margin-right: 0.25em;color: #696969;}#sk-container-id-3 label.sk-toggleable__label-arrow:hover:before {color: black;}#sk-container-id-3 div.sk-estimator:hover label.sk-toggleable__label-arrow:before {color: black;}#sk-container-id-3 div.sk-toggleable__content {max-height: 0;max-width: 0;overflow: hidden;text-align: left;background-color: #f0f8ff;}#sk-container-id-3 div.sk-toggleable__content pre {margin: 0.2em;color: black;border-radius: 0.25em;background-color: #f0f8ff;}#sk-container-id-3 input.sk-toggleable__control:checked~div.sk-toggleable__content {max-height: 200px;max-width: 100%;overflow: auto;}#sk-container-id-3 input.sk-toggleable__control:checked~label.sk-toggleable__label-arrow:before {content: \"▾\";}#sk-container-id-3 div.sk-estimator input.sk-toggleable__control:checked~label.sk-toggleable__label {background-color: #d4ebff;}#sk-container-id-3 div.sk-label input.sk-toggleable__control:checked~label.sk-toggleable__label {background-color: #d4ebff;}#sk-container-id-3 input.sk-hidden--visually {border: 0;clip: rect(1px 1px 1px 1px);clip: rect(1px, 1px, 1px, 1px);height: 1px;margin: -1px;overflow: hidden;padding: 0;position: absolute;width: 1px;}#sk-container-id-3 div.sk-estimator {font-family: monospace;background-color: #f0f8ff;border: 1px dotted black;border-radius: 0.25em;box-sizing: border-box;margin-bottom: 0.5em;}#sk-container-id-3 div.sk-estimator:hover {background-color: #d4ebff;}#sk-container-id-3 div.sk-parallel-item::after {content: \"\";width: 100%;border-bottom: 1px solid gray;flex-grow: 1;}#sk-container-id-3 div.sk-label:hover label.sk-toggleable__label {background-color: #d4ebff;}#sk-container-id-3 div.sk-serial::before {content: \"\";position: absolute;border-left: 1px solid gray;box-sizing: border-box;top: 0;bottom: 0;left: 50%;z-index: 0;}#sk-container-id-3 div.sk-serial {display: flex;flex-direction: column;align-items: center;background-color: white;padding-right: 0.2em;padding-left: 0.2em;position: relative;}#sk-container-id-3 div.sk-item {position: relative;z-index: 1;}#sk-container-id-3 div.sk-parallel {display: flex;align-items: stretch;justify-content: center;background-color: white;position: relative;}#sk-container-id-3 div.sk-item::before, #sk-container-id-3 div.sk-parallel-item::before {content: \"\";position: absolute;border-left: 1px solid gray;box-sizing: border-box;top: 0;bottom: 0;left: 50%;z-index: -1;}#sk-container-id-3 div.sk-parallel-item {display: flex;flex-direction: column;z-index: 1;position: relative;background-color: white;}#sk-container-id-3 div.sk-parallel-item:first-child::after {align-self: flex-end;width: 50%;}#sk-container-id-3 div.sk-parallel-item:last-child::after {align-self: flex-start;width: 50%;}#sk-container-id-3 div.sk-parallel-item:only-child::after {width: 0;}#sk-container-id-3 div.sk-dashed-wrapped {border: 1px dashed gray;margin: 0 0.4em 0.5em 0.4em;box-sizing: border-box;padding-bottom: 0.4em;background-color: white;}#sk-container-id-3 div.sk-label label {font-family: monospace;font-weight: bold;display: inline-block;line-height: 1.2em;}#sk-container-id-3 div.sk-label-container {text-align: center;}#sk-container-id-3 div.sk-container {/* jupyter's `normalize.less` sets `[hidden] { display: none; }` but bootstrap.min.css set `[hidden] { display: none !important; }` so we also need the `!important` here to be able to override the default hidden behavior on the sphinx rendered scikit-learn.org. See: https://github.com/scikit-learn/scikit-learn/issues/21755 */display: inline-block !important;position: relative;}#sk-container-id-3 div.sk-text-repr-fallback {display: none;}</style><div id=\"sk-container-id-3\" class=\"sk-top-container\"><div class=\"sk-text-repr-fallback\"><pre>EstimatorWrapper(batch_size=512, device=&#x27;mps&#x27;, disable_batch_size_cache=False,\n",
       "                 do_sample=True, generation_seed=42, is_encoder_decoder=True,\n",
       "                 is_fitted_=True, max_new_tokens=120,\n",
       "                 model=T5ForConditionalGeneration(\n",
       "  (shared): Embedding(32128, 512)\n",
       "  (encoder): T5Stack(\n",
       "    (embed_tokens): Embedding(32128, 512)\n",
       "    (block): ModuleList(\n",
       "      (0): T5Block(\n",
       "        (layer): ModuleList(\n",
       "          (0): T5LayerSelfA...\n",
       "                 tokenizer=T5Tokenizer(name_or_path=&#x27;google/flan-t5-small&#x27;, vocab_size=32100, model_max_length=512, is_fast=False, padding_side=&#x27;right&#x27;, truncation_side=&#x27;right&#x27;, special_tokens={&#x27;eos_token&#x27;: &#x27;&lt;/s&gt;&#x27;, &#x27;unk_token&#x27;: &#x27;&lt;unk&gt;&#x27;, &#x27;pad_token&#x27;: &#x27;&lt;pad&gt;&#x27;, &#x27;additional_special_tokens&#x27;: [&#x27;&lt;extra_id_0&gt;&#x27;, &#x27;&lt;extra_id_1&gt;&#x27;, &#x27;&lt;extra_id_2&gt;&#x27;, &#x27;&lt;extra_id_3&gt;&#x27;, &#x27;&lt;extra_id_4&gt;&#x27;, &#x27;&lt;extra_id_5&gt;&#x27;, &#x27;&lt;extra_id_6&gt;&#x27;, &#x27;&lt;extra_id_7&gt;&#x27;, &#x27;&lt;extra_id_8&gt;&#x27;, &#x27;&lt;extra_id_9&gt;&#x27;, &#x27;&lt;extra_id_10&gt;&#x27;, &#x27;&lt;extra_id_11&gt;&#x27;, &#x27;&lt;extra_id_12&gt;&#x27;, &#x27;&lt;extra_id_13&gt;&#x27;, &#x27;&lt;extra_id_14&gt;&#x27;, &#x27;&lt;extra_id_15&gt;&#x27;, &#x27;&lt;extra_id_16&gt;&#x27;, &#x27;&lt;extra_id_17&gt;&#x27;, &#x27;&lt;extra_id_18&gt;&#x27;, &#x27;&lt;extra_id_19&gt;&#x27;, &#x27;&lt;extra_id_20&gt;&#x27;, &#x27;&lt;extra_id_21&gt;&#x27;, &#x27;&lt;extra_id_22&gt;&#x27;, &#x27;&lt;extra_id_23&gt;&#x27;, &#x27;&lt;extra_id_24&gt;&#x27;, &#x27;&lt;extra_id_25&gt;&#x27;, &#x27;&lt;extra_id_26&gt;&#x27;, &#x27;&lt;extra_id_27&gt;&#x27;, &#x27;&lt;extra_id_28&gt;&#x27;, &#x27;&lt;extra_id_29&gt;&#x27;, &#x27;&lt;extra_id_30&gt;&#x27;, &#x27;&lt;extra_id_31&gt;&#x27;, &#x27;&lt;extra_id_32&gt;&#x27;, &#x27;&lt;extra_id_33&gt;&#x27;, &#x27;&lt;extra_id_34&gt;&#x27;, &#x27;&lt;extra_id_35&gt;&#x27;, &#x27;&lt;extra_id_36&gt;&#x27;, &#x27;&lt;extra_id_37&gt;&#x27;, &#x27;&lt;extra_id_38&gt;&#x27;, &#x27;&lt;extra_id_39&gt;&#x27;, &#x27;&lt;extra_id_40&gt;&#x27;, &#x27;&lt;extra_id_41&gt;&#x27;, &#x27;&lt;extra_id_42&gt;&#x27;, &#x27;&lt;extra_id_43&gt;&#x27;, &#x27;&lt;extra_id_44&gt;&#x27;, &#x27;&lt;extra_id_45&gt;&#x27;, &#x27;&lt;extra_id_46&gt;&#x27;, &#x27;&lt;extra_id_47&gt;&#x27;, &#x27;&lt;extra_id_48&gt;&#x27;, &#x27;&lt;extra_id_49&gt;&#x27;, &#x27;&lt;extra_id_50&gt;&#x27;, &#x27;&lt;extra_id_51&gt;&#x27;, &#x27;&lt;extra_id_52&gt;&#x27;, &#x27;&lt;extra_id_53&gt;&#x27;, &#x27;&lt;extra_id_54&gt;&#x27;, &#x27;&lt;extra_id_55&gt;&#x27;, &#x27;&lt;extra_id_56&gt;&#x27;, &#x27;&lt;extra_id_57&gt;&#x27;, &#x27;&lt;extra_id_58&gt;&#x27;, &#x27;&lt;extra_id_59&gt;&#x27;, &#x27;&lt;extra_id_60&gt;&#x27;, &#x27;&lt;extra_id_61&gt;&#x27;, &#x27;&lt;extra_id_62&gt;&#x27;, &#x27;&lt;extra_id_63&gt;&#x27;, &#x27;&lt;extra_id_64&gt;&#x27;, &#x27;&lt;extra_id_65&gt;&#x27;, &#x27;&lt;extra_id_66&gt;&#x27;, &#x27;&lt;extra_id_67&gt;&#x27;, &#x27;&lt;extra_id_68&gt;&#x27;, &#x27;&lt;extra_id_69&gt;&#x27;, &#x27;&lt;extra_id_70&gt;&#x27;, &#x27;&lt;extra_id_71&gt;&#x27;, &#x27;&lt;extra_id_72&gt;&#x27;, &#x27;&lt;extra_id_73&gt;&#x27;, &#x27;&lt;extra_id_74&gt;&#x27;, &#x27;&lt;extra_id_75&gt;&#x27;, &#x27;&lt;extra_id_76&gt;&#x27;, &#x27;&lt;extra_id_77&gt;&#x27;, &#x27;&lt;extra_id_78&gt;&#x27;, &#x27;&lt;extra_id_79&gt;&#x27;, &#x27;&lt;extra_id_80&gt;&#x27;, &#x27;&lt;extra_id_81&gt;&#x27;, &#x27;&lt;extra_id_82&gt;&#x27;, &#x27;&lt;extra_id_83&gt;&#x27;, &#x27;&lt;extra_id_84&gt;&#x27;, &#x27;&lt;extra_id_85&gt;&#x27;, &#x27;&lt;extra_id_86&gt;&#x27;, &#x27;&lt;extra_id_87&gt;&#x27;, &#x27;&lt;extra_id_88&gt;&#x27;, &#x27;&lt;extra_id_89&gt;&#x27;, &#x27;&lt;extra_id_90&gt;&#x27;, &#x27;&lt;extra_id_91&gt;&#x27;, &#x27;&lt;extra_id_92&gt;&#x27;, &#x27;&lt;extra_id_93&gt;&#x27;, &#x27;&lt;extra_id_94&gt;&#x27;, &#x27;&lt;extra_id_95&gt;&#x27;, &#x27;&lt;extra_id_96&gt;&#x27;, &#x27;&lt;extra_id_97&gt;&#x27;, &#x27;&lt;extra_id_98&gt;&#x27;, &#x27;&lt;extra_id_99&gt;&#x27;]}, clean_up_tokenization_spaces=True),\n",
       "                 tokenizer_decoding_kwargs={&#x27;skip_special_tokens&#x27;: True,\n",
       "                                            &#x27;spaces_between_special_tokens&#x27;: False},\n",
       "                 tokenizer_encoding_kwargs={&#x27;max_length&#x27;: 512, &#x27;padding&#x27;: True,\n",
       "                                            &#x27;truncation&#x27;: True},\n",
       "                 top_k=10, top_p=0.75)</pre><b>In a Jupyter environment, please rerun this cell to show the HTML representation or trust the notebook. <br />On GitHub, the HTML representation is unable to render, please try loading this page with nbviewer.org.</b></div><div class=\"sk-container\" hidden><div class=\"sk-item\"><div class=\"sk-estimator sk-toggleable\"><input class=\"sk-toggleable__control sk-hidden--visually\" id=\"sk-estimator-id-5\" type=\"checkbox\" checked><label for=\"sk-estimator-id-5\" class=\"sk-toggleable__label sk-toggleable__label-arrow\">EstimatorWrapper</label><div class=\"sk-toggleable__content\"><pre>EstimatorWrapper(batch_size=512, device=&#x27;mps&#x27;, disable_batch_size_cache=False,\n",
       "                 do_sample=True, generation_seed=42, is_encoder_decoder=True,\n",
       "                 is_fitted_=True, max_new_tokens=120,\n",
       "                 model=T5ForConditionalGeneration(\n",
       "  (shared): Embedding(32128, 512)\n",
       "  (encoder): T5Stack(\n",
       "    (embed_tokens): Embedding(32128, 512)\n",
       "    (block): ModuleList(\n",
       "      (0): T5Block(\n",
       "        (layer): ModuleList(\n",
       "          (0): T5LayerSelfA...\n",
       "                 tokenizer=T5Tokenizer(name_or_path=&#x27;google/flan-t5-small&#x27;, vocab_size=32100, model_max_length=512, is_fast=False, padding_side=&#x27;right&#x27;, truncation_side=&#x27;right&#x27;, special_tokens={&#x27;eos_token&#x27;: &#x27;&lt;/s&gt;&#x27;, &#x27;unk_token&#x27;: &#x27;&lt;unk&gt;&#x27;, &#x27;pad_token&#x27;: &#x27;&lt;pad&gt;&#x27;, &#x27;additional_special_tokens&#x27;: [&#x27;&lt;extra_id_0&gt;&#x27;, &#x27;&lt;extra_id_1&gt;&#x27;, &#x27;&lt;extra_id_2&gt;&#x27;, &#x27;&lt;extra_id_3&gt;&#x27;, &#x27;&lt;extra_id_4&gt;&#x27;, &#x27;&lt;extra_id_5&gt;&#x27;, &#x27;&lt;extra_id_6&gt;&#x27;, &#x27;&lt;extra_id_7&gt;&#x27;, &#x27;&lt;extra_id_8&gt;&#x27;, &#x27;&lt;extra_id_9&gt;&#x27;, &#x27;&lt;extra_id_10&gt;&#x27;, &#x27;&lt;extra_id_11&gt;&#x27;, &#x27;&lt;extra_id_12&gt;&#x27;, &#x27;&lt;extra_id_13&gt;&#x27;, &#x27;&lt;extra_id_14&gt;&#x27;, &#x27;&lt;extra_id_15&gt;&#x27;, &#x27;&lt;extra_id_16&gt;&#x27;, &#x27;&lt;extra_id_17&gt;&#x27;, &#x27;&lt;extra_id_18&gt;&#x27;, &#x27;&lt;extra_id_19&gt;&#x27;, &#x27;&lt;extra_id_20&gt;&#x27;, &#x27;&lt;extra_id_21&gt;&#x27;, &#x27;&lt;extra_id_22&gt;&#x27;, &#x27;&lt;extra_id_23&gt;&#x27;, &#x27;&lt;extra_id_24&gt;&#x27;, &#x27;&lt;extra_id_25&gt;&#x27;, &#x27;&lt;extra_id_26&gt;&#x27;, &#x27;&lt;extra_id_27&gt;&#x27;, &#x27;&lt;extra_id_28&gt;&#x27;, &#x27;&lt;extra_id_29&gt;&#x27;, &#x27;&lt;extra_id_30&gt;&#x27;, &#x27;&lt;extra_id_31&gt;&#x27;, &#x27;&lt;extra_id_32&gt;&#x27;, &#x27;&lt;extra_id_33&gt;&#x27;, &#x27;&lt;extra_id_34&gt;&#x27;, &#x27;&lt;extra_id_35&gt;&#x27;, &#x27;&lt;extra_id_36&gt;&#x27;, &#x27;&lt;extra_id_37&gt;&#x27;, &#x27;&lt;extra_id_38&gt;&#x27;, &#x27;&lt;extra_id_39&gt;&#x27;, &#x27;&lt;extra_id_40&gt;&#x27;, &#x27;&lt;extra_id_41&gt;&#x27;, &#x27;&lt;extra_id_42&gt;&#x27;, &#x27;&lt;extra_id_43&gt;&#x27;, &#x27;&lt;extra_id_44&gt;&#x27;, &#x27;&lt;extra_id_45&gt;&#x27;, &#x27;&lt;extra_id_46&gt;&#x27;, &#x27;&lt;extra_id_47&gt;&#x27;, &#x27;&lt;extra_id_48&gt;&#x27;, &#x27;&lt;extra_id_49&gt;&#x27;, &#x27;&lt;extra_id_50&gt;&#x27;, &#x27;&lt;extra_id_51&gt;&#x27;, &#x27;&lt;extra_id_52&gt;&#x27;, &#x27;&lt;extra_id_53&gt;&#x27;, &#x27;&lt;extra_id_54&gt;&#x27;, &#x27;&lt;extra_id_55&gt;&#x27;, &#x27;&lt;extra_id_56&gt;&#x27;, &#x27;&lt;extra_id_57&gt;&#x27;, &#x27;&lt;extra_id_58&gt;&#x27;, &#x27;&lt;extra_id_59&gt;&#x27;, &#x27;&lt;extra_id_60&gt;&#x27;, &#x27;&lt;extra_id_61&gt;&#x27;, &#x27;&lt;extra_id_62&gt;&#x27;, &#x27;&lt;extra_id_63&gt;&#x27;, &#x27;&lt;extra_id_64&gt;&#x27;, &#x27;&lt;extra_id_65&gt;&#x27;, &#x27;&lt;extra_id_66&gt;&#x27;, &#x27;&lt;extra_id_67&gt;&#x27;, &#x27;&lt;extra_id_68&gt;&#x27;, &#x27;&lt;extra_id_69&gt;&#x27;, &#x27;&lt;extra_id_70&gt;&#x27;, &#x27;&lt;extra_id_71&gt;&#x27;, &#x27;&lt;extra_id_72&gt;&#x27;, &#x27;&lt;extra_id_73&gt;&#x27;, &#x27;&lt;extra_id_74&gt;&#x27;, &#x27;&lt;extra_id_75&gt;&#x27;, &#x27;&lt;extra_id_76&gt;&#x27;, &#x27;&lt;extra_id_77&gt;&#x27;, &#x27;&lt;extra_id_78&gt;&#x27;, &#x27;&lt;extra_id_79&gt;&#x27;, &#x27;&lt;extra_id_80&gt;&#x27;, &#x27;&lt;extra_id_81&gt;&#x27;, &#x27;&lt;extra_id_82&gt;&#x27;, &#x27;&lt;extra_id_83&gt;&#x27;, &#x27;&lt;extra_id_84&gt;&#x27;, &#x27;&lt;extra_id_85&gt;&#x27;, &#x27;&lt;extra_id_86&gt;&#x27;, &#x27;&lt;extra_id_87&gt;&#x27;, &#x27;&lt;extra_id_88&gt;&#x27;, &#x27;&lt;extra_id_89&gt;&#x27;, &#x27;&lt;extra_id_90&gt;&#x27;, &#x27;&lt;extra_id_91&gt;&#x27;, &#x27;&lt;extra_id_92&gt;&#x27;, &#x27;&lt;extra_id_93&gt;&#x27;, &#x27;&lt;extra_id_94&gt;&#x27;, &#x27;&lt;extra_id_95&gt;&#x27;, &#x27;&lt;extra_id_96&gt;&#x27;, &#x27;&lt;extra_id_97&gt;&#x27;, &#x27;&lt;extra_id_98&gt;&#x27;, &#x27;&lt;extra_id_99&gt;&#x27;]}, clean_up_tokenization_spaces=True),\n",
       "                 tokenizer_decoding_kwargs={&#x27;skip_special_tokens&#x27;: True,\n",
       "                                            &#x27;spaces_between_special_tokens&#x27;: False},\n",
       "                 tokenizer_encoding_kwargs={&#x27;max_length&#x27;: 512, &#x27;padding&#x27;: True,\n",
       "                                            &#x27;truncation&#x27;: True},\n",
       "                 top_k=10, top_p=0.75)</pre></div></div></div></div></div>"
      ],
      "text/plain": [
       "EstimatorWrapper(batch_size=512, device='mps', disable_batch_size_cache=False,\n",
       "                 do_sample=True, generation_seed=42, is_encoder_decoder=True,\n",
       "                 is_fitted_=True, max_new_tokens=120,\n",
       "                 model=T5ForConditionalGeneration(\n",
       "  (shared): Embedding(32128, 512)\n",
       "  (encoder): T5Stack(\n",
       "    (embed_tokens): Embedding(32128, 512)\n",
       "    (block): ModuleList(\n",
       "      (0): T5Block(\n",
       "        (layer): ModuleList(\n",
       "          (0): T5LayerSelfA...\n",
       "                 tokenizer=T5Tokenizer(name_or_path='google/flan-t5-small', vocab_size=32100, model_max_length=512, is_fast=False, padding_side='right', truncation_side='right', special_tokens={'eos_token': '</s>', 'unk_token': '<unk>', 'pad_token': '<pad>', 'additional_special_tokens': ['<extra_id_0>', '<extra_id_1>', '<extra_id_2>', '<extra_id_3>', '<extra_id_4>', '<extra_id_5>', '<extra_id_6>', '<extra_id_7>', '<extra_id_8>', '<extra_id_9>', '<extra_id_10>', '<extra_id_11>', '<extra_id_12>', '<extra_id_13>', '<extra_id_14>', '<extra_id_15>', '<extra_id_16>', '<extra_id_17>', '<extra_id_18>', '<extra_id_19>', '<extra_id_20>', '<extra_id_21>', '<extra_id_22>', '<extra_id_23>', '<extra_id_24>', '<extra_id_25>', '<extra_id_26>', '<extra_id_27>', '<extra_id_28>', '<extra_id_29>', '<extra_id_30>', '<extra_id_31>', '<extra_id_32>', '<extra_id_33>', '<extra_id_34>', '<extra_id_35>', '<extra_id_36>', '<extra_id_37>', '<extra_id_38>', '<extra_id_39>', '<extra_id_40>', '<extra_id_41>', '<extra_id_42>', '<extra_id_43>', '<extra_id_44>', '<extra_id_45>', '<extra_id_46>', '<extra_id_47>', '<extra_id_48>', '<extra_id_49>', '<extra_id_50>', '<extra_id_51>', '<extra_id_52>', '<extra_id_53>', '<extra_id_54>', '<extra_id_55>', '<extra_id_56>', '<extra_id_57>', '<extra_id_58>', '<extra_id_59>', '<extra_id_60>', '<extra_id_61>', '<extra_id_62>', '<extra_id_63>', '<extra_id_64>', '<extra_id_65>', '<extra_id_66>', '<extra_id_67>', '<extra_id_68>', '<extra_id_69>', '<extra_id_70>', '<extra_id_71>', '<extra_id_72>', '<extra_id_73>', '<extra_id_74>', '<extra_id_75>', '<extra_id_76>', '<extra_id_77>', '<extra_id_78>', '<extra_id_79>', '<extra_id_80>', '<extra_id_81>', '<extra_id_82>', '<extra_id_83>', '<extra_id_84>', '<extra_id_85>', '<extra_id_86>', '<extra_id_87>', '<extra_id_88>', '<extra_id_89>', '<extra_id_90>', '<extra_id_91>', '<extra_id_92>', '<extra_id_93>', '<extra_id_94>', '<extra_id_95>', '<extra_id_96>', '<extra_id_97>', '<extra_id_98>', '<extra_id_99>']}, clean_up_tokenization_spaces=True),\n",
       "                 tokenizer_decoding_kwargs={'skip_special_tokens': True,\n",
       "                                            'spaces_between_special_tokens': False},\n",
       "                 tokenizer_encoding_kwargs={'max_length': 512, 'padding': True,\n",
       "                                            'truncation': True},\n",
       "                 top_k=10, top_p=0.75)"
      ]
     },
     "execution_count": 24,
     "metadata": {},
     "output_type": "execute_result"
    }
   ],
   "source": [
    "clf.best_estimator_"
   ]
  },
  {
   "cell_type": "code",
   "execution_count": 25,
   "id": "c08e1269",
   "metadata": {
    "scrolled": true
   },
   "outputs": [
    {
     "data": {
      "text/plain": [
       "{'model': T5ForConditionalGeneration(\n",
       "   (shared): Embedding(32128, 512)\n",
       "   (encoder): T5Stack(\n",
       "     (embed_tokens): Embedding(32128, 512)\n",
       "     (block): ModuleList(\n",
       "       (0): T5Block(\n",
       "         (layer): ModuleList(\n",
       "           (0): T5LayerSelfAttention(\n",
       "             (SelfAttention): T5Attention(\n",
       "               (q): Linear(in_features=512, out_features=384, bias=False)\n",
       "               (k): Linear(in_features=512, out_features=384, bias=False)\n",
       "               (v): Linear(in_features=512, out_features=384, bias=False)\n",
       "               (o): Linear(in_features=384, out_features=512, bias=False)\n",
       "               (relative_attention_bias): Embedding(32, 6)\n",
       "             )\n",
       "             (layer_norm): T5LayerNorm()\n",
       "             (dropout): Dropout(p=0.1, inplace=False)\n",
       "           )\n",
       "           (1): T5LayerFF(\n",
       "             (DenseReluDense): T5DenseGatedActDense(\n",
       "               (wi_0): Linear(in_features=512, out_features=1024, bias=False)\n",
       "               (wi_1): Linear(in_features=512, out_features=1024, bias=False)\n",
       "               (wo): Linear(in_features=1024, out_features=512, bias=False)\n",
       "               (dropout): Dropout(p=0.1, inplace=False)\n",
       "               (act): NewGELUActivation()\n",
       "             )\n",
       "             (layer_norm): T5LayerNorm()\n",
       "             (dropout): Dropout(p=0.1, inplace=False)\n",
       "           )\n",
       "         )\n",
       "       )\n",
       "       (1-7): 7 x T5Block(\n",
       "         (layer): ModuleList(\n",
       "           (0): T5LayerSelfAttention(\n",
       "             (SelfAttention): T5Attention(\n",
       "               (q): Linear(in_features=512, out_features=384, bias=False)\n",
       "               (k): Linear(in_features=512, out_features=384, bias=False)\n",
       "               (v): Linear(in_features=512, out_features=384, bias=False)\n",
       "               (o): Linear(in_features=384, out_features=512, bias=False)\n",
       "             )\n",
       "             (layer_norm): T5LayerNorm()\n",
       "             (dropout): Dropout(p=0.1, inplace=False)\n",
       "           )\n",
       "           (1): T5LayerFF(\n",
       "             (DenseReluDense): T5DenseGatedActDense(\n",
       "               (wi_0): Linear(in_features=512, out_features=1024, bias=False)\n",
       "               (wi_1): Linear(in_features=512, out_features=1024, bias=False)\n",
       "               (wo): Linear(in_features=1024, out_features=512, bias=False)\n",
       "               (dropout): Dropout(p=0.1, inplace=False)\n",
       "               (act): NewGELUActivation()\n",
       "             )\n",
       "             (layer_norm): T5LayerNorm()\n",
       "             (dropout): Dropout(p=0.1, inplace=False)\n",
       "           )\n",
       "         )\n",
       "       )\n",
       "     )\n",
       "     (final_layer_norm): T5LayerNorm()\n",
       "     (dropout): Dropout(p=0.1, inplace=False)\n",
       "   )\n",
       "   (decoder): T5Stack(\n",
       "     (embed_tokens): Embedding(32128, 512)\n",
       "     (block): ModuleList(\n",
       "       (0): T5Block(\n",
       "         (layer): ModuleList(\n",
       "           (0): T5LayerSelfAttention(\n",
       "             (SelfAttention): T5Attention(\n",
       "               (q): Linear(in_features=512, out_features=384, bias=False)\n",
       "               (k): Linear(in_features=512, out_features=384, bias=False)\n",
       "               (v): Linear(in_features=512, out_features=384, bias=False)\n",
       "               (o): Linear(in_features=384, out_features=512, bias=False)\n",
       "               (relative_attention_bias): Embedding(32, 6)\n",
       "             )\n",
       "             (layer_norm): T5LayerNorm()\n",
       "             (dropout): Dropout(p=0.1, inplace=False)\n",
       "           )\n",
       "           (1): T5LayerCrossAttention(\n",
       "             (EncDecAttention): T5Attention(\n",
       "               (q): Linear(in_features=512, out_features=384, bias=False)\n",
       "               (k): Linear(in_features=512, out_features=384, bias=False)\n",
       "               (v): Linear(in_features=512, out_features=384, bias=False)\n",
       "               (o): Linear(in_features=384, out_features=512, bias=False)\n",
       "             )\n",
       "             (layer_norm): T5LayerNorm()\n",
       "             (dropout): Dropout(p=0.1, inplace=False)\n",
       "           )\n",
       "           (2): T5LayerFF(\n",
       "             (DenseReluDense): T5DenseGatedActDense(\n",
       "               (wi_0): Linear(in_features=512, out_features=1024, bias=False)\n",
       "               (wi_1): Linear(in_features=512, out_features=1024, bias=False)\n",
       "               (wo): Linear(in_features=1024, out_features=512, bias=False)\n",
       "               (dropout): Dropout(p=0.1, inplace=False)\n",
       "               (act): NewGELUActivation()\n",
       "             )\n",
       "             (layer_norm): T5LayerNorm()\n",
       "             (dropout): Dropout(p=0.1, inplace=False)\n",
       "           )\n",
       "         )\n",
       "       )\n",
       "       (1-7): 7 x T5Block(\n",
       "         (layer): ModuleList(\n",
       "           (0): T5LayerSelfAttention(\n",
       "             (SelfAttention): T5Attention(\n",
       "               (q): Linear(in_features=512, out_features=384, bias=False)\n",
       "               (k): Linear(in_features=512, out_features=384, bias=False)\n",
       "               (v): Linear(in_features=512, out_features=384, bias=False)\n",
       "               (o): Linear(in_features=384, out_features=512, bias=False)\n",
       "             )\n",
       "             (layer_norm): T5LayerNorm()\n",
       "             (dropout): Dropout(p=0.1, inplace=False)\n",
       "           )\n",
       "           (1): T5LayerCrossAttention(\n",
       "             (EncDecAttention): T5Attention(\n",
       "               (q): Linear(in_features=512, out_features=384, bias=False)\n",
       "               (k): Linear(in_features=512, out_features=384, bias=False)\n",
       "               (v): Linear(in_features=512, out_features=384, bias=False)\n",
       "               (o): Linear(in_features=384, out_features=512, bias=False)\n",
       "             )\n",
       "             (layer_norm): T5LayerNorm()\n",
       "             (dropout): Dropout(p=0.1, inplace=False)\n",
       "           )\n",
       "           (2): T5LayerFF(\n",
       "             (DenseReluDense): T5DenseGatedActDense(\n",
       "               (wi_0): Linear(in_features=512, out_features=1024, bias=False)\n",
       "               (wi_1): Linear(in_features=512, out_features=1024, bias=False)\n",
       "               (wo): Linear(in_features=1024, out_features=512, bias=False)\n",
       "               (dropout): Dropout(p=0.1, inplace=False)\n",
       "               (act): NewGELUActivation()\n",
       "             )\n",
       "             (layer_norm): T5LayerNorm()\n",
       "             (dropout): Dropout(p=0.1, inplace=False)\n",
       "           )\n",
       "         )\n",
       "       )\n",
       "     )\n",
       "     (final_layer_norm): T5LayerNorm()\n",
       "     (dropout): Dropout(p=0.1, inplace=False)\n",
       "   )\n",
       "   (lm_head): Linear(in_features=512, out_features=32128, bias=False)\n",
       " ),\n",
       " 'tokenizer': T5Tokenizer(name_or_path='google/flan-t5-small', vocab_size=32100, model_max_length=512, is_fast=False, padding_side='right', truncation_side='right', special_tokens={'eos_token': '</s>', 'unk_token': '<unk>', 'pad_token': '<pad>', 'additional_special_tokens': ['<extra_id_0>', '<extra_id_1>', '<extra_id_2>', '<extra_id_3>', '<extra_id_4>', '<extra_id_5>', '<extra_id_6>', '<extra_id_7>', '<extra_id_8>', '<extra_id_9>', '<extra_id_10>', '<extra_id_11>', '<extra_id_12>', '<extra_id_13>', '<extra_id_14>', '<extra_id_15>', '<extra_id_16>', '<extra_id_17>', '<extra_id_18>', '<extra_id_19>', '<extra_id_20>', '<extra_id_21>', '<extra_id_22>', '<extra_id_23>', '<extra_id_24>', '<extra_id_25>', '<extra_id_26>', '<extra_id_27>', '<extra_id_28>', '<extra_id_29>', '<extra_id_30>', '<extra_id_31>', '<extra_id_32>', '<extra_id_33>', '<extra_id_34>', '<extra_id_35>', '<extra_id_36>', '<extra_id_37>', '<extra_id_38>', '<extra_id_39>', '<extra_id_40>', '<extra_id_41>', '<extra_id_42>', '<extra_id_43>', '<extra_id_44>', '<extra_id_45>', '<extra_id_46>', '<extra_id_47>', '<extra_id_48>', '<extra_id_49>', '<extra_id_50>', '<extra_id_51>', '<extra_id_52>', '<extra_id_53>', '<extra_id_54>', '<extra_id_55>', '<extra_id_56>', '<extra_id_57>', '<extra_id_58>', '<extra_id_59>', '<extra_id_60>', '<extra_id_61>', '<extra_id_62>', '<extra_id_63>', '<extra_id_64>', '<extra_id_65>', '<extra_id_66>', '<extra_id_67>', '<extra_id_68>', '<extra_id_69>', '<extra_id_70>', '<extra_id_71>', '<extra_id_72>', '<extra_id_73>', '<extra_id_74>', '<extra_id_75>', '<extra_id_76>', '<extra_id_77>', '<extra_id_78>', '<extra_id_79>', '<extra_id_80>', '<extra_id_81>', '<extra_id_82>', '<extra_id_83>', '<extra_id_84>', '<extra_id_85>', '<extra_id_86>', '<extra_id_87>', '<extra_id_88>', '<extra_id_89>', '<extra_id_90>', '<extra_id_91>', '<extra_id_92>', '<extra_id_93>', '<extra_id_94>', '<extra_id_95>', '<extra_id_96>', '<extra_id_97>', '<extra_id_98>', '<extra_id_99>']}, clean_up_tokenization_spaces=True),\n",
       " 'is_encoder_decoder': True,\n",
       " 'device': 'mps',\n",
       " 'scorer': make_scorer(get_rouge_score),\n",
       " 'batch_size': 512,\n",
       " 'disable_batch_size_cache': False,\n",
       " 'tokenizer_encoding_kwargs': {'padding': True,\n",
       "  'truncation': True,\n",
       "  'max_length': 512},\n",
       " 'tokenizer_decoding_kwargs': {'skip_special_tokens': True,\n",
       "  'spaces_between_special_tokens': False},\n",
       " 'pred_function': None,\n",
       " 'top_p': 0.8,\n",
       " 'top_k': 10,\n",
       " 'temperature': 0.4,\n",
       " 'repetition_penalty': 1.0,\n",
       " 'no_repeat_ngram_size': 3,\n",
       " 'max_new_tokens': 120,\n",
       " 'generation_seed': 42,\n",
       " 'do_sample': True,\n",
       " 'is_fitted_': True,\n",
       " 'optimal_batch_size': 512}"
      ]
     },
     "execution_count": 25,
     "metadata": {},
     "output_type": "execute_result"
    }
   ],
   "source": [
    "clf.best_estimator_.set_params(**clf.best_params_).get_params()\n"
   ]
  },
  {
   "cell_type": "code",
   "execution_count": null,
   "id": "ab11bd03",
   "metadata": {},
   "outputs": [],
   "source": [
    "clf.fi"
   ]
  },
  {
   "cell_type": "code",
   "execution_count": null,
   "id": "b1c02681",
   "metadata": {},
   "outputs": [],
   "source": [
    "from sklearn.base import clone\n",
    "\n",
    "clone(1)"
   ]
  },
  {
   "cell_type": "code",
   "execution_count": null,
   "id": "1ee361ae",
   "metadata": {},
   "outputs": [],
   "source": [
    "dir(clf)"
   ]
  },
  {
   "cell_type": "code",
   "execution_count": null,
   "id": "2a846cf7",
   "metadata": {},
   "outputs": [],
   "source": [
    "clf.best_estimator_.get_params()"
   ]
  },
  {
   "cell_type": "code",
   "execution_count": null,
   "id": "b37d9506",
   "metadata": {},
   "outputs": [],
   "source": [
    "clf.best_estimator_.get_params()"
   ]
  },
  {
   "cell_type": "code",
   "execution_count": null,
   "id": "df84c170",
   "metadata": {},
   "outputs": [],
   "source": [
    "clf.cv_results_"
   ]
  },
  {
   "cell_type": "code",
   "execution_count": null,
   "id": "a9f27049",
   "metadata": {},
   "outputs": [],
   "source": [
    "clf.best_estimator_.get_params()"
   ]
  }
 ],
 "metadata": {
  "kernelspec": {
   "display_name": "Python 3 (ipykernel)",
   "language": "python",
   "name": "python3"
  },
  "language_info": {
   "codemirror_mode": {
    "name": "ipython",
    "version": 3
   },
   "file_extension": ".py",
   "mimetype": "text/x-python",
   "name": "python",
   "nbconvert_exporter": "python",
   "pygments_lexer": "ipython3",
   "version": "3.8.10"
  }
 },
 "nbformat": 4,
 "nbformat_minor": 5
}
